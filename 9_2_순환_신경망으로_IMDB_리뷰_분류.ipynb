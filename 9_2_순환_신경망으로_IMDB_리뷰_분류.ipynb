{
  "nbformat": 4,
  "nbformat_minor": 0,
  "metadata": {
    "colab": {
      "provenance": [],
      "authorship_tag": "ABX9TyP9hENkoGfmeRFJttiV1ZJQ"
    },
    "kernelspec": {
      "name": "python3",
      "display_name": "Python 3"
    },
    "language_info": {
      "name": "python"
    }
  },
  "cells": [
    {
      "cell_type": "markdown",
      "source": [
        "# 9-2 순환 신경망으로 IMDB 리뷰 분류"
      ],
      "metadata": {
        "id": "5vaIXRG4pgUc"
      }
    },
    {
      "cell_type": "code",
      "execution_count": 2,
      "metadata": {
        "id": "3bF9uI_MpLMd"
      },
      "outputs": [],
      "source": [
        "from tensorflow.keras.datasets import imdb\n",
        "\n",
        "(train_input, train_target), (test_input, test_target) = imdb.load_data(num_words=500)"
      ]
    },
    {
      "cell_type": "code",
      "source": [
        "print(train_input.shape, test_input.shape)"
      ],
      "metadata": {
        "colab": {
          "base_uri": "https://localhost:8080/"
        },
        "id": "0kIvjlk-pmYH",
        "outputId": "c23636aa-d5a6-4fc6-a2ed-52ab3a51d52b"
      },
      "execution_count": 3,
      "outputs": [
        {
          "output_type": "stream",
          "name": "stdout",
          "text": [
            "(25000,) (25000,)\n"
          ]
        }
      ]
    },
    {
      "cell_type": "code",
      "source": [
        "print(len(train_input[0]))"
      ],
      "metadata": {
        "colab": {
          "base_uri": "https://localhost:8080/"
        },
        "id": "dnP2JFrfp0n5",
        "outputId": "3252e232-ae8e-454d-9aac-5eaaaa20ffc4"
      },
      "execution_count": 4,
      "outputs": [
        {
          "output_type": "stream",
          "name": "stdout",
          "text": [
            "218\n"
          ]
        }
      ]
    },
    {
      "cell_type": "code",
      "source": [
        "print(len(train_input[1]))"
      ],
      "metadata": {
        "colab": {
          "base_uri": "https://localhost:8080/"
        },
        "id": "peET7dxrp3v9",
        "outputId": "49604153-a70f-4d71-b55a-5c947e5c5c48"
      },
      "execution_count": 5,
      "outputs": [
        {
          "output_type": "stream",
          "name": "stdout",
          "text": [
            "189\n"
          ]
        }
      ]
    },
    {
      "cell_type": "code",
      "source": [
        "print(train_input[0])"
      ],
      "metadata": {
        "colab": {
          "base_uri": "https://localhost:8080/"
        },
        "id": "iISEjRqIp7jp",
        "outputId": "98da461c-7b33-4fda-a6be-5d215582ccc3"
      },
      "execution_count": 6,
      "outputs": [
        {
          "output_type": "stream",
          "name": "stdout",
          "text": [
            "[1, 14, 22, 16, 43, 2, 2, 2, 2, 65, 458, 2, 66, 2, 4, 173, 36, 256, 5, 25, 100, 43, 2, 112, 50, 2, 2, 9, 35, 480, 284, 5, 150, 4, 172, 112, 167, 2, 336, 385, 39, 4, 172, 2, 2, 17, 2, 38, 13, 447, 4, 192, 50, 16, 6, 147, 2, 19, 14, 22, 4, 2, 2, 469, 4, 22, 71, 87, 12, 16, 43, 2, 38, 76, 15, 13, 2, 4, 22, 17, 2, 17, 12, 16, 2, 18, 2, 5, 62, 386, 12, 8, 316, 8, 106, 5, 4, 2, 2, 16, 480, 66, 2, 33, 4, 130, 12, 16, 38, 2, 5, 25, 124, 51, 36, 135, 48, 25, 2, 33, 6, 22, 12, 215, 28, 77, 52, 5, 14, 407, 16, 82, 2, 8, 4, 107, 117, 2, 15, 256, 4, 2, 7, 2, 5, 2, 36, 71, 43, 2, 476, 26, 400, 317, 46, 7, 4, 2, 2, 13, 104, 88, 4, 381, 15, 297, 98, 32, 2, 56, 26, 141, 6, 194, 2, 18, 4, 226, 22, 21, 134, 476, 26, 480, 5, 144, 30, 2, 18, 51, 36, 28, 224, 92, 25, 104, 4, 226, 65, 16, 38, 2, 88, 12, 16, 283, 5, 16, 2, 113, 103, 32, 15, 16, 2, 19, 178, 32]\n"
          ]
        }
      ]
    },
    {
      "cell_type": "code",
      "source": [
        "print(train_target[:20])"
      ],
      "metadata": {
        "colab": {
          "base_uri": "https://localhost:8080/"
        },
        "id": "UpXqYfbKqBib",
        "outputId": "808af87f-be44-4674-ecf7-1f5cdd659cbb"
      },
      "execution_count": 7,
      "outputs": [
        {
          "output_type": "stream",
          "name": "stdout",
          "text": [
            "[1 0 0 1 0 0 1 0 1 0 1 0 0 0 0 0 1 1 0 1]\n"
          ]
        }
      ]
    },
    {
      "cell_type": "code",
      "source": [
        "from sklearn.model_selection import train_test_split\n",
        "\n",
        "train_input, val_input, train_target, val_target = train_test_split(train_input, train_target, test_size=0.2, random_state=42)"
      ],
      "metadata": {
        "id": "WwbIoMcTqEsb"
      },
      "execution_count": 8,
      "outputs": []
    },
    {
      "cell_type": "code",
      "source": [
        "import numpy as np\n",
        "\n",
        "lengths = np.array([len(x) for x in train_input])"
      ],
      "metadata": {
        "id": "eWjgmLl5qQED"
      },
      "execution_count": 9,
      "outputs": []
    },
    {
      "cell_type": "code",
      "source": [
        "print(np.mean(lengths), np.median(lengths))"
      ],
      "metadata": {
        "colab": {
          "base_uri": "https://localhost:8080/"
        },
        "id": "P4lPUq4IqXz8",
        "outputId": "5671010d-436c-4f3c-8397-497308652731"
      },
      "execution_count": 10,
      "outputs": [
        {
          "output_type": "stream",
          "name": "stdout",
          "text": [
            "239.00925 178.0\n"
          ]
        }
      ]
    },
    {
      "cell_type": "code",
      "source": [
        "import matplotlib.pyplot as plt\n",
        "\n",
        "plt.hist(lengths)\n",
        "plt.xlabel('length')\n",
        "plt.ylabel('frequency')\n",
        "plt.show()"
      ],
      "metadata": {
        "colab": {
          "base_uri": "https://localhost:8080/",
          "height": 449
        },
        "id": "lBCcXvZUqc_C",
        "outputId": "fcb2d8b9-5d37-49ef-8db8-f3226966e4c2"
      },
      "execution_count": 11,
      "outputs": [
        {
          "output_type": "display_data",
          "data": {
            "text/plain": [
              "<Figure size 640x480 with 1 Axes>"
            ],
            "image/png": "[encoded data removed]"
          },
          "metadata": {}
        }
      ]
    },
    {
      "cell_type": "code",
      "source": [
        "from tensorflow.keras.preprocessing.sequence import pad_sequences\n",
        "\n",
        "train_seq = pad_sequences(train_input, maxlen=100)"
      ],
      "metadata": {
        "id": "USnStgVNqstO"
      },
      "execution_count": 12,
      "outputs": []
    },
    {
      "cell_type": "code",
      "source": [
        "print(train_seq.shape)"
      ],
      "metadata": {
        "colab": {
          "base_uri": "https://localhost:8080/"
        },
        "id": "B6pxBEIeq0K2",
        "outputId": "b34dbbd5-f9e7-4ec4-8c1d-1198c776e954"
      },
      "execution_count": 13,
      "outputs": [
        {
          "output_type": "stream",
          "name": "stdout",
          "text": [
            "(20000, 100)\n"
          ]
        }
      ]
    },
    {
      "cell_type": "code",
      "source": [
        "print(train_seq[0])"
      ],
      "metadata": {
        "colab": {
          "base_uri": "https://localhost:8080/"
        },
        "id": "6QC0U18Xq7GG",
        "outputId": "0f154437-8548-4252-fdbd-7e6e0f45c6a9"
      },
      "execution_count": 14,
      "outputs": [
        {
          "output_type": "stream",
          "name": "stdout",
          "text": [
            "[ 10   4  20   9   2 364 352   5  45   6   2   2  33 269   8   2 142   2\n",
            "   5   2  17  73  17 204   5   2  19  55   2   2  92  66 104  14  20  93\n",
            "  76   2 151  33   4  58  12 188   2 151  12 215  69 224 142  73 237   6\n",
            "   2   7   2   2 188   2 103  14  31  10  10 451   7   2   5   2  80  91\n",
            "   2  30   2  34  14  20 151  50  26 131  49   2  84  46  50  37  80  79\n",
            "   6   2  46   7  14  20  10  10 470 158]\n"
          ]
        }
      ]
    },
    {
      "cell_type": "code",
      "source": [
        "print(train_input[0][-10:])"
      ],
      "metadata": {
        "colab": {
          "base_uri": "https://localhost:8080/"
        },
        "id": "pLX7FO-0q-IW",
        "outputId": "7339c851-0289-4665-afe7-678fe70dc7fb"
      },
      "execution_count": 15,
      "outputs": [
        {
          "output_type": "stream",
          "name": "stdout",
          "text": [
            "[6, 2, 46, 7, 14, 20, 10, 10, 470, 158]\n"
          ]
        }
      ]
    },
    {
      "cell_type": "code",
      "source": [
        "print(train_seq[5])"
      ],
      "metadata": {
        "colab": {
          "base_uri": "https://localhost:8080/"
        },
        "id": "JjZr1VshrDqE",
        "outputId": "9fea3ac0-a59a-4871-c310-9c631a9f4451"
      },
      "execution_count": 16,
      "outputs": [
        {
          "output_type": "stream",
          "name": "stdout",
          "text": [
            "[  0   0   0   0   1   2 195  19  49   2   2 190   4   2 352   2 183  10\n",
            "  10  13  82  79   4   2  36  71 269   8   2  25  19  49   7   4   2   2\n",
            "   2   2   2  10  10  48  25  40   2  11   2   2  40   2   2   5   4   2\n",
            "   2  95  14 238  56 129   2  10  10  21   2  94 364 352   2   2  11 190\n",
            "  24 484   2   7  94 205 405  10  10  87   2  34  49   2   7   2   2   2\n",
            "   2   2 290   2  46  48  64  18   4   2]\n"
          ]
        }
      ]
    },
    {
      "cell_type": "code",
      "source": [
        "val_seq = pad_sequences(val_input, maxlen=100)"
      ],
      "metadata": {
        "id": "4YaYNE4prGpW"
      },
      "execution_count": 17,
      "outputs": []
    },
    {
      "cell_type": "code",
      "source": [
        "from tensorflow import keras\n",
        "\n",
        "model = keras.Sequential()\n",
        "model.add(keras.layers.SimpleRNN(8, input_shape=(100, 500)))\n",
        "model.add(keras.layers.Dense(1, activation='sigmoid'))"
      ],
      "metadata": {
        "id": "Xc5iZ5DTrLYj"
      },
      "execution_count": 18,
      "outputs": []
    },
    {
      "cell_type": "code",
      "source": [
        "train_oh = keras.utils.to_categorical(train_seq)"
      ],
      "metadata": {
        "id": "zdUy1bLorX3h"
      },
      "execution_count": 19,
      "outputs": []
    },
    {
      "cell_type": "code",
      "source": [
        "print(train_oh.shape)"
      ],
      "metadata": {
        "colab": {
          "base_uri": "https://localhost:8080/"
        },
        "id": "uAv62oRErb-G",
        "outputId": "f2077d3d-ae24-4a35-b5cf-a8c1354b2a11"
      },
      "execution_count": 20,
      "outputs": [
        {
          "output_type": "stream",
          "name": "stdout",
          "text": [
            "(20000, 100, 500)\n"
          ]
        }
      ]
    },
    {
      "cell_type": "code",
      "source": [
        "print(train_oh[0][0][:12])"
      ],
      "metadata": {
        "colab": {
          "base_uri": "https://localhost:8080/"
        },
        "id": "Y9C-eiVRrfFE",
        "outputId": "9f781a24-69d6-430c-8f78-ced299230311"
      },
      "execution_count": 21,
      "outputs": [
        {
          "output_type": "stream",
          "name": "stdout",
          "text": [
            "[0. 0. 0. 0. 0. 0. 0. 0. 0. 0. 1. 0.]\n"
          ]
        }
      ]
    },
    {
      "cell_type": "code",
      "source": [
        "print(np.sum(train_oh[0][0]))"
      ],
      "metadata": {
        "colab": {
          "base_uri": "https://localhost:8080/"
        },
        "id": "7hNNm69Srk90",
        "outputId": "5ed5a1a9-5395-41c5-e68b-d85d596206e0"
      },
      "execution_count": 22,
      "outputs": [
        {
          "output_type": "stream",
          "name": "stdout",
          "text": [
            "1.0\n"
          ]
        }
      ]
    },
    {
      "cell_type": "code",
      "source": [
        "val_oh = keras.utils.to_categorical(val_seq)"
      ],
      "metadata": {
        "id": "xJq7ztQWrpjg"
      },
      "execution_count": 23,
      "outputs": []
    },
    {
      "cell_type": "code",
      "source": [
        "model.summary()"
      ],
      "metadata": {
        "colab": {
          "base_uri": "https://localhost:8080/"
        },
        "id": "WAy2eTMFrt5f",
        "outputId": "04875455-b977-411a-ac9b-cf574800e87d"
      },
      "execution_count": 24,
      "outputs": [
        {
          "output_type": "stream",
          "name": "stdout",
          "text": [
            "Model: \"sequential\"\n",
            "_________________________________________________________________\n",
            " Layer (type)                Output Shape              Param #   \n",
            "=================================================================\n",
            " simple_rnn (SimpleRNN)      (None, 8)                 4072      \n",
            "                                                                 \n",
            " dense (Dense)               (None, 1)                 9         \n",
            "                                                                 \n",
            "=================================================================\n",
            "Total params: 4,081\n",
            "Trainable params: 4,081\n",
            "Non-trainable params: 0\n",
            "_________________________________________________________________\n"
          ]
        }
      ]
    },
    {
      "cell_type": "code",
      "source": [
        "rmsprop = keras.optimizers.RMSprop(learning_rate=1e-4)\n",
        "model.compile(optimizer=rmsprop, loss='binary_crossentropy', metrics=['accuracy'])\n",
        "checkpoint_cb = keras.callbacks.ModelCheckpoint('best-simplernn-model.h5', save_best_only=True)\n",
        "early_stopping_cb = keras.callbacks.EarlyStopping(patience=3, restore_best_weights=True)\n",
        "history = model.fit(train_oh, train_target, epochs=35, batch_size=64, validation_data = (val_oh, val_target), callbacks=[checkpoint_cb, early_stopping_cb])"
      ],
      "metadata": {
        "colab": {
          "base_uri": "https://localhost:8080/"
        },
        "id": "81A6A81Lrx1W",
        "outputId": "e2671239-f974-4ce2-d0d1-874265d82529"
      },
      "execution_count": 25,
      "outputs": [
        {
          "output_type": "stream",
          "name": "stdout",
          "text": [
            "Epoch 1/35\n",
            "313/313 [==============================] - 30s 90ms/step - loss: 0.7079 - accuracy: 0.4888 - val_loss: 0.7031 - val_accuracy: 0.4992\n",
            "Epoch 2/35\n",
            "313/313 [==============================] - 16s 51ms/step - loss: 0.7005 - accuracy: 0.4992 - val_loss: 0.6977 - val_accuracy: 0.5060\n",
            "Epoch 3/35\n",
            "313/313 [==============================] - 15s 49ms/step - loss: 0.6955 - accuracy: 0.5123 - val_loss: 0.6943 - val_accuracy: 0.5140\n",
            "Epoch 4/35\n",
            "313/313 [==============================] - 15s 49ms/step - loss: 0.6916 - accuracy: 0.5250 - val_loss: 0.6914 - val_accuracy: 0.5246\n",
            "Epoch 5/35\n",
            "313/313 [==============================] - 15s 49ms/step - loss: 0.6881 - accuracy: 0.5386 - val_loss: 0.6888 - val_accuracy: 0.5338\n",
            "Epoch 6/35\n",
            "313/313 [==============================] - 15s 48ms/step - loss: 0.6847 - accuracy: 0.5497 - val_loss: 0.6861 - val_accuracy: 0.5424\n",
            "Epoch 7/35\n",
            "313/313 [==============================] - 15s 49ms/step - loss: 0.6810 - accuracy: 0.5667 - val_loss: 0.6829 - val_accuracy: 0.5568\n",
            "Epoch 8/35\n",
            "313/313 [==============================] - 16s 50ms/step - loss: 0.6764 - accuracy: 0.5813 - val_loss: 0.6781 - val_accuracy: 0.5766\n",
            "Epoch 9/35\n",
            "313/313 [==============================] - 15s 49ms/step - loss: 0.6689 - accuracy: 0.6065 - val_loss: 0.6679 - val_accuracy: 0.6054\n",
            "Epoch 10/35\n",
            "313/313 [==============================] - 16s 52ms/step - loss: 0.6405 - accuracy: 0.6585 - val_loss: 0.6162 - val_accuracy: 0.6854\n",
            "Epoch 11/35\n",
            "313/313 [==============================] - 15s 49ms/step - loss: 0.5995 - accuracy: 0.6966 - val_loss: 0.6021 - val_accuracy: 0.6912\n",
            "Epoch 12/35\n",
            "313/313 [==============================] - 14s 46ms/step - loss: 0.5850 - accuracy: 0.7112 - val_loss: 0.5890 - val_accuracy: 0.7048\n",
            "Epoch 13/35\n",
            "313/313 [==============================] - 15s 49ms/step - loss: 0.5716 - accuracy: 0.7233 - val_loss: 0.5785 - val_accuracy: 0.7136\n",
            "Epoch 14/35\n",
            "313/313 [==============================] - 15s 49ms/step - loss: 0.5595 - accuracy: 0.7333 - val_loss: 0.5689 - val_accuracy: 0.7208\n",
            "Epoch 15/35\n",
            "313/313 [==============================] - 15s 47ms/step - loss: 0.5482 - accuracy: 0.7427 - val_loss: 0.5611 - val_accuracy: 0.7264\n",
            "Epoch 16/35\n",
            "313/313 [==============================] - 14s 46ms/step - loss: 0.5387 - accuracy: 0.7472 - val_loss: 0.5526 - val_accuracy: 0.7324\n",
            "Epoch 17/35\n",
            "313/313 [==============================] - 15s 49ms/step - loss: 0.5298 - accuracy: 0.7517 - val_loss: 0.5446 - val_accuracy: 0.7390\n",
            "Epoch 18/35\n",
            "313/313 [==============================] - 16s 50ms/step - loss: 0.5221 - accuracy: 0.7567 - val_loss: 0.5382 - val_accuracy: 0.7450\n",
            "Epoch 19/35\n",
            "313/313 [==============================] - 18s 58ms/step - loss: 0.5139 - accuracy: 0.7624 - val_loss: 0.5368 - val_accuracy: 0.7410\n",
            "Epoch 20/35\n",
            "313/313 [==============================] - 17s 54ms/step - loss: 0.5077 - accuracy: 0.7668 - val_loss: 0.5255 - val_accuracy: 0.7520\n",
            "Epoch 21/35\n",
            "313/313 [==============================] - 17s 55ms/step - loss: 0.5009 - accuracy: 0.7686 - val_loss: 0.5190 - val_accuracy: 0.7578\n",
            "Epoch 22/35\n",
            "313/313 [==============================] - 15s 49ms/step - loss: 0.4952 - accuracy: 0.7736 - val_loss: 0.5148 - val_accuracy: 0.7612\n",
            "Epoch 23/35\n",
            "313/313 [==============================] - 15s 48ms/step - loss: 0.4890 - accuracy: 0.7765 - val_loss: 0.5113 - val_accuracy: 0.7638\n",
            "Epoch 24/35\n",
            "313/313 [==============================] - 14s 46ms/step - loss: 0.4828 - accuracy: 0.7817 - val_loss: 0.5083 - val_accuracy: 0.7636\n",
            "Epoch 25/35\n",
            "313/313 [==============================] - 15s 49ms/step - loss: 0.4784 - accuracy: 0.7831 - val_loss: 0.5062 - val_accuracy: 0.7652\n",
            "Epoch 26/35\n",
            "313/313 [==============================] - 16s 52ms/step - loss: 0.4718 - accuracy: 0.7875 - val_loss: 0.5015 - val_accuracy: 0.7640\n",
            "Epoch 27/35\n",
            "313/313 [==============================] - 14s 46ms/step - loss: 0.4674 - accuracy: 0.7896 - val_loss: 0.4951 - val_accuracy: 0.7686\n",
            "Epoch 28/35\n",
            "313/313 [==============================] - 16s 50ms/step - loss: 0.4626 - accuracy: 0.7915 - val_loss: 0.4950 - val_accuracy: 0.7708\n",
            "Epoch 29/35\n",
            "313/313 [==============================] - 14s 46ms/step - loss: 0.4587 - accuracy: 0.7954 - val_loss: 0.4915 - val_accuracy: 0.7714\n",
            "Epoch 30/35\n",
            "313/313 [==============================] - 15s 50ms/step - loss: 0.4552 - accuracy: 0.7971 - val_loss: 0.4881 - val_accuracy: 0.7734\n",
            "Epoch 31/35\n",
            "313/313 [==============================] - 15s 49ms/step - loss: 0.4519 - accuracy: 0.7986 - val_loss: 0.4867 - val_accuracy: 0.7724\n",
            "Epoch 32/35\n",
            "313/313 [==============================] - 14s 46ms/step - loss: 0.4482 - accuracy: 0.8004 - val_loss: 0.4846 - val_accuracy: 0.7740\n",
            "Epoch 33/35\n",
            "313/313 [==============================] - 15s 46ms/step - loss: 0.4452 - accuracy: 0.8016 - val_loss: 0.4827 - val_accuracy: 0.7766\n",
            "Epoch 34/35\n",
            "313/313 [==============================] - 15s 49ms/step - loss: 0.4433 - accuracy: 0.8040 - val_loss: 0.4812 - val_accuracy: 0.7766\n",
            "Epoch 35/35\n",
            "313/313 [==============================] - 14s 46ms/step - loss: 0.4404 - accuracy: 0.8054 - val_loss: 0.4810 - val_accuracy: 0.7756\n"
          ]
        }
      ]
    },
    {
      "cell_type": "code",
      "source": [
        "plt.plot(history.history['loss'])\n",
        "plt.plot(history.history['val_loss'])\n",
        "plt.xlabel('epoch')\n",
        "plt.ylabel('loss')\n",
        "plt.legend(['train', 'val'])\n",
        "plt.show()"
      ],
      "metadata": {
        "colab": {
          "base_uri": "https://localhost:8080/",
          "height": 449
        },
        "id": "rmZLP9AZsVVc",
        "outputId": "d7f015b3-aea4-4590-8119-84e3a92bc03e"
      },
      "execution_count": 28,
      "outputs": [
        {
          "output_type": "display_data",
          "data": {
            "text/plain": [
              "<Figure size 640x480 with 1 Axes>"
            ],
            "image/png": "[encoded data removed]"
          },
          "metadata": {}
        }
      ]
    },
    {
      "cell_type": "code",
      "source": [
        "print(train_seq.nbytes, train_oh.nbytes)"
      ],
      "metadata": {
        "colab": {
          "base_uri": "https://localhost:8080/"
        },
        "id": "Q-3zjcyOtkEP",
        "outputId": "0e3f3b86-63db-475b-e652-fd660e70700b"
      },
      "execution_count": 29,
      "outputs": [
        {
          "output_type": "stream",
          "name": "stdout",
          "text": [
            "8000000 4000000000\n"
          ]
        }
      ]
    },
    {
      "cell_type": "code",
      "source": [
        "model2 = keras.Sequential()\n",
        "model2.add(keras.layers.Embedding(500, 16, input_length=100))\n",
        "model2.add(keras.layers.SimpleRNN(8))\n",
        "model2.add(keras.layers.Dense(1, activation='sigmoid'))"
      ],
      "metadata": {
        "id": "sVMX6IBytqLJ"
      },
      "execution_count": 30,
      "outputs": []
    },
    {
      "cell_type": "code",
      "source": [
        "model2.summary()"
      ],
      "metadata": {
        "colab": {
          "base_uri": "https://localhost:8080/"
        },
        "id": "4aXIEIXJuCM0",
        "outputId": "33d1697e-8b06-48dd-d96f-7491c4887f1f"
      },
      "execution_count": 32,
      "outputs": [
        {
          "output_type": "stream",
          "name": "stdout",
          "text": [
            "Model: \"sequential_1\"\n",
            "_________________________________________________________________\n",
            " Layer (type)                Output Shape              Param #   \n",
            "=================================================================\n",
            " embedding (Embedding)       (None, 100, 16)           8000      \n",
            "                                                                 \n",
            " simple_rnn_1 (SimpleRNN)    (None, 8)                 200       \n",
            "                                                                 \n",
            " dense_1 (Dense)             (None, 1)                 9         \n",
            "                                                                 \n",
            "=================================================================\n",
            "Total params: 8,209\n",
            "Trainable params: 8,209\n",
            "Non-trainable params: 0\n",
            "_________________________________________________________________\n"
          ]
        }
      ]
    },
    {
      "cell_type": "code",
      "source": [
        "rmsprop = keras.optimizers.RMSprop(learning_rate=1e-4)\n",
        "model2.compile(optimizer=rmsprop, loss='binary_crossentropy', metrics=['accuracy'])\n",
        "checkpoint_cb = keras.callbacks.ModelCheckpoint('best-embedding-model.h5', save_best_only=True)\n",
        "early_stopping_cb = keras.callbacks.EarlyStopping(patience=3, restore_best_weights=True)\n",
        "history = model2.fit(train_seq, train_target, epochs=30, batch_size=64, validation_data=(val_seq, val_target), callbacks=[checkpoint_cb, early_stopping_cb])"
      ],
      "metadata": {
        "colab": {
          "base_uri": "https://localhost:8080/"
        },
        "id": "0w533-NYxxIv",
        "outputId": "73360ef7-d25b-470c-dbb4-d965b611485b"
      },
      "execution_count": 34,
      "outputs": [
        {
          "output_type": "stream",
          "name": "stdout",
          "text": [
            "Epoch 1/30\n",
            "313/313 [==============================] - 9s 25ms/step - loss: 0.6887 - accuracy: 0.5487 - val_loss: 0.6827 - val_accuracy: 0.5970\n",
            "Epoch 2/30\n",
            "313/313 [==============================] - 8s 27ms/step - loss: 0.6753 - accuracy: 0.6298 - val_loss: 0.6733 - val_accuracy: 0.6314\n",
            "Epoch 3/30\n",
            "313/313 [==============================] - 10s 31ms/step - loss: 0.6617 - accuracy: 0.6726 - val_loss: 0.6591 - val_accuracy: 0.6706\n",
            "Epoch 4/30\n",
            "313/313 [==============================] - 7s 23ms/step - loss: 0.6473 - accuracy: 0.6978 - val_loss: 0.6461 - val_accuracy: 0.6914\n",
            "Epoch 5/30\n",
            "313/313 [==============================] - 9s 29ms/step - loss: 0.6318 - accuracy: 0.7153 - val_loss: 0.6342 - val_accuracy: 0.7012\n",
            "Epoch 6/30\n",
            "313/313 [==============================] - 9s 28ms/step - loss: 0.6168 - accuracy: 0.7274 - val_loss: 0.6208 - val_accuracy: 0.7110\n",
            "Epoch 7/30\n",
            "313/313 [==============================] - 7s 22ms/step - loss: 0.6013 - accuracy: 0.7413 - val_loss: 0.6062 - val_accuracy: 0.7220\n",
            "Epoch 8/30\n",
            "313/313 [==============================] - 9s 28ms/step - loss: 0.5866 - accuracy: 0.7505 - val_loss: 0.5999 - val_accuracy: 0.7160\n",
            "Epoch 9/30\n",
            "313/313 [==============================] - 8s 26ms/step - loss: 0.5717 - accuracy: 0.7606 - val_loss: 0.5851 - val_accuracy: 0.7310\n",
            "Epoch 10/30\n",
            "313/313 [==============================] - 7s 24ms/step - loss: 0.5571 - accuracy: 0.7670 - val_loss: 0.5688 - val_accuracy: 0.7490\n",
            "Epoch 11/30\n",
            "313/313 [==============================] - 9s 27ms/step - loss: 0.5431 - accuracy: 0.7753 - val_loss: 0.5583 - val_accuracy: 0.7508\n",
            "Epoch 12/30\n",
            "313/313 [==============================] - 7s 23ms/step - loss: 0.5290 - accuracy: 0.7810 - val_loss: 0.5483 - val_accuracy: 0.7536\n",
            "Epoch 13/30\n",
            "313/313 [==============================] - 9s 27ms/step - loss: 0.5155 - accuracy: 0.7855 - val_loss: 0.5345 - val_accuracy: 0.7640\n",
            "Epoch 14/30\n",
            "313/313 [==============================] - 8s 27ms/step - loss: 0.5024 - accuracy: 0.7915 - val_loss: 0.5279 - val_accuracy: 0.7632\n",
            "Epoch 15/30\n",
            "313/313 [==============================] - 7s 22ms/step - loss: 0.4898 - accuracy: 0.7969 - val_loss: 0.5182 - val_accuracy: 0.7712\n",
            "Epoch 16/30\n",
            "313/313 [==============================] - 8s 26ms/step - loss: 0.4781 - accuracy: 0.8016 - val_loss: 0.5100 - val_accuracy: 0.7694\n",
            "Epoch 17/30\n",
            "313/313 [==============================] - 9s 29ms/step - loss: 0.4674 - accuracy: 0.8069 - val_loss: 0.5013 - val_accuracy: 0.7716\n",
            "Epoch 18/30\n",
            "313/313 [==============================] - 7s 23ms/step - loss: 0.4575 - accuracy: 0.8096 - val_loss: 0.4950 - val_accuracy: 0.7750\n",
            "Epoch 19/30\n",
            "313/313 [==============================] - 9s 27ms/step - loss: 0.4496 - accuracy: 0.8124 - val_loss: 0.4896 - val_accuracy: 0.7784\n",
            "Epoch 20/30\n",
            "313/313 [==============================] - 7s 22ms/step - loss: 0.4417 - accuracy: 0.8158 - val_loss: 0.4868 - val_accuracy: 0.7780\n",
            "Epoch 21/30\n",
            "313/313 [==============================] - 9s 27ms/step - loss: 0.4351 - accuracy: 0.8155 - val_loss: 0.4836 - val_accuracy: 0.7808\n",
            "Epoch 22/30\n",
            "313/313 [==============================] - 9s 28ms/step - loss: 0.4290 - accuracy: 0.8192 - val_loss: 0.4827 - val_accuracy: 0.7800\n",
            "Epoch 23/30\n",
            "313/313 [==============================] - 7s 22ms/step - loss: 0.4236 - accuracy: 0.8194 - val_loss: 0.4780 - val_accuracy: 0.7804\n",
            "Epoch 24/30\n",
            "313/313 [==============================] - 8s 26ms/step - loss: 0.4192 - accuracy: 0.8224 - val_loss: 0.4811 - val_accuracy: 0.7796\n",
            "Epoch 25/30\n",
            "313/313 [==============================] - 8s 25ms/step - loss: 0.4150 - accuracy: 0.8242 - val_loss: 0.4763 - val_accuracy: 0.7792\n",
            "Epoch 26/30\n",
            "313/313 [==============================] - 8s 24ms/step - loss: 0.4105 - accuracy: 0.8264 - val_loss: 0.4761 - val_accuracy: 0.7810\n",
            "Epoch 27/30\n",
            "313/313 [==============================] - 9s 27ms/step - loss: 0.4069 - accuracy: 0.8284 - val_loss: 0.4805 - val_accuracy: 0.7822\n",
            "Epoch 28/30\n",
            "313/313 [==============================] - 7s 23ms/step - loss: 0.4036 - accuracy: 0.8296 - val_loss: 0.4756 - val_accuracy: 0.7818\n",
            "Epoch 29/30\n",
            "313/313 [==============================] - 8s 27ms/step - loss: 0.4008 - accuracy: 0.8296 - val_loss: 0.4776 - val_accuracy: 0.7802\n",
            "Epoch 30/30\n",
            "313/313 [==============================] - 8s 27ms/step - loss: 0.3977 - accuracy: 0.8318 - val_loss: 0.4798 - val_accuracy: 0.7808\n"
          ]
        }
      ]
    },
    {
      "cell_type": "code",
      "source": [
        "plt.plot(history.history['loss'])\n",
        "plt.plot(history.history['val_loss'])\n",
        "plt.xlabel('epoch')\n",
        "plt.ylabel('loss')\n",
        "plt.legend(['train', 'val'])\n",
        "plt.show()"
      ],
      "metadata": {
        "colab": {
          "base_uri": "https://localhost:8080/",
          "height": 451
        },
        "id": "CCqx3RJQyjKi",
        "outputId": "77f2d4ad-aaca-4f6c-87d9-f3e1fbff443a"
      },
      "execution_count": 35,
      "outputs": [
        {
          "output_type": "display_data",
          "data": {
            "text/plain": [
              "<Figure size 640x480 with 1 Axes>"
            ],
            "image/png": "[encoded data removed]"
          },
          "metadata": {}
        }
      ]
    }
  ]
}