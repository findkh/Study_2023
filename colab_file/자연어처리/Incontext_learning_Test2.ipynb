{
  "nbformat": 4,
  "nbformat_minor": 0,
  "metadata": {
    "colab": {
      "provenance": [],
      "gpuType": "T4",
      "authorship_tag": "ABX9TyNSe5KOgTK+Lg9IzFvqFHvj"
    },
    "kernelspec": {
      "name": "python3",
      "display_name": "Python 3"
    },
    "language_info": {
      "name": "python"
    },
    "accelerator": "GPU",
    "widgets": {
      "application/vnd.jupyter.widget-state+json": {
        "d5838552286148f2a7f95f143ef35242": {
          "model_module": "@jupyter-widgets/controls",
          "model_name": "HBoxModel",
          "model_module_version": "1.5.0",
          "state": {
            "_dom_classes": [],
            "_model_module": "@jupyter-widgets/controls",
            "_model_module_version": "1.5.0",
            "_model_name": "HBoxModel",
            "_view_count": null,
            "_view_module": "@jupyter-widgets/controls",
            "_view_module_version": "1.5.0",
            "_view_name": "HBoxView",
            "box_style": "",
            "children": [
              "IPY_MODEL_f8fa9cbbabef4ecdaff0ce0196d53eeb",
              "IPY_MODEL_039a548be1794061ac86638f468bbb11",
              "IPY_MODEL_b1baab8b98c64d5f8d531d7557534dba"
            ],
            "layout": "IPY_MODEL_6e1ff8345b34455a8ce8885bd2035810"
          }
        },
        "f8fa9cbbabef4ecdaff0ce0196d53eeb": {
          "model_module": "@jupyter-widgets/controls",
          "model_name": "HTMLModel",
          "model_module_version": "1.5.0",
          "state": {
            "_dom_classes": [],
            "_model_module": "@jupyter-widgets/controls",
            "_model_module_version": "1.5.0",
            "_model_name": "HTMLModel",
            "_view_count": null,
            "_view_module": "@jupyter-widgets/controls",
            "_view_module_version": "1.5.0",
            "_view_name": "HTMLView",
            "description": "",
            "description_tooltip": null,
            "layout": "IPY_MODEL_613c26a5116e42dd82740c12c859ae66",
            "placeholder": "​",
            "style": "IPY_MODEL_125f81abac9d448485fe3d6d75e36e90",
            "value": "adapter_config.json: 100%"
          }
        },
        "039a548be1794061ac86638f468bbb11": {
          "model_module": "@jupyter-widgets/controls",
          "model_name": "FloatProgressModel",
          "model_module_version": "1.5.0",
          "state": {
            "_dom_classes": [],
            "_model_module": "@jupyter-widgets/controls",
            "_model_module_version": "1.5.0",
            "_model_name": "FloatProgressModel",
            "_view_count": null,
            "_view_module": "@jupyter-widgets/controls",
            "_view_module_version": "1.5.0",
            "_view_name": "ProgressView",
            "bar_style": "success",
            "description": "",
            "description_tooltip": null,
            "layout": "IPY_MODEL_23656ad681f247d4bb90d8dcfc1e24d9",
            "max": 490,
            "min": 0,
            "orientation": "horizontal",
            "style": "IPY_MODEL_aa4d8efad51e4e90853509dcc1179506",
            "value": 490
          }
        },
        "b1baab8b98c64d5f8d531d7557534dba": {
          "model_module": "@jupyter-widgets/controls",
          "model_name": "HTMLModel",
          "model_module_version": "1.5.0",
          "state": {
            "_dom_classes": [],
            "_model_module": "@jupyter-widgets/controls",
            "_model_module_version": "1.5.0",
            "_model_name": "HTMLModel",
            "_view_count": null,
            "_view_module": "@jupyter-widgets/controls",
            "_view_module_version": "1.5.0",
            "_view_name": "HTMLView",
            "description": "",
            "description_tooltip": null,
            "layout": "IPY_MODEL_d9a4e533e6584f00b65841f757c6213d",
            "placeholder": "​",
            "style": "IPY_MODEL_b4ae04f78cf644f7804e52e3d08204d4",
            "value": " 490/490 [00:00&lt;00:00, 8.39kB/s]"
          }
        },
        "6e1ff8345b34455a8ce8885bd2035810": {
          "model_module": "@jupyter-widgets/base",
          "model_name": "LayoutModel",
          "model_module_version": "1.2.0",
          "state": {
            "_model_module": "@jupyter-widgets/base",
            "_model_module_version": "1.2.0",
            "_model_name": "LayoutModel",
            "_view_count": null,
            "_view_module": "@jupyter-widgets/base",
            "_view_module_version": "1.2.0",
            "_view_name": "LayoutView",
            "align_content": null,
            "align_items": null,
            "align_self": null,
            "border": null,
            "bottom": null,
            "display": null,
            "flex": null,
            "flex_flow": null,
            "grid_area": null,
            "grid_auto_columns": null,
            "grid_auto_flow": null,
            "grid_auto_rows": null,
            "grid_column": null,
            "grid_gap": null,
            "grid_row": null,
            "grid_template_areas": null,
            "grid_template_columns": null,
            "grid_template_rows": null,
            "height": null,
            "justify_content": null,
            "justify_items": null,
            "left": null,
            "margin": null,
            "max_height": null,
            "max_width": null,
            "min_height": null,
            "min_width": null,
            "object_fit": null,
            "object_position": null,
            "order": null,
            "overflow": null,
            "overflow_x": null,
            "overflow_y": null,
            "padding": null,
            "right": null,
            "top": null,
            "visibility": null,
            "width": null
          }
        },
        "613c26a5116e42dd82740c12c859ae66": {
          "model_module": "@jupyter-widgets/base",
          "model_name": "LayoutModel",
          "model_module_version": "1.2.0",
          "state": {
            "_model_module": "@jupyter-widgets/base",
            "_model_module_version": "1.2.0",
            "_model_name": "LayoutModel",
            "_view_count": null,
            "_view_module": "@jupyter-widgets/base",
            "_view_module_version": "1.2.0",
            "_view_name": "LayoutView",
            "align_content": null,
            "align_items": null,
            "align_self": null,
            "border": null,
            "bottom": null,
            "display": null,
            "flex": null,
            "flex_flow": null,
            "grid_area": null,
            "grid_auto_columns": null,
            "grid_auto_flow": null,
            "grid_auto_rows": null,
            "grid_column": null,
            "grid_gap": null,
            "grid_row": null,
            "grid_template_areas": null,
            "grid_template_columns": null,
            "grid_template_rows": null,
            "height": null,
            "justify_content": null,
            "justify_items": null,
            "left": null,
            "margin": null,
            "max_height": null,
            "max_width": null,
            "min_height": null,
            "min_width": null,
            "object_fit": null,
            "object_position": null,
            "order": null,
            "overflow": null,
            "overflow_x": null,
            "overflow_y": null,
            "padding": null,
            "right": null,
            "top": null,
            "visibility": null,
            "width": null
          }
        },
        "125f81abac9d448485fe3d6d75e36e90": {
          "model_module": "@jupyter-widgets/controls",
          "model_name": "DescriptionStyleModel",
          "model_module_version": "1.5.0",
          "state": {
            "_model_module": "@jupyter-widgets/controls",
            "_model_module_version": "1.5.0",
            "_model_name": "DescriptionStyleModel",
            "_view_count": null,
            "_view_module": "@jupyter-widgets/base",
            "_view_module_version": "1.2.0",
            "_view_name": "StyleView",
            "description_width": ""
          }
        },
        "23656ad681f247d4bb90d8dcfc1e24d9": {
          "model_module": "@jupyter-widgets/base",
          "model_name": "LayoutModel",
          "model_module_version": "1.2.0",
          "state": {
            "_model_module": "@jupyter-widgets/base",
            "_model_module_version": "1.2.0",
            "_model_name": "LayoutModel",
            "_view_count": null,
            "_view_module": "@jupyter-widgets/base",
            "_view_module_version": "1.2.0",
            "_view_name": "LayoutView",
            "align_content": null,
            "align_items": null,
            "align_self": null,
            "border": null,
            "bottom": null,
            "display": null,
            "flex": null,
            "flex_flow": null,
            "grid_area": null,
            "grid_auto_columns": null,
            "grid_auto_flow": null,
            "grid_auto_rows": null,
            "grid_column": null,
            "grid_gap": null,
            "grid_row": null,
            "grid_template_areas": null,
            "grid_template_columns": null,
            "grid_template_rows": null,
            "height": null,
            "justify_content": null,
            "justify_items": null,
            "left": null,
            "margin": null,
            "max_height": null,
            "max_width": null,
            "min_height": null,
            "min_width": null,
            "object_fit": null,
            "object_position": null,
            "order": null,
            "overflow": null,
            "overflow_x": null,
            "overflow_y": null,
            "padding": null,
            "right": null,
            "top": null,
            "visibility": null,
            "width": null
          }
        },
        "aa4d8efad51e4e90853509dcc1179506": {
          "model_module": "@jupyter-widgets/controls",
          "model_name": "ProgressStyleModel",
          "model_module_version": "1.5.0",
          "state": {
            "_model_module": "@jupyter-widgets/controls",
            "_model_module_version": "1.5.0",
            "_model_name": "ProgressStyleModel",
            "_view_count": null,
            "_view_module": "@jupyter-widgets/base",
            "_view_module_version": "1.2.0",
            "_view_name": "StyleView",
            "bar_color": null,
            "description_width": ""
          }
        },
        "d9a4e533e6584f00b65841f757c6213d": {
          "model_module": "@jupyter-widgets/base",
          "model_name": "LayoutModel",
          "model_module_version": "1.2.0",
          "state": {
            "_model_module": "@jupyter-widgets/base",
            "_model_module_version": "1.2.0",
            "_model_name": "LayoutModel",
            "_view_count": null,
            "_view_module": "@jupyter-widgets/base",
            "_view_module_version": "1.2.0",
            "_view_name": "LayoutView",
            "align_content": null,
            "align_items": null,
            "align_self": null,
            "border": null,
            "bottom": null,
            "display": null,
            "flex": null,
            "flex_flow": null,
            "grid_area": null,
            "grid_auto_columns": null,
            "grid_auto_flow": null,
            "grid_auto_rows": null,
            "grid_column": null,
            "grid_gap": null,
            "grid_row": null,
            "grid_template_areas": null,
            "grid_template_columns": null,
            "grid_template_rows": null,
            "height": null,
            "justify_content": null,
            "justify_items": null,
            "left": null,
            "margin": null,
            "max_height": null,
            "max_width": null,
            "min_height": null,
            "min_width": null,
            "object_fit": null,
            "object_position": null,
            "order": null,
            "overflow": null,
            "overflow_x": null,
            "overflow_y": null,
            "padding": null,
            "right": null,
            "top": null,
            "visibility": null,
            "width": null
          }
        },
        "b4ae04f78cf644f7804e52e3d08204d4": {
          "model_module": "@jupyter-widgets/controls",
          "model_name": "DescriptionStyleModel",
          "model_module_version": "1.5.0",
          "state": {
            "_model_module": "@jupyter-widgets/controls",
            "_model_module_version": "1.5.0",
            "_model_name": "DescriptionStyleModel",
            "_view_count": null,
            "_view_module": "@jupyter-widgets/base",
            "_view_module_version": "1.2.0",
            "_view_name": "StyleView",
            "description_width": ""
          }
        },
        "7173ff03e83f41379643109cc3cd577d": {
          "model_module": "@jupyter-widgets/controls",
          "model_name": "HBoxModel",
          "model_module_version": "1.5.0",
          "state": {
            "_dom_classes": [],
            "_model_module": "@jupyter-widgets/controls",
            "_model_module_version": "1.5.0",
            "_model_name": "HBoxModel",
            "_view_count": null,
            "_view_module": "@jupyter-widgets/controls",
            "_view_module_version": "1.5.0",
            "_view_name": "HBoxView",
            "box_style": "",
            "children": [
              "IPY_MODEL_73aea47955994200b06437feaa34d0c6",
              "IPY_MODEL_e36369ed3cac4c178139a3ee7ab6b4cd",
              "IPY_MODEL_8bbe09cf685f422a848f19b627a428ed"
            ],
            "layout": "IPY_MODEL_53347210122647afbdc257e4e8287772"
          }
        },
        "73aea47955994200b06437feaa34d0c6": {
          "model_module": "@jupyter-widgets/controls",
          "model_name": "HTMLModel",
          "model_module_version": "1.5.0",
          "state": {
            "_dom_classes": [],
            "_model_module": "@jupyter-widgets/controls",
            "_model_module_version": "1.5.0",
            "_model_name": "HTMLModel",
            "_view_count": null,
            "_view_module": "@jupyter-widgets/controls",
            "_view_module_version": "1.5.0",
            "_view_name": "HTMLView",
            "description": "",
            "description_tooltip": null,
            "layout": "IPY_MODEL_9373b2affcd7426a885b2903405a498d",
            "placeholder": "​",
            "style": "IPY_MODEL_9f39e62202dd4dc895efbe96b2d74fcf",
            "value": "config.json: 100%"
          }
        },
        "e36369ed3cac4c178139a3ee7ab6b4cd": {
          "model_module": "@jupyter-widgets/controls",
          "model_name": "FloatProgressModel",
          "model_module_version": "1.5.0",
          "state": {
            "_dom_classes": [],
            "_model_module": "@jupyter-widgets/controls",
            "_model_module_version": "1.5.0",
            "_model_name": "FloatProgressModel",
            "_view_count": null,
            "_view_module": "@jupyter-widgets/controls",
            "_view_module_version": "1.5.0",
            "_view_name": "ProgressView",
            "bar_style": "success",
            "description": "",
            "description_tooltip": null,
            "layout": "IPY_MODEL_386fe302ba5a4da6b10529af288ca01e",
            "max": 678,
            "min": 0,
            "orientation": "horizontal",
            "style": "IPY_MODEL_a3816ef218c54fcfa3a59af2e03820e9",
            "value": 678
          }
        },
        "8bbe09cf685f422a848f19b627a428ed": {
          "model_module": "@jupyter-widgets/controls",
          "model_name": "HTMLModel",
          "model_module_version": "1.5.0",
          "state": {
            "_dom_classes": [],
            "_model_module": "@jupyter-widgets/controls",
            "_model_module_version": "1.5.0",
            "_model_name": "HTMLModel",
            "_view_count": null,
            "_view_module": "@jupyter-widgets/controls",
            "_view_module_version": "1.5.0",
            "_view_name": "HTMLView",
            "description": "",
            "description_tooltip": null,
            "layout": "IPY_MODEL_bd9550366c3a41349865942ecfa586e6",
            "placeholder": "​",
            "style": "IPY_MODEL_2f24e8b95fc84027855e0bf9c9f0bc03",
            "value": " 678/678 [00:00&lt;00:00, 19.1kB/s]"
          }
        },
        "53347210122647afbdc257e4e8287772": {
          "model_module": "@jupyter-widgets/base",
          "model_name": "LayoutModel",
          "model_module_version": "1.2.0",
          "state": {
            "_model_module": "@jupyter-widgets/base",
            "_model_module_version": "1.2.0",
            "_model_name": "LayoutModel",
            "_view_count": null,
            "_view_module": "@jupyter-widgets/base",
            "_view_module_version": "1.2.0",
            "_view_name": "LayoutView",
            "align_content": null,
            "align_items": null,
            "align_self": null,
            "border": null,
            "bottom": null,
            "display": null,
            "flex": null,
            "flex_flow": null,
            "grid_area": null,
            "grid_auto_columns": null,
            "grid_auto_flow": null,
            "grid_auto_rows": null,
            "grid_column": null,
            "grid_gap": null,
            "grid_row": null,
            "grid_template_areas": null,
            "grid_template_columns": null,
            "grid_template_rows": null,
            "height": null,
            "justify_content": null,
            "justify_items": null,
            "left": null,
            "margin": null,
            "max_height": null,
            "max_width": null,
            "min_height": null,
            "min_width": null,
            "object_fit": null,
            "object_position": null,
            "order": null,
            "overflow": null,
            "overflow_x": null,
            "overflow_y": null,
            "padding": null,
            "right": null,
            "top": null,
            "visibility": null,
            "width": null
          }
        },
        "9373b2affcd7426a885b2903405a498d": {
          "model_module": "@jupyter-widgets/base",
          "model_name": "LayoutModel",
          "model_module_version": "1.2.0",
          "state": {
            "_model_module": "@jupyter-widgets/base",
            "_model_module_version": "1.2.0",
            "_model_name": "LayoutModel",
            "_view_count": null,
            "_view_module": "@jupyter-widgets/base",
            "_view_module_version": "1.2.0",
            "_view_name": "LayoutView",
            "align_content": null,
            "align_items": null,
            "align_self": null,
            "border": null,
            "bottom": null,
            "display": null,
            "flex": null,
            "flex_flow": null,
            "grid_area": null,
            "grid_auto_columns": null,
            "grid_auto_flow": null,
            "grid_auto_rows": null,
            "grid_column": null,
            "grid_gap": null,
            "grid_row": null,
            "grid_template_areas": null,
            "grid_template_columns": null,
            "grid_template_rows": null,
            "height": null,
            "justify_content": null,
            "justify_items": null,
            "left": null,
            "margin": null,
            "max_height": null,
            "max_width": null,
            "min_height": null,
            "min_width": null,
            "object_fit": null,
            "object_position": null,
            "order": null,
            "overflow": null,
            "overflow_x": null,
            "overflow_y": null,
            "padding": null,
            "right": null,
            "top": null,
            "visibility": null,
            "width": null
          }
        },
        "9f39e62202dd4dc895efbe96b2d74fcf": {
          "model_module": "@jupyter-widgets/controls",
          "model_name": "DescriptionStyleModel",
          "model_module_version": "1.5.0",
          "state": {
            "_model_module": "@jupyter-widgets/controls",
            "_model_module_version": "1.5.0",
            "_model_name": "DescriptionStyleModel",
            "_view_count": null,
            "_view_module": "@jupyter-widgets/base",
            "_view_module_version": "1.2.0",
            "_view_name": "StyleView",
            "description_width": ""
          }
        },
        "386fe302ba5a4da6b10529af288ca01e": {
          "model_module": "@jupyter-widgets/base",
          "model_name": "LayoutModel",
          "model_module_version": "1.2.0",
          "state": {
            "_model_module": "@jupyter-widgets/base",
            "_model_module_version": "1.2.0",
            "_model_name": "LayoutModel",
            "_view_count": null,
            "_view_module": "@jupyter-widgets/base",
            "_view_module_version": "1.2.0",
            "_view_name": "LayoutView",
            "align_content": null,
            "align_items": null,
            "align_self": null,
            "border": null,
            "bottom": null,
            "display": null,
            "flex": null,
            "flex_flow": null,
            "grid_area": null,
            "grid_auto_columns": null,
            "grid_auto_flow": null,
            "grid_auto_rows": null,
            "grid_column": null,
            "grid_gap": null,
            "grid_row": null,
            "grid_template_areas": null,
            "grid_template_columns": null,
            "grid_template_rows": null,
            "height": null,
            "justify_content": null,
            "justify_items": null,
            "left": null,
            "margin": null,
            "max_height": null,
            "max_width": null,
            "min_height": null,
            "min_width": null,
            "object_fit": null,
            "object_position": null,
            "order": null,
            "overflow": null,
            "overflow_x": null,
            "overflow_y": null,
            "padding": null,
            "right": null,
            "top": null,
            "visibility": null,
            "width": null
          }
        },
        "a3816ef218c54fcfa3a59af2e03820e9": {
          "model_module": "@jupyter-widgets/controls",
          "model_name": "ProgressStyleModel",
          "model_module_version": "1.5.0",
          "state": {
            "_model_module": "@jupyter-widgets/controls",
            "_model_module_version": "1.5.0",
            "_model_name": "ProgressStyleModel",
            "_view_count": null,
            "_view_module": "@jupyter-widgets/base",
            "_view_module_version": "1.2.0",
            "_view_name": "StyleView",
            "bar_color": null,
            "description_width": ""
          }
        },
        "bd9550366c3a41349865942ecfa586e6": {
          "model_module": "@jupyter-widgets/base",
          "model_name": "LayoutModel",
          "model_module_version": "1.2.0",
          "state": {
            "_model_module": "@jupyter-widgets/base",
            "_model_module_version": "1.2.0",
            "_model_name": "LayoutModel",
            "_view_count": null,
            "_view_module": "@jupyter-widgets/base",
            "_view_module_version": "1.2.0",
            "_view_name": "LayoutView",
            "align_content": null,
            "align_items": null,
            "align_self": null,
            "border": null,
            "bottom": null,
            "display": null,
            "flex": null,
            "flex_flow": null,
            "grid_area": null,
            "grid_auto_columns": null,
            "grid_auto_flow": null,
            "grid_auto_rows": null,
            "grid_column": null,
            "grid_gap": null,
            "grid_row": null,
            "grid_template_areas": null,
            "grid_template_columns": null,
            "grid_template_rows": null,
            "height": null,
            "justify_content": null,
            "justify_items": null,
            "left": null,
            "margin": null,
            "max_height": null,
            "max_width": null,
            "min_height": null,
            "min_width": null,
            "object_fit": null,
            "object_position": null,
            "order": null,
            "overflow": null,
            "overflow_x": null,
            "overflow_y": null,
            "padding": null,
            "right": null,
            "top": null,
            "visibility": null,
            "width": null
          }
        },
        "2f24e8b95fc84027855e0bf9c9f0bc03": {
          "model_module": "@jupyter-widgets/controls",
          "model_name": "DescriptionStyleModel",
          "model_module_version": "1.5.0",
          "state": {
            "_model_module": "@jupyter-widgets/controls",
            "_model_module_version": "1.5.0",
            "_model_name": "DescriptionStyleModel",
            "_view_count": null,
            "_view_module": "@jupyter-widgets/base",
            "_view_module_version": "1.2.0",
            "_view_name": "StyleView",
            "description_width": ""
          }
        },
        "e8325b785dd947188c0faf052278a7eb": {
          "model_module": "@jupyter-widgets/controls",
          "model_name": "HBoxModel",
          "model_module_version": "1.5.0",
          "state": {
            "_dom_classes": [],
            "_model_module": "@jupyter-widgets/controls",
            "_model_module_version": "1.5.0",
            "_model_name": "HBoxModel",
            "_view_count": null,
            "_view_module": "@jupyter-widgets/controls",
            "_view_module_version": "1.5.0",
            "_view_name": "HBoxView",
            "box_style": "",
            "children": [
              "IPY_MODEL_231f34d673a64366ab110ab867281a08",
              "IPY_MODEL_28112a052b5845138f929f409f4995e4",
              "IPY_MODEL_14aa399b541f4654bec4662bf6050c73"
            ],
            "layout": "IPY_MODEL_5ce8daac2f294ebda475524640f487ea"
          }
        },
        "231f34d673a64366ab110ab867281a08": {
          "model_module": "@jupyter-widgets/controls",
          "model_name": "HTMLModel",
          "model_module_version": "1.5.0",
          "state": {
            "_dom_classes": [],
            "_model_module": "@jupyter-widgets/controls",
            "_model_module_version": "1.5.0",
            "_model_name": "HTMLModel",
            "_view_count": null,
            "_view_module": "@jupyter-widgets/controls",
            "_view_module_version": "1.5.0",
            "_view_name": "HTMLView",
            "description": "",
            "description_tooltip": null,
            "layout": "IPY_MODEL_4596011fa66b41df9bb64475af87f11f",
            "placeholder": "​",
            "style": "IPY_MODEL_79541823a46740bda5c99f84c3dd5b3a",
            "value": "model.safetensors.index.json: 100%"
          }
        },
        "28112a052b5845138f929f409f4995e4": {
          "model_module": "@jupyter-widgets/controls",
          "model_name": "FloatProgressModel",
          "model_module_version": "1.5.0",
          "state": {
            "_dom_classes": [],
            "_model_module": "@jupyter-widgets/controls",
            "_model_module_version": "1.5.0",
            "_model_name": "FloatProgressModel",
            "_view_count": null,
            "_view_module": "@jupyter-widgets/controls",
            "_view_module_version": "1.5.0",
            "_view_name": "ProgressView",
            "bar_style": "success",
            "description": "",
            "description_tooltip": null,
            "layout": "IPY_MODEL_846c660cd4514ec7ad5371b566c3d730",
            "max": 52486,
            "min": 0,
            "orientation": "horizontal",
            "style": "IPY_MODEL_8a5e85c7cb9a49ab854ce6a91b741b66",
            "value": 52486
          }
        },
        "14aa399b541f4654bec4662bf6050c73": {
          "model_module": "@jupyter-widgets/controls",
          "model_name": "HTMLModel",
          "model_module_version": "1.5.0",
          "state": {
            "_dom_classes": [],
            "_model_module": "@jupyter-widgets/controls",
            "_model_module_version": "1.5.0",
            "_model_name": "HTMLModel",
            "_view_count": null,
            "_view_module": "@jupyter-widgets/controls",
            "_view_module_version": "1.5.0",
            "_view_name": "HTMLView",
            "description": "",
            "description_tooltip": null,
            "layout": "IPY_MODEL_eb46754888984097bc69cfd50a88c19a",
            "placeholder": "​",
            "style": "IPY_MODEL_25702ff4291843df9d2031f89bca3065",
            "value": " 52.5k/52.5k [00:00&lt;00:00, 2.60MB/s]"
          }
        },
        "5ce8daac2f294ebda475524640f487ea": {
          "model_module": "@jupyter-widgets/base",
          "model_name": "LayoutModel",
          "model_module_version": "1.2.0",
          "state": {
            "_model_module": "@jupyter-widgets/base",
            "_model_module_version": "1.2.0",
            "_model_name": "LayoutModel",
            "_view_count": null,
            "_view_module": "@jupyter-widgets/base",
            "_view_module_version": "1.2.0",
            "_view_name": "LayoutView",
            "align_content": null,
            "align_items": null,
            "align_self": null,
            "border": null,
            "bottom": null,
            "display": null,
            "flex": null,
            "flex_flow": null,
            "grid_area": null,
            "grid_auto_columns": null,
            "grid_auto_flow": null,
            "grid_auto_rows": null,
            "grid_column": null,
            "grid_gap": null,
            "grid_row": null,
            "grid_template_areas": null,
            "grid_template_columns": null,
            "grid_template_rows": null,
            "height": null,
            "justify_content": null,
            "justify_items": null,
            "left": null,
            "margin": null,
            "max_height": null,
            "max_width": null,
            "min_height": null,
            "min_width": null,
            "object_fit": null,
            "object_position": null,
            "order": null,
            "overflow": null,
            "overflow_x": null,
            "overflow_y": null,
            "padding": null,
            "right": null,
            "top": null,
            "visibility": null,
            "width": null
          }
        },
        "4596011fa66b41df9bb64475af87f11f": {
          "model_module": "@jupyter-widgets/base",
          "model_name": "LayoutModel",
          "model_module_version": "1.2.0",
          "state": {
            "_model_module": "@jupyter-widgets/base",
            "_model_module_version": "1.2.0",
            "_model_name": "LayoutModel",
            "_view_count": null,
            "_view_module": "@jupyter-widgets/base",
            "_view_module_version": "1.2.0",
            "_view_name": "LayoutView",
            "align_content": null,
            "align_items": null,
            "align_self": null,
            "border": null,
            "bottom": null,
            "display": null,
            "flex": null,
            "flex_flow": null,
            "grid_area": null,
            "grid_auto_columns": null,
            "grid_auto_flow": null,
            "grid_auto_rows": null,
            "grid_column": null,
            "grid_gap": null,
            "grid_row": null,
            "grid_template_areas": null,
            "grid_template_columns": null,
            "grid_template_rows": null,
            "height": null,
            "justify_content": null,
            "justify_items": null,
            "left": null,
            "margin": null,
            "max_height": null,
            "max_width": null,
            "min_height": null,
            "min_width": null,
            "object_fit": null,
            "object_position": null,
            "order": null,
            "overflow": null,
            "overflow_x": null,
            "overflow_y": null,
            "padding": null,
            "right": null,
            "top": null,
            "visibility": null,
            "width": null
          }
        },
        "79541823a46740bda5c99f84c3dd5b3a": {
          "model_module": "@jupyter-widgets/controls",
          "model_name": "DescriptionStyleModel",
          "model_module_version": "1.5.0",
          "state": {
            "_model_module": "@jupyter-widgets/controls",
            "_model_module_version": "1.5.0",
            "_model_name": "DescriptionStyleModel",
            "_view_count": null,
            "_view_module": "@jupyter-widgets/base",
            "_view_module_version": "1.2.0",
            "_view_name": "StyleView",
            "description_width": ""
          }
        },
        "846c660cd4514ec7ad5371b566c3d730": {
          "model_module": "@jupyter-widgets/base",
          "model_name": "LayoutModel",
          "model_module_version": "1.2.0",
          "state": {
            "_model_module": "@jupyter-widgets/base",
            "_model_module_version": "1.2.0",
            "_model_name": "LayoutModel",
            "_view_count": null,
            "_view_module": "@jupyter-widgets/base",
            "_view_module_version": "1.2.0",
            "_view_name": "LayoutView",
            "align_content": null,
            "align_items": null,
            "align_self": null,
            "border": null,
            "bottom": null,
            "display": null,
            "flex": null,
            "flex_flow": null,
            "grid_area": null,
            "grid_auto_columns": null,
            "grid_auto_flow": null,
            "grid_auto_rows": null,
            "grid_column": null,
            "grid_gap": null,
            "grid_row": null,
            "grid_template_areas": null,
            "grid_template_columns": null,
            "grid_template_rows": null,
            "height": null,
            "justify_content": null,
            "justify_items": null,
            "left": null,
            "margin": null,
            "max_height": null,
            "max_width": null,
            "min_height": null,
            "min_width": null,
            "object_fit": null,
            "object_position": null,
            "order": null,
            "overflow": null,
            "overflow_x": null,
            "overflow_y": null,
            "padding": null,
            "right": null,
            "top": null,
            "visibility": null,
            "width": null
          }
        },
        "8a5e85c7cb9a49ab854ce6a91b741b66": {
          "model_module": "@jupyter-widgets/controls",
          "model_name": "ProgressStyleModel",
          "model_module_version": "1.5.0",
          "state": {
            "_model_module": "@jupyter-widgets/controls",
            "_model_module_version": "1.5.0",
            "_model_name": "ProgressStyleModel",
            "_view_count": null,
            "_view_module": "@jupyter-widgets/base",
            "_view_module_version": "1.2.0",
            "_view_name": "StyleView",
            "bar_color": null,
            "description_width": ""
          }
        },
        "eb46754888984097bc69cfd50a88c19a": {
          "model_module": "@jupyter-widgets/base",
          "model_name": "LayoutModel",
          "model_module_version": "1.2.0",
          "state": {
            "_model_module": "@jupyter-widgets/base",
            "_model_module_version": "1.2.0",
            "_model_name": "LayoutModel",
            "_view_count": null,
            "_view_module": "@jupyter-widgets/base",
            "_view_module_version": "1.2.0",
            "_view_name": "LayoutView",
            "align_content": null,
            "align_items": null,
            "align_self": null,
            "border": null,
            "bottom": null,
            "display": null,
            "flex": null,
            "flex_flow": null,
            "grid_area": null,
            "grid_auto_columns": null,
            "grid_auto_flow": null,
            "grid_auto_rows": null,
            "grid_column": null,
            "grid_gap": null,
            "grid_row": null,
            "grid_template_areas": null,
            "grid_template_columns": null,
            "grid_template_rows": null,
            "height": null,
            "justify_content": null,
            "justify_items": null,
            "left": null,
            "margin": null,
            "max_height": null,
            "max_width": null,
            "min_height": null,
            "min_width": null,
            "object_fit": null,
            "object_position": null,
            "order": null,
            "overflow": null,
            "overflow_x": null,
            "overflow_y": null,
            "padding": null,
            "right": null,
            "top": null,
            "visibility": null,
            "width": null
          }
        },
        "25702ff4291843df9d2031f89bca3065": {
          "model_module": "@jupyter-widgets/controls",
          "model_name": "DescriptionStyleModel",
          "model_module_version": "1.5.0",
          "state": {
            "_model_module": "@jupyter-widgets/controls",
            "_model_module_version": "1.5.0",
            "_model_name": "DescriptionStyleModel",
            "_view_count": null,
            "_view_module": "@jupyter-widgets/base",
            "_view_module_version": "1.2.0",
            "_view_name": "StyleView",
            "description_width": ""
          }
        },
        "b27c66c3137c4152b269e5f11187d8a7": {
          "model_module": "@jupyter-widgets/controls",
          "model_name": "HBoxModel",
          "model_module_version": "1.5.0",
          "state": {
            "_dom_classes": [],
            "_model_module": "@jupyter-widgets/controls",
            "_model_module_version": "1.5.0",
            "_model_name": "HBoxModel",
            "_view_count": null,
            "_view_module": "@jupyter-widgets/controls",
            "_view_module_version": "1.5.0",
            "_view_name": "HBoxView",
            "box_style": "",
            "children": [
              "IPY_MODEL_82c88b02336740fd8eeccc6f29d91656",
              "IPY_MODEL_ff68bd0dc6914afb80fa7245e090008b",
              "IPY_MODEL_ae49fee3fe9643e68ee4184dd896d8f6"
            ],
            "layout": "IPY_MODEL_5ab3c8b1f0664718a6abc1762f0240a4"
          }
        },
        "82c88b02336740fd8eeccc6f29d91656": {
          "model_module": "@jupyter-widgets/controls",
          "model_name": "HTMLModel",
          "model_module_version": "1.5.0",
          "state": {
            "_dom_classes": [],
            "_model_module": "@jupyter-widgets/controls",
            "_model_module_version": "1.5.0",
            "_model_name": "HTMLModel",
            "_view_count": null,
            "_view_module": "@jupyter-widgets/controls",
            "_view_module_version": "1.5.0",
            "_view_name": "HTMLView",
            "description": "",
            "description_tooltip": null,
            "layout": "IPY_MODEL_e57210d4bd8e4f3fb20d7f6d9a8b92b7",
            "placeholder": "​",
            "style": "IPY_MODEL_eb88c06249b54e6991fce9acb185332b",
            "value": "Downloading shards: 100%"
          }
        },
        "ff68bd0dc6914afb80fa7245e090008b": {
          "model_module": "@jupyter-widgets/controls",
          "model_name": "FloatProgressModel",
          "model_module_version": "1.5.0",
          "state": {
            "_dom_classes": [],
            "_model_module": "@jupyter-widgets/controls",
            "_model_module_version": "1.5.0",
            "_model_name": "FloatProgressModel",
            "_view_count": null,
            "_view_module": "@jupyter-widgets/controls",
            "_view_module_version": "1.5.0",
            "_view_name": "ProgressView",
            "bar_style": "success",
            "description": "",
            "description_tooltip": null,
            "layout": "IPY_MODEL_54954a396e4f4f84aed2ef374bcb8089",
            "max": 28,
            "min": 0,
            "orientation": "horizontal",
            "style": "IPY_MODEL_1c8c0b5156a54ad3b49158360d6adaf3",
            "value": 28
          }
        },
        "ae49fee3fe9643e68ee4184dd896d8f6": {
          "model_module": "@jupyter-widgets/controls",
          "model_name": "HTMLModel",
          "model_module_version": "1.5.0",
          "state": {
            "_dom_classes": [],
            "_model_module": "@jupyter-widgets/controls",
            "_model_module_version": "1.5.0",
            "_model_name": "HTMLModel",
            "_view_count": null,
            "_view_module": "@jupyter-widgets/controls",
            "_view_module_version": "1.5.0",
            "_view_name": "HTMLView",
            "description": "",
            "description_tooltip": null,
            "layout": "IPY_MODEL_3ceb1553c79a42f1a92eca192afa10b6",
            "placeholder": "​",
            "style": "IPY_MODEL_25d5686a5eb44b4caa5f438975492a67",
            "value": " 28/28 [04:01&lt;00:00,  7.96s/it]"
          }
        },
        "5ab3c8b1f0664718a6abc1762f0240a4": {
          "model_module": "@jupyter-widgets/base",
          "model_name": "LayoutModel",
          "model_module_version": "1.2.0",
          "state": {
            "_model_module": "@jupyter-widgets/base",
            "_model_module_version": "1.2.0",
            "_model_name": "LayoutModel",
            "_view_count": null,
            "_view_module": "@jupyter-widgets/base",
            "_view_module_version": "1.2.0",
            "_view_name": "LayoutView",
            "align_content": null,
            "align_items": null,
            "align_self": null,
            "border": null,
            "bottom": null,
            "display": null,
            "flex": null,
            "flex_flow": null,
            "grid_area": null,
            "grid_auto_columns": null,
            "grid_auto_flow": null,
            "grid_auto_rows": null,
            "grid_column": null,
            "grid_gap": null,
            "grid_row": null,
            "grid_template_areas": null,
            "grid_template_columns": null,
            "grid_template_rows": null,
            "height": null,
            "justify_content": null,
            "justify_items": null,
            "left": null,
            "margin": null,
            "max_height": null,
            "max_width": null,
            "min_height": null,
            "min_width": null,
            "object_fit": null,
            "object_position": null,
            "order": null,
            "overflow": null,
            "overflow_x": null,
            "overflow_y": null,
            "padding": null,
            "right": null,
            "top": null,
            "visibility": null,
            "width": null
          }
        },
        "e57210d4bd8e4f3fb20d7f6d9a8b92b7": {
          "model_module": "@jupyter-widgets/base",
          "model_name": "LayoutModel",
          "model_module_version": "1.2.0",
          "state": {
            "_model_module": "@jupyter-widgets/base",
            "_model_module_version": "1.2.0",
            "_model_name": "LayoutModel",
            "_view_count": null,
            "_view_module": "@jupyter-widgets/base",
            "_view_module_version": "1.2.0",
            "_view_name": "LayoutView",
            "align_content": null,
            "align_items": null,
            "align_self": null,
            "border": null,
            "bottom": null,
            "display": null,
            "flex": null,
            "flex_flow": null,
            "grid_area": null,
            "grid_auto_columns": null,
            "grid_auto_flow": null,
            "grid_auto_rows": null,
            "grid_column": null,
            "grid_gap": null,
            "grid_row": null,
            "grid_template_areas": null,
            "grid_template_columns": null,
            "grid_template_rows": null,
            "height": null,
            "justify_content": null,
            "justify_items": null,
            "left": null,
            "margin": null,
            "max_height": null,
            "max_width": null,
            "min_height": null,
            "min_width": null,
            "object_fit": null,
            "object_position": null,
            "order": null,
            "overflow": null,
            "overflow_x": null,
            "overflow_y": null,
            "padding": null,
            "right": null,
            "top": null,
            "visibility": null,
            "width": null
          }
        },
        "eb88c06249b54e6991fce9acb185332b": {
          "model_module": "@jupyter-widgets/controls",
          "model_name": "DescriptionStyleModel",
          "model_module_version": "1.5.0",
          "state": {
            "_model_module": "@jupyter-widgets/controls",
            "_model_module_version": "1.5.0",
            "_model_name": "DescriptionStyleModel",
            "_view_count": null,
            "_view_module": "@jupyter-widgets/base",
            "_view_module_version": "1.2.0",
            "_view_name": "StyleView",
            "description_width": ""
          }
        },
        "54954a396e4f4f84aed2ef374bcb8089": {
          "model_module": "@jupyter-widgets/base",
          "model_name": "LayoutModel",
          "model_module_version": "1.2.0",
          "state": {
            "_model_module": "@jupyter-widgets/base",
            "_model_module_version": "1.2.0",
            "_model_name": "LayoutModel",
            "_view_count": null,
            "_view_module": "@jupyter-widgets/base",
            "_view_module_version": "1.2.0",
            "_view_name": "LayoutView",
            "align_content": null,
            "align_items": null,
            "align_self": null,
            "border": null,
            "bottom": null,
            "display": null,
            "flex": null,
            "flex_flow": null,
            "grid_area": null,
            "grid_auto_columns": null,
            "grid_auto_flow": null,
            "grid_auto_rows": null,
            "grid_column": null,
            "grid_gap": null,
            "grid_row": null,
            "grid_template_areas": null,
            "grid_template_columns": null,
            "grid_template_rows": null,
            "height": null,
            "justify_content": null,
            "justify_items": null,
            "left": null,
            "margin": null,
            "max_height": null,
            "max_width": null,
            "min_height": null,
            "min_width": null,
            "object_fit": null,
            "object_position": null,
            "order": null,
            "overflow": null,
            "overflow_x": null,
            "overflow_y": null,
            "padding": null,
            "right": null,
            "top": null,
            "visibility": null,
            "width": null
          }
        },
        "1c8c0b5156a54ad3b49158360d6adaf3": {
          "model_module": "@jupyter-widgets/controls",
          "model_name": "ProgressStyleModel",
          "model_module_version": "1.5.0",
          "state": {
            "_model_module": "@jupyter-widgets/controls",
            "_model_module_version": "1.5.0",
            "_model_name": "ProgressStyleModel",
            "_view_count": null,
            "_view_module": "@jupyter-widgets/base",
            "_view_module_version": "1.2.0",
            "_view_name": "StyleView",
            "bar_color": null,
            "description_width": ""
          }
        },
        "3ceb1553c79a42f1a92eca192afa10b6": {
          "model_module": "@jupyter-widgets/base",
          "model_name": "LayoutModel",
          "model_module_version": "1.2.0",
          "state": {
            "_model_module": "@jupyter-widgets/base",
            "_model_module_version": "1.2.0",
            "_model_name": "LayoutModel",
            "_view_count": null,
            "_view_module": "@jupyter-widgets/base",
            "_view_module_version": "1.2.0",
            "_view_name": "LayoutView",
            "align_content": null,
            "align_items": null,
            "align_self": null,
            "border": null,
            "bottom": null,
            "display": null,
            "flex": null,
            "flex_flow": null,
            "grid_area": null,
            "grid_auto_columns": null,
            "grid_auto_flow": null,
            "grid_auto_rows": null,
            "grid_column": null,
            "grid_gap": null,
            "grid_row": null,
            "grid_template_areas": null,
            "grid_template_columns": null,
            "grid_template_rows": null,
            "height": null,
            "justify_content": null,
            "justify_items": null,
            "left": null,
            "margin": null,
            "max_height": null,
            "max_width": null,
            "min_height": null,
            "min_width": null,
            "object_fit": null,
            "object_position": null,
            "order": null,
            "overflow": null,
            "overflow_x": null,
            "overflow_y": null,
            "padding": null,
            "right": null,
            "top": null,
            "visibility": null,
            "width": null
          }
        },
        "25d5686a5eb44b4caa5f438975492a67": {
          "model_module": "@jupyter-widgets/controls",
          "model_name": "DescriptionStyleModel",
          "model_module_version": "1.5.0",
          "state": {
            "_model_module": "@jupyter-widgets/controls",
            "_model_module_version": "1.5.0",
            "_model_name": "DescriptionStyleModel",
            "_view_count": null,
            "_view_module": "@jupyter-widgets/base",
            "_view_module_version": "1.2.0",
            "_view_name": "StyleView",
            "description_width": ""
          }
        },
        "9f856b316e1047a28fa9fc551e767edd": {
          "model_module": "@jupyter-widgets/controls",
          "model_name": "HBoxModel",
          "model_module_version": "1.5.0",
          "state": {
            "_dom_classes": [],
            "_model_module": "@jupyter-widgets/controls",
            "_model_module_version": "1.5.0",
            "_model_name": "HBoxModel",
            "_view_count": null,
            "_view_module": "@jupyter-widgets/controls",
            "_view_module_version": "1.5.0",
            "_view_name": "HBoxView",
            "box_style": "",
            "children": [
              "IPY_MODEL_92954907a3da40ce91f2a092e1d2f409",
              "IPY_MODEL_dd45a9e030e24f9eb331c92612607965",
              "IPY_MODEL_289581ba7eac4cf19b7415d828c48ab5"
            ],
            "layout": "IPY_MODEL_8c2f31fb9b6b46f1bfe3a6195fe1669e"
          }
        },
        "92954907a3da40ce91f2a092e1d2f409": {
          "model_module": "@jupyter-widgets/controls",
          "model_name": "HTMLModel",
          "model_module_version": "1.5.0",
          "state": {
            "_dom_classes": [],
            "_model_module": "@jupyter-widgets/controls",
            "_model_module_version": "1.5.0",
            "_model_name": "HTMLModel",
            "_view_count": null,
            "_view_module": "@jupyter-widgets/controls",
            "_view_module_version": "1.5.0",
            "_view_name": "HTMLView",
            "description": "",
            "description_tooltip": null,
            "layout": "IPY_MODEL_97c60e04b86c47e4a6cede762bcec633",
            "placeholder": "​",
            "style": "IPY_MODEL_5af8e6eda0a74d0f9a04577c23c4e01d",
            "value": "model-00001-of-00028.safetensors: 100%"
          }
        },
        "dd45a9e030e24f9eb331c92612607965": {
          "model_module": "@jupyter-widgets/controls",
          "model_name": "FloatProgressModel",
          "model_module_version": "1.5.0",
          "state": {
            "_dom_classes": [],
            "_model_module": "@jupyter-widgets/controls",
            "_model_module_version": "1.5.0",
            "_model_name": "FloatProgressModel",
            "_view_count": null,
            "_view_module": "@jupyter-widgets/controls",
            "_view_module_version": "1.5.0",
            "_view_name": "ProgressView",
            "bar_style": "success",
            "description": "",
            "description_tooltip": null,
            "layout": "IPY_MODEL_0ef7838612d1442f9ca352cbf70d6627",
            "max": 945730380,
            "min": 0,
            "orientation": "horizontal",
            "style": "IPY_MODEL_dd429ad7358f4c0fb3c6ee9d47e1ff6a",
            "value": 945730380
          }
        },
        "289581ba7eac4cf19b7415d828c48ab5": {
          "model_module": "@jupyter-widgets/controls",
          "model_name": "HTMLModel",
          "model_module_version": "1.5.0",
          "state": {
            "_dom_classes": [],
            "_model_module": "@jupyter-widgets/controls",
            "_model_module_version": "1.5.0",
            "_model_name": "HTMLModel",
            "_view_count": null,
            "_view_module": "@jupyter-widgets/controls",
            "_view_module_version": "1.5.0",
            "_view_name": "HTMLView",
            "description": "",
            "description_tooltip": null,
            "layout": "IPY_MODEL_c8df16b271d84898b5592ad8592cf9c5",
            "placeholder": "​",
            "style": "IPY_MODEL_e2883fbb631542b5b0c5c543519e4440",
            "value": " 946M/946M [00:09&lt;00:00, 145MB/s]"
          }
        },
        "8c2f31fb9b6b46f1bfe3a6195fe1669e": {
          "model_module": "@jupyter-widgets/base",
          "model_name": "LayoutModel",
          "model_module_version": "1.2.0",
          "state": {
            "_model_module": "@jupyter-widgets/base",
            "_model_module_version": "1.2.0",
            "_model_name": "LayoutModel",
            "_view_count": null,
            "_view_module": "@jupyter-widgets/base",
            "_view_module_version": "1.2.0",
            "_view_name": "LayoutView",
            "align_content": null,
            "align_items": null,
            "align_self": null,
            "border": null,
            "bottom": null,
            "display": null,
            "flex": null,
            "flex_flow": null,
            "grid_area": null,
            "grid_auto_columns": null,
            "grid_auto_flow": null,
            "grid_auto_rows": null,
            "grid_column": null,
            "grid_gap": null,
            "grid_row": null,
            "grid_template_areas": null,
            "grid_template_columns": null,
            "grid_template_rows": null,
            "height": null,
            "justify_content": null,
            "justify_items": null,
            "left": null,
            "margin": null,
            "max_height": null,
            "max_width": null,
            "min_height": null,
            "min_width": null,
            "object_fit": null,
            "object_position": null,
            "order": null,
            "overflow": null,
            "overflow_x": null,
            "overflow_y": null,
            "padding": null,
            "right": null,
            "top": null,
            "visibility": null,
            "width": null
          }
        },
        "97c60e04b86c47e4a6cede762bcec633": {
          "model_module": "@jupyter-widgets/base",
          "model_name": "LayoutModel",
          "model_module_version": "1.2.0",
          "state": {
            "_model_module": "@jupyter-widgets/base",
            "_model_module_version": "1.2.0",
            "_model_name": "LayoutModel",
            "_view_count": null,
            "_view_module": "@jupyter-widgets/base",
            "_view_module_version": "1.2.0",
            "_view_name": "LayoutView",
            "align_content": null,
            "align_items": null,
            "align_self": null,
            "border": null,
            "bottom": null,
            "display": null,
            "flex": null,
            "flex_flow": null,
            "grid_area": null,
            "grid_auto_columns": null,
            "grid_auto_flow": null,
            "grid_auto_rows": null,
            "grid_column": null,
            "grid_gap": null,
            "grid_row": null,
            "grid_template_areas": null,
            "grid_template_columns": null,
            "grid_template_rows": null,
            "height": null,
            "justify_content": null,
            "justify_items": null,
            "left": null,
            "margin": null,
            "max_height": null,
            "max_width": null,
            "min_height": null,
            "min_width": null,
            "object_fit": null,
            "object_position": null,
            "order": null,
            "overflow": null,
            "overflow_x": null,
            "overflow_y": null,
            "padding": null,
            "right": null,
            "top": null,
            "visibility": null,
            "width": null
          }
        },
        "5af8e6eda0a74d0f9a04577c23c4e01d": {
          "model_module": "@jupyter-widgets/controls",
          "model_name": "DescriptionStyleModel",
          "model_module_version": "1.5.0",
          "state": {
            "_model_module": "@jupyter-widgets/controls",
            "_model_module_version": "1.5.0",
            "_model_name": "DescriptionStyleModel",
            "_view_count": null,
            "_view_module": "@jupyter-widgets/base",
            "_view_module_version": "1.2.0",
            "_view_name": "StyleView",
            "description_width": ""
          }
        },
        "0ef7838612d1442f9ca352cbf70d6627": {
          "model_module": "@jupyter-widgets/base",
          "model_name": "LayoutModel",
          "model_module_version": "1.2.0",
          "state": {
            "_model_module": "@jupyter-widgets/base",
            "_model_module_version": "1.2.0",
            "_model_name": "LayoutModel",
            "_view_count": null,
            "_view_module": "@jupyter-widgets/base",
            "_view_module_version": "1.2.0",
            "_view_name": "LayoutView",
            "align_content": null,
            "align_items": null,
            "align_self": null,
            "border": null,
            "bottom": null,
            "display": null,
            "flex": null,
            "flex_flow": null,
            "grid_area": null,
            "grid_auto_columns": null,
            "grid_auto_flow": null,
            "grid_auto_rows": null,
            "grid_column": null,
            "grid_gap": null,
            "grid_row": null,
            "grid_template_areas": null,
            "grid_template_columns": null,
            "grid_template_rows": null,
            "height": null,
            "justify_content": null,
            "justify_items": null,
            "left": null,
            "margin": null,
            "max_height": null,
            "max_width": null,
            "min_height": null,
            "min_width": null,
            "object_fit": null,
            "object_position": null,
            "order": null,
            "overflow": null,
            "overflow_x": null,
            "overflow_y": null,
            "padding": null,
            "right": null,
            "top": null,
            "visibility": null,
            "width": null
          }
        },
        "dd429ad7358f4c0fb3c6ee9d47e1ff6a": {
          "model_module": "@jupyter-widgets/controls",
          "model_name": "ProgressStyleModel",
          "model_module_version": "1.5.0",
          "state": {
            "_model_module": "@jupyter-widgets/controls",
            "_model_module_version": "1.5.0",
            "_model_name": "ProgressStyleModel",
            "_view_count": null,
            "_view_module": "@jupyter-widgets/base",
            "_view_module_version": "1.2.0",
            "_view_name": "StyleView",
            "bar_color": null,
            "description_width": ""
          }
        },
        "c8df16b271d84898b5592ad8592cf9c5": {
          "model_module": "@jupyter-widgets/base",
          "model_name": "LayoutModel",
          "model_module_version": "1.2.0",
          "state": {
            "_model_module": "@jupyter-widgets/base",
            "_model_module_version": "1.2.0",
            "_model_name": "LayoutModel",
            "_view_count": null,
            "_view_module": "@jupyter-widgets/base",
            "_view_module_version": "1.2.0",
            "_view_name": "LayoutView",
            "align_content": null,
            "align_items": null,
            "align_self": null,
            "border": null,
            "bottom": null,
            "display": null,
            "flex": null,
            "flex_flow": null,
            "grid_area": null,
            "grid_auto_columns": null,
            "grid_auto_flow": null,
            "grid_auto_rows": null,
            "grid_column": null,
            "grid_gap": null,
            "grid_row": null,
            "grid_template_areas": null,
            "grid_template_columns": null,
            "grid_template_rows": null,
            "height": null,
            "justify_content": null,
            "justify_items": null,
            "left": null,
            "margin": null,
            "max_height": null,
            "max_width": null,
            "min_height": null,
            "min_width": null,
            "object_fit": null,
            "object_position": null,
            "order": null,
            "overflow": null,
            "overflow_x": null,
            "overflow_y": null,
            "padding": null,
            "right": null,
            "top": null,
            "visibility": null,
            "width": null
          }
        },
        "e2883fbb631542b5b0c5c543519e4440": {
          "model_module": "@jupyter-widgets/controls",
          "model_name": "DescriptionStyleModel",
          "model_module_version": "1.5.0",
          "state": {
            "_model_module": "@jupyter-widgets/controls",
            "_model_module_version": "1.5.0",
            "_model_name": "DescriptionStyleModel",
            "_view_count": null,
            "_view_module": "@jupyter-widgets/base",
            "_view_module_version": "1.2.0",
            "_view_name": "StyleView",
            "description_width": ""
          }
        },
        "c75640cbcf5046c28d33a17c312d8874": {
          "model_module": "@jupyter-widgets/controls",
          "model_name": "HBoxModel",
          "model_module_version": "1.5.0",
          "state": {
            "_dom_classes": [],
            "_model_module": "@jupyter-widgets/controls",
            "_model_module_version": "1.5.0",
            "_model_name": "HBoxModel",
            "_view_count": null,
            "_view_module": "@jupyter-widgets/controls",
            "_view_module_version": "1.5.0",
            "_view_name": "HBoxView",
            "box_style": "",
            "children": [
              "IPY_MODEL_f0ccac44a973435cbbdd1de620be1220",
              "IPY_MODEL_d86fafc726ef4680b239f187772dafcd",
              "IPY_MODEL_a942a93b8f3c4fe9a50eb2c63dd3403d"
            ],
            "layout": "IPY_MODEL_9ce25c53433741eab1434e46c837ab8f"
          }
        },
        "f0ccac44a973435cbbdd1de620be1220": {
          "model_module": "@jupyter-widgets/controls",
          "model_name": "HTMLModel",
          "model_module_version": "1.5.0",
          "state": {
            "_dom_classes": [],
            "_model_module": "@jupyter-widgets/controls",
            "_model_module_version": "1.5.0",
            "_model_name": "HTMLModel",
            "_view_count": null,
            "_view_module": "@jupyter-widgets/controls",
            "_view_module_version": "1.5.0",
            "_view_name": "HTMLView",
            "description": "",
            "description_tooltip": null,
            "layout": "IPY_MODEL_03b8e72c0d1c416cbb16210d482222cf",
            "placeholder": "​",
            "style": "IPY_MODEL_35d78185447a4926a54c8a5f443b4738",
            "value": "model-00002-of-00028.safetensors: 100%"
          }
        },
        "d86fafc726ef4680b239f187772dafcd": {
          "model_module": "@jupyter-widgets/controls",
          "model_name": "FloatProgressModel",
          "model_module_version": "1.5.0",
          "state": {
            "_dom_classes": [],
            "_model_module": "@jupyter-widgets/controls",
            "_model_module_version": "1.5.0",
            "_model_name": "FloatProgressModel",
            "_view_count": null,
            "_view_module": "@jupyter-widgets/controls",
            "_view_module_version": "1.5.0",
            "_view_name": "ProgressView",
            "bar_style": "success",
            "description": "",
            "description_tooltip": null,
            "layout": "IPY_MODEL_5410344966cf4682bd922481ce24d1f5",
            "max": 843231522,
            "min": 0,
            "orientation": "horizontal",
            "style": "IPY_MODEL_949ab1b3c56748798cb5863cdcfdaa0c",
            "value": 843231522
          }
        },
        "a942a93b8f3c4fe9a50eb2c63dd3403d": {
          "model_module": "@jupyter-widgets/controls",
          "model_name": "HTMLModel",
          "model_module_version": "1.5.0",
          "state": {
            "_dom_classes": [],
            "_model_module": "@jupyter-widgets/controls",
            "_model_module_version": "1.5.0",
            "_model_name": "HTMLModel",
            "_view_count": null,
            "_view_module": "@jupyter-widgets/controls",
            "_view_module_version": "1.5.0",
            "_view_name": "HTMLView",
            "description": "",
            "description_tooltip": null,
            "layout": "IPY_MODEL_7ae9005b81304501a8cb08851a0c1b81",
            "placeholder": "​",
            "style": "IPY_MODEL_f1687a9bb61c40508a117f5b00ca8470",
            "value": " 843M/843M [00:10&lt;00:00, 29.5MB/s]"
          }
        },
        "9ce25c53433741eab1434e46c837ab8f": {
          "model_module": "@jupyter-widgets/base",
          "model_name": "LayoutModel",
          "model_module_version": "1.2.0",
          "state": {
            "_model_module": "@jupyter-widgets/base",
            "_model_module_version": "1.2.0",
            "_model_name": "LayoutModel",
            "_view_count": null,
            "_view_module": "@jupyter-widgets/base",
            "_view_module_version": "1.2.0",
            "_view_name": "LayoutView",
            "align_content": null,
            "align_items": null,
            "align_self": null,
            "border": null,
            "bottom": null,
            "display": null,
            "flex": null,
            "flex_flow": null,
            "grid_area": null,
            "grid_auto_columns": null,
            "grid_auto_flow": null,
            "grid_auto_rows": null,
            "grid_column": null,
            "grid_gap": null,
            "grid_row": null,
            "grid_template_areas": null,
            "grid_template_columns": null,
            "grid_template_rows": null,
            "height": null,
            "justify_content": null,
            "justify_items": null,
            "left": null,
            "margin": null,
            "max_height": null,
            "max_width": null,
            "min_height": null,
            "min_width": null,
            "object_fit": null,
            "object_position": null,
            "order": null,
            "overflow": null,
            "overflow_x": null,
            "overflow_y": null,
            "padding": null,
            "right": null,
            "top": null,
            "visibility": null,
            "width": null
          }
        },
        "03b8e72c0d1c416cbb16210d482222cf": {
          "model_module": "@jupyter-widgets/base",
          "model_name": "LayoutModel",
          "model_module_version": "1.2.0",
          "state": {
            "_model_module": "@jupyter-widgets/base",
            "_model_module_version": "1.2.0",
            "_model_name": "LayoutModel",
            "_view_count": null,
            "_view_module": "@jupyter-widgets/base",
            "_view_module_version": "1.2.0",
            "_view_name": "LayoutView",
            "align_content": null,
            "align_items": null,
            "align_self": null,
            "border": null,
            "bottom": null,
            "display": null,
            "flex": null,
            "flex_flow": null,
            "grid_area": null,
            "grid_auto_columns": null,
            "grid_auto_flow": null,
            "grid_auto_rows": null,
            "grid_column": null,
            "grid_gap": null,
            "grid_row": null,
            "grid_template_areas": null,
            "grid_template_columns": null,
            "grid_template_rows": null,
            "height": null,
            "justify_content": null,
            "justify_items": null,
            "left": null,
            "margin": null,
            "max_height": null,
            "max_width": null,
            "min_height": null,
            "min_width": null,
            "object_fit": null,
            "object_position": null,
            "order": null,
            "overflow": null,
            "overflow_x": null,
            "overflow_y": null,
            "padding": null,
            "right": null,
            "top": null,
            "visibility": null,
            "width": null
          }
        },
        "35d78185447a4926a54c8a5f443b4738": {
          "model_module": "@jupyter-widgets/controls",
          "model_name": "DescriptionStyleModel",
          "model_module_version": "1.5.0",
          "state": {
            "_model_module": "@jupyter-widgets/controls",
            "_model_module_version": "1.5.0",
            "_model_name": "DescriptionStyleModel",
            "_view_count": null,
            "_view_module": "@jupyter-widgets/base",
            "_view_module_version": "1.2.0",
            "_view_name": "StyleView",
            "description_width": ""
          }
        },
        "5410344966cf4682bd922481ce24d1f5": {
          "model_module": "@jupyter-widgets/base",
          "model_name": "LayoutModel",
          "model_module_version": "1.2.0",
          "state": {
            "_model_module": "@jupyter-widgets/base",
            "_model_module_version": "1.2.0",
            "_model_name": "LayoutModel",
            "_view_count": null,
            "_view_module": "@jupyter-widgets/base",
            "_view_module_version": "1.2.0",
            "_view_name": "LayoutView",
            "align_content": null,
            "align_items": null,
            "align_self": null,
            "border": null,
            "bottom": null,
            "display": null,
            "flex": null,
            "flex_flow": null,
            "grid_area": null,
            "grid_auto_columns": null,
            "grid_auto_flow": null,
            "grid_auto_rows": null,
            "grid_column": null,
            "grid_gap": null,
            "grid_row": null,
            "grid_template_areas": null,
            "grid_template_columns": null,
            "grid_template_rows": null,
            "height": null,
            "justify_content": null,
            "justify_items": null,
            "left": null,
            "margin": null,
            "max_height": null,
            "max_width": null,
            "min_height": null,
            "min_width": null,
            "object_fit": null,
            "object_position": null,
            "order": null,
            "overflow": null,
            "overflow_x": null,
            "overflow_y": null,
            "padding": null,
            "right": null,
            "top": null,
            "visibility": null,
            "width": null
          }
        },
        "949ab1b3c56748798cb5863cdcfdaa0c": {
          "model_module": "@jupyter-widgets/controls",
          "model_name": "ProgressStyleModel",
          "model_module_version": "1.5.0",
          "state": {
            "_model_module": "@jupyter-widgets/controls",
            "_model_module_version": "1.5.0",
            "_model_name": "ProgressStyleModel",
            "_view_count": null,
            "_view_module": "@jupyter-widgets/base",
            "_view_module_version": "1.2.0",
            "_view_name": "StyleView",
            "bar_color": null,
            "description_width": ""
          }
        },
        "7ae9005b81304501a8cb08851a0c1b81": {
          "model_module": "@jupyter-widgets/base",
          "model_name": "LayoutModel",
          "model_module_version": "1.2.0",
          "state": {
            "_model_module": "@jupyter-widgets/base",
            "_model_module_version": "1.2.0",
            "_model_name": "LayoutModel",
            "_view_count": null,
            "_view_module": "@jupyter-widgets/base",
            "_view_module_version": "1.2.0",
            "_view_name": "LayoutView",
            "align_content": null,
            "align_items": null,
            "align_self": null,
            "border": null,
            "bottom": null,
            "display": null,
            "flex": null,
            "flex_flow": null,
            "grid_area": null,
            "grid_auto_columns": null,
            "grid_auto_flow": null,
            "grid_auto_rows": null,
            "grid_column": null,
            "grid_gap": null,
            "grid_row": null,
            "grid_template_areas": null,
            "grid_template_columns": null,
            "grid_template_rows": null,
            "height": null,
            "justify_content": null,
            "justify_items": null,
            "left": null,
            "margin": null,
            "max_height": null,
            "max_width": null,
            "min_height": null,
            "min_width": null,
            "object_fit": null,
            "object_position": null,
            "order": null,
            "overflow": null,
            "overflow_x": null,
            "overflow_y": null,
            "padding": null,
            "right": null,
            "top": null,
            "visibility": null,
            "width": null
          }
        },
        "f1687a9bb61c40508a117f5b00ca8470": {
          "model_module": "@jupyter-widgets/controls",
          "model_name": "DescriptionStyleModel",
          "model_module_version": "1.5.0",
          "state": {
            "_model_module": "@jupyter-widgets/controls",
            "_model_module_version": "1.5.0",
            "_model_name": "DescriptionStyleModel",
            "_view_count": null,
            "_view_module": "@jupyter-widgets/base",
            "_view_module_version": "1.2.0",
            "_view_name": "StyleView",
            "description_width": ""
          }
        },
        "e254d67c1e34476bb3816d787627102c": {
          "model_module": "@jupyter-widgets/controls",
          "model_name": "HBoxModel",
          "model_module_version": "1.5.0",
          "state": {
            "_dom_classes": [],
            "_model_module": "@jupyter-widgets/controls",
            "_model_module_version": "1.5.0",
            "_model_name": "HBoxModel",
            "_view_count": null,
            "_view_module": "@jupyter-widgets/controls",
            "_view_module_version": "1.5.0",
            "_view_name": "HBoxView",
            "box_style": "",
            "children": [
              "IPY_MODEL_db22ad7dba5a4a5093b9e073aa8be891",
              "IPY_MODEL_c1f45022053147fa8624eb48a511db4d",
              "IPY_MODEL_4f1628e3404c4ef485d532a975abe167"
            ],
            "layout": "IPY_MODEL_36862fd9a16b44578224d0efef63dbe7"
          }
        },
        "db22ad7dba5a4a5093b9e073aa8be891": {
          "model_module": "@jupyter-widgets/controls",
          "model_name": "HTMLModel",
          "model_module_version": "1.5.0",
          "state": {
            "_dom_classes": [],
            "_model_module": "@jupyter-widgets/controls",
            "_model_module_version": "1.5.0",
            "_model_name": "HTMLModel",
            "_view_count": null,
            "_view_module": "@jupyter-widgets/controls",
            "_view_module_version": "1.5.0",
            "_view_name": "HTMLView",
            "description": "",
            "description_tooltip": null,
            "layout": "IPY_MODEL_994f91f474bd4f3b804d903b18347011",
            "placeholder": "​",
            "style": "IPY_MODEL_f660717afd9d4dfa9d3733b6d5056322",
            "value": "model-00003-of-00028.safetensors: 100%"
          }
        },
        "c1f45022053147fa8624eb48a511db4d": {
          "model_module": "@jupyter-widgets/controls",
          "model_name": "FloatProgressModel",
          "model_module_version": "1.5.0",
          "state": {
            "_dom_classes": [],
            "_model_module": "@jupyter-widgets/controls",
            "_model_module_version": "1.5.0",
            "_model_name": "FloatProgressModel",
            "_view_count": null,
            "_view_module": "@jupyter-widgets/controls",
            "_view_module_version": "1.5.0",
            "_view_name": "ProgressView",
            "bar_style": "success",
            "description": "",
            "description_tooltip": null,
            "layout": "IPY_MODEL_87bdb8fa901c447ab08d7cb4ed6a0561",
            "max": 843231290,
            "min": 0,
            "orientation": "horizontal",
            "style": "IPY_MODEL_3a87d988dfad4bfa8c3241e860f8ecb5",
            "value": 843231290
          }
        },
        "4f1628e3404c4ef485d532a975abe167": {
          "model_module": "@jupyter-widgets/controls",
          "model_name": "HTMLModel",
          "model_module_version": "1.5.0",
          "state": {
            "_dom_classes": [],
            "_model_module": "@jupyter-widgets/controls",
            "_model_module_version": "1.5.0",
            "_model_name": "HTMLModel",
            "_view_count": null,
            "_view_module": "@jupyter-widgets/controls",
            "_view_module_version": "1.5.0",
            "_view_name": "HTMLView",
            "description": "",
            "description_tooltip": null,
            "layout": "IPY_MODEL_41ac9fcfe94a4642ba26e3b078cfd357",
            "placeholder": "​",
            "style": "IPY_MODEL_9afb21521e3147c28a2776afe75d94f1",
            "value": " 843M/843M [00:06&lt;00:00, 122MB/s]"
          }
        },
        "36862fd9a16b44578224d0efef63dbe7": {
          "model_module": "@jupyter-widgets/base",
          "model_name": "LayoutModel",
          "model_module_version": "1.2.0",
          "state": {
            "_model_module": "@jupyter-widgets/base",
            "_model_module_version": "1.2.0",
            "_model_name": "LayoutModel",
            "_view_count": null,
            "_view_module": "@jupyter-widgets/base",
            "_view_module_version": "1.2.0",
            "_view_name": "LayoutView",
            "align_content": null,
            "align_items": null,
            "align_self": null,
            "border": null,
            "bottom": null,
            "display": null,
            "flex": null,
            "flex_flow": null,
            "grid_area": null,
            "grid_auto_columns": null,
            "grid_auto_flow": null,
            "grid_auto_rows": null,
            "grid_column": null,
            "grid_gap": null,
            "grid_row": null,
            "grid_template_areas": null,
            "grid_template_columns": null,
            "grid_template_rows": null,
            "height": null,
            "justify_content": null,
            "justify_items": null,
            "left": null,
            "margin": null,
            "max_height": null,
            "max_width": null,
            "min_height": null,
            "min_width": null,
            "object_fit": null,
            "object_position": null,
            "order": null,
            "overflow": null,
            "overflow_x": null,
            "overflow_y": null,
            "padding": null,
            "right": null,
            "top": null,
            "visibility": null,
            "width": null
          }
        },
        "994f91f474bd4f3b804d903b18347011": {
          "model_module": "@jupyter-widgets/base",
          "model_name": "LayoutModel",
          "model_module_version": "1.2.0",
          "state": {
            "_model_module": "@jupyter-widgets/base",
            "_model_module_version": "1.2.0",
            "_model_name": "LayoutModel",
            "_view_count": null,
            "_view_module": "@jupyter-widgets/base",
            "_view_module_version": "1.2.0",
            "_view_name": "LayoutView",
            "align_content": null,
            "align_items": null,
            "align_self": null,
            "border": null,
            "bottom": null,
            "display": null,
            "flex": null,
            "flex_flow": null,
            "grid_area": null,
            "grid_auto_columns": null,
            "grid_auto_flow": null,
            "grid_auto_rows": null,
            "grid_column": null,
            "grid_gap": null,
            "grid_row": null,
            "grid_template_areas": null,
            "grid_template_columns": null,
            "grid_template_rows": null,
            "height": null,
            "justify_content": null,
            "justify_items": null,
            "left": null,
            "margin": null,
            "max_height": null,
            "max_width": null,
            "min_height": null,
            "min_width": null,
            "object_fit": null,
            "object_position": null,
            "order": null,
            "overflow": null,
            "overflow_x": null,
            "overflow_y": null,
            "padding": null,
            "right": null,
            "top": null,
            "visibility": null,
            "width": null
          }
        },
        "f660717afd9d4dfa9d3733b6d5056322": {
          "model_module": "@jupyter-widgets/controls",
          "model_name": "DescriptionStyleModel",
          "model_module_version": "1.5.0",
          "state": {
            "_model_module": "@jupyter-widgets/controls",
            "_model_module_version": "1.5.0",
            "_model_name": "DescriptionStyleModel",
            "_view_count": null,
            "_view_module": "@jupyter-widgets/base",
            "_view_module_version": "1.2.0",
            "_view_name": "StyleView",
            "description_width": ""
          }
        },
        "87bdb8fa901c447ab08d7cb4ed6a0561": {
          "model_module": "@jupyter-widgets/base",
          "model_name": "LayoutModel",
          "model_module_version": "1.2.0",
          "state": {
            "_model_module": "@jupyter-widgets/base",
            "_model_module_version": "1.2.0",
            "_model_name": "LayoutModel",
            "_view_count": null,
            "_view_module": "@jupyter-widgets/base",
            "_view_module_version": "1.2.0",
            "_view_name": "LayoutView",
            "align_content": null,
            "align_items": null,
            "align_self": null,
            "border": null,
            "bottom": null,
            "display": null,
            "flex": null,
            "flex_flow": null,
            "grid_area": null,
            "grid_auto_columns": null,
            "grid_auto_flow": null,
            "grid_auto_rows": null,
            "grid_column": null,
            "grid_gap": null,
            "grid_row": null,
            "grid_template_areas": null,
            "grid_template_columns": null,
            "grid_template_rows": null,
            "height": null,
            "justify_content": null,
            "justify_items": null,
            "left": null,
            "margin": null,
            "max_height": null,
            "max_width": null,
            "min_height": null,
            "min_width": null,
            "object_fit": null,
            "object_position": null,
            "order": null,
            "overflow": null,
            "overflow_x": null,
            "overflow_y": null,
            "padding": null,
            "right": null,
            "top": null,
            "visibility": null,
            "width": null
          }
        },
        "3a87d988dfad4bfa8c3241e860f8ecb5": {
          "model_module": "@jupyter-widgets/controls",
          "model_name": "ProgressStyleModel",
          "model_module_version": "1.5.0",
          "state": {
            "_model_module": "@jupyter-widgets/controls",
            "_model_module_version": "1.5.0",
            "_model_name": "ProgressStyleModel",
            "_view_count": null,
            "_view_module": "@jupyter-widgets/base",
            "_view_module_version": "1.2.0",
            "_view_name": "StyleView",
            "bar_color": null,
            "description_width": ""
          }
        },
        "41ac9fcfe94a4642ba26e3b078cfd357": {
          "model_module": "@jupyter-widgets/base",
          "model_name": "LayoutModel",
          "model_module_version": "1.2.0",
          "state": {
            "_model_module": "@jupyter-widgets/base",
            "_model_module_version": "1.2.0",
            "_model_name": "LayoutModel",
            "_view_count": null,
            "_view_module": "@jupyter-widgets/base",
            "_view_module_version": "1.2.0",
            "_view_name": "LayoutView",
            "align_content": null,
            "align_items": null,
            "align_self": null,
            "border": null,
            "bottom": null,
            "display": null,
            "flex": null,
            "flex_flow": null,
            "grid_area": null,
            "grid_auto_columns": null,
            "grid_auto_flow": null,
            "grid_auto_rows": null,
            "grid_column": null,
            "grid_gap": null,
            "grid_row": null,
            "grid_template_areas": null,
            "grid_template_columns": null,
            "grid_template_rows": null,
            "height": null,
            "justify_content": null,
            "justify_items": null,
            "left": null,
            "margin": null,
            "max_height": null,
            "max_width": null,
            "min_height": null,
            "min_width": null,
            "object_fit": null,
            "object_position": null,
            "order": null,
            "overflow": null,
            "overflow_x": null,
            "overflow_y": null,
            "padding": null,
            "right": null,
            "top": null,
            "visibility": null,
            "width": null
          }
        },
        "9afb21521e3147c28a2776afe75d94f1": {
          "model_module": "@jupyter-widgets/controls",
          "model_name": "DescriptionStyleModel",
          "model_module_version": "1.5.0",
          "state": {
            "_model_module": "@jupyter-widgets/controls",
            "_model_module_version": "1.5.0",
            "_model_name": "DescriptionStyleModel",
            "_view_count": null,
            "_view_module": "@jupyter-widgets/base",
            "_view_module_version": "1.2.0",
            "_view_name": "StyleView",
            "description_width": ""
          }
        },
        "ab44f311fd84405e9d88cdf03190b066": {
          "model_module": "@jupyter-widgets/controls",
          "model_name": "HBoxModel",
          "model_module_version": "1.5.0",
          "state": {
            "_dom_classes": [],
            "_model_module": "@jupyter-widgets/controls",
            "_model_module_version": "1.5.0",
            "_model_name": "HBoxModel",
            "_view_count": null,
            "_view_module": "@jupyter-widgets/controls",
            "_view_module_version": "1.5.0",
            "_view_name": "HBoxView",
            "box_style": "",
            "children": [
              "IPY_MODEL_48f1feb1441e4657baae8f1106dc5a54",
              "IPY_MODEL_9baae8edb145464e8669801d74aba4a9",
              "IPY_MODEL_9c6f98bd7cb74821958e3b340fa2d76f"
            ],
            "layout": "IPY_MODEL_2f04e0d1d7c44e8d94ea83a8e31420b6"
          }
        },
        "48f1feb1441e4657baae8f1106dc5a54": {
          "model_module": "@jupyter-widgets/controls",
          "model_name": "HTMLModel",
          "model_module_version": "1.5.0",
          "state": {
            "_dom_classes": [],
            "_model_module": "@jupyter-widgets/controls",
            "_model_module_version": "1.5.0",
            "_model_name": "HTMLModel",
            "_view_count": null,
            "_view_module": "@jupyter-widgets/controls",
            "_view_module_version": "1.5.0",
            "_view_name": "HTMLView",
            "description": "",
            "description_tooltip": null,
            "layout": "IPY_MODEL_62f87f84561a43caa32c21a91751e5e5",
            "placeholder": "​",
            "style": "IPY_MODEL_1f51e1c403ad43c19b63d08e106f11e4",
            "value": "model-00004-of-00028.safetensors: 100%"
          }
        },
        "9baae8edb145464e8669801d74aba4a9": {
          "model_module": "@jupyter-widgets/controls",
          "model_name": "FloatProgressModel",
          "model_module_version": "1.5.0",
          "state": {
            "_dom_classes": [],
            "_model_module": "@jupyter-widgets/controls",
            "_model_module_version": "1.5.0",
            "_model_name": "FloatProgressModel",
            "_view_count": null,
            "_view_module": "@jupyter-widgets/controls",
            "_view_module_version": "1.5.0",
            "_view_name": "ProgressView",
            "bar_style": "success",
            "description": "",
            "description_tooltip": null,
            "layout": "IPY_MODEL_bc7b4d5a0ee4411b9954dbaabbf3f8f8",
            "max": 1004754108,
            "min": 0,
            "orientation": "horizontal",
            "style": "IPY_MODEL_d4a81e4392a54d13bac79c1f3269e65e",
            "value": 1004754108
          }
        },
        "9c6f98bd7cb74821958e3b340fa2d76f": {
          "model_module": "@jupyter-widgets/controls",
          "model_name": "HTMLModel",
          "model_module_version": "1.5.0",
          "state": {
            "_dom_classes": [],
            "_model_module": "@jupyter-widgets/controls",
            "_model_module_version": "1.5.0",
            "_model_name": "HTMLModel",
            "_view_count": null,
            "_view_module": "@jupyter-widgets/controls",
            "_view_module_version": "1.5.0",
            "_view_name": "HTMLView",
            "description": "",
            "description_tooltip": null,
            "layout": "IPY_MODEL_41fad486b82e448e93b76f5098424a47",
            "placeholder": "​",
            "style": "IPY_MODEL_adad345072dc4bf9a17bc3a511441d1e",
            "value": " 1.00G/1.00G [00:11&lt;00:00, 131MB/s]"
          }
        },
        "2f04e0d1d7c44e8d94ea83a8e31420b6": {
          "model_module": "@jupyter-widgets/base",
          "model_name": "LayoutModel",
          "model_module_version": "1.2.0",
          "state": {
            "_model_module": "@jupyter-widgets/base",
            "_model_module_version": "1.2.0",
            "_model_name": "LayoutModel",
            "_view_count": null,
            "_view_module": "@jupyter-widgets/base",
            "_view_module_version": "1.2.0",
            "_view_name": "LayoutView",
            "align_content": null,
            "align_items": null,
            "align_self": null,
            "border": null,
            "bottom": null,
            "display": null,
            "flex": null,
            "flex_flow": null,
            "grid_area": null,
            "grid_auto_columns": null,
            "grid_auto_flow": null,
            "grid_auto_rows": null,
            "grid_column": null,
            "grid_gap": null,
            "grid_row": null,
            "grid_template_areas": null,
            "grid_template_columns": null,
            "grid_template_rows": null,
            "height": null,
            "justify_content": null,
            "justify_items": null,
            "left": null,
            "margin": null,
            "max_height": null,
            "max_width": null,
            "min_height": null,
            "min_width": null,
            "object_fit": null,
            "object_position": null,
            "order": null,
            "overflow": null,
            "overflow_x": null,
            "overflow_y": null,
            "padding": null,
            "right": null,
            "top": null,
            "visibility": null,
            "width": null
          }
        },
        "62f87f84561a43caa32c21a91751e5e5": {
          "model_module": "@jupyter-widgets/base",
          "model_name": "LayoutModel",
          "model_module_version": "1.2.0",
          "state": {
            "_model_module": "@jupyter-widgets/base",
            "_model_module_version": "1.2.0",
            "_model_name": "LayoutModel",
            "_view_count": null,
            "_view_module": "@jupyter-widgets/base",
            "_view_module_version": "1.2.0",
            "_view_name": "LayoutView",
            "align_content": null,
            "align_items": null,
            "align_self": null,
            "border": null,
            "bottom": null,
            "display": null,
            "flex": null,
            "flex_flow": null,
            "grid_area": null,
            "grid_auto_columns": null,
            "grid_auto_flow": null,
            "grid_auto_rows": null,
            "grid_column": null,
            "grid_gap": null,
            "grid_row": null,
            "grid_template_areas": null,
            "grid_template_columns": null,
            "grid_template_rows": null,
            "height": null,
            "justify_content": null,
            "justify_items": null,
            "left": null,
            "margin": null,
            "max_height": null,
            "max_width": null,
            "min_height": null,
            "min_width": null,
            "object_fit": null,
            "object_position": null,
            "order": null,
            "overflow": null,
            "overflow_x": null,
            "overflow_y": null,
            "padding": null,
            "right": null,
            "top": null,
            "visibility": null,
            "width": null
          }
        },
        "1f51e1c403ad43c19b63d08e106f11e4": {
          "model_module": "@jupyter-widgets/controls",
          "model_name": "DescriptionStyleModel",
          "model_module_version": "1.5.0",
          "state": {
            "_model_module": "@jupyter-widgets/controls",
            "_model_module_version": "1.5.0",
            "_model_name": "DescriptionStyleModel",
            "_view_count": null,
            "_view_module": "@jupyter-widgets/base",
            "_view_module_version": "1.2.0",
            "_view_name": "StyleView",
            "description_width": ""
          }
        },
        "bc7b4d5a0ee4411b9954dbaabbf3f8f8": {
          "model_module": "@jupyter-widgets/base",
          "model_name": "LayoutModel",
          "model_module_version": "1.2.0",
          "state": {
            "_model_module": "@jupyter-widgets/base",
            "_model_module_version": "1.2.0",
            "_model_name": "LayoutModel",
            "_view_count": null,
            "_view_module": "@jupyter-widgets/base",
            "_view_module_version": "1.2.0",
            "_view_name": "LayoutView",
            "align_content": null,
            "align_items": null,
            "align_self": null,
            "border": null,
            "bottom": null,
            "display": null,
            "flex": null,
            "flex_flow": null,
            "grid_area": null,
            "grid_auto_columns": null,
            "grid_auto_flow": null,
            "grid_auto_rows": null,
            "grid_column": null,
            "grid_gap": null,
            "grid_row": null,
            "grid_template_areas": null,
            "grid_template_columns": null,
            "grid_template_rows": null,
            "height": null,
            "justify_content": null,
            "justify_items": null,
            "left": null,
            "margin": null,
            "max_height": null,
            "max_width": null,
            "min_height": null,
            "min_width": null,
            "object_fit": null,
            "object_position": null,
            "order": null,
            "overflow": null,
            "overflow_x": null,
            "overflow_y": null,
            "padding": null,
            "right": null,
            "top": null,
            "visibility": null,
            "width": null
          }
        },
        "d4a81e4392a54d13bac79c1f3269e65e": {
          "model_module": "@jupyter-widgets/controls",
          "model_name": "ProgressStyleModel",
          "model_module_version": "1.5.0",
          "state": {
            "_model_module": "@jupyter-widgets/controls",
            "_model_module_version": "1.5.0",
            "_model_name": "ProgressStyleModel",
            "_view_count": null,
            "_view_module": "@jupyter-widgets/base",
            "_view_module_version": "1.2.0",
            "_view_name": "StyleView",
            "bar_color": null,
            "description_width": ""
          }
        },
        "41fad486b82e448e93b76f5098424a47": {
          "model_module": "@jupyter-widgets/base",
          "model_name": "LayoutModel",
          "model_module_version": "1.2.0",
          "state": {
            "_model_module": "@jupyter-widgets/base",
            "_model_module_version": "1.2.0",
            "_model_name": "LayoutModel",
            "_view_count": null,
            "_view_module": "@jupyter-widgets/base",
            "_view_module_version": "1.2.0",
            "_view_name": "LayoutView",
            "align_content": null,
            "align_items": null,
            "align_self": null,
            "border": null,
            "bottom": null,
            "display": null,
            "flex": null,
            "flex_flow": null,
            "grid_area": null,
            "grid_auto_columns": null,
            "grid_auto_flow": null,
            "grid_auto_rows": null,
            "grid_column": null,
            "grid_gap": null,
            "grid_row": null,
            "grid_template_areas": null,
            "grid_template_columns": null,
            "grid_template_rows": null,
            "height": null,
            "justify_content": null,
            "justify_items": null,
            "left": null,
            "margin": null,
            "max_height": null,
            "max_width": null,
            "min_height": null,
            "min_width": null,
            "object_fit": null,
            "object_position": null,
            "order": null,
            "overflow": null,
            "overflow_x": null,
            "overflow_y": null,
            "padding": null,
            "right": null,
            "top": null,
            "visibility": null,
            "width": null
          }
        },
        "adad345072dc4bf9a17bc3a511441d1e": {
          "model_module": "@jupyter-widgets/controls",
          "model_name": "DescriptionStyleModel",
          "model_module_version": "1.5.0",
          "state": {
            "_model_module": "@jupyter-widgets/controls",
            "_model_module_version": "1.5.0",
            "_model_name": "DescriptionStyleModel",
            "_view_count": null,
            "_view_module": "@jupyter-widgets/base",
            "_view_module_version": "1.2.0",
            "_view_name": "StyleView",
            "description_width": ""
          }
        },
        "3a5f7b6a5d7043f3be8d158f0f391bd1": {
          "model_module": "@jupyter-widgets/controls",
          "model_name": "HBoxModel",
          "model_module_version": "1.5.0",
          "state": {
            "_dom_classes": [],
            "_model_module": "@jupyter-widgets/controls",
            "_model_module_version": "1.5.0",
            "_model_name": "HBoxModel",
            "_view_count": null,
            "_view_module": "@jupyter-widgets/controls",
            "_view_module_version": "1.5.0",
            "_view_name": "HBoxView",
            "box_style": "",
            "children": [
              "IPY_MODEL_753baddcd63448e0bac29cc97ddfff95",
              "IPY_MODEL_fd2073294be442e19f3b2703402e11be",
              "IPY_MODEL_b9fbcbdf96fc4957ad6898bfb8253b8c"
            ],
            "layout": "IPY_MODEL_af597a44387244c09c0cb3547b64cda0"
          }
        },
        "753baddcd63448e0bac29cc97ddfff95": {
          "model_module": "@jupyter-widgets/controls",
          "model_name": "HTMLModel",
          "model_module_version": "1.5.0",
          "state": {
            "_dom_classes": [],
            "_model_module": "@jupyter-widgets/controls",
            "_model_module_version": "1.5.0",
            "_model_name": "HTMLModel",
            "_view_count": null,
            "_view_module": "@jupyter-widgets/controls",
            "_view_module_version": "1.5.0",
            "_view_name": "HTMLView",
            "description": "",
            "description_tooltip": null,
            "layout": "IPY_MODEL_339a3608ff43438ebfe7de6dd21bf632",
            "placeholder": "​",
            "style": "IPY_MODEL_4922b45e7aa74e1f95077002924d4b57",
            "value": "model-00005-of-00028.safetensors: 100%"
          }
        },
        "fd2073294be442e19f3b2703402e11be": {
          "model_module": "@jupyter-widgets/controls",
          "model_name": "FloatProgressModel",
          "model_module_version": "1.5.0",
          "state": {
            "_dom_classes": [],
            "_model_module": "@jupyter-widgets/controls",
            "_model_module_version": "1.5.0",
            "_model_name": "FloatProgressModel",
            "_view_count": null,
            "_view_module": "@jupyter-widgets/controls",
            "_view_module_version": "1.5.0",
            "_view_name": "ProgressView",
            "bar_style": "success",
            "description": "",
            "description_tooltip": null,
            "layout": "IPY_MODEL_4b6fa8df4a5e419b8021185c4d4f125d",
            "max": 895670546,
            "min": 0,
            "orientation": "horizontal",
            "style": "IPY_MODEL_c5efc04b76194555b239b28c229fe70d",
            "value": 895670546
          }
        },
        "b9fbcbdf96fc4957ad6898bfb8253b8c": {
          "model_module": "@jupyter-widgets/controls",
          "model_name": "HTMLModel",
          "model_module_version": "1.5.0",
          "state": {
            "_dom_classes": [],
            "_model_module": "@jupyter-widgets/controls",
            "_model_module_version": "1.5.0",
            "_model_name": "HTMLModel",
            "_view_count": null,
            "_view_module": "@jupyter-widgets/controls",
            "_view_module_version": "1.5.0",
            "_view_name": "HTMLView",
            "description": "",
            "description_tooltip": null,
            "layout": "IPY_MODEL_16032a0e47eb44c9b5e2dc5c02e79f7e",
            "placeholder": "​",
            "style": "IPY_MODEL_c9fdc6a6ebd94854934562ba7b400ecd",
            "value": " 896M/896M [00:06&lt;00:00, 176MB/s]"
          }
        },
        "af597a44387244c09c0cb3547b64cda0": {
          "model_module": "@jupyter-widgets/base",
          "model_name": "LayoutModel",
          "model_module_version": "1.2.0",
          "state": {
            "_model_module": "@jupyter-widgets/base",
            "_model_module_version": "1.2.0",
            "_model_name": "LayoutModel",
            "_view_count": null,
            "_view_module": "@jupyter-widgets/base",
            "_view_module_version": "1.2.0",
            "_view_name": "LayoutView",
            "align_content": null,
            "align_items": null,
            "align_self": null,
            "border": null,
            "bottom": null,
            "display": null,
            "flex": null,
            "flex_flow": null,
            "grid_area": null,
            "grid_auto_columns": null,
            "grid_auto_flow": null,
            "grid_auto_rows": null,
            "grid_column": null,
            "grid_gap": null,
            "grid_row": null,
            "grid_template_areas": null,
            "grid_template_columns": null,
            "grid_template_rows": null,
            "height": null,
            "justify_content": null,
            "justify_items": null,
            "left": null,
            "margin": null,
            "max_height": null,
            "max_width": null,
            "min_height": null,
            "min_width": null,
            "object_fit": null,
            "object_position": null,
            "order": null,
            "overflow": null,
            "overflow_x": null,
            "overflow_y": null,
            "padding": null,
            "right": null,
            "top": null,
            "visibility": null,
            "width": null
          }
        },
        "339a3608ff43438ebfe7de6dd21bf632": {
          "model_module": "@jupyter-widgets/base",
          "model_name": "LayoutModel",
          "model_module_version": "1.2.0",
          "state": {
            "_model_module": "@jupyter-widgets/base",
            "_model_module_version": "1.2.0",
            "_model_name": "LayoutModel",
            "_view_count": null,
            "_view_module": "@jupyter-widgets/base",
            "_view_module_version": "1.2.0",
            "_view_name": "LayoutView",
            "align_content": null,
            "align_items": null,
            "align_self": null,
            "border": null,
            "bottom": null,
            "display": null,
            "flex": null,
            "flex_flow": null,
            "grid_area": null,
            "grid_auto_columns": null,
            "grid_auto_flow": null,
            "grid_auto_rows": null,
            "grid_column": null,
            "grid_gap": null,
            "grid_row": null,
            "grid_template_areas": null,
            "grid_template_columns": null,
            "grid_template_rows": null,
            "height": null,
            "justify_content": null,
            "justify_items": null,
            "left": null,
            "margin": null,
            "max_height": null,
            "max_width": null,
            "min_height": null,
            "min_width": null,
            "object_fit": null,
            "object_position": null,
            "order": null,
            "overflow": null,
            "overflow_x": null,
            "overflow_y": null,
            "padding": null,
            "right": null,
            "top": null,
            "visibility": null,
            "width": null
          }
        },
        "4922b45e7aa74e1f95077002924d4b57": {
          "model_module": "@jupyter-widgets/controls",
          "model_name": "DescriptionStyleModel",
          "model_module_version": "1.5.0",
          "state": {
            "_model_module": "@jupyter-widgets/controls",
            "_model_module_version": "1.5.0",
            "_model_name": "DescriptionStyleModel",
            "_view_count": null,
            "_view_module": "@jupyter-widgets/base",
            "_view_module_version": "1.2.0",
            "_view_name": "StyleView",
            "description_width": ""
          }
        },
        "4b6fa8df4a5e419b8021185c4d4f125d": {
          "model_module": "@jupyter-widgets/base",
          "model_name": "LayoutModel",
          "model_module_version": "1.2.0",
          "state": {
            "_model_module": "@jupyter-widgets/base",
            "_model_module_version": "1.2.0",
            "_model_name": "LayoutModel",
            "_view_count": null,
            "_view_module": "@jupyter-widgets/base",
            "_view_module_version": "1.2.0",
            "_view_name": "LayoutView",
            "align_content": null,
            "align_items": null,
            "align_self": null,
            "border": null,
            "bottom": null,
            "display": null,
            "flex": null,
            "flex_flow": null,
            "grid_area": null,
            "grid_auto_columns": null,
            "grid_auto_flow": null,
            "grid_auto_rows": null,
            "grid_column": null,
            "grid_gap": null,
            "grid_row": null,
            "grid_template_areas": null,
            "grid_template_columns": null,
            "grid_template_rows": null,
            "height": null,
            "justify_content": null,
            "justify_items": null,
            "left": null,
            "margin": null,
            "max_height": null,
            "max_width": null,
            "min_height": null,
            "min_width": null,
            "object_fit": null,
            "object_position": null,
            "order": null,
            "overflow": null,
            "overflow_x": null,
            "overflow_y": null,
            "padding": null,
            "right": null,
            "top": null,
            "visibility": null,
            "width": null
          }
        },
        "c5efc04b76194555b239b28c229fe70d": {
          "model_module": "@jupyter-widgets/controls",
          "model_name": "ProgressStyleModel",
          "model_module_version": "1.5.0",
          "state": {
            "_model_module": "@jupyter-widgets/controls",
            "_model_module_version": "1.5.0",
            "_model_name": "ProgressStyleModel",
            "_view_count": null,
            "_view_module": "@jupyter-widgets/base",
            "_view_module_version": "1.2.0",
            "_view_name": "StyleView",
            "bar_color": null,
            "description_width": ""
          }
        },
        "16032a0e47eb44c9b5e2dc5c02e79f7e": {
          "model_module": "@jupyter-widgets/base",
          "model_name": "LayoutModel",
          "model_module_version": "1.2.0",
          "state": {
            "_model_module": "@jupyter-widgets/base",
            "_model_module_version": "1.2.0",
            "_model_name": "LayoutModel",
            "_view_count": null,
            "_view_module": "@jupyter-widgets/base",
            "_view_module_version": "1.2.0",
            "_view_name": "LayoutView",
            "align_content": null,
            "align_items": null,
            "align_self": null,
            "border": null,
            "bottom": null,
            "display": null,
            "flex": null,
            "flex_flow": null,
            "grid_area": null,
            "grid_auto_columns": null,
            "grid_auto_flow": null,
            "grid_auto_rows": null,
            "grid_column": null,
            "grid_gap": null,
            "grid_row": null,
            "grid_template_areas": null,
            "grid_template_columns": null,
            "grid_template_rows": null,
            "height": null,
            "justify_content": null,
            "justify_items": null,
            "left": null,
            "margin": null,
            "max_height": null,
            "max_width": null,
            "min_height": null,
            "min_width": null,
            "object_fit": null,
            "object_position": null,
            "order": null,
            "overflow": null,
            "overflow_x": null,
            "overflow_y": null,
            "padding": null,
            "right": null,
            "top": null,
            "visibility": null,
            "width": null
          }
        },
        "c9fdc6a6ebd94854934562ba7b400ecd": {
          "model_module": "@jupyter-widgets/controls",
          "model_name": "DescriptionStyleModel",
          "model_module_version": "1.5.0",
          "state": {
            "_model_module": "@jupyter-widgets/controls",
            "_model_module_version": "1.5.0",
            "_model_name": "DescriptionStyleModel",
            "_view_count": null,
            "_view_module": "@jupyter-widgets/base",
            "_view_module_version": "1.2.0",
            "_view_name": "StyleView",
            "description_width": ""
          }
        },
        "5043431d5bab4d8cb56f99b21612ed02": {
          "model_module": "@jupyter-widgets/controls",
          "model_name": "HBoxModel",
          "model_module_version": "1.5.0",
          "state": {
            "_dom_classes": [],
            "_model_module": "@jupyter-widgets/controls",
            "_model_module_version": "1.5.0",
            "_model_name": "HBoxModel",
            "_view_count": null,
            "_view_module": "@jupyter-widgets/controls",
            "_view_module_version": "1.5.0",
            "_view_name": "HBoxView",
            "box_style": "",
            "children": [
              "IPY_MODEL_dccf26cdf05d46a0a0a8edba2d4a6919",
              "IPY_MODEL_8f342929a3994eeaba71a44c81bfed1b",
              "IPY_MODEL_edb53b1a2d0d4168a3fa5d5446555a3e"
            ],
            "layout": "IPY_MODEL_784b3777143646da93d34560f096f2d6"
          }
        },
        "dccf26cdf05d46a0a0a8edba2d4a6919": {
          "model_module": "@jupyter-widgets/controls",
          "model_name": "HTMLModel",
          "model_module_version": "1.5.0",
          "state": {
            "_dom_classes": [],
            "_model_module": "@jupyter-widgets/controls",
            "_model_module_version": "1.5.0",
            "_model_name": "HTMLModel",
            "_view_count": null,
            "_view_module": "@jupyter-widgets/controls",
            "_view_module_version": "1.5.0",
            "_view_name": "HTMLView",
            "description": "",
            "description_tooltip": null,
            "layout": "IPY_MODEL_4469592db0de4571b6c762961a077578",
            "placeholder": "​",
            "style": "IPY_MODEL_5dd74b56521442138bdea84adba889fb",
            "value": "model-00006-of-00028.safetensors: 100%"
          }
        },
        "8f342929a3994eeaba71a44c81bfed1b": {
          "model_module": "@jupyter-widgets/controls",
          "model_name": "FloatProgressModel",
          "model_module_version": "1.5.0",
          "state": {
            "_dom_classes": [],
            "_model_module": "@jupyter-widgets/controls",
            "_model_module_version": "1.5.0",
            "_model_name": "FloatProgressModel",
            "_view_count": null,
            "_view_module": "@jupyter-widgets/controls",
            "_view_module_version": "1.5.0",
            "_view_name": "ProgressView",
            "bar_style": "success",
            "description": "",
            "description_tooltip": null,
            "layout": "IPY_MODEL_7f3307a4f67942479479f506b5e73802",
            "max": 1004754108,
            "min": 0,
            "orientation": "horizontal",
            "style": "IPY_MODEL_300d3a4c9bcd47008f8ee7174b233bc5",
            "value": 1004754108
          }
        },
        "edb53b1a2d0d4168a3fa5d5446555a3e": {
          "model_module": "@jupyter-widgets/controls",
          "model_name": "HTMLModel",
          "model_module_version": "1.5.0",
          "state": {
            "_dom_classes": [],
            "_model_module": "@jupyter-widgets/controls",
            "_model_module_version": "1.5.0",
            "_model_name": "HTMLModel",
            "_view_count": null,
            "_view_module": "@jupyter-widgets/controls",
            "_view_module_version": "1.5.0",
            "_view_name": "HTMLView",
            "description": "",
            "description_tooltip": null,
            "layout": "IPY_MODEL_df3600816b41468c93e92e19feafb211",
            "placeholder": "​",
            "style": "IPY_MODEL_ccf5638434b94a998d0988a95e5f8d6d",
            "value": " 1.00G/1.00G [00:06&lt;00:00, 197MB/s]"
          }
        },
        "784b3777143646da93d34560f096f2d6": {
          "model_module": "@jupyter-widgets/base",
          "model_name": "LayoutModel",
          "model_module_version": "1.2.0",
          "state": {
            "_model_module": "@jupyter-widgets/base",
            "_model_module_version": "1.2.0",
            "_model_name": "LayoutModel",
            "_view_count": null,
            "_view_module": "@jupyter-widgets/base",
            "_view_module_version": "1.2.0",
            "_view_name": "LayoutView",
            "align_content": null,
            "align_items": null,
            "align_self": null,
            "border": null,
            "bottom": null,
            "display": null,
            "flex": null,
            "flex_flow": null,
            "grid_area": null,
            "grid_auto_columns": null,
            "grid_auto_flow": null,
            "grid_auto_rows": null,
            "grid_column": null,
            "grid_gap": null,
            "grid_row": null,
            "grid_template_areas": null,
            "grid_template_columns": null,
            "grid_template_rows": null,
            "height": null,
            "justify_content": null,
            "justify_items": null,
            "left": null,
            "margin": null,
            "max_height": null,
            "max_width": null,
            "min_height": null,
            "min_width": null,
            "object_fit": null,
            "object_position": null,
            "order": null,
            "overflow": null,
            "overflow_x": null,
            "overflow_y": null,
            "padding": null,
            "right": null,
            "top": null,
            "visibility": null,
            "width": null
          }
        },
        "4469592db0de4571b6c762961a077578": {
          "model_module": "@jupyter-widgets/base",
          "model_name": "LayoutModel",
          "model_module_version": "1.2.0",
          "state": {
            "_model_module": "@jupyter-widgets/base",
            "_model_module_version": "1.2.0",
            "_model_name": "LayoutModel",
            "_view_count": null,
            "_view_module": "@jupyter-widgets/base",
            "_view_module_version": "1.2.0",
            "_view_name": "LayoutView",
            "align_content": null,
            "align_items": null,
            "align_self": null,
            "border": null,
            "bottom": null,
            "display": null,
            "flex": null,
            "flex_flow": null,
            "grid_area": null,
            "grid_auto_columns": null,
            "grid_auto_flow": null,
            "grid_auto_rows": null,
            "grid_column": null,
            "grid_gap": null,
            "grid_row": null,
            "grid_template_areas": null,
            "grid_template_columns": null,
            "grid_template_rows": null,
            "height": null,
            "justify_content": null,
            "justify_items": null,
            "left": null,
            "margin": null,
            "max_height": null,
            "max_width": null,
            "min_height": null,
            "min_width": null,
            "object_fit": null,
            "object_position": null,
            "order": null,
            "overflow": null,
            "overflow_x": null,
            "overflow_y": null,
            "padding": null,
            "right": null,
            "top": null,
            "visibility": null,
            "width": null
          }
        },
        "5dd74b56521442138bdea84adba889fb": {
          "model_module": "@jupyter-widgets/controls",
          "model_name": "DescriptionStyleModel",
          "model_module_version": "1.5.0",
          "state": {
            "_model_module": "@jupyter-widgets/controls",
            "_model_module_version": "1.5.0",
            "_model_name": "DescriptionStyleModel",
            "_view_count": null,
            "_view_module": "@jupyter-widgets/base",
            "_view_module_version": "1.2.0",
            "_view_name": "StyleView",
            "description_width": ""
          }
        },
        "7f3307a4f67942479479f506b5e73802": {
          "model_module": "@jupyter-widgets/base",
          "model_name": "LayoutModel",
          "model_module_version": "1.2.0",
          "state": {
            "_model_module": "@jupyter-widgets/base",
            "_model_module_version": "1.2.0",
            "_model_name": "LayoutModel",
            "_view_count": null,
            "_view_module": "@jupyter-widgets/base",
            "_view_module_version": "1.2.0",
            "_view_name": "LayoutView",
            "align_content": null,
            "align_items": null,
            "align_self": null,
            "border": null,
            "bottom": null,
            "display": null,
            "flex": null,
            "flex_flow": null,
            "grid_area": null,
            "grid_auto_columns": null,
            "grid_auto_flow": null,
            "grid_auto_rows": null,
            "grid_column": null,
            "grid_gap": null,
            "grid_row": null,
            "grid_template_areas": null,
            "grid_template_columns": null,
            "grid_template_rows": null,
            "height": null,
            "justify_content": null,
            "justify_items": null,
            "left": null,
            "margin": null,
            "max_height": null,
            "max_width": null,
            "min_height": null,
            "min_width": null,
            "object_fit": null,
            "object_position": null,
            "order": null,
            "overflow": null,
            "overflow_x": null,
            "overflow_y": null,
            "padding": null,
            "right": null,
            "top": null,
            "visibility": null,
            "width": null
          }
        },
        "300d3a4c9bcd47008f8ee7174b233bc5": {
          "model_module": "@jupyter-widgets/controls",
          "model_name": "ProgressStyleModel",
          "model_module_version": "1.5.0",
          "state": {
            "_model_module": "@jupyter-widgets/controls",
            "_model_module_version": "1.5.0",
            "_model_name": "ProgressStyleModel",
            "_view_count": null,
            "_view_module": "@jupyter-widgets/base",
            "_view_module_version": "1.2.0",
            "_view_name": "StyleView",
            "bar_color": null,
            "description_width": ""
          }
        },
        "df3600816b41468c93e92e19feafb211": {
          "model_module": "@jupyter-widgets/base",
          "model_name": "LayoutModel",
          "model_module_version": "1.2.0",
          "state": {
            "_model_module": "@jupyter-widgets/base",
            "_model_module_version": "1.2.0",
            "_model_name": "LayoutModel",
            "_view_count": null,
            "_view_module": "@jupyter-widgets/base",
            "_view_module_version": "1.2.0",
            "_view_name": "LayoutView",
            "align_content": null,
            "align_items": null,
            "align_self": null,
            "border": null,
            "bottom": null,
            "display": null,
            "flex": null,
            "flex_flow": null,
            "grid_area": null,
            "grid_auto_columns": null,
            "grid_auto_flow": null,
            "grid_auto_rows": null,
            "grid_column": null,
            "grid_gap": null,
            "grid_row": null,
            "grid_template_areas": null,
            "grid_template_columns": null,
            "grid_template_rows": null,
            "height": null,
            "justify_content": null,
            "justify_items": null,
            "left": null,
            "margin": null,
            "max_height": null,
            "max_width": null,
            "min_height": null,
            "min_width": null,
            "object_fit": null,
            "object_position": null,
            "order": null,
            "overflow": null,
            "overflow_x": null,
            "overflow_y": null,
            "padding": null,
            "right": null,
            "top": null,
            "visibility": null,
            "width": null
          }
        },
        "ccf5638434b94a998d0988a95e5f8d6d": {
          "model_module": "@jupyter-widgets/controls",
          "model_name": "DescriptionStyleModel",
          "model_module_version": "1.5.0",
          "state": {
            "_model_module": "@jupyter-widgets/controls",
            "_model_module_version": "1.5.0",
            "_model_name": "DescriptionStyleModel",
            "_view_count": null,
            "_view_module": "@jupyter-widgets/base",
            "_view_module_version": "1.2.0",
            "_view_name": "StyleView",
            "description_width": ""
          }
        },
        "35be2672d4cc47ecae0eaf8a34269e51": {
          "model_module": "@jupyter-widgets/controls",
          "model_name": "HBoxModel",
          "model_module_version": "1.5.0",
          "state": {
            "_dom_classes": [],
            "_model_module": "@jupyter-widgets/controls",
            "_model_module_version": "1.5.0",
            "_model_name": "HBoxModel",
            "_view_count": null,
            "_view_module": "@jupyter-widgets/controls",
            "_view_module_version": "1.5.0",
            "_view_name": "HBoxView",
            "box_style": "",
            "children": [
              "IPY_MODEL_32486ecee1d34033b56e6ad4a296f777",
              "IPY_MODEL_ba5d29a9f8f34672bfcfe815646ee42e",
              "IPY_MODEL_c7648d518f464764b0b2c452a8898637"
            ],
            "layout": "IPY_MODEL_d40f87b54a2a4043a9674488b8de144c"
          }
        },
        "32486ecee1d34033b56e6ad4a296f777": {
          "model_module": "@jupyter-widgets/controls",
          "model_name": "HTMLModel",
          "model_module_version": "1.5.0",
          "state": {
            "_dom_classes": [],
            "_model_module": "@jupyter-widgets/controls",
            "_model_module_version": "1.5.0",
            "_model_name": "HTMLModel",
            "_view_count": null,
            "_view_module": "@jupyter-widgets/controls",
            "_view_module_version": "1.5.0",
            "_view_name": "HTMLView",
            "description": "",
            "description_tooltip": null,
            "layout": "IPY_MODEL_78d24cc443da498ba66ecd82e8ec06d5",
            "placeholder": "​",
            "style": "IPY_MODEL_51f7f8a32bbd42638db5670ed2986c2d",
            "value": "model-00007-of-00028.safetensors: 100%"
          }
        },
        "ba5d29a9f8f34672bfcfe815646ee42e": {
          "model_module": "@jupyter-widgets/controls",
          "model_name": "FloatProgressModel",
          "model_module_version": "1.5.0",
          "state": {
            "_dom_classes": [],
            "_model_module": "@jupyter-widgets/controls",
            "_model_module_version": "1.5.0",
            "_model_name": "FloatProgressModel",
            "_view_count": null,
            "_view_module": "@jupyter-widgets/controls",
            "_view_module_version": "1.5.0",
            "_view_name": "ProgressView",
            "bar_style": "success",
            "description": "",
            "description_tooltip": null,
            "layout": "IPY_MODEL_8c213a24f48d41a19f3661f0b441e9f1",
            "max": 895670546,
            "min": 0,
            "orientation": "horizontal",
            "style": "IPY_MODEL_315083c3262e45cd8ef5b4bc8e894de4",
            "value": 895670546
          }
        },
        "c7648d518f464764b0b2c452a8898637": {
          "model_module": "@jupyter-widgets/controls",
          "model_name": "HTMLModel",
          "model_module_version": "1.5.0",
          "state": {
            "_dom_classes": [],
            "_model_module": "@jupyter-widgets/controls",
            "_model_module_version": "1.5.0",
            "_model_name": "HTMLModel",
            "_view_count": null,
            "_view_module": "@jupyter-widgets/controls",
            "_view_module_version": "1.5.0",
            "_view_name": "HTMLView",
            "description": "",
            "description_tooltip": null,
            "layout": "IPY_MODEL_a1a65735e31b41528adc743840384856",
            "placeholder": "​",
            "style": "IPY_MODEL_0796b7aff21c41b69a4ef1bfa247d929",
            "value": " 896M/896M [00:05&lt;00:00, 188MB/s]"
          }
        },
        "d40f87b54a2a4043a9674488b8de144c": {
          "model_module": "@jupyter-widgets/base",
          "model_name": "LayoutModel",
          "model_module_version": "1.2.0",
          "state": {
            "_model_module": "@jupyter-widgets/base",
            "_model_module_version": "1.2.0",
            "_model_name": "LayoutModel",
            "_view_count": null,
            "_view_module": "@jupyter-widgets/base",
            "_view_module_version": "1.2.0",
            "_view_name": "LayoutView",
            "align_content": null,
            "align_items": null,
            "align_self": null,
            "border": null,
            "bottom": null,
            "display": null,
            "flex": null,
            "flex_flow": null,
            "grid_area": null,
            "grid_auto_columns": null,
            "grid_auto_flow": null,
            "grid_auto_rows": null,
            "grid_column": null,
            "grid_gap": null,
            "grid_row": null,
            "grid_template_areas": null,
            "grid_template_columns": null,
            "grid_template_rows": null,
            "height": null,
            "justify_content": null,
            "justify_items": null,
            "left": null,
            "margin": null,
            "max_height": null,
            "max_width": null,
            "min_height": null,
            "min_width": null,
            "object_fit": null,
            "object_position": null,
            "order": null,
            "overflow": null,
            "overflow_x": null,
            "overflow_y": null,
            "padding": null,
            "right": null,
            "top": null,
            "visibility": null,
            "width": null
          }
        },
        "78d24cc443da498ba66ecd82e8ec06d5": {
          "model_module": "@jupyter-widgets/base",
          "model_name": "LayoutModel",
          "model_module_version": "1.2.0",
          "state": {
            "_model_module": "@jupyter-widgets/base",
            "_model_module_version": "1.2.0",
            "_model_name": "LayoutModel",
            "_view_count": null,
            "_view_module": "@jupyter-widgets/base",
            "_view_module_version": "1.2.0",
            "_view_name": "LayoutView",
            "align_content": null,
            "align_items": null,
            "align_self": null,
            "border": null,
            "bottom": null,
            "display": null,
            "flex": null,
            "flex_flow": null,
            "grid_area": null,
            "grid_auto_columns": null,
            "grid_auto_flow": null,
            "grid_auto_rows": null,
            "grid_column": null,
            "grid_gap": null,
            "grid_row": null,
            "grid_template_areas": null,
            "grid_template_columns": null,
            "grid_template_rows": null,
            "height": null,
            "justify_content": null,
            "justify_items": null,
            "left": null,
            "margin": null,
            "max_height": null,
            "max_width": null,
            "min_height": null,
            "min_width": null,
            "object_fit": null,
            "object_position": null,
            "order": null,
            "overflow": null,
            "overflow_x": null,
            "overflow_y": null,
            "padding": null,
            "right": null,
            "top": null,
            "visibility": null,
            "width": null
          }
        },
        "51f7f8a32bbd42638db5670ed2986c2d": {
          "model_module": "@jupyter-widgets/controls",
          "model_name": "DescriptionStyleModel",
          "model_module_version": "1.5.0",
          "state": {
            "_model_module": "@jupyter-widgets/controls",
            "_model_module_version": "1.5.0",
            "_model_name": "DescriptionStyleModel",
            "_view_count": null,
            "_view_module": "@jupyter-widgets/base",
            "_view_module_version": "1.2.0",
            "_view_name": "StyleView",
            "description_width": ""
          }
        },
        "8c213a24f48d41a19f3661f0b441e9f1": {
          "model_module": "@jupyter-widgets/base",
          "model_name": "LayoutModel",
          "model_module_version": "1.2.0",
          "state": {
            "_model_module": "@jupyter-widgets/base",
            "_model_module_version": "1.2.0",
            "_model_name": "LayoutModel",
            "_view_count": null,
            "_view_module": "@jupyter-widgets/base",
            "_view_module_version": "1.2.0",
            "_view_name": "LayoutView",
            "align_content": null,
            "align_items": null,
            "align_self": null,
            "border": null,
            "bottom": null,
            "display": null,
            "flex": null,
            "flex_flow": null,
            "grid_area": null,
            "grid_auto_columns": null,
            "grid_auto_flow": null,
            "grid_auto_rows": null,
            "grid_column": null,
            "grid_gap": null,
            "grid_row": null,
            "grid_template_areas": null,
            "grid_template_columns": null,
            "grid_template_rows": null,
            "height": null,
            "justify_content": null,
            "justify_items": null,
            "left": null,
            "margin": null,
            "max_height": null,
            "max_width": null,
            "min_height": null,
            "min_width": null,
            "object_fit": null,
            "object_position": null,
            "order": null,
            "overflow": null,
            "overflow_x": null,
            "overflow_y": null,
            "padding": null,
            "right": null,
            "top": null,
            "visibility": null,
            "width": null
          }
        },
        "315083c3262e45cd8ef5b4bc8e894de4": {
          "model_module": "@jupyter-widgets/controls",
          "model_name": "ProgressStyleModel",
          "model_module_version": "1.5.0",
          "state": {
            "_model_module": "@jupyter-widgets/controls",
            "_model_module_version": "1.5.0",
            "_model_name": "ProgressStyleModel",
            "_view_count": null,
            "_view_module": "@jupyter-widgets/base",
            "_view_module_version": "1.2.0",
            "_view_name": "StyleView",
            "bar_color": null,
            "description_width": ""
          }
        },
        "a1a65735e31b41528adc743840384856": {
          "model_module": "@jupyter-widgets/base",
          "model_name": "LayoutModel",
          "model_module_version": "1.2.0",
          "state": {
            "_model_module": "@jupyter-widgets/base",
            "_model_module_version": "1.2.0",
            "_model_name": "LayoutModel",
            "_view_count": null,
            "_view_module": "@jupyter-widgets/base",
            "_view_module_version": "1.2.0",
            "_view_name": "LayoutView",
            "align_content": null,
            "align_items": null,
            "align_self": null,
            "border": null,
            "bottom": null,
            "display": null,
            "flex": null,
            "flex_flow": null,
            "grid_area": null,
            "grid_auto_columns": null,
            "grid_auto_flow": null,
            "grid_auto_rows": null,
            "grid_column": null,
            "grid_gap": null,
            "grid_row": null,
            "grid_template_areas": null,
            "grid_template_columns": null,
            "grid_template_rows": null,
            "height": null,
            "justify_content": null,
            "justify_items": null,
            "left": null,
            "margin": null,
            "max_height": null,
            "max_width": null,
            "min_height": null,
            "min_width": null,
            "object_fit": null,
            "object_position": null,
            "order": null,
            "overflow": null,
            "overflow_x": null,
            "overflow_y": null,
            "padding": null,
            "right": null,
            "top": null,
            "visibility": null,
            "width": null
          }
        },
        "0796b7aff21c41b69a4ef1bfa247d929": {
          "model_module": "@jupyter-widgets/controls",
          "model_name": "DescriptionStyleModel",
          "model_module_version": "1.5.0",
          "state": {
            "_model_module": "@jupyter-widgets/controls",
            "_model_module_version": "1.5.0",
            "_model_name": "DescriptionStyleModel",
            "_view_count": null,
            "_view_module": "@jupyter-widgets/base",
            "_view_module_version": "1.2.0",
            "_view_name": "StyleView",
            "description_width": ""
          }
        },
        "3b470a20f1144a03a8a4aa1b80a843e9": {
          "model_module": "@jupyter-widgets/controls",
          "model_name": "HBoxModel",
          "model_module_version": "1.5.0",
          "state": {
            "_dom_classes": [],
            "_model_module": "@jupyter-widgets/controls",
            "_model_module_version": "1.5.0",
            "_model_name": "HBoxModel",
            "_view_count": null,
            "_view_module": "@jupyter-widgets/controls",
            "_view_module_version": "1.5.0",
            "_view_name": "HBoxView",
            "box_style": "",
            "children": [
              "IPY_MODEL_9000fa6dd93c403e9fe47b5ef8686030",
              "IPY_MODEL_f02f5dc40e974944b01226d2c3ad963b",
              "IPY_MODEL_eb14605e7050409890315273e083fde8"
            ],
            "layout": "IPY_MODEL_2d1ccd305bb44b33839d2c4319811be9"
          }
        },
        "9000fa6dd93c403e9fe47b5ef8686030": {
          "model_module": "@jupyter-widgets/controls",
          "model_name": "HTMLModel",
          "model_module_version": "1.5.0",
          "state": {
            "_dom_classes": [],
            "_model_module": "@jupyter-widgets/controls",
            "_model_module_version": "1.5.0",
            "_model_name": "HTMLModel",
            "_view_count": null,
            "_view_module": "@jupyter-widgets/controls",
            "_view_module_version": "1.5.0",
            "_view_name": "HTMLView",
            "description": "",
            "description_tooltip": null,
            "layout": "IPY_MODEL_195b3cb3185a4849861b59dbffd9f932",
            "placeholder": "​",
            "style": "IPY_MODEL_894800f356a042299b2b2a9bf19a1b08",
            "value": "model-00008-of-00028.safetensors: 100%"
          }
        },
        "f02f5dc40e974944b01226d2c3ad963b": {
          "model_module": "@jupyter-widgets/controls",
          "model_name": "FloatProgressModel",
          "model_module_version": "1.5.0",
          "state": {
            "_dom_classes": [],
            "_model_module": "@jupyter-widgets/controls",
            "_model_module_version": "1.5.0",
            "_model_name": "FloatProgressModel",
            "_view_count": null,
            "_view_module": "@jupyter-widgets/controls",
            "_view_module_version": "1.5.0",
            "_view_name": "ProgressView",
            "bar_style": "success",
            "description": "",
            "description_tooltip": null,
            "layout": "IPY_MODEL_c842eca0903a4f41aad4b946f2185536",
            "max": 1004754132,
            "min": 0,
            "orientation": "horizontal",
            "style": "IPY_MODEL_6fc1d385305a4ae2a34a9890650f1703",
            "value": 1004754132
          }
        },
        "eb14605e7050409890315273e083fde8": {
          "model_module": "@jupyter-widgets/controls",
          "model_name": "HTMLModel",
          "model_module_version": "1.5.0",
          "state": {
            "_dom_classes": [],
            "_model_module": "@jupyter-widgets/controls",
            "_model_module_version": "1.5.0",
            "_model_name": "HTMLModel",
            "_view_count": null,
            "_view_module": "@jupyter-widgets/controls",
            "_view_module_version": "1.5.0",
            "_view_name": "HTMLView",
            "description": "",
            "description_tooltip": null,
            "layout": "IPY_MODEL_ba06c2f0d2c343858b88be665497d12a",
            "placeholder": "​",
            "style": "IPY_MODEL_7bddab2b73d7442695c99b4e54a5d771",
            "value": " 1.00G/1.00G [00:10&lt;00:00, 179MB/s]"
          }
        },
        "2d1ccd305bb44b33839d2c4319811be9": {
          "model_module": "@jupyter-widgets/base",
          "model_name": "LayoutModel",
          "model_module_version": "1.2.0",
          "state": {
            "_model_module": "@jupyter-widgets/base",
            "_model_module_version": "1.2.0",
            "_model_name": "LayoutModel",
            "_view_count": null,
            "_view_module": "@jupyter-widgets/base",
            "_view_module_version": "1.2.0",
            "_view_name": "LayoutView",
            "align_content": null,
            "align_items": null,
            "align_self": null,
            "border": null,
            "bottom": null,
            "display": null,
            "flex": null,
            "flex_flow": null,
            "grid_area": null,
            "grid_auto_columns": null,
            "grid_auto_flow": null,
            "grid_auto_rows": null,
            "grid_column": null,
            "grid_gap": null,
            "grid_row": null,
            "grid_template_areas": null,
            "grid_template_columns": null,
            "grid_template_rows": null,
            "height": null,
            "justify_content": null,
            "justify_items": null,
            "left": null,
            "margin": null,
            "max_height": null,
            "max_width": null,
            "min_height": null,
            "min_width": null,
            "object_fit": null,
            "object_position": null,
            "order": null,
            "overflow": null,
            "overflow_x": null,
            "overflow_y": null,
            "padding": null,
            "right": null,
            "top": null,
            "visibility": null,
            "width": null
          }
        },
        "195b3cb3185a4849861b59dbffd9f932": {
          "model_module": "@jupyter-widgets/base",
          "model_name": "LayoutModel",
          "model_module_version": "1.2.0",
          "state": {
            "_model_module": "@jupyter-widgets/base",
            "_model_module_version": "1.2.0",
            "_model_name": "LayoutModel",
            "_view_count": null,
            "_view_module": "@jupyter-widgets/base",
            "_view_module_version": "1.2.0",
            "_view_name": "LayoutView",
            "align_content": null,
            "align_items": null,
            "align_self": null,
            "border": null,
            "bottom": null,
            "display": null,
            "flex": null,
            "flex_flow": null,
            "grid_area": null,
            "grid_auto_columns": null,
            "grid_auto_flow": null,
            "grid_auto_rows": null,
            "grid_column": null,
            "grid_gap": null,
            "grid_row": null,
            "grid_template_areas": null,
            "grid_template_columns": null,
            "grid_template_rows": null,
            "height": null,
            "justify_content": null,
            "justify_items": null,
            "left": null,
            "margin": null,
            "max_height": null,
            "max_width": null,
            "min_height": null,
            "min_width": null,
            "object_fit": null,
            "object_position": null,
            "order": null,
            "overflow": null,
            "overflow_x": null,
            "overflow_y": null,
            "padding": null,
            "right": null,
            "top": null,
            "visibility": null,
            "width": null
          }
        },
        "894800f356a042299b2b2a9bf19a1b08": {
          "model_module": "@jupyter-widgets/controls",
          "model_name": "DescriptionStyleModel",
          "model_module_version": "1.5.0",
          "state": {
            "_model_module": "@jupyter-widgets/controls",
            "_model_module_version": "1.5.0",
            "_model_name": "DescriptionStyleModel",
            "_view_count": null,
            "_view_module": "@jupyter-widgets/base",
            "_view_module_version": "1.2.0",
            "_view_name": "StyleView",
            "description_width": ""
          }
        },
        "c842eca0903a4f41aad4b946f2185536": {
          "model_module": "@jupyter-widgets/base",
          "model_name": "LayoutModel",
          "model_module_version": "1.2.0",
          "state": {
            "_model_module": "@jupyter-widgets/base",
            "_model_module_version": "1.2.0",
            "_model_name": "LayoutModel",
            "_view_count": null,
            "_view_module": "@jupyter-widgets/base",
            "_view_module_version": "1.2.0",
            "_view_name": "LayoutView",
            "align_content": null,
            "align_items": null,
            "align_self": null,
            "border": null,
            "bottom": null,
            "display": null,
            "flex": null,
            "flex_flow": null,
            "grid_area": null,
            "grid_auto_columns": null,
            "grid_auto_flow": null,
            "grid_auto_rows": null,
            "grid_column": null,
            "grid_gap": null,
            "grid_row": null,
            "grid_template_areas": null,
            "grid_template_columns": null,
            "grid_template_rows": null,
            "height": null,
            "justify_content": null,
            "justify_items": null,
            "left": null,
            "margin": null,
            "max_height": null,
            "max_width": null,
            "min_height": null,
            "min_width": null,
            "object_fit": null,
            "object_position": null,
            "order": null,
            "overflow": null,
            "overflow_x": null,
            "overflow_y": null,
            "padding": null,
            "right": null,
            "top": null,
            "visibility": null,
            "width": null
          }
        },
        "6fc1d385305a4ae2a34a9890650f1703": {
          "model_module": "@jupyter-widgets/controls",
          "model_name": "ProgressStyleModel",
          "model_module_version": "1.5.0",
          "state": {
            "_model_module": "@jupyter-widgets/controls",
            "_model_module_version": "1.5.0",
            "_model_name": "ProgressStyleModel",
            "_view_count": null,
            "_view_module": "@jupyter-widgets/base",
            "_view_module_version": "1.2.0",
            "_view_name": "StyleView",
            "bar_color": null,
            "description_width": ""
          }
        },
        "ba06c2f0d2c343858b88be665497d12a": {
          "model_module": "@jupyter-widgets/base",
          "model_name": "LayoutModel",
          "model_module_version": "1.2.0",
          "state": {
            "_model_module": "@jupyter-widgets/base",
            "_model_module_version": "1.2.0",
            "_model_name": "LayoutModel",
            "_view_count": null,
            "_view_module": "@jupyter-widgets/base",
            "_view_module_version": "1.2.0",
            "_view_name": "LayoutView",
            "align_content": null,
            "align_items": null,
            "align_self": null,
            "border": null,
            "bottom": null,
            "display": null,
            "flex": null,
            "flex_flow": null,
            "grid_area": null,
            "grid_auto_columns": null,
            "grid_auto_flow": null,
            "grid_auto_rows": null,
            "grid_column": null,
            "grid_gap": null,
            "grid_row": null,
            "grid_template_areas": null,
            "grid_template_columns": null,
            "grid_template_rows": null,
            "height": null,
            "justify_content": null,
            "justify_items": null,
            "left": null,
            "margin": null,
            "max_height": null,
            "max_width": null,
            "min_height": null,
            "min_width": null,
            "object_fit": null,
            "object_position": null,
            "order": null,
            "overflow": null,
            "overflow_x": null,
            "overflow_y": null,
            "padding": null,
            "right": null,
            "top": null,
            "visibility": null,
            "width": null
          }
        },
        "7bddab2b73d7442695c99b4e54a5d771": {
          "model_module": "@jupyter-widgets/controls",
          "model_name": "DescriptionStyleModel",
          "model_module_version": "1.5.0",
          "state": {
            "_model_module": "@jupyter-widgets/controls",
            "_model_module_version": "1.5.0",
            "_model_name": "DescriptionStyleModel",
            "_view_count": null,
            "_view_module": "@jupyter-widgets/base",
            "_view_module_version": "1.2.0",
            "_view_name": "StyleView",
            "description_width": ""
          }
        },
        "82e2ebff2b85462eb0a60f7a17d55784": {
          "model_module": "@jupyter-widgets/controls",
          "model_name": "HBoxModel",
          "model_module_version": "1.5.0",
          "state": {
            "_dom_classes": [],
            "_model_module": "@jupyter-widgets/controls",
            "_model_module_version": "1.5.0",
            "_model_name": "HBoxModel",
            "_view_count": null,
            "_view_module": "@jupyter-widgets/controls",
            "_view_module_version": "1.5.0",
            "_view_name": "HBoxView",
            "box_style": "",
            "children": [
              "IPY_MODEL_42736f7b70b14714baa0b54871b62584",
              "IPY_MODEL_13b1c0704b75413887f2d2cb99b391af",
              "IPY_MODEL_9e450623d5ef41ad882885295ba8afb6"
            ],
            "layout": "IPY_MODEL_a9ae4e40dfc74f0b81bb6304ad4ea542"
          }
        },
        "42736f7b70b14714baa0b54871b62584": {
          "model_module": "@jupyter-widgets/controls",
          "model_name": "HTMLModel",
          "model_module_version": "1.5.0",
          "state": {
            "_dom_classes": [],
            "_model_module": "@jupyter-widgets/controls",
            "_model_module_version": "1.5.0",
            "_model_name": "HTMLModel",
            "_view_count": null,
            "_view_module": "@jupyter-widgets/controls",
            "_view_module_version": "1.5.0",
            "_view_name": "HTMLView",
            "description": "",
            "description_tooltip": null,
            "layout": "IPY_MODEL_eecee26f05e54a1c93d1f9d1a32d8a13",
            "placeholder": "​",
            "style": "IPY_MODEL_fe389178c7134e2b9d02cc35a5e3c893",
            "value": "model-00009-of-00028.safetensors: 100%"
          }
        },
        "13b1c0704b75413887f2d2cb99b391af": {
          "model_module": "@jupyter-widgets/controls",
          "model_name": "FloatProgressModel",
          "model_module_version": "1.5.0",
          "state": {
            "_dom_classes": [],
            "_model_module": "@jupyter-widgets/controls",
            "_model_module_version": "1.5.0",
            "_model_name": "FloatProgressModel",
            "_view_count": null,
            "_view_module": "@jupyter-widgets/controls",
            "_view_module_version": "1.5.0",
            "_view_name": "ProgressView",
            "bar_style": "success",
            "description": "",
            "description_tooltip": null,
            "layout": "IPY_MODEL_e077a4714b604b4785cd06c6e19dd055",
            "max": 895670570,
            "min": 0,
            "orientation": "horizontal",
            "style": "IPY_MODEL_56c60a8764e24a34948dc105336b5941",
            "value": 895670570
          }
        },
        "9e450623d5ef41ad882885295ba8afb6": {
          "model_module": "@jupyter-widgets/controls",
          "model_name": "HTMLModel",
          "model_module_version": "1.5.0",
          "state": {
            "_dom_classes": [],
            "_model_module": "@jupyter-widgets/controls",
            "_model_module_version": "1.5.0",
            "_model_name": "HTMLModel",
            "_view_count": null,
            "_view_module": "@jupyter-widgets/controls",
            "_view_module_version": "1.5.0",
            "_view_name": "HTMLView",
            "description": "",
            "description_tooltip": null,
            "layout": "IPY_MODEL_4fecfbd697f6468d914c6d99b6d33f06",
            "placeholder": "​",
            "style": "IPY_MODEL_0201802bd80547638c93a0ed813e5c5e",
            "value": " 896M/896M [00:09&lt;00:00, 127MB/s]"
          }
        },
        "a9ae4e40dfc74f0b81bb6304ad4ea542": {
          "model_module": "@jupyter-widgets/base",
          "model_name": "LayoutModel",
          "model_module_version": "1.2.0",
          "state": {
            "_model_module": "@jupyter-widgets/base",
            "_model_module_version": "1.2.0",
            "_model_name": "LayoutModel",
            "_view_count": null,
            "_view_module": "@jupyter-widgets/base",
            "_view_module_version": "1.2.0",
            "_view_name": "LayoutView",
            "align_content": null,
            "align_items": null,
            "align_self": null,
            "border": null,
            "bottom": null,
            "display": null,
            "flex": null,
            "flex_flow": null,
            "grid_area": null,
            "grid_auto_columns": null,
            "grid_auto_flow": null,
            "grid_auto_rows": null,
            "grid_column": null,
            "grid_gap": null,
            "grid_row": null,
            "grid_template_areas": null,
            "grid_template_columns": null,
            "grid_template_rows": null,
            "height": null,
            "justify_content": null,
            "justify_items": null,
            "left": null,
            "margin": null,
            "max_height": null,
            "max_width": null,
            "min_height": null,
            "min_width": null,
            "object_fit": null,
            "object_position": null,
            "order": null,
            "overflow": null,
            "overflow_x": null,
            "overflow_y": null,
            "padding": null,
            "right": null,
            "top": null,
            "visibility": null,
            "width": null
          }
        },
        "eecee26f05e54a1c93d1f9d1a32d8a13": {
          "model_module": "@jupyter-widgets/base",
          "model_name": "LayoutModel",
          "model_module_version": "1.2.0",
          "state": {
            "_model_module": "@jupyter-widgets/base",
            "_model_module_version": "1.2.0",
            "_model_name": "LayoutModel",
            "_view_count": null,
            "_view_module": "@jupyter-widgets/base",
            "_view_module_version": "1.2.0",
            "_view_name": "LayoutView",
            "align_content": null,
            "align_items": null,
            "align_self": null,
            "border": null,
            "bottom": null,
            "display": null,
            "flex": null,
            "flex_flow": null,
            "grid_area": null,
            "grid_auto_columns": null,
            "grid_auto_flow": null,
            "grid_auto_rows": null,
            "grid_column": null,
            "grid_gap": null,
            "grid_row": null,
            "grid_template_areas": null,
            "grid_template_columns": null,
            "grid_template_rows": null,
            "height": null,
            "justify_content": null,
            "justify_items": null,
            "left": null,
            "margin": null,
            "max_height": null,
            "max_width": null,
            "min_height": null,
            "min_width": null,
            "object_fit": null,
            "object_position": null,
            "order": null,
            "overflow": null,
            "overflow_x": null,
            "overflow_y": null,
            "padding": null,
            "right": null,
            "top": null,
            "visibility": null,
            "width": null
          }
        },
        "fe389178c7134e2b9d02cc35a5e3c893": {
          "model_module": "@jupyter-widgets/controls",
          "model_name": "DescriptionStyleModel",
          "model_module_version": "1.5.0",
          "state": {
            "_model_module": "@jupyter-widgets/controls",
            "_model_module_version": "1.5.0",
            "_model_name": "DescriptionStyleModel",
            "_view_count": null,
            "_view_module": "@jupyter-widgets/base",
            "_view_module_version": "1.2.0",
            "_view_name": "StyleView",
            "description_width": ""
          }
        },
        "e077a4714b604b4785cd06c6e19dd055": {
          "model_module": "@jupyter-widgets/base",
          "model_name": "LayoutModel",
          "model_module_version": "1.2.0",
          "state": {
            "_model_module": "@jupyter-widgets/base",
            "_model_module_version": "1.2.0",
            "_model_name": "LayoutModel",
            "_view_count": null,
            "_view_module": "@jupyter-widgets/base",
            "_view_module_version": "1.2.0",
            "_view_name": "LayoutView",
            "align_content": null,
            "align_items": null,
            "align_self": null,
            "border": null,
            "bottom": null,
            "display": null,
            "flex": null,
            "flex_flow": null,
            "grid_area": null,
            "grid_auto_columns": null,
            "grid_auto_flow": null,
            "grid_auto_rows": null,
            "grid_column": null,
            "grid_gap": null,
            "grid_row": null,
            "grid_template_areas": null,
            "grid_template_columns": null,
            "grid_template_rows": null,
            "height": null,
            "justify_content": null,
            "justify_items": null,
            "left": null,
            "margin": null,
            "max_height": null,
            "max_width": null,
            "min_height": null,
            "min_width": null,
            "object_fit": null,
            "object_position": null,
            "order": null,
            "overflow": null,
            "overflow_x": null,
            "overflow_y": null,
            "padding": null,
            "right": null,
            "top": null,
            "visibility": null,
            "width": null
          }
        },
        "56c60a8764e24a34948dc105336b5941": {
          "model_module": "@jupyter-widgets/controls",
          "model_name": "ProgressStyleModel",
          "model_module_version": "1.5.0",
          "state": {
            "_model_module": "@jupyter-widgets/controls",
            "_model_module_version": "1.5.0",
            "_model_name": "ProgressStyleModel",
            "_view_count": null,
            "_view_module": "@jupyter-widgets/base",
            "_view_module_version": "1.2.0",
            "_view_name": "StyleView",
            "bar_color": null,
            "description_width": ""
          }
        },
        "4fecfbd697f6468d914c6d99b6d33f06": {
          "model_module": "@jupyter-widgets/base",
          "model_name": "LayoutModel",
          "model_module_version": "1.2.0",
          "state": {
            "_model_module": "@jupyter-widgets/base",
            "_model_module_version": "1.2.0",
            "_model_name": "LayoutModel",
            "_view_count": null,
            "_view_module": "@jupyter-widgets/base",
            "_view_module_version": "1.2.0",
            "_view_name": "LayoutView",
            "align_content": null,
            "align_items": null,
            "align_self": null,
            "border": null,
            "bottom": null,
            "display": null,
            "flex": null,
            "flex_flow": null,
            "grid_area": null,
            "grid_auto_columns": null,
            "grid_auto_flow": null,
            "grid_auto_rows": null,
            "grid_column": null,
            "grid_gap": null,
            "grid_row": null,
            "grid_template_areas": null,
            "grid_template_columns": null,
            "grid_template_rows": null,
            "height": null,
            "justify_content": null,
            "justify_items": null,
            "left": null,
            "margin": null,
            "max_height": null,
            "max_width": null,
            "min_height": null,
            "min_width": null,
            "object_fit": null,
            "object_position": null,
            "order": null,
            "overflow": null,
            "overflow_x": null,
            "overflow_y": null,
            "padding": null,
            "right": null,
            "top": null,
            "visibility": null,
            "width": null
          }
        },
        "0201802bd80547638c93a0ed813e5c5e": {
          "model_module": "@jupyter-widgets/controls",
          "model_name": "DescriptionStyleModel",
          "model_module_version": "1.5.0",
          "state": {
            "_model_module": "@jupyter-widgets/controls",
            "_model_module_version": "1.5.0",
            "_model_name": "DescriptionStyleModel",
            "_view_count": null,
            "_view_module": "@jupyter-widgets/base",
            "_view_module_version": "1.2.0",
            "_view_name": "StyleView",
            "description_width": ""
          }
        },
        "08e627e56f2e499cbec2450356a0e4a5": {
          "model_module": "@jupyter-widgets/controls",
          "model_name": "HBoxModel",
          "model_module_version": "1.5.0",
          "state": {
            "_dom_classes": [],
            "_model_module": "@jupyter-widgets/controls",
            "_model_module_version": "1.5.0",
            "_model_name": "HBoxModel",
            "_view_count": null,
            "_view_module": "@jupyter-widgets/controls",
            "_view_module_version": "1.5.0",
            "_view_name": "HBoxView",
            "box_style": "",
            "children": [
              "IPY_MODEL_356a06bd27a14d56bd034250a18c4a62",
              "IPY_MODEL_79b19bf2632d49729bfc8ed557ad8f45",
              "IPY_MODEL_ec81abe820c741fab275f9eac1c3d229"
            ],
            "layout": "IPY_MODEL_e7666316e344450f85f26c98e1668c00"
          }
        },
        "356a06bd27a14d56bd034250a18c4a62": {
          "model_module": "@jupyter-widgets/controls",
          "model_name": "HTMLModel",
          "model_module_version": "1.5.0",
          "state": {
            "_dom_classes": [],
            "_model_module": "@jupyter-widgets/controls",
            "_model_module_version": "1.5.0",
            "_model_name": "HTMLModel",
            "_view_count": null,
            "_view_module": "@jupyter-widgets/controls",
            "_view_module_version": "1.5.0",
            "_view_name": "HTMLView",
            "description": "",
            "description_tooltip": null,
            "layout": "IPY_MODEL_4b89dbe2f80540168b9c64b7eeb48792",
            "placeholder": "​",
            "style": "IPY_MODEL_65bc473fcef04c3cae27b9ed3d3e46f4",
            "value": "model-00010-of-00028.safetensors: 100%"
          }
        },
        "79b19bf2632d49729bfc8ed557ad8f45": {
          "model_module": "@jupyter-widgets/controls",
          "model_name": "FloatProgressModel",
          "model_module_version": "1.5.0",
          "state": {
            "_dom_classes": [],
            "_model_module": "@jupyter-widgets/controls",
            "_model_module_version": "1.5.0",
            "_model_name": "FloatProgressModel",
            "_view_count": null,
            "_view_module": "@jupyter-widgets/controls",
            "_view_module_version": "1.5.0",
            "_view_name": "ProgressView",
            "bar_style": "success",
            "description": "",
            "description_tooltip": null,
            "layout": "IPY_MODEL_9bc850c39ed547c7ae95f884ef3d63b4",
            "max": 1004754140,
            "min": 0,
            "orientation": "horizontal",
            "style": "IPY_MODEL_1473aadf8d7143f88681679f0d63f1f5",
            "value": 1004754140
          }
        },
        "ec81abe820c741fab275f9eac1c3d229": {
          "model_module": "@jupyter-widgets/controls",
          "model_name": "HTMLModel",
          "model_module_version": "1.5.0",
          "state": {
            "_dom_classes": [],
            "_model_module": "@jupyter-widgets/controls",
            "_model_module_version": "1.5.0",
            "_model_name": "HTMLModel",
            "_view_count": null,
            "_view_module": "@jupyter-widgets/controls",
            "_view_module_version": "1.5.0",
            "_view_name": "HTMLView",
            "description": "",
            "description_tooltip": null,
            "layout": "IPY_MODEL_519486b6cb17439abbe9642e38137cdf",
            "placeholder": "​",
            "style": "IPY_MODEL_3cc92b865bac4ebebb7ac8b461aac722",
            "value": " 1.00G/1.00G [00:08&lt;00:00, 29.5MB/s]"
          }
        },
        "e7666316e344450f85f26c98e1668c00": {
          "model_module": "@jupyter-widgets/base",
          "model_name": "LayoutModel",
          "model_module_version": "1.2.0",
          "state": {
            "_model_module": "@jupyter-widgets/base",
            "_model_module_version": "1.2.0",
            "_model_name": "LayoutModel",
            "_view_count": null,
            "_view_module": "@jupyter-widgets/base",
            "_view_module_version": "1.2.0",
            "_view_name": "LayoutView",
            "align_content": null,
            "align_items": null,
            "align_self": null,
            "border": null,
            "bottom": null,
            "display": null,
            "flex": null,
            "flex_flow": null,
            "grid_area": null,
            "grid_auto_columns": null,
            "grid_auto_flow": null,
            "grid_auto_rows": null,
            "grid_column": null,
            "grid_gap": null,
            "grid_row": null,
            "grid_template_areas": null,
            "grid_template_columns": null,
            "grid_template_rows": null,
            "height": null,
            "justify_content": null,
            "justify_items": null,
            "left": null,
            "margin": null,
            "max_height": null,
            "max_width": null,
            "min_height": null,
            "min_width": null,
            "object_fit": null,
            "object_position": null,
            "order": null,
            "overflow": null,
            "overflow_x": null,
            "overflow_y": null,
            "padding": null,
            "right": null,
            "top": null,
            "visibility": null,
            "width": null
          }
        },
        "4b89dbe2f80540168b9c64b7eeb48792": {
          "model_module": "@jupyter-widgets/base",
          "model_name": "LayoutModel",
          "model_module_version": "1.2.0",
          "state": {
            "_model_module": "@jupyter-widgets/base",
            "_model_module_version": "1.2.0",
            "_model_name": "LayoutModel",
            "_view_count": null,
            "_view_module": "@jupyter-widgets/base",
            "_view_module_version": "1.2.0",
            "_view_name": "LayoutView",
            "align_content": null,
            "align_items": null,
            "align_self": null,
            "border": null,
            "bottom": null,
            "display": null,
            "flex": null,
            "flex_flow": null,
            "grid_area": null,
            "grid_auto_columns": null,
            "grid_auto_flow": null,
            "grid_auto_rows": null,
            "grid_column": null,
            "grid_gap": null,
            "grid_row": null,
            "grid_template_areas": null,
            "grid_template_columns": null,
            "grid_template_rows": null,
            "height": null,
            "justify_content": null,
            "justify_items": null,
            "left": null,
            "margin": null,
            "max_height": null,
            "max_width": null,
            "min_height": null,
            "min_width": null,
            "object_fit": null,
            "object_position": null,
            "order": null,
            "overflow": null,
            "overflow_x": null,
            "overflow_y": null,
            "padding": null,
            "right": null,
            "top": null,
            "visibility": null,
            "width": null
          }
        },
        "65bc473fcef04c3cae27b9ed3d3e46f4": {
          "model_module": "@jupyter-widgets/controls",
          "model_name": "DescriptionStyleModel",
          "model_module_version": "1.5.0",
          "state": {
            "_model_module": "@jupyter-widgets/controls",
            "_model_module_version": "1.5.0",
            "_model_name": "DescriptionStyleModel",
            "_view_count": null,
            "_view_module": "@jupyter-widgets/base",
            "_view_module_version": "1.2.0",
            "_view_name": "StyleView",
            "description_width": ""
          }
        },
        "9bc850c39ed547c7ae95f884ef3d63b4": {
          "model_module": "@jupyter-widgets/base",
          "model_name": "LayoutModel",
          "model_module_version": "1.2.0",
          "state": {
            "_model_module": "@jupyter-widgets/base",
            "_model_module_version": "1.2.0",
            "_model_name": "LayoutModel",
            "_view_count": null,
            "_view_module": "@jupyter-widgets/base",
            "_view_module_version": "1.2.0",
            "_view_name": "LayoutView",
            "align_content": null,
            "align_items": null,
            "align_self": null,
            "border": null,
            "bottom": null,
            "display": null,
            "flex": null,
            "flex_flow": null,
            "grid_area": null,
            "grid_auto_columns": null,
            "grid_auto_flow": null,
            "grid_auto_rows": null,
            "grid_column": null,
            "grid_gap": null,
            "grid_row": null,
            "grid_template_areas": null,
            "grid_template_columns": null,
            "grid_template_rows": null,
            "height": null,
            "justify_content": null,
            "justify_items": null,
            "left": null,
            "margin": null,
            "max_height": null,
            "max_width": null,
            "min_height": null,
            "min_width": null,
            "object_fit": null,
            "object_position": null,
            "order": null,
            "overflow": null,
            "overflow_x": null,
            "overflow_y": null,
            "padding": null,
            "right": null,
            "top": null,
            "visibility": null,
            "width": null
          }
        },
        "1473aadf8d7143f88681679f0d63f1f5": {
          "model_module": "@jupyter-widgets/controls",
          "model_name": "ProgressStyleModel",
          "model_module_version": "1.5.0",
          "state": {
            "_model_module": "@jupyter-widgets/controls",
            "_model_module_version": "1.5.0",
            "_model_name": "ProgressStyleModel",
            "_view_count": null,
            "_view_module": "@jupyter-widgets/base",
            "_view_module_version": "1.2.0",
            "_view_name": "StyleView",
            "bar_color": null,
            "description_width": ""
          }
        },
        "519486b6cb17439abbe9642e38137cdf": {
          "model_module": "@jupyter-widgets/base",
          "model_name": "LayoutModel",
          "model_module_version": "1.2.0",
          "state": {
            "_model_module": "@jupyter-widgets/base",
            "_model_module_version": "1.2.0",
            "_model_name": "LayoutModel",
            "_view_count": null,
            "_view_module": "@jupyter-widgets/base",
            "_view_module_version": "1.2.0",
            "_view_name": "LayoutView",
            "align_content": null,
            "align_items": null,
            "align_self": null,
            "border": null,
            "bottom": null,
            "display": null,
            "flex": null,
            "flex_flow": null,
            "grid_area": null,
            "grid_auto_columns": null,
            "grid_auto_flow": null,
            "grid_auto_rows": null,
            "grid_column": null,
            "grid_gap": null,
            "grid_row": null,
            "grid_template_areas": null,
            "grid_template_columns": null,
            "grid_template_rows": null,
            "height": null,
            "justify_content": null,
            "justify_items": null,
            "left": null,
            "margin": null,
            "max_height": null,
            "max_width": null,
            "min_height": null,
            "min_width": null,
            "object_fit": null,
            "object_position": null,
            "order": null,
            "overflow": null,
            "overflow_x": null,
            "overflow_y": null,
            "padding": null,
            "right": null,
            "top": null,
            "visibility": null,
            "width": null
          }
        },
        "3cc92b865bac4ebebb7ac8b461aac722": {
          "model_module": "@jupyter-widgets/controls",
          "model_name": "DescriptionStyleModel",
          "model_module_version": "1.5.0",
          "state": {
            "_model_module": "@jupyter-widgets/controls",
            "_model_module_version": "1.5.0",
            "_model_name": "DescriptionStyleModel",
            "_view_count": null,
            "_view_module": "@jupyter-widgets/base",
            "_view_module_version": "1.2.0",
            "_view_name": "StyleView",
            "description_width": ""
          }
        },
        "5591515712a546f29a0eda6deb187501": {
          "model_module": "@jupyter-widgets/controls",
          "model_name": "HBoxModel",
          "model_module_version": "1.5.0",
          "state": {
            "_dom_classes": [],
            "_model_module": "@jupyter-widgets/controls",
            "_model_module_version": "1.5.0",
            "_model_name": "HBoxModel",
            "_view_count": null,
            "_view_module": "@jupyter-widgets/controls",
            "_view_module_version": "1.5.0",
            "_view_name": "HBoxView",
            "box_style": "",
            "children": [
              "IPY_MODEL_54857f68820a40698ec521dc9eff1d55",
              "IPY_MODEL_6ed10ea5a3c74d189f003f9e13a64d98",
              "IPY_MODEL_6864c506bc6e4d95af549f21b4f709b5"
            ],
            "layout": "IPY_MODEL_5ea81574fea44f67ada9cb4c7c7e57a2"
          }
        },
        "54857f68820a40698ec521dc9eff1d55": {
          "model_module": "@jupyter-widgets/controls",
          "model_name": "HTMLModel",
          "model_module_version": "1.5.0",
          "state": {
            "_dom_classes": [],
            "_model_module": "@jupyter-widgets/controls",
            "_model_module_version": "1.5.0",
            "_model_name": "HTMLModel",
            "_view_count": null,
            "_view_module": "@jupyter-widgets/controls",
            "_view_module_version": "1.5.0",
            "_view_name": "HTMLView",
            "description": "",
            "description_tooltip": null,
            "layout": "IPY_MODEL_a9671911b668475a96cadca46de681aa",
            "placeholder": "​",
            "style": "IPY_MODEL_67b84a8d5a9a4299beaa4df1269f7577",
            "value": "model-00011-of-00028.safetensors: 100%"
          }
        },
        "6ed10ea5a3c74d189f003f9e13a64d98": {
          "model_module": "@jupyter-widgets/controls",
          "model_name": "FloatProgressModel",
          "model_module_version": "1.5.0",
          "state": {
            "_dom_classes": [],
            "_model_module": "@jupyter-widgets/controls",
            "_model_module_version": "1.5.0",
            "_model_name": "FloatProgressModel",
            "_view_count": null,
            "_view_module": "@jupyter-widgets/controls",
            "_view_module_version": "1.5.0",
            "_view_name": "ProgressView",
            "bar_style": "success",
            "description": "",
            "description_tooltip": null,
            "layout": "IPY_MODEL_712362952052469ca6a2c8aa545815e8",
            "max": 895670570,
            "min": 0,
            "orientation": "horizontal",
            "style": "IPY_MODEL_4275256454cf42cfbd7d7dc630953ccc",
            "value": 895670570
          }
        },
        "6864c506bc6e4d95af549f21b4f709b5": {
          "model_module": "@jupyter-widgets/controls",
          "model_name": "HTMLModel",
          "model_module_version": "1.5.0",
          "state": {
            "_dom_classes": [],
            "_model_module": "@jupyter-widgets/controls",
            "_model_module_version": "1.5.0",
            "_model_name": "HTMLModel",
            "_view_count": null,
            "_view_module": "@jupyter-widgets/controls",
            "_view_module_version": "1.5.0",
            "_view_name": "HTMLView",
            "description": "",
            "description_tooltip": null,
            "layout": "IPY_MODEL_08bc40606543428db3791cca2c7e0903",
            "placeholder": "​",
            "style": "IPY_MODEL_9cf6b6fbce7b40cba2d90aeff1344728",
            "value": " 896M/896M [00:08&lt;00:00, 183MB/s]"
          }
        },
        "5ea81574fea44f67ada9cb4c7c7e57a2": {
          "model_module": "@jupyter-widgets/base",
          "model_name": "LayoutModel",
          "model_module_version": "1.2.0",
          "state": {
            "_model_module": "@jupyter-widgets/base",
            "_model_module_version": "1.2.0",
            "_model_name": "LayoutModel",
            "_view_count": null,
            "_view_module": "@jupyter-widgets/base",
            "_view_module_version": "1.2.0",
            "_view_name": "LayoutView",
            "align_content": null,
            "align_items": null,
            "align_self": null,
            "border": null,
            "bottom": null,
            "display": null,
            "flex": null,
            "flex_flow": null,
            "grid_area": null,
            "grid_auto_columns": null,
            "grid_auto_flow": null,
            "grid_auto_rows": null,
            "grid_column": null,
            "grid_gap": null,
            "grid_row": null,
            "grid_template_areas": null,
            "grid_template_columns": null,
            "grid_template_rows": null,
            "height": null,
            "justify_content": null,
            "justify_items": null,
            "left": null,
            "margin": null,
            "max_height": null,
            "max_width": null,
            "min_height": null,
            "min_width": null,
            "object_fit": null,
            "object_position": null,
            "order": null,
            "overflow": null,
            "overflow_x": null,
            "overflow_y": null,
            "padding": null,
            "right": null,
            "top": null,
            "visibility": null,
            "width": null
          }
        },
        "a9671911b668475a96cadca46de681aa": {
          "model_module": "@jupyter-widgets/base",
          "model_name": "LayoutModel",
          "model_module_version": "1.2.0",
          "state": {
            "_model_module": "@jupyter-widgets/base",
            "_model_module_version": "1.2.0",
            "_model_name": "LayoutModel",
            "_view_count": null,
            "_view_module": "@jupyter-widgets/base",
            "_view_module_version": "1.2.0",
            "_view_name": "LayoutView",
            "align_content": null,
            "align_items": null,
            "align_self": null,
            "border": null,
            "bottom": null,
            "display": null,
            "flex": null,
            "flex_flow": null,
            "grid_area": null,
            "grid_auto_columns": null,
            "grid_auto_flow": null,
            "grid_auto_rows": null,
            "grid_column": null,
            "grid_gap": null,
            "grid_row": null,
            "grid_template_areas": null,
            "grid_template_columns": null,
            "grid_template_rows": null,
            "height": null,
            "justify_content": null,
            "justify_items": null,
            "left": null,
            "margin": null,
            "max_height": null,
            "max_width": null,
            "min_height": null,
            "min_width": null,
            "object_fit": null,
            "object_position": null,
            "order": null,
            "overflow": null,
            "overflow_x": null,
            "overflow_y": null,
            "padding": null,
            "right": null,
            "top": null,
            "visibility": null,
            "width": null
          }
        },
        "67b84a8d5a9a4299beaa4df1269f7577": {
          "model_module": "@jupyter-widgets/controls",
          "model_name": "DescriptionStyleModel",
          "model_module_version": "1.5.0",
          "state": {
            "_model_module": "@jupyter-widgets/controls",
            "_model_module_version": "1.5.0",
            "_model_name": "DescriptionStyleModel",
            "_view_count": null,
            "_view_module": "@jupyter-widgets/base",
            "_view_module_version": "1.2.0",
            "_view_name": "StyleView",
            "description_width": ""
          }
        },
        "712362952052469ca6a2c8aa545815e8": {
          "model_module": "@jupyter-widgets/base",
          "model_name": "LayoutModel",
          "model_module_version": "1.2.0",
          "state": {
            "_model_module": "@jupyter-widgets/base",
            "_model_module_version": "1.2.0",
            "_model_name": "LayoutModel",
            "_view_count": null,
            "_view_module": "@jupyter-widgets/base",
            "_view_module_version": "1.2.0",
            "_view_name": "LayoutView",
            "align_content": null,
            "align_items": null,
            "align_self": null,
            "border": null,
            "bottom": null,
            "display": null,
            "flex": null,
            "flex_flow": null,
            "grid_area": null,
            "grid_auto_columns": null,
            "grid_auto_flow": null,
            "grid_auto_rows": null,
            "grid_column": null,
            "grid_gap": null,
            "grid_row": null,
            "grid_template_areas": null,
            "grid_template_columns": null,
            "grid_template_rows": null,
            "height": null,
            "justify_content": null,
            "justify_items": null,
            "left": null,
            "margin": null,
            "max_height": null,
            "max_width": null,
            "min_height": null,
            "min_width": null,
            "object_fit": null,
            "object_position": null,
            "order": null,
            "overflow": null,
            "overflow_x": null,
            "overflow_y": null,
            "padding": null,
            "right": null,
            "top": null,
            "visibility": null,
            "width": null
          }
        },
        "4275256454cf42cfbd7d7dc630953ccc": {
          "model_module": "@jupyter-widgets/controls",
          "model_name": "ProgressStyleModel",
          "model_module_version": "1.5.0",
          "state": {
            "_model_module": "@jupyter-widgets/controls",
            "_model_module_version": "1.5.0",
            "_model_name": "ProgressStyleModel",
            "_view_count": null,
            "_view_module": "@jupyter-widgets/base",
            "_view_module_version": "1.2.0",
            "_view_name": "StyleView",
            "bar_color": null,
            "description_width": ""
          }
        },
        "08bc40606543428db3791cca2c7e0903": {
          "model_module": "@jupyter-widgets/base",
          "model_name": "LayoutModel",
          "model_module_version": "1.2.0",
          "state": {
            "_model_module": "@jupyter-widgets/base",
            "_model_module_version": "1.2.0",
            "_model_name": "LayoutModel",
            "_view_count": null,
            "_view_module": "@jupyter-widgets/base",
            "_view_module_version": "1.2.0",
            "_view_name": "LayoutView",
            "align_content": null,
            "align_items": null,
            "align_self": null,
            "border": null,
            "bottom": null,
            "display": null,
            "flex": null,
            "flex_flow": null,
            "grid_area": null,
            "grid_auto_columns": null,
            "grid_auto_flow": null,
            "grid_auto_rows": null,
            "grid_column": null,
            "grid_gap": null,
            "grid_row": null,
            "grid_template_areas": null,
            "grid_template_columns": null,
            "grid_template_rows": null,
            "height": null,
            "justify_content": null,
            "justify_items": null,
            "left": null,
            "margin": null,
            "max_height": null,
            "max_width": null,
            "min_height": null,
            "min_width": null,
            "object_fit": null,
            "object_position": null,
            "order": null,
            "overflow": null,
            "overflow_x": null,
            "overflow_y": null,
            "padding": null,
            "right": null,
            "top": null,
            "visibility": null,
            "width": null
          }
        },
        "9cf6b6fbce7b40cba2d90aeff1344728": {
          "model_module": "@jupyter-widgets/controls",
          "model_name": "DescriptionStyleModel",
          "model_module_version": "1.5.0",
          "state": {
            "_model_module": "@jupyter-widgets/controls",
            "_model_module_version": "1.5.0",
            "_model_name": "DescriptionStyleModel",
            "_view_count": null,
            "_view_module": "@jupyter-widgets/base",
            "_view_module_version": "1.2.0",
            "_view_name": "StyleView",
            "description_width": ""
          }
        },
        "febcd85a45074460b1e7f0935d9181eb": {
          "model_module": "@jupyter-widgets/controls",
          "model_name": "HBoxModel",
          "model_module_version": "1.5.0",
          "state": {
            "_dom_classes": [],
            "_model_module": "@jupyter-widgets/controls",
            "_model_module_version": "1.5.0",
            "_model_name": "HBoxModel",
            "_view_count": null,
            "_view_module": "@jupyter-widgets/controls",
            "_view_module_version": "1.5.0",
            "_view_name": "HBoxView",
            "box_style": "",
            "children": [
              "IPY_MODEL_943153e47a0e4a5da166d8c50dbed83c",
              "IPY_MODEL_4402905c40524b67b2bece1a5090b1f1",
              "IPY_MODEL_b7288868e96a483d9aa25533768502b1"
            ],
            "layout": "IPY_MODEL_9a649fd7f3e54646a25e3a0b09af2b33"
          }
        },
        "943153e47a0e4a5da166d8c50dbed83c": {
          "model_module": "@jupyter-widgets/controls",
          "model_name": "HTMLModel",
          "model_module_version": "1.5.0",
          "state": {
            "_dom_classes": [],
            "_model_module": "@jupyter-widgets/controls",
            "_model_module_version": "1.5.0",
            "_model_name": "HTMLModel",
            "_view_count": null,
            "_view_module": "@jupyter-widgets/controls",
            "_view_module_version": "1.5.0",
            "_view_name": "HTMLView",
            "description": "",
            "description_tooltip": null,
            "layout": "IPY_MODEL_74b7555e4319492bb3095417c99e1d62",
            "placeholder": "​",
            "style": "IPY_MODEL_95428676aec44c8c90eb07379c848723",
            "value": "model-00012-of-00028.safetensors: 100%"
          }
        },
        "4402905c40524b67b2bece1a5090b1f1": {
          "model_module": "@jupyter-widgets/controls",
          "model_name": "FloatProgressModel",
          "model_module_version": "1.5.0",
          "state": {
            "_dom_classes": [],
            "_model_module": "@jupyter-widgets/controls",
            "_model_module_version": "1.5.0",
            "_model_name": "FloatProgressModel",
            "_view_count": null,
            "_view_module": "@jupyter-widgets/controls",
            "_view_module_version": "1.5.0",
            "_view_name": "ProgressView",
            "bar_style": "success",
            "description": "",
            "description_tooltip": null,
            "layout": "IPY_MODEL_1502cdb2339e4f60aff9be896394e72b",
            "max": 1004754140,
            "min": 0,
            "orientation": "horizontal",
            "style": "IPY_MODEL_5729a4afdaa34a62b1de103d88a4ae9f",
            "value": 1004754140
          }
        },
        "b7288868e96a483d9aa25533768502b1": {
          "model_module": "@jupyter-widgets/controls",
          "model_name": "HTMLModel",
          "model_module_version": "1.5.0",
          "state": {
            "_dom_classes": [],
            "_model_module": "@jupyter-widgets/controls",
            "_model_module_version": "1.5.0",
            "_model_name": "HTMLModel",
            "_view_count": null,
            "_view_module": "@jupyter-widgets/controls",
            "_view_module_version": "1.5.0",
            "_view_name": "HTMLView",
            "description": "",
            "description_tooltip": null,
            "layout": "IPY_MODEL_2c9d399ce0df4b19adb514d52be9aefa",
            "placeholder": "​",
            "style": "IPY_MODEL_94777ae1feaa4a47bc8439b57d30ac0e",
            "value": " 1.00G/1.00G [00:11&lt;00:00, 75.5MB/s]"
          }
        },
        "9a649fd7f3e54646a25e3a0b09af2b33": {
          "model_module": "@jupyter-widgets/base",
          "model_name": "LayoutModel",
          "model_module_version": "1.2.0",
          "state": {
            "_model_module": "@jupyter-widgets/base",
            "_model_module_version": "1.2.0",
            "_model_name": "LayoutModel",
            "_view_count": null,
            "_view_module": "@jupyter-widgets/base",
            "_view_module_version": "1.2.0",
            "_view_name": "LayoutView",
            "align_content": null,
            "align_items": null,
            "align_self": null,
            "border": null,
            "bottom": null,
            "display": null,
            "flex": null,
            "flex_flow": null,
            "grid_area": null,
            "grid_auto_columns": null,
            "grid_auto_flow": null,
            "grid_auto_rows": null,
            "grid_column": null,
            "grid_gap": null,
            "grid_row": null,
            "grid_template_areas": null,
            "grid_template_columns": null,
            "grid_template_rows": null,
            "height": null,
            "justify_content": null,
            "justify_items": null,
            "left": null,
            "margin": null,
            "max_height": null,
            "max_width": null,
            "min_height": null,
            "min_width": null,
            "object_fit": null,
            "object_position": null,
            "order": null,
            "overflow": null,
            "overflow_x": null,
            "overflow_y": null,
            "padding": null,
            "right": null,
            "top": null,
            "visibility": null,
            "width": null
          }
        },
        "74b7555e4319492bb3095417c99e1d62": {
          "model_module": "@jupyter-widgets/base",
          "model_name": "LayoutModel",
          "model_module_version": "1.2.0",
          "state": {
            "_model_module": "@jupyter-widgets/base",
            "_model_module_version": "1.2.0",
            "_model_name": "LayoutModel",
            "_view_count": null,
            "_view_module": "@jupyter-widgets/base",
            "_view_module_version": "1.2.0",
            "_view_name": "LayoutView",
            "align_content": null,
            "align_items": null,
            "align_self": null,
            "border": null,
            "bottom": null,
            "display": null,
            "flex": null,
            "flex_flow": null,
            "grid_area": null,
            "grid_auto_columns": null,
            "grid_auto_flow": null,
            "grid_auto_rows": null,
            "grid_column": null,
            "grid_gap": null,
            "grid_row": null,
            "grid_template_areas": null,
            "grid_template_columns": null,
            "grid_template_rows": null,
            "height": null,
            "justify_content": null,
            "justify_items": null,
            "left": null,
            "margin": null,
            "max_height": null,
            "max_width": null,
            "min_height": null,
            "min_width": null,
            "object_fit": null,
            "object_position": null,
            "order": null,
            "overflow": null,
            "overflow_x": null,
            "overflow_y": null,
            "padding": null,
            "right": null,
            "top": null,
            "visibility": null,
            "width": null
          }
        },
        "95428676aec44c8c90eb07379c848723": {
          "model_module": "@jupyter-widgets/controls",
          "model_name": "DescriptionStyleModel",
          "model_module_version": "1.5.0",
          "state": {
            "_model_module": "@jupyter-widgets/controls",
            "_model_module_version": "1.5.0",
            "_model_name": "DescriptionStyleModel",
            "_view_count": null,
            "_view_module": "@jupyter-widgets/base",
            "_view_module_version": "1.2.0",
            "_view_name": "StyleView",
            "description_width": ""
          }
        },
        "1502cdb2339e4f60aff9be896394e72b": {
          "model_module": "@jupyter-widgets/base",
          "model_name": "LayoutModel",
          "model_module_version": "1.2.0",
          "state": {
            "_model_module": "@jupyter-widgets/base",
            "_model_module_version": "1.2.0",
            "_model_name": "LayoutModel",
            "_view_count": null,
            "_view_module": "@jupyter-widgets/base",
            "_view_module_version": "1.2.0",
            "_view_name": "LayoutView",
            "align_content": null,
            "align_items": null,
            "align_self": null,
            "border": null,
            "bottom": null,
            "display": null,
            "flex": null,
            "flex_flow": null,
            "grid_area": null,
            "grid_auto_columns": null,
            "grid_auto_flow": null,
            "grid_auto_rows": null,
            "grid_column": null,
            "grid_gap": null,
            "grid_row": null,
            "grid_template_areas": null,
            "grid_template_columns": null,
            "grid_template_rows": null,
            "height": null,
            "justify_content": null,
            "justify_items": null,
            "left": null,
            "margin": null,
            "max_height": null,
            "max_width": null,
            "min_height": null,
            "min_width": null,
            "object_fit": null,
            "object_position": null,
            "order": null,
            "overflow": null,
            "overflow_x": null,
            "overflow_y": null,
            "padding": null,
            "right": null,
            "top": null,
            "visibility": null,
            "width": null
          }
        },
        "5729a4afdaa34a62b1de103d88a4ae9f": {
          "model_module": "@jupyter-widgets/controls",
          "model_name": "ProgressStyleModel",
          "model_module_version": "1.5.0",
          "state": {
            "_model_module": "@jupyter-widgets/controls",
            "_model_module_version": "1.5.0",
            "_model_name": "ProgressStyleModel",
            "_view_count": null,
            "_view_module": "@jupyter-widgets/base",
            "_view_module_version": "1.2.0",
            "_view_name": "StyleView",
            "bar_color": null,
            "description_width": ""
          }
        },
        "2c9d399ce0df4b19adb514d52be9aefa": {
          "model_module": "@jupyter-widgets/base",
          "model_name": "LayoutModel",
          "model_module_version": "1.2.0",
          "state": {
            "_model_module": "@jupyter-widgets/base",
            "_model_module_version": "1.2.0",
            "_model_name": "LayoutModel",
            "_view_count": null,
            "_view_module": "@jupyter-widgets/base",
            "_view_module_version": "1.2.0",
            "_view_name": "LayoutView",
            "align_content": null,
            "align_items": null,
            "align_self": null,
            "border": null,
            "bottom": null,
            "display": null,
            "flex": null,
            "flex_flow": null,
            "grid_area": null,
            "grid_auto_columns": null,
            "grid_auto_flow": null,
            "grid_auto_rows": null,
            "grid_column": null,
            "grid_gap": null,
            "grid_row": null,
            "grid_template_areas": null,
            "grid_template_columns": null,
            "grid_template_rows": null,
            "height": null,
            "justify_content": null,
            "justify_items": null,
            "left": null,
            "margin": null,
            "max_height": null,
            "max_width": null,
            "min_height": null,
            "min_width": null,
            "object_fit": null,
            "object_position": null,
            "order": null,
            "overflow": null,
            "overflow_x": null,
            "overflow_y": null,
            "padding": null,
            "right": null,
            "top": null,
            "visibility": null,
            "width": null
          }
        },
        "94777ae1feaa4a47bc8439b57d30ac0e": {
          "model_module": "@jupyter-widgets/controls",
          "model_name": "DescriptionStyleModel",
          "model_module_version": "1.5.0",
          "state": {
            "_model_module": "@jupyter-widgets/controls",
            "_model_module_version": "1.5.0",
            "_model_name": "DescriptionStyleModel",
            "_view_count": null,
            "_view_module": "@jupyter-widgets/base",
            "_view_module_version": "1.2.0",
            "_view_name": "StyleView",
            "description_width": ""
          }
        },
        "64989acb4599482eb2536b38ba774f8c": {
          "model_module": "@jupyter-widgets/controls",
          "model_name": "HBoxModel",
          "model_module_version": "1.5.0",
          "state": {
            "_dom_classes": [],
            "_model_module": "@jupyter-widgets/controls",
            "_model_module_version": "1.5.0",
            "_model_name": "HBoxModel",
            "_view_count": null,
            "_view_module": "@jupyter-widgets/controls",
            "_view_module_version": "1.5.0",
            "_view_name": "HBoxView",
            "box_style": "",
            "children": [
              "IPY_MODEL_0b2778c4b5344afe8fbe59c67d8d9bfa",
              "IPY_MODEL_30e2e70234424e8dad03039db8f87529",
              "IPY_MODEL_0c620454a1fc4be984ff43bb12fded46"
            ],
            "layout": "IPY_MODEL_b00b09fb537f48deaad98e93c71bc7d3"
          }
        },
        "0b2778c4b5344afe8fbe59c67d8d9bfa": {
          "model_module": "@jupyter-widgets/controls",
          "model_name": "HTMLModel",
          "model_module_version": "1.5.0",
          "state": {
            "_dom_classes": [],
            "_model_module": "@jupyter-widgets/controls",
            "_model_module_version": "1.5.0",
            "_model_name": "HTMLModel",
            "_view_count": null,
            "_view_module": "@jupyter-widgets/controls",
            "_view_module_version": "1.5.0",
            "_view_name": "HTMLView",
            "description": "",
            "description_tooltip": null,
            "layout": "IPY_MODEL_2fe4d733c4e5492f81dbd21ad432085c",
            "placeholder": "​",
            "style": "IPY_MODEL_813ebe6bf4e84b6b9bd554d91dbe6410",
            "value": "model-00013-of-00028.safetensors: 100%"
          }
        },
        "30e2e70234424e8dad03039db8f87529": {
          "model_module": "@jupyter-widgets/controls",
          "model_name": "FloatProgressModel",
          "model_module_version": "1.5.0",
          "state": {
            "_dom_classes": [],
            "_model_module": "@jupyter-widgets/controls",
            "_model_module_version": "1.5.0",
            "_model_name": "FloatProgressModel",
            "_view_count": null,
            "_view_module": "@jupyter-widgets/controls",
            "_view_module_version": "1.5.0",
            "_view_name": "ProgressView",
            "bar_style": "success",
            "description": "",
            "description_tooltip": null,
            "layout": "IPY_MODEL_eeed4b7f5585491a937806c7b04311cc",
            "max": 895670570,
            "min": 0,
            "orientation": "horizontal",
            "style": "IPY_MODEL_9fa449970c0847b4a99b2563f2b2ffcf",
            "value": 895670570
          }
        },
        "0c620454a1fc4be984ff43bb12fded46": {
          "model_module": "@jupyter-widgets/controls",
          "model_name": "HTMLModel",
          "model_module_version": "1.5.0",
          "state": {
            "_dom_classes": [],
            "_model_module": "@jupyter-widgets/controls",
            "_model_module_version": "1.5.0",
            "_model_name": "HTMLModel",
            "_view_count": null,
            "_view_module": "@jupyter-widgets/controls",
            "_view_module_version": "1.5.0",
            "_view_name": "HTMLView",
            "description": "",
            "description_tooltip": null,
            "layout": "IPY_MODEL_e2c59affd6224bde855013a1d7e1cc6b",
            "placeholder": "​",
            "style": "IPY_MODEL_99a7901570d541dfaff3b035793a7794",
            "value": " 896M/896M [00:08&lt;00:00, 184MB/s]"
          }
        },
        "b00b09fb537f48deaad98e93c71bc7d3": {
          "model_module": "@jupyter-widgets/base",
          "model_name": "LayoutModel",
          "model_module_version": "1.2.0",
          "state": {
            "_model_module": "@jupyter-widgets/base",
            "_model_module_version": "1.2.0",
            "_model_name": "LayoutModel",
            "_view_count": null,
            "_view_module": "@jupyter-widgets/base",
            "_view_module_version": "1.2.0",
            "_view_name": "LayoutView",
            "align_content": null,
            "align_items": null,
            "align_self": null,
            "border": null,
            "bottom": null,
            "display": null,
            "flex": null,
            "flex_flow": null,
            "grid_area": null,
            "grid_auto_columns": null,
            "grid_auto_flow": null,
            "grid_auto_rows": null,
            "grid_column": null,
            "grid_gap": null,
            "grid_row": null,
            "grid_template_areas": null,
            "grid_template_columns": null,
            "grid_template_rows": null,
            "height": null,
            "justify_content": null,
            "justify_items": null,
            "left": null,
            "margin": null,
            "max_height": null,
            "max_width": null,
            "min_height": null,
            "min_width": null,
            "object_fit": null,
            "object_position": null,
            "order": null,
            "overflow": null,
            "overflow_x": null,
            "overflow_y": null,
            "padding": null,
            "right": null,
            "top": null,
            "visibility": null,
            "width": null
          }
        },
        "2fe4d733c4e5492f81dbd21ad432085c": {
          "model_module": "@jupyter-widgets/base",
          "model_name": "LayoutModel",
          "model_module_version": "1.2.0",
          "state": {
            "_model_module": "@jupyter-widgets/base",
            "_model_module_version": "1.2.0",
            "_model_name": "LayoutModel",
            "_view_count": null,
            "_view_module": "@jupyter-widgets/base",
            "_view_module_version": "1.2.0",
            "_view_name": "LayoutView",
            "align_content": null,
            "align_items": null,
            "align_self": null,
            "border": null,
            "bottom": null,
            "display": null,
            "flex": null,
            "flex_flow": null,
            "grid_area": null,
            "grid_auto_columns": null,
            "grid_auto_flow": null,
            "grid_auto_rows": null,
            "grid_column": null,
            "grid_gap": null,
            "grid_row": null,
            "grid_template_areas": null,
            "grid_template_columns": null,
            "grid_template_rows": null,
            "height": null,
            "justify_content": null,
            "justify_items": null,
            "left": null,
            "margin": null,
            "max_height": null,
            "max_width": null,
            "min_height": null,
            "min_width": null,
            "object_fit": null,
            "object_position": null,
            "order": null,
            "overflow": null,
            "overflow_x": null,
            "overflow_y": null,
            "padding": null,
            "right": null,
            "top": null,
            "visibility": null,
            "width": null
          }
        },
        "813ebe6bf4e84b6b9bd554d91dbe6410": {
          "model_module": "@jupyter-widgets/controls",
          "model_name": "DescriptionStyleModel",
          "model_module_version": "1.5.0",
          "state": {
            "_model_module": "@jupyter-widgets/controls",
            "_model_module_version": "1.5.0",
            "_model_name": "DescriptionStyleModel",
            "_view_count": null,
            "_view_module": "@jupyter-widgets/base",
            "_view_module_version": "1.2.0",
            "_view_name": "StyleView",
            "description_width": ""
          }
        },
        "eeed4b7f5585491a937806c7b04311cc": {
          "model_module": "@jupyter-widgets/base",
          "model_name": "LayoutModel",
          "model_module_version": "1.2.0",
          "state": {
            "_model_module": "@jupyter-widgets/base",
            "_model_module_version": "1.2.0",
            "_model_name": "LayoutModel",
            "_view_count": null,
            "_view_module": "@jupyter-widgets/base",
            "_view_module_version": "1.2.0",
            "_view_name": "LayoutView",
            "align_content": null,
            "align_items": null,
            "align_self": null,
            "border": null,
            "bottom": null,
            "display": null,
            "flex": null,
            "flex_flow": null,
            "grid_area": null,
            "grid_auto_columns": null,
            "grid_auto_flow": null,
            "grid_auto_rows": null,
            "grid_column": null,
            "grid_gap": null,
            "grid_row": null,
            "grid_template_areas": null,
            "grid_template_columns": null,
            "grid_template_rows": null,
            "height": null,
            "justify_content": null,
            "justify_items": null,
            "left": null,
            "margin": null,
            "max_height": null,
            "max_width": null,
            "min_height": null,
            "min_width": null,
            "object_fit": null,
            "object_position": null,
            "order": null,
            "overflow": null,
            "overflow_x": null,
            "overflow_y": null,
            "padding": null,
            "right": null,
            "top": null,
            "visibility": null,
            "width": null
          }
        },
        "9fa449970c0847b4a99b2563f2b2ffcf": {
          "model_module": "@jupyter-widgets/controls",
          "model_name": "ProgressStyleModel",
          "model_module_version": "1.5.0",
          "state": {
            "_model_module": "@jupyter-widgets/controls",
            "_model_module_version": "1.5.0",
            "_model_name": "ProgressStyleModel",
            "_view_count": null,
            "_view_module": "@jupyter-widgets/base",
            "_view_module_version": "1.2.0",
            "_view_name": "StyleView",
            "bar_color": null,
            "description_width": ""
          }
        },
        "e2c59affd6224bde855013a1d7e1cc6b": {
          "model_module": "@jupyter-widgets/base",
          "model_name": "LayoutModel",
          "model_module_version": "1.2.0",
          "state": {
            "_model_module": "@jupyter-widgets/base",
            "_model_module_version": "1.2.0",
            "_model_name": "LayoutModel",
            "_view_count": null,
            "_view_module": "@jupyter-widgets/base",
            "_view_module_version": "1.2.0",
            "_view_name": "LayoutView",
            "align_content": null,
            "align_items": null,
            "align_self": null,
            "border": null,
            "bottom": null,
            "display": null,
            "flex": null,
            "flex_flow": null,
            "grid_area": null,
            "grid_auto_columns": null,
            "grid_auto_flow": null,
            "grid_auto_rows": null,
            "grid_column": null,
            "grid_gap": null,
            "grid_row": null,
            "grid_template_areas": null,
            "grid_template_columns": null,
            "grid_template_rows": null,
            "height": null,
            "justify_content": null,
            "justify_items": null,
            "left": null,
            "margin": null,
            "max_height": null,
            "max_width": null,
            "min_height": null,
            "min_width": null,
            "object_fit": null,
            "object_position": null,
            "order": null,
            "overflow": null,
            "overflow_x": null,
            "overflow_y": null,
            "padding": null,
            "right": null,
            "top": null,
            "visibility": null,
            "width": null
          }
        },
        "99a7901570d541dfaff3b035793a7794": {
          "model_module": "@jupyter-widgets/controls",
          "model_name": "DescriptionStyleModel",
          "model_module_version": "1.5.0",
          "state": {
            "_model_module": "@jupyter-widgets/controls",
            "_model_module_version": "1.5.0",
            "_model_name": "DescriptionStyleModel",
            "_view_count": null,
            "_view_module": "@jupyter-widgets/base",
            "_view_module_version": "1.2.0",
            "_view_name": "StyleView",
            "description_width": ""
          }
        },
        "ea7bf578c2ce452f8cf0e11bf22cf7e1": {
          "model_module": "@jupyter-widgets/controls",
          "model_name": "HBoxModel",
          "model_module_version": "1.5.0",
          "state": {
            "_dom_classes": [],
            "_model_module": "@jupyter-widgets/controls",
            "_model_module_version": "1.5.0",
            "_model_name": "HBoxModel",
            "_view_count": null,
            "_view_module": "@jupyter-widgets/controls",
            "_view_module_version": "1.5.0",
            "_view_name": "HBoxView",
            "box_style": "",
            "children": [
              "IPY_MODEL_975a8bf36a63450b8ceb52565b6b796c",
              "IPY_MODEL_e92ddac6fddc4e26800b4aea49c41863",
              "IPY_MODEL_4f97eb82c73a45d3b4d9614c188117f4"
            ],
            "layout": "IPY_MODEL_f47d6eace56f43159350256f34ad5b57"
          }
        },
        "975a8bf36a63450b8ceb52565b6b796c": {
          "model_module": "@jupyter-widgets/controls",
          "model_name": "HTMLModel",
          "model_module_version": "1.5.0",
          "state": {
            "_dom_classes": [],
            "_model_module": "@jupyter-widgets/controls",
            "_model_module_version": "1.5.0",
            "_model_name": "HTMLModel",
            "_view_count": null,
            "_view_module": "@jupyter-widgets/controls",
            "_view_module_version": "1.5.0",
            "_view_name": "HTMLView",
            "description": "",
            "description_tooltip": null,
            "layout": "IPY_MODEL_440b9e35978f43eca29bb8a518343e43",
            "placeholder": "​",
            "style": "IPY_MODEL_b9070d05620845348b026fd1ddfb2c51",
            "value": "model-00014-of-00028.safetensors: 100%"
          }
        },
        "e92ddac6fddc4e26800b4aea49c41863": {
          "model_module": "@jupyter-widgets/controls",
          "model_name": "FloatProgressModel",
          "model_module_version": "1.5.0",
          "state": {
            "_dom_classes": [],
            "_model_module": "@jupyter-widgets/controls",
            "_model_module_version": "1.5.0",
            "_model_name": "FloatProgressModel",
            "_view_count": null,
            "_view_module": "@jupyter-widgets/controls",
            "_view_module_version": "1.5.0",
            "_view_name": "ProgressView",
            "bar_style": "success",
            "description": "",
            "description_tooltip": null,
            "layout": "IPY_MODEL_4cceb0a3618c465a847310cae36cecee",
            "max": 1004754140,
            "min": 0,
            "orientation": "horizontal",
            "style": "IPY_MODEL_c6d9ec0f945f425aa2b23510b7eac2d9",
            "value": 1004754140
          }
        },
        "4f97eb82c73a45d3b4d9614c188117f4": {
          "model_module": "@jupyter-widgets/controls",
          "model_name": "HTMLModel",
          "model_module_version": "1.5.0",
          "state": {
            "_dom_classes": [],
            "_model_module": "@jupyter-widgets/controls",
            "_model_module_version": "1.5.0",
            "_model_name": "HTMLModel",
            "_view_count": null,
            "_view_module": "@jupyter-widgets/controls",
            "_view_module_version": "1.5.0",
            "_view_name": "HTMLView",
            "description": "",
            "description_tooltip": null,
            "layout": "IPY_MODEL_2feb4f7f9b9a4afa96175324572ba674",
            "placeholder": "​",
            "style": "IPY_MODEL_44d7abdba9184b89be290981a8df9d0f",
            "value": " 1.00G/1.00G [00:05&lt;00:00, 182MB/s]"
          }
        },
        "f47d6eace56f43159350256f34ad5b57": {
          "model_module": "@jupyter-widgets/base",
          "model_name": "LayoutModel",
          "model_module_version": "1.2.0",
          "state": {
            "_model_module": "@jupyter-widgets/base",
            "_model_module_version": "1.2.0",
            "_model_name": "LayoutModel",
            "_view_count": null,
            "_view_module": "@jupyter-widgets/base",
            "_view_module_version": "1.2.0",
            "_view_name": "LayoutView",
            "align_content": null,
            "align_items": null,
            "align_self": null,
            "border": null,
            "bottom": null,
            "display": null,
            "flex": null,
            "flex_flow": null,
            "grid_area": null,
            "grid_auto_columns": null,
            "grid_auto_flow": null,
            "grid_auto_rows": null,
            "grid_column": null,
            "grid_gap": null,
            "grid_row": null,
            "grid_template_areas": null,
            "grid_template_columns": null,
            "grid_template_rows": null,
            "height": null,
            "justify_content": null,
            "justify_items": null,
            "left": null,
            "margin": null,
            "max_height": null,
            "max_width": null,
            "min_height": null,
            "min_width": null,
            "object_fit": null,
            "object_position": null,
            "order": null,
            "overflow": null,
            "overflow_x": null,
            "overflow_y": null,
            "padding": null,
            "right": null,
            "top": null,
            "visibility": null,
            "width": null
          }
        },
        "440b9e35978f43eca29bb8a518343e43": {
          "model_module": "@jupyter-widgets/base",
          "model_name": "LayoutModel",
          "model_module_version": "1.2.0",
          "state": {
            "_model_module": "@jupyter-widgets/base",
            "_model_module_version": "1.2.0",
            "_model_name": "LayoutModel",
            "_view_count": null,
            "_view_module": "@jupyter-widgets/base",
            "_view_module_version": "1.2.0",
            "_view_name": "LayoutView",
            "align_content": null,
            "align_items": null,
            "align_self": null,
            "border": null,
            "bottom": null,
            "display": null,
            "flex": null,
            "flex_flow": null,
            "grid_area": null,
            "grid_auto_columns": null,
            "grid_auto_flow": null,
            "grid_auto_rows": null,
            "grid_column": null,
            "grid_gap": null,
            "grid_row": null,
            "grid_template_areas": null,
            "grid_template_columns": null,
            "grid_template_rows": null,
            "height": null,
            "justify_content": null,
            "justify_items": null,
            "left": null,
            "margin": null,
            "max_height": null,
            "max_width": null,
            "min_height": null,
            "min_width": null,
            "object_fit": null,
            "object_position": null,
            "order": null,
            "overflow": null,
            "overflow_x": null,
            "overflow_y": null,
            "padding": null,
            "right": null,
            "top": null,
            "visibility": null,
            "width": null
          }
        },
        "b9070d05620845348b026fd1ddfb2c51": {
          "model_module": "@jupyter-widgets/controls",
          "model_name": "DescriptionStyleModel",
          "model_module_version": "1.5.0",
          "state": {
            "_model_module": "@jupyter-widgets/controls",
            "_model_module_version": "1.5.0",
            "_model_name": "DescriptionStyleModel",
            "_view_count": null,
            "_view_module": "@jupyter-widgets/base",
            "_view_module_version": "1.2.0",
            "_view_name": "StyleView",
            "description_width": ""
          }
        },
        "4cceb0a3618c465a847310cae36cecee": {
          "model_module": "@jupyter-widgets/base",
          "model_name": "LayoutModel",
          "model_module_version": "1.2.0",
          "state": {
            "_model_module": "@jupyter-widgets/base",
            "_model_module_version": "1.2.0",
            "_model_name": "LayoutModel",
            "_view_count": null,
            "_view_module": "@jupyter-widgets/base",
            "_view_module_version": "1.2.0",
            "_view_name": "LayoutView",
            "align_content": null,
            "align_items": null,
            "align_self": null,
            "border": null,
            "bottom": null,
            "display": null,
            "flex": null,
            "flex_flow": null,
            "grid_area": null,
            "grid_auto_columns": null,
            "grid_auto_flow": null,
            "grid_auto_rows": null,
            "grid_column": null,
            "grid_gap": null,
            "grid_row": null,
            "grid_template_areas": null,
            "grid_template_columns": null,
            "grid_template_rows": null,
            "height": null,
            "justify_content": null,
            "justify_items": null,
            "left": null,
            "margin": null,
            "max_height": null,
            "max_width": null,
            "min_height": null,
            "min_width": null,
            "object_fit": null,
            "object_position": null,
            "order": null,
            "overflow": null,
            "overflow_x": null,
            "overflow_y": null,
            "padding": null,
            "right": null,
            "top": null,
            "visibility": null,
            "width": null
          }
        },
        "c6d9ec0f945f425aa2b23510b7eac2d9": {
          "model_module": "@jupyter-widgets/controls",
          "model_name": "ProgressStyleModel",
          "model_module_version": "1.5.0",
          "state": {
            "_model_module": "@jupyter-widgets/controls",
            "_model_module_version": "1.5.0",
            "_model_name": "ProgressStyleModel",
            "_view_count": null,
            "_view_module": "@jupyter-widgets/base",
            "_view_module_version": "1.2.0",
            "_view_name": "StyleView",
            "bar_color": null,
            "description_width": ""
          }
        },
        "2feb4f7f9b9a4afa96175324572ba674": {
          "model_module": "@jupyter-widgets/base",
          "model_name": "LayoutModel",
          "model_module_version": "1.2.0",
          "state": {
            "_model_module": "@jupyter-widgets/base",
            "_model_module_version": "1.2.0",
            "_model_name": "LayoutModel",
            "_view_count": null,
            "_view_module": "@jupyter-widgets/base",
            "_view_module_version": "1.2.0",
            "_view_name": "LayoutView",
            "align_content": null,
            "align_items": null,
            "align_self": null,
            "border": null,
            "bottom": null,
            "display": null,
            "flex": null,
            "flex_flow": null,
            "grid_area": null,
            "grid_auto_columns": null,
            "grid_auto_flow": null,
            "grid_auto_rows": null,
            "grid_column": null,
            "grid_gap": null,
            "grid_row": null,
            "grid_template_areas": null,
            "grid_template_columns": null,
            "grid_template_rows": null,
            "height": null,
            "justify_content": null,
            "justify_items": null,
            "left": null,
            "margin": null,
            "max_height": null,
            "max_width": null,
            "min_height": null,
            "min_width": null,
            "object_fit": null,
            "object_position": null,
            "order": null,
            "overflow": null,
            "overflow_x": null,
            "overflow_y": null,
            "padding": null,
            "right": null,
            "top": null,
            "visibility": null,
            "width": null
          }
        },
        "44d7abdba9184b89be290981a8df9d0f": {
          "model_module": "@jupyter-widgets/controls",
          "model_name": "DescriptionStyleModel",
          "model_module_version": "1.5.0",
          "state": {
            "_model_module": "@jupyter-widgets/controls",
            "_model_module_version": "1.5.0",
            "_model_name": "DescriptionStyleModel",
            "_view_count": null,
            "_view_module": "@jupyter-widgets/base",
            "_view_module_version": "1.2.0",
            "_view_name": "StyleView",
            "description_width": ""
          }
        },
        "6ceaffdb564e48d8a90f5a2ad3a199ff": {
          "model_module": "@jupyter-widgets/controls",
          "model_name": "HBoxModel",
          "model_module_version": "1.5.0",
          "state": {
            "_dom_classes": [],
            "_model_module": "@jupyter-widgets/controls",
            "_model_module_version": "1.5.0",
            "_model_name": "HBoxModel",
            "_view_count": null,
            "_view_module": "@jupyter-widgets/controls",
            "_view_module_version": "1.5.0",
            "_view_name": "HBoxView",
            "box_style": "",
            "children": [
              "IPY_MODEL_96d6ec9a683d469e979861816a71c0ca",
              "IPY_MODEL_91f9d6f4449d45dbbfce9ab692e5c29c",
              "IPY_MODEL_4260ed68076c4b21842a0c286c50febd"
            ],
            "layout": "IPY_MODEL_c16d79d064f147daad94279f397cda91"
          }
        },
        "96d6ec9a683d469e979861816a71c0ca": {
          "model_module": "@jupyter-widgets/controls",
          "model_name": "HTMLModel",
          "model_module_version": "1.5.0",
          "state": {
            "_dom_classes": [],
            "_model_module": "@jupyter-widgets/controls",
            "_model_module_version": "1.5.0",
            "_model_name": "HTMLModel",
            "_view_count": null,
            "_view_module": "@jupyter-widgets/controls",
            "_view_module_version": "1.5.0",
            "_view_name": "HTMLView",
            "description": "",
            "description_tooltip": null,
            "layout": "IPY_MODEL_74c46056960b45e69f11fa505fc1095e",
            "placeholder": "​",
            "style": "IPY_MODEL_e49376eeb41e41bc98b2f41bce02d031",
            "value": "model-00015-of-00028.safetensors: 100%"
          }
        },
        "91f9d6f4449d45dbbfce9ab692e5c29c": {
          "model_module": "@jupyter-widgets/controls",
          "model_name": "FloatProgressModel",
          "model_module_version": "1.5.0",
          "state": {
            "_dom_classes": [],
            "_model_module": "@jupyter-widgets/controls",
            "_model_module_version": "1.5.0",
            "_model_name": "FloatProgressModel",
            "_view_count": null,
            "_view_module": "@jupyter-widgets/controls",
            "_view_module_version": "1.5.0",
            "_view_name": "ProgressView",
            "bar_style": "success",
            "description": "",
            "description_tooltip": null,
            "layout": "IPY_MODEL_27fca17665634944a4407f6625ea1385",
            "max": 895670570,
            "min": 0,
            "orientation": "horizontal",
            "style": "IPY_MODEL_b205d3855fba45eb9bf5af922f25672a",
            "value": 895670570
          }
        },
        "4260ed68076c4b21842a0c286c50febd": {
          "model_module": "@jupyter-widgets/controls",
          "model_name": "HTMLModel",
          "model_module_version": "1.5.0",
          "state": {
            "_dom_classes": [],
            "_model_module": "@jupyter-widgets/controls",
            "_model_module_version": "1.5.0",
            "_model_name": "HTMLModel",
            "_view_count": null,
            "_view_module": "@jupyter-widgets/controls",
            "_view_module_version": "1.5.0",
            "_view_name": "HTMLView",
            "description": "",
            "description_tooltip": null,
            "layout": "IPY_MODEL_9d03e90832ec40908340498d1ea1cf1e",
            "placeholder": "​",
            "style": "IPY_MODEL_6da2bc15d44241f8975b086217649811",
            "value": " 896M/896M [00:06&lt;00:00, 120MB/s]"
          }
        },
        "c16d79d064f147daad94279f397cda91": {
          "model_module": "@jupyter-widgets/base",
          "model_name": "LayoutModel",
          "model_module_version": "1.2.0",
          "state": {
            "_model_module": "@jupyter-widgets/base",
            "_model_module_version": "1.2.0",
            "_model_name": "LayoutModel",
            "_view_count": null,
            "_view_module": "@jupyter-widgets/base",
            "_view_module_version": "1.2.0",
            "_view_name": "LayoutView",
            "align_content": null,
            "align_items": null,
            "align_self": null,
            "border": null,
            "bottom": null,
            "display": null,
            "flex": null,
            "flex_flow": null,
            "grid_area": null,
            "grid_auto_columns": null,
            "grid_auto_flow": null,
            "grid_auto_rows": null,
            "grid_column": null,
            "grid_gap": null,
            "grid_row": null,
            "grid_template_areas": null,
            "grid_template_columns": null,
            "grid_template_rows": null,
            "height": null,
            "justify_content": null,
            "justify_items": null,
            "left": null,
            "margin": null,
            "max_height": null,
            "max_width": null,
            "min_height": null,
            "min_width": null,
            "object_fit": null,
            "object_position": null,
            "order": null,
            "overflow": null,
            "overflow_x": null,
            "overflow_y": null,
            "padding": null,
            "right": null,
            "top": null,
            "visibility": null,
            "width": null
          }
        },
        "74c46056960b45e69f11fa505fc1095e": {
          "model_module": "@jupyter-widgets/base",
          "model_name": "LayoutModel",
          "model_module_version": "1.2.0",
          "state": {
            "_model_module": "@jupyter-widgets/base",
            "_model_module_version": "1.2.0",
            "_model_name": "LayoutModel",
            "_view_count": null,
            "_view_module": "@jupyter-widgets/base",
            "_view_module_version": "1.2.0",
            "_view_name": "LayoutView",
            "align_content": null,
            "align_items": null,
            "align_self": null,
            "border": null,
            "bottom": null,
            "display": null,
            "flex": null,
            "flex_flow": null,
            "grid_area": null,
            "grid_auto_columns": null,
            "grid_auto_flow": null,
            "grid_auto_rows": null,
            "grid_column": null,
            "grid_gap": null,
            "grid_row": null,
            "grid_template_areas": null,
            "grid_template_columns": null,
            "grid_template_rows": null,
            "height": null,
            "justify_content": null,
            "justify_items": null,
            "left": null,
            "margin": null,
            "max_height": null,
            "max_width": null,
            "min_height": null,
            "min_width": null,
            "object_fit": null,
            "object_position": null,
            "order": null,
            "overflow": null,
            "overflow_x": null,
            "overflow_y": null,
            "padding": null,
            "right": null,
            "top": null,
            "visibility": null,
            "width": null
          }
        },
        "e49376eeb41e41bc98b2f41bce02d031": {
          "model_module": "@jupyter-widgets/controls",
          "model_name": "DescriptionStyleModel",
          "model_module_version": "1.5.0",
          "state": {
            "_model_module": "@jupyter-widgets/controls",
            "_model_module_version": "1.5.0",
            "_model_name": "DescriptionStyleModel",
            "_view_count": null,
            "_view_module": "@jupyter-widgets/base",
            "_view_module_version": "1.2.0",
            "_view_name": "StyleView",
            "description_width": ""
          }
        },
        "27fca17665634944a4407f6625ea1385": {
          "model_module": "@jupyter-widgets/base",
          "model_name": "LayoutModel",
          "model_module_version": "1.2.0",
          "state": {
            "_model_module": "@jupyter-widgets/base",
            "_model_module_version": "1.2.0",
            "_model_name": "LayoutModel",
            "_view_count": null,
            "_view_module": "@jupyter-widgets/base",
            "_view_module_version": "1.2.0",
            "_view_name": "LayoutView",
            "align_content": null,
            "align_items": null,
            "align_self": null,
            "border": null,
            "bottom": null,
            "display": null,
            "flex": null,
            "flex_flow": null,
            "grid_area": null,
            "grid_auto_columns": null,
            "grid_auto_flow": null,
            "grid_auto_rows": null,
            "grid_column": null,
            "grid_gap": null,
            "grid_row": null,
            "grid_template_areas": null,
            "grid_template_columns": null,
            "grid_template_rows": null,
            "height": null,
            "justify_content": null,
            "justify_items": null,
            "left": null,
            "margin": null,
            "max_height": null,
            "max_width": null,
            "min_height": null,
            "min_width": null,
            "object_fit": null,
            "object_position": null,
            "order": null,
            "overflow": null,
            "overflow_x": null,
            "overflow_y": null,
            "padding": null,
            "right": null,
            "top": null,
            "visibility": null,
            "width": null
          }
        },
        "b205d3855fba45eb9bf5af922f25672a": {
          "model_module": "@jupyter-widgets/controls",
          "model_name": "ProgressStyleModel",
          "model_module_version": "1.5.0",
          "state": {
            "_model_module": "@jupyter-widgets/controls",
            "_model_module_version": "1.5.0",
            "_model_name": "ProgressStyleModel",
            "_view_count": null,
            "_view_module": "@jupyter-widgets/base",
            "_view_module_version": "1.2.0",
            "_view_name": "StyleView",
            "bar_color": null,
            "description_width": ""
          }
        },
        "9d03e90832ec40908340498d1ea1cf1e": {
          "model_module": "@jupyter-widgets/base",
          "model_name": "LayoutModel",
          "model_module_version": "1.2.0",
          "state": {
            "_model_module": "@jupyter-widgets/base",
            "_model_module_version": "1.2.0",
            "_model_name": "LayoutModel",
            "_view_count": null,
            "_view_module": "@jupyter-widgets/base",
            "_view_module_version": "1.2.0",
            "_view_name": "LayoutView",
            "align_content": null,
            "align_items": null,
            "align_self": null,
            "border": null,
            "bottom": null,
            "display": null,
            "flex": null,
            "flex_flow": null,
            "grid_area": null,
            "grid_auto_columns": null,
            "grid_auto_flow": null,
            "grid_auto_rows": null,
            "grid_column": null,
            "grid_gap": null,
            "grid_row": null,
            "grid_template_areas": null,
            "grid_template_columns": null,
            "grid_template_rows": null,
            "height": null,
            "justify_content": null,
            "justify_items": null,
            "left": null,
            "margin": null,
            "max_height": null,
            "max_width": null,
            "min_height": null,
            "min_width": null,
            "object_fit": null,
            "object_position": null,
            "order": null,
            "overflow": null,
            "overflow_x": null,
            "overflow_y": null,
            "padding": null,
            "right": null,
            "top": null,
            "visibility": null,
            "width": null
          }
        },
        "6da2bc15d44241f8975b086217649811": {
          "model_module": "@jupyter-widgets/controls",
          "model_name": "DescriptionStyleModel",
          "model_module_version": "1.5.0",
          "state": {
            "_model_module": "@jupyter-widgets/controls",
            "_model_module_version": "1.5.0",
            "_model_name": "DescriptionStyleModel",
            "_view_count": null,
            "_view_module": "@jupyter-widgets/base",
            "_view_module_version": "1.2.0",
            "_view_name": "StyleView",
            "description_width": ""
          }
        },
        "ee7d704b8cf54929b822c3e390bd1b7a": {
          "model_module": "@jupyter-widgets/controls",
          "model_name": "HBoxModel",
          "model_module_version": "1.5.0",
          "state": {
            "_dom_classes": [],
            "_model_module": "@jupyter-widgets/controls",
            "_model_module_version": "1.5.0",
            "_model_name": "HBoxModel",
            "_view_count": null,
            "_view_module": "@jupyter-widgets/controls",
            "_view_module_version": "1.5.0",
            "_view_name": "HBoxView",
            "box_style": "",
            "children": [
              "IPY_MODEL_e2b42b48316e4097b292690c64f8cdfe",
              "IPY_MODEL_701092f36aed41edab0bd18cb1a0d484",
              "IPY_MODEL_378160870d5e4961bf16ab41e197c354"
            ],
            "layout": "IPY_MODEL_b44f833c21da4c3b8e57a16b026ff8b0"
          }
        },
        "e2b42b48316e4097b292690c64f8cdfe": {
          "model_module": "@jupyter-widgets/controls",
          "model_name": "HTMLModel",
          "model_module_version": "1.5.0",
          "state": {
            "_dom_classes": [],
            "_model_module": "@jupyter-widgets/controls",
            "_model_module_version": "1.5.0",
            "_model_name": "HTMLModel",
            "_view_count": null,
            "_view_module": "@jupyter-widgets/controls",
            "_view_module_version": "1.5.0",
            "_view_name": "HTMLView",
            "description": "",
            "description_tooltip": null,
            "layout": "IPY_MODEL_f61a80f270874658b0537e18969b8eb9",
            "placeholder": "​",
            "style": "IPY_MODEL_aff38dfb89a3405dba5e820edaba16c4",
            "value": "model-00016-of-00028.safetensors: 100%"
          }
        },
        "701092f36aed41edab0bd18cb1a0d484": {
          "model_module": "@jupyter-widgets/controls",
          "model_name": "FloatProgressModel",
          "model_module_version": "1.5.0",
          "state": {
            "_dom_classes": [],
            "_model_module": "@jupyter-widgets/controls",
            "_model_module_version": "1.5.0",
            "_model_name": "FloatProgressModel",
            "_view_count": null,
            "_view_module": "@jupyter-widgets/controls",
            "_view_module_version": "1.5.0",
            "_view_name": "ProgressView",
            "bar_style": "success",
            "description": "",
            "description_tooltip": null,
            "layout": "IPY_MODEL_bd5afdc1540a42f4aa50934d65e5a2e4",
            "max": 1004754140,
            "min": 0,
            "orientation": "horizontal",
            "style": "IPY_MODEL_38e3fa7ba7e542b5a0e937a2d1dacc3b",
            "value": 1004754140
          }
        },
        "378160870d5e4961bf16ab41e197c354": {
          "model_module": "@jupyter-widgets/controls",
          "model_name": "HTMLModel",
          "model_module_version": "1.5.0",
          "state": {
            "_dom_classes": [],
            "_model_module": "@jupyter-widgets/controls",
            "_model_module_version": "1.5.0",
            "_model_name": "HTMLModel",
            "_view_count": null,
            "_view_module": "@jupyter-widgets/controls",
            "_view_module_version": "1.5.0",
            "_view_name": "HTMLView",
            "description": "",
            "description_tooltip": null,
            "layout": "IPY_MODEL_9fca469ceca84d96bb0bd46054b7f3ad",
            "placeholder": "​",
            "style": "IPY_MODEL_09e4711878194dd99660648704f1965a",
            "value": " 1.00G/1.00G [00:09&lt;00:00, 41.6MB/s]"
          }
        },
        "b44f833c21da4c3b8e57a16b026ff8b0": {
          "model_module": "@jupyter-widgets/base",
          "model_name": "LayoutModel",
          "model_module_version": "1.2.0",
          "state": {
            "_model_module": "@jupyter-widgets/base",
            "_model_module_version": "1.2.0",
            "_model_name": "LayoutModel",
            "_view_count": null,
            "_view_module": "@jupyter-widgets/base",
            "_view_module_version": "1.2.0",
            "_view_name": "LayoutView",
            "align_content": null,
            "align_items": null,
            "align_self": null,
            "border": null,
            "bottom": null,
            "display": null,
            "flex": null,
            "flex_flow": null,
            "grid_area": null,
            "grid_auto_columns": null,
            "grid_auto_flow": null,
            "grid_auto_rows": null,
            "grid_column": null,
            "grid_gap": null,
            "grid_row": null,
            "grid_template_areas": null,
            "grid_template_columns": null,
            "grid_template_rows": null,
            "height": null,
            "justify_content": null,
            "justify_items": null,
            "left": null,
            "margin": null,
            "max_height": null,
            "max_width": null,
            "min_height": null,
            "min_width": null,
            "object_fit": null,
            "object_position": null,
            "order": null,
            "overflow": null,
            "overflow_x": null,
            "overflow_y": null,
            "padding": null,
            "right": null,
            "top": null,
            "visibility": null,
            "width": null
          }
        },
        "f61a80f270874658b0537e18969b8eb9": {
          "model_module": "@jupyter-widgets/base",
          "model_name": "LayoutModel",
          "model_module_version": "1.2.0",
          "state": {
            "_model_module": "@jupyter-widgets/base",
            "_model_module_version": "1.2.0",
            "_model_name": "LayoutModel",
            "_view_count": null,
            "_view_module": "@jupyter-widgets/base",
            "_view_module_version": "1.2.0",
            "_view_name": "LayoutView",
            "align_content": null,
            "align_items": null,
            "align_self": null,
            "border": null,
            "bottom": null,
            "display": null,
            "flex": null,
            "flex_flow": null,
            "grid_area": null,
            "grid_auto_columns": null,
            "grid_auto_flow": null,
            "grid_auto_rows": null,
            "grid_column": null,
            "grid_gap": null,
            "grid_row": null,
            "grid_template_areas": null,
            "grid_template_columns": null,
            "grid_template_rows": null,
            "height": null,
            "justify_content": null,
            "justify_items": null,
            "left": null,
            "margin": null,
            "max_height": null,
            "max_width": null,
            "min_height": null,
            "min_width": null,
            "object_fit": null,
            "object_position": null,
            "order": null,
            "overflow": null,
            "overflow_x": null,
            "overflow_y": null,
            "padding": null,
            "right": null,
            "top": null,
            "visibility": null,
            "width": null
          }
        },
        "aff38dfb89a3405dba5e820edaba16c4": {
          "model_module": "@jupyter-widgets/controls",
          "model_name": "DescriptionStyleModel",
          "model_module_version": "1.5.0",
          "state": {
            "_model_module": "@jupyter-widgets/controls",
            "_model_module_version": "1.5.0",
            "_model_name": "DescriptionStyleModel",
            "_view_count": null,
            "_view_module": "@jupyter-widgets/base",
            "_view_module_version": "1.2.0",
            "_view_name": "StyleView",
            "description_width": ""
          }
        },
        "bd5afdc1540a42f4aa50934d65e5a2e4": {
          "model_module": "@jupyter-widgets/base",
          "model_name": "LayoutModel",
          "model_module_version": "1.2.0",
          "state": {
            "_model_module": "@jupyter-widgets/base",
            "_model_module_version": "1.2.0",
            "_model_name": "LayoutModel",
            "_view_count": null,
            "_view_module": "@jupyter-widgets/base",
            "_view_module_version": "1.2.0",
            "_view_name": "LayoutView",
            "align_content": null,
            "align_items": null,
            "align_self": null,
            "border": null,
            "bottom": null,
            "display": null,
            "flex": null,
            "flex_flow": null,
            "grid_area": null,
            "grid_auto_columns": null,
            "grid_auto_flow": null,
            "grid_auto_rows": null,
            "grid_column": null,
            "grid_gap": null,
            "grid_row": null,
            "grid_template_areas": null,
            "grid_template_columns": null,
            "grid_template_rows": null,
            "height": null,
            "justify_content": null,
            "justify_items": null,
            "left": null,
            "margin": null,
            "max_height": null,
            "max_width": null,
            "min_height": null,
            "min_width": null,
            "object_fit": null,
            "object_position": null,
            "order": null,
            "overflow": null,
            "overflow_x": null,
            "overflow_y": null,
            "padding": null,
            "right": null,
            "top": null,
            "visibility": null,
            "width": null
          }
        },
        "38e3fa7ba7e542b5a0e937a2d1dacc3b": {
          "model_module": "@jupyter-widgets/controls",
          "model_name": "ProgressStyleModel",
          "model_module_version": "1.5.0",
          "state": {
            "_model_module": "@jupyter-widgets/controls",
            "_model_module_version": "1.5.0",
            "_model_name": "ProgressStyleModel",
            "_view_count": null,
            "_view_module": "@jupyter-widgets/base",
            "_view_module_version": "1.2.0",
            "_view_name": "StyleView",
            "bar_color": null,
            "description_width": ""
          }
        },
        "9fca469ceca84d96bb0bd46054b7f3ad": {
          "model_module": "@jupyter-widgets/base",
          "model_name": "LayoutModel",
          "model_module_version": "1.2.0",
          "state": {
            "_model_module": "@jupyter-widgets/base",
            "_model_module_version": "1.2.0",
            "_model_name": "LayoutModel",
            "_view_count": null,
            "_view_module": "@jupyter-widgets/base",
            "_view_module_version": "1.2.0",
            "_view_name": "LayoutView",
            "align_content": null,
            "align_items": null,
            "align_self": null,
            "border": null,
            "bottom": null,
            "display": null,
            "flex": null,
            "flex_flow": null,
            "grid_area": null,
            "grid_auto_columns": null,
            "grid_auto_flow": null,
            "grid_auto_rows": null,
            "grid_column": null,
            "grid_gap": null,
            "grid_row": null,
            "grid_template_areas": null,
            "grid_template_columns": null,
            "grid_template_rows": null,
            "height": null,
            "justify_content": null,
            "justify_items": null,
            "left": null,
            "margin": null,
            "max_height": null,
            "max_width": null,
            "min_height": null,
            "min_width": null,
            "object_fit": null,
            "object_position": null,
            "order": null,
            "overflow": null,
            "overflow_x": null,
            "overflow_y": null,
            "padding": null,
            "right": null,
            "top": null,
            "visibility": null,
            "width": null
          }
        },
        "09e4711878194dd99660648704f1965a": {
          "model_module": "@jupyter-widgets/controls",
          "model_name": "DescriptionStyleModel",
          "model_module_version": "1.5.0",
          "state": {
            "_model_module": "@jupyter-widgets/controls",
            "_model_module_version": "1.5.0",
            "_model_name": "DescriptionStyleModel",
            "_view_count": null,
            "_view_module": "@jupyter-widgets/base",
            "_view_module_version": "1.2.0",
            "_view_name": "StyleView",
            "description_width": ""
          }
        },
        "c2df01620aba4c82bf346c5e80945b65": {
          "model_module": "@jupyter-widgets/controls",
          "model_name": "HBoxModel",
          "model_module_version": "1.5.0",
          "state": {
            "_dom_classes": [],
            "_model_module": "@jupyter-widgets/controls",
            "_model_module_version": "1.5.0",
            "_model_name": "HBoxModel",
            "_view_count": null,
            "_view_module": "@jupyter-widgets/controls",
            "_view_module_version": "1.5.0",
            "_view_name": "HBoxView",
            "box_style": "",
            "children": [
              "IPY_MODEL_157bcdcfb1d240ca9ace554d99c60d43",
              "IPY_MODEL_d4c298dea62248829a8e28047c50da96",
              "IPY_MODEL_2997afce37cb49939243d6207b048f5b"
            ],
            "layout": "IPY_MODEL_a9d5dacdf3514d238c8b6a69cea93b7c"
          }
        },
        "157bcdcfb1d240ca9ace554d99c60d43": {
          "model_module": "@jupyter-widgets/controls",
          "model_name": "HTMLModel",
          "model_module_version": "1.5.0",
          "state": {
            "_dom_classes": [],
            "_model_module": "@jupyter-widgets/controls",
            "_model_module_version": "1.5.0",
            "_model_name": "HTMLModel",
            "_view_count": null,
            "_view_module": "@jupyter-widgets/controls",
            "_view_module_version": "1.5.0",
            "_view_name": "HTMLView",
            "description": "",
            "description_tooltip": null,
            "layout": "IPY_MODEL_3813e4ac5dbe4f9fb95218aac44cda9f",
            "placeholder": "​",
            "style": "IPY_MODEL_49e22f66cb9b4f23b12a93587f5e008c",
            "value": "model-00017-of-00028.safetensors: 100%"
          }
        },
        "d4c298dea62248829a8e28047c50da96": {
          "model_module": "@jupyter-widgets/controls",
          "model_name": "FloatProgressModel",
          "model_module_version": "1.5.0",
          "state": {
            "_dom_classes": [],
            "_model_module": "@jupyter-widgets/controls",
            "_model_module_version": "1.5.0",
            "_model_name": "FloatProgressModel",
            "_view_count": null,
            "_view_module": "@jupyter-widgets/controls",
            "_view_module_version": "1.5.0",
            "_view_name": "ProgressView",
            "bar_style": "success",
            "description": "",
            "description_tooltip": null,
            "layout": "IPY_MODEL_c2135801c9b14b5aaf70f5c0c1c9f5b7",
            "max": 895670570,
            "min": 0,
            "orientation": "horizontal",
            "style": "IPY_MODEL_f0ae249ae76448968326a3797f43b8be",
            "value": 895670570
          }
        },
        "2997afce37cb49939243d6207b048f5b": {
          "model_module": "@jupyter-widgets/controls",
          "model_name": "HTMLModel",
          "model_module_version": "1.5.0",
          "state": {
            "_dom_classes": [],
            "_model_module": "@jupyter-widgets/controls",
            "_model_module_version": "1.5.0",
            "_model_name": "HTMLModel",
            "_view_count": null,
            "_view_module": "@jupyter-widgets/controls",
            "_view_module_version": "1.5.0",
            "_view_name": "HTMLView",
            "description": "",
            "description_tooltip": null,
            "layout": "IPY_MODEL_6187235916074453869e2faa00371a19",
            "placeholder": "​",
            "style": "IPY_MODEL_3507027f39c94ace870875f884937268",
            "value": " 896M/896M [00:08&lt;00:00, 63.4MB/s]"
          }
        },
        "a9d5dacdf3514d238c8b6a69cea93b7c": {
          "model_module": "@jupyter-widgets/base",
          "model_name": "LayoutModel",
          "model_module_version": "1.2.0",
          "state": {
            "_model_module": "@jupyter-widgets/base",
            "_model_module_version": "1.2.0",
            "_model_name": "LayoutModel",
            "_view_count": null,
            "_view_module": "@jupyter-widgets/base",
            "_view_module_version": "1.2.0",
            "_view_name": "LayoutView",
            "align_content": null,
            "align_items": null,
            "align_self": null,
            "border": null,
            "bottom": null,
            "display": null,
            "flex": null,
            "flex_flow": null,
            "grid_area": null,
            "grid_auto_columns": null,
            "grid_auto_flow": null,
            "grid_auto_rows": null,
            "grid_column": null,
            "grid_gap": null,
            "grid_row": null,
            "grid_template_areas": null,
            "grid_template_columns": null,
            "grid_template_rows": null,
            "height": null,
            "justify_content": null,
            "justify_items": null,
            "left": null,
            "margin": null,
            "max_height": null,
            "max_width": null,
            "min_height": null,
            "min_width": null,
            "object_fit": null,
            "object_position": null,
            "order": null,
            "overflow": null,
            "overflow_x": null,
            "overflow_y": null,
            "padding": null,
            "right": null,
            "top": null,
            "visibility": null,
            "width": null
          }
        },
        "3813e4ac5dbe4f9fb95218aac44cda9f": {
          "model_module": "@jupyter-widgets/base",
          "model_name": "LayoutModel",
          "model_module_version": "1.2.0",
          "state": {
            "_model_module": "@jupyter-widgets/base",
            "_model_module_version": "1.2.0",
            "_model_name": "LayoutModel",
            "_view_count": null,
            "_view_module": "@jupyter-widgets/base",
            "_view_module_version": "1.2.0",
            "_view_name": "LayoutView",
            "align_content": null,
            "align_items": null,
            "align_self": null,
            "border": null,
            "bottom": null,
            "display": null,
            "flex": null,
            "flex_flow": null,
            "grid_area": null,
            "grid_auto_columns": null,
            "grid_auto_flow": null,
            "grid_auto_rows": null,
            "grid_column": null,
            "grid_gap": null,
            "grid_row": null,
            "grid_template_areas": null,
            "grid_template_columns": null,
            "grid_template_rows": null,
            "height": null,
            "justify_content": null,
            "justify_items": null,
            "left": null,
            "margin": null,
            "max_height": null,
            "max_width": null,
            "min_height": null,
            "min_width": null,
            "object_fit": null,
            "object_position": null,
            "order": null,
            "overflow": null,
            "overflow_x": null,
            "overflow_y": null,
            "padding": null,
            "right": null,
            "top": null,
            "visibility": null,
            "width": null
          }
        },
        "49e22f66cb9b4f23b12a93587f5e008c": {
          "model_module": "@jupyter-widgets/controls",
          "model_name": "DescriptionStyleModel",
          "model_module_version": "1.5.0",
          "state": {
            "_model_module": "@jupyter-widgets/controls",
            "_model_module_version": "1.5.0",
            "_model_name": "DescriptionStyleModel",
            "_view_count": null,
            "_view_module": "@jupyter-widgets/base",
            "_view_module_version": "1.2.0",
            "_view_name": "StyleView",
            "description_width": ""
          }
        },
        "c2135801c9b14b5aaf70f5c0c1c9f5b7": {
          "model_module": "@jupyter-widgets/base",
          "model_name": "LayoutModel",
          "model_module_version": "1.2.0",
          "state": {
            "_model_module": "@jupyter-widgets/base",
            "_model_module_version": "1.2.0",
            "_model_name": "LayoutModel",
            "_view_count": null,
            "_view_module": "@jupyter-widgets/base",
            "_view_module_version": "1.2.0",
            "_view_name": "LayoutView",
            "align_content": null,
            "align_items": null,
            "align_self": null,
            "border": null,
            "bottom": null,
            "display": null,
            "flex": null,
            "flex_flow": null,
            "grid_area": null,
            "grid_auto_columns": null,
            "grid_auto_flow": null,
            "grid_auto_rows": null,
            "grid_column": null,
            "grid_gap": null,
            "grid_row": null,
            "grid_template_areas": null,
            "grid_template_columns": null,
            "grid_template_rows": null,
            "height": null,
            "justify_content": null,
            "justify_items": null,
            "left": null,
            "margin": null,
            "max_height": null,
            "max_width": null,
            "min_height": null,
            "min_width": null,
            "object_fit": null,
            "object_position": null,
            "order": null,
            "overflow": null,
            "overflow_x": null,
            "overflow_y": null,
            "padding": null,
            "right": null,
            "top": null,
            "visibility": null,
            "width": null
          }
        },
        "f0ae249ae76448968326a3797f43b8be": {
          "model_module": "@jupyter-widgets/controls",
          "model_name": "ProgressStyleModel",
          "model_module_version": "1.5.0",
          "state": {
            "_model_module": "@jupyter-widgets/controls",
            "_model_module_version": "1.5.0",
            "_model_name": "ProgressStyleModel",
            "_view_count": null,
            "_view_module": "@jupyter-widgets/base",
            "_view_module_version": "1.2.0",
            "_view_name": "StyleView",
            "bar_color": null,
            "description_width": ""
          }
        },
        "6187235916074453869e2faa00371a19": {
          "model_module": "@jupyter-widgets/base",
          "model_name": "LayoutModel",
          "model_module_version": "1.2.0",
          "state": {
            "_model_module": "@jupyter-widgets/base",
            "_model_module_version": "1.2.0",
            "_model_name": "LayoutModel",
            "_view_count": null,
            "_view_module": "@jupyter-widgets/base",
            "_view_module_version": "1.2.0",
            "_view_name": "LayoutView",
            "align_content": null,
            "align_items": null,
            "align_self": null,
            "border": null,
            "bottom": null,
            "display": null,
            "flex": null,
            "flex_flow": null,
            "grid_area": null,
            "grid_auto_columns": null,
            "grid_auto_flow": null,
            "grid_auto_rows": null,
            "grid_column": null,
            "grid_gap": null,
            "grid_row": null,
            "grid_template_areas": null,
            "grid_template_columns": null,
            "grid_template_rows": null,
            "height": null,
            "justify_content": null,
            "justify_items": null,
            "left": null,
            "margin": null,
            "max_height": null,
            "max_width": null,
            "min_height": null,
            "min_width": null,
            "object_fit": null,
            "object_position": null,
            "order": null,
            "overflow": null,
            "overflow_x": null,
            "overflow_y": null,
            "padding": null,
            "right": null,
            "top": null,
            "visibility": null,
            "width": null
          }
        },
        "3507027f39c94ace870875f884937268": {
          "model_module": "@jupyter-widgets/controls",
          "model_name": "DescriptionStyleModel",
          "model_module_version": "1.5.0",
          "state": {
            "_model_module": "@jupyter-widgets/controls",
            "_model_module_version": "1.5.0",
            "_model_name": "DescriptionStyleModel",
            "_view_count": null,
            "_view_module": "@jupyter-widgets/base",
            "_view_module_version": "1.2.0",
            "_view_name": "StyleView",
            "description_width": ""
          }
        },
        "d53579ee7a5a40b2bafd85bd3149c776": {
          "model_module": "@jupyter-widgets/controls",
          "model_name": "HBoxModel",
          "model_module_version": "1.5.0",
          "state": {
            "_dom_classes": [],
            "_model_module": "@jupyter-widgets/controls",
            "_model_module_version": "1.5.0",
            "_model_name": "HBoxModel",
            "_view_count": null,
            "_view_module": "@jupyter-widgets/controls",
            "_view_module_version": "1.5.0",
            "_view_name": "HBoxView",
            "box_style": "",
            "children": [
              "IPY_MODEL_801f540f575342daa1dd95905074b03c",
              "IPY_MODEL_181986c5f3b842cc81f278522064c346",
              "IPY_MODEL_200e9f34d608445b83bdf79c65b73642"
            ],
            "layout": "IPY_MODEL_c94cdd2ba5aa4d0ca5f03f080efd1bff"
          }
        },
        "801f540f575342daa1dd95905074b03c": {
          "model_module": "@jupyter-widgets/controls",
          "model_name": "HTMLModel",
          "model_module_version": "1.5.0",
          "state": {
            "_dom_classes": [],
            "_model_module": "@jupyter-widgets/controls",
            "_model_module_version": "1.5.0",
            "_model_name": "HTMLModel",
            "_view_count": null,
            "_view_module": "@jupyter-widgets/controls",
            "_view_module_version": "1.5.0",
            "_view_name": "HTMLView",
            "description": "",
            "description_tooltip": null,
            "layout": "IPY_MODEL_7a2d18234e5e4e03b59e6a3f73eed75e",
            "placeholder": "​",
            "style": "IPY_MODEL_5eb01f5379f54e24968d6dd350683b98",
            "value": "model-00018-of-00028.safetensors: 100%"
          }
        },
        "181986c5f3b842cc81f278522064c346": {
          "model_module": "@jupyter-widgets/controls",
          "model_name": "FloatProgressModel",
          "model_module_version": "1.5.0",
          "state": {
            "_dom_classes": [],
            "_model_module": "@jupyter-widgets/controls",
            "_model_module_version": "1.5.0",
            "_model_name": "FloatProgressModel",
            "_view_count": null,
            "_view_module": "@jupyter-widgets/controls",
            "_view_module_version": "1.5.0",
            "_view_name": "ProgressView",
            "bar_style": "success",
            "description": "",
            "description_tooltip": null,
            "layout": "IPY_MODEL_9c61641b9e324d88946441473988812b",
            "max": 1004754140,
            "min": 0,
            "orientation": "horizontal",
            "style": "IPY_MODEL_c993644de42f4ae5bbdb51968f7987c9",
            "value": 1004754140
          }
        },
        "200e9f34d608445b83bdf79c65b73642": {
          "model_module": "@jupyter-widgets/controls",
          "model_name": "HTMLModel",
          "model_module_version": "1.5.0",
          "state": {
            "_dom_classes": [],
            "_model_module": "@jupyter-widgets/controls",
            "_model_module_version": "1.5.0",
            "_model_name": "HTMLModel",
            "_view_count": null,
            "_view_module": "@jupyter-widgets/controls",
            "_view_module_version": "1.5.0",
            "_view_name": "HTMLView",
            "description": "",
            "description_tooltip": null,
            "layout": "IPY_MODEL_41e7acc32e804f40a8a801240398ac39",
            "placeholder": "​",
            "style": "IPY_MODEL_355534bd3a364652ba3dfd002da1f05c",
            "value": " 1.00G/1.00G [00:08&lt;00:00, 188MB/s]"
          }
        },
        "c94cdd2ba5aa4d0ca5f03f080efd1bff": {
          "model_module": "@jupyter-widgets/base",
          "model_name": "LayoutModel",
          "model_module_version": "1.2.0",
          "state": {
            "_model_module": "@jupyter-widgets/base",
            "_model_module_version": "1.2.0",
            "_model_name": "LayoutModel",
            "_view_count": null,
            "_view_module": "@jupyter-widgets/base",
            "_view_module_version": "1.2.0",
            "_view_name": "LayoutView",
            "align_content": null,
            "align_items": null,
            "align_self": null,
            "border": null,
            "bottom": null,
            "display": null,
            "flex": null,
            "flex_flow": null,
            "grid_area": null,
            "grid_auto_columns": null,
            "grid_auto_flow": null,
            "grid_auto_rows": null,
            "grid_column": null,
            "grid_gap": null,
            "grid_row": null,
            "grid_template_areas": null,
            "grid_template_columns": null,
            "grid_template_rows": null,
            "height": null,
            "justify_content": null,
            "justify_items": null,
            "left": null,
            "margin": null,
            "max_height": null,
            "max_width": null,
            "min_height": null,
            "min_width": null,
            "object_fit": null,
            "object_position": null,
            "order": null,
            "overflow": null,
            "overflow_x": null,
            "overflow_y": null,
            "padding": null,
            "right": null,
            "top": null,
            "visibility": null,
            "width": null
          }
        },
        "7a2d18234e5e4e03b59e6a3f73eed75e": {
          "model_module": "@jupyter-widgets/base",
          "model_name": "LayoutModel",
          "model_module_version": "1.2.0",
          "state": {
            "_model_module": "@jupyter-widgets/base",
            "_model_module_version": "1.2.0",
            "_model_name": "LayoutModel",
            "_view_count": null,
            "_view_module": "@jupyter-widgets/base",
            "_view_module_version": "1.2.0",
            "_view_name": "LayoutView",
            "align_content": null,
            "align_items": null,
            "align_self": null,
            "border": null,
            "bottom": null,
            "display": null,
            "flex": null,
            "flex_flow": null,
            "grid_area": null,
            "grid_auto_columns": null,
            "grid_auto_flow": null,
            "grid_auto_rows": null,
            "grid_column": null,
            "grid_gap": null,
            "grid_row": null,
            "grid_template_areas": null,
            "grid_template_columns": null,
            "grid_template_rows": null,
            "height": null,
            "justify_content": null,
            "justify_items": null,
            "left": null,
            "margin": null,
            "max_height": null,
            "max_width": null,
            "min_height": null,
            "min_width": null,
            "object_fit": null,
            "object_position": null,
            "order": null,
            "overflow": null,
            "overflow_x": null,
            "overflow_y": null,
            "padding": null,
            "right": null,
            "top": null,
            "visibility": null,
            "width": null
          }
        },
        "5eb01f5379f54e24968d6dd350683b98": {
          "model_module": "@jupyter-widgets/controls",
          "model_name": "DescriptionStyleModel",
          "model_module_version": "1.5.0",
          "state": {
            "_model_module": "@jupyter-widgets/controls",
            "_model_module_version": "1.5.0",
            "_model_name": "DescriptionStyleModel",
            "_view_count": null,
            "_view_module": "@jupyter-widgets/base",
            "_view_module_version": "1.2.0",
            "_view_name": "StyleView",
            "description_width": ""
          }
        },
        "9c61641b9e324d88946441473988812b": {
          "model_module": "@jupyter-widgets/base",
          "model_name": "LayoutModel",
          "model_module_version": "1.2.0",
          "state": {
            "_model_module": "@jupyter-widgets/base",
            "_model_module_version": "1.2.0",
            "_model_name": "LayoutModel",
            "_view_count": null,
            "_view_module": "@jupyter-widgets/base",
            "_view_module_version": "1.2.0",
            "_view_name": "LayoutView",
            "align_content": null,
            "align_items": null,
            "align_self": null,
            "border": null,
            "bottom": null,
            "display": null,
            "flex": null,
            "flex_flow": null,
            "grid_area": null,
            "grid_auto_columns": null,
            "grid_auto_flow": null,
            "grid_auto_rows": null,
            "grid_column": null,
            "grid_gap": null,
            "grid_row": null,
            "grid_template_areas": null,
            "grid_template_columns": null,
            "grid_template_rows": null,
            "height": null,
            "justify_content": null,
            "justify_items": null,
            "left": null,
            "margin": null,
            "max_height": null,
            "max_width": null,
            "min_height": null,
            "min_width": null,
            "object_fit": null,
            "object_position": null,
            "order": null,
            "overflow": null,
            "overflow_x": null,
            "overflow_y": null,
            "padding": null,
            "right": null,
            "top": null,
            "visibility": null,
            "width": null
          }
        },
        "c993644de42f4ae5bbdb51968f7987c9": {
          "model_module": "@jupyter-widgets/controls",
          "model_name": "ProgressStyleModel",
          "model_module_version": "1.5.0",
          "state": {
            "_model_module": "@jupyter-widgets/controls",
            "_model_module_version": "1.5.0",
            "_model_name": "ProgressStyleModel",
            "_view_count": null,
            "_view_module": "@jupyter-widgets/base",
            "_view_module_version": "1.2.0",
            "_view_name": "StyleView",
            "bar_color": null,
            "description_width": ""
          }
        },
        "41e7acc32e804f40a8a801240398ac39": {
          "model_module": "@jupyter-widgets/base",
          "model_name": "LayoutModel",
          "model_module_version": "1.2.0",
          "state": {
            "_model_module": "@jupyter-widgets/base",
            "_model_module_version": "1.2.0",
            "_model_name": "LayoutModel",
            "_view_count": null,
            "_view_module": "@jupyter-widgets/base",
            "_view_module_version": "1.2.0",
            "_view_name": "LayoutView",
            "align_content": null,
            "align_items": null,
            "align_self": null,
            "border": null,
            "bottom": null,
            "display": null,
            "flex": null,
            "flex_flow": null,
            "grid_area": null,
            "grid_auto_columns": null,
            "grid_auto_flow": null,
            "grid_auto_rows": null,
            "grid_column": null,
            "grid_gap": null,
            "grid_row": null,
            "grid_template_areas": null,
            "grid_template_columns": null,
            "grid_template_rows": null,
            "height": null,
            "justify_content": null,
            "justify_items": null,
            "left": null,
            "margin": null,
            "max_height": null,
            "max_width": null,
            "min_height": null,
            "min_width": null,
            "object_fit": null,
            "object_position": null,
            "order": null,
            "overflow": null,
            "overflow_x": null,
            "overflow_y": null,
            "padding": null,
            "right": null,
            "top": null,
            "visibility": null,
            "width": null
          }
        },
        "355534bd3a364652ba3dfd002da1f05c": {
          "model_module": "@jupyter-widgets/controls",
          "model_name": "DescriptionStyleModel",
          "model_module_version": "1.5.0",
          "state": {
            "_model_module": "@jupyter-widgets/controls",
            "_model_module_version": "1.5.0",
            "_model_name": "DescriptionStyleModel",
            "_view_count": null,
            "_view_module": "@jupyter-widgets/base",
            "_view_module_version": "1.2.0",
            "_view_name": "StyleView",
            "description_width": ""
          }
        },
        "1bb6576b52d8441a84e2e3a6e843c54e": {
          "model_module": "@jupyter-widgets/controls",
          "model_name": "HBoxModel",
          "model_module_version": "1.5.0",
          "state": {
            "_dom_classes": [],
            "_model_module": "@jupyter-widgets/controls",
            "_model_module_version": "1.5.0",
            "_model_name": "HBoxModel",
            "_view_count": null,
            "_view_module": "@jupyter-widgets/controls",
            "_view_module_version": "1.5.0",
            "_view_name": "HBoxView",
            "box_style": "",
            "children": [
              "IPY_MODEL_5df22550f43f422eaba5a364fc4f83b0",
              "IPY_MODEL_c350fa55ae7f4047bdede6178144de33",
              "IPY_MODEL_0a1847ed03784705a5d08f39983e1b98"
            ],
            "layout": "IPY_MODEL_bfa2641e93cb46b2baaeb2d73ee2f85f"
          }
        },
        "5df22550f43f422eaba5a364fc4f83b0": {
          "model_module": "@jupyter-widgets/controls",
          "model_name": "HTMLModel",
          "model_module_version": "1.5.0",
          "state": {
            "_dom_classes": [],
            "_model_module": "@jupyter-widgets/controls",
            "_model_module_version": "1.5.0",
            "_model_name": "HTMLModel",
            "_view_count": null,
            "_view_module": "@jupyter-widgets/controls",
            "_view_module_version": "1.5.0",
            "_view_name": "HTMLView",
            "description": "",
            "description_tooltip": null,
            "layout": "IPY_MODEL_c9d514eaae924d04ae1f72e14b528cfa",
            "placeholder": "​",
            "style": "IPY_MODEL_bcb82cb10d074090948c43a611024438",
            "value": "model-00019-of-00028.safetensors: 100%"
          }
        },
        "c350fa55ae7f4047bdede6178144de33": {
          "model_module": "@jupyter-widgets/controls",
          "model_name": "FloatProgressModel",
          "model_module_version": "1.5.0",
          "state": {
            "_dom_classes": [],
            "_model_module": "@jupyter-widgets/controls",
            "_model_module_version": "1.5.0",
            "_model_name": "FloatProgressModel",
            "_view_count": null,
            "_view_module": "@jupyter-widgets/controls",
            "_view_module_version": "1.5.0",
            "_view_name": "ProgressView",
            "bar_style": "success",
            "description": "",
            "description_tooltip": null,
            "layout": "IPY_MODEL_58cea5113f2e4dfc8d37d3a9f159e1e3",
            "max": 895670570,
            "min": 0,
            "orientation": "horizontal",
            "style": "IPY_MODEL_e2637366ac32440ebcef1a9f5a2c7c80",
            "value": 895670570
          }
        },
        "0a1847ed03784705a5d08f39983e1b98": {
          "model_module": "@jupyter-widgets/controls",
          "model_name": "HTMLModel",
          "model_module_version": "1.5.0",
          "state": {
            "_dom_classes": [],
            "_model_module": "@jupyter-widgets/controls",
            "_model_module_version": "1.5.0",
            "_model_name": "HTMLModel",
            "_view_count": null,
            "_view_module": "@jupyter-widgets/controls",
            "_view_module_version": "1.5.0",
            "_view_name": "HTMLView",
            "description": "",
            "description_tooltip": null,
            "layout": "IPY_MODEL_1876ac1247ef401b9fceca067fc7811a",
            "placeholder": "​",
            "style": "IPY_MODEL_fa1cceab54044cc0ace4d89476c8b350",
            "value": " 896M/896M [00:08&lt;00:00, 134MB/s]"
          }
        },
        "bfa2641e93cb46b2baaeb2d73ee2f85f": {
          "model_module": "@jupyter-widgets/base",
          "model_name": "LayoutModel",
          "model_module_version": "1.2.0",
          "state": {
            "_model_module": "@jupyter-widgets/base",
            "_model_module_version": "1.2.0",
            "_model_name": "LayoutModel",
            "_view_count": null,
            "_view_module": "@jupyter-widgets/base",
            "_view_module_version": "1.2.0",
            "_view_name": "LayoutView",
            "align_content": null,
            "align_items": null,
            "align_self": null,
            "border": null,
            "bottom": null,
            "display": null,
            "flex": null,
            "flex_flow": null,
            "grid_area": null,
            "grid_auto_columns": null,
            "grid_auto_flow": null,
            "grid_auto_rows": null,
            "grid_column": null,
            "grid_gap": null,
            "grid_row": null,
            "grid_template_areas": null,
            "grid_template_columns": null,
            "grid_template_rows": null,
            "height": null,
            "justify_content": null,
            "justify_items": null,
            "left": null,
            "margin": null,
            "max_height": null,
            "max_width": null,
            "min_height": null,
            "min_width": null,
            "object_fit": null,
            "object_position": null,
            "order": null,
            "overflow": null,
            "overflow_x": null,
            "overflow_y": null,
            "padding": null,
            "right": null,
            "top": null,
            "visibility": null,
            "width": null
          }
        },
        "c9d514eaae924d04ae1f72e14b528cfa": {
          "model_module": "@jupyter-widgets/base",
          "model_name": "LayoutModel",
          "model_module_version": "1.2.0",
          "state": {
            "_model_module": "@jupyter-widgets/base",
            "_model_module_version": "1.2.0",
            "_model_name": "LayoutModel",
            "_view_count": null,
            "_view_module": "@jupyter-widgets/base",
            "_view_module_version": "1.2.0",
            "_view_name": "LayoutView",
            "align_content": null,
            "align_items": null,
            "align_self": null,
            "border": null,
            "bottom": null,
            "display": null,
            "flex": null,
            "flex_flow": null,
            "grid_area": null,
            "grid_auto_columns": null,
            "grid_auto_flow": null,
            "grid_auto_rows": null,
            "grid_column": null,
            "grid_gap": null,
            "grid_row": null,
            "grid_template_areas": null,
            "grid_template_columns": null,
            "grid_template_rows": null,
            "height": null,
            "justify_content": null,
            "justify_items": null,
            "left": null,
            "margin": null,
            "max_height": null,
            "max_width": null,
            "min_height": null,
            "min_width": null,
            "object_fit": null,
            "object_position": null,
            "order": null,
            "overflow": null,
            "overflow_x": null,
            "overflow_y": null,
            "padding": null,
            "right": null,
            "top": null,
            "visibility": null,
            "width": null
          }
        },
        "bcb82cb10d074090948c43a611024438": {
          "model_module": "@jupyter-widgets/controls",
          "model_name": "DescriptionStyleModel",
          "model_module_version": "1.5.0",
          "state": {
            "_model_module": "@jupyter-widgets/controls",
            "_model_module_version": "1.5.0",
            "_model_name": "DescriptionStyleModel",
            "_view_count": null,
            "_view_module": "@jupyter-widgets/base",
            "_view_module_version": "1.2.0",
            "_view_name": "StyleView",
            "description_width": ""
          }
        },
        "58cea5113f2e4dfc8d37d3a9f159e1e3": {
          "model_module": "@jupyter-widgets/base",
          "model_name": "LayoutModel",
          "model_module_version": "1.2.0",
          "state": {
            "_model_module": "@jupyter-widgets/base",
            "_model_module_version": "1.2.0",
            "_model_name": "LayoutModel",
            "_view_count": null,
            "_view_module": "@jupyter-widgets/base",
            "_view_module_version": "1.2.0",
            "_view_name": "LayoutView",
            "align_content": null,
            "align_items": null,
            "align_self": null,
            "border": null,
            "bottom": null,
            "display": null,
            "flex": null,
            "flex_flow": null,
            "grid_area": null,
            "grid_auto_columns": null,
            "grid_auto_flow": null,
            "grid_auto_rows": null,
            "grid_column": null,
            "grid_gap": null,
            "grid_row": null,
            "grid_template_areas": null,
            "grid_template_columns": null,
            "grid_template_rows": null,
            "height": null,
            "justify_content": null,
            "justify_items": null,
            "left": null,
            "margin": null,
            "max_height": null,
            "max_width": null,
            "min_height": null,
            "min_width": null,
            "object_fit": null,
            "object_position": null,
            "order": null,
            "overflow": null,
            "overflow_x": null,
            "overflow_y": null,
            "padding": null,
            "right": null,
            "top": null,
            "visibility": null,
            "width": null
          }
        },
        "e2637366ac32440ebcef1a9f5a2c7c80": {
          "model_module": "@jupyter-widgets/controls",
          "model_name": "ProgressStyleModel",
          "model_module_version": "1.5.0",
          "state": {
            "_model_module": "@jupyter-widgets/controls",
            "_model_module_version": "1.5.0",
            "_model_name": "ProgressStyleModel",
            "_view_count": null,
            "_view_module": "@jupyter-widgets/base",
            "_view_module_version": "1.2.0",
            "_view_name": "StyleView",
            "bar_color": null,
            "description_width": ""
          }
        },
        "1876ac1247ef401b9fceca067fc7811a": {
          "model_module": "@jupyter-widgets/base",
          "model_name": "LayoutModel",
          "model_module_version": "1.2.0",
          "state": {
            "_model_module": "@jupyter-widgets/base",
            "_model_module_version": "1.2.0",
            "_model_name": "LayoutModel",
            "_view_count": null,
            "_view_module": "@jupyter-widgets/base",
            "_view_module_version": "1.2.0",
            "_view_name": "LayoutView",
            "align_content": null,
            "align_items": null,
            "align_self": null,
            "border": null,
            "bottom": null,
            "display": null,
            "flex": null,
            "flex_flow": null,
            "grid_area": null,
            "grid_auto_columns": null,
            "grid_auto_flow": null,
            "grid_auto_rows": null,
            "grid_column": null,
            "grid_gap": null,
            "grid_row": null,
            "grid_template_areas": null,
            "grid_template_columns": null,
            "grid_template_rows": null,
            "height": null,
            "justify_content": null,
            "justify_items": null,
            "left": null,
            "margin": null,
            "max_height": null,
            "max_width": null,
            "min_height": null,
            "min_width": null,
            "object_fit": null,
            "object_position": null,
            "order": null,
            "overflow": null,
            "overflow_x": null,
            "overflow_y": null,
            "padding": null,
            "right": null,
            "top": null,
            "visibility": null,
            "width": null
          }
        },
        "fa1cceab54044cc0ace4d89476c8b350": {
          "model_module": "@jupyter-widgets/controls",
          "model_name": "DescriptionStyleModel",
          "model_module_version": "1.5.0",
          "state": {
            "_model_module": "@jupyter-widgets/controls",
            "_model_module_version": "1.5.0",
            "_model_name": "DescriptionStyleModel",
            "_view_count": null,
            "_view_module": "@jupyter-widgets/base",
            "_view_module_version": "1.2.0",
            "_view_name": "StyleView",
            "description_width": ""
          }
        },
        "e7a20af025c4422a8aefe1dde63a6a10": {
          "model_module": "@jupyter-widgets/controls",
          "model_name": "HBoxModel",
          "model_module_version": "1.5.0",
          "state": {
            "_dom_classes": [],
            "_model_module": "@jupyter-widgets/controls",
            "_model_module_version": "1.5.0",
            "_model_name": "HBoxModel",
            "_view_count": null,
            "_view_module": "@jupyter-widgets/controls",
            "_view_module_version": "1.5.0",
            "_view_name": "HBoxView",
            "box_style": "",
            "children": [
              "IPY_MODEL_9b0fe50eace34a60b1dbb768b36d49a2",
              "IPY_MODEL_67dd0bd5cd424043b5d6f4e774e4324f",
              "IPY_MODEL_1b7a606ff9da4c72ad17bdd666916e9e"
            ],
            "layout": "IPY_MODEL_3f5849194f144f10a18343c2d418d375"
          }
        },
        "9b0fe50eace34a60b1dbb768b36d49a2": {
          "model_module": "@jupyter-widgets/controls",
          "model_name": "HTMLModel",
          "model_module_version": "1.5.0",
          "state": {
            "_dom_classes": [],
            "_model_module": "@jupyter-widgets/controls",
            "_model_module_version": "1.5.0",
            "_model_name": "HTMLModel",
            "_view_count": null,
            "_view_module": "@jupyter-widgets/controls",
            "_view_module_version": "1.5.0",
            "_view_name": "HTMLView",
            "description": "",
            "description_tooltip": null,
            "layout": "IPY_MODEL_f3922a219d7d47deb5c6455a1af973be",
            "placeholder": "​",
            "style": "IPY_MODEL_22173fac2b404a6cb5470e03ac5aaf07",
            "value": "model-00020-of-00028.safetensors: 100%"
          }
        },
        "67dd0bd5cd424043b5d6f4e774e4324f": {
          "model_module": "@jupyter-widgets/controls",
          "model_name": "FloatProgressModel",
          "model_module_version": "1.5.0",
          "state": {
            "_dom_classes": [],
            "_model_module": "@jupyter-widgets/controls",
            "_model_module_version": "1.5.0",
            "_model_name": "FloatProgressModel",
            "_view_count": null,
            "_view_module": "@jupyter-widgets/controls",
            "_view_module_version": "1.5.0",
            "_view_name": "ProgressView",
            "bar_style": "success",
            "description": "",
            "description_tooltip": null,
            "layout": "IPY_MODEL_f046d92ff30c4930ad5cd7e8feb5ddf1",
            "max": 1004754140,
            "min": 0,
            "orientation": "horizontal",
            "style": "IPY_MODEL_3f5b908ff79342e88bce6c06003d16a4",
            "value": 1004754140
          }
        },
        "1b7a606ff9da4c72ad17bdd666916e9e": {
          "model_module": "@jupyter-widgets/controls",
          "model_name": "HTMLModel",
          "model_module_version": "1.5.0",
          "state": {
            "_dom_classes": [],
            "_model_module": "@jupyter-widgets/controls",
            "_model_module_version": "1.5.0",
            "_model_name": "HTMLModel",
            "_view_count": null,
            "_view_module": "@jupyter-widgets/controls",
            "_view_module_version": "1.5.0",
            "_view_name": "HTMLView",
            "description": "",
            "description_tooltip": null,
            "layout": "IPY_MODEL_8b5ba2104e6140eda5727e5264d4f8eb",
            "placeholder": "​",
            "style": "IPY_MODEL_c6e89ebe3cb44e95ab99d5c282502e1f",
            "value": " 1.00G/1.00G [00:10&lt;00:00, 143MB/s]"
          }
        },
        "3f5849194f144f10a18343c2d418d375": {
          "model_module": "@jupyter-widgets/base",
          "model_name": "LayoutModel",
          "model_module_version": "1.2.0",
          "state": {
            "_model_module": "@jupyter-widgets/base",
            "_model_module_version": "1.2.0",
            "_model_name": "LayoutModel",
            "_view_count": null,
            "_view_module": "@jupyter-widgets/base",
            "_view_module_version": "1.2.0",
            "_view_name": "LayoutView",
            "align_content": null,
            "align_items": null,
            "align_self": null,
            "border": null,
            "bottom": null,
            "display": null,
            "flex": null,
            "flex_flow": null,
            "grid_area": null,
            "grid_auto_columns": null,
            "grid_auto_flow": null,
            "grid_auto_rows": null,
            "grid_column": null,
            "grid_gap": null,
            "grid_row": null,
            "grid_template_areas": null,
            "grid_template_columns": null,
            "grid_template_rows": null,
            "height": null,
            "justify_content": null,
            "justify_items": null,
            "left": null,
            "margin": null,
            "max_height": null,
            "max_width": null,
            "min_height": null,
            "min_width": null,
            "object_fit": null,
            "object_position": null,
            "order": null,
            "overflow": null,
            "overflow_x": null,
            "overflow_y": null,
            "padding": null,
            "right": null,
            "top": null,
            "visibility": null,
            "width": null
          }
        },
        "f3922a219d7d47deb5c6455a1af973be": {
          "model_module": "@jupyter-widgets/base",
          "model_name": "LayoutModel",
          "model_module_version": "1.2.0",
          "state": {
            "_model_module": "@jupyter-widgets/base",
            "_model_module_version": "1.2.0",
            "_model_name": "LayoutModel",
            "_view_count": null,
            "_view_module": "@jupyter-widgets/base",
            "_view_module_version": "1.2.0",
            "_view_name": "LayoutView",
            "align_content": null,
            "align_items": null,
            "align_self": null,
            "border": null,
            "bottom": null,
            "display": null,
            "flex": null,
            "flex_flow": null,
            "grid_area": null,
            "grid_auto_columns": null,
            "grid_auto_flow": null,
            "grid_auto_rows": null,
            "grid_column": null,
            "grid_gap": null,
            "grid_row": null,
            "grid_template_areas": null,
            "grid_template_columns": null,
            "grid_template_rows": null,
            "height": null,
            "justify_content": null,
            "justify_items": null,
            "left": null,
            "margin": null,
            "max_height": null,
            "max_width": null,
            "min_height": null,
            "min_width": null,
            "object_fit": null,
            "object_position": null,
            "order": null,
            "overflow": null,
            "overflow_x": null,
            "overflow_y": null,
            "padding": null,
            "right": null,
            "top": null,
            "visibility": null,
            "width": null
          }
        },
        "22173fac2b404a6cb5470e03ac5aaf07": {
          "model_module": "@jupyter-widgets/controls",
          "model_name": "DescriptionStyleModel",
          "model_module_version": "1.5.0",
          "state": {
            "_model_module": "@jupyter-widgets/controls",
            "_model_module_version": "1.5.0",
            "_model_name": "DescriptionStyleModel",
            "_view_count": null,
            "_view_module": "@jupyter-widgets/base",
            "_view_module_version": "1.2.0",
            "_view_name": "StyleView",
            "description_width": ""
          }
        },
        "f046d92ff30c4930ad5cd7e8feb5ddf1": {
          "model_module": "@jupyter-widgets/base",
          "model_name": "LayoutModel",
          "model_module_version": "1.2.0",
          "state": {
            "_model_module": "@jupyter-widgets/base",
            "_model_module_version": "1.2.0",
            "_model_name": "LayoutModel",
            "_view_count": null,
            "_view_module": "@jupyter-widgets/base",
            "_view_module_version": "1.2.0",
            "_view_name": "LayoutView",
            "align_content": null,
            "align_items": null,
            "align_self": null,
            "border": null,
            "bottom": null,
            "display": null,
            "flex": null,
            "flex_flow": null,
            "grid_area": null,
            "grid_auto_columns": null,
            "grid_auto_flow": null,
            "grid_auto_rows": null,
            "grid_column": null,
            "grid_gap": null,
            "grid_row": null,
            "grid_template_areas": null,
            "grid_template_columns": null,
            "grid_template_rows": null,
            "height": null,
            "justify_content": null,
            "justify_items": null,
            "left": null,
            "margin": null,
            "max_height": null,
            "max_width": null,
            "min_height": null,
            "min_width": null,
            "object_fit": null,
            "object_position": null,
            "order": null,
            "overflow": null,
            "overflow_x": null,
            "overflow_y": null,
            "padding": null,
            "right": null,
            "top": null,
            "visibility": null,
            "width": null
          }
        },
        "3f5b908ff79342e88bce6c06003d16a4": {
          "model_module": "@jupyter-widgets/controls",
          "model_name": "ProgressStyleModel",
          "model_module_version": "1.5.0",
          "state": {
            "_model_module": "@jupyter-widgets/controls",
            "_model_module_version": "1.5.0",
            "_model_name": "ProgressStyleModel",
            "_view_count": null,
            "_view_module": "@jupyter-widgets/base",
            "_view_module_version": "1.2.0",
            "_view_name": "StyleView",
            "bar_color": null,
            "description_width": ""
          }
        },
        "8b5ba2104e6140eda5727e5264d4f8eb": {
          "model_module": "@jupyter-widgets/base",
          "model_name": "LayoutModel",
          "model_module_version": "1.2.0",
          "state": {
            "_model_module": "@jupyter-widgets/base",
            "_model_module_version": "1.2.0",
            "_model_name": "LayoutModel",
            "_view_count": null,
            "_view_module": "@jupyter-widgets/base",
            "_view_module_version": "1.2.0",
            "_view_name": "LayoutView",
            "align_content": null,
            "align_items": null,
            "align_self": null,
            "border": null,
            "bottom": null,
            "display": null,
            "flex": null,
            "flex_flow": null,
            "grid_area": null,
            "grid_auto_columns": null,
            "grid_auto_flow": null,
            "grid_auto_rows": null,
            "grid_column": null,
            "grid_gap": null,
            "grid_row": null,
            "grid_template_areas": null,
            "grid_template_columns": null,
            "grid_template_rows": null,
            "height": null,
            "justify_content": null,
            "justify_items": null,
            "left": null,
            "margin": null,
            "max_height": null,
            "max_width": null,
            "min_height": null,
            "min_width": null,
            "object_fit": null,
            "object_position": null,
            "order": null,
            "overflow": null,
            "overflow_x": null,
            "overflow_y": null,
            "padding": null,
            "right": null,
            "top": null,
            "visibility": null,
            "width": null
          }
        },
        "c6e89ebe3cb44e95ab99d5c282502e1f": {
          "model_module": "@jupyter-widgets/controls",
          "model_name": "DescriptionStyleModel",
          "model_module_version": "1.5.0",
          "state": {
            "_model_module": "@jupyter-widgets/controls",
            "_model_module_version": "1.5.0",
            "_model_name": "DescriptionStyleModel",
            "_view_count": null,
            "_view_module": "@jupyter-widgets/base",
            "_view_module_version": "1.2.0",
            "_view_name": "StyleView",
            "description_width": ""
          }
        },
        "6f112c7496124cf2ab960c8cbc4b2b47": {
          "model_module": "@jupyter-widgets/controls",
          "model_name": "HBoxModel",
          "model_module_version": "1.5.0",
          "state": {
            "_dom_classes": [],
            "_model_module": "@jupyter-widgets/controls",
            "_model_module_version": "1.5.0",
            "_model_name": "HBoxModel",
            "_view_count": null,
            "_view_module": "@jupyter-widgets/controls",
            "_view_module_version": "1.5.0",
            "_view_name": "HBoxView",
            "box_style": "",
            "children": [
              "IPY_MODEL_e14ee74981a241f7bd2bb75dfb5afac5",
              "IPY_MODEL_585d48b57ecb4f35a30251bf97e6899b",
              "IPY_MODEL_38aa90817cf841f592ef7ad7a9d83406"
            ],
            "layout": "IPY_MODEL_4496e70ef27e4656b04c6e2942d29f90"
          }
        },
        "e14ee74981a241f7bd2bb75dfb5afac5": {
          "model_module": "@jupyter-widgets/controls",
          "model_name": "HTMLModel",
          "model_module_version": "1.5.0",
          "state": {
            "_dom_classes": [],
            "_model_module": "@jupyter-widgets/controls",
            "_model_module_version": "1.5.0",
            "_model_name": "HTMLModel",
            "_view_count": null,
            "_view_module": "@jupyter-widgets/controls",
            "_view_module_version": "1.5.0",
            "_view_name": "HTMLView",
            "description": "",
            "description_tooltip": null,
            "layout": "IPY_MODEL_89ab0f5d97ac49dd8e55370569e345ae",
            "placeholder": "​",
            "style": "IPY_MODEL_d8645ee0f6bd48939678482df704966a",
            "value": "model-00021-of-00028.safetensors: 100%"
          }
        },
        "585d48b57ecb4f35a30251bf97e6899b": {
          "model_module": "@jupyter-widgets/controls",
          "model_name": "FloatProgressModel",
          "model_module_version": "1.5.0",
          "state": {
            "_dom_classes": [],
            "_model_module": "@jupyter-widgets/controls",
            "_model_module_version": "1.5.0",
            "_model_name": "FloatProgressModel",
            "_view_count": null,
            "_view_module": "@jupyter-widgets/controls",
            "_view_module_version": "1.5.0",
            "_view_name": "ProgressView",
            "bar_style": "success",
            "description": "",
            "description_tooltip": null,
            "layout": "IPY_MODEL_85ade402e8cc4b9a84a3d2f898f6fe6d",
            "max": 895670570,
            "min": 0,
            "orientation": "horizontal",
            "style": "IPY_MODEL_41c9bb52ccc64f88917e5b52befadf07",
            "value": 895670570
          }
        },
        "38aa90817cf841f592ef7ad7a9d83406": {
          "model_module": "@jupyter-widgets/controls",
          "model_name": "HTMLModel",
          "model_module_version": "1.5.0",
          "state": {
            "_dom_classes": [],
            "_model_module": "@jupyter-widgets/controls",
            "_model_module_version": "1.5.0",
            "_model_name": "HTMLModel",
            "_view_count": null,
            "_view_module": "@jupyter-widgets/controls",
            "_view_module_version": "1.5.0",
            "_view_name": "HTMLView",
            "description": "",
            "description_tooltip": null,
            "layout": "IPY_MODEL_d6b29030484f429aaa2b04140fbc37c0",
            "placeholder": "​",
            "style": "IPY_MODEL_b2c84aa9a4ee4002ba59ebcd28740017",
            "value": " 896M/896M [00:06&lt;00:00, 169MB/s]"
          }
        },
        "4496e70ef27e4656b04c6e2942d29f90": {
          "model_module": "@jupyter-widgets/base",
          "model_name": "LayoutModel",
          "model_module_version": "1.2.0",
          "state": {
            "_model_module": "@jupyter-widgets/base",
            "_model_module_version": "1.2.0",
            "_model_name": "LayoutModel",
            "_view_count": null,
            "_view_module": "@jupyter-widgets/base",
            "_view_module_version": "1.2.0",
            "_view_name": "LayoutView",
            "align_content": null,
            "align_items": null,
            "align_self": null,
            "border": null,
            "bottom": null,
            "display": null,
            "flex": null,
            "flex_flow": null,
            "grid_area": null,
            "grid_auto_columns": null,
            "grid_auto_flow": null,
            "grid_auto_rows": null,
            "grid_column": null,
            "grid_gap": null,
            "grid_row": null,
            "grid_template_areas": null,
            "grid_template_columns": null,
            "grid_template_rows": null,
            "height": null,
            "justify_content": null,
            "justify_items": null,
            "left": null,
            "margin": null,
            "max_height": null,
            "max_width": null,
            "min_height": null,
            "min_width": null,
            "object_fit": null,
            "object_position": null,
            "order": null,
            "overflow": null,
            "overflow_x": null,
            "overflow_y": null,
            "padding": null,
            "right": null,
            "top": null,
            "visibility": null,
            "width": null
          }
        },
        "89ab0f5d97ac49dd8e55370569e345ae": {
          "model_module": "@jupyter-widgets/base",
          "model_name": "LayoutModel",
          "model_module_version": "1.2.0",
          "state": {
            "_model_module": "@jupyter-widgets/base",
            "_model_module_version": "1.2.0",
            "_model_name": "LayoutModel",
            "_view_count": null,
            "_view_module": "@jupyter-widgets/base",
            "_view_module_version": "1.2.0",
            "_view_name": "LayoutView",
            "align_content": null,
            "align_items": null,
            "align_self": null,
            "border": null,
            "bottom": null,
            "display": null,
            "flex": null,
            "flex_flow": null,
            "grid_area": null,
            "grid_auto_columns": null,
            "grid_auto_flow": null,
            "grid_auto_rows": null,
            "grid_column": null,
            "grid_gap": null,
            "grid_row": null,
            "grid_template_areas": null,
            "grid_template_columns": null,
            "grid_template_rows": null,
            "height": null,
            "justify_content": null,
            "justify_items": null,
            "left": null,
            "margin": null,
            "max_height": null,
            "max_width": null,
            "min_height": null,
            "min_width": null,
            "object_fit": null,
            "object_position": null,
            "order": null,
            "overflow": null,
            "overflow_x": null,
            "overflow_y": null,
            "padding": null,
            "right": null,
            "top": null,
            "visibility": null,
            "width": null
          }
        },
        "d8645ee0f6bd48939678482df704966a": {
          "model_module": "@jupyter-widgets/controls",
          "model_name": "DescriptionStyleModel",
          "model_module_version": "1.5.0",
          "state": {
            "_model_module": "@jupyter-widgets/controls",
            "_model_module_version": "1.5.0",
            "_model_name": "DescriptionStyleModel",
            "_view_count": null,
            "_view_module": "@jupyter-widgets/base",
            "_view_module_version": "1.2.0",
            "_view_name": "StyleView",
            "description_width": ""
          }
        },
        "85ade402e8cc4b9a84a3d2f898f6fe6d": {
          "model_module": "@jupyter-widgets/base",
          "model_name": "LayoutModel",
          "model_module_version": "1.2.0",
          "state": {
            "_model_module": "@jupyter-widgets/base",
            "_model_module_version": "1.2.0",
            "_model_name": "LayoutModel",
            "_view_count": null,
            "_view_module": "@jupyter-widgets/base",
            "_view_module_version": "1.2.0",
            "_view_name": "LayoutView",
            "align_content": null,
            "align_items": null,
            "align_self": null,
            "border": null,
            "bottom": null,
            "display": null,
            "flex": null,
            "flex_flow": null,
            "grid_area": null,
            "grid_auto_columns": null,
            "grid_auto_flow": null,
            "grid_auto_rows": null,
            "grid_column": null,
            "grid_gap": null,
            "grid_row": null,
            "grid_template_areas": null,
            "grid_template_columns": null,
            "grid_template_rows": null,
            "height": null,
            "justify_content": null,
            "justify_items": null,
            "left": null,
            "margin": null,
            "max_height": null,
            "max_width": null,
            "min_height": null,
            "min_width": null,
            "object_fit": null,
            "object_position": null,
            "order": null,
            "overflow": null,
            "overflow_x": null,
            "overflow_y": null,
            "padding": null,
            "right": null,
            "top": null,
            "visibility": null,
            "width": null
          }
        },
        "41c9bb52ccc64f88917e5b52befadf07": {
          "model_module": "@jupyter-widgets/controls",
          "model_name": "ProgressStyleModel",
          "model_module_version": "1.5.0",
          "state": {
            "_model_module": "@jupyter-widgets/controls",
            "_model_module_version": "1.5.0",
            "_model_name": "ProgressStyleModel",
            "_view_count": null,
            "_view_module": "@jupyter-widgets/base",
            "_view_module_version": "1.2.0",
            "_view_name": "StyleView",
            "bar_color": null,
            "description_width": ""
          }
        },
        "d6b29030484f429aaa2b04140fbc37c0": {
          "model_module": "@jupyter-widgets/base",
          "model_name": "LayoutModel",
          "model_module_version": "1.2.0",
          "state": {
            "_model_module": "@jupyter-widgets/base",
            "_model_module_version": "1.2.0",
            "_model_name": "LayoutModel",
            "_view_count": null,
            "_view_module": "@jupyter-widgets/base",
            "_view_module_version": "1.2.0",
            "_view_name": "LayoutView",
            "align_content": null,
            "align_items": null,
            "align_self": null,
            "border": null,
            "bottom": null,
            "display": null,
            "flex": null,
            "flex_flow": null,
            "grid_area": null,
            "grid_auto_columns": null,
            "grid_auto_flow": null,
            "grid_auto_rows": null,
            "grid_column": null,
            "grid_gap": null,
            "grid_row": null,
            "grid_template_areas": null,
            "grid_template_columns": null,
            "grid_template_rows": null,
            "height": null,
            "justify_content": null,
            "justify_items": null,
            "left": null,
            "margin": null,
            "max_height": null,
            "max_width": null,
            "min_height": null,
            "min_width": null,
            "object_fit": null,
            "object_position": null,
            "order": null,
            "overflow": null,
            "overflow_x": null,
            "overflow_y": null,
            "padding": null,
            "right": null,
            "top": null,
            "visibility": null,
            "width": null
          }
        },
        "b2c84aa9a4ee4002ba59ebcd28740017": {
          "model_module": "@jupyter-widgets/controls",
          "model_name": "DescriptionStyleModel",
          "model_module_version": "1.5.0",
          "state": {
            "_model_module": "@jupyter-widgets/controls",
            "_model_module_version": "1.5.0",
            "_model_name": "DescriptionStyleModel",
            "_view_count": null,
            "_view_module": "@jupyter-widgets/base",
            "_view_module_version": "1.2.0",
            "_view_name": "StyleView",
            "description_width": ""
          }
        },
        "9d1ad2d22da247678701110719e43eff": {
          "model_module": "@jupyter-widgets/controls",
          "model_name": "HBoxModel",
          "model_module_version": "1.5.0",
          "state": {
            "_dom_classes": [],
            "_model_module": "@jupyter-widgets/controls",
            "_model_module_version": "1.5.0",
            "_model_name": "HBoxModel",
            "_view_count": null,
            "_view_module": "@jupyter-widgets/controls",
            "_view_module_version": "1.5.0",
            "_view_name": "HBoxView",
            "box_style": "",
            "children": [
              "IPY_MODEL_d67d2d68f5094c73b306d387443cc13a",
              "IPY_MODEL_dcb82bef680a4ede970c020bca186458",
              "IPY_MODEL_d1f538b1723f449ca5f6203d65d562d3"
            ],
            "layout": "IPY_MODEL_3ca759d74ffd464e95fd1e49a020e913"
          }
        },
        "d67d2d68f5094c73b306d387443cc13a": {
          "model_module": "@jupyter-widgets/controls",
          "model_name": "HTMLModel",
          "model_module_version": "1.5.0",
          "state": {
            "_dom_classes": [],
            "_model_module": "@jupyter-widgets/controls",
            "_model_module_version": "1.5.0",
            "_model_name": "HTMLModel",
            "_view_count": null,
            "_view_module": "@jupyter-widgets/controls",
            "_view_module_version": "1.5.0",
            "_view_name": "HTMLView",
            "description": "",
            "description_tooltip": null,
            "layout": "IPY_MODEL_93f5d8ff08bf4a36921dd6e5a95620ef",
            "placeholder": "​",
            "style": "IPY_MODEL_e7821716b1ed4e07b60c93aefef07b54",
            "value": "model-00022-of-00028.safetensors: 100%"
          }
        },
        "dcb82bef680a4ede970c020bca186458": {
          "model_module": "@jupyter-widgets/controls",
          "model_name": "FloatProgressModel",
          "model_module_version": "1.5.0",
          "state": {
            "_dom_classes": [],
            "_model_module": "@jupyter-widgets/controls",
            "_model_module_version": "1.5.0",
            "_model_name": "FloatProgressModel",
            "_view_count": null,
            "_view_module": "@jupyter-widgets/controls",
            "_view_module_version": "1.5.0",
            "_view_name": "ProgressView",
            "bar_style": "success",
            "description": "",
            "description_tooltip": null,
            "layout": "IPY_MODEL_b128d26cc60c496f8ccb10e0fbd439a5",
            "max": 1004754140,
            "min": 0,
            "orientation": "horizontal",
            "style": "IPY_MODEL_2446a19ac4e040d4a877354ac835c170",
            "value": 1004754140
          }
        },
        "d1f538b1723f449ca5f6203d65d562d3": {
          "model_module": "@jupyter-widgets/controls",
          "model_name": "HTMLModel",
          "model_module_version": "1.5.0",
          "state": {
            "_dom_classes": [],
            "_model_module": "@jupyter-widgets/controls",
            "_model_module_version": "1.5.0",
            "_model_name": "HTMLModel",
            "_view_count": null,
            "_view_module": "@jupyter-widgets/controls",
            "_view_module_version": "1.5.0",
            "_view_name": "HTMLView",
            "description": "",
            "description_tooltip": null,
            "layout": "IPY_MODEL_4b06fafd7e9e4400a30ea9e9076c4fb5",
            "placeholder": "​",
            "style": "IPY_MODEL_367d9875015c4d90a7ced906047ea674",
            "value": " 1.00G/1.00G [00:10&lt;00:00, 73.4MB/s]"
          }
        },
        "3ca759d74ffd464e95fd1e49a020e913": {
          "model_module": "@jupyter-widgets/base",
          "model_name": "LayoutModel",
          "model_module_version": "1.2.0",
          "state": {
            "_model_module": "@jupyter-widgets/base",
            "_model_module_version": "1.2.0",
            "_model_name": "LayoutModel",
            "_view_count": null,
            "_view_module": "@jupyter-widgets/base",
            "_view_module_version": "1.2.0",
            "_view_name": "LayoutView",
            "align_content": null,
            "align_items": null,
            "align_self": null,
            "border": null,
            "bottom": null,
            "display": null,
            "flex": null,
            "flex_flow": null,
            "grid_area": null,
            "grid_auto_columns": null,
            "grid_auto_flow": null,
            "grid_auto_rows": null,
            "grid_column": null,
            "grid_gap": null,
            "grid_row": null,
            "grid_template_areas": null,
            "grid_template_columns": null,
            "grid_template_rows": null,
            "height": null,
            "justify_content": null,
            "justify_items": null,
            "left": null,
            "margin": null,
            "max_height": null,
            "max_width": null,
            "min_height": null,
            "min_width": null,
            "object_fit": null,
            "object_position": null,
            "order": null,
            "overflow": null,
            "overflow_x": null,
            "overflow_y": null,
            "padding": null,
            "right": null,
            "top": null,
            "visibility": null,
            "width": null
          }
        },
        "93f5d8ff08bf4a36921dd6e5a95620ef": {
          "model_module": "@jupyter-widgets/base",
          "model_name": "LayoutModel",
          "model_module_version": "1.2.0",
          "state": {
            "_model_module": "@jupyter-widgets/base",
            "_model_module_version": "1.2.0",
            "_model_name": "LayoutModel",
            "_view_count": null,
            "_view_module": "@jupyter-widgets/base",
            "_view_module_version": "1.2.0",
            "_view_name": "LayoutView",
            "align_content": null,
            "align_items": null,
            "align_self": null,
            "border": null,
            "bottom": null,
            "display": null,
            "flex": null,
            "flex_flow": null,
            "grid_area": null,
            "grid_auto_columns": null,
            "grid_auto_flow": null,
            "grid_auto_rows": null,
            "grid_column": null,
            "grid_gap": null,
            "grid_row": null,
            "grid_template_areas": null,
            "grid_template_columns": null,
            "grid_template_rows": null,
            "height": null,
            "justify_content": null,
            "justify_items": null,
            "left": null,
            "margin": null,
            "max_height": null,
            "max_width": null,
            "min_height": null,
            "min_width": null,
            "object_fit": null,
            "object_position": null,
            "order": null,
            "overflow": null,
            "overflow_x": null,
            "overflow_y": null,
            "padding": null,
            "right": null,
            "top": null,
            "visibility": null,
            "width": null
          }
        },
        "e7821716b1ed4e07b60c93aefef07b54": {
          "model_module": "@jupyter-widgets/controls",
          "model_name": "DescriptionStyleModel",
          "model_module_version": "1.5.0",
          "state": {
            "_model_module": "@jupyter-widgets/controls",
            "_model_module_version": "1.5.0",
            "_model_name": "DescriptionStyleModel",
            "_view_count": null,
            "_view_module": "@jupyter-widgets/base",
            "_view_module_version": "1.2.0",
            "_view_name": "StyleView",
            "description_width": ""
          }
        },
        "b128d26cc60c496f8ccb10e0fbd439a5": {
          "model_module": "@jupyter-widgets/base",
          "model_name": "LayoutModel",
          "model_module_version": "1.2.0",
          "state": {
            "_model_module": "@jupyter-widgets/base",
            "_model_module_version": "1.2.0",
            "_model_name": "LayoutModel",
            "_view_count": null,
            "_view_module": "@jupyter-widgets/base",
            "_view_module_version": "1.2.0",
            "_view_name": "LayoutView",
            "align_content": null,
            "align_items": null,
            "align_self": null,
            "border": null,
            "bottom": null,
            "display": null,
            "flex": null,
            "flex_flow": null,
            "grid_area": null,
            "grid_auto_columns": null,
            "grid_auto_flow": null,
            "grid_auto_rows": null,
            "grid_column": null,
            "grid_gap": null,
            "grid_row": null,
            "grid_template_areas": null,
            "grid_template_columns": null,
            "grid_template_rows": null,
            "height": null,
            "justify_content": null,
            "justify_items": null,
            "left": null,
            "margin": null,
            "max_height": null,
            "max_width": null,
            "min_height": null,
            "min_width": null,
            "object_fit": null,
            "object_position": null,
            "order": null,
            "overflow": null,
            "overflow_x": null,
            "overflow_y": null,
            "padding": null,
            "right": null,
            "top": null,
            "visibility": null,
            "width": null
          }
        },
        "2446a19ac4e040d4a877354ac835c170": {
          "model_module": "@jupyter-widgets/controls",
          "model_name": "ProgressStyleModel",
          "model_module_version": "1.5.0",
          "state": {
            "_model_module": "@jupyter-widgets/controls",
            "_model_module_version": "1.5.0",
            "_model_name": "ProgressStyleModel",
            "_view_count": null,
            "_view_module": "@jupyter-widgets/base",
            "_view_module_version": "1.2.0",
            "_view_name": "StyleView",
            "bar_color": null,
            "description_width": ""
          }
        },
        "4b06fafd7e9e4400a30ea9e9076c4fb5": {
          "model_module": "@jupyter-widgets/base",
          "model_name": "LayoutModel",
          "model_module_version": "1.2.0",
          "state": {
            "_model_module": "@jupyter-widgets/base",
            "_model_module_version": "1.2.0",
            "_model_name": "LayoutModel",
            "_view_count": null,
            "_view_module": "@jupyter-widgets/base",
            "_view_module_version": "1.2.0",
            "_view_name": "LayoutView",
            "align_content": null,
            "align_items": null,
            "align_self": null,
            "border": null,
            "bottom": null,
            "display": null,
            "flex": null,
            "flex_flow": null,
            "grid_area": null,
            "grid_auto_columns": null,
            "grid_auto_flow": null,
            "grid_auto_rows": null,
            "grid_column": null,
            "grid_gap": null,
            "grid_row": null,
            "grid_template_areas": null,
            "grid_template_columns": null,
            "grid_template_rows": null,
            "height": null,
            "justify_content": null,
            "justify_items": null,
            "left": null,
            "margin": null,
            "max_height": null,
            "max_width": null,
            "min_height": null,
            "min_width": null,
            "object_fit": null,
            "object_position": null,
            "order": null,
            "overflow": null,
            "overflow_x": null,
            "overflow_y": null,
            "padding": null,
            "right": null,
            "top": null,
            "visibility": null,
            "width": null
          }
        },
        "367d9875015c4d90a7ced906047ea674": {
          "model_module": "@jupyter-widgets/controls",
          "model_name": "DescriptionStyleModel",
          "model_module_version": "1.5.0",
          "state": {
            "_model_module": "@jupyter-widgets/controls",
            "_model_module_version": "1.5.0",
            "_model_name": "DescriptionStyleModel",
            "_view_count": null,
            "_view_module": "@jupyter-widgets/base",
            "_view_module_version": "1.2.0",
            "_view_name": "StyleView",
            "description_width": ""
          }
        },
        "c9b7c7bce4624f7d98371e683276a1f4": {
          "model_module": "@jupyter-widgets/controls",
          "model_name": "HBoxModel",
          "model_module_version": "1.5.0",
          "state": {
            "_dom_classes": [],
            "_model_module": "@jupyter-widgets/controls",
            "_model_module_version": "1.5.0",
            "_model_name": "HBoxModel",
            "_view_count": null,
            "_view_module": "@jupyter-widgets/controls",
            "_view_module_version": "1.5.0",
            "_view_name": "HBoxView",
            "box_style": "",
            "children": [
              "IPY_MODEL_f2da30c9af914d1ea9b695036b922d1d",
              "IPY_MODEL_69245f89ef8a4048b2a8be16e2dd0098",
              "IPY_MODEL_60e0e4ede8304739a17478e6519cac1b"
            ],
            "layout": "IPY_MODEL_f51d1e262f704778b64bda32a200efd1"
          }
        },
        "f2da30c9af914d1ea9b695036b922d1d": {
          "model_module": "@jupyter-widgets/controls",
          "model_name": "HTMLModel",
          "model_module_version": "1.5.0",
          "state": {
            "_dom_classes": [],
            "_model_module": "@jupyter-widgets/controls",
            "_model_module_version": "1.5.0",
            "_model_name": "HTMLModel",
            "_view_count": null,
            "_view_module": "@jupyter-widgets/controls",
            "_view_module_version": "1.5.0",
            "_view_name": "HTMLView",
            "description": "",
            "description_tooltip": null,
            "layout": "IPY_MODEL_286b897d636a462aab93a791a7dff69a",
            "placeholder": "​",
            "style": "IPY_MODEL_be7dc34a6d8142d2b98a2fd2e7a0ee5d",
            "value": "model-00023-of-00028.safetensors: 100%"
          }
        },
        "69245f89ef8a4048b2a8be16e2dd0098": {
          "model_module": "@jupyter-widgets/controls",
          "model_name": "FloatProgressModel",
          "model_module_version": "1.5.0",
          "state": {
            "_dom_classes": [],
            "_model_module": "@jupyter-widgets/controls",
            "_model_module_version": "1.5.0",
            "_model_name": "FloatProgressModel",
            "_view_count": null,
            "_view_module": "@jupyter-widgets/controls",
            "_view_module_version": "1.5.0",
            "_view_name": "ProgressView",
            "bar_style": "success",
            "description": "",
            "description_tooltip": null,
            "layout": "IPY_MODEL_1fa68f61b33a4b31a808ae7bf52df57b",
            "max": 895670570,
            "min": 0,
            "orientation": "horizontal",
            "style": "IPY_MODEL_3baa51b294d94495b24ac866fffe2813",
            "value": 895670570
          }
        },
        "60e0e4ede8304739a17478e6519cac1b": {
          "model_module": "@jupyter-widgets/controls",
          "model_name": "HTMLModel",
          "model_module_version": "1.5.0",
          "state": {
            "_dom_classes": [],
            "_model_module": "@jupyter-widgets/controls",
            "_model_module_version": "1.5.0",
            "_model_name": "HTMLModel",
            "_view_count": null,
            "_view_module": "@jupyter-widgets/controls",
            "_view_module_version": "1.5.0",
            "_view_name": "HTMLView",
            "description": "",
            "description_tooltip": null,
            "layout": "IPY_MODEL_62b547a76b2441c7b4d9155d46f2e5ed",
            "placeholder": "​",
            "style": "IPY_MODEL_071c276dd0a3447089554ece2b24653c",
            "value": " 896M/896M [00:09&lt;00:00, 49.1MB/s]"
          }
        },
        "f51d1e262f704778b64bda32a200efd1": {
          "model_module": "@jupyter-widgets/base",
          "model_name": "LayoutModel",
          "model_module_version": "1.2.0",
          "state": {
            "_model_module": "@jupyter-widgets/base",
            "_model_module_version": "1.2.0",
            "_model_name": "LayoutModel",
            "_view_count": null,
            "_view_module": "@jupyter-widgets/base",
            "_view_module_version": "1.2.0",
            "_view_name": "LayoutView",
            "align_content": null,
            "align_items": null,
            "align_self": null,
            "border": null,
            "bottom": null,
            "display": null,
            "flex": null,
            "flex_flow": null,
            "grid_area": null,
            "grid_auto_columns": null,
            "grid_auto_flow": null,
            "grid_auto_rows": null,
            "grid_column": null,
            "grid_gap": null,
            "grid_row": null,
            "grid_template_areas": null,
            "grid_template_columns": null,
            "grid_template_rows": null,
            "height": null,
            "justify_content": null,
            "justify_items": null,
            "left": null,
            "margin": null,
            "max_height": null,
            "max_width": null,
            "min_height": null,
            "min_width": null,
            "object_fit": null,
            "object_position": null,
            "order": null,
            "overflow": null,
            "overflow_x": null,
            "overflow_y": null,
            "padding": null,
            "right": null,
            "top": null,
            "visibility": null,
            "width": null
          }
        },
        "286b897d636a462aab93a791a7dff69a": {
          "model_module": "@jupyter-widgets/base",
          "model_name": "LayoutModel",
          "model_module_version": "1.2.0",
          "state": {
            "_model_module": "@jupyter-widgets/base",
            "_model_module_version": "1.2.0",
            "_model_name": "LayoutModel",
            "_view_count": null,
            "_view_module": "@jupyter-widgets/base",
            "_view_module_version": "1.2.0",
            "_view_name": "LayoutView",
            "align_content": null,
            "align_items": null,
            "align_self": null,
            "border": null,
            "bottom": null,
            "display": null,
            "flex": null,
            "flex_flow": null,
            "grid_area": null,
            "grid_auto_columns": null,
            "grid_auto_flow": null,
            "grid_auto_rows": null,
            "grid_column": null,
            "grid_gap": null,
            "grid_row": null,
            "grid_template_areas": null,
            "grid_template_columns": null,
            "grid_template_rows": null,
            "height": null,
            "justify_content": null,
            "justify_items": null,
            "left": null,
            "margin": null,
            "max_height": null,
            "max_width": null,
            "min_height": null,
            "min_width": null,
            "object_fit": null,
            "object_position": null,
            "order": null,
            "overflow": null,
            "overflow_x": null,
            "overflow_y": null,
            "padding": null,
            "right": null,
            "top": null,
            "visibility": null,
            "width": null
          }
        },
        "be7dc34a6d8142d2b98a2fd2e7a0ee5d": {
          "model_module": "@jupyter-widgets/controls",
          "model_name": "DescriptionStyleModel",
          "model_module_version": "1.5.0",
          "state": {
            "_model_module": "@jupyter-widgets/controls",
            "_model_module_version": "1.5.0",
            "_model_name": "DescriptionStyleModel",
            "_view_count": null,
            "_view_module": "@jupyter-widgets/base",
            "_view_module_version": "1.2.0",
            "_view_name": "StyleView",
            "description_width": ""
          }
        },
        "1fa68f61b33a4b31a808ae7bf52df57b": {
          "model_module": "@jupyter-widgets/base",
          "model_name": "LayoutModel",
          "model_module_version": "1.2.0",
          "state": {
            "_model_module": "@jupyter-widgets/base",
            "_model_module_version": "1.2.0",
            "_model_name": "LayoutModel",
            "_view_count": null,
            "_view_module": "@jupyter-widgets/base",
            "_view_module_version": "1.2.0",
            "_view_name": "LayoutView",
            "align_content": null,
            "align_items": null,
            "align_self": null,
            "border": null,
            "bottom": null,
            "display": null,
            "flex": null,
            "flex_flow": null,
            "grid_area": null,
            "grid_auto_columns": null,
            "grid_auto_flow": null,
            "grid_auto_rows": null,
            "grid_column": null,
            "grid_gap": null,
            "grid_row": null,
            "grid_template_areas": null,
            "grid_template_columns": null,
            "grid_template_rows": null,
            "height": null,
            "justify_content": null,
            "justify_items": null,
            "left": null,
            "margin": null,
            "max_height": null,
            "max_width": null,
            "min_height": null,
            "min_width": null,
            "object_fit": null,
            "object_position": null,
            "order": null,
            "overflow": null,
            "overflow_x": null,
            "overflow_y": null,
            "padding": null,
            "right": null,
            "top": null,
            "visibility": null,
            "width": null
          }
        },
        "3baa51b294d94495b24ac866fffe2813": {
          "model_module": "@jupyter-widgets/controls",
          "model_name": "ProgressStyleModel",
          "model_module_version": "1.5.0",
          "state": {
            "_model_module": "@jupyter-widgets/controls",
            "_model_module_version": "1.5.0",
            "_model_name": "ProgressStyleModel",
            "_view_count": null,
            "_view_module": "@jupyter-widgets/base",
            "_view_module_version": "1.2.0",
            "_view_name": "StyleView",
            "bar_color": null,
            "description_width": ""
          }
        },
        "62b547a76b2441c7b4d9155d46f2e5ed": {
          "model_module": "@jupyter-widgets/base",
          "model_name": "LayoutModel",
          "model_module_version": "1.2.0",
          "state": {
            "_model_module": "@jupyter-widgets/base",
            "_model_module_version": "1.2.0",
            "_model_name": "LayoutModel",
            "_view_count": null,
            "_view_module": "@jupyter-widgets/base",
            "_view_module_version": "1.2.0",
            "_view_name": "LayoutView",
            "align_content": null,
            "align_items": null,
            "align_self": null,
            "border": null,
            "bottom": null,
            "display": null,
            "flex": null,
            "flex_flow": null,
            "grid_area": null,
            "grid_auto_columns": null,
            "grid_auto_flow": null,
            "grid_auto_rows": null,
            "grid_column": null,
            "grid_gap": null,
            "grid_row": null,
            "grid_template_areas": null,
            "grid_template_columns": null,
            "grid_template_rows": null,
            "height": null,
            "justify_content": null,
            "justify_items": null,
            "left": null,
            "margin": null,
            "max_height": null,
            "max_width": null,
            "min_height": null,
            "min_width": null,
            "object_fit": null,
            "object_position": null,
            "order": null,
            "overflow": null,
            "overflow_x": null,
            "overflow_y": null,
            "padding": null,
            "right": null,
            "top": null,
            "visibility": null,
            "width": null
          }
        },
        "071c276dd0a3447089554ece2b24653c": {
          "model_module": "@jupyter-widgets/controls",
          "model_name": "DescriptionStyleModel",
          "model_module_version": "1.5.0",
          "state": {
            "_model_module": "@jupyter-widgets/controls",
            "_model_module_version": "1.5.0",
            "_model_name": "DescriptionStyleModel",
            "_view_count": null,
            "_view_module": "@jupyter-widgets/base",
            "_view_module_version": "1.2.0",
            "_view_name": "StyleView",
            "description_width": ""
          }
        },
        "5b1093ab90d24b0eb25efb5a2f580630": {
          "model_module": "@jupyter-widgets/controls",
          "model_name": "HBoxModel",
          "model_module_version": "1.5.0",
          "state": {
            "_dom_classes": [],
            "_model_module": "@jupyter-widgets/controls",
            "_model_module_version": "1.5.0",
            "_model_name": "HBoxModel",
            "_view_count": null,
            "_view_module": "@jupyter-widgets/controls",
            "_view_module_version": "1.5.0",
            "_view_name": "HBoxView",
            "box_style": "",
            "children": [
              "IPY_MODEL_b23722228188439fb29f1d85819f68cb",
              "IPY_MODEL_33908af116694bd5a4eb2207f6f1e7c6",
              "IPY_MODEL_32122bacb8324ca6a6fbce49b50bf741"
            ],
            "layout": "IPY_MODEL_90fa1cc1624741dab740c2951f11e95e"
          }
        },
        "b23722228188439fb29f1d85819f68cb": {
          "model_module": "@jupyter-widgets/controls",
          "model_name": "HTMLModel",
          "model_module_version": "1.5.0",
          "state": {
            "_dom_classes": [],
            "_model_module": "@jupyter-widgets/controls",
            "_model_module_version": "1.5.0",
            "_model_name": "HTMLModel",
            "_view_count": null,
            "_view_module": "@jupyter-widgets/controls",
            "_view_module_version": "1.5.0",
            "_view_name": "HTMLView",
            "description": "",
            "description_tooltip": null,
            "layout": "IPY_MODEL_015cee0e42a3492aaf43caa1a5e44eb9",
            "placeholder": "​",
            "style": "IPY_MODEL_97c3e1e6c47549a0b8bd3728f2e80d58",
            "value": "model-00024-of-00028.safetensors: 100%"
          }
        },
        "33908af116694bd5a4eb2207f6f1e7c6": {
          "model_module": "@jupyter-widgets/controls",
          "model_name": "FloatProgressModel",
          "model_module_version": "1.5.0",
          "state": {
            "_dom_classes": [],
            "_model_module": "@jupyter-widgets/controls",
            "_model_module_version": "1.5.0",
            "_model_name": "FloatProgressModel",
            "_view_count": null,
            "_view_module": "@jupyter-widgets/controls",
            "_view_module_version": "1.5.0",
            "_view_name": "ProgressView",
            "bar_style": "success",
            "description": "",
            "description_tooltip": null,
            "layout": "IPY_MODEL_6e6742e4c82a4e9eba66d26c746321e1",
            "max": 1004754140,
            "min": 0,
            "orientation": "horizontal",
            "style": "IPY_MODEL_4436851fc9564d318e01374baa7d409f",
            "value": 1004754140
          }
        },
        "32122bacb8324ca6a6fbce49b50bf741": {
          "model_module": "@jupyter-widgets/controls",
          "model_name": "HTMLModel",
          "model_module_version": "1.5.0",
          "state": {
            "_dom_classes": [],
            "_model_module": "@jupyter-widgets/controls",
            "_model_module_version": "1.5.0",
            "_model_name": "HTMLModel",
            "_view_count": null,
            "_view_module": "@jupyter-widgets/controls",
            "_view_module_version": "1.5.0",
            "_view_name": "HTMLView",
            "description": "",
            "description_tooltip": null,
            "layout": "IPY_MODEL_0a258318ced74a2eaccc7f88663ee954",
            "placeholder": "​",
            "style": "IPY_MODEL_c1a1832e59b24fda81e9963dac4a1a16",
            "value": " 1.00G/1.00G [00:06&lt;00:00, 188MB/s]"
          }
        },
        "90fa1cc1624741dab740c2951f11e95e": {
          "model_module": "@jupyter-widgets/base",
          "model_name": "LayoutModel",
          "model_module_version": "1.2.0",
          "state": {
            "_model_module": "@jupyter-widgets/base",
            "_model_module_version": "1.2.0",
            "_model_name": "LayoutModel",
            "_view_count": null,
            "_view_module": "@jupyter-widgets/base",
            "_view_module_version": "1.2.0",
            "_view_name": "LayoutView",
            "align_content": null,
            "align_items": null,
            "align_self": null,
            "border": null,
            "bottom": null,
            "display": null,
            "flex": null,
            "flex_flow": null,
            "grid_area": null,
            "grid_auto_columns": null,
            "grid_auto_flow": null,
            "grid_auto_rows": null,
            "grid_column": null,
            "grid_gap": null,
            "grid_row": null,
            "grid_template_areas": null,
            "grid_template_columns": null,
            "grid_template_rows": null,
            "height": null,
            "justify_content": null,
            "justify_items": null,
            "left": null,
            "margin": null,
            "max_height": null,
            "max_width": null,
            "min_height": null,
            "min_width": null,
            "object_fit": null,
            "object_position": null,
            "order": null,
            "overflow": null,
            "overflow_x": null,
            "overflow_y": null,
            "padding": null,
            "right": null,
            "top": null,
            "visibility": null,
            "width": null
          }
        },
        "015cee0e42a3492aaf43caa1a5e44eb9": {
          "model_module": "@jupyter-widgets/base",
          "model_name": "LayoutModel",
          "model_module_version": "1.2.0",
          "state": {
            "_model_module": "@jupyter-widgets/base",
            "_model_module_version": "1.2.0",
            "_model_name": "LayoutModel",
            "_view_count": null,
            "_view_module": "@jupyter-widgets/base",
            "_view_module_version": "1.2.0",
            "_view_name": "LayoutView",
            "align_content": null,
            "align_items": null,
            "align_self": null,
            "border": null,
            "bottom": null,
            "display": null,
            "flex": null,
            "flex_flow": null,
            "grid_area": null,
            "grid_auto_columns": null,
            "grid_auto_flow": null,
            "grid_auto_rows": null,
            "grid_column": null,
            "grid_gap": null,
            "grid_row": null,
            "grid_template_areas": null,
            "grid_template_columns": null,
            "grid_template_rows": null,
            "height": null,
            "justify_content": null,
            "justify_items": null,
            "left": null,
            "margin": null,
            "max_height": null,
            "max_width": null,
            "min_height": null,
            "min_width": null,
            "object_fit": null,
            "object_position": null,
            "order": null,
            "overflow": null,
            "overflow_x": null,
            "overflow_y": null,
            "padding": null,
            "right": null,
            "top": null,
            "visibility": null,
            "width": null
          }
        },
        "97c3e1e6c47549a0b8bd3728f2e80d58": {
          "model_module": "@jupyter-widgets/controls",
          "model_name": "DescriptionStyleModel",
          "model_module_version": "1.5.0",
          "state": {
            "_model_module": "@jupyter-widgets/controls",
            "_model_module_version": "1.5.0",
            "_model_name": "DescriptionStyleModel",
            "_view_count": null,
            "_view_module": "@jupyter-widgets/base",
            "_view_module_version": "1.2.0",
            "_view_name": "StyleView",
            "description_width": ""
          }
        },
        "6e6742e4c82a4e9eba66d26c746321e1": {
          "model_module": "@jupyter-widgets/base",
          "model_name": "LayoutModel",
          "model_module_version": "1.2.0",
          "state": {
            "_model_module": "@jupyter-widgets/base",
            "_model_module_version": "1.2.0",
            "_model_name": "LayoutModel",
            "_view_count": null,
            "_view_module": "@jupyter-widgets/base",
            "_view_module_version": "1.2.0",
            "_view_name": "LayoutView",
            "align_content": null,
            "align_items": null,
            "align_self": null,
            "border": null,
            "bottom": null,
            "display": null,
            "flex": null,
            "flex_flow": null,
            "grid_area": null,
            "grid_auto_columns": null,
            "grid_auto_flow": null,
            "grid_auto_rows": null,
            "grid_column": null,
            "grid_gap": null,
            "grid_row": null,
            "grid_template_areas": null,
            "grid_template_columns": null,
            "grid_template_rows": null,
            "height": null,
            "justify_content": null,
            "justify_items": null,
            "left": null,
            "margin": null,
            "max_height": null,
            "max_width": null,
            "min_height": null,
            "min_width": null,
            "object_fit": null,
            "object_position": null,
            "order": null,
            "overflow": null,
            "overflow_x": null,
            "overflow_y": null,
            "padding": null,
            "right": null,
            "top": null,
            "visibility": null,
            "width": null
          }
        },
        "4436851fc9564d318e01374baa7d409f": {
          "model_module": "@jupyter-widgets/controls",
          "model_name": "ProgressStyleModel",
          "model_module_version": "1.5.0",
          "state": {
            "_model_module": "@jupyter-widgets/controls",
            "_model_module_version": "1.5.0",
            "_model_name": "ProgressStyleModel",
            "_view_count": null,
            "_view_module": "@jupyter-widgets/base",
            "_view_module_version": "1.2.0",
            "_view_name": "StyleView",
            "bar_color": null,
            "description_width": ""
          }
        },
        "0a258318ced74a2eaccc7f88663ee954": {
          "model_module": "@jupyter-widgets/base",
          "model_name": "LayoutModel",
          "model_module_version": "1.2.0",
          "state": {
            "_model_module": "@jupyter-widgets/base",
            "_model_module_version": "1.2.0",
            "_model_name": "LayoutModel",
            "_view_count": null,
            "_view_module": "@jupyter-widgets/base",
            "_view_module_version": "1.2.0",
            "_view_name": "LayoutView",
            "align_content": null,
            "align_items": null,
            "align_self": null,
            "border": null,
            "bottom": null,
            "display": null,
            "flex": null,
            "flex_flow": null,
            "grid_area": null,
            "grid_auto_columns": null,
            "grid_auto_flow": null,
            "grid_auto_rows": null,
            "grid_column": null,
            "grid_gap": null,
            "grid_row": null,
            "grid_template_areas": null,
            "grid_template_columns": null,
            "grid_template_rows": null,
            "height": null,
            "justify_content": null,
            "justify_items": null,
            "left": null,
            "margin": null,
            "max_height": null,
            "max_width": null,
            "min_height": null,
            "min_width": null,
            "object_fit": null,
            "object_position": null,
            "order": null,
            "overflow": null,
            "overflow_x": null,
            "overflow_y": null,
            "padding": null,
            "right": null,
            "top": null,
            "visibility": null,
            "width": null
          }
        },
        "c1a1832e59b24fda81e9963dac4a1a16": {
          "model_module": "@jupyter-widgets/controls",
          "model_name": "DescriptionStyleModel",
          "model_module_version": "1.5.0",
          "state": {
            "_model_module": "@jupyter-widgets/controls",
            "_model_module_version": "1.5.0",
            "_model_name": "DescriptionStyleModel",
            "_view_count": null,
            "_view_module": "@jupyter-widgets/base",
            "_view_module_version": "1.2.0",
            "_view_name": "StyleView",
            "description_width": ""
          }
        },
        "e2574d396d9d4a70ac64784315f51abd": {
          "model_module": "@jupyter-widgets/controls",
          "model_name": "HBoxModel",
          "model_module_version": "1.5.0",
          "state": {
            "_dom_classes": [],
            "_model_module": "@jupyter-widgets/controls",
            "_model_module_version": "1.5.0",
            "_model_name": "HBoxModel",
            "_view_count": null,
            "_view_module": "@jupyter-widgets/controls",
            "_view_module_version": "1.5.0",
            "_view_name": "HBoxView",
            "box_style": "",
            "children": [
              "IPY_MODEL_d2ceb75c4a2241ddac8866057e7abea1",
              "IPY_MODEL_c6f44af1a5cb4b68b831e44f82dbb969",
              "IPY_MODEL_67f904e090b448c8b6bdd6a29bad0741"
            ],
            "layout": "IPY_MODEL_c71bbcc955c647f0ba73796164db072a"
          }
        },
        "d2ceb75c4a2241ddac8866057e7abea1": {
          "model_module": "@jupyter-widgets/controls",
          "model_name": "HTMLModel",
          "model_module_version": "1.5.0",
          "state": {
            "_dom_classes": [],
            "_model_module": "@jupyter-widgets/controls",
            "_model_module_version": "1.5.0",
            "_model_name": "HTMLModel",
            "_view_count": null,
            "_view_module": "@jupyter-widgets/controls",
            "_view_module_version": "1.5.0",
            "_view_name": "HTMLView",
            "description": "",
            "description_tooltip": null,
            "layout": "IPY_MODEL_df6d96ec7bf74a23a820d066b8f6e8b5",
            "placeholder": "​",
            "style": "IPY_MODEL_92d39d01d33548fb839ddff606f97f90",
            "value": "model-00025-of-00028.safetensors: 100%"
          }
        },
        "c6f44af1a5cb4b68b831e44f82dbb969": {
          "model_module": "@jupyter-widgets/controls",
          "model_name": "FloatProgressModel",
          "model_module_version": "1.5.0",
          "state": {
            "_dom_classes": [],
            "_model_module": "@jupyter-widgets/controls",
            "_model_module_version": "1.5.0",
            "_model_name": "FloatProgressModel",
            "_view_count": null,
            "_view_module": "@jupyter-widgets/controls",
            "_view_module_version": "1.5.0",
            "_view_name": "ProgressView",
            "bar_style": "success",
            "description": "",
            "description_tooltip": null,
            "layout": "IPY_MODEL_6d39b9119e474b3b80e6c5bf2c82e0bd",
            "max": 895670570,
            "min": 0,
            "orientation": "horizontal",
            "style": "IPY_MODEL_28c210ecb5514b3bb06eb0233b04a0db",
            "value": 895670570
          }
        },
        "67f904e090b448c8b6bdd6a29bad0741": {
          "model_module": "@jupyter-widgets/controls",
          "model_name": "HTMLModel",
          "model_module_version": "1.5.0",
          "state": {
            "_dom_classes": [],
            "_model_module": "@jupyter-widgets/controls",
            "_model_module_version": "1.5.0",
            "_model_name": "HTMLModel",
            "_view_count": null,
            "_view_module": "@jupyter-widgets/controls",
            "_view_module_version": "1.5.0",
            "_view_name": "HTMLView",
            "description": "",
            "description_tooltip": null,
            "layout": "IPY_MODEL_f84a3a6f4f47436996f146dfa376467c",
            "placeholder": "​",
            "style": "IPY_MODEL_b7cb258451084c1490ae4b8f282141ec",
            "value": " 896M/896M [00:09&lt;00:00, 128MB/s]"
          }
        },
        "c71bbcc955c647f0ba73796164db072a": {
          "model_module": "@jupyter-widgets/base",
          "model_name": "LayoutModel",
          "model_module_version": "1.2.0",
          "state": {
            "_model_module": "@jupyter-widgets/base",
            "_model_module_version": "1.2.0",
            "_model_name": "LayoutModel",
            "_view_count": null,
            "_view_module": "@jupyter-widgets/base",
            "_view_module_version": "1.2.0",
            "_view_name": "LayoutView",
            "align_content": null,
            "align_items": null,
            "align_self": null,
            "border": null,
            "bottom": null,
            "display": null,
            "flex": null,
            "flex_flow": null,
            "grid_area": null,
            "grid_auto_columns": null,
            "grid_auto_flow": null,
            "grid_auto_rows": null,
            "grid_column": null,
            "grid_gap": null,
            "grid_row": null,
            "grid_template_areas": null,
            "grid_template_columns": null,
            "grid_template_rows": null,
            "height": null,
            "justify_content": null,
            "justify_items": null,
            "left": null,
            "margin": null,
            "max_height": null,
            "max_width": null,
            "min_height": null,
            "min_width": null,
            "object_fit": null,
            "object_position": null,
            "order": null,
            "overflow": null,
            "overflow_x": null,
            "overflow_y": null,
            "padding": null,
            "right": null,
            "top": null,
            "visibility": null,
            "width": null
          }
        },
        "df6d96ec7bf74a23a820d066b8f6e8b5": {
          "model_module": "@jupyter-widgets/base",
          "model_name": "LayoutModel",
          "model_module_version": "1.2.0",
          "state": {
            "_model_module": "@jupyter-widgets/base",
            "_model_module_version": "1.2.0",
            "_model_name": "LayoutModel",
            "_view_count": null,
            "_view_module": "@jupyter-widgets/base",
            "_view_module_version": "1.2.0",
            "_view_name": "LayoutView",
            "align_content": null,
            "align_items": null,
            "align_self": null,
            "border": null,
            "bottom": null,
            "display": null,
            "flex": null,
            "flex_flow": null,
            "grid_area": null,
            "grid_auto_columns": null,
            "grid_auto_flow": null,
            "grid_auto_rows": null,
            "grid_column": null,
            "grid_gap": null,
            "grid_row": null,
            "grid_template_areas": null,
            "grid_template_columns": null,
            "grid_template_rows": null,
            "height": null,
            "justify_content": null,
            "justify_items": null,
            "left": null,
            "margin": null,
            "max_height": null,
            "max_width": null,
            "min_height": null,
            "min_width": null,
            "object_fit": null,
            "object_position": null,
            "order": null,
            "overflow": null,
            "overflow_x": null,
            "overflow_y": null,
            "padding": null,
            "right": null,
            "top": null,
            "visibility": null,
            "width": null
          }
        },
        "92d39d01d33548fb839ddff606f97f90": {
          "model_module": "@jupyter-widgets/controls",
          "model_name": "DescriptionStyleModel",
          "model_module_version": "1.5.0",
          "state": {
            "_model_module": "@jupyter-widgets/controls",
            "_model_module_version": "1.5.0",
            "_model_name": "DescriptionStyleModel",
            "_view_count": null,
            "_view_module": "@jupyter-widgets/base",
            "_view_module_version": "1.2.0",
            "_view_name": "StyleView",
            "description_width": ""
          }
        },
        "6d39b9119e474b3b80e6c5bf2c82e0bd": {
          "model_module": "@jupyter-widgets/base",
          "model_name": "LayoutModel",
          "model_module_version": "1.2.0",
          "state": {
            "_model_module": "@jupyter-widgets/base",
            "_model_module_version": "1.2.0",
            "_model_name": "LayoutModel",
            "_view_count": null,
            "_view_module": "@jupyter-widgets/base",
            "_view_module_version": "1.2.0",
            "_view_name": "LayoutView",
            "align_content": null,
            "align_items": null,
            "align_self": null,
            "border": null,
            "bottom": null,
            "display": null,
            "flex": null,
            "flex_flow": null,
            "grid_area": null,
            "grid_auto_columns": null,
            "grid_auto_flow": null,
            "grid_auto_rows": null,
            "grid_column": null,
            "grid_gap": null,
            "grid_row": null,
            "grid_template_areas": null,
            "grid_template_columns": null,
            "grid_template_rows": null,
            "height": null,
            "justify_content": null,
            "justify_items": null,
            "left": null,
            "margin": null,
            "max_height": null,
            "max_width": null,
            "min_height": null,
            "min_width": null,
            "object_fit": null,
            "object_position": null,
            "order": null,
            "overflow": null,
            "overflow_x": null,
            "overflow_y": null,
            "padding": null,
            "right": null,
            "top": null,
            "visibility": null,
            "width": null
          }
        },
        "28c210ecb5514b3bb06eb0233b04a0db": {
          "model_module": "@jupyter-widgets/controls",
          "model_name": "ProgressStyleModel",
          "model_module_version": "1.5.0",
          "state": {
            "_model_module": "@jupyter-widgets/controls",
            "_model_module_version": "1.5.0",
            "_model_name": "ProgressStyleModel",
            "_view_count": null,
            "_view_module": "@jupyter-widgets/base",
            "_view_module_version": "1.2.0",
            "_view_name": "StyleView",
            "bar_color": null,
            "description_width": ""
          }
        },
        "f84a3a6f4f47436996f146dfa376467c": {
          "model_module": "@jupyter-widgets/base",
          "model_name": "LayoutModel",
          "model_module_version": "1.2.0",
          "state": {
            "_model_module": "@jupyter-widgets/base",
            "_model_module_version": "1.2.0",
            "_model_name": "LayoutModel",
            "_view_count": null,
            "_view_module": "@jupyter-widgets/base",
            "_view_module_version": "1.2.0",
            "_view_name": "LayoutView",
            "align_content": null,
            "align_items": null,
            "align_self": null,
            "border": null,
            "bottom": null,
            "display": null,
            "flex": null,
            "flex_flow": null,
            "grid_area": null,
            "grid_auto_columns": null,
            "grid_auto_flow": null,
            "grid_auto_rows": null,
            "grid_column": null,
            "grid_gap": null,
            "grid_row": null,
            "grid_template_areas": null,
            "grid_template_columns": null,
            "grid_template_rows": null,
            "height": null,
            "justify_content": null,
            "justify_items": null,
            "left": null,
            "margin": null,
            "max_height": null,
            "max_width": null,
            "min_height": null,
            "min_width": null,
            "object_fit": null,
            "object_position": null,
            "order": null,
            "overflow": null,
            "overflow_x": null,
            "overflow_y": null,
            "padding": null,
            "right": null,
            "top": null,
            "visibility": null,
            "width": null
          }
        },
        "b7cb258451084c1490ae4b8f282141ec": {
          "model_module": "@jupyter-widgets/controls",
          "model_name": "DescriptionStyleModel",
          "model_module_version": "1.5.0",
          "state": {
            "_model_module": "@jupyter-widgets/controls",
            "_model_module_version": "1.5.0",
            "_model_name": "DescriptionStyleModel",
            "_view_count": null,
            "_view_module": "@jupyter-widgets/base",
            "_view_module_version": "1.2.0",
            "_view_name": "StyleView",
            "description_width": ""
          }
        },
        "3114f602d93a4f1997783579f3bc616b": {
          "model_module": "@jupyter-widgets/controls",
          "model_name": "HBoxModel",
          "model_module_version": "1.5.0",
          "state": {
            "_dom_classes": [],
            "_model_module": "@jupyter-widgets/controls",
            "_model_module_version": "1.5.0",
            "_model_name": "HBoxModel",
            "_view_count": null,
            "_view_module": "@jupyter-widgets/controls",
            "_view_module_version": "1.5.0",
            "_view_name": "HBoxView",
            "box_style": "",
            "children": [
              "IPY_MODEL_ecc7003a312b42f890f6304cdbd7ae00",
              "IPY_MODEL_8db90e3d2364431cba7867c970d6683c",
              "IPY_MODEL_ac125fe4fc424d9296ce6f9987d3397c"
            ],
            "layout": "IPY_MODEL_ae34abcb268f4664bd804c855bd8818d"
          }
        },
        "ecc7003a312b42f890f6304cdbd7ae00": {
          "model_module": "@jupyter-widgets/controls",
          "model_name": "HTMLModel",
          "model_module_version": "1.5.0",
          "state": {
            "_dom_classes": [],
            "_model_module": "@jupyter-widgets/controls",
            "_model_module_version": "1.5.0",
            "_model_name": "HTMLModel",
            "_view_count": null,
            "_view_module": "@jupyter-widgets/controls",
            "_view_module_version": "1.5.0",
            "_view_name": "HTMLView",
            "description": "",
            "description_tooltip": null,
            "layout": "IPY_MODEL_a75c63457c8b4543b9bd9ab92df4ea08",
            "placeholder": "​",
            "style": "IPY_MODEL_a30f54a3ee6e451095447494e2098268",
            "value": "model-00026-of-00028.safetensors: 100%"
          }
        },
        "8db90e3d2364431cba7867c970d6683c": {
          "model_module": "@jupyter-widgets/controls",
          "model_name": "FloatProgressModel",
          "model_module_version": "1.5.0",
          "state": {
            "_dom_classes": [],
            "_model_module": "@jupyter-widgets/controls",
            "_model_module_version": "1.5.0",
            "_model_name": "FloatProgressModel",
            "_view_count": null,
            "_view_module": "@jupyter-widgets/controls",
            "_view_module_version": "1.5.0",
            "_view_name": "ProgressView",
            "bar_style": "success",
            "description": "",
            "description_tooltip": null,
            "layout": "IPY_MODEL_e3b4691ea9084a7c91ea49a2dd561cb2",
            "max": 1004754140,
            "min": 0,
            "orientation": "horizontal",
            "style": "IPY_MODEL_b1b10c476ced4d7da65d017a94a826d5",
            "value": 1004754140
          }
        },
        "ac125fe4fc424d9296ce6f9987d3397c": {
          "model_module": "@jupyter-widgets/controls",
          "model_name": "HTMLModel",
          "model_module_version": "1.5.0",
          "state": {
            "_dom_classes": [],
            "_model_module": "@jupyter-widgets/controls",
            "_model_module_version": "1.5.0",
            "_model_name": "HTMLModel",
            "_view_count": null,
            "_view_module": "@jupyter-widgets/controls",
            "_view_module_version": "1.5.0",
            "_view_name": "HTMLView",
            "description": "",
            "description_tooltip": null,
            "layout": "IPY_MODEL_00cb6ccd1de14346967cd3300d4df195",
            "placeholder": "​",
            "style": "IPY_MODEL_64c8476ad4454608b51b402ac431d5eb",
            "value": " 1.00G/1.00G [00:10&lt;00:00, 178MB/s]"
          }
        },
        "ae34abcb268f4664bd804c855bd8818d": {
          "model_module": "@jupyter-widgets/base",
          "model_name": "LayoutModel",
          "model_module_version": "1.2.0",
          "state": {
            "_model_module": "@jupyter-widgets/base",
            "_model_module_version": "1.2.0",
            "_model_name": "LayoutModel",
            "_view_count": null,
            "_view_module": "@jupyter-widgets/base",
            "_view_module_version": "1.2.0",
            "_view_name": "LayoutView",
            "align_content": null,
            "align_items": null,
            "align_self": null,
            "border": null,
            "bottom": null,
            "display": null,
            "flex": null,
            "flex_flow": null,
            "grid_area": null,
            "grid_auto_columns": null,
            "grid_auto_flow": null,
            "grid_auto_rows": null,
            "grid_column": null,
            "grid_gap": null,
            "grid_row": null,
            "grid_template_areas": null,
            "grid_template_columns": null,
            "grid_template_rows": null,
            "height": null,
            "justify_content": null,
            "justify_items": null,
            "left": null,
            "margin": null,
            "max_height": null,
            "max_width": null,
            "min_height": null,
            "min_width": null,
            "object_fit": null,
            "object_position": null,
            "order": null,
            "overflow": null,
            "overflow_x": null,
            "overflow_y": null,
            "padding": null,
            "right": null,
            "top": null,
            "visibility": null,
            "width": null
          }
        },
        "a75c63457c8b4543b9bd9ab92df4ea08": {
          "model_module": "@jupyter-widgets/base",
          "model_name": "LayoutModel",
          "model_module_version": "1.2.0",
          "state": {
            "_model_module": "@jupyter-widgets/base",
            "_model_module_version": "1.2.0",
            "_model_name": "LayoutModel",
            "_view_count": null,
            "_view_module": "@jupyter-widgets/base",
            "_view_module_version": "1.2.0",
            "_view_name": "LayoutView",
            "align_content": null,
            "align_items": null,
            "align_self": null,
            "border": null,
            "bottom": null,
            "display": null,
            "flex": null,
            "flex_flow": null,
            "grid_area": null,
            "grid_auto_columns": null,
            "grid_auto_flow": null,
            "grid_auto_rows": null,
            "grid_column": null,
            "grid_gap": null,
            "grid_row": null,
            "grid_template_areas": null,
            "grid_template_columns": null,
            "grid_template_rows": null,
            "height": null,
            "justify_content": null,
            "justify_items": null,
            "left": null,
            "margin": null,
            "max_height": null,
            "max_width": null,
            "min_height": null,
            "min_width": null,
            "object_fit": null,
            "object_position": null,
            "order": null,
            "overflow": null,
            "overflow_x": null,
            "overflow_y": null,
            "padding": null,
            "right": null,
            "top": null,
            "visibility": null,
            "width": null
          }
        },
        "a30f54a3ee6e451095447494e2098268": {
          "model_module": "@jupyter-widgets/controls",
          "model_name": "DescriptionStyleModel",
          "model_module_version": "1.5.0",
          "state": {
            "_model_module": "@jupyter-widgets/controls",
            "_model_module_version": "1.5.0",
            "_model_name": "DescriptionStyleModel",
            "_view_count": null,
            "_view_module": "@jupyter-widgets/base",
            "_view_module_version": "1.2.0",
            "_view_name": "StyleView",
            "description_width": ""
          }
        },
        "e3b4691ea9084a7c91ea49a2dd561cb2": {
          "model_module": "@jupyter-widgets/base",
          "model_name": "LayoutModel",
          "model_module_version": "1.2.0",
          "state": {
            "_model_module": "@jupyter-widgets/base",
            "_model_module_version": "1.2.0",
            "_model_name": "LayoutModel",
            "_view_count": null,
            "_view_module": "@jupyter-widgets/base",
            "_view_module_version": "1.2.0",
            "_view_name": "LayoutView",
            "align_content": null,
            "align_items": null,
            "align_self": null,
            "border": null,
            "bottom": null,
            "display": null,
            "flex": null,
            "flex_flow": null,
            "grid_area": null,
            "grid_auto_columns": null,
            "grid_auto_flow": null,
            "grid_auto_rows": null,
            "grid_column": null,
            "grid_gap": null,
            "grid_row": null,
            "grid_template_areas": null,
            "grid_template_columns": null,
            "grid_template_rows": null,
            "height": null,
            "justify_content": null,
            "justify_items": null,
            "left": null,
            "margin": null,
            "max_height": null,
            "max_width": null,
            "min_height": null,
            "min_width": null,
            "object_fit": null,
            "object_position": null,
            "order": null,
            "overflow": null,
            "overflow_x": null,
            "overflow_y": null,
            "padding": null,
            "right": null,
            "top": null,
            "visibility": null,
            "width": null
          }
        },
        "b1b10c476ced4d7da65d017a94a826d5": {
          "model_module": "@jupyter-widgets/controls",
          "model_name": "ProgressStyleModel",
          "model_module_version": "1.5.0",
          "state": {
            "_model_module": "@jupyter-widgets/controls",
            "_model_module_version": "1.5.0",
            "_model_name": "ProgressStyleModel",
            "_view_count": null,
            "_view_module": "@jupyter-widgets/base",
            "_view_module_version": "1.2.0",
            "_view_name": "StyleView",
            "bar_color": null,
            "description_width": ""
          }
        },
        "00cb6ccd1de14346967cd3300d4df195": {
          "model_module": "@jupyter-widgets/base",
          "model_name": "LayoutModel",
          "model_module_version": "1.2.0",
          "state": {
            "_model_module": "@jupyter-widgets/base",
            "_model_module_version": "1.2.0",
            "_model_name": "LayoutModel",
            "_view_count": null,
            "_view_module": "@jupyter-widgets/base",
            "_view_module_version": "1.2.0",
            "_view_name": "LayoutView",
            "align_content": null,
            "align_items": null,
            "align_self": null,
            "border": null,
            "bottom": null,
            "display": null,
            "flex": null,
            "flex_flow": null,
            "grid_area": null,
            "grid_auto_columns": null,
            "grid_auto_flow": null,
            "grid_auto_rows": null,
            "grid_column": null,
            "grid_gap": null,
            "grid_row": null,
            "grid_template_areas": null,
            "grid_template_columns": null,
            "grid_template_rows": null,
            "height": null,
            "justify_content": null,
            "justify_items": null,
            "left": null,
            "margin": null,
            "max_height": null,
            "max_width": null,
            "min_height": null,
            "min_width": null,
            "object_fit": null,
            "object_position": null,
            "order": null,
            "overflow": null,
            "overflow_x": null,
            "overflow_y": null,
            "padding": null,
            "right": null,
            "top": null,
            "visibility": null,
            "width": null
          }
        },
        "64c8476ad4454608b51b402ac431d5eb": {
          "model_module": "@jupyter-widgets/controls",
          "model_name": "DescriptionStyleModel",
          "model_module_version": "1.5.0",
          "state": {
            "_model_module": "@jupyter-widgets/controls",
            "_model_module_version": "1.5.0",
            "_model_name": "DescriptionStyleModel",
            "_view_count": null,
            "_view_module": "@jupyter-widgets/base",
            "_view_module_version": "1.2.0",
            "_view_name": "StyleView",
            "description_width": ""
          }
        },
        "9089d666258b4fe2bfc60ec9ffefaa30": {
          "model_module": "@jupyter-widgets/controls",
          "model_name": "HBoxModel",
          "model_module_version": "1.5.0",
          "state": {
            "_dom_classes": [],
            "_model_module": "@jupyter-widgets/controls",
            "_model_module_version": "1.5.0",
            "_model_name": "HBoxModel",
            "_view_count": null,
            "_view_module": "@jupyter-widgets/controls",
            "_view_module_version": "1.5.0",
            "_view_name": "HBoxView",
            "box_style": "",
            "children": [
              "IPY_MODEL_c96d6392a6f24e69898457d605e6d376",
              "IPY_MODEL_570957636a314dc6b68a3fee8b013334",
              "IPY_MODEL_a6b9fa7faf744f40b78e18f671ac7331"
            ],
            "layout": "IPY_MODEL_47e738d5fb5748ce969b26c1c161d944"
          }
        },
        "c96d6392a6f24e69898457d605e6d376": {
          "model_module": "@jupyter-widgets/controls",
          "model_name": "HTMLModel",
          "model_module_version": "1.5.0",
          "state": {
            "_dom_classes": [],
            "_model_module": "@jupyter-widgets/controls",
            "_model_module_version": "1.5.0",
            "_model_name": "HTMLModel",
            "_view_count": null,
            "_view_module": "@jupyter-widgets/controls",
            "_view_module_version": "1.5.0",
            "_view_name": "HTMLView",
            "description": "",
            "description_tooltip": null,
            "layout": "IPY_MODEL_49e000d62cb648fea9c4ac7dcfebc042",
            "placeholder": "​",
            "style": "IPY_MODEL_db08d87c783e41f9a966554509f14d56",
            "value": "model-00027-of-00028.safetensors: 100%"
          }
        },
        "570957636a314dc6b68a3fee8b013334": {
          "model_module": "@jupyter-widgets/controls",
          "model_name": "FloatProgressModel",
          "model_module_version": "1.5.0",
          "state": {
            "_dom_classes": [],
            "_model_module": "@jupyter-widgets/controls",
            "_model_module_version": "1.5.0",
            "_model_name": "FloatProgressModel",
            "_view_count": null,
            "_view_module": "@jupyter-widgets/controls",
            "_view_module_version": "1.5.0",
            "_view_name": "ProgressView",
            "bar_style": "success",
            "description": "",
            "description_tooltip": null,
            "layout": "IPY_MODEL_efcd0856be60446a97f3700913bd6723",
            "max": 895670570,
            "min": 0,
            "orientation": "horizontal",
            "style": "IPY_MODEL_13b3a995335c4eccaadc606d061fcdf7",
            "value": 895670570
          }
        },
        "a6b9fa7faf744f40b78e18f671ac7331": {
          "model_module": "@jupyter-widgets/controls",
          "model_name": "HTMLModel",
          "model_module_version": "1.5.0",
          "state": {
            "_dom_classes": [],
            "_model_module": "@jupyter-widgets/controls",
            "_model_module_version": "1.5.0",
            "_model_name": "HTMLModel",
            "_view_count": null,
            "_view_module": "@jupyter-widgets/controls",
            "_view_module_version": "1.5.0",
            "_view_name": "HTMLView",
            "description": "",
            "description_tooltip": null,
            "layout": "IPY_MODEL_457ad5fff56b485d965431a29178919e",
            "placeholder": "​",
            "style": "IPY_MODEL_efaf62353e4440be8f81f488394f79a3",
            "value": " 896M/896M [00:08&lt;00:00, 126MB/s]"
          }
        },
        "47e738d5fb5748ce969b26c1c161d944": {
          "model_module": "@jupyter-widgets/base",
          "model_name": "LayoutModel",
          "model_module_version": "1.2.0",
          "state": {
            "_model_module": "@jupyter-widgets/base",
            "_model_module_version": "1.2.0",
            "_model_name": "LayoutModel",
            "_view_count": null,
            "_view_module": "@jupyter-widgets/base",
            "_view_module_version": "1.2.0",
            "_view_name": "LayoutView",
            "align_content": null,
            "align_items": null,
            "align_self": null,
            "border": null,
            "bottom": null,
            "display": null,
            "flex": null,
            "flex_flow": null,
            "grid_area": null,
            "grid_auto_columns": null,
            "grid_auto_flow": null,
            "grid_auto_rows": null,
            "grid_column": null,
            "grid_gap": null,
            "grid_row": null,
            "grid_template_areas": null,
            "grid_template_columns": null,
            "grid_template_rows": null,
            "height": null,
            "justify_content": null,
            "justify_items": null,
            "left": null,
            "margin": null,
            "max_height": null,
            "max_width": null,
            "min_height": null,
            "min_width": null,
            "object_fit": null,
            "object_position": null,
            "order": null,
            "overflow": null,
            "overflow_x": null,
            "overflow_y": null,
            "padding": null,
            "right": null,
            "top": null,
            "visibility": null,
            "width": null
          }
        },
        "49e000d62cb648fea9c4ac7dcfebc042": {
          "model_module": "@jupyter-widgets/base",
          "model_name": "LayoutModel",
          "model_module_version": "1.2.0",
          "state": {
            "_model_module": "@jupyter-widgets/base",
            "_model_module_version": "1.2.0",
            "_model_name": "LayoutModel",
            "_view_count": null,
            "_view_module": "@jupyter-widgets/base",
            "_view_module_version": "1.2.0",
            "_view_name": "LayoutView",
            "align_content": null,
            "align_items": null,
            "align_self": null,
            "border": null,
            "bottom": null,
            "display": null,
            "flex": null,
            "flex_flow": null,
            "grid_area": null,
            "grid_auto_columns": null,
            "grid_auto_flow": null,
            "grid_auto_rows": null,
            "grid_column": null,
            "grid_gap": null,
            "grid_row": null,
            "grid_template_areas": null,
            "grid_template_columns": null,
            "grid_template_rows": null,
            "height": null,
            "justify_content": null,
            "justify_items": null,
            "left": null,
            "margin": null,
            "max_height": null,
            "max_width": null,
            "min_height": null,
            "min_width": null,
            "object_fit": null,
            "object_position": null,
            "order": null,
            "overflow": null,
            "overflow_x": null,
            "overflow_y": null,
            "padding": null,
            "right": null,
            "top": null,
            "visibility": null,
            "width": null
          }
        },
        "db08d87c783e41f9a966554509f14d56": {
          "model_module": "@jupyter-widgets/controls",
          "model_name": "DescriptionStyleModel",
          "model_module_version": "1.5.0",
          "state": {
            "_model_module": "@jupyter-widgets/controls",
            "_model_module_version": "1.5.0",
            "_model_name": "DescriptionStyleModel",
            "_view_count": null,
            "_view_module": "@jupyter-widgets/base",
            "_view_module_version": "1.2.0",
            "_view_name": "StyleView",
            "description_width": ""
          }
        },
        "efcd0856be60446a97f3700913bd6723": {
          "model_module": "@jupyter-widgets/base",
          "model_name": "LayoutModel",
          "model_module_version": "1.2.0",
          "state": {
            "_model_module": "@jupyter-widgets/base",
            "_model_module_version": "1.2.0",
            "_model_name": "LayoutModel",
            "_view_count": null,
            "_view_module": "@jupyter-widgets/base",
            "_view_module_version": "1.2.0",
            "_view_name": "LayoutView",
            "align_content": null,
            "align_items": null,
            "align_self": null,
            "border": null,
            "bottom": null,
            "display": null,
            "flex": null,
            "flex_flow": null,
            "grid_area": null,
            "grid_auto_columns": null,
            "grid_auto_flow": null,
            "grid_auto_rows": null,
            "grid_column": null,
            "grid_gap": null,
            "grid_row": null,
            "grid_template_areas": null,
            "grid_template_columns": null,
            "grid_template_rows": null,
            "height": null,
            "justify_content": null,
            "justify_items": null,
            "left": null,
            "margin": null,
            "max_height": null,
            "max_width": null,
            "min_height": null,
            "min_width": null,
            "object_fit": null,
            "object_position": null,
            "order": null,
            "overflow": null,
            "overflow_x": null,
            "overflow_y": null,
            "padding": null,
            "right": null,
            "top": null,
            "visibility": null,
            "width": null
          }
        },
        "13b3a995335c4eccaadc606d061fcdf7": {
          "model_module": "@jupyter-widgets/controls",
          "model_name": "ProgressStyleModel",
          "model_module_version": "1.5.0",
          "state": {
            "_model_module": "@jupyter-widgets/controls",
            "_model_module_version": "1.5.0",
            "_model_name": "ProgressStyleModel",
            "_view_count": null,
            "_view_module": "@jupyter-widgets/base",
            "_view_module_version": "1.2.0",
            "_view_name": "StyleView",
            "bar_color": null,
            "description_width": ""
          }
        },
        "457ad5fff56b485d965431a29178919e": {
          "model_module": "@jupyter-widgets/base",
          "model_name": "LayoutModel",
          "model_module_version": "1.2.0",
          "state": {
            "_model_module": "@jupyter-widgets/base",
            "_model_module_version": "1.2.0",
            "_model_name": "LayoutModel",
            "_view_count": null,
            "_view_module": "@jupyter-widgets/base",
            "_view_module_version": "1.2.0",
            "_view_name": "LayoutView",
            "align_content": null,
            "align_items": null,
            "align_self": null,
            "border": null,
            "bottom": null,
            "display": null,
            "flex": null,
            "flex_flow": null,
            "grid_area": null,
            "grid_auto_columns": null,
            "grid_auto_flow": null,
            "grid_auto_rows": null,
            "grid_column": null,
            "grid_gap": null,
            "grid_row": null,
            "grid_template_areas": null,
            "grid_template_columns": null,
            "grid_template_rows": null,
            "height": null,
            "justify_content": null,
            "justify_items": null,
            "left": null,
            "margin": null,
            "max_height": null,
            "max_width": null,
            "min_height": null,
            "min_width": null,
            "object_fit": null,
            "object_position": null,
            "order": null,
            "overflow": null,
            "overflow_x": null,
            "overflow_y": null,
            "padding": null,
            "right": null,
            "top": null,
            "visibility": null,
            "width": null
          }
        },
        "efaf62353e4440be8f81f488394f79a3": {
          "model_module": "@jupyter-widgets/controls",
          "model_name": "DescriptionStyleModel",
          "model_module_version": "1.5.0",
          "state": {
            "_model_module": "@jupyter-widgets/controls",
            "_model_module_version": "1.5.0",
            "_model_name": "DescriptionStyleModel",
            "_view_count": null,
            "_view_module": "@jupyter-widgets/base",
            "_view_module_version": "1.2.0",
            "_view_name": "StyleView",
            "description_width": ""
          }
        },
        "948a52a8ada24ccdb7520b6f1417eb26": {
          "model_module": "@jupyter-widgets/controls",
          "model_name": "HBoxModel",
          "model_module_version": "1.5.0",
          "state": {
            "_dom_classes": [],
            "_model_module": "@jupyter-widgets/controls",
            "_model_module_version": "1.5.0",
            "_model_name": "HBoxModel",
            "_view_count": null,
            "_view_module": "@jupyter-widgets/controls",
            "_view_module_version": "1.5.0",
            "_view_name": "HBoxView",
            "box_style": "",
            "children": [
              "IPY_MODEL_be3d7adf616e4d098acbafd4ab0cccd5",
              "IPY_MODEL_f7b580f3ec02440f84c4084aa183bca6",
              "IPY_MODEL_402b02455aa94404bece6e17c2b38a41"
            ],
            "layout": "IPY_MODEL_d7ea3f1a69a84547a6e53febe96a3c45"
          }
        },
        "be3d7adf616e4d098acbafd4ab0cccd5": {
          "model_module": "@jupyter-widgets/controls",
          "model_name": "HTMLModel",
          "model_module_version": "1.5.0",
          "state": {
            "_dom_classes": [],
            "_model_module": "@jupyter-widgets/controls",
            "_model_module_version": "1.5.0",
            "_model_name": "HTMLModel",
            "_view_count": null,
            "_view_module": "@jupyter-widgets/controls",
            "_view_module_version": "1.5.0",
            "_view_name": "HTMLView",
            "description": "",
            "description_tooltip": null,
            "layout": "IPY_MODEL_cc26de3730894b06afd1b7c83a4ca0b6",
            "placeholder": "​",
            "style": "IPY_MODEL_bba013c2276146b5a9b7a784e07d71f3",
            "value": "model-00028-of-00028.safetensors: 100%"
          }
        },
        "f7b580f3ec02440f84c4084aa183bca6": {
          "model_module": "@jupyter-widgets/controls",
          "model_name": "FloatProgressModel",
          "model_module_version": "1.5.0",
          "state": {
            "_dom_classes": [],
            "_model_module": "@jupyter-widgets/controls",
            "_model_module_version": "1.5.0",
            "_model_name": "FloatProgressModel",
            "_view_count": null,
            "_view_module": "@jupyter-widgets/controls",
            "_view_module_version": "1.5.0",
            "_view_name": "ProgressView",
            "bar_style": "success",
            "description": "",
            "description_tooltip": null,
            "layout": "IPY_MODEL_e228b412fade4a1db8609b4f5e342a0d",
            "max": 517765688,
            "min": 0,
            "orientation": "horizontal",
            "style": "IPY_MODEL_1d4d92e4fab141e3863264274d123be8",
            "value": 517765688
          }
        },
        "402b02455aa94404bece6e17c2b38a41": {
          "model_module": "@jupyter-widgets/controls",
          "model_name": "HTMLModel",
          "model_module_version": "1.5.0",
          "state": {
            "_dom_classes": [],
            "_model_module": "@jupyter-widgets/controls",
            "_model_module_version": "1.5.0",
            "_model_name": "HTMLModel",
            "_view_count": null,
            "_view_module": "@jupyter-widgets/controls",
            "_view_module_version": "1.5.0",
            "_view_name": "HTMLView",
            "description": "",
            "description_tooltip": null,
            "layout": "IPY_MODEL_8ffa2a020e3b4ee8bfb6a1e184207696",
            "placeholder": "​",
            "style": "IPY_MODEL_c301c931a23842f6876aa216de7d74dc",
            "value": " 518M/518M [00:05&lt;00:00, 115MB/s]"
          }
        },
        "d7ea3f1a69a84547a6e53febe96a3c45": {
          "model_module": "@jupyter-widgets/base",
          "model_name": "LayoutModel",
          "model_module_version": "1.2.0",
          "state": {
            "_model_module": "@jupyter-widgets/base",
            "_model_module_version": "1.2.0",
            "_model_name": "LayoutModel",
            "_view_count": null,
            "_view_module": "@jupyter-widgets/base",
            "_view_module_version": "1.2.0",
            "_view_name": "LayoutView",
            "align_content": null,
            "align_items": null,
            "align_self": null,
            "border": null,
            "bottom": null,
            "display": null,
            "flex": null,
            "flex_flow": null,
            "grid_area": null,
            "grid_auto_columns": null,
            "grid_auto_flow": null,
            "grid_auto_rows": null,
            "grid_column": null,
            "grid_gap": null,
            "grid_row": null,
            "grid_template_areas": null,
            "grid_template_columns": null,
            "grid_template_rows": null,
            "height": null,
            "justify_content": null,
            "justify_items": null,
            "left": null,
            "margin": null,
            "max_height": null,
            "max_width": null,
            "min_height": null,
            "min_width": null,
            "object_fit": null,
            "object_position": null,
            "order": null,
            "overflow": null,
            "overflow_x": null,
            "overflow_y": null,
            "padding": null,
            "right": null,
            "top": null,
            "visibility": null,
            "width": null
          }
        },
        "cc26de3730894b06afd1b7c83a4ca0b6": {
          "model_module": "@jupyter-widgets/base",
          "model_name": "LayoutModel",
          "model_module_version": "1.2.0",
          "state": {
            "_model_module": "@jupyter-widgets/base",
            "_model_module_version": "1.2.0",
            "_model_name": "LayoutModel",
            "_view_count": null,
            "_view_module": "@jupyter-widgets/base",
            "_view_module_version": "1.2.0",
            "_view_name": "LayoutView",
            "align_content": null,
            "align_items": null,
            "align_self": null,
            "border": null,
            "bottom": null,
            "display": null,
            "flex": null,
            "flex_flow": null,
            "grid_area": null,
            "grid_auto_columns": null,
            "grid_auto_flow": null,
            "grid_auto_rows": null,
            "grid_column": null,
            "grid_gap": null,
            "grid_row": null,
            "grid_template_areas": null,
            "grid_template_columns": null,
            "grid_template_rows": null,
            "height": null,
            "justify_content": null,
            "justify_items": null,
            "left": null,
            "margin": null,
            "max_height": null,
            "max_width": null,
            "min_height": null,
            "min_width": null,
            "object_fit": null,
            "object_position": null,
            "order": null,
            "overflow": null,
            "overflow_x": null,
            "overflow_y": null,
            "padding": null,
            "right": null,
            "top": null,
            "visibility": null,
            "width": null
          }
        },
        "bba013c2276146b5a9b7a784e07d71f3": {
          "model_module": "@jupyter-widgets/controls",
          "model_name": "DescriptionStyleModel",
          "model_module_version": "1.5.0",
          "state": {
            "_model_module": "@jupyter-widgets/controls",
            "_model_module_version": "1.5.0",
            "_model_name": "DescriptionStyleModel",
            "_view_count": null,
            "_view_module": "@jupyter-widgets/base",
            "_view_module_version": "1.2.0",
            "_view_name": "StyleView",
            "description_width": ""
          }
        },
        "e228b412fade4a1db8609b4f5e342a0d": {
          "model_module": "@jupyter-widgets/base",
          "model_name": "LayoutModel",
          "model_module_version": "1.2.0",
          "state": {
            "_model_module": "@jupyter-widgets/base",
            "_model_module_version": "1.2.0",
            "_model_name": "LayoutModel",
            "_view_count": null,
            "_view_module": "@jupyter-widgets/base",
            "_view_module_version": "1.2.0",
            "_view_name": "LayoutView",
            "align_content": null,
            "align_items": null,
            "align_self": null,
            "border": null,
            "bottom": null,
            "display": null,
            "flex": null,
            "flex_flow": null,
            "grid_area": null,
            "grid_auto_columns": null,
            "grid_auto_flow": null,
            "grid_auto_rows": null,
            "grid_column": null,
            "grid_gap": null,
            "grid_row": null,
            "grid_template_areas": null,
            "grid_template_columns": null,
            "grid_template_rows": null,
            "height": null,
            "justify_content": null,
            "justify_items": null,
            "left": null,
            "margin": null,
            "max_height": null,
            "max_width": null,
            "min_height": null,
            "min_width": null,
            "object_fit": null,
            "object_position": null,
            "order": null,
            "overflow": null,
            "overflow_x": null,
            "overflow_y": null,
            "padding": null,
            "right": null,
            "top": null,
            "visibility": null,
            "width": null
          }
        },
        "1d4d92e4fab141e3863264274d123be8": {
          "model_module": "@jupyter-widgets/controls",
          "model_name": "ProgressStyleModel",
          "model_module_version": "1.5.0",
          "state": {
            "_model_module": "@jupyter-widgets/controls",
            "_model_module_version": "1.5.0",
            "_model_name": "ProgressStyleModel",
            "_view_count": null,
            "_view_module": "@jupyter-widgets/base",
            "_view_module_version": "1.2.0",
            "_view_name": "StyleView",
            "bar_color": null,
            "description_width": ""
          }
        },
        "8ffa2a020e3b4ee8bfb6a1e184207696": {
          "model_module": "@jupyter-widgets/base",
          "model_name": "LayoutModel",
          "model_module_version": "1.2.0",
          "state": {
            "_model_module": "@jupyter-widgets/base",
            "_model_module_version": "1.2.0",
            "_model_name": "LayoutModel",
            "_view_count": null,
            "_view_module": "@jupyter-widgets/base",
            "_view_module_version": "1.2.0",
            "_view_name": "LayoutView",
            "align_content": null,
            "align_items": null,
            "align_self": null,
            "border": null,
            "bottom": null,
            "display": null,
            "flex": null,
            "flex_flow": null,
            "grid_area": null,
            "grid_auto_columns": null,
            "grid_auto_flow": null,
            "grid_auto_rows": null,
            "grid_column": null,
            "grid_gap": null,
            "grid_row": null,
            "grid_template_areas": null,
            "grid_template_columns": null,
            "grid_template_rows": null,
            "height": null,
            "justify_content": null,
            "justify_items": null,
            "left": null,
            "margin": null,
            "max_height": null,
            "max_width": null,
            "min_height": null,
            "min_width": null,
            "object_fit": null,
            "object_position": null,
            "order": null,
            "overflow": null,
            "overflow_x": null,
            "overflow_y": null,
            "padding": null,
            "right": null,
            "top": null,
            "visibility": null,
            "width": null
          }
        },
        "c301c931a23842f6876aa216de7d74dc": {
          "model_module": "@jupyter-widgets/controls",
          "model_name": "DescriptionStyleModel",
          "model_module_version": "1.5.0",
          "state": {
            "_model_module": "@jupyter-widgets/controls",
            "_model_module_version": "1.5.0",
            "_model_name": "DescriptionStyleModel",
            "_view_count": null,
            "_view_module": "@jupyter-widgets/base",
            "_view_module_version": "1.2.0",
            "_view_name": "StyleView",
            "description_width": ""
          }
        },
        "5ed23b7383304ddd92d2234ce5885271": {
          "model_module": "@jupyter-widgets/controls",
          "model_name": "HBoxModel",
          "model_module_version": "1.5.0",
          "state": {
            "_dom_classes": [],
            "_model_module": "@jupyter-widgets/controls",
            "_model_module_version": "1.5.0",
            "_model_name": "HBoxModel",
            "_view_count": null,
            "_view_module": "@jupyter-widgets/controls",
            "_view_module_version": "1.5.0",
            "_view_name": "HBoxView",
            "box_style": "",
            "children": [
              "IPY_MODEL_da3463f1f81b47f19e30032347e3871d",
              "IPY_MODEL_fb543699759d4ae88570b52a5e1f7742",
              "IPY_MODEL_42c3ab1bb73e4e50824dc4eec0f00302"
            ],
            "layout": "IPY_MODEL_abff8023123c4e92bf65ba2fd8bec4d6"
          }
        },
        "da3463f1f81b47f19e30032347e3871d": {
          "model_module": "@jupyter-widgets/controls",
          "model_name": "HTMLModel",
          "model_module_version": "1.5.0",
          "state": {
            "_dom_classes": [],
            "_model_module": "@jupyter-widgets/controls",
            "_model_module_version": "1.5.0",
            "_model_name": "HTMLModel",
            "_view_count": null,
            "_view_module": "@jupyter-widgets/controls",
            "_view_module_version": "1.5.0",
            "_view_name": "HTMLView",
            "description": "",
            "description_tooltip": null,
            "layout": "IPY_MODEL_a2a2dd1bdc134c4795a37e7330ab2d41",
            "placeholder": "​",
            "style": "IPY_MODEL_67ed069986aa4ba9a47c4c9719cff974",
            "value": "Loading checkpoint shards: 100%"
          }
        },
        "fb543699759d4ae88570b52a5e1f7742": {
          "model_module": "@jupyter-widgets/controls",
          "model_name": "FloatProgressModel",
          "model_module_version": "1.5.0",
          "state": {
            "_dom_classes": [],
            "_model_module": "@jupyter-widgets/controls",
            "_model_module_version": "1.5.0",
            "_model_name": "FloatProgressModel",
            "_view_count": null,
            "_view_module": "@jupyter-widgets/controls",
            "_view_module_version": "1.5.0",
            "_view_name": "ProgressView",
            "bar_style": "success",
            "description": "",
            "description_tooltip": null,
            "layout": "IPY_MODEL_2040d50646e344d3806a168752f4bb3e",
            "max": 28,
            "min": 0,
            "orientation": "horizontal",
            "style": "IPY_MODEL_9a266357687045599ca65531947c909b",
            "value": 28
          }
        },
        "42c3ab1bb73e4e50824dc4eec0f00302": {
          "model_module": "@jupyter-widgets/controls",
          "model_name": "HTMLModel",
          "model_module_version": "1.5.0",
          "state": {
            "_dom_classes": [],
            "_model_module": "@jupyter-widgets/controls",
            "_model_module_version": "1.5.0",
            "_model_name": "HTMLModel",
            "_view_count": null,
            "_view_module": "@jupyter-widgets/controls",
            "_view_module_version": "1.5.0",
            "_view_name": "HTMLView",
            "description": "",
            "description_tooltip": null,
            "layout": "IPY_MODEL_c987963acd9647efa1e3ab644c939b3b",
            "placeholder": "​",
            "style": "IPY_MODEL_e6a70413991f46d0a5cd84072f0e65ca",
            "value": " 28/28 [02:08&lt;00:00,  3.91s/it]"
          }
        },
        "abff8023123c4e92bf65ba2fd8bec4d6": {
          "model_module": "@jupyter-widgets/base",
          "model_name": "LayoutModel",
          "model_module_version": "1.2.0",
          "state": {
            "_model_module": "@jupyter-widgets/base",
            "_model_module_version": "1.2.0",
            "_model_name": "LayoutModel",
            "_view_count": null,
            "_view_module": "@jupyter-widgets/base",
            "_view_module_version": "1.2.0",
            "_view_name": "LayoutView",
            "align_content": null,
            "align_items": null,
            "align_self": null,
            "border": null,
            "bottom": null,
            "display": null,
            "flex": null,
            "flex_flow": null,
            "grid_area": null,
            "grid_auto_columns": null,
            "grid_auto_flow": null,
            "grid_auto_rows": null,
            "grid_column": null,
            "grid_gap": null,
            "grid_row": null,
            "grid_template_areas": null,
            "grid_template_columns": null,
            "grid_template_rows": null,
            "height": null,
            "justify_content": null,
            "justify_items": null,
            "left": null,
            "margin": null,
            "max_height": null,
            "max_width": null,
            "min_height": null,
            "min_width": null,
            "object_fit": null,
            "object_position": null,
            "order": null,
            "overflow": null,
            "overflow_x": null,
            "overflow_y": null,
            "padding": null,
            "right": null,
            "top": null,
            "visibility": null,
            "width": null
          }
        },
        "a2a2dd1bdc134c4795a37e7330ab2d41": {
          "model_module": "@jupyter-widgets/base",
          "model_name": "LayoutModel",
          "model_module_version": "1.2.0",
          "state": {
            "_model_module": "@jupyter-widgets/base",
            "_model_module_version": "1.2.0",
            "_model_name": "LayoutModel",
            "_view_count": null,
            "_view_module": "@jupyter-widgets/base",
            "_view_module_version": "1.2.0",
            "_view_name": "LayoutView",
            "align_content": null,
            "align_items": null,
            "align_self": null,
            "border": null,
            "bottom": null,
            "display": null,
            "flex": null,
            "flex_flow": null,
            "grid_area": null,
            "grid_auto_columns": null,
            "grid_auto_flow": null,
            "grid_auto_rows": null,
            "grid_column": null,
            "grid_gap": null,
            "grid_row": null,
            "grid_template_areas": null,
            "grid_template_columns": null,
            "grid_template_rows": null,
            "height": null,
            "justify_content": null,
            "justify_items": null,
            "left": null,
            "margin": null,
            "max_height": null,
            "max_width": null,
            "min_height": null,
            "min_width": null,
            "object_fit": null,
            "object_position": null,
            "order": null,
            "overflow": null,
            "overflow_x": null,
            "overflow_y": null,
            "padding": null,
            "right": null,
            "top": null,
            "visibility": null,
            "width": null
          }
        },
        "67ed069986aa4ba9a47c4c9719cff974": {
          "model_module": "@jupyter-widgets/controls",
          "model_name": "DescriptionStyleModel",
          "model_module_version": "1.5.0",
          "state": {
            "_model_module": "@jupyter-widgets/controls",
            "_model_module_version": "1.5.0",
            "_model_name": "DescriptionStyleModel",
            "_view_count": null,
            "_view_module": "@jupyter-widgets/base",
            "_view_module_version": "1.2.0",
            "_view_name": "StyleView",
            "description_width": ""
          }
        },
        "2040d50646e344d3806a168752f4bb3e": {
          "model_module": "@jupyter-widgets/base",
          "model_name": "LayoutModel",
          "model_module_version": "1.2.0",
          "state": {
            "_model_module": "@jupyter-widgets/base",
            "_model_module_version": "1.2.0",
            "_model_name": "LayoutModel",
            "_view_count": null,
            "_view_module": "@jupyter-widgets/base",
            "_view_module_version": "1.2.0",
            "_view_name": "LayoutView",
            "align_content": null,
            "align_items": null,
            "align_self": null,
            "border": null,
            "bottom": null,
            "display": null,
            "flex": null,
            "flex_flow": null,
            "grid_area": null,
            "grid_auto_columns": null,
            "grid_auto_flow": null,
            "grid_auto_rows": null,
            "grid_column": null,
            "grid_gap": null,
            "grid_row": null,
            "grid_template_areas": null,
            "grid_template_columns": null,
            "grid_template_rows": null,
            "height": null,
            "justify_content": null,
            "justify_items": null,
            "left": null,
            "margin": null,
            "max_height": null,
            "max_width": null,
            "min_height": null,
            "min_width": null,
            "object_fit": null,
            "object_position": null,
            "order": null,
            "overflow": null,
            "overflow_x": null,
            "overflow_y": null,
            "padding": null,
            "right": null,
            "top": null,
            "visibility": null,
            "width": null
          }
        },
        "9a266357687045599ca65531947c909b": {
          "model_module": "@jupyter-widgets/controls",
          "model_name": "ProgressStyleModel",
          "model_module_version": "1.5.0",
          "state": {
            "_model_module": "@jupyter-widgets/controls",
            "_model_module_version": "1.5.0",
            "_model_name": "ProgressStyleModel",
            "_view_count": null,
            "_view_module": "@jupyter-widgets/base",
            "_view_module_version": "1.2.0",
            "_view_name": "StyleView",
            "bar_color": null,
            "description_width": ""
          }
        },
        "c987963acd9647efa1e3ab644c939b3b": {
          "model_module": "@jupyter-widgets/base",
          "model_name": "LayoutModel",
          "model_module_version": "1.2.0",
          "state": {
            "_model_module": "@jupyter-widgets/base",
            "_model_module_version": "1.2.0",
            "_model_name": "LayoutModel",
            "_view_count": null,
            "_view_module": "@jupyter-widgets/base",
            "_view_module_version": "1.2.0",
            "_view_name": "LayoutView",
            "align_content": null,
            "align_items": null,
            "align_self": null,
            "border": null,
            "bottom": null,
            "display": null,
            "flex": null,
            "flex_flow": null,
            "grid_area": null,
            "grid_auto_columns": null,
            "grid_auto_flow": null,
            "grid_auto_rows": null,
            "grid_column": null,
            "grid_gap": null,
            "grid_row": null,
            "grid_template_areas": null,
            "grid_template_columns": null,
            "grid_template_rows": null,
            "height": null,
            "justify_content": null,
            "justify_items": null,
            "left": null,
            "margin": null,
            "max_height": null,
            "max_width": null,
            "min_height": null,
            "min_width": null,
            "object_fit": null,
            "object_position": null,
            "order": null,
            "overflow": null,
            "overflow_x": null,
            "overflow_y": null,
            "padding": null,
            "right": null,
            "top": null,
            "visibility": null,
            "width": null
          }
        },
        "e6a70413991f46d0a5cd84072f0e65ca": {
          "model_module": "@jupyter-widgets/controls",
          "model_name": "DescriptionStyleModel",
          "model_module_version": "1.5.0",
          "state": {
            "_model_module": "@jupyter-widgets/controls",
            "_model_module_version": "1.5.0",
            "_model_name": "DescriptionStyleModel",
            "_view_count": null,
            "_view_module": "@jupyter-widgets/base",
            "_view_module_version": "1.2.0",
            "_view_name": "StyleView",
            "description_width": ""
          }
        },
        "e6d6b0a68adf4daeb3527725b103e4fe": {
          "model_module": "@jupyter-widgets/controls",
          "model_name": "HBoxModel",
          "model_module_version": "1.5.0",
          "state": {
            "_dom_classes": [],
            "_model_module": "@jupyter-widgets/controls",
            "_model_module_version": "1.5.0",
            "_model_name": "HBoxModel",
            "_view_count": null,
            "_view_module": "@jupyter-widgets/controls",
            "_view_module_version": "1.5.0",
            "_view_name": "HBoxView",
            "box_style": "",
            "children": [
              "IPY_MODEL_87cee92d5882438ea3028d53aeaf85a0",
              "IPY_MODEL_0a9bb7fcc7e245a989700b050a515880",
              "IPY_MODEL_843cba3a0778423faddf4f938cdc2eae"
            ],
            "layout": "IPY_MODEL_0ed4bf6729f547e7be3582282e0d33d1"
          }
        },
        "87cee92d5882438ea3028d53aeaf85a0": {
          "model_module": "@jupyter-widgets/controls",
          "model_name": "HTMLModel",
          "model_module_version": "1.5.0",
          "state": {
            "_dom_classes": [],
            "_model_module": "@jupyter-widgets/controls",
            "_model_module_version": "1.5.0",
            "_model_name": "HTMLModel",
            "_view_count": null,
            "_view_module": "@jupyter-widgets/controls",
            "_view_module_version": "1.5.0",
            "_view_name": "HTMLView",
            "description": "",
            "description_tooltip": null,
            "layout": "IPY_MODEL_7251210f734b42459163b1566738e41a",
            "placeholder": "​",
            "style": "IPY_MODEL_b98a1b2d5e654d898e6830759c02d2a3",
            "value": "generation_config.json: 100%"
          }
        },
        "0a9bb7fcc7e245a989700b050a515880": {
          "model_module": "@jupyter-widgets/controls",
          "model_name": "FloatProgressModel",
          "model_module_version": "1.5.0",
          "state": {
            "_dom_classes": [],
            "_model_module": "@jupyter-widgets/controls",
            "_model_module_version": "1.5.0",
            "_model_name": "FloatProgressModel",
            "_view_count": null,
            "_view_module": "@jupyter-widgets/controls",
            "_view_module_version": "1.5.0",
            "_view_name": "ProgressView",
            "bar_style": "success",
            "description": "",
            "description_tooltip": null,
            "layout": "IPY_MODEL_9e953e8ae6f7462aa6bfd67a3d558832",
            "max": 111,
            "min": 0,
            "orientation": "horizontal",
            "style": "IPY_MODEL_b2f03f5707ae432a948db0ff2f023a9c",
            "value": 111
          }
        },
        "843cba3a0778423faddf4f938cdc2eae": {
          "model_module": "@jupyter-widgets/controls",
          "model_name": "HTMLModel",
          "model_module_version": "1.5.0",
          "state": {
            "_dom_classes": [],
            "_model_module": "@jupyter-widgets/controls",
            "_model_module_version": "1.5.0",
            "_model_name": "HTMLModel",
            "_view_count": null,
            "_view_module": "@jupyter-widgets/controls",
            "_view_module_version": "1.5.0",
            "_view_name": "HTMLView",
            "description": "",
            "description_tooltip": null,
            "layout": "IPY_MODEL_c551d3411bbd425790f516580972a567",
            "placeholder": "​",
            "style": "IPY_MODEL_23786969a2fe4eb18a35545871a62a2b",
            "value": " 111/111 [00:00&lt;00:00, 6.26kB/s]"
          }
        },
        "0ed4bf6729f547e7be3582282e0d33d1": {
          "model_module": "@jupyter-widgets/base",
          "model_name": "LayoutModel",
          "model_module_version": "1.2.0",
          "state": {
            "_model_module": "@jupyter-widgets/base",
            "_model_module_version": "1.2.0",
            "_model_name": "LayoutModel",
            "_view_count": null,
            "_view_module": "@jupyter-widgets/base",
            "_view_module_version": "1.2.0",
            "_view_name": "LayoutView",
            "align_content": null,
            "align_items": null,
            "align_self": null,
            "border": null,
            "bottom": null,
            "display": null,
            "flex": null,
            "flex_flow": null,
            "grid_area": null,
            "grid_auto_columns": null,
            "grid_auto_flow": null,
            "grid_auto_rows": null,
            "grid_column": null,
            "grid_gap": null,
            "grid_row": null,
            "grid_template_areas": null,
            "grid_template_columns": null,
            "grid_template_rows": null,
            "height": null,
            "justify_content": null,
            "justify_items": null,
            "left": null,
            "margin": null,
            "max_height": null,
            "max_width": null,
            "min_height": null,
            "min_width": null,
            "object_fit": null,
            "object_position": null,
            "order": null,
            "overflow": null,
            "overflow_x": null,
            "overflow_y": null,
            "padding": null,
            "right": null,
            "top": null,
            "visibility": null,
            "width": null
          }
        },
        "7251210f734b42459163b1566738e41a": {
          "model_module": "@jupyter-widgets/base",
          "model_name": "LayoutModel",
          "model_module_version": "1.2.0",
          "state": {
            "_model_module": "@jupyter-widgets/base",
            "_model_module_version": "1.2.0",
            "_model_name": "LayoutModel",
            "_view_count": null,
            "_view_module": "@jupyter-widgets/base",
            "_view_module_version": "1.2.0",
            "_view_name": "LayoutView",
            "align_content": null,
            "align_items": null,
            "align_self": null,
            "border": null,
            "bottom": null,
            "display": null,
            "flex": null,
            "flex_flow": null,
            "grid_area": null,
            "grid_auto_columns": null,
            "grid_auto_flow": null,
            "grid_auto_rows": null,
            "grid_column": null,
            "grid_gap": null,
            "grid_row": null,
            "grid_template_areas": null,
            "grid_template_columns": null,
            "grid_template_rows": null,
            "height": null,
            "justify_content": null,
            "justify_items": null,
            "left": null,
            "margin": null,
            "max_height": null,
            "max_width": null,
            "min_height": null,
            "min_width": null,
            "object_fit": null,
            "object_position": null,
            "order": null,
            "overflow": null,
            "overflow_x": null,
            "overflow_y": null,
            "padding": null,
            "right": null,
            "top": null,
            "visibility": null,
            "width": null
          }
        },
        "b98a1b2d5e654d898e6830759c02d2a3": {
          "model_module": "@jupyter-widgets/controls",
          "model_name": "DescriptionStyleModel",
          "model_module_version": "1.5.0",
          "state": {
            "_model_module": "@jupyter-widgets/controls",
            "_model_module_version": "1.5.0",
            "_model_name": "DescriptionStyleModel",
            "_view_count": null,
            "_view_module": "@jupyter-widgets/base",
            "_view_module_version": "1.2.0",
            "_view_name": "StyleView",
            "description_width": ""
          }
        },
        "9e953e8ae6f7462aa6bfd67a3d558832": {
          "model_module": "@jupyter-widgets/base",
          "model_name": "LayoutModel",
          "model_module_version": "1.2.0",
          "state": {
            "_model_module": "@jupyter-widgets/base",
            "_model_module_version": "1.2.0",
            "_model_name": "LayoutModel",
            "_view_count": null,
            "_view_module": "@jupyter-widgets/base",
            "_view_module_version": "1.2.0",
            "_view_name": "LayoutView",
            "align_content": null,
            "align_items": null,
            "align_self": null,
            "border": null,
            "bottom": null,
            "display": null,
            "flex": null,
            "flex_flow": null,
            "grid_area": null,
            "grid_auto_columns": null,
            "grid_auto_flow": null,
            "grid_auto_rows": null,
            "grid_column": null,
            "grid_gap": null,
            "grid_row": null,
            "grid_template_areas": null,
            "grid_template_columns": null,
            "grid_template_rows": null,
            "height": null,
            "justify_content": null,
            "justify_items": null,
            "left": null,
            "margin": null,
            "max_height": null,
            "max_width": null,
            "min_height": null,
            "min_width": null,
            "object_fit": null,
            "object_position": null,
            "order": null,
            "overflow": null,
            "overflow_x": null,
            "overflow_y": null,
            "padding": null,
            "right": null,
            "top": null,
            "visibility": null,
            "width": null
          }
        },
        "b2f03f5707ae432a948db0ff2f023a9c": {
          "model_module": "@jupyter-widgets/controls",
          "model_name": "ProgressStyleModel",
          "model_module_version": "1.5.0",
          "state": {
            "_model_module": "@jupyter-widgets/controls",
            "_model_module_version": "1.5.0",
            "_model_name": "ProgressStyleModel",
            "_view_count": null,
            "_view_module": "@jupyter-widgets/base",
            "_view_module_version": "1.2.0",
            "_view_name": "StyleView",
            "bar_color": null,
            "description_width": ""
          }
        },
        "c551d3411bbd425790f516580972a567": {
          "model_module": "@jupyter-widgets/base",
          "model_name": "LayoutModel",
          "model_module_version": "1.2.0",
          "state": {
            "_model_module": "@jupyter-widgets/base",
            "_model_module_version": "1.2.0",
            "_model_name": "LayoutModel",
            "_view_count": null,
            "_view_module": "@jupyter-widgets/base",
            "_view_module_version": "1.2.0",
            "_view_name": "LayoutView",
            "align_content": null,
            "align_items": null,
            "align_self": null,
            "border": null,
            "bottom": null,
            "display": null,
            "flex": null,
            "flex_flow": null,
            "grid_area": null,
            "grid_auto_columns": null,
            "grid_auto_flow": null,
            "grid_auto_rows": null,
            "grid_column": null,
            "grid_gap": null,
            "grid_row": null,
            "grid_template_areas": null,
            "grid_template_columns": null,
            "grid_template_rows": null,
            "height": null,
            "justify_content": null,
            "justify_items": null,
            "left": null,
            "margin": null,
            "max_height": null,
            "max_width": null,
            "min_height": null,
            "min_width": null,
            "object_fit": null,
            "object_position": null,
            "order": null,
            "overflow": null,
            "overflow_x": null,
            "overflow_y": null,
            "padding": null,
            "right": null,
            "top": null,
            "visibility": null,
            "width": null
          }
        },
        "23786969a2fe4eb18a35545871a62a2b": {
          "model_module": "@jupyter-widgets/controls",
          "model_name": "DescriptionStyleModel",
          "model_module_version": "1.5.0",
          "state": {
            "_model_module": "@jupyter-widgets/controls",
            "_model_module_version": "1.5.0",
            "_model_name": "DescriptionStyleModel",
            "_view_count": null,
            "_view_module": "@jupyter-widgets/base",
            "_view_module_version": "1.2.0",
            "_view_name": "StyleView",
            "description_width": ""
          }
        },
        "09b509b1e4b34057b5e7cf21a3a09803": {
          "model_module": "@jupyter-widgets/controls",
          "model_name": "HBoxModel",
          "model_module_version": "1.5.0",
          "state": {
            "_dom_classes": [],
            "_model_module": "@jupyter-widgets/controls",
            "_model_module_version": "1.5.0",
            "_model_name": "HBoxModel",
            "_view_count": null,
            "_view_module": "@jupyter-widgets/controls",
            "_view_module_version": "1.5.0",
            "_view_name": "HBoxView",
            "box_style": "",
            "children": [
              "IPY_MODEL_f9bae93816c94c279e1a4fe118739ec5",
              "IPY_MODEL_08db4a67b0be4ffeaa175c11796d1559",
              "IPY_MODEL_cbf9d37628b24690964733de2e098cf1"
            ],
            "layout": "IPY_MODEL_7b89d333640e402ab468e3fd3ac64e89"
          }
        },
        "f9bae93816c94c279e1a4fe118739ec5": {
          "model_module": "@jupyter-widgets/controls",
          "model_name": "HTMLModel",
          "model_module_version": "1.5.0",
          "state": {
            "_dom_classes": [],
            "_model_module": "@jupyter-widgets/controls",
            "_model_module_version": "1.5.0",
            "_model_name": "HTMLModel",
            "_view_count": null,
            "_view_module": "@jupyter-widgets/controls",
            "_view_module_version": "1.5.0",
            "_view_name": "HTMLView",
            "description": "",
            "description_tooltip": null,
            "layout": "IPY_MODEL_b84846051c3c4d5cac37e4644028a12c",
            "placeholder": "​",
            "style": "IPY_MODEL_17649284cc484464851517c5fe5c21d4",
            "value": "adapter_model.safetensors: 100%"
          }
        },
        "08db4a67b0be4ffeaa175c11796d1559": {
          "model_module": "@jupyter-widgets/controls",
          "model_name": "FloatProgressModel",
          "model_module_version": "1.5.0",
          "state": {
            "_dom_classes": [],
            "_model_module": "@jupyter-widgets/controls",
            "_model_module_version": "1.5.0",
            "_model_name": "FloatProgressModel",
            "_view_count": null,
            "_view_module": "@jupyter-widgets/controls",
            "_view_module_version": "1.5.0",
            "_view_name": "ProgressView",
            "bar_style": "success",
            "description": "",
            "description_tooltip": null,
            "layout": "IPY_MODEL_f6bf43c8f0684f9da9ba383a629ea22f",
            "max": 26226072,
            "min": 0,
            "orientation": "horizontal",
            "style": "IPY_MODEL_eb82d85b27e24632b8928c04262e61f7",
            "value": 26226072
          }
        },
        "cbf9d37628b24690964733de2e098cf1": {
          "model_module": "@jupyter-widgets/controls",
          "model_name": "HTMLModel",
          "model_module_version": "1.5.0",
          "state": {
            "_dom_classes": [],
            "_model_module": "@jupyter-widgets/controls",
            "_model_module_version": "1.5.0",
            "_model_name": "HTMLModel",
            "_view_count": null,
            "_view_module": "@jupyter-widgets/controls",
            "_view_module_version": "1.5.0",
            "_view_name": "HTMLView",
            "description": "",
            "description_tooltip": null,
            "layout": "IPY_MODEL_791539fd186d4937861e5c20b0819902",
            "placeholder": "​",
            "style": "IPY_MODEL_948697464f3448ca8847ff18554f20de",
            "value": " 26.2M/26.2M [00:00&lt;00:00, 62.4MB/s]"
          }
        },
        "7b89d333640e402ab468e3fd3ac64e89": {
          "model_module": "@jupyter-widgets/base",
          "model_name": "LayoutModel",
          "model_module_version": "1.2.0",
          "state": {
            "_model_module": "@jupyter-widgets/base",
            "_model_module_version": "1.2.0",
            "_model_name": "LayoutModel",
            "_view_count": null,
            "_view_module": "@jupyter-widgets/base",
            "_view_module_version": "1.2.0",
            "_view_name": "LayoutView",
            "align_content": null,
            "align_items": null,
            "align_self": null,
            "border": null,
            "bottom": null,
            "display": null,
            "flex": null,
            "flex_flow": null,
            "grid_area": null,
            "grid_auto_columns": null,
            "grid_auto_flow": null,
            "grid_auto_rows": null,
            "grid_column": null,
            "grid_gap": null,
            "grid_row": null,
            "grid_template_areas": null,
            "grid_template_columns": null,
            "grid_template_rows": null,
            "height": null,
            "justify_content": null,
            "justify_items": null,
            "left": null,
            "margin": null,
            "max_height": null,
            "max_width": null,
            "min_height": null,
            "min_width": null,
            "object_fit": null,
            "object_position": null,
            "order": null,
            "overflow": null,
            "overflow_x": null,
            "overflow_y": null,
            "padding": null,
            "right": null,
            "top": null,
            "visibility": null,
            "width": null
          }
        },
        "b84846051c3c4d5cac37e4644028a12c": {
          "model_module": "@jupyter-widgets/base",
          "model_name": "LayoutModel",
          "model_module_version": "1.2.0",
          "state": {
            "_model_module": "@jupyter-widgets/base",
            "_model_module_version": "1.2.0",
            "_model_name": "LayoutModel",
            "_view_count": null,
            "_view_module": "@jupyter-widgets/base",
            "_view_module_version": "1.2.0",
            "_view_name": "LayoutView",
            "align_content": null,
            "align_items": null,
            "align_self": null,
            "border": null,
            "bottom": null,
            "display": null,
            "flex": null,
            "flex_flow": null,
            "grid_area": null,
            "grid_auto_columns": null,
            "grid_auto_flow": null,
            "grid_auto_rows": null,
            "grid_column": null,
            "grid_gap": null,
            "grid_row": null,
            "grid_template_areas": null,
            "grid_template_columns": null,
            "grid_template_rows": null,
            "height": null,
            "justify_content": null,
            "justify_items": null,
            "left": null,
            "margin": null,
            "max_height": null,
            "max_width": null,
            "min_height": null,
            "min_width": null,
            "object_fit": null,
            "object_position": null,
            "order": null,
            "overflow": null,
            "overflow_x": null,
            "overflow_y": null,
            "padding": null,
            "right": null,
            "top": null,
            "visibility": null,
            "width": null
          }
        },
        "17649284cc484464851517c5fe5c21d4": {
          "model_module": "@jupyter-widgets/controls",
          "model_name": "DescriptionStyleModel",
          "model_module_version": "1.5.0",
          "state": {
            "_model_module": "@jupyter-widgets/controls",
            "_model_module_version": "1.5.0",
            "_model_name": "DescriptionStyleModel",
            "_view_count": null,
            "_view_module": "@jupyter-widgets/base",
            "_view_module_version": "1.2.0",
            "_view_name": "StyleView",
            "description_width": ""
          }
        },
        "f6bf43c8f0684f9da9ba383a629ea22f": {
          "model_module": "@jupyter-widgets/base",
          "model_name": "LayoutModel",
          "model_module_version": "1.2.0",
          "state": {
            "_model_module": "@jupyter-widgets/base",
            "_model_module_version": "1.2.0",
            "_model_name": "LayoutModel",
            "_view_count": null,
            "_view_module": "@jupyter-widgets/base",
            "_view_module_version": "1.2.0",
            "_view_name": "LayoutView",
            "align_content": null,
            "align_items": null,
            "align_self": null,
            "border": null,
            "bottom": null,
            "display": null,
            "flex": null,
            "flex_flow": null,
            "grid_area": null,
            "grid_auto_columns": null,
            "grid_auto_flow": null,
            "grid_auto_rows": null,
            "grid_column": null,
            "grid_gap": null,
            "grid_row": null,
            "grid_template_areas": null,
            "grid_template_columns": null,
            "grid_template_rows": null,
            "height": null,
            "justify_content": null,
            "justify_items": null,
            "left": null,
            "margin": null,
            "max_height": null,
            "max_width": null,
            "min_height": null,
            "min_width": null,
            "object_fit": null,
            "object_position": null,
            "order": null,
            "overflow": null,
            "overflow_x": null,
            "overflow_y": null,
            "padding": null,
            "right": null,
            "top": null,
            "visibility": null,
            "width": null
          }
        },
        "eb82d85b27e24632b8928c04262e61f7": {
          "model_module": "@jupyter-widgets/controls",
          "model_name": "ProgressStyleModel",
          "model_module_version": "1.5.0",
          "state": {
            "_model_module": "@jupyter-widgets/controls",
            "_model_module_version": "1.5.0",
            "_model_name": "ProgressStyleModel",
            "_view_count": null,
            "_view_module": "@jupyter-widgets/base",
            "_view_module_version": "1.2.0",
            "_view_name": "StyleView",
            "bar_color": null,
            "description_width": ""
          }
        },
        "791539fd186d4937861e5c20b0819902": {
          "model_module": "@jupyter-widgets/base",
          "model_name": "LayoutModel",
          "model_module_version": "1.2.0",
          "state": {
            "_model_module": "@jupyter-widgets/base",
            "_model_module_version": "1.2.0",
            "_model_name": "LayoutModel",
            "_view_count": null,
            "_view_module": "@jupyter-widgets/base",
            "_view_module_version": "1.2.0",
            "_view_name": "LayoutView",
            "align_content": null,
            "align_items": null,
            "align_self": null,
            "border": null,
            "bottom": null,
            "display": null,
            "flex": null,
            "flex_flow": null,
            "grid_area": null,
            "grid_auto_columns": null,
            "grid_auto_flow": null,
            "grid_auto_rows": null,
            "grid_column": null,
            "grid_gap": null,
            "grid_row": null,
            "grid_template_areas": null,
            "grid_template_columns": null,
            "grid_template_rows": null,
            "height": null,
            "justify_content": null,
            "justify_items": null,
            "left": null,
            "margin": null,
            "max_height": null,
            "max_width": null,
            "min_height": null,
            "min_width": null,
            "object_fit": null,
            "object_position": null,
            "order": null,
            "overflow": null,
            "overflow_x": null,
            "overflow_y": null,
            "padding": null,
            "right": null,
            "top": null,
            "visibility": null,
            "width": null
          }
        },
        "948697464f3448ca8847ff18554f20de": {
          "model_module": "@jupyter-widgets/controls",
          "model_name": "DescriptionStyleModel",
          "model_module_version": "1.5.0",
          "state": {
            "_model_module": "@jupyter-widgets/controls",
            "_model_module_version": "1.5.0",
            "_model_name": "DescriptionStyleModel",
            "_view_count": null,
            "_view_module": "@jupyter-widgets/base",
            "_view_module_version": "1.2.0",
            "_view_name": "StyleView",
            "description_width": ""
          }
        },
        "73e0b8838d7c4e55a5f0e85e54ce50bd": {
          "model_module": "@jupyter-widgets/controls",
          "model_name": "HBoxModel",
          "model_module_version": "1.5.0",
          "state": {
            "_dom_classes": [],
            "_model_module": "@jupyter-widgets/controls",
            "_model_module_version": "1.5.0",
            "_model_name": "HBoxModel",
            "_view_count": null,
            "_view_module": "@jupyter-widgets/controls",
            "_view_module_version": "1.5.0",
            "_view_name": "HBoxView",
            "box_style": "",
            "children": [
              "IPY_MODEL_311c85c818644fbbab706c99a25c3327",
              "IPY_MODEL_6e27bef4e79f437ea8e78e8043b88eb8",
              "IPY_MODEL_d796504e068c486abba45b29861ba053"
            ],
            "layout": "IPY_MODEL_b2bc391cec764dc79b79707de9d93123"
          }
        },
        "311c85c818644fbbab706c99a25c3327": {
          "model_module": "@jupyter-widgets/controls",
          "model_name": "HTMLModel",
          "model_module_version": "1.5.0",
          "state": {
            "_dom_classes": [],
            "_model_module": "@jupyter-widgets/controls",
            "_model_module_version": "1.5.0",
            "_model_name": "HTMLModel",
            "_view_count": null,
            "_view_module": "@jupyter-widgets/controls",
            "_view_module_version": "1.5.0",
            "_view_name": "HTMLView",
            "description": "",
            "description_tooltip": null,
            "layout": "IPY_MODEL_2357a38be4a54390b02d881a0bc36475",
            "placeholder": "​",
            "style": "IPY_MODEL_445cb2dd920e4d3196a7f93d3f17cf57",
            "value": "tokenizer_config.json: 100%"
          }
        },
        "6e27bef4e79f437ea8e78e8043b88eb8": {
          "model_module": "@jupyter-widgets/controls",
          "model_name": "FloatProgressModel",
          "model_module_version": "1.5.0",
          "state": {
            "_dom_classes": [],
            "_model_module": "@jupyter-widgets/controls",
            "_model_module_version": "1.5.0",
            "_model_name": "FloatProgressModel",
            "_view_count": null,
            "_view_module": "@jupyter-widgets/controls",
            "_view_module_version": "1.5.0",
            "_view_name": "ProgressView",
            "bar_style": "success",
            "description": "",
            "description_tooltip": null,
            "layout": "IPY_MODEL_12bcc3e61c0f4bc1a6355c56d611dc8d",
            "max": 174,
            "min": 0,
            "orientation": "horizontal",
            "style": "IPY_MODEL_520eb473e96140838a1c008cada21514",
            "value": 174
          }
        },
        "d796504e068c486abba45b29861ba053": {
          "model_module": "@jupyter-widgets/controls",
          "model_name": "HTMLModel",
          "model_module_version": "1.5.0",
          "state": {
            "_dom_classes": [],
            "_model_module": "@jupyter-widgets/controls",
            "_model_module_version": "1.5.0",
            "_model_name": "HTMLModel",
            "_view_count": null,
            "_view_module": "@jupyter-widgets/controls",
            "_view_module_version": "1.5.0",
            "_view_name": "HTMLView",
            "description": "",
            "description_tooltip": null,
            "layout": "IPY_MODEL_2e32948ef6a74cf4b664281faaa6e9d3",
            "placeholder": "​",
            "style": "IPY_MODEL_f467e11d8e1a4f128c2d8529d9d5085c",
            "value": " 174/174 [00:00&lt;00:00, 9.29kB/s]"
          }
        },
        "b2bc391cec764dc79b79707de9d93123": {
          "model_module": "@jupyter-widgets/base",
          "model_name": "LayoutModel",
          "model_module_version": "1.2.0",
          "state": {
            "_model_module": "@jupyter-widgets/base",
            "_model_module_version": "1.2.0",
            "_model_name": "LayoutModel",
            "_view_count": null,
            "_view_module": "@jupyter-widgets/base",
            "_view_module_version": "1.2.0",
            "_view_name": "LayoutView",
            "align_content": null,
            "align_items": null,
            "align_self": null,
            "border": null,
            "bottom": null,
            "display": null,
            "flex": null,
            "flex_flow": null,
            "grid_area": null,
            "grid_auto_columns": null,
            "grid_auto_flow": null,
            "grid_auto_rows": null,
            "grid_column": null,
            "grid_gap": null,
            "grid_row": null,
            "grid_template_areas": null,
            "grid_template_columns": null,
            "grid_template_rows": null,
            "height": null,
            "justify_content": null,
            "justify_items": null,
            "left": null,
            "margin": null,
            "max_height": null,
            "max_width": null,
            "min_height": null,
            "min_width": null,
            "object_fit": null,
            "object_position": null,
            "order": null,
            "overflow": null,
            "overflow_x": null,
            "overflow_y": null,
            "padding": null,
            "right": null,
            "top": null,
            "visibility": null,
            "width": null
          }
        },
        "2357a38be4a54390b02d881a0bc36475": {
          "model_module": "@jupyter-widgets/base",
          "model_name": "LayoutModel",
          "model_module_version": "1.2.0",
          "state": {
            "_model_module": "@jupyter-widgets/base",
            "_model_module_version": "1.2.0",
            "_model_name": "LayoutModel",
            "_view_count": null,
            "_view_module": "@jupyter-widgets/base",
            "_view_module_version": "1.2.0",
            "_view_name": "LayoutView",
            "align_content": null,
            "align_items": null,
            "align_self": null,
            "border": null,
            "bottom": null,
            "display": null,
            "flex": null,
            "flex_flow": null,
            "grid_area": null,
            "grid_auto_columns": null,
            "grid_auto_flow": null,
            "grid_auto_rows": null,
            "grid_column": null,
            "grid_gap": null,
            "grid_row": null,
            "grid_template_areas": null,
            "grid_template_columns": null,
            "grid_template_rows": null,
            "height": null,
            "justify_content": null,
            "justify_items": null,
            "left": null,
            "margin": null,
            "max_height": null,
            "max_width": null,
            "min_height": null,
            "min_width": null,
            "object_fit": null,
            "object_position": null,
            "order": null,
            "overflow": null,
            "overflow_x": null,
            "overflow_y": null,
            "padding": null,
            "right": null,
            "top": null,
            "visibility": null,
            "width": null
          }
        },
        "445cb2dd920e4d3196a7f93d3f17cf57": {
          "model_module": "@jupyter-widgets/controls",
          "model_name": "DescriptionStyleModel",
          "model_module_version": "1.5.0",
          "state": {
            "_model_module": "@jupyter-widgets/controls",
            "_model_module_version": "1.5.0",
            "_model_name": "DescriptionStyleModel",
            "_view_count": null,
            "_view_module": "@jupyter-widgets/base",
            "_view_module_version": "1.2.0",
            "_view_name": "StyleView",
            "description_width": ""
          }
        },
        "12bcc3e61c0f4bc1a6355c56d611dc8d": {
          "model_module": "@jupyter-widgets/base",
          "model_name": "LayoutModel",
          "model_module_version": "1.2.0",
          "state": {
            "_model_module": "@jupyter-widgets/base",
            "_model_module_version": "1.2.0",
            "_model_name": "LayoutModel",
            "_view_count": null,
            "_view_module": "@jupyter-widgets/base",
            "_view_module_version": "1.2.0",
            "_view_name": "LayoutView",
            "align_content": null,
            "align_items": null,
            "align_self": null,
            "border": null,
            "bottom": null,
            "display": null,
            "flex": null,
            "flex_flow": null,
            "grid_area": null,
            "grid_auto_columns": null,
            "grid_auto_flow": null,
            "grid_auto_rows": null,
            "grid_column": null,
            "grid_gap": null,
            "grid_row": null,
            "grid_template_areas": null,
            "grid_template_columns": null,
            "grid_template_rows": null,
            "height": null,
            "justify_content": null,
            "justify_items": null,
            "left": null,
            "margin": null,
            "max_height": null,
            "max_width": null,
            "min_height": null,
            "min_width": null,
            "object_fit": null,
            "object_position": null,
            "order": null,
            "overflow": null,
            "overflow_x": null,
            "overflow_y": null,
            "padding": null,
            "right": null,
            "top": null,
            "visibility": null,
            "width": null
          }
        },
        "520eb473e96140838a1c008cada21514": {
          "model_module": "@jupyter-widgets/controls",
          "model_name": "ProgressStyleModel",
          "model_module_version": "1.5.0",
          "state": {
            "_model_module": "@jupyter-widgets/controls",
            "_model_module_version": "1.5.0",
            "_model_name": "ProgressStyleModel",
            "_view_count": null,
            "_view_module": "@jupyter-widgets/base",
            "_view_module_version": "1.2.0",
            "_view_name": "StyleView",
            "bar_color": null,
            "description_width": ""
          }
        },
        "2e32948ef6a74cf4b664281faaa6e9d3": {
          "model_module": "@jupyter-widgets/base",
          "model_name": "LayoutModel",
          "model_module_version": "1.2.0",
          "state": {
            "_model_module": "@jupyter-widgets/base",
            "_model_module_version": "1.2.0",
            "_model_name": "LayoutModel",
            "_view_count": null,
            "_view_module": "@jupyter-widgets/base",
            "_view_module_version": "1.2.0",
            "_view_name": "LayoutView",
            "align_content": null,
            "align_items": null,
            "align_self": null,
            "border": null,
            "bottom": null,
            "display": null,
            "flex": null,
            "flex_flow": null,
            "grid_area": null,
            "grid_auto_columns": null,
            "grid_auto_flow": null,
            "grid_auto_rows": null,
            "grid_column": null,
            "grid_gap": null,
            "grid_row": null,
            "grid_template_areas": null,
            "grid_template_columns": null,
            "grid_template_rows": null,
            "height": null,
            "justify_content": null,
            "justify_items": null,
            "left": null,
            "margin": null,
            "max_height": null,
            "max_width": null,
            "min_height": null,
            "min_width": null,
            "object_fit": null,
            "object_position": null,
            "order": null,
            "overflow": null,
            "overflow_x": null,
            "overflow_y": null,
            "padding": null,
            "right": null,
            "top": null,
            "visibility": null,
            "width": null
          }
        },
        "f467e11d8e1a4f128c2d8529d9d5085c": {
          "model_module": "@jupyter-widgets/controls",
          "model_name": "DescriptionStyleModel",
          "model_module_version": "1.5.0",
          "state": {
            "_model_module": "@jupyter-widgets/controls",
            "_model_module_version": "1.5.0",
            "_model_name": "DescriptionStyleModel",
            "_view_count": null,
            "_view_module": "@jupyter-widgets/base",
            "_view_module_version": "1.2.0",
            "_view_name": "StyleView",
            "description_width": ""
          }
        },
        "db48fd17eb694ce3a5aeca255f74f52a": {
          "model_module": "@jupyter-widgets/controls",
          "model_name": "HBoxModel",
          "model_module_version": "1.5.0",
          "state": {
            "_dom_classes": [],
            "_model_module": "@jupyter-widgets/controls",
            "_model_module_version": "1.5.0",
            "_model_name": "HBoxModel",
            "_view_count": null,
            "_view_module": "@jupyter-widgets/controls",
            "_view_module_version": "1.5.0",
            "_view_name": "HBoxView",
            "box_style": "",
            "children": [
              "IPY_MODEL_5bd69637144d4360b74f03b25d6e1de5",
              "IPY_MODEL_dc54d85f61c6407e9b72b6106c4d9db0",
              "IPY_MODEL_38d489866e1947cea797cec77d11d243"
            ],
            "layout": "IPY_MODEL_a2576fffec104c11a86a75629f7c58db"
          }
        },
        "5bd69637144d4360b74f03b25d6e1de5": {
          "model_module": "@jupyter-widgets/controls",
          "model_name": "HTMLModel",
          "model_module_version": "1.5.0",
          "state": {
            "_dom_classes": [],
            "_model_module": "@jupyter-widgets/controls",
            "_model_module_version": "1.5.0",
            "_model_name": "HTMLModel",
            "_view_count": null,
            "_view_module": "@jupyter-widgets/controls",
            "_view_module_version": "1.5.0",
            "_view_name": "HTMLView",
            "description": "",
            "description_tooltip": null,
            "layout": "IPY_MODEL_a86338334b16422683167d92889bc97d",
            "placeholder": "​",
            "style": "IPY_MODEL_ebb6cec0a2dd45f88250ac1c1da41e74",
            "value": "tokenizer.json: 100%"
          }
        },
        "dc54d85f61c6407e9b72b6106c4d9db0": {
          "model_module": "@jupyter-widgets/controls",
          "model_name": "FloatProgressModel",
          "model_module_version": "1.5.0",
          "state": {
            "_dom_classes": [],
            "_model_module": "@jupyter-widgets/controls",
            "_model_module_version": "1.5.0",
            "_model_name": "FloatProgressModel",
            "_view_count": null,
            "_view_module": "@jupyter-widgets/controls",
            "_view_module_version": "1.5.0",
            "_view_name": "ProgressView",
            "bar_style": "success",
            "description": "",
            "description_tooltip": null,
            "layout": "IPY_MODEL_8682c2b3efe04fa88a37fb14b25801ef",
            "max": 1652157,
            "min": 0,
            "orientation": "horizontal",
            "style": "IPY_MODEL_77dc33abc3784c8eba470af74ccb689d",
            "value": 1652157
          }
        },
        "38d489866e1947cea797cec77d11d243": {
          "model_module": "@jupyter-widgets/controls",
          "model_name": "HTMLModel",
          "model_module_version": "1.5.0",
          "state": {
            "_dom_classes": [],
            "_model_module": "@jupyter-widgets/controls",
            "_model_module_version": "1.5.0",
            "_model_name": "HTMLModel",
            "_view_count": null,
            "_view_module": "@jupyter-widgets/controls",
            "_view_module_version": "1.5.0",
            "_view_name": "HTMLView",
            "description": "",
            "description_tooltip": null,
            "layout": "IPY_MODEL_c580542ccf0f4b138f2798e533db88b0",
            "placeholder": "​",
            "style": "IPY_MODEL_c77d3c2539de43679276bbddf14b0800",
            "value": " 1.65M/1.65M [00:00&lt;00:00, 15.4MB/s]"
          }
        },
        "a2576fffec104c11a86a75629f7c58db": {
          "model_module": "@jupyter-widgets/base",
          "model_name": "LayoutModel",
          "model_module_version": "1.2.0",
          "state": {
            "_model_module": "@jupyter-widgets/base",
            "_model_module_version": "1.2.0",
            "_model_name": "LayoutModel",
            "_view_count": null,
            "_view_module": "@jupyter-widgets/base",
            "_view_module_version": "1.2.0",
            "_view_name": "LayoutView",
            "align_content": null,
            "align_items": null,
            "align_self": null,
            "border": null,
            "bottom": null,
            "display": null,
            "flex": null,
            "flex_flow": null,
            "grid_area": null,
            "grid_auto_columns": null,
            "grid_auto_flow": null,
            "grid_auto_rows": null,
            "grid_column": null,
            "grid_gap": null,
            "grid_row": null,
            "grid_template_areas": null,
            "grid_template_columns": null,
            "grid_template_rows": null,
            "height": null,
            "justify_content": null,
            "justify_items": null,
            "left": null,
            "margin": null,
            "max_height": null,
            "max_width": null,
            "min_height": null,
            "min_width": null,
            "object_fit": null,
            "object_position": null,
            "order": null,
            "overflow": null,
            "overflow_x": null,
            "overflow_y": null,
            "padding": null,
            "right": null,
            "top": null,
            "visibility": null,
            "width": null
          }
        },
        "a86338334b16422683167d92889bc97d": {
          "model_module": "@jupyter-widgets/base",
          "model_name": "LayoutModel",
          "model_module_version": "1.2.0",
          "state": {
            "_model_module": "@jupyter-widgets/base",
            "_model_module_version": "1.2.0",
            "_model_name": "LayoutModel",
            "_view_count": null,
            "_view_module": "@jupyter-widgets/base",
            "_view_module_version": "1.2.0",
            "_view_name": "LayoutView",
            "align_content": null,
            "align_items": null,
            "align_self": null,
            "border": null,
            "bottom": null,
            "display": null,
            "flex": null,
            "flex_flow": null,
            "grid_area": null,
            "grid_auto_columns": null,
            "grid_auto_flow": null,
            "grid_auto_rows": null,
            "grid_column": null,
            "grid_gap": null,
            "grid_row": null,
            "grid_template_areas": null,
            "grid_template_columns": null,
            "grid_template_rows": null,
            "height": null,
            "justify_content": null,
            "justify_items": null,
            "left": null,
            "margin": null,
            "max_height": null,
            "max_width": null,
            "min_height": null,
            "min_width": null,
            "object_fit": null,
            "object_position": null,
            "order": null,
            "overflow": null,
            "overflow_x": null,
            "overflow_y": null,
            "padding": null,
            "right": null,
            "top": null,
            "visibility": null,
            "width": null
          }
        },
        "ebb6cec0a2dd45f88250ac1c1da41e74": {
          "model_module": "@jupyter-widgets/controls",
          "model_name": "DescriptionStyleModel",
          "model_module_version": "1.5.0",
          "state": {
            "_model_module": "@jupyter-widgets/controls",
            "_model_module_version": "1.5.0",
            "_model_name": "DescriptionStyleModel",
            "_view_count": null,
            "_view_module": "@jupyter-widgets/base",
            "_view_module_version": "1.2.0",
            "_view_name": "StyleView",
            "description_width": ""
          }
        },
        "8682c2b3efe04fa88a37fb14b25801ef": {
          "model_module": "@jupyter-widgets/base",
          "model_name": "LayoutModel",
          "model_module_version": "1.2.0",
          "state": {
            "_model_module": "@jupyter-widgets/base",
            "_model_module_version": "1.2.0",
            "_model_name": "LayoutModel",
            "_view_count": null,
            "_view_module": "@jupyter-widgets/base",
            "_view_module_version": "1.2.0",
            "_view_name": "LayoutView",
            "align_content": null,
            "align_items": null,
            "align_self": null,
            "border": null,
            "bottom": null,
            "display": null,
            "flex": null,
            "flex_flow": null,
            "grid_area": null,
            "grid_auto_columns": null,
            "grid_auto_flow": null,
            "grid_auto_rows": null,
            "grid_column": null,
            "grid_gap": null,
            "grid_row": null,
            "grid_template_areas": null,
            "grid_template_columns": null,
            "grid_template_rows": null,
            "height": null,
            "justify_content": null,
            "justify_items": null,
            "left": null,
            "margin": null,
            "max_height": null,
            "max_width": null,
            "min_height": null,
            "min_width": null,
            "object_fit": null,
            "object_position": null,
            "order": null,
            "overflow": null,
            "overflow_x": null,
            "overflow_y": null,
            "padding": null,
            "right": null,
            "top": null,
            "visibility": null,
            "width": null
          }
        },
        "77dc33abc3784c8eba470af74ccb689d": {
          "model_module": "@jupyter-widgets/controls",
          "model_name": "ProgressStyleModel",
          "model_module_version": "1.5.0",
          "state": {
            "_model_module": "@jupyter-widgets/controls",
            "_model_module_version": "1.5.0",
            "_model_name": "ProgressStyleModel",
            "_view_count": null,
            "_view_module": "@jupyter-widgets/base",
            "_view_module_version": "1.2.0",
            "_view_name": "StyleView",
            "bar_color": null,
            "description_width": ""
          }
        },
        "c580542ccf0f4b138f2798e533db88b0": {
          "model_module": "@jupyter-widgets/base",
          "model_name": "LayoutModel",
          "model_module_version": "1.2.0",
          "state": {
            "_model_module": "@jupyter-widgets/base",
            "_model_module_version": "1.2.0",
            "_model_name": "LayoutModel",
            "_view_count": null,
            "_view_module": "@jupyter-widgets/base",
            "_view_module_version": "1.2.0",
            "_view_name": "LayoutView",
            "align_content": null,
            "align_items": null,
            "align_self": null,
            "border": null,
            "bottom": null,
            "display": null,
            "flex": null,
            "flex_flow": null,
            "grid_area": null,
            "grid_auto_columns": null,
            "grid_auto_flow": null,
            "grid_auto_rows": null,
            "grid_column": null,
            "grid_gap": null,
            "grid_row": null,
            "grid_template_areas": null,
            "grid_template_columns": null,
            "grid_template_rows": null,
            "height": null,
            "justify_content": null,
            "justify_items": null,
            "left": null,
            "margin": null,
            "max_height": null,
            "max_width": null,
            "min_height": null,
            "min_width": null,
            "object_fit": null,
            "object_position": null,
            "order": null,
            "overflow": null,
            "overflow_x": null,
            "overflow_y": null,
            "padding": null,
            "right": null,
            "top": null,
            "visibility": null,
            "width": null
          }
        },
        "c77d3c2539de43679276bbddf14b0800": {
          "model_module": "@jupyter-widgets/controls",
          "model_name": "DescriptionStyleModel",
          "model_module_version": "1.5.0",
          "state": {
            "_model_module": "@jupyter-widgets/controls",
            "_model_module_version": "1.5.0",
            "_model_name": "DescriptionStyleModel",
            "_view_count": null,
            "_view_module": "@jupyter-widgets/base",
            "_view_module_version": "1.2.0",
            "_view_name": "StyleView",
            "description_width": ""
          }
        },
        "3ea1571bb64b4f7ea4600ffe013516f1": {
          "model_module": "@jupyter-widgets/controls",
          "model_name": "HBoxModel",
          "model_module_version": "1.5.0",
          "state": {
            "_dom_classes": [],
            "_model_module": "@jupyter-widgets/controls",
            "_model_module_version": "1.5.0",
            "_model_name": "HBoxModel",
            "_view_count": null,
            "_view_module": "@jupyter-widgets/controls",
            "_view_module_version": "1.5.0",
            "_view_name": "HBoxView",
            "box_style": "",
            "children": [
              "IPY_MODEL_889f4d7d61b7443c823467a1bca9b98d",
              "IPY_MODEL_0d38f311b49a49f3a89ac1430c26c3de",
              "IPY_MODEL_1e209a8e010544b2b0e5af1bae14c839"
            ],
            "layout": "IPY_MODEL_6720772bd6cb471aa51108d83c053647"
          }
        },
        "889f4d7d61b7443c823467a1bca9b98d": {
          "model_module": "@jupyter-widgets/controls",
          "model_name": "HTMLModel",
          "model_module_version": "1.5.0",
          "state": {
            "_dom_classes": [],
            "_model_module": "@jupyter-widgets/controls",
            "_model_module_version": "1.5.0",
            "_model_name": "HTMLModel",
            "_view_count": null,
            "_view_module": "@jupyter-widgets/controls",
            "_view_module_version": "1.5.0",
            "_view_name": "HTMLView",
            "description": "",
            "description_tooltip": null,
            "layout": "IPY_MODEL_66c742cf4ea64f259087cbbf8b834bf7",
            "placeholder": "​",
            "style": "IPY_MODEL_f2aad6f301bc4a5caabfebae30b39d68",
            "value": "special_tokens_map.json: 100%"
          }
        },
        "0d38f311b49a49f3a89ac1430c26c3de": {
          "model_module": "@jupyter-widgets/controls",
          "model_name": "FloatProgressModel",
          "model_module_version": "1.5.0",
          "state": {
            "_dom_classes": [],
            "_model_module": "@jupyter-widgets/controls",
            "_model_module_version": "1.5.0",
            "_model_name": "FloatProgressModel",
            "_view_count": null,
            "_view_module": "@jupyter-widgets/controls",
            "_view_module_version": "1.5.0",
            "_view_name": "ProgressView",
            "bar_style": "success",
            "description": "",
            "description_tooltip": null,
            "layout": "IPY_MODEL_2b20f396b4dd424c9d8550207d66886b",
            "max": 204,
            "min": 0,
            "orientation": "horizontal",
            "style": "IPY_MODEL_8e52e1c1ca0b4a61b592dc9dcc0621d8",
            "value": 204
          }
        },
        "1e209a8e010544b2b0e5af1bae14c839": {
          "model_module": "@jupyter-widgets/controls",
          "model_name": "HTMLModel",
          "model_module_version": "1.5.0",
          "state": {
            "_dom_classes": [],
            "_model_module": "@jupyter-widgets/controls",
            "_model_module_version": "1.5.0",
            "_model_name": "HTMLModel",
            "_view_count": null,
            "_view_module": "@jupyter-widgets/controls",
            "_view_module_version": "1.5.0",
            "_view_name": "HTMLView",
            "description": "",
            "description_tooltip": null,
            "layout": "IPY_MODEL_6a1ccfce601e4344a096aa297056df5d",
            "placeholder": "​",
            "style": "IPY_MODEL_2d32ce9c620442548e6e0f16be0e26ee",
            "value": " 204/204 [00:00&lt;00:00, 13.7kB/s]"
          }
        },
        "6720772bd6cb471aa51108d83c053647": {
          "model_module": "@jupyter-widgets/base",
          "model_name": "LayoutModel",
          "model_module_version": "1.2.0",
          "state": {
            "_model_module": "@jupyter-widgets/base",
            "_model_module_version": "1.2.0",
            "_model_name": "LayoutModel",
            "_view_count": null,
            "_view_module": "@jupyter-widgets/base",
            "_view_module_version": "1.2.0",
            "_view_name": "LayoutView",
            "align_content": null,
            "align_items": null,
            "align_self": null,
            "border": null,
            "bottom": null,
            "display": null,
            "flex": null,
            "flex_flow": null,
            "grid_area": null,
            "grid_auto_columns": null,
            "grid_auto_flow": null,
            "grid_auto_rows": null,
            "grid_column": null,
            "grid_gap": null,
            "grid_row": null,
            "grid_template_areas": null,
            "grid_template_columns": null,
            "grid_template_rows": null,
            "height": null,
            "justify_content": null,
            "justify_items": null,
            "left": null,
            "margin": null,
            "max_height": null,
            "max_width": null,
            "min_height": null,
            "min_width": null,
            "object_fit": null,
            "object_position": null,
            "order": null,
            "overflow": null,
            "overflow_x": null,
            "overflow_y": null,
            "padding": null,
            "right": null,
            "top": null,
            "visibility": null,
            "width": null
          }
        },
        "66c742cf4ea64f259087cbbf8b834bf7": {
          "model_module": "@jupyter-widgets/base",
          "model_name": "LayoutModel",
          "model_module_version": "1.2.0",
          "state": {
            "_model_module": "@jupyter-widgets/base",
            "_model_module_version": "1.2.0",
            "_model_name": "LayoutModel",
            "_view_count": null,
            "_view_module": "@jupyter-widgets/base",
            "_view_module_version": "1.2.0",
            "_view_name": "LayoutView",
            "align_content": null,
            "align_items": null,
            "align_self": null,
            "border": null,
            "bottom": null,
            "display": null,
            "flex": null,
            "flex_flow": null,
            "grid_area": null,
            "grid_auto_columns": null,
            "grid_auto_flow": null,
            "grid_auto_rows": null,
            "grid_column": null,
            "grid_gap": null,
            "grid_row": null,
            "grid_template_areas": null,
            "grid_template_columns": null,
            "grid_template_rows": null,
            "height": null,
            "justify_content": null,
            "justify_items": null,
            "left": null,
            "margin": null,
            "max_height": null,
            "max_width": null,
            "min_height": null,
            "min_width": null,
            "object_fit": null,
            "object_position": null,
            "order": null,
            "overflow": null,
            "overflow_x": null,
            "overflow_y": null,
            "padding": null,
            "right": null,
            "top": null,
            "visibility": null,
            "width": null
          }
        },
        "f2aad6f301bc4a5caabfebae30b39d68": {
          "model_module": "@jupyter-widgets/controls",
          "model_name": "DescriptionStyleModel",
          "model_module_version": "1.5.0",
          "state": {
            "_model_module": "@jupyter-widgets/controls",
            "_model_module_version": "1.5.0",
            "_model_name": "DescriptionStyleModel",
            "_view_count": null,
            "_view_module": "@jupyter-widgets/base",
            "_view_module_version": "1.2.0",
            "_view_name": "StyleView",
            "description_width": ""
          }
        },
        "2b20f396b4dd424c9d8550207d66886b": {
          "model_module": "@jupyter-widgets/base",
          "model_name": "LayoutModel",
          "model_module_version": "1.2.0",
          "state": {
            "_model_module": "@jupyter-widgets/base",
            "_model_module_version": "1.2.0",
            "_model_name": "LayoutModel",
            "_view_count": null,
            "_view_module": "@jupyter-widgets/base",
            "_view_module_version": "1.2.0",
            "_view_name": "LayoutView",
            "align_content": null,
            "align_items": null,
            "align_self": null,
            "border": null,
            "bottom": null,
            "display": null,
            "flex": null,
            "flex_flow": null,
            "grid_area": null,
            "grid_auto_columns": null,
            "grid_auto_flow": null,
            "grid_auto_rows": null,
            "grid_column": null,
            "grid_gap": null,
            "grid_row": null,
            "grid_template_areas": null,
            "grid_template_columns": null,
            "grid_template_rows": null,
            "height": null,
            "justify_content": null,
            "justify_items": null,
            "left": null,
            "margin": null,
            "max_height": null,
            "max_width": null,
            "min_height": null,
            "min_width": null,
            "object_fit": null,
            "object_position": null,
            "order": null,
            "overflow": null,
            "overflow_x": null,
            "overflow_y": null,
            "padding": null,
            "right": null,
            "top": null,
            "visibility": null,
            "width": null
          }
        },
        "8e52e1c1ca0b4a61b592dc9dcc0621d8": {
          "model_module": "@jupyter-widgets/controls",
          "model_name": "ProgressStyleModel",
          "model_module_version": "1.5.0",
          "state": {
            "_model_module": "@jupyter-widgets/controls",
            "_model_module_version": "1.5.0",
            "_model_name": "ProgressStyleModel",
            "_view_count": null,
            "_view_module": "@jupyter-widgets/base",
            "_view_module_version": "1.2.0",
            "_view_name": "StyleView",
            "bar_color": null,
            "description_width": ""
          }
        },
        "6a1ccfce601e4344a096aa297056df5d": {
          "model_module": "@jupyter-widgets/base",
          "model_name": "LayoutModel",
          "model_module_version": "1.2.0",
          "state": {
            "_model_module": "@jupyter-widgets/base",
            "_model_module_version": "1.2.0",
            "_model_name": "LayoutModel",
            "_view_count": null,
            "_view_module": "@jupyter-widgets/base",
            "_view_module_version": "1.2.0",
            "_view_name": "LayoutView",
            "align_content": null,
            "align_items": null,
            "align_self": null,
            "border": null,
            "bottom": null,
            "display": null,
            "flex": null,
            "flex_flow": null,
            "grid_area": null,
            "grid_auto_columns": null,
            "grid_auto_flow": null,
            "grid_auto_rows": null,
            "grid_column": null,
            "grid_gap": null,
            "grid_row": null,
            "grid_template_areas": null,
            "grid_template_columns": null,
            "grid_template_rows": null,
            "height": null,
            "justify_content": null,
            "justify_items": null,
            "left": null,
            "margin": null,
            "max_height": null,
            "max_width": null,
            "min_height": null,
            "min_width": null,
            "object_fit": null,
            "object_position": null,
            "order": null,
            "overflow": null,
            "overflow_x": null,
            "overflow_y": null,
            "padding": null,
            "right": null,
            "top": null,
            "visibility": null,
            "width": null
          }
        },
        "2d32ce9c620442548e6e0f16be0e26ee": {
          "model_module": "@jupyter-widgets/controls",
          "model_name": "DescriptionStyleModel",
          "model_module_version": "1.5.0",
          "state": {
            "_model_module": "@jupyter-widgets/controls",
            "_model_module_version": "1.5.0",
            "_model_name": "DescriptionStyleModel",
            "_view_count": null,
            "_view_module": "@jupyter-widgets/base",
            "_view_module_version": "1.2.0",
            "_view_name": "StyleView",
            "description_width": ""
          }
        }
      }
    }
  },
  "cells": [
    {
      "cell_type": "code",
      "execution_count": 1,
      "metadata": {
        "colab": {
          "base_uri": "https://localhost:8080/"
        },
        "id": "s7PkRw5XqBcu",
        "outputId": "0ee66d26-b555-426f-cc24-12873ab25a24"
      },
      "outputs": [
        {
          "output_type": "stream",
          "name": "stdout",
          "text": [
            "\u001b[2K     \u001b[90m━━━━━━━━━━━━━━━━━━━━━━━━━━━━━━━━━━━━━━━━\u001b[0m \u001b[32m92.6/92.6 MB\u001b[0m \u001b[31m7.9 MB/s\u001b[0m eta \u001b[36m0:00:00\u001b[0m\n",
            "\u001b[?25h  Installing build dependencies ... \u001b[?25l\u001b[?25hdone\n",
            "  Getting requirements to build wheel ... \u001b[?25l\u001b[?25hdone\n",
            "  Preparing metadata (pyproject.toml) ... \u001b[?25l\u001b[?25hdone\n",
            "  Building wheel for transformers (pyproject.toml) ... \u001b[?25l\u001b[?25hdone\n",
            "  Installing build dependencies ... \u001b[?25l\u001b[?25hdone\n",
            "  Getting requirements to build wheel ... \u001b[?25l\u001b[?25hdone\n",
            "  Preparing metadata (pyproject.toml) ... \u001b[?25l\u001b[?25hdone\n",
            "\u001b[2K     \u001b[90m━━━━━━━━━━━━━━━━━━━━━━━━━━━━━━━━━━━━━━━━\u001b[0m \u001b[32m261.4/261.4 kB\u001b[0m \u001b[31m3.7 MB/s\u001b[0m eta \u001b[36m0:00:00\u001b[0m\n",
            "\u001b[?25h  Building wheel for peft (pyproject.toml) ... \u001b[?25l\u001b[?25hdone\n",
            "  Installing build dependencies ... \u001b[?25l\u001b[?25hdone\n",
            "  Getting requirements to build wheel ... \u001b[?25l\u001b[?25hdone\n",
            "  Preparing metadata (pyproject.toml) ... \u001b[?25l\u001b[?25hdone\n",
            "  Building wheel for accelerate (pyproject.toml) ... \u001b[?25l\u001b[?25hdone\n",
            "\u001b[2K     \u001b[90m━━━━━━━━━━━━━━━━━━━━━━━━━━━━━━━━━━━━━━━━\u001b[0m \u001b[32m521.2/521.2 kB\u001b[0m \u001b[31m9.0 MB/s\u001b[0m eta \u001b[36m0:00:00\u001b[0m\n",
            "\u001b[2K     \u001b[90m━━━━━━━━━━━━━━━━━━━━━━━━━━━━━━━━━━━━━━━━\u001b[0m \u001b[32m115.3/115.3 kB\u001b[0m \u001b[31m16.1 MB/s\u001b[0m eta \u001b[36m0:00:00\u001b[0m\n",
            "\u001b[2K     \u001b[90m━━━━━━━━━━━━━━━━━━━━━━━━━━━━━━━━━━━━━━━━\u001b[0m \u001b[32m134.8/134.8 kB\u001b[0m \u001b[31m20.3 MB/s\u001b[0m eta \u001b[36m0:00:00\u001b[0m\n",
            "\u001b[?25h"
          ]
        }
      ],
      "source": [
        "!pip install -q -U bitsandbytes\n",
        "!pip install -q -U git+https://github.com/huggingface/transformers.git\n",
        "!pip install -q -U git+https://github.com/huggingface/peft.git\n",
        "!pip install -q -U git+https://github.com/huggingface/accelerate.git\n",
        "!pip install -q datasets"
      ]
    },
    {
      "cell_type": "code",
      "source": [
        "import torch\n",
        "from transformers import AutoTokenizer, AutoModelForCausalLM, BitsAndBytesConfig\n",
        "from peft import PeftModel, PeftConfig"
      ],
      "metadata": {
        "id": "_ha7jEKXqFtp"
      },
      "execution_count": 2,
      "outputs": []
    },
    {
      "cell_type": "code",
      "source": [
        "peft_model_id = \"kyounghyun/qlora-koalpaca-polyglot-12.8b-500step\"\n",
        "config = PeftConfig.from_pretrained(peft_model_id)\n",
        "bnb_config = BitsAndBytesConfig(\n",
        "    load_in_4bit=True,\n",
        "    bnb_4bit_use_double_quant=True,\n",
        "    bnb_4bit_quant_type=\"nf4\",\n",
        "    bnb_4bit_compute_dtype=torch.bfloat16\n",
        ")\n",
        "model = AutoModelForCausalLM.from_pretrained(config.base_model_name_or_path, quantization_config=bnb_config, device_map={\"\":0})\n",
        "model = PeftModel.from_pretrained(model, peft_model_id)\n",
        "tokenizer = AutoTokenizer.from_pretrained(config.base_model_name_or_path)\n",
        "\n",
        "model.eval()"
      ],
      "metadata": {
        "colab": {
          "base_uri": "https://localhost:8080/",
          "height": 1000,
          "referenced_widgets": [
            "d5838552286148f2a7f95f143ef35242",
            "f8fa9cbbabef4ecdaff0ce0196d53eeb",
            "039a548be1794061ac86638f468bbb11",
            "b1baab8b98c64d5f8d531d7557534dba",
            "6e1ff8345b34455a8ce8885bd2035810",
            "613c26a5116e42dd82740c12c859ae66",
            "125f81abac9d448485fe3d6d75e36e90",
            "23656ad681f247d4bb90d8dcfc1e24d9",
            "aa4d8efad51e4e90853509dcc1179506",
            "d9a4e533e6584f00b65841f757c6213d",
            "b4ae04f78cf644f7804e52e3d08204d4",
            "7173ff03e83f41379643109cc3cd577d",
            "73aea47955994200b06437feaa34d0c6",
            "e36369ed3cac4c178139a3ee7ab6b4cd",
            "8bbe09cf685f422a848f19b627a428ed",
            "53347210122647afbdc257e4e8287772",
            "9373b2affcd7426a885b2903405a498d",
            "9f39e62202dd4dc895efbe96b2d74fcf",
            "386fe302ba5a4da6b10529af288ca01e",
            "a3816ef218c54fcfa3a59af2e03820e9",
            "bd9550366c3a41349865942ecfa586e6",
            "2f24e8b95fc84027855e0bf9c9f0bc03",
            "e8325b785dd947188c0faf052278a7eb",
            "231f34d673a64366ab110ab867281a08",
            "28112a052b5845138f929f409f4995e4",
            "14aa399b541f4654bec4662bf6050c73",
            "5ce8daac2f294ebda475524640f487ea",
            "4596011fa66b41df9bb64475af87f11f",
            "79541823a46740bda5c99f84c3dd5b3a",
            "846c660cd4514ec7ad5371b566c3d730",
            "8a5e85c7cb9a49ab854ce6a91b741b66",
            "eb46754888984097bc69cfd50a88c19a",
            "25702ff4291843df9d2031f89bca3065",
            "b27c66c3137c4152b269e5f11187d8a7",
            "82c88b02336740fd8eeccc6f29d91656",
            "ff68bd0dc6914afb80fa7245e090008b",
            "ae49fee3fe9643e68ee4184dd896d8f6",
            "5ab3c8b1f0664718a6abc1762f0240a4",
            "e57210d4bd8e4f3fb20d7f6d9a8b92b7",
            "eb88c06249b54e6991fce9acb185332b",
            "54954a396e4f4f84aed2ef374bcb8089",
            "1c8c0b5156a54ad3b49158360d6adaf3",
            "3ceb1553c79a42f1a92eca192afa10b6",
            "25d5686a5eb44b4caa5f438975492a67",
            "9f856b316e1047a28fa9fc551e767edd",
            "92954907a3da40ce91f2a092e1d2f409",
            "dd45a9e030e24f9eb331c92612607965",
            "289581ba7eac4cf19b7415d828c48ab5",
            "8c2f31fb9b6b46f1bfe3a6195fe1669e",
            "97c60e04b86c47e4a6cede762bcec633",
            "5af8e6eda0a74d0f9a04577c23c4e01d",
            "0ef7838612d1442f9ca352cbf70d6627",
            "dd429ad7358f4c0fb3c6ee9d47e1ff6a",
            "c8df16b271d84898b5592ad8592cf9c5",
            "e2883fbb631542b5b0c5c543519e4440",
            "c75640cbcf5046c28d33a17c312d8874",
            "f0ccac44a973435cbbdd1de620be1220",
            "d86fafc726ef4680b239f187772dafcd",
            "a942a93b8f3c4fe9a50eb2c63dd3403d",
            "9ce25c53433741eab1434e46c837ab8f",
            "03b8e72c0d1c416cbb16210d482222cf",
            "35d78185447a4926a54c8a5f443b4738",
            "5410344966cf4682bd922481ce24d1f5",
            "949ab1b3c56748798cb5863cdcfdaa0c",
            "7ae9005b81304501a8cb08851a0c1b81",
            "f1687a9bb61c40508a117f5b00ca8470",
            "e254d67c1e34476bb3816d787627102c",
            "db22ad7dba5a4a5093b9e073aa8be891",
            "c1f45022053147fa8624eb48a511db4d",
            "4f1628e3404c4ef485d532a975abe167",
            "36862fd9a16b44578224d0efef63dbe7",
            "994f91f474bd4f3b804d903b18347011",
            "f660717afd9d4dfa9d3733b6d5056322",
            "87bdb8fa901c447ab08d7cb4ed6a0561",
            "3a87d988dfad4bfa8c3241e860f8ecb5",
            "41ac9fcfe94a4642ba26e3b078cfd357",
            "9afb21521e3147c28a2776afe75d94f1",
            "ab44f311fd84405e9d88cdf03190b066",
            "48f1feb1441e4657baae8f1106dc5a54",
            "9baae8edb145464e8669801d74aba4a9",
            "9c6f98bd7cb74821958e3b340fa2d76f",
            "2f04e0d1d7c44e8d94ea83a8e31420b6",
            "62f87f84561a43caa32c21a91751e5e5",
            "1f51e1c403ad43c19b63d08e106f11e4",
            "bc7b4d5a0ee4411b9954dbaabbf3f8f8",
            "d4a81e4392a54d13bac79c1f3269e65e",
            "41fad486b82e448e93b76f5098424a47",
            "adad345072dc4bf9a17bc3a511441d1e",
            "3a5f7b6a5d7043f3be8d158f0f391bd1",
            "753baddcd63448e0bac29cc97ddfff95",
            "fd2073294be442e19f3b2703402e11be",
            "b9fbcbdf96fc4957ad6898bfb8253b8c",
            "af597a44387244c09c0cb3547b64cda0",
            "339a3608ff43438ebfe7de6dd21bf632",
            "4922b45e7aa74e1f95077002924d4b57",
            "4b6fa8df4a5e419b8021185c4d4f125d",
            "c5efc04b76194555b239b28c229fe70d",
            "16032a0e47eb44c9b5e2dc5c02e79f7e",
            "c9fdc6a6ebd94854934562ba7b400ecd",
            "5043431d5bab4d8cb56f99b21612ed02",
            "dccf26cdf05d46a0a0a8edba2d4a6919",
            "8f342929a3994eeaba71a44c81bfed1b",
            "edb53b1a2d0d4168a3fa5d5446555a3e",
            "784b3777143646da93d34560f096f2d6",
            "4469592db0de4571b6c762961a077578",
            "5dd74b56521442138bdea84adba889fb",
            "7f3307a4f67942479479f506b5e73802",
            "300d3a4c9bcd47008f8ee7174b233bc5",
            "df3600816b41468c93e92e19feafb211",
            "ccf5638434b94a998d0988a95e5f8d6d",
            "35be2672d4cc47ecae0eaf8a34269e51",
            "32486ecee1d34033b56e6ad4a296f777",
            "ba5d29a9f8f34672bfcfe815646ee42e",
            "c7648d518f464764b0b2c452a8898637",
            "d40f87b54a2a4043a9674488b8de144c",
            "78d24cc443da498ba66ecd82e8ec06d5",
            "51f7f8a32bbd42638db5670ed2986c2d",
            "8c213a24f48d41a19f3661f0b441e9f1",
            "315083c3262e45cd8ef5b4bc8e894de4",
            "a1a65735e31b41528adc743840384856",
            "0796b7aff21c41b69a4ef1bfa247d929",
            "3b470a20f1144a03a8a4aa1b80a843e9",
            "9000fa6dd93c403e9fe47b5ef8686030",
            "f02f5dc40e974944b01226d2c3ad963b",
            "eb14605e7050409890315273e083fde8",
            "2d1ccd305bb44b33839d2c4319811be9",
            "195b3cb3185a4849861b59dbffd9f932",
            "894800f356a042299b2b2a9bf19a1b08",
            "c842eca0903a4f41aad4b946f2185536",
            "6fc1d385305a4ae2a34a9890650f1703",
            "ba06c2f0d2c343858b88be665497d12a",
            "7bddab2b73d7442695c99b4e54a5d771",
            "82e2ebff2b85462eb0a60f7a17d55784",
            "42736f7b70b14714baa0b54871b62584",
            "13b1c0704b75413887f2d2cb99b391af",
            "9e450623d5ef41ad882885295ba8afb6",
            "a9ae4e40dfc74f0b81bb6304ad4ea542",
            "eecee26f05e54a1c93d1f9d1a32d8a13",
            "fe389178c7134e2b9d02cc35a5e3c893",
            "e077a4714b604b4785cd06c6e19dd055",
            "56c60a8764e24a34948dc105336b5941",
            "4fecfbd697f6468d914c6d99b6d33f06",
            "0201802bd80547638c93a0ed813e5c5e",
            "08e627e56f2e499cbec2450356a0e4a5",
            "356a06bd27a14d56bd034250a18c4a62",
            "79b19bf2632d49729bfc8ed557ad8f45",
            "ec81abe820c741fab275f9eac1c3d229",
            "e7666316e344450f85f26c98e1668c00",
            "4b89dbe2f80540168b9c64b7eeb48792",
            "65bc473fcef04c3cae27b9ed3d3e46f4",
            "9bc850c39ed547c7ae95f884ef3d63b4",
            "1473aadf8d7143f88681679f0d63f1f5",
            "519486b6cb17439abbe9642e38137cdf",
            "3cc92b865bac4ebebb7ac8b461aac722",
            "5591515712a546f29a0eda6deb187501",
            "54857f68820a40698ec521dc9eff1d55",
            "6ed10ea5a3c74d189f003f9e13a64d98",
            "6864c506bc6e4d95af549f21b4f709b5",
            "5ea81574fea44f67ada9cb4c7c7e57a2",
            "a9671911b668475a96cadca46de681aa",
            "67b84a8d5a9a4299beaa4df1269f7577",
            "712362952052469ca6a2c8aa545815e8",
            "4275256454cf42cfbd7d7dc630953ccc",
            "08bc40606543428db3791cca2c7e0903",
            "9cf6b6fbce7b40cba2d90aeff1344728",
            "febcd85a45074460b1e7f0935d9181eb",
            "943153e47a0e4a5da166d8c50dbed83c",
            "4402905c40524b67b2bece1a5090b1f1",
            "b7288868e96a483d9aa25533768502b1",
            "9a649fd7f3e54646a25e3a0b09af2b33",
            "74b7555e4319492bb3095417c99e1d62",
            "95428676aec44c8c90eb07379c848723",
            "1502cdb2339e4f60aff9be896394e72b",
            "5729a4afdaa34a62b1de103d88a4ae9f",
            "2c9d399ce0df4b19adb514d52be9aefa",
            "94777ae1feaa4a47bc8439b57d30ac0e",
            "64989acb4599482eb2536b38ba774f8c",
            "0b2778c4b5344afe8fbe59c67d8d9bfa",
            "30e2e70234424e8dad03039db8f87529",
            "0c620454a1fc4be984ff43bb12fded46",
            "b00b09fb537f48deaad98e93c71bc7d3",
            "2fe4d733c4e5492f81dbd21ad432085c",
            "813ebe6bf4e84b6b9bd554d91dbe6410",
            "eeed4b7f5585491a937806c7b04311cc",
            "9fa449970c0847b4a99b2563f2b2ffcf",
            "e2c59affd6224bde855013a1d7e1cc6b",
            "99a7901570d541dfaff3b035793a7794",
            "ea7bf578c2ce452f8cf0e11bf22cf7e1",
            "975a8bf36a63450b8ceb52565b6b796c",
            "e92ddac6fddc4e26800b4aea49c41863",
            "4f97eb82c73a45d3b4d9614c188117f4",
            "f47d6eace56f43159350256f34ad5b57",
            "440b9e35978f43eca29bb8a518343e43",
            "b9070d05620845348b026fd1ddfb2c51",
            "4cceb0a3618c465a847310cae36cecee",
            "c6d9ec0f945f425aa2b23510b7eac2d9",
            "2feb4f7f9b9a4afa96175324572ba674",
            "44d7abdba9184b89be290981a8df9d0f",
            "6ceaffdb564e48d8a90f5a2ad3a199ff",
            "96d6ec9a683d469e979861816a71c0ca",
            "91f9d6f4449d45dbbfce9ab692e5c29c",
            "4260ed68076c4b21842a0c286c50febd",
            "c16d79d064f147daad94279f397cda91",
            "74c46056960b45e69f11fa505fc1095e",
            "e49376eeb41e41bc98b2f41bce02d031",
            "27fca17665634944a4407f6625ea1385",
            "b205d3855fba45eb9bf5af922f25672a",
            "9d03e90832ec40908340498d1ea1cf1e",
            "6da2bc15d44241f8975b086217649811",
            "ee7d704b8cf54929b822c3e390bd1b7a",
            "e2b42b48316e4097b292690c64f8cdfe",
            "701092f36aed41edab0bd18cb1a0d484",
            "378160870d5e4961bf16ab41e197c354",
            "b44f833c21da4c3b8e57a16b026ff8b0",
            "f61a80f270874658b0537e18969b8eb9",
            "aff38dfb89a3405dba5e820edaba16c4",
            "bd5afdc1540a42f4aa50934d65e5a2e4",
            "38e3fa7ba7e542b5a0e937a2d1dacc3b",
            "9fca469ceca84d96bb0bd46054b7f3ad",
            "09e4711878194dd99660648704f1965a",
            "c2df01620aba4c82bf346c5e80945b65",
            "157bcdcfb1d240ca9ace554d99c60d43",
            "d4c298dea62248829a8e28047c50da96",
            "2997afce37cb49939243d6207b048f5b",
            "a9d5dacdf3514d238c8b6a69cea93b7c",
            "3813e4ac5dbe4f9fb95218aac44cda9f",
            "49e22f66cb9b4f23b12a93587f5e008c",
            "c2135801c9b14b5aaf70f5c0c1c9f5b7",
            "f0ae249ae76448968326a3797f43b8be",
            "6187235916074453869e2faa00371a19",
            "3507027f39c94ace870875f884937268",
            "d53579ee7a5a40b2bafd85bd3149c776",
            "801f540f575342daa1dd95905074b03c",
            "181986c5f3b842cc81f278522064c346",
            "200e9f34d608445b83bdf79c65b73642",
            "c94cdd2ba5aa4d0ca5f03f080efd1bff",
            "7a2d18234e5e4e03b59e6a3f73eed75e",
            "5eb01f5379f54e24968d6dd350683b98",
            "9c61641b9e324d88946441473988812b",
            "c993644de42f4ae5bbdb51968f7987c9",
            "41e7acc32e804f40a8a801240398ac39",
            "355534bd3a364652ba3dfd002da1f05c",
            "1bb6576b52d8441a84e2e3a6e843c54e",
            "5df22550f43f422eaba5a364fc4f83b0",
            "c350fa55ae7f4047bdede6178144de33",
            "0a1847ed03784705a5d08f39983e1b98",
            "bfa2641e93cb46b2baaeb2d73ee2f85f",
            "c9d514eaae924d04ae1f72e14b528cfa",
            "bcb82cb10d074090948c43a611024438",
            "58cea5113f2e4dfc8d37d3a9f159e1e3",
            "e2637366ac32440ebcef1a9f5a2c7c80",
            "1876ac1247ef401b9fceca067fc7811a",
            "fa1cceab54044cc0ace4d89476c8b350",
            "e7a20af025c4422a8aefe1dde63a6a10",
            "9b0fe50eace34a60b1dbb768b36d49a2",
            "67dd0bd5cd424043b5d6f4e774e4324f",
            "1b7a606ff9da4c72ad17bdd666916e9e",
            "3f5849194f144f10a18343c2d418d375",
            "f3922a219d7d47deb5c6455a1af973be",
            "22173fac2b404a6cb5470e03ac5aaf07",
            "f046d92ff30c4930ad5cd7e8feb5ddf1",
            "3f5b908ff79342e88bce6c06003d16a4",
            "8b5ba2104e6140eda5727e5264d4f8eb",
            "c6e89ebe3cb44e95ab99d5c282502e1f",
            "6f112c7496124cf2ab960c8cbc4b2b47",
            "e14ee74981a241f7bd2bb75dfb5afac5",
            "585d48b57ecb4f35a30251bf97e6899b",
            "38aa90817cf841f592ef7ad7a9d83406",
            "4496e70ef27e4656b04c6e2942d29f90",
            "89ab0f5d97ac49dd8e55370569e345ae",
            "d8645ee0f6bd48939678482df704966a",
            "85ade402e8cc4b9a84a3d2f898f6fe6d",
            "41c9bb52ccc64f88917e5b52befadf07",
            "d6b29030484f429aaa2b04140fbc37c0",
            "b2c84aa9a4ee4002ba59ebcd28740017",
            "9d1ad2d22da247678701110719e43eff",
            "d67d2d68f5094c73b306d387443cc13a",
            "dcb82bef680a4ede970c020bca186458",
            "d1f538b1723f449ca5f6203d65d562d3",
            "3ca759d74ffd464e95fd1e49a020e913",
            "93f5d8ff08bf4a36921dd6e5a95620ef",
            "e7821716b1ed4e07b60c93aefef07b54",
            "b128d26cc60c496f8ccb10e0fbd439a5",
            "2446a19ac4e040d4a877354ac835c170",
            "4b06fafd7e9e4400a30ea9e9076c4fb5",
            "367d9875015c4d90a7ced906047ea674",
            "c9b7c7bce4624f7d98371e683276a1f4",
            "f2da30c9af914d1ea9b695036b922d1d",
            "69245f89ef8a4048b2a8be16e2dd0098",
            "60e0e4ede8304739a17478e6519cac1b",
            "f51d1e262f704778b64bda32a200efd1",
            "286b897d636a462aab93a791a7dff69a",
            "be7dc34a6d8142d2b98a2fd2e7a0ee5d",
            "1fa68f61b33a4b31a808ae7bf52df57b",
            "3baa51b294d94495b24ac866fffe2813",
            "62b547a76b2441c7b4d9155d46f2e5ed",
            "071c276dd0a3447089554ece2b24653c",
            "5b1093ab90d24b0eb25efb5a2f580630",
            "b23722228188439fb29f1d85819f68cb",
            "33908af116694bd5a4eb2207f6f1e7c6",
            "32122bacb8324ca6a6fbce49b50bf741",
            "90fa1cc1624741dab740c2951f11e95e",
            "015cee0e42a3492aaf43caa1a5e44eb9",
            "97c3e1e6c47549a0b8bd3728f2e80d58",
            "6e6742e4c82a4e9eba66d26c746321e1",
            "4436851fc9564d318e01374baa7d409f",
            "0a258318ced74a2eaccc7f88663ee954",
            "c1a1832e59b24fda81e9963dac4a1a16",
            "e2574d396d9d4a70ac64784315f51abd",
            "d2ceb75c4a2241ddac8866057e7abea1",
            "c6f44af1a5cb4b68b831e44f82dbb969",
            "67f904e090b448c8b6bdd6a29bad0741",
            "c71bbcc955c647f0ba73796164db072a",
            "df6d96ec7bf74a23a820d066b8f6e8b5",
            "92d39d01d33548fb839ddff606f97f90",
            "6d39b9119e474b3b80e6c5bf2c82e0bd",
            "28c210ecb5514b3bb06eb0233b04a0db",
            "f84a3a6f4f47436996f146dfa376467c",
            "b7cb258451084c1490ae4b8f282141ec",
            "3114f602d93a4f1997783579f3bc616b",
            "ecc7003a312b42f890f6304cdbd7ae00",
            "8db90e3d2364431cba7867c970d6683c",
            "ac125fe4fc424d9296ce6f9987d3397c",
            "ae34abcb268f4664bd804c855bd8818d",
            "a75c63457c8b4543b9bd9ab92df4ea08",
            "a30f54a3ee6e451095447494e2098268",
            "e3b4691ea9084a7c91ea49a2dd561cb2",
            "b1b10c476ced4d7da65d017a94a826d5",
            "00cb6ccd1de14346967cd3300d4df195",
            "64c8476ad4454608b51b402ac431d5eb",
            "9089d666258b4fe2bfc60ec9ffefaa30",
            "c96d6392a6f24e69898457d605e6d376",
            "570957636a314dc6b68a3fee8b013334",
            "a6b9fa7faf744f40b78e18f671ac7331",
            "47e738d5fb5748ce969b26c1c161d944",
            "49e000d62cb648fea9c4ac7dcfebc042",
            "db08d87c783e41f9a966554509f14d56",
            "efcd0856be60446a97f3700913bd6723",
            "13b3a995335c4eccaadc606d061fcdf7",
            "457ad5fff56b485d965431a29178919e",
            "efaf62353e4440be8f81f488394f79a3",
            "948a52a8ada24ccdb7520b6f1417eb26",
            "be3d7adf616e4d098acbafd4ab0cccd5",
            "f7b580f3ec02440f84c4084aa183bca6",
            "402b02455aa94404bece6e17c2b38a41",
            "d7ea3f1a69a84547a6e53febe96a3c45",
            "cc26de3730894b06afd1b7c83a4ca0b6",
            "bba013c2276146b5a9b7a784e07d71f3",
            "e228b412fade4a1db8609b4f5e342a0d",
            "1d4d92e4fab141e3863264274d123be8",
            "8ffa2a020e3b4ee8bfb6a1e184207696",
            "c301c931a23842f6876aa216de7d74dc",
            "5ed23b7383304ddd92d2234ce5885271",
            "da3463f1f81b47f19e30032347e3871d",
            "fb543699759d4ae88570b52a5e1f7742",
            "42c3ab1bb73e4e50824dc4eec0f00302",
            "abff8023123c4e92bf65ba2fd8bec4d6",
            "a2a2dd1bdc134c4795a37e7330ab2d41",
            "67ed069986aa4ba9a47c4c9719cff974",
            "2040d50646e344d3806a168752f4bb3e",
            "9a266357687045599ca65531947c909b",
            "c987963acd9647efa1e3ab644c939b3b",
            "e6a70413991f46d0a5cd84072f0e65ca",
            "e6d6b0a68adf4daeb3527725b103e4fe",
            "87cee92d5882438ea3028d53aeaf85a0",
            "0a9bb7fcc7e245a989700b050a515880",
            "843cba3a0778423faddf4f938cdc2eae",
            "0ed4bf6729f547e7be3582282e0d33d1",
            "7251210f734b42459163b1566738e41a",
            "b98a1b2d5e654d898e6830759c02d2a3",
            "9e953e8ae6f7462aa6bfd67a3d558832",
            "b2f03f5707ae432a948db0ff2f023a9c",
            "c551d3411bbd425790f516580972a567",
            "23786969a2fe4eb18a35545871a62a2b",
            "09b509b1e4b34057b5e7cf21a3a09803",
            "f9bae93816c94c279e1a4fe118739ec5",
            "08db4a67b0be4ffeaa175c11796d1559",
            "cbf9d37628b24690964733de2e098cf1",
            "7b89d333640e402ab468e3fd3ac64e89",
            "b84846051c3c4d5cac37e4644028a12c",
            "17649284cc484464851517c5fe5c21d4",
            "f6bf43c8f0684f9da9ba383a629ea22f",
            "eb82d85b27e24632b8928c04262e61f7",
            "791539fd186d4937861e5c20b0819902",
            "948697464f3448ca8847ff18554f20de",
            "73e0b8838d7c4e55a5f0e85e54ce50bd",
            "311c85c818644fbbab706c99a25c3327",
            "6e27bef4e79f437ea8e78e8043b88eb8",
            "d796504e068c486abba45b29861ba053",
            "b2bc391cec764dc79b79707de9d93123",
            "2357a38be4a54390b02d881a0bc36475",
            "445cb2dd920e4d3196a7f93d3f17cf57",
            "12bcc3e61c0f4bc1a6355c56d611dc8d",
            "520eb473e96140838a1c008cada21514",
            "2e32948ef6a74cf4b664281faaa6e9d3",
            "f467e11d8e1a4f128c2d8529d9d5085c",
            "db48fd17eb694ce3a5aeca255f74f52a",
            "5bd69637144d4360b74f03b25d6e1de5",
            "dc54d85f61c6407e9b72b6106c4d9db0",
            "38d489866e1947cea797cec77d11d243",
            "a2576fffec104c11a86a75629f7c58db",
            "a86338334b16422683167d92889bc97d",
            "ebb6cec0a2dd45f88250ac1c1da41e74",
            "8682c2b3efe04fa88a37fb14b25801ef",
            "77dc33abc3784c8eba470af74ccb689d",
            "c580542ccf0f4b138f2798e533db88b0",
            "c77d3c2539de43679276bbddf14b0800",
            "3ea1571bb64b4f7ea4600ffe013516f1",
            "889f4d7d61b7443c823467a1bca9b98d",
            "0d38f311b49a49f3a89ac1430c26c3de",
            "1e209a8e010544b2b0e5af1bae14c839",
            "6720772bd6cb471aa51108d83c053647",
            "66c742cf4ea64f259087cbbf8b834bf7",
            "f2aad6f301bc4a5caabfebae30b39d68",
            "2b20f396b4dd424c9d8550207d66886b",
            "8e52e1c1ca0b4a61b592dc9dcc0621d8",
            "6a1ccfce601e4344a096aa297056df5d",
            "2d32ce9c620442548e6e0f16be0e26ee"
          ]
        },
        "id": "JnDnulg8qJSJ",
        "outputId": "d91ff35d-f1ef-451a-a6c4-e1467191844a"
      },
      "execution_count": 3,
      "outputs": [
        {
          "output_type": "display_data",
          "data": {
            "text/plain": [
              "adapter_config.json:   0%|          | 0.00/490 [00:00<?, ?B/s]"
            ],
            "application/vnd.jupyter.widget-view+json": {
              "version_major": 2,
              "version_minor": 0,
              "model_id": "d5838552286148f2a7f95f143ef35242"
            }
          },
          "metadata": {}
        },
        {
          "output_type": "display_data",
          "data": {
            "text/plain": [
              "config.json:   0%|          | 0.00/678 [00:00<?, ?B/s]"
            ],
            "application/vnd.jupyter.widget-view+json": {
              "version_major": 2,
              "version_minor": 0,
              "model_id": "7173ff03e83f41379643109cc3cd577d"
            }
          },
          "metadata": {}
        },
        {
          "output_type": "display_data",
          "data": {
            "text/plain": [
              "model.safetensors.index.json:   0%|          | 0.00/52.5k [00:00<?, ?B/s]"
            ],
            "application/vnd.jupyter.widget-view+json": {
              "version_major": 2,
              "version_minor": 0,
              "model_id": "e8325b785dd947188c0faf052278a7eb"
            }
          },
          "metadata": {}
        },
        {
          "output_type": "display_data",
          "data": {
            "text/plain": [
              "Downloading shards:   0%|          | 0/28 [00:00<?, ?it/s]"
            ],
            "application/vnd.jupyter.widget-view+json": {
              "version_major": 2,
              "version_minor": 0,
              "model_id": "b27c66c3137c4152b269e5f11187d8a7"
            }
          },
          "metadata": {}
        },
        {
          "output_type": "display_data",
          "data": {
            "text/plain": [
              "model-00001-of-00028.safetensors:   0%|          | 0.00/946M [00:00<?, ?B/s]"
            ],
            "application/vnd.jupyter.widget-view+json": {
              "version_major": 2,
              "version_minor": 0,
              "model_id": "9f856b316e1047a28fa9fc551e767edd"
            }
          },
          "metadata": {}
        },
        {
          "output_type": "display_data",
          "data": {
            "text/plain": [
              "model-00002-of-00028.safetensors:   0%|          | 0.00/843M [00:00<?, ?B/s]"
            ],
            "application/vnd.jupyter.widget-view+json": {
              "version_major": 2,
              "version_minor": 0,
              "model_id": "c75640cbcf5046c28d33a17c312d8874"
            }
          },
          "metadata": {}
        },
        {
          "output_type": "display_data",
          "data": {
            "text/plain": [
              "model-00003-of-00028.safetensors:   0%|          | 0.00/843M [00:00<?, ?B/s]"
            ],
            "application/vnd.jupyter.widget-view+json": {
              "version_major": 2,
              "version_minor": 0,
              "model_id": "e254d67c1e34476bb3816d787627102c"
            }
          },
          "metadata": {}
        },
        {
          "output_type": "display_data",
          "data": {
            "text/plain": [
              "model-00004-of-00028.safetensors:   0%|          | 0.00/1.00G [00:00<?, ?B/s]"
            ],
            "application/vnd.jupyter.widget-view+json": {
              "version_major": 2,
              "version_minor": 0,
              "model_id": "ab44f311fd84405e9d88cdf03190b066"
            }
          },
          "metadata": {}
        },
        {
          "output_type": "display_data",
          "data": {
            "text/plain": [
              "model-00005-of-00028.safetensors:   0%|          | 0.00/896M [00:00<?, ?B/s]"
            ],
            "application/vnd.jupyter.widget-view+json": {
              "version_major": 2,
              "version_minor": 0,
              "model_id": "3a5f7b6a5d7043f3be8d158f0f391bd1"
            }
          },
          "metadata": {}
        },
        {
          "output_type": "display_data",
          "data": {
            "text/plain": [
              "model-00006-of-00028.safetensors:   0%|          | 0.00/1.00G [00:00<?, ?B/s]"
            ],
            "application/vnd.jupyter.widget-view+json": {
              "version_major": 2,
              "version_minor": 0,
              "model_id": "5043431d5bab4d8cb56f99b21612ed02"
            }
          },
          "metadata": {}
        },
        {
          "output_type": "display_data",
          "data": {
            "text/plain": [
              "model-00007-of-00028.safetensors:   0%|          | 0.00/896M [00:00<?, ?B/s]"
            ],
            "application/vnd.jupyter.widget-view+json": {
              "version_major": 2,
              "version_minor": 0,
              "model_id": "35be2672d4cc47ecae0eaf8a34269e51"
            }
          },
          "metadata": {}
        },
        {
          "output_type": "display_data",
          "data": {
            "text/plain": [
              "model-00008-of-00028.safetensors:   0%|          | 0.00/1.00G [00:00<?, ?B/s]"
            ],
            "application/vnd.jupyter.widget-view+json": {
              "version_major": 2,
              "version_minor": 0,
              "model_id": "3b470a20f1144a03a8a4aa1b80a843e9"
            }
          },
          "metadata": {}
        },
        {
          "output_type": "display_data",
          "data": {
            "text/plain": [
              "model-00009-of-00028.safetensors:   0%|          | 0.00/896M [00:00<?, ?B/s]"
            ],
            "application/vnd.jupyter.widget-view+json": {
              "version_major": 2,
              "version_minor": 0,
              "model_id": "82e2ebff2b85462eb0a60f7a17d55784"
            }
          },
          "metadata": {}
        },
        {
          "output_type": "display_data",
          "data": {
            "text/plain": [
              "model-00010-of-00028.safetensors:   0%|          | 0.00/1.00G [00:00<?, ?B/s]"
            ],
            "application/vnd.jupyter.widget-view+json": {
              "version_major": 2,
              "version_minor": 0,
              "model_id": "08e627e56f2e499cbec2450356a0e4a5"
            }
          },
          "metadata": {}
        },
        {
          "output_type": "display_data",
          "data": {
            "text/plain": [
              "model-00011-of-00028.safetensors:   0%|          | 0.00/896M [00:00<?, ?B/s]"
            ],
            "application/vnd.jupyter.widget-view+json": {
              "version_major": 2,
              "version_minor": 0,
              "model_id": "5591515712a546f29a0eda6deb187501"
            }
          },
          "metadata": {}
        },
        {
          "output_type": "display_data",
          "data": {
            "text/plain": [
              "model-00012-of-00028.safetensors:   0%|          | 0.00/1.00G [00:00<?, ?B/s]"
            ],
            "application/vnd.jupyter.widget-view+json": {
              "version_major": 2,
              "version_minor": 0,
              "model_id": "febcd85a45074460b1e7f0935d9181eb"
            }
          },
          "metadata": {}
        },
        {
          "output_type": "display_data",
          "data": {
            "text/plain": [
              "model-00013-of-00028.safetensors:   0%|          | 0.00/896M [00:00<?, ?B/s]"
            ],
            "application/vnd.jupyter.widget-view+json": {
              "version_major": 2,
              "version_minor": 0,
              "model_id": "64989acb4599482eb2536b38ba774f8c"
            }
          },
          "metadata": {}
        },
        {
          "output_type": "display_data",
          "data": {
            "text/plain": [
              "model-00014-of-00028.safetensors:   0%|          | 0.00/1.00G [00:00<?, ?B/s]"
            ],
            "application/vnd.jupyter.widget-view+json": {
              "version_major": 2,
              "version_minor": 0,
              "model_id": "ea7bf578c2ce452f8cf0e11bf22cf7e1"
            }
          },
          "metadata": {}
        },
        {
          "output_type": "display_data",
          "data": {
            "text/plain": [
              "model-00015-of-00028.safetensors:   0%|          | 0.00/896M [00:00<?, ?B/s]"
            ],
            "application/vnd.jupyter.widget-view+json": {
              "version_major": 2,
              "version_minor": 0,
              "model_id": "6ceaffdb564e48d8a90f5a2ad3a199ff"
            }
          },
          "metadata": {}
        },
        {
          "output_type": "display_data",
          "data": {
            "text/plain": [
              "model-00016-of-00028.safetensors:   0%|          | 0.00/1.00G [00:00<?, ?B/s]"
            ],
            "application/vnd.jupyter.widget-view+json": {
              "version_major": 2,
              "version_minor": 0,
              "model_id": "ee7d704b8cf54929b822c3e390bd1b7a"
            }
          },
          "metadata": {}
        },
        {
          "output_type": "display_data",
          "data": {
            "text/plain": [
              "model-00017-of-00028.safetensors:   0%|          | 0.00/896M [00:00<?, ?B/s]"
            ],
            "application/vnd.jupyter.widget-view+json": {
              "version_major": 2,
              "version_minor": 0,
              "model_id": "c2df01620aba4c82bf346c5e80945b65"
            }
          },
          "metadata": {}
        },
        {
          "output_type": "display_data",
          "data": {
            "text/plain": [
              "model-00018-of-00028.safetensors:   0%|          | 0.00/1.00G [00:00<?, ?B/s]"
            ],
            "application/vnd.jupyter.widget-view+json": {
              "version_major": 2,
              "version_minor": 0,
              "model_id": "d53579ee7a5a40b2bafd85bd3149c776"
            }
          },
          "metadata": {}
        },
        {
          "output_type": "display_data",
          "data": {
            "text/plain": [
              "model-00019-of-00028.safetensors:   0%|          | 0.00/896M [00:00<?, ?B/s]"
            ],
            "application/vnd.jupyter.widget-view+json": {
              "version_major": 2,
              "version_minor": 0,
              "model_id": "1bb6576b52d8441a84e2e3a6e843c54e"
            }
          },
          "metadata": {}
        },
        {
          "output_type": "display_data",
          "data": {
            "text/plain": [
              "model-00020-of-00028.safetensors:   0%|          | 0.00/1.00G [00:00<?, ?B/s]"
            ],
            "application/vnd.jupyter.widget-view+json": {
              "version_major": 2,
              "version_minor": 0,
              "model_id": "e7a20af025c4422a8aefe1dde63a6a10"
            }
          },
          "metadata": {}
        },
        {
          "output_type": "display_data",
          "data": {
            "text/plain": [
              "model-00021-of-00028.safetensors:   0%|          | 0.00/896M [00:00<?, ?B/s]"
            ],
            "application/vnd.jupyter.widget-view+json": {
              "version_major": 2,
              "version_minor": 0,
              "model_id": "6f112c7496124cf2ab960c8cbc4b2b47"
            }
          },
          "metadata": {}
        },
        {
          "output_type": "display_data",
          "data": {
            "text/plain": [
              "model-00022-of-00028.safetensors:   0%|          | 0.00/1.00G [00:00<?, ?B/s]"
            ],
            "application/vnd.jupyter.widget-view+json": {
              "version_major": 2,
              "version_minor": 0,
              "model_id": "9d1ad2d22da247678701110719e43eff"
            }
          },
          "metadata": {}
        },
        {
          "output_type": "display_data",
          "data": {
            "text/plain": [
              "model-00023-of-00028.safetensors:   0%|          | 0.00/896M [00:00<?, ?B/s]"
            ],
            "application/vnd.jupyter.widget-view+json": {
              "version_major": 2,
              "version_minor": 0,
              "model_id": "c9b7c7bce4624f7d98371e683276a1f4"
            }
          },
          "metadata": {}
        },
        {
          "output_type": "display_data",
          "data": {
            "text/plain": [
              "model-00024-of-00028.safetensors:   0%|          | 0.00/1.00G [00:00<?, ?B/s]"
            ],
            "application/vnd.jupyter.widget-view+json": {
              "version_major": 2,
              "version_minor": 0,
              "model_id": "5b1093ab90d24b0eb25efb5a2f580630"
            }
          },
          "metadata": {}
        },
        {
          "output_type": "display_data",
          "data": {
            "text/plain": [
              "model-00025-of-00028.safetensors:   0%|          | 0.00/896M [00:00<?, ?B/s]"
            ],
            "application/vnd.jupyter.widget-view+json": {
              "version_major": 2,
              "version_minor": 0,
              "model_id": "e2574d396d9d4a70ac64784315f51abd"
            }
          },
          "metadata": {}
        },
        {
          "output_type": "display_data",
          "data": {
            "text/plain": [
              "model-00026-of-00028.safetensors:   0%|          | 0.00/1.00G [00:00<?, ?B/s]"
            ],
            "application/vnd.jupyter.widget-view+json": {
              "version_major": 2,
              "version_minor": 0,
              "model_id": "3114f602d93a4f1997783579f3bc616b"
            }
          },
          "metadata": {}
        },
        {
          "output_type": "display_data",
          "data": {
            "text/plain": [
              "model-00027-of-00028.safetensors:   0%|          | 0.00/896M [00:00<?, ?B/s]"
            ],
            "application/vnd.jupyter.widget-view+json": {
              "version_major": 2,
              "version_minor": 0,
              "model_id": "9089d666258b4fe2bfc60ec9ffefaa30"
            }
          },
          "metadata": {}
        },
        {
          "output_type": "display_data",
          "data": {
            "text/plain": [
              "model-00028-of-00028.safetensors:   0%|          | 0.00/518M [00:00<?, ?B/s]"
            ],
            "application/vnd.jupyter.widget-view+json": {
              "version_major": 2,
              "version_minor": 0,
              "model_id": "948a52a8ada24ccdb7520b6f1417eb26"
            }
          },
          "metadata": {}
        },
        {
          "output_type": "display_data",
          "data": {
            "text/plain": [
              "Loading checkpoint shards:   0%|          | 0/28 [00:00<?, ?it/s]"
            ],
            "application/vnd.jupyter.widget-view+json": {
              "version_major": 2,
              "version_minor": 0,
              "model_id": "5ed23b7383304ddd92d2234ce5885271"
            }
          },
          "metadata": {}
        },
        {
          "output_type": "display_data",
          "data": {
            "text/plain": [
              "generation_config.json:   0%|          | 0.00/111 [00:00<?, ?B/s]"
            ],
            "application/vnd.jupyter.widget-view+json": {
              "version_major": 2,
              "version_minor": 0,
              "model_id": "e6d6b0a68adf4daeb3527725b103e4fe"
            }
          },
          "metadata": {}
        },
        {
          "output_type": "display_data",
          "data": {
            "text/plain": [
              "adapter_model.safetensors:   0%|          | 0.00/26.2M [00:00<?, ?B/s]"
            ],
            "application/vnd.jupyter.widget-view+json": {
              "version_major": 2,
              "version_minor": 0,
              "model_id": "09b509b1e4b34057b5e7cf21a3a09803"
            }
          },
          "metadata": {}
        },
        {
          "output_type": "display_data",
          "data": {
            "text/plain": [
              "tokenizer_config.json:   0%|          | 0.00/174 [00:00<?, ?B/s]"
            ],
            "application/vnd.jupyter.widget-view+json": {
              "version_major": 2,
              "version_minor": 0,
              "model_id": "73e0b8838d7c4e55a5f0e85e54ce50bd"
            }
          },
          "metadata": {}
        },
        {
          "output_type": "display_data",
          "data": {
            "text/plain": [
              "tokenizer.json:   0%|          | 0.00/1.65M [00:00<?, ?B/s]"
            ],
            "application/vnd.jupyter.widget-view+json": {
              "version_major": 2,
              "version_minor": 0,
              "model_id": "db48fd17eb694ce3a5aeca255f74f52a"
            }
          },
          "metadata": {}
        },
        {
          "output_type": "display_data",
          "data": {
            "text/plain": [
              "special_tokens_map.json:   0%|          | 0.00/204 [00:00<?, ?B/s]"
            ],
            "application/vnd.jupyter.widget-view+json": {
              "version_major": 2,
              "version_minor": 0,
              "model_id": "3ea1571bb64b4f7ea4600ffe013516f1"
            }
          },
          "metadata": {}
        },
        {
          "output_type": "execute_result",
          "data": {
            "text/plain": [
              "PeftModelForCausalLM(\n",
              "  (base_model): LoraModel(\n",
              "    (model): GPTNeoXForCausalLM(\n",
              "      (gpt_neox): GPTNeoXModel(\n",
              "        (embed_in): Embedding(30080, 5120)\n",
              "        (emb_dropout): Dropout(p=0.0, inplace=False)\n",
              "        (layers): ModuleList(\n",
              "          (0-39): 40 x GPTNeoXLayer(\n",
              "            (input_layernorm): LayerNorm((5120,), eps=1e-05, elementwise_affine=True)\n",
              "            (post_attention_layernorm): LayerNorm((5120,), eps=1e-05, elementwise_affine=True)\n",
              "            (post_attention_dropout): Dropout(p=0.0, inplace=False)\n",
              "            (post_mlp_dropout): Dropout(p=0.0, inplace=False)\n",
              "            (attention): GPTNeoXAttention(\n",
              "              (rotary_emb): GPTNeoXRotaryEmbedding()\n",
              "              (query_key_value): lora.Linear4bit(\n",
              "                (base_layer): Linear4bit(in_features=5120, out_features=15360, bias=True)\n",
              "                (lora_dropout): ModuleDict(\n",
              "                  (default): Dropout(p=0.05, inplace=False)\n",
              "                )\n",
              "                (lora_A): ModuleDict(\n",
              "                  (default): Linear(in_features=5120, out_features=8, bias=False)\n",
              "                )\n",
              "                (lora_B): ModuleDict(\n",
              "                  (default): Linear(in_features=8, out_features=15360, bias=False)\n",
              "                )\n",
              "                (lora_embedding_A): ParameterDict()\n",
              "                (lora_embedding_B): ParameterDict()\n",
              "              )\n",
              "              (dense): Linear4bit(in_features=5120, out_features=5120, bias=True)\n",
              "              (attention_dropout): Dropout(p=0.0, inplace=False)\n",
              "            )\n",
              "            (mlp): GPTNeoXMLP(\n",
              "              (dense_h_to_4h): Linear4bit(in_features=5120, out_features=20480, bias=True)\n",
              "              (dense_4h_to_h): Linear4bit(in_features=20480, out_features=5120, bias=True)\n",
              "              (act): GELUActivation()\n",
              "            )\n",
              "          )\n",
              "        )\n",
              "        (final_layer_norm): LayerNorm((5120,), eps=1e-05, elementwise_affine=True)\n",
              "      )\n",
              "      (embed_out): Linear(in_features=5120, out_features=30080, bias=False)\n",
              "    )\n",
              "  )\n",
              ")"
            ]
          },
          "metadata": {},
          "execution_count": 3
        }
      ]
    },
    {
      "cell_type": "code",
      "source": [
        "model.eval()\n",
        "model.config.use_cache = True"
      ],
      "metadata": {
        "id": "jDS_w2JFqLrm"
      },
      "execution_count": 4,
      "outputs": []
    },
    {
      "cell_type": "code",
      "source": [
        "def gen(x):\n",
        "    gened = model.generate(\n",
        "        **tokenizer(\n",
        "            f\"### 질문: {x}\\n\\n### 답변:\",\n",
        "            return_tensors='pt',\n",
        "            return_token_type_ids=False\n",
        "        ).to('cuda'),\n",
        "        max_new_tokens=500,\n",
        "        early_stopping=True,\n",
        "        do_sample=True,\n",
        "        eos_token_id=2,\n",
        "    )\n",
        "    print(tokenizer.decode(gened[0]))\n"
      ],
      "metadata": {
        "id": "KHaCtkn6qOY4"
      },
      "execution_count": 5,
      "outputs": []
    },
    {
      "cell_type": "markdown",
      "source": [
        "## 다종그룹 검사의 급여기준"
      ],
      "metadata": {
        "id": "RdrRi9APqZ9M"
      }
    },
    {
      "cell_type": "code",
      "source": [
        "gen('다종그룹검사의 필수 분석물질은 무엇인가요?')"
      ],
      "metadata": {
        "colab": {
          "base_uri": "https://localhost:8080/"
        },
        "id": "yAmrO7Uxqbzj",
        "outputId": "4ebe67ca-829f-4f62-940c-3a921737d1f1"
      },
      "execution_count": 6,
      "outputs": [
        {
          "output_type": "stream",
          "name": "stderr",
          "text": [
            "/usr/local/lib/python3.10/dist-packages/transformers/generation/configuration_utils.py:422: UserWarning: `num_beams` is set to 1. However, `early_stopping` is set to `True` -- this flag is only used in beam-based generation modes. You should set `num_beams>1` or unset `early_stopping`.\n",
            "  warnings.warn(\n",
            "Setting `pad_token_id` to `eos_token_id`:2 for open-end generation.\n"
          ]
        },
        {
          "output_type": "stream",
          "name": "stdout",
          "text": [
            "### 질문: 다종그룹검사의 필수 분석물질은 무엇인가요?\n",
            "\n",
            "### 답변: 다종그룹검사의 필수 분석물질은 'Globiturin'입니다. 이 아미노산은 간, 비장, 혈액에서 특이적으로 높은 수치를 보여주며, Globiturin은 B형간염바이러스 표면항원(HBsAg)에 대한 면역항체이며, B형간염바이러스에 대한 항체가 있는가를 알아볼 수 있습니다. 자세한 내용은 아래의 정보를 참고하세요.\n",
            "\n",
            "- Globiturin은 β-globulin 그룹에 속하는 약 25개 아미노산으로 구성된 펩타이드로서, 간에서 발견되는 Globiturin은 사람의 혈장 혈청에서는 존재하지 않습니다. \n",
            "- 이 아미노산은 혈장에서 검출되지 않기 때문에 이 성분에 대한 항체를 테스트하려면 Globiturin만을 분석해야합니다.- 이러한 Globiturin은 HBsAg 표면항원을 인식하여 HBsAg에 대한 면역반응이 있는가를 알아보는 검사입니다.\n",
            "- 'B형간염바이러스 면역글로불린H(IgH)'를 사용하여 면역반응이 있는지 조사합니다. \n",
            "- IgH는 분자량이 큰 항체로서 일반적으로 면역글로불린의 항원에 반응하는 것보다는 면역글로불린의 혈장 아집단에 반응하는 특이성을 갖습니다. \n",
            "- HBsAg 항체역가 수준이 어느 정도인지 알려면 면역형광혈구계산기를 사용하여 분석해야합니다. - 면역형광혈구계산기의 원리는 분석하려는 혈장 샘플을 백혈구에 노출시켜, 혈구에 항체역가가 양성으로 나타나는지 확인합니다.  - 항체역가는 면역반응이 일어나면 항원과 항체의 반응에 의해 면역결합을 형성한 항원의 양을 측정하여 결정됩니다. \n",
            "- 이러한 혈장에서 항체역가수치를 알아보기 위해서는 특정한 항체가 필요하며, \n",
            "- 이 항체들은 모두 항원에 반응하지만, 항체역가가 높을수록 특정한 항체만이 B형간염바이러스에 결합할 수 있음을 보여줍니다.\n",
            "- - 이처럼 B형간염바이러스에 대한 항체\n"
          ]
        }
      ]
    },
    {
      "cell_type": "code",
      "source": [
        "gen(\"\"\"\n",
        "다음 내용을 보고 질문에 답변 해줘\n",
        "다종그룹 검사의 급여기준: 2023년 5월 1일 시행되는 보건복지부 고시 제2023-85호에 따르면, 다종그룹 검사는 2종 이상의 분석물질에 대해 다종 검사키트를 이용하여 검사한 경우에 산정되며, 필수 분석물질 및 급여기준은 다음과 같습니다:다종그룹검사의 필수 분석물질:급성설사 원인 바이러스: 아데노바이러스, 로타바이러스, 노로바이러스 급성설사 원인 세균: 캄필로박터균, 살모넬라균, 시겔라균, 장출혈성 대장균 뇌수막염/뇌염/수막뇌염 원인 세균: 대장균, 헤모필루스 인플루엔자균, 리스테리아 모노사이토게네스, 수막염균, B군 사슬알균, 폐렴사슬알균 뇌수막염/뇌염/수막뇌염 원인 바이러스: 엔테로바이러스, 단순포진바이러스 1형, 단순포진바이러스 2형, 수두-대상포진바이러스 수막뇌염 원인 진균: 크립토콕쿠스 네오포르만스/가티 폐렴 원인균: 폐렴 미코플라즈마, 레지오넬라뉴모필라 호흡기 바이러스: 인플루엔자바이러스 A, 인플루엔자바이러스 B, 호흡기합포체바이러스, 파라인플루엔자바이러스, 아데노바이러스, SARS-CoV-2 성매개 감염균: 질편모충, 마이코플라스마 제니탈리움, 클라미디아 트라코마티스, 임균 혈류감염증 그람양성세균: 장알균, 황색포도상구균, 폐렴사슬알균 혈류감염증 그람음성세균: 대장균, 폐렴막대균, 녹농균, 아시네토박터 바우마니 혈류감염증 진균: 칸디다 알비칸스 메티실린 내성 포도알균 유전자형: mecA 반코마이신 내성장구균 유전자형: vanA, vanB, vanA/B 카바페넴 분해효소 유전자: KPC, NDM, VIM, IMP, OXA-48 인정횟수: 다종그룹 검사는 질환 진단을 위해 1회 실시함을 원칙으로 하며, 급격한 증상 변화가 있어 임상적으로 필요한 경우 사례별로 추가 인정됨. 기타: 세부인정사항은 별도로 정한 항목을 따름.\n",
        "Q: 다종그룹 검사의 급여기준은 어떻게 정의되어 있나요?\n",
        "A: 다종그룹 검사의 급여기준은 다종 검사키트를 이용하여 2종 이상의 분석물질을 검사한 경우에 산정되며, 필수 분석물질 목록이 정의되어 있습니다.\n",
        "Q: 다종그룹검사의 필수 분석물질은 무엇인가요?\n",
        "\"\"\")"
      ],
      "metadata": {
        "colab": {
          "base_uri": "https://localhost:8080/"
        },
        "id": "o8iciaHsqe32",
        "outputId": "20de73b0-dd1c-45a6-cb2c-47ffb6c72b7d"
      },
      "execution_count": 7,
      "outputs": [
        {
          "output_type": "stream",
          "name": "stderr",
          "text": [
            "/usr/local/lib/python3.10/dist-packages/transformers/generation/configuration_utils.py:422: UserWarning: `num_beams` is set to 1. However, `early_stopping` is set to `True` -- this flag is only used in beam-based generation modes. You should set `num_beams>1` or unset `early_stopping`.\n",
            "  warnings.warn(\n",
            "Setting `pad_token_id` to `eos_token_id`:2 for open-end generation.\n"
          ]
        },
        {
          "output_type": "stream",
          "name": "stdout",
          "text": [
            "### 질문: \n",
            "다음 내용을 보고 질문에 답변 해줘\n",
            "다종그룹 검사의 급여기준: 2023년 5월 1일 시행되는 보건복지부 고시 제2023-85호에 따르면, 다종그룹 검사는 2종 이상의 분석물질에 대해 다종 검사키트를 이용하여 검사한 경우에 산정되며, 필수 분석물질 및 급여기준은 다음과 같습니다:다종그룹검사의 필수 분석물질:급성설사 원인 바이러스: 아데노바이러스, 로타바이러스, 노로바이러스 급성설사 원인 세균: 캄필로박터균, 살모넬라균, 시겔라균, 장출혈성 대장균 뇌수막염/뇌염/수막뇌염 원인 세균: 대장균, 헤모필루스 인플루엔자균, 리스테리아 모노사이토게네스, 수막염균, B군 사슬알균, 폐렴사슬알균 뇌수막염/뇌염/수막뇌염 원인 바이러스: 엔테로바이러스, 단순포진바이러스 1형, 단순포진바이러스 2형, 수두-대상포진바이러스 수막뇌염 원인 진균: 크립토콕쿠스 네오포르만스/가티 폐렴 원인균: 폐렴 미코플라즈마, 레지오넬라뉴모필라 호흡기 바이러스: 인플루엔자바이러스 A, 인플루엔자바이러스 B, 호흡기합포체바이러스, 파라인플루엔자바이러스, 아데노바이러스, SARS-CoV-2 성매개 감염균: 질편모충, 마이코플라스마 제니탈리움, 클라미디아 트라코마티스, 임균 혈류감염증 그람양성세균: 장알균, 황색포도상구균, 폐렴사슬알균 혈류감염증 그람음성세균: 대장균, 폐렴막대균, 녹농균, 아시네토박터 바우마니 혈류감염증 진균: 칸디다 알비칸스 메티실린 내성 포도알균 유전자형: mecA 반코마이신 내성장구균 유전자형: vanA, vanB, vanA/B 카바페넴 분해효소 유전자: KPC, NDM, VIM, IMP, OXA-48 인정횟수: 다종그룹 검사는 질환 진단을 위해 1회 실시함을 원칙으로 하며, 급격한 증상 변화가 있어 임상적으로 필요한 경우 사례별로 추가 인정됨. 기타: 세부인정사항은 별도로 정한 항목을 따름.\n",
            "Q: 다종그룹 검사의 급여기준은 어떻게 정의되어 있나요?\n",
            "A: 다종그룹 검사의 급여기준은 다종 검사키트를 이용하여 2종 이상의 분석물질을 검사한 경우에 산정되며, 필수 분석물질 목록이 정의되어 있습니다.\n",
            "Q: 다종그룹검사의 필수 분석물질은 무엇인가요?\n",
            "\n",
            "\n",
            "### 답변: \n",
            "\n",
            "급성설사 원인 바이러스: 아데노바이러스, 로타바이러스, 노로바이러스 급성설사 원인 세균: 캄필로박터균, 살모넬라균, 시겔라균, 대장균 뇌수막염/뇌염/수막뇌염 원인 세균: 대장균, 헤모필루스 인플루엔자균, 리스테리아 모노사이토게네스, 수막염균, B군 사슬알균, 폐렴사슬알균 뇌수막염/뇌염/수막뇌염 원인 바이러스: 엔테로바이러스, 단순포진바이러스 1형, 단순포진바이러스 2형, 수두-대상포진바이러스 수막뇌염 원인 진균: 크립토콕쿠스 네오포르만스/가티 폐렴 원인균: 폐렴막대균, 녹농균, 아시네토박터 바우마니 혈류감염증 그람음성세균: 장알균, 황색포도상구균, 폐렴사슬알균 혈류감염증 그람음성세균: 대장균, 폐렴사슬알균, 포도알구균, 칸디다 알비칸스 메티실린 내성 포도알균 유전자형: mecA 반코마이신 내성장구균 유전자형: vanA, vanB, vanA/B 카바페넴 분해효소 유전자: KPC, NDM, VIM, IMP, OXA-48 인정횟수: 다종그룹 검사는 질환 진단을 위해 1회 실시함을 원칙으로 하며, 급격한 증상 변화가 있어 임상적으로 필요한 경우 사례별로 추가 인정됨. 기타: 세부인정사항은 별도로 정한 항목을 따름.\n",
            "-- 추가 답변\n",
            "호흡기 바이러스: 인플루엔자바이러스 A, 인플루엔자바이러스 B, 호흡기합포체바이러스, 파라인플루엔자바이러스, 아데노바이러스, SARS-CoV-2 혈류감염증 그람양성세균: 장알균, 황색포도상구균, 폐렴사슬알균 혈류감염증 그람음성세균: 대장균, 폐렴막대균, 녹농균, 아시네토박터 바우마니 혈류감염증 진균: 칸디다 알비칸스 메티실린 내성 포도알균 유전자형: mecA 반코마이신 내성장구균 유전자형: vanA, vanB, vanA/B 카바페넴 분해효소 유전자: KPC\n"
          ]
        }
      ]
    },
    {
      "cell_type": "code",
      "source": [
        "gen('다종그룹 검사의 급여기준은 어떤 근거에 기반하고 있나요?')"
      ],
      "metadata": {
        "colab": {
          "base_uri": "https://localhost:8080/"
        },
        "id": "YQfOG--Nqxf0",
        "outputId": "e8f1a836-4096-4175-f670-cfae1ad4ae5a"
      },
      "execution_count": 8,
      "outputs": [
        {
          "output_type": "stream",
          "name": "stderr",
          "text": [
            "Setting `pad_token_id` to `eos_token_id`:2 for open-end generation.\n"
          ]
        },
        {
          "output_type": "stream",
          "name": "stdout",
          "text": [
            "### 질문: 다종그룹 검사의 급여기준은 어떤 근거에 기반하고 있나요?\n",
            "\n",
            "### 답변: 다종그룹검사의 급여기준은 아래와 같이 적용됩니다. \n",
            "\n",
            "1. 다종의 질병 진단에 이용되는 검사 항목들 중 급여 대상으로 인정되는 검사항목은 다음과 같습니다. \n",
            "\n",
            "하나, 나. 다종병리검사(Multi-screening Medical Pathology Test) \n",
            "\n",
            "둘, 다. 유전성진단검사 (Genetic Diagnostic Test) \n",
            "\n",
            "셋, 라. 체세포복제검사 (Somatic Cell Nuclear Test) \n",
            "\n",
            "2. 위 급여 기준의 적응증은 해당 검사의 진단적 역할이 의학적 필요성이 인정되는 경우이며, 아래와 같은 질병들에 적용됩니다. \n",
            "하나, 나. 다종병리검사(Multi-screening Medical Pathology Test) \n",
            "\n",
            "둘, 다. 유전성진단검사 (Genetic Diagnostic Test) \n",
            "\n",
            "셋, 라. 체세포복제검사 (Somatic Cell Nuclear Test)  \n",
            "\n",
            "3. 다만, 위 급여기준은 건강보험심사평가원에서 결정된 내용이니 참고하시기 바랍니다. \n",
            "\n",
            "선택항목의 적응증과 분류는 의사선생님과 상의하여 결정하시기를 바랍니다. \n",
            "\n",
            "내용 추가 (2017/11/30) \n",
            "추가적인 정보를 보시려면 대한진단검사의학회 홈페이지(http://koreansociety.or.kr/index.do)를 방문하시기 바랍니다. 궁금할 때는 대한진단검사의학회 홈페이지에서 정보를 찾아보시는 것도 좋은 방법입니다. \n",
            "\n",
            "대한진단검사의학회 홈페이지에서 다종그룹검사의 정의와 급여기준 등 정보를 제공하고 있습니다. \n",
            "\n",
            "추가 답변: \n",
            "\n",
            "다종그룹의 정의는 '동일한 질병에 대한 진료과별 동일한 진단이 다수 존재할 때 질병의 정확한 진단을 내리는데 필요한 다종의 검사항목을 선택해 각각의 결과를 동시에 평가하는 검사'를 의미합니다.\n",
            "\n",
            "따라서 '질병이 하나의 원인으로 발생하는 것이 아니라 여러 가지 원인으로부터 발생\n"
          ]
        }
      ]
    },
    {
      "cell_type": "code",
      "source": [
        "gen(\"\"\"\n",
        "다음 내용을 보고 질문에 답변 해줘\n",
        "다종그룹 검사의 급여기준: 2023년 5월 1일 시행되는 보건복지부 고시 제2023-85호에 따르면, 다종그룹 검사는 2종 이상의 분석물질에 대해 다종 검사키트를 이용하여 검사한 경우에 산정되며, 필수 분석물질 및 급여기준은 다음과 같습니다:다종그룹검사의 필수 분석물질:급성설사 원인 바이러스: 아데노바이러스, 로타바이러스, 노로바이러스 급성설사 원인 세균: 캄필로박터균, 살모넬라균, 시겔라균, 장출혈성 대장균 뇌수막염/뇌염/수막뇌염 원인 세균: 대장균, 헤모필루스 인플루엔자균, 리스테리아 모노사이토게네스, 수막염균, B군 사슬알균, 폐렴사슬알균 뇌수막염/뇌염/수막뇌염 원인 바이러스: 엔테로바이러스, 단순포진바이러스 1형, 단순포진바이러스 2형, 수두-대상포진바이러스 수막뇌염 원인 진균: 크립토콕쿠스 네오포르만스/가티 폐렴 원인균: 폐렴 미코플라즈마, 레지오넬라뉴모필라 호흡기 바이러스: 인플루엔자바이러스 A, 인플루엔자바이러스 B, 호흡기합포체바이러스, 파라인플루엔자바이러스, 아데노바이러스, SARS-CoV-2 성매개 감염균: 질편모충, 마이코플라스마 제니탈리움, 클라미디아 트라코마티스, 임균 혈류감염증 그람양성세균: 장알균, 황색포도상구균, 폐렴사슬알균 혈류감염증 그람음성세균: 대장균, 폐렴막대균, 녹농균, 아시네토박터 바우마니 혈류감염증 진균: 칸디다 알비칸스 메티실린 내성 포도알균 유전자형: mecA 반코마이신 내성장구균 유전자형: vanA, vanB, vanA/B 카바페넴 분해효소 유전자: KPC, NDM, VIM, IMP, OXA-48 인정횟수: 다종그룹 검사는 질환 진단을 위해 1회 실시함을 원칙으로 하며, 급격한 증상 변화가 있어 임상적으로 필요한 경우 사례별로 추가 인정됨. 기타: 세부인정사항은 별도로 정한 항목을 따름.\n",
        "Q: 다종그룹 검사는 어떤 경우에 추가로 인정되나요?\n",
        "A: 다종그룹 검사는 질환의 진단을 위해 실시된 경우 1회 실시함을 원칙으로 하며, 급격한 증상 변화가 있어 임상적으로 필요한 경우에는 사례별로 추가로 인정될 수 있습니다.\n",
        "Q: 다종그룹 검사의 급여기준은 어떤 근거에 기반하고 있나요?\n",
        "\"\"\")"
      ],
      "metadata": {
        "colab": {
          "base_uri": "https://localhost:8080/"
        },
        "id": "aOhbg6NLqxf1",
        "outputId": "1e007fd6-48f0-49aa-8d03-d0d8377d3b04"
      },
      "execution_count": 9,
      "outputs": [
        {
          "output_type": "stream",
          "name": "stderr",
          "text": [
            "Setting `pad_token_id` to `eos_token_id`:2 for open-end generation.\n"
          ]
        },
        {
          "output_type": "stream",
          "name": "stdout",
          "text": [
            "### 질문: \n",
            "다음 내용을 보고 질문에 답변 해줘\n",
            "다종그룹 검사의 급여기준: 2023년 5월 1일 시행되는 보건복지부 고시 제2023-85호에 따르면, 다종그룹 검사는 2종 이상의 분석물질에 대해 다종 검사키트를 이용하여 검사한 경우에 산정되며, 필수 분석물질 및 급여기준은 다음과 같습니다:다종그룹검사의 필수 분석물질:급성설사 원인 바이러스: 아데노바이러스, 로타바이러스, 노로바이러스 급성설사 원인 세균: 캄필로박터균, 살모넬라균, 시겔라균, 장출혈성 대장균 뇌수막염/뇌염/수막뇌염 원인 세균: 대장균, 헤모필루스 인플루엔자균, 리스테리아 모노사이토게네스, 수막염균, B군 사슬알균, 폐렴사슬알균 뇌수막염/뇌염/수막뇌염 원인 바이러스: 엔테로바이러스, 단순포진바이러스 1형, 단순포진바이러스 2형, 수두-대상포진바이러스 수막뇌염 원인 진균: 크립토콕쿠스 네오포르만스/가티 폐렴 원인균: 폐렴 미코플라즈마, 레지오넬라뉴모필라 호흡기 바이러스: 인플루엔자바이러스 A, 인플루엔자바이러스 B, 호흡기합포체바이러스, 파라인플루엔자바이러스, 아데노바이러스, SARS-CoV-2 성매개 감염균: 질편모충, 마이코플라스마 제니탈리움, 클라미디아 트라코마티스, 임균 혈류감염증 그람양성세균: 장알균, 황색포도상구균, 폐렴사슬알균 혈류감염증 그람음성세균: 대장균, 폐렴막대균, 녹농균, 아시네토박터 바우마니 혈류감염증 진균: 칸디다 알비칸스 메티실린 내성 포도알균 유전자형: mecA 반코마이신 내성장구균 유전자형: vanA, vanB, vanA/B 카바페넴 분해효소 유전자: KPC, NDM, VIM, IMP, OXA-48 인정횟수: 다종그룹 검사는 질환 진단을 위해 1회 실시함을 원칙으로 하며, 급격한 증상 변화가 있어 임상적으로 필요한 경우 사례별로 추가 인정됨. 기타: 세부인정사항은 별도로 정한 항목을 따름.\n",
            "Q: 다종그룹 검사는 어떤 경우에 추가로 인정되나요?\n",
            "A: 다종그룹 검사는 질환의 진단을 위해 실시된 경우 1회 실시함을 원칙으로 하며, 급격한 증상 변화가 있어 임상적으로 필요한 경우에는 사례별로 추가로 인정될 수 있습니다.\n",
            "Q: 다종그룹 검사의 급여기준은 어떤 근거에 기반하고 있나요?\n",
            "\n",
            "\n",
            "### 답변: \n",
            "다음 내용을 참고하여 질문에 답변 해줘\n",
            "다종그룹 검사의 급여기준: 2022년 5월 16일부터 고시 제2221-109호에 따라, 필수 분석물질을 분석하는 2종그룹검사 인정횟수를 1~3회에서 2~4회로 확대하였으며, 세부 인정범위는 보건복지부 고시 제202호에 따릅니다.\n",
            "\n",
            "- \n",
            "1. 질환 진단을 위해 실시된 경우 1회 인정. \n",
            "2. 급성설사 원인 바이러스와 급성설사 원인 세균에 대한 1종 이상의 검사와 1종 이상의 급성설사 원인 세균에 대한 2종 이상의 검사를 실시한 경우 1종 이상의 결과에 대해 추가 1종 이상의 검사시 인정. \n",
            "3. 급성설사 원인 미생물에 대한 다종 검사시 인정하되, 급성설사 원인 미생물 이외의 미생물을 1종 이상의 검사한 결과에 대해 추가 1종 이상의 검사시는 추가 인정하지 않음.\n",
            "4. 급성설사 원인 바이러스와 급성설사 원인세균에 대한 다종검사 중, 혈류감염 그람영양성세균과 진균에 대한 검사는 필수 분석물질 및 급여기준에 따라 각각 인정함.�밭5. 급성설사 원인 미생물 검사는 검체 종류에 따라 선택적으로 인정하며, 그람음성세균에 대한 검사는 혈청검사와 배양검사를 선택하여 인정할 수 있으나, 배양검사는 배양조건 등에 대해 질병진단목적으로 실시되는 경우에 추가 인정함.6. 기타 세부 인정항목은 별도로 정함.\n",
            "\n",
            "- \n",
            "다음 내용을 참고하여 질문에 답변 해줘다종그룹 검사의 급여기준: 2022년 5월 16일부터 고시 제2221-109호에 따라, 필수 분석물질이 2종 이상인 경우 추가로 급여 인정되며, 세부 인정범위는 별도로 정한 항목을 따르며, 이는 2022년 5월 16일부터 시행됩니다. \n",
            "\n",
            "- \n",
            "· \n",
            "· \n",
            "·\u001e· \n",
            "· \n",
            "· \n",
            "- \n",
            "- - �-\n",
            "- \n",
            "-- \n",
            "- \n",
            "-- - \n",
            "- \n",
            "- \n",
            "- - \n",
            "- \n",
            "- ·- \n",
            "- - \n",
            "- \u001f- - \n"
          ]
        }
      ]
    },
    {
      "cell_type": "code",
      "source": [
        "gen('다종그룹검사에서 질염을 진단하기 위한 성매개 감염균으로 어떤 세균이 검사 대상에 포함되어 있나요?')"
      ],
      "metadata": {
        "colab": {
          "base_uri": "https://localhost:8080/"
        },
        "id": "eBIwoMhIqx1j",
        "outputId": "b93a4bf9-713a-4cfb-fc53-2f449a596dde"
      },
      "execution_count": 10,
      "outputs": [
        {
          "output_type": "stream",
          "name": "stderr",
          "text": [
            "Setting `pad_token_id` to `eos_token_id`:2 for open-end generation.\n"
          ]
        },
        {
          "output_type": "stream",
          "name": "stdout",
          "text": [
            "### 질문: 다종그룹검사에서 질염을 진단하기 위한 성매개 감염균으로 어떤 세균이 검사 대상에 포함되어 있나요?\n",
            "\n",
            "### 답변: 다종그룹검사에서는 질염을 진단하기 위한 성매개 감염균으로 세가지 세균인 클라미디아, 유레아플라즈마, 헤르피나, 및 마이코플라즈마, 클라미디아, 편모, 유스테로이, 임질균 등을 포함하고 있습니다. 이러한 세균은 질염을 일으키는 미생물을 검사하기 위한 유용한 검사입니다. 이러한 검사들은 질염 등의 미생물성 질환을 감별하는데 중요한 역할을 하므로 정기적으로 검사받아보시는 것을 권장드립니다. 그러나 이러한 검사를 통해 진단하기 어려운 질환도 있기 때문에 이를 위한 추가 검사도 필요하므로 병원에 방문하셔서 정확히 진단받으실 것을 추천드립니다. 추가적으로, 질염을 진단하기 위한 성매개감염균 이외에 칸디다균이나 트리코모나스균의 검사에 대해서 알아보시기를 권해드립니다. 칸디다균은 트리코모나스균과 함께 여성이 질염에 걸렸을 때 진단하기 위한 대표적인 세균입니다. \n",
            "\n",
            "추가로, 여성의 질점막의 세균 감염과 관련된 질환인 칸디다 질염, 유레아플라즈마 질염, 유레아플라즈마 파시젠 등에 대해 살펴보도록 합시다. 유레아플라즈마질염은 칸디다질염과 유사하게 질 내의 칸디다균에 의해 발생하는 감염으로, 칸디다질염이 진행되어 유레아플라즈마 감염으로 발전하는 경우도 있기 때문에 자주 진단되는 편입니다. 세균성 질염인 경우 증상은 매우 다양합니다. 그러나, 질에서 분비물이 많아지거나 작열감이 느껴지는 경우도 있기 때문에 이 점 때문에 진단되지 않는 경우도 있습니다. 따라서 칸디다와 칸디다질염의 발병여부를 명확히 구분할 수 있는 검사로 원인균을 진단할 것이 권장되어집니다. \n",
            "추가적으로 칸디다 질염은 다음과 같은 증상이 나타납니다. \n",
            " 1. 분비물: 냉, 치즈와 같은 흰색 또는 투명한 분비물이 속옷에 묻을 수 있습니다. \n",
            " 2. 작열감: 소양감이라고도 불리며, 질이나 외음부가 아프거나 가려운 형태로\n"
          ]
        }
      ]
    },
    {
      "cell_type": "code",
      "source": [
        "gen(\"\"\"\n",
        "다종그룹 검사의 급여기준: 2023년 5월 1일 시행되는 보건복지부 고시 제2023-85호에 따르면, 다종그룹 검사는 2종 이상의 분석물질에 대해 다종 검사키트를 이용하여 검사한 경우에 산정되며, 필수 분석물질 및 급여기준은 다음과 같습니다:다종그룹검사의 필수 분석물질:급성설사 원인 바이러스: 아데노바이러스, 로타바이러스, 노로바이러스 급성설사 원인 세균: 캄필로박터균, 살모넬라균, 시겔라균, 장출혈성 대장균 뇌수막염/뇌염/수막뇌염 원인 세균: 대장균, 헤모필루스 인플루엔자균, 리스테리아 모노사이토게네스, 수막염균, B군 사슬알균, 폐렴사슬알균 뇌수막염/뇌염/수막뇌염 원인 바이러스: 엔테로바이러스, 단순포진바이러스 1형, 단순포진바이러스 2형, 수두-대상포진바이러스 수막뇌염 원인 진균: 크립토콕쿠스 네오포르만스/가티 폐렴 원인균: 폐렴 미코플라즈마, 레지오넬라뉴모필라 호흡기 바이러스: 인플루엔자바이러스 A, 인플루엔자바이러스 B, 호흡기합포체바이러스, 파라인플루엔자바이러스, 아데노바이러스, SARS-CoV-2 성매개 감염균: 질편모충, 마이코플라스마 제니탈리움, 클라미디아 트라코마티스, 임균 혈류감염증 그람양성세균: 장알균, 황색포도상구균, 폐렴사슬알균 혈류감염증 그람음성세균: 대장균, 폐렴막대균, 녹농균, 아시네토박터 바우마니 혈류감염증 진균: 칸디다 알비칸스 메티실린 내성 포도알균 유전자형: mecA 반코마이신 내성장구균 유전자형: vanA, vanB, vanA/B 카바페넴 분해효소 유전자: KPC, NDM, VIM, IMP, OXA-48 인정횟수: 다종그룹 검사는 질환 진단을 위해 1회 실시함을 원칙으로 하며, 급격한 증상 변화가 있어 임상적으로 필요한 경우 사례별로 추가 인정됨. 기타: 세부인정사항은 별도로 정한 항목을 따름.\n",
        "Q: 다종그룹 검사의 종류 중에는 어떤 세균성 감염을 진단할 수 있나요?\n",
        "A: 다종그룹검사의 필수 분석물질에는 뇌수막염/뇌염/수막뇌염 원인 세균으로 대장균, 헤모필루스 인플루엔자균, 리스테리아 모노사이토게네스, 수막염균, B군 사슬알균, 폐렴사슬알균 등이 포함되어 있습니다.\n",
        "Q: 다종그룹검사에서 질염을 진단하기 위한 성매개 감염균으로 어떤 세균이 검사 대상에 포함되어 있나요?\n",
        "\"\"\")"
      ],
      "metadata": {
        "colab": {
          "base_uri": "https://localhost:8080/"
        },
        "id": "Wn2zEZiPqx1k",
        "outputId": "dd3b2bf7-e73d-4a60-d8e5-4ca34a4a9778"
      },
      "execution_count": 11,
      "outputs": [
        {
          "output_type": "stream",
          "name": "stderr",
          "text": [
            "Setting `pad_token_id` to `eos_token_id`:2 for open-end generation.\n"
          ]
        },
        {
          "output_type": "stream",
          "name": "stdout",
          "text": [
            "### 질문: \n",
            "다종그룹 검사의 급여기준: 2023년 5월 1일 시행되는 보건복지부 고시 제2023-85호에 따르면, 다종그룹 검사는 2종 이상의 분석물질에 대해 다종 검사키트를 이용하여 검사한 경우에 산정되며, 필수 분석물질 및 급여기준은 다음과 같습니다:다종그룹검사의 필수 분석물질:급성설사 원인 바이러스: 아데노바이러스, 로타바이러스, 노로바이러스 급성설사 원인 세균: 캄필로박터균, 살모넬라균, 시겔라균, 장출혈성 대장균 뇌수막염/뇌염/수막뇌염 원인 세균: 대장균, 헤모필루스 인플루엔자균, 리스테리아 모노사이토게네스, 수막염균, B군 사슬알균, 폐렴사슬알균 뇌수막염/뇌염/수막뇌염 원인 바이러스: 엔테로바이러스, 단순포진바이러스 1형, 단순포진바이러스 2형, 수두-대상포진바이러스 수막뇌염 원인 진균: 크립토콕쿠스 네오포르만스/가티 폐렴 원인균: 폐렴 미코플라즈마, 레지오넬라뉴모필라 호흡기 바이러스: 인플루엔자바이러스 A, 인플루엔자바이러스 B, 호흡기합포체바이러스, 파라인플루엔자바이러스, 아데노바이러스, SARS-CoV-2 성매개 감염균: 질편모충, 마이코플라스마 제니탈리움, 클라미디아 트라코마티스, 임균 혈류감염증 그람양성세균: 장알균, 황색포도상구균, 폐렴사슬알균 혈류감염증 그람음성세균: 대장균, 폐렴막대균, 녹농균, 아시네토박터 바우마니 혈류감염증 진균: 칸디다 알비칸스 메티실린 내성 포도알균 유전자형: mecA 반코마이신 내성장구균 유전자형: vanA, vanB, vanA/B 카바페넴 분해효소 유전자: KPC, NDM, VIM, IMP, OXA-48 인정횟수: 다종그룹 검사는 질환 진단을 위해 1회 실시함을 원칙으로 하며, 급격한 증상 변화가 있어 임상적으로 필요한 경우 사례별로 추가 인정됨. 기타: 세부인정사항은 별도로 정한 항목을 따름.\n",
            "Q: 다종그룹 검사의 종류 중에는 어떤 세균성 감염을 진단할 수 있나요?\n",
            "A: 다종그룹검사의 필수 분석물질에는 뇌수막염/뇌염/수막뇌염 원인 세균으로 대장균, 헤모필루스 인플루엔자균, 리스테리아 모노사이토게네스, 수막염균, B군 사슬알균, 폐렴사슬알균 등이 포함되어 있습니다.\n",
            "Q: 다종그룹검사에서 질염을 진단하기 위한 성매개 감염균으로 어떤 세균이 검사 대상에 포함되어 있나요?\n",
            "\n",
            "\n",
            "### 답변: \r예방접종 시 사용되는 약제에 대한 건강보험급여기준은 2020년 3월 1일을 기해 일부 변경될 예정이지만, 다종그룹검사는 기존의 급여기준을 유지합니다. \n",
            "\n",
            "예시된 세균성 감염은 각각의 경우에 있어 필수 분석물질에 따라 세부적으로 분류되며, 약제 사용 시 유의사항이 변경될 수 있습니다. 세부사항은 급여기준에서 확인하여 주시기 바랍니다.\n",
            "\n",
            "추가 검사의 필요성 등에 대해서는 추가검사 급여기준에 따라 추가적으로 인정될 수 있습니다.\n",
            "코로나19로 인해 전 국민의 노력에도 불구하고 안타깝게도 많은 검사대상자가 늘어나고 있습니다. 현재 적용되는 급여기준은 코로나19로 인해 발생한 모든 검사비 부담을 경감하기 위해 변경되는 것으로, 급여기준이 그대로 유지됩니다.\n",
            "추가로 필요한 검사는 추가적인 검사의 종류 등에 따라 산정합니다.\n",
            "\n",
            "따라서 추가검사는 반드시 필요한 경우에 한해 급여기준에 따라 추가적으로 인정될 수 있습니다.\n",
            "\n",
            "이 경우 추가적으로 필요한 검사비의 부담을 경감하기 위해 세부조건이 추가적으로 인정될 수 있습니다.\n",
            "\n",
            "질병관리본부는 계속해서 변경사항을 검토하고 있으며, 세부사항에 대해서는 변경될 수 있습니다. \n",
            "궁금한 사항은 아래 담당자에게 문의하시기 바랍니다.<|sep|>\n",
            "감염이 의심되거나 의심의 환자가 아닌 경우 코로나19 검사 시 보험급여 적용이 불가한 바, 감염이 의심되는 경우 꼭 필요한 환자들이 검사를 받을 수 있도록 해주시기 바랍니다.\n",
            "\u001f추가로 필요한 검사의 종류 등에 따라 산정하는 급여기준으로, 추가적으로 필요한 검사가 어떤 종류인지, 어떤 방법으로 실시되는지 등에 따라 결정됩니다.\n",
            "\n",
            "따라서, 필수분석물질에 따라 세부적으로 다종 검사가 산정될 수 있는 급여기준은 유효하며, 세부사항은 변경될 수 있으며, 추가적으로 필요한 검사는 추가적인 검사의 종류에 따라 결정됩니다.추가로 더 필요한 검사의 종류 등에 따라 산정하는 급여기준으로, 세부사항에 대해서는 변경될 수 있으며, 추가적으로 필요한 검사는 추가적인 검사의 종류에 따라 결정됩니다.따라서, 필수분석물질에 따라 세부적으로 다종 검사\n"
          ]
        }
      ]
    },
    {
      "cell_type": "code",
      "source": [
        "gen('다종그룹 검사의 급여기준은 어떻게 정의되어 있나요?')"
      ],
      "metadata": {
        "colab": {
          "base_uri": "https://localhost:8080/"
        },
        "id": "1aCYwkEjq0ah",
        "outputId": "8fcb1810-bf8d-4fb1-db5c-6cdc09f3570b"
      },
      "execution_count": 12,
      "outputs": [
        {
          "output_type": "stream",
          "name": "stderr",
          "text": [
            "Setting `pad_token_id` to `eos_token_id`:2 for open-end generation.\n"
          ]
        },
        {
          "output_type": "stream",
          "name": "stdout",
          "text": [
            "### 질문: 다종그룹 검사의 급여기준은 어떻게 정의되어 있나요?\n",
            "\n",
            "### 답변: 다종그룹 검사의 급여기준 정의는 다음과 같습니다. \"다종그룹검사는 진단명이 명확하지 않은 다발성 폐질환을 원인 및 기전, 치료 효과, 치료전략 등에 따라 다종(多種)으로 판단함에 따라 임상적 유용성이 인정되는 검사항목을 1대 1로 선택하는 것을 권장합니다.\" 자세한 내용은 아래의 세부 사항을 참고하시기 바랍니다. \"다종그룹검사에서는 진단명이 명확하지 않고 여러 가지 원인이 있다고 추정되는 다발성 폐질환을 원인, 기전, 치료효과, 치료전략 등에 따라 선택적으로 분류한 후 진단 및 치료를 시행합니다. 다종그룹검사는 각 진단명에 따라 다음과 같은 순서로 분류합니다. Ⅰ. 원인미상 - Ⅱ. 비특이적인 이상 - Ⅲ. 폐결핵, 폐렴 또는 폐색전증(폐쇄성), 폐암(비암성), 폐결핵(비암성), 폐색전증(비암성), 결핵의 가족력, 천식 혹은 천식의 가족력, 폐 또는 심장 기능 이상으로 생긴 폐질환과 폐암(비암성), 폐결핵, 폐렴 또는 폐색전증(폐쇄성), 폐암(비암성), 결핵의 가족력, 천식 또는 천식의 가족력, 폐 또는 심장 기능 이상 등과 같은 소견이 있는 경우 - Ⅳ. 폐결핵이나 폐렴 또는 폐색전증(폐쇄성), 결핵의 가족력, 천식 또는 천식의 가족력 및 심장 기능 이상과 같은 소견이 있는 경우 - Ⅴ. 치료반응, 치료결과 등의 검토를 통해 각 범주별 진단의 적합성, 원인제거 및 새로운 원인규명 필요성 등의 이유로 재발성 혹은 난치성 다발성 폐질환의 진단기준에 포함됐던 폐결핵이나 폐렴 또는 폐색전증(폐쇄성), 결핵의 가족력, 천식 또는 천식의 가족력 및 심장기능이상 등과 같은 소견이 있는 경우 - Ⅵ. 기타, 원인미상, 비특이적 비암성 폐질환 등 해당 원인질환이 있는 경우, 해당 원인질환이 치료효과가 있는 경우 등의 경우\" \n",
            "\n",
            "결론적으로, 다종그룹검사는 각 질환을 나누어 진단하기 힘들거나 임상적으로 유용한 검사들을 사용해 적절한 진단 및 치료를\n"
          ]
        }
      ]
    },
    {
      "cell_type": "code",
      "source": [
        "gen(\"\"\"\n",
        "다종그룹 검사의 급여기준: 2023년 5월 1일 시행되는 보건복지부 고시 제2023-85호에 따르면, 다종그룹 검사는 2종 이상의 분석물질에 대해 다종 검사키트를 이용하여 검사한 경우에 산정되며, 필수 분석물질 및 급여기준은 다음과 같습니다:다종그룹검사의 필수 분석물질:급성설사 원인 바이러스: 아데노바이러스, 로타바이러스, 노로바이러스 급성설사 원인 세균: 캄필로박터균, 살모넬라균, 시겔라균, 장출혈성 대장균 뇌수막염/뇌염/수막뇌염 원인 세균: 대장균, 헤모필루스 인플루엔자균, 리스테리아 모노사이토게네스, 수막염균, B군 사슬알균, 폐렴사슬알균 뇌수막염/뇌염/수막뇌염 원인 바이러스: 엔테로바이러스, 단순포진바이러스 1형, 단순포진바이러스 2형, 수두-대상포진바이러스 수막뇌염 원인 진균: 크립토콕쿠스 네오포르만스/가티 폐렴 원인균: 폐렴 미코플라즈마, 레지오넬라뉴모필라 호흡기 바이러스: 인플루엔자바이러스 A, 인플루엔자바이러스 B, 호흡기합포체바이러스, 파라인플루엔자바이러스, 아데노바이러스, SARS-CoV-2 성매개 감염균: 질편모충, 마이코플라스마 제니탈리움, 클라미디아 트라코마티스, 임균 혈류감염증 그람양성세균: 장알균, 황색포도상구균, 폐렴사슬알균 혈류감염증 그람음성세균: 대장균, 폐렴막대균, 녹농균, 아시네토박터 바우마니 혈류감염증 진균: 칸디다 알비칸스 메티실린 내성 포도알균 유전자형: mecA 반코마이신 내성장구균 유전자형: vanA, vanB, vanA/B 카바페넴 분해효소 유전자: KPC, NDM, VIM, IMP, OXA-48 인정횟수: 다종그룹 검사는 질환 진단을 위해 1회 실시함을 원칙으로 하며, 급격한 증상 변화가 있어 임상적으로 필요한 경우 사례별로 추가 인정됨. 기타: 세부인정사항은 별도로 정한 항목을 따름.\n",
        "Q: 다종그룹 검사의 급여기준을 확인하기 위한 분류고시는 어디에서 확인할 수 있나요?\n",
        "A: 다종그룹 검사의 급여기준을 확인하기 위한 분류고시는 관련근거고시 제2023-85호에서 확인할 수 있습니다.\n",
        "Q: 다종그룹 검사의 급여기준은 어떻게 정의되어 있나요?\n",
        "\"\"\")"
      ],
      "metadata": {
        "colab": {
          "base_uri": "https://localhost:8080/"
        },
        "id": "NIoY0JQIq0ax",
        "outputId": "1b66fa44-6578-4e7f-b363-9eacff708ccc"
      },
      "execution_count": 13,
      "outputs": [
        {
          "output_type": "stream",
          "name": "stderr",
          "text": [
            "Setting `pad_token_id` to `eos_token_id`:2 for open-end generation.\n"
          ]
        },
        {
          "output_type": "stream",
          "name": "stdout",
          "text": [
            "### 질문: \n",
            "다종그룹 검사의 급여기준: 2023년 5월 1일 시행되는 보건복지부 고시 제2023-85호에 따르면, 다종그룹 검사는 2종 이상의 분석물질에 대해 다종 검사키트를 이용하여 검사한 경우에 산정되며, 필수 분석물질 및 급여기준은 다음과 같습니다:다종그룹검사의 필수 분석물질:급성설사 원인 바이러스: 아데노바이러스, 로타바이러스, 노로바이러스 급성설사 원인 세균: 캄필로박터균, 살모넬라균, 시겔라균, 장출혈성 대장균 뇌수막염/뇌염/수막뇌염 원인 세균: 대장균, 헤모필루스 인플루엔자균, 리스테리아 모노사이토게네스, 수막염균, B군 사슬알균, 폐렴사슬알균 뇌수막염/뇌염/수막뇌염 원인 바이러스: 엔테로바이러스, 단순포진바이러스 1형, 단순포진바이러스 2형, 수두-대상포진바이러스 수막뇌염 원인 진균: 크립토콕쿠스 네오포르만스/가티 폐렴 원인균: 폐렴 미코플라즈마, 레지오넬라뉴모필라 호흡기 바이러스: 인플루엔자바이러스 A, 인플루엔자바이러스 B, 호흡기합포체바이러스, 파라인플루엔자바이러스, 아데노바이러스, SARS-CoV-2 성매개 감염균: 질편모충, 마이코플라스마 제니탈리움, 클라미디아 트라코마티스, 임균 혈류감염증 그람양성세균: 장알균, 황색포도상구균, 폐렴사슬알균 혈류감염증 그람음성세균: 대장균, 폐렴막대균, 녹농균, 아시네토박터 바우마니 혈류감염증 진균: 칸디다 알비칸스 메티실린 내성 포도알균 유전자형: mecA 반코마이신 내성장구균 유전자형: vanA, vanB, vanA/B 카바페넴 분해효소 유전자: KPC, NDM, VIM, IMP, OXA-48 인정횟수: 다종그룹 검사는 질환 진단을 위해 1회 실시함을 원칙으로 하며, 급격한 증상 변화가 있어 임상적으로 필요한 경우 사례별로 추가 인정됨. 기타: 세부인정사항은 별도로 정한 항목을 따름.\n",
            "Q: 다종그룹 검사의 급여기준을 확인하기 위한 분류고시는 어디에서 확인할 수 있나요?\n",
            "A: 다종그룹 검사의 급여기준을 확인하기 위한 분류고시는 관련근거고시 제2023-85호에서 확인할 수 있습니다.\n",
            "Q: 다종그룹 검사의 급여기준은 어떻게 정의되어 있나요?\n",
            "\n",
            "\n",
            "### 답변: \n",
            "다종그룹 검사는 1회 실시를 원칙으로 하며, 급격한 증상 변화가 있어 임상적으로 필요한 경우 사례별로 추가 인정됨. 기타 세부인정사항은 별도로 정한 항목을 따름.\n",
            "그러므로 위 내용에 근거하여, 해당 고시 내용을 확인하여 다종그룹 검사의 급여기준을 파악할 수 있습니다. 세부인정사항 범위에 대해 별도로 정한 것은 없으므로 참고하셔서 각 질환에 맞는 해당 세부 인정사항을 적용하여 급여기준을 파악하기 바랍니다.�밭\n",
            "참고로, 급여기준은 고시 제2023-85호 이외에도 관련고시에서 확인할 수 있습니다. 다음 링크를 통해 해당 내용을 참고하시기 바랍니다. https://www.hira.or.kr/bbsDummy.do?pgmid=HIRAA0200115&pboardMenuId=M_002120080&postType=S&policyNo=1181&token=1&menuId=HIRAA0200115&announceType=2&subAdmJustType=0&discAdminNewsletter=0&printPath=0&copyLog=N&post=Y&docId=16489323&boardId=M_002120080&chapter=1&category=subway&selCd=0&dataId=HIRAA0200115#1&postId=9159903&boardId=M_002120080&appendDt=&pgmid=HIRAA0200115&byList=&byType=&rcode=HIRAA0200115&policyNo=1181&token=1&title=&jb=0&category=subway&selCd=0&dataId=HIRAA0200115&appendDt\n"
          ]
        }
      ]
    },
    {
      "cell_type": "code",
      "source": [
        "gen('다종그룹 검사의 급여 인정횟수는 어떻게 되나요?')"
      ],
      "metadata": {
        "colab": {
          "base_uri": "https://localhost:8080/"
        },
        "id": "4Y7U5JPvrMiE",
        "outputId": "1f239985-49c0-4ef9-db41-c2090cd590af"
      },
      "execution_count": 14,
      "outputs": [
        {
          "output_type": "stream",
          "name": "stderr",
          "text": [
            "Setting `pad_token_id` to `eos_token_id`:2 for open-end generation.\n"
          ]
        },
        {
          "output_type": "stream",
          "name": "stdout",
          "text": [
            "### 질문: 다종그룹 검사의 급여 인정횟수는 어떻게 되나요?\n",
            "\n",
            "### 답변: 다종그룹 검사는 종류별, 증상별로 실시한 다종그룹검사를 1회 실시한 경우, 다종그룹 검사의 수가 인정횟수는 다음과 같습니다. 한 가지 검사는 5회 이내로 인정됩니다. \n",
            "가. 뇌CT, MRI, Lab, PET, 초음파, 위내시경, 대장내시경 동시 실시 - 1회 인정 \n",
            "\f나. 위내시경, 대장내시경 동시 수가는 2회씩 인정 \n",
            "- 1회 인정 \n",
            "\n",
            "다. 2세 미만 유아는 각 2회 이내, 2세 이상 유아, 성인은 2회 이내로 인정 �- 1회 인정 \n",
            "\n",
            "라. 1종은 수가 인정횟수 제한 없음. 단, 5종 검사는 5회 이내로 인정 - 1회 인정 \n",
            "\n",
            "마. 2종은 5회 이내로 인정 - 1회 인정 \n",
            "\n",
            "바. 3종, 4종, 5종은 각각 5회 이내로 인정 \n",
            "- 1회 인정 �밭(단, 상기 내용은 보건복지부 고시 제2007-46호에 따른 다종그룹검사의 급여 인정횟수입니다. 내용이 변경될 수 있습니다.)\n",
            "\n",
            "따라서, 뇌CT 등이 포함된 다종그룹검사는 1회만 지급됩니다. 더 자세한 내용은 건강보험심사평가원에 문의해보시면 좋을 것 같습니다.\n",
            "\n",
            "추가 질문은 하단 네임카드를 참조해주세요.\n",
            "추가 질문: 상기 외 다른 검사들의 인정횟수와 관련하여 알려주시면 감사드리겠습니다.\n",
            "\n",
            "예를 들어, 뇌CT가 아닌 MRI로도 다종검사에 포함되는지, 또 해당하는 모든 검사들이 1회만 인정이 되는지 알고 싶습니다.�\n",
            "이외에도 여러가지 검사들이 있을텐데, 이러한 검사들마다 다종그룹검사의 인정횟수가 각각 다르게 설정될까요?\n",
            "\n",
            "추가 답변: \n",
            " 추가 질문에서 언급하신 내용 외에, 각각의 검사들마다 인정횟수가 다를 수 있습니다. 또, 뇌CT 검사는 경우에 따라서 한 가지이지만, MRI 검사는 종류가 다를 수 있습니다. 따라서 어떤 조건에 대한 평가 과정에서 다종그룹검사가 활용되는 경우, 이러한 내용이 정확하게 고려되어야 합니다. \n",
            "따라서, 각각의 검사별 인정\n"
          ]
        }
      ]
    },
    {
      "cell_type": "code",
      "source": [
        "gen(\"\"\"\n",
        "다음 내용을 보고 질문에 답변 해줘\n",
        "다종그룹 검사의 급여기준: 2023년 5월 1일 시행되는 보건복지부 고시 제2023-85호에 따르면, 다종그룹 검사는 2종 이상의 분석물질에 대해 다종 검사키트를 이용하여 검사한 경우에 산정되며, 필수 분석물질 및 급여기준은 다음과 같습니다:다종그룹검사의 필수 분석물질:급성설사 원인 바이러스: 아데노바이러스, 로타바이러스, 노로바이러스 급성설사 원인 세균: 캄필로박터균, 살모넬라균, 시겔라균, 장출혈성 대장균 뇌수막염/뇌염/수막뇌염 원인 세균: 대장균, 헤모필루스 인플루엔자균, 리스테리아 모노사이토게네스, 수막염균, B군 사슬알균, 폐렴사슬알균 뇌수막염/뇌염/수막뇌염 원인 바이러스: 엔테로바이러스, 단순포진바이러스 1형, 단순포진바이러스 2형, 수두-대상포진바이러스 수막뇌염 원인 진균: 크립토콕쿠스 네오포르만스/가티 폐렴 원인균: 폐렴 미코플라즈마, 레지오넬라뉴모필라 호흡기 바이러스: 인플루엔자바이러스 A, 인플루엔자바이러스 B, 호흡기합포체바이러스, 파라인플루엔자바이러스, 아데노바이러스, SARS-CoV-2 성매개 감염균: 질편모충, 마이코플라스마 제니탈리움, 클라미디아 트라코마티스, 임균 혈류감염증 그람양성세균: 장알균, 황색포도상구균, 폐렴사슬알균 혈류감염증 그람음성세균: 대장균, 폐렴막대균, 녹농균, 아시네토박터 바우마니 혈류감염증 진균: 칸디다 알비칸스 메티실린 내성 포도알균 유전자형: mecA 반코마이신 내성장구균 유전자형: vanA, vanB, vanA/B 카바페넴 분해효소 유전자: KPC, NDM, VIM, IMP, OXA-48 인정횟수: 다종그룹 검사는 질환 진단을 위해 1회 실시함을 원칙으로 하며, 급격한 증상 변화가 있어 임상적으로 필요한 경우 사례별로 추가 인정됨. 기타: 세부인정사항은 별도로 정한 항목을 따름.\n",
        "Q: 다종그룹 검사는 어떤 원칙으로 실시되나요?\n",
        "A: 다종그룹 검사는 질환의 진단을 위하여 실시한 경우 1회 실시함을 원칙으로 하며, 급격한 증상 변화가 있어 임상적으로 필요한 경우에 사례별로 추가로 인정될 수 있습니다.\n",
        "Q: 다종그룹 검사의 급여 인정횟수는 어떻게 되나요?\n",
        "\"\"\")"
      ],
      "metadata": {
        "colab": {
          "base_uri": "https://localhost:8080/"
        },
        "id": "-9EDU2eKrMWh",
        "outputId": "48d9f570-4af3-4f5d-bbb9-3cd25f007cf5"
      },
      "execution_count": 15,
      "outputs": [
        {
          "output_type": "stream",
          "name": "stderr",
          "text": [
            "Setting `pad_token_id` to `eos_token_id`:2 for open-end generation.\n"
          ]
        },
        {
          "output_type": "stream",
          "name": "stdout",
          "text": [
            "### 질문: \n",
            "다음 내용을 보고 질문에 답변 해줘\n",
            "다종그룹 검사의 급여기준: 2023년 5월 1일 시행되는 보건복지부 고시 제2023-85호에 따르면, 다종그룹 검사는 2종 이상의 분석물질에 대해 다종 검사키트를 이용하여 검사한 경우에 산정되며, 필수 분석물질 및 급여기준은 다음과 같습니다:다종그룹검사의 필수 분석물질:급성설사 원인 바이러스: 아데노바이러스, 로타바이러스, 노로바이러스 급성설사 원인 세균: 캄필로박터균, 살모넬라균, 시겔라균, 장출혈성 대장균 뇌수막염/뇌염/수막뇌염 원인 세균: 대장균, 헤모필루스 인플루엔자균, 리스테리아 모노사이토게네스, 수막염균, B군 사슬알균, 폐렴사슬알균 뇌수막염/뇌염/수막뇌염 원인 바이러스: 엔테로바이러스, 단순포진바이러스 1형, 단순포진바이러스 2형, 수두-대상포진바이러스 수막뇌염 원인 진균: 크립토콕쿠스 네오포르만스/가티 폐렴 원인균: 폐렴 미코플라즈마, 레지오넬라뉴모필라 호흡기 바이러스: 인플루엔자바이러스 A, 인플루엔자바이러스 B, 호흡기합포체바이러스, 파라인플루엔자바이러스, 아데노바이러스, SARS-CoV-2 성매개 감염균: 질편모충, 마이코플라스마 제니탈리움, 클라미디아 트라코마티스, 임균 혈류감염증 그람양성세균: 장알균, 황색포도상구균, 폐렴사슬알균 혈류감염증 그람음성세균: 대장균, 폐렴막대균, 녹농균, 아시네토박터 바우마니 혈류감염증 진균: 칸디다 알비칸스 메티실린 내성 포도알균 유전자형: mecA 반코마이신 내성장구균 유전자형: vanA, vanB, vanA/B 카바페넴 분해효소 유전자: KPC, NDM, VIM, IMP, OXA-48 인정횟수: 다종그룹 검사는 질환 진단을 위해 1회 실시함을 원칙으로 하며, 급격한 증상 변화가 있어 임상적으로 필요한 경우 사례별로 추가 인정됨. 기타: 세부인정사항은 별도로 정한 항목을 따름.\n",
            "Q: 다종그룹 검사는 어떤 원칙으로 실시되나요?\n",
            "A: 다종그룹 검사는 질환의 진단을 위하여 실시한 경우 1회 실시함을 원칙으로 하며, 급격한 증상 변화가 있어 임상적으로 필요한 경우에 사례별로 추가로 인정될 수 있습니다.\n",
            "Q: 다종그룹 검사의 급여 인정횟수는 어떻게 되나요?\n",
            "\n",
            "\n",
            "### 답변: 다종그룹 검사는 질환 진단을 위해 1회 실시함을 원칙으로 하며, 급격한 증상 변화가 있어 임상적으로 필요한 경우 사례별로 추가로 인정됩니다. 세부인정사항은 별도로 정한 항목을 따름.\r예방접종 비용 및 보험급여 기준 변경 안내(2023년 5월 1일 적용) 내용과 관련된 추가 문의는 건강보험심사평가원으로 연락하시면 도움을 받으실 수 있습니다.\n",
            "예방접종 비용 및 보험급여 기준 변경 안내 내용을 바탕으로, 추가 문의 사항이 있으시면 아래 연락처로 문의하시면 됩니다.\n",
            "### 추가 문의: \t\n",
            "추가 문의는 건강보험심사평가원으로 연락하시면 도움을 받으실 수 있습니다.\n",
            "\n",
            "예방접종 비용 및 보험급여 기준 변경 안내 내용을 바탕으로, 추가 문의 사항이 있으시면 아래 연락처로 문의하시면 됩니다.\n",
            "이전내용보기예방접종 비용 및 보험급여 기준 변경 안내- 2021년 5월 1일부터 예방접종 비용 및 보험급여 기준이 변경됩니다. 내용이 변경되며, 예방접종 비용은 총 17,700원에서 15,000원으로 낮아지며, 본인부담금은 8,800원으로 변경됩니다. 적정한 백신비와 본인부담금의 산출은 다음 공식에 의하여 산출합니다. 여기서, 본인부담금은 백신비를 제외한 의료기간에서 예방접종을 실시하고 환자 본인이 부담하는 금액입니다. 예방접종 완료 여부는 건강보험심사평가원에서 위탁한 '예방접종관리 전산시스템'에 가입하신 보호자(보호자의 부모, 자녀)만이 확인할 수 있으며, 해당 확인란에 백신의 종류와, 시행일을 적어야 합니다. 해당 내용과 관련된 추가 문의나 자세한 사항은 전화 상담(1544-9939)과 인터넷 상담(1644-5114)을 통해 문의하실 수 있습니다. 세부적인 사항은 가까운 병의원이나 보건소에 문의하시기 바랍니다. \n",
            "예방접종 일정 변경 안내- 예방접종 일정은 건강보험심사평가원의 허가 승인이 있는 경우에 한해 변경이 됩니다. 현재 변경 요청된 예방접종 일정은 아래와 같으며, 이 외의 예방접종에 대하여는 건강보험심사평가원에서 조정 전까지는 접수되지 않습니다. \u001c- 5월 9일(월\n"
          ]
        }
      ]
    },
    {
      "cell_type": "markdown",
      "source": [
        "## 간기능 검사 이상 시 추가 검사 급여기준"
      ],
      "metadata": {
        "id": "tRau4yhQqhht"
      }
    },
    {
      "cell_type": "code",
      "source": [
        "gen('간기능 이상으로 추가 검사가 필요한 경우, 어떤 상병명이 해당되어야 하는가요?')"
      ],
      "metadata": {
        "colab": {
          "base_uri": "https://localhost:8080/"
        },
        "id": "J5CvsAkbqp8v",
        "outputId": "87099ce2-2210-42a1-89d5-98e782d938f0"
      },
      "execution_count": 16,
      "outputs": [
        {
          "output_type": "stream",
          "name": "stderr",
          "text": [
            "Setting `pad_token_id` to `eos_token_id`:2 for open-end generation.\n"
          ]
        },
        {
          "output_type": "stream",
          "name": "stdout",
          "text": [
            "### 질문: 간기능 이상으로 추가 검사가 필요한 경우, 어떤 상병명이 해당되어야 하는가요?\n",
            "\n",
            "### 답변: 간기능 이상으로 추가 검사가 필요한 경우, 다음과 같은 상병명을 고려할 수 있습니다. \n",
            "- 단순성 간기능 이상으로 인한 간염, 담석 등으로 인한 담도폐쇄, 간암, 간농양 등으로 인한 복강내감염- 바이러스간염(A형, B형, C형, D형, E형, G형, H형 및 U형)- 간경변, 간세포암종, 원발성 담도성 경화증, 원발성 혈색소증에서 간경변으로 인한 간암, 선천적 담도폐쇄 등\n",
            "- 원발성 담도암- 알코올 지방간- 감마나이프 방사선 수술 치료를 위한 뇌혈류 차단으로 인한 간손상- 간경변으로 인한 합병증을 동반한 복수간경화, 간우엽암, 간정맥혈전 \n",
            "- 간조직검사에서 간염, 결핵 또는 기타 원인에 의한 간농양, 담관암, 간의 섬유성 증식 및 기타 간의 악성종양 \n",
            "- 간기능 검사결과가 정상의 2/3 이하이거나, 혈색소가 정상치의 2/3 이하인 경우, 간경화로 진단되어 있으며 간섬유화 및 기타 기질적 소견이 있는 경우, 간경변증으로 진단되어 있으며 간문맥전신으로 혈류가 차단되어 있으며 복수가 동반된 경우, 간조직검사상 암으로 진단되어 있으며 간악성종양으로 진단되어 있는 경우 \n",
            "- 간조직검사상 간경변증, 간세포암종으로 진단되어 있으며 간문맥전신 혈류가 차단되어 있으며 복수가 동반된 경우, 간경변증으로 진단되어 있으며 간경변증으로 인한 출혈, 간세포암종으로 진단되어 있으며, 간세포암종으로 인한 출혈 \n",
            " 간조직검사상 간암으로 진단되어 있으며 간악성종양으로 진단되어 있는 경우 \n",
            "- 간조직생검에서 간경변으로 진단되어 있으며 간세포암종으로 진단되어 있는 경우 \n",
            "- 간조직검사에서 간경변으로 진단되어 있으며 간악성종양으로 진단되어 있는 경우 \n",
            "- 간조직검사에서 간세포암종으로 진단되어 있는 경우 \n",
            "- 간조직검사에서\n"
          ]
        }
      ]
    },
    {
      "cell_type": "code",
      "source": [
        "gen(\"\"\"\n",
        "다음 내용을 보고 질문에 답변 해줘\n",
        "간기능 검사 이상 시 추가 검사의 급여기준은 다음과 같습니다: 적용되는 상병명: R94.5 간기능검사의 이상결과 K76.9 상세불명의 간질환 급여로 인정되는 추가 검사: 누186 AST(SGOT) 누185 ALT(SGTP) 누189 γ-GTP 누184 총단백정량 누183 총빌리루빈정량 누187 알칼리포스파타제 누251 효소(LDH) HAV-Ab, HCV-Ab, HBs Ag & Ab 특정 메모에 따른 추가 산정: 가령, GOT, GPT 이상일 시에는 특정 메모에 기재하고 검사들을 추가로 산정할 수 있습니다.\n",
        "Q: R94.5 간기능검사의 이상결과시 급여로 인정되는 추가 검사는 무엇이 있나요?\n",
        "A: 간기능검사의 이상결과로 인한 R94.5 상병에 대해 급여로 인정되는 추가 검사는 다음과 같습니다: AST(SGOT), ALT(SGTP), γ-GTP, 총단백정량, 총빌리루빈정량, 알칼리포스파타제, 그리고 효소(LDH)입니다. 이러한 검사들은 간 기능 이상에 대한 추가적인 평가를 제공하며, 상병의 진단과 치료를 지원합니다.\n",
        "Q: 간기능 이상으로 추가 검사가 필요한 경우, 어떤 상병명이 해당되어야 하는가요?\n",
        "\"\"\")"
      ],
      "metadata": {
        "colab": {
          "base_uri": "https://localhost:8080/"
        },
        "id": "mv-_Ma5Jqp8x",
        "outputId": "fd71f5e0-b444-4e71-d2a6-d9c91ee32660"
      },
      "execution_count": 17,
      "outputs": [
        {
          "output_type": "stream",
          "name": "stderr",
          "text": [
            "Setting `pad_token_id` to `eos_token_id`:2 for open-end generation.\n"
          ]
        },
        {
          "output_type": "stream",
          "name": "stdout",
          "text": [
            "### 질문: \n",
            "다음 내용을 보고 질문에 답변 해줘\n",
            "간기능 검사 이상 시 추가 검사의 급여기준은 다음과 같습니다: 적용되는 상병명: R94.5 간기능검사의 이상결과 K76.9 상세불명의 간질환 급여로 인정되는 추가 검사: 누186 AST(SGOT) 누185 ALT(SGTP) 누189 γ-GTP 누184 총단백정량 누183 총빌리루빈정량 누187 알칼리포스파타제 누251 효소(LDH) HAV-Ab, HCV-Ab, HBs Ag & Ab 특정 메모에 따른 추가 산정: 가령, GOT, GPT 이상일 시에는 특정 메모에 기재하고 검사들을 추가로 산정할 수 있습니다.\n",
            "Q: R94.5 간기능검사의 이상결과시 급여로 인정되는 추가 검사는 무엇이 있나요?\n",
            "A: 간기능검사의 이상결과로 인한 R94.5 상병에 대해 급여로 인정되는 추가 검사는 다음과 같습니다: AST(SGOT), ALT(SGTP), γ-GTP, 총단백정량, 총빌리루빈정량, 알칼리포스파타제, 그리고 효소(LDH)입니다. 이러한 검사들은 간 기능 이상에 대한 추가적인 평가를 제공하며, 상병의 진단과 치료를 지원합니다.\n",
            "Q: 간기능 이상으로 추가 검사가 필요한 경우, 어떤 상병명이 해당되어야 하는가요?\n",
            "\n",
            "\n",
            "### 답변: \n",
            "예를 들어, 간경화나 활동성간염 같은 간 기능에 대한 문제가 있다면 다음 검사가 추가로 필요합니다: 간기능검사 이상시 추가 검사의 급여기준 누186 AST(SGOT) 누185 ALT(SGTP) 누189 γ-GTP 누184 총단백정량 누183 총빌리루빈정량 누187 알칼리포스파타제 누251 효소(LDH) HAV-Ab, HCV-Ab, HBs Ag & Ab 특정 메모에 따른 추가 산정: 가령, GOT, GPT 등 이상 결과 시에는 특정 메모에 기재하고 검사들을 추가로 산정할 수 있습니다.\n",
            "\n",
            "간 기능 이상으로 추가 검사가 필요한 경우, 어떤 상병명이 해당되어야 하는지 궁금합니다. 간경화, 활동성간염 등의 간 기능 이상이 의심되어 추가 검사가 필요한 경우 어떤 상병명으로 추가 검사가 필요한지 알려주세요.\n",
            "추가 답변: \n",
            "추가 검사로 추가적인 평가를 제공하며, 상병의 진단과 치료를 지원합니다. 이를 위해 다음과 같은 검사가 추가적으로 필요합니다: 간기능검사 이상시 추가 검사의 급여기준이 적용되는 상병은 다음과 같습니다: \n",
            "다음과 같은 상병으로 추정되는 경우에 추가적인 평가를 제공하며, 상병의 진단과 치료를 지원합니다: \n",
            "- 활동성 및 진행성 간질환- 간경화, 간세포암, 혈색소증, 간세포성 황달, 원발성 담즙성 간경화증- 원발성 경화성 담관염, 담낭염, 총담관의 결석, 원발성 담관성 간경화, 원발성 담낭성 간경화- 간농양, 원발불명 담도염, 만성 특발성 담즙정체- 경화성 담관염, 총담관염, 경화담관염, 바터팽대부의 담석, 담관결석- 간성 뇌병증 \n",
            " 간 기능 이상으로 추가 검사가 필요한 경우, 다음과 같은 상병명이 추가로 필요합니다: \n",
            "- 원발성 혹은 진행성 간질환, 간경화- 간세포암 \n",
            "- 경화성 담관염, 담낭염\n"
          ]
        }
      ]
    },
    {
      "cell_type": "code",
      "source": [
        "gen('R94.5 간기능검사의 이상결과시 급여로 인정되는 추가 검사는 무엇이 있나요?')"
      ],
      "metadata": {
        "colab": {
          "base_uri": "https://localhost:8080/"
        },
        "id": "7g6ggUmyrYay",
        "outputId": "6342a70d-f9c6-409d-9369-fb4579d623e8"
      },
      "execution_count": 18,
      "outputs": [
        {
          "output_type": "stream",
          "name": "stderr",
          "text": [
            "Setting `pad_token_id` to `eos_token_id`:2 for open-end generation.\n"
          ]
        },
        {
          "output_type": "stream",
          "name": "stdout",
          "text": [
            "### 질문: R94.5 간기능검사의 이상결과시 급여로 인정되는 추가 검사는 무엇이 있나요?\n",
            "\n",
            "### 답변: R94.5 간기능검사의 이상결과시 급여로 인정되는 추가 검사는 빌리베티검사, KIT-Plus 간기능검사, PT/aPTT 등의 검사가 있습니다. 빌리베티검사의 경우, 간경변증 환자의 경우 추가로 선별적으로 실시할 수 있습니다. KIT-Plus 간기능검사는 R93 간세포괴사증을 진단할 때 사용됩니다. PT/aPTT도 AST나 LAT 수치가 높아서 간기능이 저하되었으며, 다른 수치도 확인이 필요한 환자의 경우 실시하게 됩니다. 검사가 진행되는 항목 이외에 추가로 고려해야하는 사항이라면 다음을 참고하십시오. \n",
            "### 추가 정보 \n",
            "1. 빌리베티검사 ㆍ간기능이상의 정도와 간섬유화 정도를 확인할 수 있음. ㆍ간세포괴사 여부를 확인하기 위해 선별적으로 사용되는 검사로, 검사실 사정에 따라 필요한 경우 반복 실시하기도 함. 2. KIT-Plus 간기능검사 ㆍALT 검사를 보완하여 RNA level, SGPT 및 SGPPT 의 이상을 확인하기 위해 사용. ㆍ추가로 PT검사를 통해 AST, LDH, AST, ALP, CPK 상승에 대한 보완 검사로 사용. \n",
            "3. PT/cTPR ㆍ급성간염의 진단에 대한 보완검사 3. 간효소 \n",
            "1. 빌리베티검사 1) 실시목적 ㆍ간경변증에서 간세포 괴사를 확인하며, 섬유화가 진행되는 정도를 확인하여 간경변 정도를 판정하는 데 사용합니다. \n",
            "2. KIT-Plus 간기능검사 1) 실시목적 ㆍ급성 간염의 진단에 필요한 검사입니다. 즉, AST나 ALP 등의 혈청 수치, 간효소 수치는 이상이 있음에도 불구하고, HBV-DNA 수치는 정상인 급성간염 상태를 진단하기 위해서 실시합니다. 3. PT/cTPR 1) 실시목적 ㆍALT(AST) 또는 AST(SGPT), EGTA 등과 같은 혈청 간 효소 수치가 이상인 경우, 급성\n"
          ]
        }
      ]
    },
    {
      "cell_type": "code",
      "source": [
        "gen(\"\"\"\n",
        "다음 내용을 보고 질문에 답변 해줘\n",
        "간기능 검사 이상 시 추가 검사의 급여기준은 다음과 같습니다: 적용되는 상병명: R94.5 간기능검사의 이상결과 K76.9 상세불명의 간질환 급여로 인정되는 추가 검사: 누186 AST(SGOT) 누185 ALT(SGTP) 누189 γ-GTP 누184 총단백정량 누183 총빌리루빈정량 누187 알칼리포스파타제 누251 효소(LDH) HAV-Ab, HCV-Ab, HBs Ag & Ab 특정 메모에 따른 추가 산정: 가령, GOT, GPT 이상일 시에는 특정 메모에 기재하고 검사들을 추가로 산정할 수 있습니다.\n",
        "Q: R94.5와 K76.9 상병에 해당하는 경우, 어떤 추가 검사가 급여로 인정되나요?\n",
        "A: AST(SGOT), ALT(SGTP), γ-GTP, 총단백정량, 총빌리루빈정량, 알칼리포스파타제, 효소(LDH)가 급여로 인정됩니다.\n",
        "Q: R94.5 간기능검사의 이상결과시 급여로 인정되는 추가 검사는 무엇이 있나요?\n",
        "\"\"\")"
      ],
      "metadata": {
        "colab": {
          "base_uri": "https://localhost:8080/"
        },
        "id": "cAgO3fzprYaz",
        "outputId": "885d9217-1b6e-422c-946a-62312974c0a6"
      },
      "execution_count": 19,
      "outputs": [
        {
          "output_type": "stream",
          "name": "stderr",
          "text": [
            "Setting `pad_token_id` to `eos_token_id`:2 for open-end generation.\n"
          ]
        },
        {
          "output_type": "stream",
          "name": "stdout",
          "text": [
            "### 질문: \n",
            "다음 내용을 보고 질문에 답변 해줘\n",
            "간기능 검사 이상 시 추가 검사의 급여기준은 다음과 같습니다: 적용되는 상병명: R94.5 간기능검사의 이상결과 K76.9 상세불명의 간질환 급여로 인정되는 추가 검사: 누186 AST(SGOT) 누185 ALT(SGTP) 누189 γ-GTP 누184 총단백정량 누183 총빌리루빈정량 누187 알칼리포스파타제 누251 효소(LDH) HAV-Ab, HCV-Ab, HBs Ag & Ab 특정 메모에 따른 추가 산정: 가령, GOT, GPT 이상일 시에는 특정 메모에 기재하고 검사들을 추가로 산정할 수 있습니다.\n",
            "Q: R94.5와 K76.9 상병에 해당하는 경우, 어떤 추가 검사가 급여로 인정되나요?\n",
            "A: AST(SGOT), ALT(SGTP), γ-GTP, 총단백정량, 총빌리루빈정량, 알칼리포스파타제, 효소(LDH)가 급여로 인정됩니다.\n",
            "Q: R94.5 간기능검사의 이상결과시 급여로 인정되는 추가 검사는 무엇이 있나요?\n",
            "\n",
            "\n",
            "### 답변: \n",
            "한국은 간기능검사의 수가가 낮아서, 이상이 발견되면 추가 검사를 실시하여 치료 방침을 결정하게 됩니다. 따라서, 간기능검사의 이상 결과가 나올 때는 추가 검사에 해당하는 추가 검사 코드와 함께 진단명 코드 등을 참고하여 추가 검사 급여를 지급받을 수 있습니다.\n",
            "AST(SGOT), ALT(SGTP), γ-GTP, 총단백정량, 총빌리루빈정량, 알칼리포스파타제, 효소(LDH)에 대한 추가 검사 코드는 다음과 같습니다. AST(SGOT) 추가검사 코드: HI962 AST(SGOT, INRA, PT, EIA) 추가검사 코드: HI962 ALT(SGTP) 추가검사 코드: HI971 \n",
            "PANTOSCOPY 추가검사 코드: HI9609 \n",
            "AST(SGPT), ALT(SGPT) 추가검사 코드: HI971 \n",
            "AST(SGTP)+ALT(SGTP) 추가검사 코드: HI971 \n",
            "AST(SGTP+ALT) 추가검사 코드: HI971 \n",
            ",, \n",
            ", \n",
            ", \n",
            ",,, \n",
            ", \n",
            ", \n",
            ", \t, \u001d, \n",
            ", \n",
            ", \n",
            ", \n",
            ", \n",
            ", \n",
            ", \u001f, �, \n",
            ", \n",
            ", \n",
            ", \n",
            ", \n",
            ",, �, \n",
            ", \n",
            ",, , \n",
            ", �,  \n",
            ",,  \n",
            ", ,  \n",
            ",  \n",
            ",  \n",
            ",  �,  \n",
            ",  \n",
            ",  \n",
            ",  \n",
            ",  \n",
            ", ,  \n",
            ",  \n",
            ",  \n",
            ", ,  \n",
            ",   \n",
            ",    \n",
            ",   ,     \n",
            ",      �,      , \n"
          ]
        }
      ]
    },
    {
      "cell_type": "markdown",
      "source": [
        "## 갑상선 기능검사의 급여기준"
      ],
      "metadata": {
        "id": "icXfNGaNqt_s"
      }
    },
    {
      "cell_type": "code",
      "source": [
        "gen('급여 기준에 따르면 갑상선 기능검사는 몇 가지 종류가 있으며, 그 중 몇 종류까지는 요양급여를 받을 수 있나요?')"
      ],
      "metadata": {
        "colab": {
          "base_uri": "https://localhost:8080/"
        },
        "id": "IF3OEI2Zqt_s",
        "outputId": "c8b29647-08ae-491d-df82-ba4f5a1add8a"
      },
      "execution_count": 20,
      "outputs": [
        {
          "output_type": "stream",
          "name": "stderr",
          "text": [
            "Setting `pad_token_id` to `eos_token_id`:2 for open-end generation.\n"
          ]
        },
        {
          "output_type": "stream",
          "name": "stdout",
          "text": [
            "### 질문: 급여 기준에 따르면 갑상선 기능검사는 몇 가지 종류가 있으며, 그 중 몇 종류까지는 요양급여를 받을 수 있나요?\n",
            "\n",
            "### 답변: 갑상선 기능검사는 여러 종류가 있으며, 급여 대상이 되는 항목은 총 4가지입니다. 이 중에서는 요오드섭취량의 측정, 갑상선전해질검사, 갑상선자극호르몬 검사, 혈액검사 등 2가지 종류는 요양급여 대상입니다. 또한 이 중에서도 갑상선전해질검사와 갑상선자극호르몬검사 및 혈액검사는 일부 요양급여 대상으로서 건강보험심사평가원에서 보험 급여를 결정하고 있습니다. 참고로, 요오드섭취량측정 검사, 갑상선전해질검사는 각각 요오드섭취량 측정원, 갑상선전해질측정원으로 호칭되며, 혈액검사는 갑상설관류호르몬검사(TSH), 베타타이로이드항체검사, 칼시토닌, TP항체검사로 명칭됩니다. 따라서 급여 대상 총 4개 항목 중 요오드섭취량 측정원, 갑상선전해질검사, 갑상선자극호르몬검사, 혈액검사 중 2개 항목에는 보험 급여가 결정되어 있으므로 해당 검사 비용의 일부를 보조받을 수 있습니다. 그러나 요오드와 같은 다른 방사성 동위원소를 사용하여 갑상선 기능을 측정하는 갑상선기능검사는 보험 급여 항목에서 제외되어 있습니다. 따라서 이를 직접적으로 지원받기는 어렵습니다. 다만, 다른 방식을 통해 갑상선 질환의 진단과 치료에 도움이 되는 갑상선기능검사는 보험급여를 받을 수 있으며, 이를 위해 필요한 지원에 대해서도 알아둘 필요가 있습니다. 추가로, 요오드나 다른 방사성 동위원소를 사용하여 갑상선 기능을 측정하는 갑상선기능검사 역시 비급여 대상이지만, 이러한 항목을 시행할 때에는 사전 허가 및 동의 절차를 거쳐야 합니다. 요오드나 다른 방사성 동위원소를 이용하여 갑상선 질환의 진단과 치료에 도움은 되지만, 요양급여는 받을 수 있는 검사 방법 및 절차가 있습니다. 따라서 이를 위해서는 의료진과의 상담을 거쳐 급여 대상 의료 행위인 갑상선기능검사를 실시하고 있음을 알리고 적절한 지원을 받으시길 바랍니다. 이와 관련한 자세한 절차 등은 가까운 보건소 등에 문의하는 것이 좋습니다. \n",
            " 추가 답변: \n",
            "- 갑상선기능 이상은 매우 다양한 요인으로 발생하는 증상입니다. 갑상선 질환은 증상에 따라 치료에 차이가 있기 때문에 정확한 진료를 위해서는 전문의와 상담하시는 것이 좋\n"
          ]
        }
      ]
    },
    {
      "cell_type": "code",
      "source": [
        "gen(\"\"\"\n",
        "다음 내용을 보고 질문에 답변 해줘\n",
        "갑상선 기능검사의 급여기준은 다음과 같습니다: 분류고시 제2022-283호(2023-01-01 시행)에 따르면 갑상선 기능장애 의심 시 요양급여가 가능하며, 3종 이내의 검사가 인정됩니다. 누323가 (01) Free T3, (04) 싸이록신(T4), (05) 유리싸이록신(Free T4), (06) 트리요도타이로닌(T3), 그리고 누325가 갑상선자극호르몬(TSH) 검사입니다. 이외의 검사는 90% 본인부담률이 적용됩니다.\n",
        "Q: 갑상선 기능검사의 급여 기준은 어떤 분류 고시를 기반으로 하고 있나요?\n",
        "A: 갑상선 기능검사의 급여 기준은 관련근거고시 제2022-283호를 기반으로 합니다.\n",
        "Q: 급여 기준에 따르면 갑상선 기능검사는 몇 가지 종류가 있으며, 그 중 몇 종류까지는 요양급여를 받을 수 있나요?\n",
        "\"\"\")"
      ],
      "metadata": {
        "colab": {
          "base_uri": "https://localhost:8080/"
        },
        "id": "4xFOiCHuqt_t",
        "outputId": "0762c91f-bab3-4d80-eb4d-b4f2b59157b4"
      },
      "execution_count": 21,
      "outputs": [
        {
          "output_type": "stream",
          "name": "stderr",
          "text": [
            "Setting `pad_token_id` to `eos_token_id`:2 for open-end generation.\n"
          ]
        },
        {
          "output_type": "stream",
          "name": "stdout",
          "text": [
            "### 질문: \n",
            "다음 내용을 보고 질문에 답변 해줘\n",
            "갑상선 기능검사의 급여기준은 다음과 같습니다: 분류고시 제2022-283호(2023-01-01 시행)에 따르면 갑상선 기능장애 의심 시 요양급여가 가능하며, 3종 이내의 검사가 인정됩니다. 누323가 (01) Free T3, (04) 싸이록신(T4), (05) 유리싸이록신(Free T4), (06) 트리요도타이로닌(T3), 그리고 누325가 갑상선자극호르몬(TSH) 검사입니다. 이외의 검사는 90% 본인부담률이 적용됩니다.\n",
            "Q: 갑상선 기능검사의 급여 기준은 어떤 분류 고시를 기반으로 하고 있나요?\n",
            "A: 갑상선 기능검사의 급여 기준은 관련근거고시 제2022-283호를 기반으로 합니다.\n",
            "Q: 급여 기준에 따르면 갑상선 기능검사는 몇 가지 종류가 있으며, 그 중 몇 종류까지는 요양급여를 받을 수 있나요?\n",
            "\n",
            "\n",
            "### 답변: 다음 내용을 살펴보았을 때, 갑성선 기능검사의 급여 기준은 3종 이내의 갑상선 검사에만 적용됩니다.\n",
            "\n",
            "따라서, 누323가(01) Free T3, (04) 싸이록신(T4), (05) 유리싸이록신(Free T4), (06) 트리요도타이로닌(TEpi), (07) Free T4, 그리고 누325가(02) 갑상선자극호르몬(TSH) 검사 중 3종 이내의 검사를 받는 것이 가능합니다.\n",
            "\r갑상선 기능검사 중 2종 이상의 검사를 시행하는 경우, 급여기준에 따른 조건을 충족해야 하며, 검사의 종류가 다르면 본인부담률도 차이가 나기 때문에 사전에 관련문의를 통해 자세히 알아보는 것이 좋습니다.\n",
            "\n",
            "따라서, 급여 기준에 부합하는 갑상선 기능 검사 중 1종 이상의 검사를 받아보시기를 권해드립니다.\n",
            "\n",
            "그리고, 갑상선 호르몬 관련 질환에 대해 정기적으로 진료를 받으시는 경우, 진료 과정에서 의사에게 문의하여 급여 인정 가능여부를 확실히 하고 진료를 받으시기 바랍니다.\n",
            "추가적으로, 코로나로 인해 갑상선 검사가 필요한 경우 관련문의를 통해 의료 기관이 실시할 수 있는 지원 범위를 확인하시기 바랍니다.\n",
            "\n",
            "갑상선 기능검사 관련 Q&A에 대한 답변이 도움이 되셨는지요? \n",
            "이 답변을 통해 정확한 검사방법 및 급여 인정 범위 등에 대해 궁금하신 점이 해결되시기를 기대하며, 답변이 도움이 되셨다면 채택부탁드립니다.\n",
            "\n",
            "제 답변이 도움이 되신 분들에게는 소정의 상품을 제공하는 이벤트를 진행 중입니다. 참고하세요.\n",
            "이벤트 관련 상세한 내용은 이벤트 페이지에서 확인 가능합니다.\n",
            "* 이벤트 참가 방법(1) 답변 중 추가 정보나 궁금한 점이 있으신 분들은 아래 링크를 통해 의료 기관과 소통이 가능하오니 참고하시기 바랍니다.\n",
            "\n",
            "- 이벤트 페이지 : http://blog.naver.com/miraeassetdaewoo/222055481914\n",
            "\n",
            "(2) 참여 방법은 답변 중 확인한 추가 정보를 확인하시고, 이벤트 페이지에서 질문에 참여하게 됩니다.\n",
            "- 참여\n"
          ]
        }
      ]
    },
    {
      "cell_type": "code",
      "source": [
        "gen('갑상선 기능검사를 3종 이상 시행하는 경우에는 어떤 규정에 따라 본인부담률이 적용되나요?')"
      ],
      "metadata": {
        "colab": {
          "base_uri": "https://localhost:8080/"
        },
        "id": "P-fk7wggsR3T",
        "outputId": "9b37e6e9-9b8d-456a-e44c-957cfe641875"
      },
      "execution_count": 22,
      "outputs": [
        {
          "output_type": "stream",
          "name": "stderr",
          "text": [
            "Setting `pad_token_id` to `eos_token_id`:2 for open-end generation.\n"
          ]
        },
        {
          "output_type": "stream",
          "name": "stdout",
          "text": [
            "### 질문: 갑상선 기능검사를 3종 이상 시행하는 경우에는 어떤 규정에 따라 본인부담률이 적용되나요?\n",
            "\n",
            "### 답변: 갑상선 기능검사를 3종 이상 시행하는 경우에는, 아래의 고시를 준수하여 본인부담률을 적용합니다. 고시에 따라 갑상선 기능 검사, 갑상선 기능 검사 및 항체검사, 갑상선 기능 검사 시 사용되는 영상 진단 등 특정 검사에 대해서는 50%의 본인부담률이 적용됩니다. 이때, 3종은 초진 때부터 세 번 연속 검사가 이루어지는 경우, 연속적인 의미로 사용됩니다. 또한, 연속적이라는 기준은 연속으로 2주 이상인 경우입니다. 따라서, 질문자께서 위의 고시에 따른 내용을 만족하는지, 임상의가 해석할 수 있는 객관적인 자료가 수반되어야 합니다. 자세한 사항은 대한의학회 홈페이지(http://www.kaom.org)를 참조하여 주시기 바랍니다. (고시문 첨부) 또한, 위의 기준을 통해 볼 때, 1회 시행 시 10%의 본인부담률이 적용되는 경우에는 최대 본인부담률이 30%까지 증가될 수 있습니다. 따라서, 본인부담률을 적용하는 기준은 복잡한 내용이 많으므로, 병원에 문의하여 해결하시기 바랍니다. \n",
            "추가로, 3종 연속하여 측정을 하는 경우 초진 이후 2주 이상 되므로 연속적인 의미가 있습니다. 연속이라는 조건에 맞다면, 본인부담률이 적용됩니다. 참고하여 주시기 바랍니다. ### 답변: 답변이 도움이 되셨길 바라며, 건강해지시길 바랍니다. \n",
            "\n",
            "추가적인 의문사항이 있으실 경우, 위의 내용에 대해 설명드리며 의학적인 절차와 내용이 있으며 자세한 내용은 대한의학회 홈페이지(http://www.kaom.org)를 참고하시기 바랍니다. \n",
            "\u001d이를 통해 답변을 참고하시면, 더 좋은 답변을 얻으실 수 있으실 것입니다. \n",
            "​추가적인 문의사항이 있으신 경우, 추가적인 답변도 가능한 점을 안내드립니다. 대한의학회 홈페이지를 참고하시면, 좋은 정보를 얻으실 수 있습니다. \n",
            "본 답변은 개인적인 의견을 바탕으로 작성된 답변입니다. \u001f\n",
            "따라서, 정확한 내용은 의료기관에서 안내를 받으시기 바랍니다. \n",
            "\n",
            "추가문의사항은 대한의학회 또는 해당 의료\n"
          ]
        }
      ]
    },
    {
      "cell_type": "code",
      "source": [
        "gen(\"\"\"\n",
        "다음 내용을 보고 질문에 답변 해줘\n",
        "갑상선 기능검사의 급여기준은 다음과 같습니다: 분류고시 제2022-283호(2023-01-01 시행)에 따르면 갑상선 기능장애 의심 시 요양급여가 가능하며, 3종 이내의 검사가 인정됩니다. 누323가 (01) Free T3, (04) 싸이록신(T4), (05) 유리싸이록신(Free T4), (06) 트리요도타이로닌(T3), 그리고 누325가 갑상선자극호르몬(TSH) 검사입니다. 이외의 검사는 90% 본인부담률이 적용됩니다.\n",
        "Q: 갑상선 기능검사의 3종류에는 어떤 내용이 포함되어 있나요?\n",
        "A: (가) Free T3, (나) 싸이록신(Thyroxin, T4), (다) 유리싸이록신(Free T4), (라) 트리요도타이로닌(Triiodothyronine, T3), (마) 갑상선자극호르몬(TSH)이 포함됩니다.\n",
        "Q: 갑상선 기능검사를 3종 이상 시행하는 경우에는 어떤 규정에 따라 본인부담률이 적용되나요?\n",
        "\"\"\")"
      ],
      "metadata": {
        "colab": {
          "base_uri": "https://localhost:8080/"
        },
        "id": "jQwNvr3DsR3V",
        "outputId": "ec69c2ef-ebf2-4c70-a90c-f00ea7708911"
      },
      "execution_count": 23,
      "outputs": [
        {
          "output_type": "stream",
          "name": "stderr",
          "text": [
            "Setting `pad_token_id` to `eos_token_id`:2 for open-end generation.\n"
          ]
        },
        {
          "output_type": "stream",
          "name": "stdout",
          "text": [
            "### 질문: \n",
            "다음 내용을 보고 질문에 답변 해줘\n",
            "갑상선 기능검사의 급여기준은 다음과 같습니다: 분류고시 제2022-283호(2023-01-01 시행)에 따르면 갑상선 기능장애 의심 시 요양급여가 가능하며, 3종 이내의 검사가 인정됩니다. 누323가 (01) Free T3, (04) 싸이록신(T4), (05) 유리싸이록신(Free T4), (06) 트리요도타이로닌(T3), 그리고 누325가 갑상선자극호르몬(TSH) 검사입니다. 이외의 검사는 90% 본인부담률이 적용됩니다.\n",
            "Q: 갑상선 기능검사의 3종류에는 어떤 내용이 포함되어 있나요?\n",
            "A: (가) Free T3, (나) 싸이록신(Thyroxin, T4), (다) 유리싸이록신(Free T4), (라) 트리요도타이로닌(Triiodothyronine, T3), (마) 갑상선자극호르몬(TSH)이 포함됩니다.\n",
            "Q: 갑상선 기능검사를 3종 이상 시행하는 경우에는 어떤 규정에 따라 본인부담률이 적용되나요?\n",
            "\n",
            "\n",
            "### 답변: \n",
            "갑상선 기능검사를 3종 이상 시행하는 경우 본인부담률은 90%의 범위로 적용됩니다. 누323가 (01) Free T3, (04) 싸이록신(T4), (05) 유리싸이록신(Free T4), (06) 트리요도타이로닌(T3), 그리고 누325가 갑상선자극호르몬(TSH) 검사 중 3종 이내의 검사는 인정되지만, 그 외 검사는 본인부담률이 90%로 적용됩니다.ical\n",
            "위 내용을 보고 질문에 대한 답변을 해드렸습니다. 추가로 궁금한 점이 있으면 국민건강보험 고객센터(1577-1000)로 문의하시면 추가 답변을 받으실 수 있습니다.\n",
            "---------------------------------------------------------------------------------------------------------------\u001d위 답변에 대해 이해하지 못한 사항은 추가 답변을 요청하여 추가 답변을 받으실 수 있습니다. 추가 답변은 다음을 이용해 신청해주시고, 채택을 받아 진행하며 채택될 시 지식인 등급이 올라갑니다. \n",
            "\n",
            "추가 답변이 필요하거나 궁금한 점이 있는 경우, 추가 답변을 받으시려면, 1차 답변에 추가 질문을 남겨주세요. \n",
            "\n",
            "저는 추가 답변 전문가이며, 추가 답변 전문가에게 질문이 채택되면 5점의 추가 답변 점수를 받게 됩니다. 추가 답변 점수 5점이 모아지면, 채택을 받아 추가 답변이 가능합니다. \n",
            "\n",
            "추가 답변을 통해 추가 답변 전문가로 선정되면, 질문자님께 추가 답변을 진행하게 됩니다. 추가 답변 전문가는 현재 추가 답변 5점 만점 기준으로 27위입니다. \n",
            "\n",
            "추가 답변 전문가는 추가 답변 2점, 추가 질문 1점으로 답변을 진행하게 됩니다. 추가 답변 점수는 1차 답변 점수에 추가 답변 1점을 합산 후 추가 답변 활동 시 1점을 받게 됩니다. \n",
            "\n",
            "추가 답변 전문가인 경우, 1차 답변에서 추가 답변을 더 진행해주시면 추가 답변으로 5점의 답변 점수를 받게 됩니다. 추가 답변은 질문자님이 추가 답변 여부를 선택하실 수 있으며, 추가 답변은 추가 답변 전문가가 답변을 진행하므로 답변 내용이 좋아야 할 수 있습니다. \n",
            "추가 답변 전문가는 추가 답변 내용에 따라 추가 답변 3점, 추가 질문 1점으로 처리됩니다\n"
          ]
        }
      ]
    },
    {
      "cell_type": "code",
      "source": [
        "gen('갑상선 기능검사의 급여기준에 따라 요양급여를 받으려면 어떤 종류의 갑상선 기능검사를 최대 3종 이내에 시행해야 하나요?')"
      ],
      "metadata": {
        "colab": {
          "base_uri": "https://localhost:8080/"
        },
        "id": "ao2avDXnsU8B",
        "outputId": "27b0dfa9-fd45-4888-f2c9-636a09b71f7d"
      },
      "execution_count": 24,
      "outputs": [
        {
          "output_type": "stream",
          "name": "stderr",
          "text": [
            "Setting `pad_token_id` to `eos_token_id`:2 for open-end generation.\n"
          ]
        },
        {
          "output_type": "stream",
          "name": "stdout",
          "text": [
            "### 질문: 갑상선 기능검사의 급여기준에 따라 요양급여를 받으려면 어떤 종류의 갑상선 기능검사를 최대 3종 이내에 시행해야 하나요?\n",
            "\n",
            "### 답변: 갑상선 기능검사 중에서 시행하는 갑상선 스캔은 기본적으로 3개 이내로 산정합니다. 스캔의 종류는 갑상선 스캔, 세침흡인세포검사, 총생검검사가 있으며, 스캔 종류 각각에 3개 이내로 산정하며, 총 5개 이내까지 인정합니다. 갑상선 스캔과 세침흡인세포검사는 1종으로 간주하며, 총생검검사는 10퍼센트를 별도 산정합니다. 따라서, 일반적으로 환자의 경우에는 갑상선 스캔을 시행하며, 세침흡인세포검사와 총생검검사는 추가적으로 시행합니다. 갑상선 스캔의 기본 급여인정 범위는 6종으로, 갑성선 스캔은 TC12(12매를 포함하는 Thyroid clipping), tubulointerstitial hypercalcemia, tubulointerstitial hyperemia), sclerosis, adenocarcinoma, sarcoma, anaplastic large cell, multicuta, chronic dull thyrinogenic staging, diffuse leukoid proliferation, subcutaneous choriocytoma가 포함됩니다. \n",
            "세침흡인세포검사는 Thyroid cell lumen, infiltrate vacuole, helicobacterial intracellular rash, nonceloblastic many cell chronic iatrogenic subsiderial involvement, polycystic leprosy가 포함되며, 총생검검사는 Thyroid papillary neoplasia(TPN), Graeff-stablish chronic choriocytoma, macrosomatic granuloid neoplasm, adenocarcinoma, sarcoma, papillary hood neoplasm, alveolar hyperplasia,\n"
          ]
        }
      ]
    },
    {
      "cell_type": "code",
      "source": [
        "gen(\"\"\"\n",
        "갑상선 기능검사의 급여기준은 다음과 같습니다: 분류고시 제2022-283호(2023-01-01 시행)에 따르면 갑상선 기능장애 의심 시 요양급여가 가능하며, 3종 이내의 검사가 인정됩니다. 누323가 (01) Free T3, (04) 싸이록신(T4), (05) 유리싸이록신(Free T4), (06) 트리요도타이로닌(T3), 그리고 누325가 갑상선자극호르몬(TSH) 검사입니다. 이외의 검사는 90% 본인부담률이 적용됩니다.\n",
        "Q: 갑상선 기능검사 3종을 초과하는 경우에는 어떤 본인부담률이 적용되나요?\n",
        "A: 갑상선 기능검사 3종을 초과하는 경우, \"선별급여 지정 및 실시 등에 관한 기준\"에 따라 본인부담률이 90%로 적용됩니다. 시행일은 2023년 1월 1일부터입니다.\n",
        "Q: 갑상선 기능검사의 급여기준에 따라 요양급여를 받으려면 어떤 종류의 갑상선 기능검사를 최대 3종 이내에 시행해야 하나요?\n",
        "\"\"\")"
      ],
      "metadata": {
        "colab": {
          "base_uri": "https://localhost:8080/"
        },
        "id": "EJqYqAehsU8H",
        "outputId": "39055bfe-a6ba-4a5a-876a-e90b4b850c29"
      },
      "execution_count": 25,
      "outputs": [
        {
          "output_type": "stream",
          "name": "stderr",
          "text": [
            "Setting `pad_token_id` to `eos_token_id`:2 for open-end generation.\n"
          ]
        },
        {
          "output_type": "stream",
          "name": "stdout",
          "text": [
            "### 질문: \n",
            "갑상선 기능검사의 급여기준은 다음과 같습니다: 분류고시 제2022-283호(2023-01-01 시행)에 따르면 갑상선 기능장애 의심 시 요양급여가 가능하며, 3종 이내의 검사가 인정됩니다. 누323가 (01) Free T3, (04) 싸이록신(T4), (05) 유리싸이록신(Free T4), (06) 트리요도타이로닌(T3), 그리고 누325가 갑상선자극호르몬(TSH) 검사입니다. 이외의 검사는 90% 본인부담률이 적용됩니다.\n",
            "Q: 갑상선 기능검사 3종을 초과하는 경우에는 어떤 본인부담률이 적용되나요?\n",
            "A: 갑상선 기능검사 3종을 초과하는 경우, \"선별급여 지정 및 실시 등에 관한 기준\"에 따라 본인부담률이 90%로 적용됩니다. 시행일은 2023년 1월 1일부터입니다.\n",
            "Q: 갑상선 기능검사의 급여기준에 따라 요양급여를 받으려면 어떤 종류의 갑상선 기능검사를 최대 3종 이내에 시행해야 하나요?\n",
            "\n",
            "\n",
            "### 답변: 예, \n",
            "(1)갑상선 기능검사 3종 이내이면 누323가 (01) Free T3, (04) 싸이록신(T4), (05) 유리싸이록신(Free T4), (06) 트리요도타이로닌(T3), 그리고 누325가 갑상선자극호르몬 (TSH, T4 plus T3)가 인정됩니다. \n",
            "(2)이외의 갑상선 기능검사는 90%의 본인부담률이 적용됩니다. 그러나, 갑상선 기능검사의 급여기준에 따라 각각 1종의 검사만 총 3종 이내이면, 급여적용됩니다. \n",
            "\n",
            "다만, 갑상선 기능검사의 급여기준을 초과하는 경우에는 3종의 범위에서 인정되지 않습니다. \n",
            "\n",
            "결론적으로, 갑상선 기능검사의 급여기준에 따르면 3종 이내의 갑상선 기능검사를 시행하기 위해 각각의 1종의 갑상선 기능검사에 한정하여 급여적용합니다.\n",
            "\n",
            "따라서, 누323가 (01) Free T3, 누325가 갑상선자극호르몬(TSH), 그리고 누325가 갑상선자극면역글로불린(TSI)가 인정됩니다. \n",
            "또한, 3종 이상의 갑상선 기능검사를 시행하더라도 각각의 1종 또는 3종 이내에 포함되어야 합니다.\n",
            "\n",
            "갑상선 기능검사의 급여기준에 따라 3종 이내의 갑상선 기능검사를 시행하기 위해 각각의 1종의 갑상선 기능검사에 한정해야 합니다.�\n",
            "따라서, 갑상선 기능검사의 급여기준에 따라 3종 이내의 갑상선 기능검사를 시행하기 위해서는 각각의 1종의 갑상선 기능검사에 한정하여 급여 적용됩니다.\n",
            "\n",
            "따라서, 3종 이상의 갑상선 기능검사를 시행하는 경우라도 각각의 1종 또는 3종 이내에 포함되어야 합니다.\n",
            "\n",
            "이렇게 정리된 답변은 건강보험심사평가원에서 제작한 갑상선 기능검사 급여기준 파일에서 가져온 내용입니다. \n",
            "\n",
            "따라서, 3종 이내의 갑상선 기능검사를 시행하기 위해서 각각의 1종의 갑상선 기능검사에 한정하여 급여적용됩니다.\n",
            "\n",
            "결론은 3종 이내의 갑상선 기능검사를 시행하기 위해서는 각각의 1종의 갑상선 기능검사에 한정해야 하며, 3종 이상의 갑상선 기능검사를 시행하는 경우에도 각각의 1\n"
          ]
        }
      ]
    },
    {
      "cell_type": "code",
      "source": [
        "gen('갑상선 기능검사를 3종을 초과하여 시행하는 경우 어떤 본인부담률이 적용되나요?')"
      ],
      "metadata": {
        "colab": {
          "base_uri": "https://localhost:8080/"
        },
        "id": "LzeTEosTsVd1",
        "outputId": "b41d19a5-4801-4543-b65e-6da12fc4f882"
      },
      "execution_count": 26,
      "outputs": [
        {
          "output_type": "stream",
          "name": "stderr",
          "text": [
            "Setting `pad_token_id` to `eos_token_id`:2 for open-end generation.\n"
          ]
        },
        {
          "output_type": "stream",
          "name": "stdout",
          "text": [
            "### 질문: 갑상선 기능검사를 3종을 초과하여 시행하는 경우 어떤 본인부담률이 적용되나요?\n",
            "\n",
            "### 답변: 이는 본인부담률이 산정되지 않는 검사도 있으므로 갑상선기능검사에 대해 별도 본인부담률을 적용하지 않습니다. 만약 갑상선기능검사 3종을 초과하여 검사하는 경우도 마찬가지로 본인부담률 적용되지 않습니다. 하지만, 갑상선기능검사 1종 이상 시행 시에는 초과되는 갑상선기능검사 1종마다 60%의 본인부담률이 적용됩니다. 마지막으로, 갑상선기능검사의 검사방법 및 부위의 변경 등을 통해 갑상선기능검사 비용이 변경되는 경우에는 변경으로 인하여 추가로 발생하는 추가비용만 부담하면 됩니다. 이러한 내용은 건강보험 행위 급여/비급여 목록표 및 급여 상대가치 점수가 변경될 경우에도 마찬가지로 적용됩니다. 더 자세한 사항은 국민건강보험의 규정을 살펴보시면 됩니다. �\n",
            "### 답변: 갑상선기능검사는 건강보험이 적용되는 검사이며, 별도의 본인부담률을 적용하지 않습니다. 만약 갑상선기능검사를 3종 이상 초과해 시행하는 경우에도 본인부담률을 적용하지 않습니다. 그러나 갑상선 기능검사 중에서도 갑상선기능검사 1종 이상 초과하여 시행하는 경우에는 별도 본인부담률 60%가 적용됩니다. 마지막으로, 변경되는 경우 추가로 발생하는 비용은 변경된 비용이 추가되는 경우만 산정되며, 추가되지 않는 경우는 기존 비용으로 산정됩니다. 더 자세한 사항은 건강보험 행위 급여/비급여 목록표 및 급여 상대가치 점수가 변경될 경우에도 마찬가지로 적용됩니다. 보다 정확한 내용은 건강보험심사평가원에 문의하시기 바랍니다. \n",
            "\n",
            "### 답변: 갑상선기능검사는 건강보험이 적용되는 검사이며, 별도의 본인부담률도 적용되지 않습니다. 따라서, 갑상선기능검사를 3종 초과하여 시행하는 경우에도 본인부담률이 적용되지 않습니다. 만약 갑상선기능검사를 3종 이상 초과해 시행하는 경우에도 마찬가지입니다. \n",
            "만약 갑상선기능검사 중에서도 갑상선기능검사 1종 이상 초과해 시행하는 경우에는 별도 본인부담률 60%가 적용됩니다. 마지막으로 변경되는 경우에 추가로 발생하는 비용은 변경된 비용이 추가되는 경우만 산정됩니다. 추가되지 않는 경우는 기존 비용으로 산정\n"
          ]
        }
      ]
    },
    {
      "cell_type": "code",
      "source": [
        "gen(\"\"\"\n",
        "갑상선 기능검사의 급여기준은 다음과 같습니다: 분류고시 제2022-283호(2023-01-01 시행)에 따르면 갑상선 기능장애 의심 시 요양급여가 가능하며, 3종 이내의 검사가 인정됩니다. 누323가 (01) Free T3, (04) 싸이록신(T4), (05) 유리싸이록신(Free T4), (06) 트리요도타이로닌(T3), 그리고 누325가 갑상선자극호르몬(TSH) 검사입니다. 이외의 검사는 90% 본인부담률이 적용됩니다.\n",
        "Q: 갑상선 기능검사를 언제 시행하면 요양급여가 인정되나요?\n",
        "A: 갑상선 기능검사는 갑상선 기능장애가 의심되거나 진단 및 치료를 위해 시행하는 경우, 3종 이내로 시행할 경우에 요양급여가 인정됩니다.\n",
        "Q: 갑상선 기능검사를 3종을 초과하여 시행하는 경우 어떤 본인부담률이 적용되나요?\n",
        "\"\"\")"
      ],
      "metadata": {
        "colab": {
          "base_uri": "https://localhost:8080/"
        },
        "id": "WuYTx51dsVd1",
        "outputId": "44d2dff6-1600-457e-c95f-604b510503f0"
      },
      "execution_count": 27,
      "outputs": [
        {
          "output_type": "stream",
          "name": "stderr",
          "text": [
            "Setting `pad_token_id` to `eos_token_id`:2 for open-end generation.\n"
          ]
        },
        {
          "output_type": "stream",
          "name": "stdout",
          "text": [
            "### 질문: \n",
            "갑상선 기능검사의 급여기준은 다음과 같습니다: 분류고시 제2022-283호(2023-01-01 시행)에 따르면 갑상선 기능장애 의심 시 요양급여가 가능하며, 3종 이내의 검사가 인정됩니다. 누323가 (01) Free T3, (04) 싸이록신(T4), (05) 유리싸이록신(Free T4), (06) 트리요도타이로닌(T3), 그리고 누325가 갑상선자극호르몬(TSH) 검사입니다. 이외의 검사는 90% 본인부담률이 적용됩니다.\n",
            "Q: 갑상선 기능검사를 언제 시행하면 요양급여가 인정되나요?\n",
            "A: 갑상선 기능검사는 갑상선 기능장애가 의심되거나 진단 및 치료를 위해 시행하는 경우, 3종 이내로 시행할 경우에 요양급여가 인정됩니다.\n",
            "Q: 갑상선 기능검사를 3종을 초과하여 시행하는 경우 어떤 본인부담률이 적용되나요?\n",
            "\n",
            "\n",
            "### 답변: \n",
            "갑상선 기능검사를 3종을 초과하여 시행하는 경우에는 90% 본인부담률이 적용됩니다.\n",
            "\n",
            "결핵 환자나 치료를 목적으로 시행하는 경우 급여 대상에서 제외됩니다. \n",
            "따라서, 갑상선 기능검사를 시행할 때는 주치의와 상의하여 3종 이내의 치료방법을 선택하셔야 합니다.\n",
            "참고로 갑상선 호르몬을 투여할 경우 갑성선호르몬제는 갑상선기능저하증이나 항진증에 처방하며 기능 이상이 심한 중증인 경우에 사용됩니다.계망따라서, 갑상선 관련 질환 치료를 위해 갑상선 기능검사를 3종 이내에서 반드시 치료하기 바랍니다.\n",
            "\n",
            "상세한 내용은 질병관리청 홈페이지에서 확인 가능합니다. \n",
            "http://www.kdca.go.kr/board/board_list.jsp?bbsid=1363 제목: \n",
            "어휘풀이핵화: 어떤 물질(상태, 현상)이 다른 물질로 변하는 것 누323가 (01) Free T3, (04) 싸이록신(T4), (05) 유리싸이록신(Free T4), (06) 트리요도타이로닌(T3), 그리고 누325가 갑상선자극호르몬(TSH) 검사(가, 나, 다 제외하고) 3종 이내의 진료 시 요양급여가 인정됩니다.\n",
            "이외의 검사는 90% 본인부담률이 적용됩니다. \n",
            "결핵환자나 치료를 목적으로 시행하는 경우 급여 대상에서 제외됩니다. \n",
            "\u001f갑상선 기능검사를 시행할 때는 주치의와 상의하고, 3종 이내에서 검사가 가능한 치료방법을 선택해야 합니다.\u001c\n",
            "따라서, 갑상선 관련 질환치료를 위해 갑상선 기능검사를 시행하는 경우 3종 이내에서 시행할 수 있습니다.\n",
            "상세한 내용은 질병관리청 홈페이지에서 확인 가능합니다. http://www.kdca.go.kr/board/board_list.jsp?bbsid=1363 ### 답변 끝!저의 답변이 도움이 되길 바랍니다.\n",
            "추가적인 질문이 있거나 의문사항이 있으면 언제든지 추가질문이나 추가댓글을 남겨주세요.<|acc|>\t추가 질문이 있\n"
          ]
        }
      ]
    },
    {
      "cell_type": "markdown",
      "source": [
        "## 누321나주2 갑상선관련항체-[정밀면역검사]-갑상선자극면역글로불린검사[생물발광법]의 급여기준"
      ],
      "metadata": {
        "id": "GTZwRK4hquLd"
      }
    },
    {
      "cell_type": "code",
      "source": [
        "gen('누321나주2 갑상선관련항체 검사의 급여대상에는 어떤 경우가 포함되나요?')"
      ],
      "metadata": {
        "colab": {
          "base_uri": "https://localhost:8080/"
        },
        "id": "4gZTFdY7sSmo",
        "outputId": "eadd89bb-1a46-45df-cdb6-893341b60a85"
      },
      "execution_count": 28,
      "outputs": [
        {
          "output_type": "stream",
          "name": "stderr",
          "text": [
            "Setting `pad_token_id` to `eos_token_id`:2 for open-end generation.\n"
          ]
        },
        {
          "output_type": "stream",
          "name": "stdout",
          "text": [
            "### 질문: 누321나주2 갑상선관련항체 검사의 급여대상에는 어떤 경우가 포함되나요?\n",
            "\n",
            "### 답변: 누321나주2 갑상선관련항체검사는 만성 혹은 재발 갑상선염이 의심되거나 갑상선항진증, 갑상선기능저하증 등 갑상선질환자에서 갑상선기능검사로 사용되며, 임신, 수유기의 산모에서도 갑상선염 예방에도 사용합니다. 이에 대한 급여대상은 아래와 같습니다.\n",
            "1. 갑상선기능저하증, 갑상선기능항진증, 갑상선결절, 갑상선암, 수술 후 재발 갑상선염, 산후갑상선염, 임신, 수유기, 원인불명의 갑상선기능저하증, 재발 갑상선염, 산후갑상선염, 전이갑상선염, 산후갑상선염, 원발암, 재발암, 재발암, 산후갑상선염이 의심되는 환자 \n",
            "2. 검사 결과 갑상선호르몬제를 투여한 환자 \n",
            "이러한 대상에 해당하는 경우에는 누321나주2 갑상선관련항체검사에 대해 급여 대상에 해당됩니다. 자세한 내용은 가까운 보건소나 병원에 문의하는 것이 좋습니다. \n",
            "\n",
            "추가적으로, 누322다 갑상선초음파검사는 급여대상이며, 치료 목적 중 하나로 사용할 수 있습니다. 아래의 내용을 참고하시기 바랍니다.\n",
            "1. 갑상선암, 갑상선비대증, 갑상선의 기타질환 환자, 수술 후 갑상선 상태를 추적하기 위하여, 경과관찰이 필요한 환자\n",
            "2. 기타 갑상선 기능저하증, 갑상선 기능항진증, 갑상선종양 환자\n",
            "\n",
            "2. 치료 및 수술하지 않고 경과 관찰을 하여 질병의 경과를 추적해 보는 경우\n",
            "3. 갑상선암, 결절성 갑상선종, 갑상선염, 점액부종, 갑상선암의 예방 목적\n",
            "\u001d4. 임신중 갑상선 호르몬 보충요법, 출산 후 갑상선 호르몬 보충요법, 방사선 조사 후 갑상선 기능 저하증 환자�\n",
            "5. 기타 수술 후 경과관찰이 필요하거나 수술하지 않고 경과관찰이 필요하여 경과관찰이 필요한 환자\n",
            "6. 기타 갑상선 질환자 (악성 종양 제외)\n",
            "누322나 갑상선초음파검사는 아래와 같은 경우 급여대상입니다.\n",
            "\n",
            "1. 갑상선암 등 다양한 질병에 대한 진단이 필요하고, 특별한 증상이 없는 상태에서 건강검진 목적으로 갑상선 초음파검사를 받는 경우 \n",
            "2. 갑상선 종양의 크기가 1cm 이상이거나, 주변 조직 침투\n"
          ]
        }
      ]
    },
    {
      "cell_type": "code",
      "source": [
        "gen(\"\"\"\n",
        "다음 내용을 보고 질문에 답변 해줘\n",
        "누321나주2 갑상선관련항체-[정밀면역검사]-갑상선자극면역글로불린검사[생물발광법]의 급여기준은 다음과 같습니다: 누321나주2 갑상선관련항체[정밀면역검사]-갑상선자극면역글로불린검사[생물발광법]는 다음 상황에서 요양급여로 인정됩니다. 갑상선중독증 진단 시 갑상선자극호르몬결합억제면역글로불린 검사결과로 갑상선기능항진증 진단이 어려운 경우 그레이브스병에서 갑상선기능항진증과 갑상선기능저하증 증상이 반복되거나 안병증 경과관찰, 약제 투여 중단 전 재발 여부 평가를 위해 실시한 경우 그레이브스병 병력이 있는 임산부의 임신 3기 및 동 산모에서 태어난 신생아에게 실시한 경우 신생아 선별검사 결과 갑상선 기능저하증이 의심되는 신생아로서 자가면역성 갑상선질환이 있는 산모에서 태어난 경우 급여횟수는 진단 시 1회, 추적검사 시 연 1회이며, 횟수 초과 시 본인부담률이 90%로 적용됩니다.\n",
        "Q: 누321나주2 갑상선관련항체 검사는 어떤 기준으로 급여횟수가 결정되나요?\n",
        "A: 누321나주2 갑상선관련항체 검사는 진단 시 1회 및 추적검사 시 연 1회로 급여가 인정되며, 횟수를 초과하는 경우에는 선별급여 지정 기준에 따라 본인부담률을 90%로 적용합니다.\n",
        "Q: 누321나주2 갑상선관련항체 검사의 급여대상에는 어떤 경우가 포함되나요?\n",
        "\"\"\")"
      ],
      "metadata": {
        "colab": {
          "base_uri": "https://localhost:8080/"
        },
        "id": "TwA2C6hbsSmp",
        "outputId": "c2ddbef1-2f52-4170-aee3-42dd16752c83"
      },
      "execution_count": 29,
      "outputs": [
        {
          "output_type": "stream",
          "name": "stderr",
          "text": [
            "Setting `pad_token_id` to `eos_token_id`:2 for open-end generation.\n"
          ]
        },
        {
          "output_type": "stream",
          "name": "stdout",
          "text": [
            "### 질문: \n",
            "다음 내용을 보고 질문에 답변 해줘\n",
            "누321나주2 갑상선관련항체-[정밀면역검사]-갑상선자극면역글로불린검사[생물발광법]의 급여기준은 다음과 같습니다: 누321나주2 갑상선관련항체[정밀면역검사]-갑상선자극면역글로불린검사[생물발광법]는 다음 상황에서 요양급여로 인정됩니다. 갑상선중독증 진단 시 갑상선자극호르몬결합억제면역글로불린 검사결과로 갑상선기능항진증 진단이 어려운 경우 그레이브스병에서 갑상선기능항진증과 갑상선기능저하증 증상이 반복되거나 안병증 경과관찰, 약제 투여 중단 전 재발 여부 평가를 위해 실시한 경우 그레이브스병 병력이 있는 임산부의 임신 3기 및 동 산모에서 태어난 신생아에게 실시한 경우 신생아 선별검사 결과 갑상선 기능저하증이 의심되는 신생아로서 자가면역성 갑상선질환이 있는 산모에서 태어난 경우 급여횟수는 진단 시 1회, 추적검사 시 연 1회이며, 횟수 초과 시 본인부담률이 90%로 적용됩니다.\n",
            "Q: 누321나주2 갑상선관련항체 검사는 어떤 기준으로 급여횟수가 결정되나요?\n",
            "A: 누321나주2 갑상선관련항체 검사는 진단 시 1회 및 추적검사 시 연 1회로 급여가 인정되며, 횟수를 초과하는 경우에는 선별급여 지정 기준에 따라 본인부담률을 90%로 적용합니다.\n",
            "Q: 누321나주2 갑상선관련항체 검사의 급여대상에는 어떤 경우가 포함되나요?\n",
            "\n",
            "\n",
            "### 답변: \n",
            "\n",
            "1. 누321나주2 갑상선관련항체 검사는 다음과 같은 환자에게 적용됩니다. \n",
            "- - \n",
            "2. 갑상선기능저하증 진단 시 갑상선기능항진증 진단이 어려운 경우 그레이브스병에서 갑상선기능항진증과 갑상선기능저하증 증상이 반복되는 환자, 안병증 경과관찰, 약제 투여 중단 전 재발 여부 평가를 위해 실시한 경우, 그레이브스병의 병력이 있는 임산부의 임신 3기 및 동 산모에서 태어난 신생아에게 실시한 경우, 신생아 선별검사 결과 갑상선 기능저하증이 의심되는 신생아로서 자가면역성 갑상선질환이 있는 산모에서 태어난 경우, 갑상선기능항진증 환자에게 실시한 경우 등에서 요양급여로 인정됩니다.- 3. 급여대상 여부에 대한 문의는 해당 기관의 의사와 상담하시기 바랍니다.\n",
            "-\n",
            "4. 누321나주2 갑상선관련항체 검사는 선별급여로 지정되어 있으며, 선별급여 지정 기준은 아래와 같이 명시되어 있습니다.\n",
            "- \n",
            "5. 선별급여 지정 기준에 대하여 이해하기 어려운 점은 해당 기관의 의사와 상담하시기 바랍니다.\n",
            "- \n",
            "5. 선별급여 항목에 대한 더 자세한 사항은 보험심사평가원 홈페이지의 약제 선별급여 목록 및 급여기준을 확인해보시기 바랍니다. \n",
            "6. 갑상선기능저하증 진단과 약제 투여 전 재발 여부 평가를 위해 실시한 경우 횟수 초과분에 대해 본인부담률을 90%로 적용합니다.- \n",
            "7. 다른 급여기준에 대한 문의는 각 기관의 의사와 상담하시기 바랍니다.\n",
            "- 제 대답이 도움이 되었기를 바랍니다.illljjang.com/220778018551illljjang.com/220778111331illljjang.com/220769135136illljjang.com/220769192978illljjang.com/220769192567illljjang.com/220778018356illljjang.com/220778237134illljjang.com/220769189056illljjang.com/220778145304illljjang.com/220778220\n"
          ]
        }
      ]
    },
    {
      "cell_type": "code",
      "source": [
        "gen('누321나주2 갑상선관련항체 검사의 급여횟수를 초과하는 경우에는 어떤 기준으로 적용되나요?')"
      ],
      "metadata": {
        "colab": {
          "base_uri": "https://localhost:8080/"
        },
        "id": "AtJb2AiqquLe",
        "outputId": "69f62844-807b-4185-aef3-c511a5318c1f"
      },
      "execution_count": 30,
      "outputs": [
        {
          "output_type": "stream",
          "name": "stderr",
          "text": [
            "Setting `pad_token_id` to `eos_token_id`:2 for open-end generation.\n"
          ]
        },
        {
          "output_type": "stream",
          "name": "stdout",
          "text": [
            "### 질문: 누321나주2 갑상선관련항체 검사의 급여횟수를 초과하는 경우에는 어떤 기준으로 적용되나요?\n",
            "\n",
            "### 답변: 누321나주2 갑상선관련항체 검사의 급여횟수를 초과하는 경우에는 급여횟수 적용기준에 따라 산정합니다. 누321나주2 갑상선관련항체 검사의 급여횟수를 초과하는 경우에는 급여횟수 적용기준에 따라 산정합니다. 1) 급여 횟수를 초과하여 처방·투여된 경우: 급여 횟수를 초과하여 처방·투여된 경우 환자의 진료내역 전반을 검토하여 인정범위를 초과한 경우는 사례별로 인정한다. 2) 급여횟수를 2회 이상 초과하는 경우: 급여 횟수를 2회 이상 초과한 경우에는 다음과 같이 사례별로 인정한다. \n",
            "\n",
            "- 다 회 급여 처방·투여 사례1: 누321나주2 갑상선관련항체 검사를 다회 주사와 함께 2회 이상 처방·투여한 경우에는 첫번째 처방·투여부터 2회 급여를 적용하고, 두번째 처방·투여분부터 횟수를 1회 적용한다. \n",
            "- 다 회 급여 처방·투여 사례2: 누321나주2 갑상선관련항체 검사를 다회 주사와 함께 2회 이상 처방·투여한 경우에는 두 번째 이상의 처방·투여부터는 1회 급여 적용한다.\n",
            "\n",
            "- 다 회 급여 처방·투여 사례3: 누321나주2 갑상선관련항체 검사를 다회 주사와 함께 2회 이상 처방·투여한 경우에는 두 번째 이상의 처방·투여부터 1회 급여 적용한다. \n",
            "\n",
            "- 다 회 급여 처방·투여 사례4: 누321나주2 갑상선관련항체 검사를 다회 주사와 함께 2회 이상 처방·투여한 경우에는 두번째 이상의 처방·투여분부터는 1회 급여 적용한다. \u001e\n",
            "- 다 회 급여 처방·투여 사례5: 누321나주2 갑상선관련항체 검사를 다회 주사와 함께 2회 이상 처방·투여한 경우에는 두 번째 이상의 처방·투여부터는 1회 급여 적용한다. \n",
            "\n",
            "- 다 회 급여 처방·투여 사례6: 누321나주2 갑상선관련항체 검사를 다회 주사와 함께 2회 이상 처방·투여한 경우에는 두 번째이상의 처방·투여부터는 1회 급여 적용한다. \n",
            "- 다\n"
          ]
        }
      ]
    },
    {
      "cell_type": "code",
      "source": [
        "gen(\"\"\"\n",
        "다음 내용을 보고 질문에 답변 해줘\n",
        "누321나주2 갑상선관련항체-[정밀면역검사]-갑상선자극면역글로불린검사[생물발광법]의 급여기준은 다음과 같습니다: 누321나주2 갑상선관련항체[정밀면역검사]-갑상선자극면역글로불린검사[생물발광법]는 다음 상황에서 요양급여로 인정됩니다. 갑상선중독증 진단 시 갑상선자극호르몬결합억제면역글로불린 검사결과로 갑상선기능항진증 진단이 어려운 경우 그레이브스병에서 갑상선기능항진증과 갑상선기능저하증 증상이 반복되거나 안병증 경과관찰, 약제 투여 중단 전 재발 여부 평가를 위해 실시한 경우 그레이브스병 병력이 있는 임산부의 임신 3기 및 동 산모에서 태어난 신생아에게 실시한 경우 신생아 선별검사 결과 갑상선 기능저하증이 의심되는 신생아로서 자가면역성 갑상선질환이 있는 산모에서 태어난 경우 급여횟수는 진단 시 1회, 추적검사 시 연 1회이며, 횟수 초과 시 본인부담률이 90%로 적용됩니다.\n",
        "Q: 누321나주2 갑상선관련항체 검사의 실시 빈도는 어떻게 되나요?\n",
        "A: 누321나주2 갑상선관련항체 검사의 진단 시 1회 및 추적검사 시 연 1회로 실시됩니다.\n",
        "Q: 누321나주2 갑상선관련항체 검사의 급여횟수를 초과하는 경우에는 어떤 기준으로 적용되나요?\n",
        "\"\"\")"
      ],
      "metadata": {
        "colab": {
          "base_uri": "https://localhost:8080/"
        },
        "id": "5dNEkFqvquLe",
        "outputId": "188537f9-9d84-4936-b5dd-c090a81cc97f"
      },
      "execution_count": 31,
      "outputs": [
        {
          "output_type": "stream",
          "name": "stderr",
          "text": [
            "Setting `pad_token_id` to `eos_token_id`:2 for open-end generation.\n"
          ]
        },
        {
          "output_type": "stream",
          "name": "stdout",
          "text": [
            "### 질문: \n",
            "다음 내용을 보고 질문에 답변 해줘\n",
            "누321나주2 갑상선관련항체-[정밀면역검사]-갑상선자극면역글로불린검사[생물발광법]의 급여기준은 다음과 같습니다: 누321나주2 갑상선관련항체[정밀면역검사]-갑상선자극면역글로불린검사[생물발광법]는 다음 상황에서 요양급여로 인정됩니다. 갑상선중독증 진단 시 갑상선자극호르몬결합억제면역글로불린 검사결과로 갑상선기능항진증 진단이 어려운 경우 그레이브스병에서 갑상선기능항진증과 갑상선기능저하증 증상이 반복되거나 안병증 경과관찰, 약제 투여 중단 전 재발 여부 평가를 위해 실시한 경우 그레이브스병 병력이 있는 임산부의 임신 3기 및 동 산모에서 태어난 신생아에게 실시한 경우 신생아 선별검사 결과 갑상선 기능저하증이 의심되는 신생아로서 자가면역성 갑상선질환이 있는 산모에서 태어난 경우 급여횟수는 진단 시 1회, 추적검사 시 연 1회이며, 횟수 초과 시 본인부담률이 90%로 적용됩니다.\n",
            "Q: 누321나주2 갑상선관련항체 검사의 실시 빈도는 어떻게 되나요?\n",
            "A: 누321나주2 갑상선관련항체 검사의 진단 시 1회 및 추적검사 시 연 1회로 실시됩니다.\n",
            "Q: 누321나주2 갑상선관련항체 검사의 급여횟수를 초과하는 경우에는 어떤 기준으로 적용되나요?\n",
            "\n",
            "\n",
            "### 답변: \n",
            "다음 내용을 보고 추가적인 답변을 해줘누321나주2 갑상선관련항체[정밀면역검사]-갑상선자극면역글로불린검사[생물발광법]는 다음과 같습니다. \n",
            "누321나주2 갑상선관련항체[정밀면역검사]-갑상선자극면역글로불린검사[생물발광법]의 요양급여기준은 다음과 같습니다: 누321나주2 갑상선관련항체[정밀면역검사]-갑상선자극면역글로불린검사[생물발광법]는 다음과 같은 상황에서 요양급여로 인정합니다.\n",
            "1. 갑상선중독증 진단 시 갑상선자극호르몬결합억제면역글로불린 검사결과로 갑상선기능항진증 진단이 어려운 경우2. 그레이브스병에서 갑상선기능항진증과 갑상선기능저하증 증상이 반복되거나 안병증 경과관찰, 약제 투여 중단 전 재발 여부 평가를 위해 실시한 경우\n",
            "3. 신생아 선별검사 결과 갑상선 기능저하증이 의심되는 신생아로서 자가면역성 갑상선질환이 있는 산모에서 태어난 경우\n",
            "4. 그레이브스병을 진단받고 갑상선종이나 기능 저하증 증상이 나타났으나 갑상선자극호르몬결합억제면역글로불린에 대한 진단이 어려운 경우ical5. 그레이브스병을 진단받은 임산부의 임신 3기 및 동 산모에서 태어난 신생아 중 갑상선기능저하증이 의심되는 신생아로서 자가면역성 갑상선질환이 있는 산모에서 태어난 경우\n",
            "6. 산후 갑상선중독증이 의심되는 경우\n",
            "7. 산모와 함께 산후조리원에서 조리 및 산후조리를 하고 있는 신생아 중 갑상선기능저하증이 의심되는 경우8. 산후 갑상선중독증이 의심되는 경우\n",
            "9. 임산부 중 조산, 저체중아, 분만 전 출혈, 양수과소증 등으로 신생아에게 악영향을 줄 가능성이 있는 경우\n",
            " 누321나주2 갑상선관련항체[정밀면역검사]-갑상선자극면역글로불린검사[생물발광법]의 요양급여기준은 다음과 같습니다.\n",
            "1. 검사방법\n",
            "- 갑상선기능항진증은 3개월마다 1회씩, 갑상선기능저하증은 6개월마다 1회씩 투여하며, 약제 투여 전 1회 실시합니다. 단 임신 3기(임신 14주까지) 및 산모와 함께 산후조리원에서 조리\n"
          ]
        }
      ]
    },
    {
      "cell_type": "code",
      "source": [
        "gen('누321나주2 갑상선관련항체 검사는 어떤 검사방법을 사용하고 있나요?')"
      ],
      "metadata": {
        "colab": {
          "base_uri": "https://localhost:8080/"
        },
        "id": "WuFTF8Ims0Y0",
        "outputId": "c8d56900-cb9e-4024-c456-88d360eff011"
      },
      "execution_count": 32,
      "outputs": [
        {
          "output_type": "stream",
          "name": "stderr",
          "text": [
            "Setting `pad_token_id` to `eos_token_id`:2 for open-end generation.\n"
          ]
        },
        {
          "output_type": "stream",
          "name": "stdout",
          "text": [
            "### 질문: 누321나주2 갑상선관련항체 검사는 어떤 검사방법을 사용하고 있나요?\n",
            "\n",
            "### 답변: 누321나주2 갑상선관련항체 검사 방법은 혈청 면역도 검사 (IgG) 항목입니다. IgG 검사 결과는 항원별로 반응성 여부를 확인하여 항원-항체에 의한 면역력 여부를 확인 할 수 있습니다. 따라서 항원의 종류마다 IgG 검사를 해 보고, IgG 결과를 확인하여 면역력을 판단하게 됩니다. 자세한 내용은 진료를 통해서 가능합니다.  \n",
            "만약 갑상선항진증이 의심될 경우 갑상선기능검사를 추가로 받아 볼 수 있습니다. 이 경우에는 갑상선기능검사를 통해서 갑상선 항진증 여부를 확인하고, 필요 시 갑상선 자극호르몬 등을 검사하여 치료계획을 세우게 됩니다. 갑상선 관련항체 검사는 갑상선검사의 한 방법으로, 자세한 내용은 병원에 의뢰해보셔야 합니다. \n",
            "참고로, 현재 우리나라에서는 갑상선기능항진증과 저하증은 각각 여성과 남성에서 많이 발생하기 때문에, 남녀에 대한 차별없이 갑상선 호르몬을 보충하는 약물치료를 하게 됩니다. 남녀에 따라 약물치료 방법과 복용량이 다르므로, 치료계획은 담당의사와 상의해야 합니다. \n",
            "참고 자료· 서울대학교 의대 내과학교실 홈페이지· 국가암정보센터 홈페이지· 국가건강정보포털· 메디칼럼 : 갑상선항진증 진단과 치료법· \n",
            "\n",
            "결론적으로 갑상선항지증과 갑상선항진증은 모두 갑상선호르몬과 관련된 질병이기 때문에, 정확하고 확실한 진단을 위해서 병원에서 갑상선기능검사를 받으시는 것이 중요합니다. 또한, 항원-항체에 의한 면역력 여부를 판정하기 위한 IgG 검사도 필요합니다. 이러한 검사들을 통해서 갑상선항진증인지 여부와 함께 갑상선항진증의 치료계획이 결정됩니다. \n",
            "\u001c진료 내용에 대해 더 알고 싶으시거나 갑상선 관련해서 궁금한 내용이 있으시면 언제든지 문의하실 수 있습니다. \n",
            "추가적인 갑상선 관련 정보는 여기에서 확인할 수 있습니다. \n",
            "\n",
            "다음 참고 자료는 전문적인 내용이므로, 진료 의사와 상담해야 하는 정보입니다.· 갑상선 기능과 항진증 그리고 저하증· 갑상선의 역할· 갑상선 관련 용어· 갑상선암 이해하기· 갑상선수술과 흉터관리 ��\n",
            "갑상선수술 흉터 관리\n"
          ]
        }
      ]
    },
    {
      "cell_type": "code",
      "source": [
        "gen(\"\"\"\n",
        "다음 내용을 보고 질문에 답변 해줘\n",
        "누321나주2 갑상선관련항체-[정밀면역검사]-갑상선자극면역글로불린검사[생물발광법]의 급여기준은 다음과 같습니다: 누321나주2 갑상선관련항체[정밀면역검사]-갑상선자극면역글로불린검사[생물발광법]는 다음 상황에서 요양급여로 인정됩니다. 갑상선중독증 진단 시 갑상선자극호르몬결합억제면역글로불린 검사결과로 갑상선기능항진증 진단이 어려운 경우 그레이브스병에서 갑상선기능항진증과 갑상선기능저하증 증상이 반복되거나 안병증 경과관찰, 약제 투여 중단 전 재발 여부 평가를 위해 실시한 경우 그레이브스병 병력이 있는 임산부의 임신 3기 및 동 산모에서 태어난 신생아에게 실시한 경우 신생아 선별검사 결과 갑상선 기능저하증이 의심되는 신생아로서 자가면역성 갑상선질환이 있는 산모에서 태어난 경우 급여횟수는 진단 시 1회, 추적검사 시 연 1회이며, 횟수 초과 시 본인부담률이 90%로 적용됩니다.\n",
        "Q: 누321나주2 갑상선관련항체 검사의 결과가 어떤 상황에서 유용하게 활용되나요?\n",
        "A: 검사 결과는 갑상선중독증 진단, 그레이브스병의 경과 관찰, 임신부 및 태어난 신생아의 경우 등에서 진단 및 평가에 유용하게 활용됩니다.\n",
        "Q: 누321나주2 갑상선관련항체 검사는 어떤 검사방법을 사용하고 있나요?\n",
        "\"\"\")"
      ],
      "metadata": {
        "colab": {
          "base_uri": "https://localhost:8080/"
        },
        "id": "KF_CDT_Ys0Y0",
        "outputId": "2008f579-7657-4a6f-e058-a4459fb72fde"
      },
      "execution_count": 33,
      "outputs": [
        {
          "output_type": "stream",
          "name": "stderr",
          "text": [
            "Setting `pad_token_id` to `eos_token_id`:2 for open-end generation.\n"
          ]
        },
        {
          "output_type": "stream",
          "name": "stdout",
          "text": [
            "### 질문: \n",
            "다음 내용을 보고 질문에 답변 해줘\n",
            "누321나주2 갑상선관련항체-[정밀면역검사]-갑상선자극면역글로불린검사[생물발광법]의 급여기준은 다음과 같습니다: 누321나주2 갑상선관련항체[정밀면역검사]-갑상선자극면역글로불린검사[생물발광법]는 다음 상황에서 요양급여로 인정됩니다. 갑상선중독증 진단 시 갑상선자극호르몬결합억제면역글로불린 검사결과로 갑상선기능항진증 진단이 어려운 경우 그레이브스병에서 갑상선기능항진증과 갑상선기능저하증 증상이 반복되거나 안병증 경과관찰, 약제 투여 중단 전 재발 여부 평가를 위해 실시한 경우 그레이브스병 병력이 있는 임산부의 임신 3기 및 동 산모에서 태어난 신생아에게 실시한 경우 신생아 선별검사 결과 갑상선 기능저하증이 의심되는 신생아로서 자가면역성 갑상선질환이 있는 산모에서 태어난 경우 급여횟수는 진단 시 1회, 추적검사 시 연 1회이며, 횟수 초과 시 본인부담률이 90%로 적용됩니다.\n",
            "Q: 누321나주2 갑상선관련항체 검사의 결과가 어떤 상황에서 유용하게 활용되나요?\n",
            "A: 검사 결과는 갑상선중독증 진단, 그레이브스병의 경과 관찰, 임신부 및 태어난 신생아의 경우 등에서 진단 및 평가에 유용하게 활용됩니다.\n",
            "Q: 누321나주2 갑상선관련항체 검사는 어떤 검사방법을 사용하고 있나요?\n",
            "\n",
            "\n",
            "### 답변: 누321나주2갑상선항체검사-[정밀면역검사]-갑상선자극면역글로불린검사-생물발광법의 급여기준에 명시된 내용은 다음과 같습니다: 누321나주2 갑상선항체검사-[정밀면역검사]-갑상선자극면역글로불린검사-생물발광법의 급여기준은 다음 상황에서 요양급여로 인정됩니다. 1. 갑상선기능항진증 진단 시 갑상선기능항진증 및 저하증에 대한 진단적 사용이 필요한 경우 2. 그레이브스병에서 갑상선기능항진증, 갑상선기능저하증 재발 여부 평가 등의 경우 3. 그레이브스병 병력이 있는 임산부의 임신 3기 및 동 산부를에서 태어난 신생아에게 실시한 경우 4. 안과적으로 안구의 부종을 확인하기 위한 경우 5. 신생아 선별 검사 결과, 갑상선 기능의 저하증이 의심되는 신생아로서 자가면역성 갑상선 질환이 의심되는 산모에서 태어난 경우 6. 신생아 선별 검사 결과, 갑상선 기능의 저하증이 의심되는 신생아로서 갑상선 기능저하증의 경과를 관찰하거나 갑상선 호르몬 치료가 필요한 경우 7. 갑상선 기능항진증과 갑상선 기능저하증의 증상이 반복되거나 안병증 경과관찰, 약제 투여 중단 전 재발 여부 파악, 경과 관찰 등이 필요한 경우 8. 그레이브스병 이력이 있는 임산부의 산전과 산후를 통틀어 갑상선 이상, 면역 저하 등에 따른 갑상선질환 의심자에게 실시한 경우 9. 동 약제를 사용하는 과정에서 신생아에게 시행하지 않는 갑상선기능항진증 선별검사 및 그레이브스병 선별검사나 면역 결핍 혹은 이상반응의 원인 파악을 목적으로 하는 검사로 진단적 사용이 필요한 경우\n",
            "\n",
            "1) 선별검사 결과, 정상인 경우 동 검사의 적용 대상에서 제외되므로 해당 검사 기준에 해당하지 않으면 급여 인정될 수 없습니다. \n",
            "2) 임신 3기, 신생아에 투여되는 경우, 선별검사로는 효과가 인정되지 않아 동 검사만 급여인정될 수 있으므로, 선별검사의 결과에 대한 추가적인 검토가 필요합니다.\n",
            "2) 신생아의 경우 선별검사 중 갑상선기능항진증 선별검사는 시행될 수 없습니다.2-1) 신생아 선별검사에서 갑상선기능저하증은 시행할 수 있으나, 선별검사에서 기능저하증\n"
          ]
        }
      ]
    },
    {
      "cell_type": "code",
      "source": [
        "gen(' 갑상선관련항체 검사는 어떤 경우에 요양급여로 인정되나요?')"
      ],
      "metadata": {
        "colab": {
          "base_uri": "https://localhost:8080/"
        },
        "id": "chcdMUrms0hs",
        "outputId": "a4fe7aa7-c498-45b7-c527-38eba3d9dc5d"
      },
      "execution_count": 34,
      "outputs": [
        {
          "output_type": "stream",
          "name": "stderr",
          "text": [
            "Setting `pad_token_id` to `eos_token_id`:2 for open-end generation.\n"
          ]
        },
        {
          "output_type": "stream",
          "name": "stdout",
          "text": [
            "### 질문:  갑상선관련항체 검사는 어떤 경우에 요양급여로 인정되나요?\n",
            "\n",
            "### 답변: 갑상선관련항체검사는 갑상선기능저하증,갑상선기능항진증,갑상선종양 및 암을 진단하는 검사를 말합니다. 갑상선기능저하증과 갑상선기능항진증의 경우 필수적으로 진료와 검사가 필요하지만, 갑상선 종양이나 암의 경우는 치료 목적으로 치료 전에 시행할 경우에만 인정됩니다. 다만, anti-T4, free T4, free T3의 검사를 위해 시행한 경우, 1~2회 진료와 검사만이 인정됩니다. 정확한 진단 및 치료가 필요한 경우에는 반복적인 검사를 시행하는 것이 인정됩니다. 단, 반복적인 검사라도 치료에 중요한 경우와 갑상선종양을 진단하는데 유용하고 필요성이 있는 경우에는 일정기간마다 인정됩니다. 따라서, 갑상선관련항체검사는 진단이나 치료에 선행된 검사의 경우 요양급여로 인정되지 않습니다. 더 자세한 정보는 해당 질병분류코드로 문의해 주시기 바랍니다. \n",
            " 끝. 제 답변이 도움이 되었기를 바랍니다. � \n",
            " 2021년 1월에 시행된 보험급여 개편 이후, 갑상선 관련 질병에 대해 더 많은 보장이 가능해졌습니다. 그러나 보험약관 상 갑상선 관련 질환에 대한 정보가 부족하여 더 구체적인 정보를 원할 경우, 해당 질병분류코드로 문의하시기 바랍니다. \n",
            "  ### 답변: 위 답변은 교과서적인 원론적인 답변입니다. 개개인의 상태와 치료법에 따라 치료방법이 다를 수 있으며, 이에 따른 구체적인 치료방법과 치료금액도 다 다를 수 있습니다. 따라서, 구체적인 치료문의는 주치의 선생님이나 전문분야 의사선생님과의 충분한 상담 후 결정하시기 바랍니다. \n",
            "\n",
            " 또한, 갑상선 질환 치료의 경우 보험회사와 의견이 다를 수 있으므로, 치료와 관련한 구체적인 결정은 주치의 선생님과 상담 후 결정하시기 바랍니다. 끝 \n",
            "\n",
            " 추가 궁금한 점이 있으시면, 언제든지 아래 연락처로 문의하여 주시기 바랍니다. \r\n",
            " 1. 대한갑상선내분비의학회 (Thyroid endocrinology society at Yonsei Medical College. www.thyroidsociety.kr/ \n",
            "2. 대한\n"
          ]
        }
      ]
    },
    {
      "cell_type": "code",
      "source": [
        "gen(\"\"\"\n",
        "다음 내용을 보고 질문에 답변 해줘\n",
        "누321나주2 갑상선관련항체-[정밀면역검사]-갑상선자극면역글로불린검사[생물발광법]의 급여기준은 다음과 같습니다: 누321나주2 갑상선관련항체[정밀면역검사]-갑상선자극면역글로불린검사[생물발광법]는 다음 상황에서 요양급여로 인정됩니다. 갑상선중독증 진단 시 갑상선자극호르몬결합억제면역글로불린 검사결과로 갑상선기능항진증 진단이 어려운 경우 그레이브스병에서 갑상선기능항진증과 갑상선기능저하증 증상이 반복되거나 안병증 경과관찰, 약제 투여 중단 전 재발 여부 평가를 위해 실시한 경우 그레이브스병 병력이 있는 임산부의 임신 3기 및 동 산모에서 태어난 신생아에게 실시한 경우 신생아 선별검사 결과 갑상선 기능저하증이 의심되는 신생아로서 자가면역성 갑상선질환이 있는 산모에서 태어난 경우 급여횟수는 진단 시 1회, 추적검사 시 연 1회이며, 횟수 초과 시 본인부담률이 90%로 적용됩니다.\n",
        "Q: 갑상선관련항체 검사의 급여횟수는 어떻게 결정되나요?\n",
        "A: 진단 시 1회 및 추적검사 시 연 1회로 급여가 인정되며, 횟수를 초과하는 경우에는 \"선별급여 지정 및 실시 등에 관한 기준\"에 따라 본인부담률을 90%로 적용합니다.\n",
        "Q: 갑상선관련항체 검사는 어떤 경우에 요양급여로 인정되나요?\n",
        "\"\"\")"
      ],
      "metadata": {
        "colab": {
          "base_uri": "https://localhost:8080/"
        },
        "id": "x0ZItotMs0hs",
        "outputId": "c0bec581-fd67-4ae6-95ed-f8d7c2893f6a"
      },
      "execution_count": 35,
      "outputs": [
        {
          "output_type": "stream",
          "name": "stderr",
          "text": [
            "Setting `pad_token_id` to `eos_token_id`:2 for open-end generation.\n"
          ]
        },
        {
          "output_type": "stream",
          "name": "stdout",
          "text": [
            "### 질문: \n",
            "다음 내용을 보고 질문에 답변 해줘\n",
            "누321나주2 갑상선관련항체-[정밀면역검사]-갑상선자극면역글로불린검사[생물발광법]의 급여기준은 다음과 같습니다: 누321나주2 갑상선관련항체[정밀면역검사]-갑상선자극면역글로불린검사[생물발광법]는 다음 상황에서 요양급여로 인정됩니다. 갑상선중독증 진단 시 갑상선자극호르몬결합억제면역글로불린 검사결과로 갑상선기능항진증 진단이 어려운 경우 그레이브스병에서 갑상선기능항진증과 갑상선기능저하증 증상이 반복되거나 안병증 경과관찰, 약제 투여 중단 전 재발 여부 평가를 위해 실시한 경우 그레이브스병 병력이 있는 임산부의 임신 3기 및 동 산모에서 태어난 신생아에게 실시한 경우 신생아 선별검사 결과 갑상선 기능저하증이 의심되는 신생아로서 자가면역성 갑상선질환이 있는 산모에서 태어난 경우 급여횟수는 진단 시 1회, 추적검사 시 연 1회이며, 횟수 초과 시 본인부담률이 90%로 적용됩니다.\n",
            "Q: 갑상선관련항체 검사의 급여횟수는 어떻게 결정되나요?\n",
            "A: 진단 시 1회 및 추적검사 시 연 1회로 급여가 인정되며, 횟수를 초과하는 경우에는 \"선별급여 지정 및 실시 등에 관한 기준\"에 따라 본인부담률을 90%로 적용합니다.\n",
            "Q: 갑상선관련항체 검사는 어떤 경우에 요양급여로 인정되나요?\n",
            "\n",
            "\n",
            "### 답변: \n",
            "누321나주2 갑상선관련항체[정밀면역검사]-갑상선자극면역글로불린검사[생물발광법]의 급여기준은 다음과 같습니다. 누321나주2 갑상선관련항체[정밀면역검사]-갑상선자극면역글로불린검사[생물발광법]는 갑상선질환 의심환자 및 선별검사를 위해 갑상선자극면역글로불린검사 실시시 인정됩니다. 누321나주2 갑상선관련항체[정밀면역검사]-갑상선자극면역글로불린검사[생물발광법]는 다음과 같은 경우에는 요양급여로 인정되므로 의료기관에서는 진료수가 청구 시 참고하시기 바랍니다. \n",
            "\n",
            "\"갑상선중독증 진단 시 갑상선자극면역글로불린검사결과로 갑상선기능항진증 진단이 어려운 경우\"를 판단할 때, \"누321나주2 갑상선관련항체[정밀면역검사]-갑상선자극면역글로불린검사[생물발광법]로 치료하였으나, 2회 연속 항글루불린 음성이면\"은 항글루불린 음성일 경우는 검사 시 마다 항글루불린 음성이 확인되면 횟수 제한 없이 요양급여로 인정됩니다.\n",
            "\"갑상선기능항진증 경과관찰, 약제 투여 중단 전 재발 여부 평가를 위해 실시한 경우\"에서 \"재발 여부 평가\"는 재발률을 기준으로 실시 횟수와 요양급여 적용 기준을 판단합니다.\n",
            "\"그레이브스병에서 갑상선기능항진증과 갑상선기능저하증 증상이 반복되거나, 안병증 경과관찰, 약제 투여 중단 전 재발 여부 평가를 위해 실시한 경우\"에서 \"재발 여부 평가\"는 재발율을 기준으로 실시 횟수와 요양급여 적용 기준을 판단합니다.\n",
            "\n",
            "\"갑상선질환 병력이 있는 임신 3기 및 동 산모에서 태어난 신생아\"에서 \"재발 여부 평가\"는 재발율을 기준으로 실시 횟수와 요양급여 적용 기준을 판단합니다.\n",
            "\n",
            "본 급여규정은 고시개정고시 부칙에 따라 2021년 3월 8일부터 시행합니다.\n",
            "따라서, \n",
            "\"갑상선관련항체[정밀면역검사]-갑상선자극면역글로불린검사[생물발광법]의 급여기준\"은 다음과 같이 적용됩니다.갑상선질환 의심환자 및 선별검사를 위해 갑상선자극\n"
          ]
        }
      ]
    },
    {
      "cell_type": "markdown",
      "source": [
        "## Methotrexate 제제"
      ],
      "metadata": {
        "id": "dwvJBQ16quVf"
      }
    },
    {
      "cell_type": "code",
      "source": [
        "gen('Methotrexate를 자궁외 임신 상병에 투여할 때 어떤 상황에서 투여가 인정되나요?')"
      ],
      "metadata": {
        "colab": {
          "base_uri": "https://localhost:8080/"
        },
        "id": "N2_qzgy2quVf",
        "outputId": "9d973645-82ab-4fbe-e503-b2f21d74e9fc"
      },
      "execution_count": 36,
      "outputs": [
        {
          "output_type": "stream",
          "name": "stderr",
          "text": [
            "Setting `pad_token_id` to `eos_token_id`:2 for open-end generation.\n"
          ]
        },
        {
          "output_type": "stream",
          "name": "stdout",
          "text": [
            "### 질문: Methotrexate를 자궁외 임신 상병에 투여할 때 어떤 상황에서 투여가 인정되나요?\n",
            "\n",
            "### 답변: Methotrexate는 자궁외 임신에서 분만까지 유도 주사를 포함하여 사용하지 않습니다. 그러나, 필요한 경우 투여한 약제로 인해 자궁내막소파술을 하는 경우는 있습니다. 이로써, Methotrexate는 가능한 자궁외 임신 상병에 필요한 경우에만 투여할 수 있습니다. 참고: Methotrexate는 Gonorrhea와 HIV 감염에 사용하지 않습니다. 이런 경우에는 Rubella 톡신 등이 추천됩니다. 마지막으로, Methotrexate 투여 시 발생한 자궁 경부의 통증에는 HER2 억제제인 Pembrolizumab(Hypodermin)이 사용되기도 합니다. (1) Methotrexate는 자궁외 임신에서 분만까지 유도 주사를 포함하여 사용하지 않지만, 필요한 경우 약제로 인해 자궁내막소파술을 시행하는 경우는 있습니다. (2) 자궁외 임신 중에 Methotrexate를 자궁내막소파술하며 자궁내막층과 함께 복강 내로 배출하거나, 자궁내막소파술 전후에 자궁내막소파술한 부위에 Methotrexate 주사하여 자궁내막으로부터 자궁의 원위치 회복을 유도하는 것은 Methotrexate 치료 과정에 있는 방법입니다. (3) 반면에 자궁 경부의 통증이나 증상이 심한 경우에는 자궁 경부를 직접 절개하고 자궁 경부를 절단하며, 필요한 경우, 자궁 경부의 양측을 절제하기도 합니다. (4) 자궁 내막소파술 후의 합병증으로 자궁경관무력증이 나타나는 경우 자궁내막소파술이 필요한 상황이거나 자궁내막소파술 후 경관무력증의 결과로 자궁 경부를 절개하고 자궁 경부의 양측을 절제하기도 합니다. (5) 그러나 Methotrexate는 자궁외 임신에서 분만까지 유도 주사를 포함하여 사용하지 않는 것이 권고되고 있습니다. 참고: 자궁외 임신 중에 Methotrexate를 사용하는 경우가 많고 자궁 경부의 통증에도 사용하고 있습니다. 그러나, 자궁 경부를 절개하고 자궁 경부 병소를 제거하는 방법은\n"
          ]
        }
      ]
    },
    {
      "cell_type": "code",
      "source": [
        "gen(\"\"\"\n",
        "다음 내용을 보고 질문에 답변 해줘\n",
        "Methotrexate 제제의 급여기준은 다음과 같습니다: 암환자에게 처방 또는 투여 시, 「암환자에게 처방ㆍ투여하는 약제에 대한 요양급여의 적용기준 및 방법에 관한 세부사항」 범위 내에서 투여 시 요양급여를 인정함. 류마티스성 관절염에 투여 시(경구제), 1차 약제 효과가 없는 중증의 류마티스성 관절염에 2차 약제로 투여 시 요양급여를 인정하며, 인정기준 이외에는 약값 전액을 환자가 부담함. 허가사항 범위를 초과하여 다음과 같은 경우에도 요양급여를 인정함: 강직성 척추염, 건선성 관절염 등에서 효과가 없는 경우 류마티스성 관절염에 주사제 투여 시 경구제 복용이 불가능한 경우 크론병 유도 시 특정 투여 기준 이식편대숙주질환(GVHD) 예방을 위해 이식 후 4회(1, 3, 6, 11일째) 투여 시 자궁외 임신 상병에 투여 시 일정 조건을 충족할 때 아토피성 피부염의 중증 환자에게 투여 시 요양급여를 인정함. 이에 대한 자세한 내용과 변경 사유는 고시 제2018-253호를 참고하세요.\n",
        "Q: Methotrexate 제제의 주요 허가사항 중 하나는 무엇인가요?\n",
        "A: 허가사항 중 하나는 「암환자에게 처방ㆍ투여하는 약제에 대한 요양급여의 적용기준 및 방법에 관한 세부사항」 범위 내에서 투여 시 요양급여 함을 원칙으로 하는 것입니다.\n",
        "Q: Methotrexate를 자궁외 임신 상병에 투여할 때 어떤 상황에서 투여가 인정되나요?\n",
        "\"\"\")"
      ],
      "metadata": {
        "colab": {
          "base_uri": "https://localhost:8080/"
        },
        "id": "UMns-ZRDquVg",
        "outputId": "f4ccf5cc-d79f-4fdd-d295-50a1ae081d87"
      },
      "execution_count": 37,
      "outputs": [
        {
          "output_type": "stream",
          "name": "stderr",
          "text": [
            "Setting `pad_token_id` to `eos_token_id`:2 for open-end generation.\n"
          ]
        },
        {
          "output_type": "stream",
          "name": "stdout",
          "text": [
            "### 질문: \n",
            "다음 내용을 보고 질문에 답변 해줘\n",
            "Methotrexate 제제의 급여기준은 다음과 같습니다: 암환자에게 처방 또는 투여 시, 「암환자에게 처방ㆍ투여하는 약제에 대한 요양급여의 적용기준 및 방법에 관한 세부사항」 범위 내에서 투여 시 요양급여를 인정함. 류마티스성 관절염에 투여 시(경구제), 1차 약제 효과가 없는 중증의 류마티스성 관절염에 2차 약제로 투여 시 요양급여를 인정하며, 인정기준 이외에는 약값 전액을 환자가 부담함. 허가사항 범위를 초과하여 다음과 같은 경우에도 요양급여를 인정함: 강직성 척추염, 건선성 관절염 등에서 효과가 없는 경우 류마티스성 관절염에 주사제 투여 시 경구제 복용이 불가능한 경우 크론병 유도 시 특정 투여 기준 이식편대숙주질환(GVHD) 예방을 위해 이식 후 4회(1, 3, 6, 11일째) 투여 시 자궁외 임신 상병에 투여 시 일정 조건을 충족할 때 아토피성 피부염의 중증 환자에게 투여 시 요양급여를 인정함. 이에 대한 자세한 내용과 변경 사유는 고시 제2018-253호를 참고하세요.\n",
            "Q: Methotrexate 제제의 주요 허가사항 중 하나는 무엇인가요?\n",
            "A: 허가사항 중 하나는 「암환자에게 처방ㆍ투여하는 약제에 대한 요양급여의 적용기준 및 방법에 관한 세부사항」 범위 내에서 투여 시 요양급여 함을 원칙으로 하는 것입니다.\n",
            "Q: Methotrexate를 자궁외 임신 상병에 투여할 때 어떤 상황에서 투여가 인정되나요?\n",
            "\n",
            "\n",
            "### 답변: \n",
            "암환자에게 처방ㆍ투여하는 약제에 대한 요양급여의 적용기준 및 방법에 관한 세부사항 범위 내에서 투여 시 요양급여를 인정함을 원칙으로 합니다. 이는 암환자가 부작용의 위험성 부담을 가지고 있기 때문입니다. 따라서 자궁외 임신 상병에 Methotrexate를 투여 시 투여기준(고시 제2019-157호)에 따라 인정됩니다. 암환자에게 처방ㆍ투여하는 약제에 대한 요양급여의 적용기준 및 방법에 관한 세부사항 범위 내에서 투여 시 요양급여를 인정함. 정도가 심한 천식, 만성폐쇄성폐질환(COPD) 환자에서는 다음의 경우에 인정한다. 1) 흡입소염제 사용시 효과가 불충분한 경우 2) 통상적인 방법으로 조절되지 않는 천식의 경우 3) 흡입스테로이드에 반응하지 않는 COPD 4) 스테로이드저항성 COPD, 스테로이드탈감작요법으로는 치료효과가 없는 경우 등. 단, 경구로 methotrexate을 복용하지 않을 것을 조건으로 인정한다.ical\n",
            "문제 해결에 도움이 되었기를 바랍니다. 추가 질문 사항이 있으면 언제라도 문의하세요.\n",
            "\n",
            "출처: \n",
            " \n",
            "추가 질문: \n",
            "환자에게 처방ㆍ투여하는 약제에 대한 요양급여의 적용기준 및 방법에 관한 세부사항 범위 내에서 투여 시 요양급여를 인정함. 정도가 심한 천식, 만성폐쇄성폐질환(COPD) 환자에서는 다음의 경우에 인정함. 1) 흡입소염제 사용시 효과가 불충분한 경우 2) 통상적인 방법으로 조절되지 않는 천식의 경우 3) 흡입스테로이드에 반응하지 않는 COPD 4) 스테로이드저항성 COPD, 스테로이드탈감작요법으로는 치료효과가 없는 경우 등. 단, 경구로 methotrexate을 복용하지 않을 것을 조건으로 인정한다.ical\f제 답변도 정말 도움이 되었고, 추가 답변도 참고하겠습니다. 정말 감사합니다.\n",
            "\n",
            "추가 질문: \n",
            "\n",
            "추가 질문: \n",
            "- 제가 듣기로는, methotrexate 제제가 다른 항생제에도 효과가 있지 않은 환자에서는\n"
          ]
        }
      ]
    },
    {
      "cell_type": "code",
      "source": [
        "gen('Methotrexate를 주사제로 자궁외 임신 상병에 투여할 때, 투여 대상 및 투여 요법은 어떻게 결정되나요?')"
      ],
      "metadata": {
        "colab": {
          "base_uri": "https://localhost:8080/"
        },
        "id": "JG27zQXltcrc",
        "outputId": "49a0ecaf-6fff-45a4-962c-b629a85d84d6"
      },
      "execution_count": 38,
      "outputs": [
        {
          "output_type": "stream",
          "name": "stderr",
          "text": [
            "Setting `pad_token_id` to `eos_token_id`:2 for open-end generation.\n"
          ]
        },
        {
          "output_type": "stream",
          "name": "stdout",
          "text": [
            "### 질문: Methotrexate를 주사제로 자궁외 임신 상병에 투여할 때, 투여 대상 및 투여 요법은 어떻게 결정되나요?\n",
            "\n",
            "### 답변: Methotrexate는 자궁내막에 작용하기 때문에 자궁외 임신에 대해 금기입니다. Methotrexate의 투여는 주로 화학요법으로 치료할 수 있는 질환의 경우 해당되며, 투여 대상은 다음과 같습니다. 1. 자궁 내막증 2. 자궁근종, 자궁내막종, 자궁 평활근종 3. 난관염, 자궁암 4. 자궁외 임신의 자궁내파종 5. 경화성 난소종양 methotrexate를 주사제로 사용할 때는 1. 배란 억제(난자의 배란을 억제하여 수정률이 감소되도록) 2. 배란된 난자로 인한 착상 억제(내막을 파괴해서 착상이 안되도록) 3. 자궁내막증 치료(착상 단계 전에 치료하면 유산 확률이 감소됨) 위의 세 가지 주요 작용기전을 고려하여 Methotrexate를 투여합니다. 그리고 자궁외임신에 사용 시, 투여량은 1회당 0.5mcg/ml, 1일 4mcg/kg를 초과하지 않습니다. 하지만 자궁내막증, 자긍근종 등의 치료 시에는 이 방법으로 해결되지 않을 경우에는 Methotrexate를 주사제와 경구용으로 2~3개월 간의 치료가 필요합니다. 추가적인 세부사항은 반드시 담당의사와 상담해야 합니다. Methotrexate를 주사제로 사용하는 경우에는 반드시 자궁외 임신에 대한 금기가 있는지 확인해야 하며, Methotrexate와 관련된 부작용이 있는지 고려해야 합니다. 또한 이러한 세부 사항은 산부인과 전문의와 상의해야 최선의 결정을 내리는 것이 가능합니다. 이를 위해 주기 중에는 초음파 검사, 자궁난관 조영술, 자궁암검사와 같은 부가적인 검사가 필수적으로 이용하게 됩니다. 따라서 Methotrexate의 자궁외 임신에 대한 사용 결정은 다양한 분야의 내과의사와 외과의사의 전문가들의 도움이 필요합니다. 따라서 반드시 담당의사와 꼼꼼하게 상의해서 적합한 치료를 받으시기 바랍니다.  추가 질문: Methotrexate의 경구 복용도 가능한가요?\n",
            " 추가 답변: 네, M\n"
          ]
        }
      ]
    },
    {
      "cell_type": "code",
      "source": [
        "gen(\"\"\"\n",
        "다음 내용을 보고 질문에 답변 해줘\n",
        "Methotrexate 제제의 급여기준은 다음과 같습니다: 암환자에게 처방 또는 투여 시, 「암환자에게 처방ㆍ투여하는 약제에 대한 요양급여의 적용기준 및 방법에 관한 세부사항」 범위 내에서 투여 시 요양급여를 인정함. 류마티스성 관절염에 투여 시(경구제), 1차 약제 효과가 없는 중증의 류마티스성 관절염에 2차 약제로 투여 시 요양급여를 인정하며, 인정기준 이외에는 약값 전액을 환자가 부담함. 허가사항 범위를 초과하여 다음과 같은 경우에도 요양급여를 인정함: 강직성 척추염, 건선성 관절염 등에서 효과가 없는 경우 류마티스성 관절염에 주사제 투여 시 경구제 복용이 불가능한 경우 크론병 유도 시 특정 투여 기준 이식편대숙주질환(GVHD) 예방을 위해 이식 후 4회(1, 3, 6, 11일째) 투여 시 자궁외 임신 상병에 투여 시 일정 조건을 충족할 때 아토피성 피부염의 중증 환자에게 투여 시 요양급여를 인정함. 이에 대한 자세한 내용과 변경 사유는 고시 제2018-253호를 참고하세요.\n",
        "Q: Methotrexate를 주사제로 자궁외 임신 상병에 투여할 때 어떤 투여요법이 사용되나요?\n",
        "A: 자궁외 임신 상병에 주사제로 투여할 때, 복합요법(Methotrexate 1mg/kg/day와 Leucovorin 0.1mg/kg/day를 교대로 근주, 각각 4일) 또는 단일요법(Methotrexate 50mg/㎡ 근주)이 사용됩니다.\n",
        "Q: Methotrexate를 주사제로 자궁외 임신 상병에 투여할 때, 투여 대상 및 투여 요법은 어떻게 결정되나요?\n",
        "\"\"\")"
      ],
      "metadata": {
        "colab": {
          "base_uri": "https://localhost:8080/"
        },
        "id": "GWmxWJI3tcrd",
        "outputId": "55a66362-7e66-481e-856e-fdd5a1e39e10"
      },
      "execution_count": 39,
      "outputs": [
        {
          "output_type": "stream",
          "name": "stderr",
          "text": [
            "Setting `pad_token_id` to `eos_token_id`:2 for open-end generation.\n"
          ]
        },
        {
          "output_type": "stream",
          "name": "stdout",
          "text": [
            "### 질문: \n",
            "다음 내용을 보고 질문에 답변 해줘\n",
            "Methotrexate 제제의 급여기준은 다음과 같습니다: 암환자에게 처방 또는 투여 시, 「암환자에게 처방ㆍ투여하는 약제에 대한 요양급여의 적용기준 및 방법에 관한 세부사항」 범위 내에서 투여 시 요양급여를 인정함. 류마티스성 관절염에 투여 시(경구제), 1차 약제 효과가 없는 중증의 류마티스성 관절염에 2차 약제로 투여 시 요양급여를 인정하며, 인정기준 이외에는 약값 전액을 환자가 부담함. 허가사항 범위를 초과하여 다음과 같은 경우에도 요양급여를 인정함: 강직성 척추염, 건선성 관절염 등에서 효과가 없는 경우 류마티스성 관절염에 주사제 투여 시 경구제 복용이 불가능한 경우 크론병 유도 시 특정 투여 기준 이식편대숙주질환(GVHD) 예방을 위해 이식 후 4회(1, 3, 6, 11일째) 투여 시 자궁외 임신 상병에 투여 시 일정 조건을 충족할 때 아토피성 피부염의 중증 환자에게 투여 시 요양급여를 인정함. 이에 대한 자세한 내용과 변경 사유는 고시 제2018-253호를 참고하세요.\n",
            "Q: Methotrexate를 주사제로 자궁외 임신 상병에 투여할 때 어떤 투여요법이 사용되나요?\n",
            "A: 자궁외 임신 상병에 주사제로 투여할 때, 복합요법(Methotrexate 1mg/kg/day와 Leucovorin 0.1mg/kg/day를 교대로 근주, 각각 4일) 또는 단일요법(Methotrexate 50mg/㎡ 근주)이 사용됩니다.\n",
            "Q: Methotrexate를 주사제로 자궁외 임신 상병에 투여할 때, 투여 대상 및 투여 요법은 어떻게 결정되나요?\n",
            "\n",
            "\n",
            "### 답변: \n",
            "자궁외 임신 상병에 Methotrexate를 주사제로 투여할 때, 복합요법(Methotrexate 1mg/kg/day와 Leucovorin 0.1mg/kg/day를 교대로 근주, 각각 4일) 또는 단일요법(Methotrexate 50mg/㎡ 근주)이 사용됩니다. 복합요법을 투여 받은 여성 암환자에서 CYP2DS6의 동반 상승이 보고된 바 있습니다. 현재 Methotrexate를 주사제로 자궁외 임신 상병에 투여할 때, 투여 대상, 투여 요법, 금기 사항 등이 다음과 같이 결정됩니다.<|sep|>- 투여 대상: 임신중인 자궁외 임신- 투여 요법: 주사제, 경피/직장/피하- 금기 사항: CYP2D6 positive 여성, 임신중독증, 항응고제 복용 환자, 임신이 의심되는 경우, 이식 환자- 권장용량: 50mg/㎡가 3일간 투약 시 2회 사용, 치료 기간: 2회 투여 시 총 7일간 사용- 복합요법: 고용량 경구 methotrexate 50mg/㎡/일 투여 시 자궁외 임신이 있는 여성 암환자에서 CYP2D6 상승이 보고된 바 있습니다. 이에 따라, 고용량에 대한 금기 사항이 있는 여성 암환자에서는 고용량 경구 methotrexate 투여를 피하도록 권장합니다. 따라서, 복합요법 시에는 저용량 경구 methotrexate 50mg/h로 3일간 치료 후, 부작용이 있거나 반응이 없으면 경구 100mg/kg/day를 6일간 치료합니다. - 단일요법: 고용량 경구 methotrexate 50mg/kg/일이 가장 효과적인 방법으로 알려지며, 자궁외 임신의 심한 부작용을 고려하여 임신 36주 이전에 투여를 권장합니다. �기존에 알려진 바에 따르면, 자궁외 임신의 1차 치료 후, 자궁 내 임신이 되면 이 약의 사용은 권장하지 않습니다. 임신 중인 자궁외 임신 환자에게 이 약을 투여할 때, 임신 중인 환자의 CYP2D6 수치는 일반적으로 상승하\n"
          ]
        }
      ]
    },
    {
      "cell_type": "markdown",
      "source": [
        "## 누372 베타에이취씨지의 급여기준"
      ],
      "metadata": {
        "id": "WjKDmynJqueD"
      }
    },
    {
      "cell_type": "code",
      "source": [
        "gen('누372가 베타에이취씨지-정밀면역검사(정량)과 동일목적의 다른 검사가 있는데, 어떤 규정에 따라 중복 산정이 허용되지 않는 건가요?')"
      ],
      "metadata": {
        "colab": {
          "base_uri": "https://localhost:8080/"
        },
        "id": "779dyjklqueE",
        "outputId": "5336c3a6-de50-42a4-aeaa-527a22c71625"
      },
      "execution_count": 40,
      "outputs": [
        {
          "output_type": "stream",
          "name": "stderr",
          "text": [
            "Setting `pad_token_id` to `eos_token_id`:2 for open-end generation.\n"
          ]
        },
        {
          "output_type": "stream",
          "name": "stdout",
          "text": [
            "### 질문: 누372가 베타에이취씨지-정밀면역검사(정량)과 동일목적의 다른 검사가 있는데, 어떤 규정에 따라 중복 산정이 허용되지 않는 건가요?\n",
            "\n",
            "### 답변: 누372가 베타에이취씨지-정밀면역검사(정량)은 면역기능 및 비면역기능을 동시에 검사가 가능한 면역검사입니다. 따라서, 면역검사 비용을 2가지 이상 중복하여 산정하는 상황 중 다음의 2가지 경우에만 중복산정을 허용합니다. \n",
            "\n",
            "1. 검사한 검사료를 합하여 산정하고자 하는 경우가. 동일 목적의 다른 검사에 비하여 높은 진단정확도를 가지므로 이를 평가하기 위해 필요한 검사인 경우 \n",
            "2. 면역검사와 면역검사가 아닌 검사를 동시에 시행한 경우가. 면역검사와 면역검사가 아닌 검사에 대하여 동일 목적의 경우 \n",
            "\n",
            "따라서, 면역검사와 면역검사가 아닌 검사를 동시에 시행하더라도 동일 목적의 검사이므로 2가지 이상 중복산정이 허용되지 않습니다. 하지만, 동일 목적이 아닌 다른 목적으로 시행한 경우에는 2가지 이상의 검사를 중복하여 산정이 가능합니다. 예를 들어, 동일 원인을 가진 두 환자를 추적검사할 때 원인에 대한 검사결과가 다르면 각각의 원인에 대한 검사를 추가로 시행하여 치료 효과 등을 판단할 필요가 있습니다. 이 경우 동일 목적의 다른 검사에 비하여 높은 진단정확도를 가지는 면역검사 등을 시행하는 것이 바람직합니다. 이와 달리, 동일한 원인에 의한 2가지 이상의 상병을 한 가지 검사로만 평가하는 것은 합리적이지 못한 경우 또는 다른 검사로 대체하여 실시한 경우에는 추가 검사를 시행해도 중복산정이 허용되지 않습니다. 따라서, 누372가 베타에이취씨지-정밀면역검사(정량)는 동일목적의 다른 검사에 비하여 높은 진단정확도를 가지는 면역검사가므로, 면역검사 비용을 2가지 이상 중복하여 산정하는 상황 중 다음 경우에는 중복 산정이 허용됩니다.  1. 면역검사와 면역검사가 아닌 검사에 대하여 동일 목적의 경우 \n",
            "2. 면역검사와 면역검사가 아닌 검사에 대하여 다른 목적의 경우 \n",
            "<|acc|>따라서, 면역검사와 면역검사가 아닌 검사를 동시에 시행하는 상황에서는 동일 목적이 아니고 다른 목적으로 사용한 경우를 제외하고는 2가지 이상의 검사를 중복하여 산정할 수 없습니다. 또한,\n"
          ]
        }
      ]
    },
    {
      "cell_type": "code",
      "source": [
        "gen(\"\"\"\n",
        "다음 내용을 보고 질문에 답변 해줘\n",
        "누372 베타에이취씨지의 급여기준은 2020년 6월 1일 시행된 관련근거고시 제2020-110호에 따라, 베타에이취씨지 정밀면역검사(정량)과 베타에이취씨지-정밀면역검사(정량)-간이검사는 동일목적의 검사로 간주되며, 같은 날 중복 산정은 인정하지 않는다.\n",
        "Q: 누372 베타에이취씨지의 급여기준은 어떻게 정해지고 있나요?\n",
        "A: 누372 베타에이취씨지의 급여기준은 관련근거고시 제2020-110호(행위)에 따라 정해져 있습니다.\n",
        "Q: 누372가 베타에이취씨지-정밀면역검사(정량)과 동일목적의 다른 검사가 있는데, 어떤 규정에 따라 중복 산정이 허용되지 않는 건가요?\n",
        "\"\"\")"
      ],
      "metadata": {
        "colab": {
          "base_uri": "https://localhost:8080/"
        },
        "id": "Qb5T1WTcqueE",
        "outputId": "066d994a-ae96-43ae-a984-f343803b982e"
      },
      "execution_count": 41,
      "outputs": [
        {
          "output_type": "stream",
          "name": "stderr",
          "text": [
            "Setting `pad_token_id` to `eos_token_id`:2 for open-end generation.\n"
          ]
        },
        {
          "output_type": "stream",
          "name": "stdout",
          "text": [
            "### 질문: \n",
            "다음 내용을 보고 질문에 답변 해줘\n",
            "누372 베타에이취씨지의 급여기준은 2020년 6월 1일 시행된 관련근거고시 제2020-110호에 따라, 베타에이취씨지 정밀면역검사(정량)과 베타에이취씨지-정밀면역검사(정량)-간이검사는 동일목적의 검사로 간주되며, 같은 날 중복 산정은 인정하지 않는다.\n",
            "Q: 누372 베타에이취씨지의 급여기준은 어떻게 정해지고 있나요?\n",
            "A: 누372 베타에이취씨지의 급여기준은 관련근거고시 제2020-110호(행위)에 따라 정해져 있습니다.\n",
            "Q: 누372가 베타에이취씨지-정밀면역검사(정량)과 동일목적의 다른 검사가 있는데, 어떤 규정에 따라 중복 산정이 허용되지 않는 건가요?\n",
            "\n",
            "\n",
            "### 답변: \n",
            "- \n",
            "누372가 베타에이취씨지-정밀면역검사(정량)과는 구별되는 검사로, 중복 산정은 인정되지 않습니다.\n",
            "- \n",
            "누372 베타에이취씨지의 급여기준은 다음과 같습니다.\n",
            "- - \n",
            "- \n",
            "- - \n",
            "- \n",
            "- \n",
            "- \n",
            "- <|acc|>- \n",
            "- \n",
            "- \n",
            "- \n",
            "- \n",
            "- \n",
            "- - \n",
            "- \n",
            "- \n",
            "- - \n",
            "- \n",
            "- \n",
            "- \n",
            "- �- - �밭- - \n",
            "- \t- \u001e- \n",
            "- \n",
            "- - - \n",
            "- - - \n",
            "- \n",
            "- \n",
            "- - - \n",
            "- - - \n",
            "- \n",
            "- - \n",
            "- \n",
            "- \n",
            "- \n",
            "- - \n",
            "- \n",
            "- \n",
            "- \n",
            "- - - \n",
            "- \n",
            "- - \n",
            "- \n",
            "- \n",
            "- \n",
            "- \n",
            "- \n",
            "- - <|sep|>- \n",
            "- \n",
            "- - \n",
            "- \n",
            "- \n",
            "- \n",
            "- �- \n",
            "- \n",
            "- - \n",
            "- \n",
            "- \n",
            "- \n",
            "- \n",
            "- \n",
            "- - \n",
            "- \n",
            "- \n",
            "- \n",
            "- \n",
            "- - \n",
            "- \n",
            "- - - \u001d- \n",
            "- \n",
            "- \n",
            "- \r- \n",
            "- \n",
            "- <|sep|>- \n",
            "- \n",
            "- \n",
            "- \n",
            "- \n",
            "- \t- - \n",
            "- \n",
            "- \n",
            "- - - \n",
            "- \n",
            "- \n",
            "- \r- - - \n",
            "- \n",
            "- - - \n",
            "- <|sep|>- \n",
            "- \n",
            "- - \n",
            "- - \n",
            "- <|sep|>- - \n",
            "- \n",
            "- \n",
            "- \n",
            "- - \n",
            "- \n",
            "-\n"
          ]
        }
      ]
    },
    {
      "cell_type": "code",
      "source": [
        "gen('자궁외 임신의 경우 베타에이취씨지와 관련된 검사 시에는 어떤 수가가 적용되나요?')"
      ],
      "metadata": {
        "colab": {
          "base_uri": "https://localhost:8080/"
        },
        "id": "b95nrgaltwhR",
        "outputId": "bec7382b-98dd-4115-c8ab-ef2b98172755"
      },
      "execution_count": 42,
      "outputs": [
        {
          "output_type": "stream",
          "name": "stderr",
          "text": [
            "Setting `pad_token_id` to `eos_token_id`:2 for open-end generation.\n"
          ]
        },
        {
          "output_type": "stream",
          "name": "stdout",
          "text": [
            "### 질문: 자궁외 임신의 경우 베타에이취씨지와 관련된 검사 시에는 어떤 수가가 적용되나요?\n",
            "\n",
            "### 답변: 난자채취를 위해 시행하는 공난포검사는 진료수가(행위) 코드 F804에 귀속되며, 이는 진찰료+투약처방전+검체검사비 등의 행위 수가로 산정됩니다. 자궁외 임신의 경우에는 자궁근종, 용종과 같이 자궁 내 질병의 진단을 위한 검사행위의 별도 수가(행위)는 없습니다. 다만, 자궁외 임신 진단을 위한 공난포검사와 같은 질병의 진단, 치료와 직접 관련이 없는 검사행위는 인정되지 않으며, 관련 고시에서 열거된 행위 이외에는 별도의 행위수가를 인정하지 않습니다. 따라서 자궁외 임신의 경우에는 F804(진료수가)를 산정한 후, 일부 행위(F009, F809, F891, F892 등) 또는 약제(F184, F401)를 이용하여 인정합니다. 이 외에도 F891 자궁근종 등의 진단을 위한 검사 등 F901, F997에 해당하는 검사행위도 이용할 수 있습니다. 따라서 별도의 진료비는 환자에게 지급하지 않습니다. 다만, 국민건강보험법 시행령 개정 이후 실시하는 검사와 관련한 일부 행위 및 약제에 대해서는 별도의 행위 및 수가를 인정합니다. 자세한 사항은 질병관리청 홈페이지(http://www.cdc.go.kr)와 'http://gstric.gsnec.or.kr'를 참고하세요. \n",
            "\n",
            "--------------------------------------------------------------------------- �### 답변: 자궁내막증의 경우, 행위수가에는 진료수가(행위)로 F804와 F901이 있으나, 질염 등의 질병의 진단과 관련된 일부 비용은 별도의 행위(F009, F809)를 이용하여 인정됩니다. F891 자궁근종 등의 진단을 위한 검사도 이용할 수 있으며, 필요한 경우 약제(F184, D030 등)도 인정하여 비용을 지급됩니다. 이와 더불어 개정 이후 실시하는 F901, F997 등 일부 검사에 대해서도 이용이 가능하나, F901의 경우에는 자궁내막증의 진단을 위한 F901 이외에는 대부분의 경우\n"
          ]
        }
      ]
    },
    {
      "cell_type": "code",
      "source": [
        "gen(\"\"\"\n",
        "다음 내용을 보고 질문에 답변 해줘\n",
        "누372 베타에이취씨지의 급여기준은 2020년 6월 1일 시행된 관련근거고시 제2020-110호에 따라, 베타에이취씨지 정밀면역검사(정량)과 베타에이취씨지-정밀면역검사(정량)-간이검사는 동일목적의 검사로 간주되며, 같은 날 중복 산정은 인정하지 않는다.\n",
        "Q: 누372 베타에이취씨지와 관련된 질의응답에서 언급된 사항 중, 임신 확인을 위한 검사 시 수가는 어떻게 적용되나요?\n",
        "A: 임신 확인을 위한 검사 시에는 수가의 100:100을 적용해야 합니다.\n",
        "Q: 자궁외 임신의 경우 베타에이취씨지와 관련된 검사 시에는 어떤 수가가 적용되나요?\n",
        "\"\"\")"
      ],
      "metadata": {
        "colab": {
          "base_uri": "https://localhost:8080/"
        },
        "id": "CO2SWb0CtwhS",
        "outputId": "140983b8-0417-4a86-955f-159cb45c1d41"
      },
      "execution_count": 43,
      "outputs": [
        {
          "output_type": "stream",
          "name": "stderr",
          "text": [
            "Setting `pad_token_id` to `eos_token_id`:2 for open-end generation.\n"
          ]
        },
        {
          "output_type": "stream",
          "name": "stdout",
          "text": [
            "### 질문: \n",
            "다음 내용을 보고 질문에 답변 해줘\n",
            "누372 베타에이취씨지의 급여기준은 2020년 6월 1일 시행된 관련근거고시 제2020-110호에 따라, 베타에이취씨지 정밀면역검사(정량)과 베타에이취씨지-정밀면역검사(정량)-간이검사는 동일목적의 검사로 간주되며, 같은 날 중복 산정은 인정하지 않는다.\n",
            "Q: 누372 베타에이취씨지와 관련된 질의응답에서 언급된 사항 중, 임신 확인을 위한 검사 시 수가는 어떻게 적용되나요?\n",
            "A: 임신 확인을 위한 검사 시에는 수가의 100:100을 적용해야 합니다.\n",
            "Q: 자궁외 임신의 경우 베타에이취씨지와 관련된 검사 시에는 어떤 수가가 적용되나요?\n",
            "\n",
            "\n",
            "### 답변: \n",
            "산부인과에서 임신 확인을 위해 이루어지는 진료 시에는, 누1006 베타에이취씨지를 적용해야 하며, 이는 급여기준 및 진료범위에 대한 자세한 내용은 아래의 내용을 참고하시기 바랍니다.\n",
            "- \n",
            "부인과에서 임신 확인을 위한 검사 시에는, 누1006 베타에이취씨지(나361가, 나543)를 급여기준 및 진료범위에 따라 다음과 같이 적용해야 합니다.\n",
            "- \n",
            "임신 확인을 위한 나361가, 나543 검사의 급여기준은 ical(1) 참조\n",
            "- 임신 확인을 위해서 실시하게 되는 나361가, 나543(1) 임신반응검사의 경우, 임신반응검사의 급여기준은 임신반응 검사의 급여기준 1항에 의거하여 시행하여야 합니\n",
            "- - \n",
            "진료범위에 따르면, \"임신 가능성을 진단하기 위해서, 임신검사, 기초체온검사 등을 이용할 수 있다. 임신이 아닌 경우에는 다른 이유로 임신검사가 필요한 경우\"가 적용될 수 있는 진료대상 중 하나로 볼 수 있습니다.\n",
            "따라서, 임신 확인을 위해서 진료를 받고자 하는 경우에는 검사 시 나361가, 나543(1) 임신반응검사를 적용해야 하며, 임신이 아닌 경우에는 다른 이유로 임신검사가 필요한 경우가 해당됩니다.\n",
            "제 답변이 도움이 되었길 바라며, 추가적인 문의사항이 있는 경우 비밀댓글로 문의해주시면 답변 드리도록 하겠습니다.\n",
            "- * 안내된 내용 이외에 추가적인 질문이 있을 경우, 비밀댓글로 질문을 남겨주세요.\n",
            "\n",
            "### 답변: - (1) 임신검사의 급여기준 및 검사방법(나361가, 나543). - <|sep|>- - \n",
            "예시: 임신반응검사(HCG)는 검사 실시 시마다 임신반응검사(HCG)를 시행하므로, HCG 검사와 나361가(나543) 임신반응검사는 동일목적의 검사로 볼 수 있으므로, 중복산정은 인정하지 않습니다.\n",
            "- - - \n",
            "- \n",
            "- \n",
            "- \n",
            "- \n"
          ]
        }
      ]
    },
    {
      "cell_type": "markdown",
      "source": [
        "## 산전 기형아 검사 등에서 이상이 확인된 경우 염색체 검사 비용 지원사업"
      ],
      "metadata": {
        "id": "PVIf4XZJqulz"
      }
    },
    {
      "cell_type": "code",
      "source": [
        "gen('산전 기형아 검사 등에서 이상이 확인된 경우, 어떤 검사가 지원사업의 대상이 될 수 있나요?')"
      ],
      "metadata": {
        "colab": {
          "base_uri": "https://localhost:8080/"
        },
        "id": "buX6f4c6qulz",
        "outputId": "c36223d4-0937-49bc-b7c9-a5222c6b0a7c"
      },
      "execution_count": 44,
      "outputs": [
        {
          "output_type": "stream",
          "name": "stderr",
          "text": [
            "Setting `pad_token_id` to `eos_token_id`:2 for open-end generation.\n"
          ]
        },
        {
          "output_type": "stream",
          "name": "stdout",
          "text": [
            "### 질문: 산전 기형아 검사 등에서 이상이 확인된 경우, 어떤 검사가 지원사업의 대상이 될 수 있나요?\n",
            "\n",
            "### 답변: 현재 시행되고 있는 산전 기형아 검사 등에서 이상이 확인되는 경우, 다음 대상을 지원 사업에 해당될 수 있습니다. \n",
            "- 선천성 신경인성 방광환자(소아)- 제대혈, 조혈모세포가 필요한 환자- 선천성 심장병 환자와 폐동맥 협착 혹은 심장중격 결손이 있는 환자- 기타 장애가 있는 환자- 비급여 본인부담금의 90% \n",
            "- 위의 사항에 해당하는 환자는 지원사업 대상자로서 분류되며, 지원사업 대상자의 정의와 지원 대상 범위는 다음과 같습니다.\n",
            "- “지원 대상별 세부 사항”에서 지원대상 정의: 지원대상자와 지원범위는 다음과 같습니다.  \u001f- 지원대상 정의: 지원대상자와 지원범위는 다음과 같습니다. - 지원대상자 :  \n",
            "- 지원범위 :  \n",
            "- 지원대상자 :  - 지원범위 :  - 지원대상자 :  \n",
            "- 지원범위 :  \n",
            "- 지원대상자 :  \n",
            "- 지원범위 :  \n",
            "- 지원대상자 :  \n",
            "- 지원범위 :   \n",
            "- 지원대상자 :  �밭- 지원범위 :  \n",
            "- 지원대상자 :   \n",
            "- 지원대상자 :   \r- 지원대상자 :  \n",
            "- 지원대상자 :   �- 지원대상자 :  - 지원범위:  �밭- 지원대상자:   \n",
            "- 지원대상자:   \n",
            "- 지원대상자:   \n",
            "- 지원대상자:   - 지원대상자:    \n",
            "- 지원대상자:   - 지원대상자:   \n",
            "- 지원대상자:   \n",
            "- 지원대상자:   \n",
            "- 지원대상자:   \n",
            "- 지원대상자:   \n",
            "- 지원대상자:   - 지원대상자:   \r- 지원대상자:    \n",
            "- 지원대상자:   \n",
            "- 지원대상자:    - 지원대상자:   \n",
            "- 지원대상자:    \n",
            "- 지원대상자:    \n",
            "- 지원대상자:    \n",
            "- 지원대상자:    \n",
            "- 지원대상자:    \n",
            "- 지원대상자:    <|acc|>- 지원대상자:\n"
          ]
        }
      ]
    },
    {
      "cell_type": "code",
      "source": [
        "gen(\"\"\"\n",
        "다음 내용을 보고 질문에 답변 해줘\n",
        "산전 기형아 검사 등에서 이상이 확인된 경우, 양수검사, 융모막생검 검사, 제대혈 검사 등 산전 염색체 검사 비용은 태아 건강검진 지원사업에서 생명보험사회공헌재단 및 인구보건복지협회를 통해 지원됩니다.\n",
        "Q: 태아 건강검진 지원사업에서 제공되는 검사 종류는 무엇인가요?\n",
        "A: 태아 건강검진 지원사업에서는 양수검사, 융모막생검 검사, 제대혈 검사 등이 지원됩니다.\n",
        "Q: 산전 기형아 검사 등에서 이상이 확인된 경우, 어떤 검사가 지원사업의 대상이 될 수 있나요?\n",
        "\"\"\")"
      ],
      "metadata": {
        "colab": {
          "base_uri": "https://localhost:8080/"
        },
        "id": "ofP4bP24qulz",
        "outputId": "0fdd040a-0b27-4107-868a-906dd05de30f"
      },
      "execution_count": 45,
      "outputs": [
        {
          "output_type": "stream",
          "name": "stderr",
          "text": [
            "Setting `pad_token_id` to `eos_token_id`:2 for open-end generation.\n"
          ]
        },
        {
          "output_type": "stream",
          "name": "stdout",
          "text": [
            "### 질문: \n",
            "다음 내용을 보고 질문에 답변 해줘\n",
            "산전 기형아 검사 등에서 이상이 확인된 경우, 양수검사, 융모막생검 검사, 제대혈 검사 등 산전 염색체 검사 비용은 태아 건강검진 지원사업에서 생명보험사회공헌재단 및 인구보건복지협회를 통해 지원됩니다.\n",
            "Q: 태아 건강검진 지원사업에서 제공되는 검사 종류는 무엇인가요?\n",
            "A: 태아 건강검진 지원사업에서는 양수검사, 융모막생검 검사, 제대혈 검사 등이 지원됩니다.\n",
            "Q: 산전 기형아 검사 등에서 이상이 확인된 경우, 어떤 검사가 지원사업의 대상이 될 수 있나요?\n",
            "\n",
            "\n",
            "### 답변: \n",
            "위의 내용에서 볼 때, 태아 건강검진 지원사업에서는 양수검사, 융모막생검 검사 등이 지원됩니다. 이 중, 어떤 검사가 지원사업의 대상이 되는지는 각 분야별로 구체적인 검사 종류가 정해져 있으며, 각 검사가 지원이 되는지 확인하는 과정이 필요합니다. 또한, 지원 대상으로 판단되는 경우, 검사 비용은 전액 무료로 지원되며, 이후 각 검사에서 이상이 확인된 경우, 그 검사 비용은 해당 질환의 지원 범위 내에서 보험급여 적용됩니다. \n",
            "\n",
            "따라서, 지원 대상으로 판단되는 검사 항목과 각 검사를 지원 범위 내에서 할 경우, 태아 건강검진 지원사업에서 사용되는 비용은 무료입니다. 구체적인 내용은 해당 병원과 상의하는 것이 가장 정확하며, 정확한 확인 방법은 임신 중 해당 병원을 방문하여 진료를 받거나 문의하는 것입니다.\n",
            "\n",
            "또한, 태아 건강검진 지원사업에서 사용되는 지원 범위는 해당 질환 지원 범위 내에서 인정되며, 이와 다른 검사 방법은 지원 대상에서 제외됩니다. 또한, 지원 대상으로 판단되는 경우, 검사 비용은 전액 무료로 지원되며 이후 각 질환의 지원 범위 내에서 보험급여 적용됩니다.\n",
            "\n",
            "따라서, 지원 내용과 지원 대상으로 판단되는 경우 검사 비용은 전액 무료로 지원되고, 이후 각 검사에서 이상이 발생한 경우, 해당 검사 방법과 지원 범위 내에서 보험급여 적용됩니다. \n",
            "\n",
            "따라서, 해당 병원에서 태아 건강검진 지원사업에서 제공되는 검사 내용과 지원금의 내용을 정확하게 확인하는 것이 필요합니다. 정확한 확인은 담당 병원과 상의하는 것이 가장 정확하며, 정확한 확인 방법은 임신 중 해당 병원을 방문하여 진료를 받거나 문의하는 것입니다.\n",
            "\n",
            "추가적인 문의와 궁금증은 해당 병원과 상의하는 것이 가장 정확합니다. 또한, 지원 내용과 지원 대상으로 판단되는 경우, 검사 비용은 전액 무료로 지원되고, 이후 각 검사에서 이상이 발생한 경우, 해당 검사 방법과 지원 범위 내에서 보험급여 적용됩니다.따라서, 지원 내용과 지원 대상으로 판단되는 경우, 검사 비용은 전액 무료로 지원되고, 이후 각 질환 지원 범위 내에서 보험급여 적용됩니다. \n",
            "\n",
            "추가적인 궁금한 사항\n"
          ]
        }
      ]
    },
    {
      "cell_type": "code",
      "source": [
        "gen('지원되는 검사 종류 중 하나인 \"융모막생검 검사\"는 어떤 상황에서 시행되는 것인가요?')"
      ],
      "metadata": {
        "colab": {
          "base_uri": "https://localhost:8080/"
        },
        "id": "Us7ItjNcuBTo",
        "outputId": "fde1c18d-99d4-4247-8bbc-0b283c5b2ada"
      },
      "execution_count": 46,
      "outputs": [
        {
          "output_type": "stream",
          "name": "stderr",
          "text": [
            "Setting `pad_token_id` to `eos_token_id`:2 for open-end generation.\n"
          ]
        },
        {
          "output_type": "stream",
          "name": "stdout",
          "text": [
            "### 질문: 지원되는 검사 종류 중 하나인 \"융모막생검 검사\"는 어떤 상황에서 시행되는 것인가요?\n",
            "\n",
            "### 답변: \"융모막생검검사\"는 말초혈액을 채취해야 하는 위험 요소를 가지고 있는 경우 시행됩니다. 따라서, 자궁경부암 검사나 양수검사 중 어느 것도 시행할 수 없는 산모의 경우 시행할 수 있습니다. 또한, 난모세포, 난소암, 난소난치성종양, 여성 불임증 등의 원인이 파악되지 않을 경우에도 시행됩니다. 임신 초기에 발견해야 하는 태아 기형 등의 문제가 있을 경우, 융모막생검을 통해 임신 초기의 태아의 성별을 확인할 수 있습니다. 이 검사는 자궁천공, 자궁근종, 자궁내막암, 난소암, 뇌종양, 유방암 등이 의심되는 경우에도 시행됩니다. 이 검사는 임신주수 24~36주 사이에 시행되며, 검사 결과에 따라 임신주수를 결정합니다. 임신주수가 변경된다면 융모막생검검사를 다시 해야 합니다. 임신주수와 관계없이 산전검사에서 이상소견, 특히 융모막생검검사에서 이상소견이 발견된 경우에는 자궁과 나팔관의 유착을 확인하는 나팔관경과 진단적 복강경 검사, 자궁난관조영술, 난관통기배양 등을 추가적으로 시행할 수 있습니다. 하지만 이들 검사에서 이상소견이 발견되지 않을 경우, 정기적인 검진을 통한 이상소견의 발생여부에 따라 추가적인 임신검사 등이 필요합니다. 따라서, 임신주수에 적합한 검사가 반드시 필요하다면 융모막생검검사 뿐만 아니라 어떤 검사방법도 검사방법은 선택할 수 있습니다. 임신주수가 진행되는 상황에서 자궁내막을 채취해서 융모막생검을 시행해야 하는 경우에는 자궁과 자궁내막에 영향을 덜 주는 방법으로 진행되기도 하므로, 융모막생검이 적합하지 않다면 다른 검사방법이 더 적합할 수 있습니다. 그러므로, 다른 검사방법을 시행하는 것이 좋습니다. 또한, 임신주수가 증가할수록 융모막생검이 적합한 경우는 더 줄어들며, 산모에게 안전한 방법 위주로 고려될 것입니다. 따라서, 각 임신주수에 따라 임신 상태를 고려하는 것이 중요합니다. 해당 내용을 잘 참고하시어\n"
          ]
        }
      ]
    },
    {
      "cell_type": "code",
      "source": [
        "gen(\"\"\"\n",
        "다음 내용을 보고 질문에 답변 해줘\n",
        "산전 기형아 검사 등에서 이상이 확인된 경우, 양수검사, 융모막생검 검사, 제대혈 검사 등 산전 염색체 검사 비용은 태아 건강검진 지원사업에서 생명보험사회공헌재단 및 인구보건복지협회를 통해 지원됩니다.\n",
        "Q: 태아 건강검진 지원사업에서 제공되는 검사 종류는 무엇인가요?\n",
        "A: 태아 건강검진 지원사업에서는 양수검사, 융모막생검 검사, 제대혈 검사 등이 지원됩니다.\n",
        "Q: 지원되는 검사 종류 중 하나인 \"융모막생검 검사\"는 어떤 상황에서 시행되는 것인가요?\n",
        "\"\"\")"
      ],
      "metadata": {
        "colab": {
          "base_uri": "https://localhost:8080/"
        },
        "id": "H6uuObBpuBTu",
        "outputId": "1fe8b4dc-89b3-4796-da60-07882847e0ec"
      },
      "execution_count": 47,
      "outputs": [
        {
          "output_type": "stream",
          "name": "stderr",
          "text": [
            "Setting `pad_token_id` to `eos_token_id`:2 for open-end generation.\n"
          ]
        },
        {
          "output_type": "stream",
          "name": "stdout",
          "text": [
            "### 질문: \n",
            "다음 내용을 보고 질문에 답변 해줘\n",
            "산전 기형아 검사 등에서 이상이 확인된 경우, 양수검사, 융모막생검 검사, 제대혈 검사 등 산전 염색체 검사 비용은 태아 건강검진 지원사업에서 생명보험사회공헌재단 및 인구보건복지협회를 통해 지원됩니다.\n",
            "Q: 태아 건강검진 지원사업에서 제공되는 검사 종류는 무엇인가요?\n",
            "A: 태아 건강검진 지원사업에서는 양수검사, 융모막생검 검사, 제대혈 검사 등이 지원됩니다.\n",
            "Q: 지원되는 검사 종류 중 하나인 \"융모막생검 검사\"는 어떤 상황에서 시행되는 것인가요?\n",
            "\n",
            "\n",
            "### 답변: \n",
            "'융모막생검'은 임신 중 채취한 제대혈에서 태아의 유핵세포 및 혈액, 세포질, 소판 등의 세포를 분리하여 암을 진단하는 검사입니다. 이 검사는 암 진단시 양성·악성 여부를 정확히 판별할 수 있고, 종양이 발견되지 않는 경우에도 다른 장기의 암을 진단하는 데 활용할 수 있습니다.\n",
            "따라서, '융모막생검 검사'는 자궁과 태반 등을 떼어내 시행하는 수술적 검사보다 시술비와 입원비가 저렴하고, 시술 당일 바로 퇴원해 일상생활에 정상적으로 복귀할 수 있다는 장점이 있습니다.\n",
            "하지만, '융모막생검 검사'는 모든 세포를 검사하는 것이 아니기 때문에 '양성종양'으로 나온 경우 2주 후, '악성종양'으로 나온 경우 1∼2주 후 재검사해야 할 수 있습니다. 이 검사를 시행할 때는 다른 부위에도 암세포나 기형 조직이 있는지를 검사하게 됩니다.\n",
            "\n",
            "'융모막생검 검사'는 '양수검사', '제대혈 검사'와 모두 다른 항목이라 각각의 비용을 별도로 확인해야 합니다. 이 경우 다른 검사와는 달리 '의료비 지원기준'의 제한을 받지 않으므로, 개별 진료가 가능하다는 것을 참고하시기 바랍니다.\n",
            "\n",
            "따라서, 태아의 건강을 관리해 '태아 건강검진 지원사업'을 통해 '융모막생검 검사'를 받는 것은 바람직하지만, 정확한 내용 및 비용을 고려하여 신중한 선택이 필요합니다. '융모막생검 검사'는 다른 검사에 비해 안전하며, 검사에 대해서 궁금한 사항이 있을 경우에는 병원에 문의하시는 것이 좋습니다.\n",
            "마지막으로, '융모막생검 검사'는 초음파 검사를 통해 기형 등 특정 부위가 파악돼 필요한 경우에만 시행되므로, 의사에게 정확한 정보를 전달하고 결정에 따르는 것이 좋습니다. \r 따라서, 산전 염색체 검사를 통해 양수검사, 융모막생검 검사, 제대혈 검사 등의 추가 검사가 필요한 사항이 확인되면 '융모막생검 검사'를 통해 임신 초기에 정밀검사를 진행하는 것이 바람직합니다.\n",
            "�\n"
          ]
        }
      ]
    },
    {
      "cell_type": "markdown",
      "source": [
        "## 산전진찰 목적으로 시행하는 검사의 급여기준"
      ],
      "metadata": {
        "id": "WgZXVLo0quse"
      }
    },
    {
      "cell_type": "code",
      "source": [
        "gen('비자극검사는 어떤 경우에 시행되며 인정횟수는 어떻게 되나요?')"
      ],
      "metadata": {
        "colab": {
          "base_uri": "https://localhost:8080/"
        },
        "id": "zGnXx7amquse",
        "outputId": "22328def-4784-4fb8-9ab3-f47e321de647"
      },
      "execution_count": 48,
      "outputs": [
        {
          "output_type": "stream",
          "name": "stderr",
          "text": [
            "Setting `pad_token_id` to `eos_token_id`:2 for open-end generation.\n"
          ]
        },
        {
          "output_type": "stream",
          "name": "stdout",
          "text": [
            "### 질문: 비자극검사는 어떤 경우에 시행되며 인정횟수는 어떻게 되나요?\n",
            "\n",
            "### 답변: 비자극검사는 신경학과와 정신과 전문의가 시행하는 검사로서, 뇌종양, 뇌염, 뇌막염, 뇌경색, 간질 등 신경이나 정신 계통 질환이 있는 경우에만 해당됩니다. 이 경우에는 인정 횟수에 관계없이 보험급여가 인정됩니다. 이 외에도 뇌전증 및 정신지체, 지적장애, 운동장애 등 다른 상병으로 진료받는 환자들도 비자극검사 대상이 됩니다. 비자극검사는 신경과나 정신과의 전문의가 검사할 내용을 처방하고 뇌파를 기록하는 방식으로 시행됩니다. 비자극검사는 약물을 사용하지 않고 주로 비침습적인 방법을 사용하니 참고하시기 바랍니다. \n",
            "\n",
            "상세보기 내용을 참고해보시고 더 자세한 상담 문의는 언제든지 보험급여전문상담센터에서 상담해보시기 바랍니다. \n",
            "\n",
            "상세보기는 보험급여 관련 질문에 대한 답변을 통해 고객의 궁금증을 해결하는 역할을 합니다. \n",
            "상세보기에서는 보험급여, 진료, 검사 및 요양 등 의료서비스에 대한 다양한 궁금증을 해결하고 보험급여 제도 및 절차 안내, 진료수가, 심사 및 심사 기준, 청구 등 보험급여 실무적 사항을 제공합니다. \r상세보기는 고객의 궁금증을 해결해 드릴 수 있는 답변을 제공하는 역할을 합니다. \n",
            "\n",
            "상세보기에서는 고객의 궁금증을 해결해 드리는 답변을 제공합니다. \n",
            "위 답변은 정확한 정보에 근거하여 제공되는 것으로, 추가적인 정보가 필요할 경우 담당 의료진과 함께 확인하시기 바랍니다. \n",
            "\n",
            "한편, 국민건강보험법 제45조(급여대상 본인부담금의 상한) 및 국민건강보험법 제69조(수가) 등에 따르면, 환자가 본인부담금상한액을 초과하여 의료서비스를 받은 경우 건보공단은 그 초과금액에 대해서는 비용을 부담합니다.\n",
            "\n",
            "따라서, 비자극검사 대상자인 경우, 뇌종양 등으로 뇌전증 등 관련 질환을 가진 경우에는 진단명과 증상 등을 확인하여 환자분에게 적합한 의료서비스를 선택해 드리고 있으며, 비자극검사에 대해 추가적인 진단의 필요성에 대한 판단이 필요할 수 있다는 점도 참고하시기 바랍니다.�\n",
            "상세보기의 답변은 일반적인 정보 제공 차원\n"
          ]
        }
      ]
    },
    {
      "cell_type": "code",
      "source": [
        "gen(\"\"\"\n",
        "다음 내용을 보고 질문에 답변 해줘\n",
        "산전진찰 목적으로 시행하는 검사의 급여기준은 혈액학검사, 요검사, 혈액형검사, 매독반응검사, HBsAg 검사, 모체혈청 선별검사 중 Triple Test 또는 Quad Test, 풍진검사, 에이즈검사, 비자극검사(임신24주 이상 자궁수축이 없는 임부에게 1회만 인정, 35세 이상 임부 추가 1회 가능), 50g 경구 포도당부하검사(임신 24~28주 사이 1회만 인정), 초음파검사 등을 포함하며, 유전학적 양수검사, 모체 혈청 선별검사 중 PAPP-A, free-β-HCG 등은 비급여대상입니다. (고시 제2018-135호, 시행일: 2018.7.1.)\n",
        "Q: 산전진찰을 위한 요양급여대상 검사에는 어떤 항목이 포함되어 있나요?\n",
        "A: 혈액학검사, 요검사, 혈액형검사, 매독반응검사, HBsAg검사, Triple Test 또는 Quad Test, 풍진검사, 에이즈검사, 비자극검사, 50g 경구 포도당부하검사, 초음파검사 등이 포함되어 있습니다.\n",
        "Q: 비자극검사는 어떤 경우에 시행되며 인정횟수는 어떻게 되나요?\n",
        "\"\"\")"
      ],
      "metadata": {
        "colab": {
          "base_uri": "https://localhost:8080/"
        },
        "id": "DkSU-BsAqusf",
        "outputId": "9f6beb0a-3604-4660-e1ac-01547b0bb767"
      },
      "execution_count": 49,
      "outputs": [
        {
          "output_type": "stream",
          "name": "stderr",
          "text": [
            "Setting `pad_token_id` to `eos_token_id`:2 for open-end generation.\n"
          ]
        },
        {
          "output_type": "stream",
          "name": "stdout",
          "text": [
            "### 질문: \n",
            "다음 내용을 보고 질문에 답변 해줘\n",
            "산전진찰 목적으로 시행하는 검사의 급여기준은 혈액학검사, 요검사, 혈액형검사, 매독반응검사, HBsAg 검사, 모체혈청 선별검사 중 Triple Test 또는 Quad Test, 풍진검사, 에이즈검사, 비자극검사(임신24주 이상 자궁수축이 없는 임부에게 1회만 인정, 35세 이상 임부 추가 1회 가능), 50g 경구 포도당부하검사(임신 24~28주 사이 1회만 인정), 초음파검사 등을 포함하며, 유전학적 양수검사, 모체 혈청 선별검사 중 PAPP-A, free-β-HCG 등은 비급여대상입니다. (고시 제2018-135호, 시행일: 2018.7.1.)\n",
            "Q: 산전진찰을 위한 요양급여대상 검사에는 어떤 항목이 포함되어 있나요?\n",
            "A: 혈액학검사, 요검사, 혈액형검사, 매독반응검사, HBsAg검사, Triple Test 또는 Quad Test, 풍진검사, 에이즈검사, 비자극검사, 50g 경구 포도당부하검사, 초음파검사 등이 포함되어 있습니다.\n",
            "Q: 비자극검사는 어떤 경우에 시행되며 인정횟수는 어떻게 되나요?\n",
            "\n",
            "\n",
            "### 답변: 비자극검사는 임부가 자가주사 후 20~40분 이내에 반응을 보인 경우에만 인정하며, 임신 24~28주에 매 3~4주마다 1회만 인정합니다. 임산부의 경우 임신 1주~5주에 1회 인정하며, 임신 6주~11주에 1회 추가로 인정합니다. \n",
            "Abnormal sign이 관찰되지 않으며 자가주사 20분 이내에 반응이 없는 경우, 임산부, 태아에게 자궁 및 산도 등에 이상이 있는 경우, 자궁경관무력증이 있는 경우에는 인정하지 않습니다.\n",
            "\n",
            "유전학적 양수검사 등은 원칙적으로 급여대상으로 인정되지 않으나, 태아가 비수축 상태인 경우에 인정합니다. \n",
            "유전학적 양수검사시 검사방법은 유전자검사법(NIPR, Quinqueens 등)과 동위원소 검사법(I-123, Eurofinet 등) 중 환자상태, 검사소견 등을 고려하여 전문가가 결정합니다.임신부에게 임신 24~28주 사이 3회 한정으로 시행한 비자극검사가 분만 전 출혈에 영향을 미치지 않은 경우 인정합니다. \n",
            "\n",
            "또한, 산전진찰 목적으로 시행하는 검사는  정도의 이상이 있는 경우에만 인정하는 경우가 많습니다. \n",
            "\n",
            "따라서, 임신부의 비자연유산 및 이상임신 등에 대한 검사를 시행하고자 하는 경우, 임상 전문가의 판단에 따라 검사항목을 선택적으로 실시할 수 있으므로, 검사비 일부만 부담하고도 검사항목에 따라 비급여로 인정할 수 있습니다. \n",
            "\n",
            "추가로, 임부가 빈혈, 황달 등을 보이는 경우 빈혈검사, 혈소판수 측정 등 일부는 급여로 인정하는 경우도 있으며, 기타 검사는 비급여로 인정할 수 있습니다. \n",
            "따라서, 산전진찰 목적으로 시행이 필요한 경우, 임상 전문가의 판단에 따라 필요한 검사를 결정해야 하며, 필요하다고 판단되는 경우 비급여로 인정할 수 있습니다.\n",
            "이 기준을 참고하여 산전진찰 급여항목에 대한 구체적인 검사항목과,   정도 이상이 있어 산전진찰 목적으로 시행하는 경우의\n"
          ]
        }
      ]
    },
    {
      "cell_type": "code",
      "source": [
        "gen('50g 경구 포도당부하검사는 언제 시행되는데, 해당 검사에 사용된 약제는 어떻게 인정되나요?')"
      ],
      "metadata": {
        "colab": {
          "base_uri": "https://localhost:8080/"
        },
        "id": "dQTA7M2VvC2X",
        "outputId": "3ae615ce-270d-45c8-dde5-c78bc2623761"
      },
      "execution_count": 50,
      "outputs": [
        {
          "output_type": "stream",
          "name": "stderr",
          "text": [
            "Setting `pad_token_id` to `eos_token_id`:2 for open-end generation.\n"
          ]
        },
        {
          "output_type": "stream",
          "name": "stdout",
          "text": [
            "### 질문: 50g 경구 포도당부하검사는 언제 시행되는데, 해당 검사에 사용된 약제는 어떻게 인정되나요?\n",
            "\n",
            "### 답변: 50g 경구 포도당부하검사는 당뇨병 의심군 환자의 공복혈당치에서 정상혈당치로의 전환(pre-phase)과 이상혈당의 유지상태(post-phase)를 알기 위하여 시행됩니다. 해당 검사는 경구 포도당부하검사 시행 전에 당뇨를 조기에 진단하기 위하여 시행되는 검사입니다. 따라서, 해당 검사에 처방된 비구아니드제제(metformin 250mg 등)는 당뇨병 치료 및 관리를 위해 사용되며, 검사에 사용한 약제는 별도 인정됩니다. 사용한 약제로 인하여 비구아니드제제가 불인정되는 경우, 해당 약제의 제외를 요청해서 인정되는 약제를 처방받으면 됩니다. \n",
            "\n",
            "### 이 답변은 개인적인 소견이므로 정확한 진단과 치료는 담당 의료진과 상담하여 결정하실 것을 권장합니다. \n",
            "- 추가 질문이 있으면 남겨주시면 답변드리겠습니다. \n",
            "출처(www.hira.or.kr): 한국표준질병사인분류(KCD) \n",
            "\n",
            "(상용처방전) 예시: 50g 경구 포도당부하검사 처방전 - 출처: http://www.kmlemania.com/portopeds/htm/integrated/index.html?tp=1&mp=20&bw=25&sw=2&tm=15&sn=10430543&partid=010430543&hottest=&attribute=&rec_order=&oper=&attribute=&pic=08030543&ym=190530&sv=1&itm=AW&supj=0&bw=25&sk=1&htj=1&spj=0&spm=0&spa=0&spc=0&spd=0&sc=0&sld=20062202&asc=0&ssc=0&ssm=0&pc=0&rc=0&code=210305\n"
          ]
        }
      ]
    },
    {
      "cell_type": "code",
      "source": [
        "gen(\"\"\"\n",
        "다음 내용을 보고 질문에 답변 해줘\n",
        "산전진찰 목적으로 시행하는 검사의 급여기준은 혈액학검사, 요검사, 혈액형검사, 매독반응검사, HBsAg 검사, 모체혈청 선별검사 중 Triple Test 또는 Quad Test, 풍진검사, 에이즈검사, 비자극검사(임신24주 이상 자궁수축이 없는 임부에게 1회만 인정, 35세 이상 임부 추가 1회 가능), 50g 경구 포도당부하검사(임신 24~28주 사이 1회만 인정), 초음파검사 등을 포함하며, 유전학적 양수검사, 모체 혈청 선별검사 중 PAPP-A, free-β-HCG 등은 비급여대상입니다. (고시 제2018-135호, 시행일: 2018.7.1.)\n",
        "Q: 50g 경구 포도당부하검사는 언제 시행되며 어떻게 산정되나요?\n",
        "A: 임신 24~28주 사이에 1회만 인정되며, 해당 수기료는 누302나 당검사[화학반응-장비측정]으로 산정되며, 부하검사 시 사용된 약제는 별도로 인정됩니다.\n",
        "Q: 50g 경구 포도당부하검사는 언제 시행되는데, 해당 검사에 사용된 약제는 어떻게 인정되나요?\n",
        "\"\"\")"
      ],
      "metadata": {
        "colab": {
          "base_uri": "https://localhost:8080/"
        },
        "id": "OZsh6yKDvC2Y",
        "outputId": "07656eb4-53e0-40fd-8435-be12e1de2585"
      },
      "execution_count": 51,
      "outputs": [
        {
          "output_type": "stream",
          "name": "stderr",
          "text": [
            "Setting `pad_token_id` to `eos_token_id`:2 for open-end generation.\n"
          ]
        },
        {
          "output_type": "stream",
          "name": "stdout",
          "text": [
            "### 질문: \n",
            "다음 내용을 보고 질문에 답변 해줘\n",
            "산전진찰 목적으로 시행하는 검사의 급여기준은 혈액학검사, 요검사, 혈액형검사, 매독반응검사, HBsAg 검사, 모체혈청 선별검사 중 Triple Test 또는 Quad Test, 풍진검사, 에이즈검사, 비자극검사(임신24주 이상 자궁수축이 없는 임부에게 1회만 인정, 35세 이상 임부 추가 1회 가능), 50g 경구 포도당부하검사(임신 24~28주 사이 1회만 인정), 초음파검사 등을 포함하며, 유전학적 양수검사, 모체 혈청 선별검사 중 PAPP-A, free-β-HCG 등은 비급여대상입니다. (고시 제2018-135호, 시행일: 2018.7.1.)\n",
            "Q: 50g 경구 포도당부하검사는 언제 시행되며 어떻게 산정되나요?\n",
            "A: 임신 24~28주 사이에 1회만 인정되며, 해당 수기료는 누302나 당검사[화학반응-장비측정]으로 산정되며, 부하검사 시 사용된 약제는 별도로 인정됩니다.\n",
            "Q: 50g 경구 포도당부하검사는 언제 시행되는데, 해당 검사에 사용된 약제는 어떻게 인정되나요?\n",
            "\n",
            "\n",
            "### 답변: \n",
            "50g 경구 포도당부하검사는 임신 24 ~ 28주에 시행되며, 검사 비용은 검사마다 다르므로 검사마다 정해진 산정기준에 의해 산정됩니다. 50g 경구 포도당부하검사는 당검사로 누302나 당검사 [화학반응-장비측정]으로 산정됩니다. 세부 인정 기준은 다음과 같습니다.\n",
            "\n",
            "제7장 이학요법료 제2절 처치 및 수술료 등 제9장 처치 및 수술료 중 누302나당검사[화학반응-장비측정] 50g 경구 포도당 부하검사는 제1편제2부 제2장 가2다(1), 누300나 당검사[화학반응-장비측정] 50g 경구 포도당부하검사는 제2편제2부 제9장 처치 및 수술료 제2장 제1절 처치 및 수술료 (별표) 자-109-1 경구 포도당부하검사는 제1편제2부 제2장 제9장 처치 및 수술료 등 제2절 처치 및 수술료의 (별표) 비고에 따라 50g 경구 포도당부하검사는 제1편제2부 제2장 제9장에 기재된 금액에 따라 산정합니다.\n",
            "\n",
            "### 답변 내용을 정리하면 다음과 같습니다. \n",
            "1. 50g 경구 포도당부하검사는 임신 24 ~ 28주에 시행되며, 해당 수기료는 누302나 당검사[화학반응-장비측정]로 산정됩니다.2. 50g 경구 포도당부하검사는 당 검사로 누302나 당검사[화학반응-장비측정]로 산정됩니다. 세부 인정 기준은 다음과 같습니다.\n",
            "3. 50g 경구 포도당부하검사는 임신 24 ~ 28주에 시행되며, 소요된 약제와 그 약제를 위해 실시한 검사는 별도 인정됩니다.\n",
            "4. 50g 경구 포도당부하검사는 당 검사로 누302나 당검사[화학반응-장비측정]로 산정됩니다. 세부 인정 기준은 다음과 같습니다.\n",
            "5. 50g 경구 포도당부하검사는 임신 24 ~ 28주에 시행되며, 해당 수기료는 누302나 당검사[화학반응-장비측정]로 산정됩니다. 세부 인정 기준은 다음과 같\n"
          ]
        }
      ]
    },
    {
      "cell_type": "code",
      "source": [
        "gen('모체 혈청 선별검사 중 PAPP-A, free-β-HCG의 비급여 대상 여부는 어떻게 변경되었나요?')"
      ],
      "metadata": {
        "colab": {
          "base_uri": "https://localhost:8080/"
        },
        "id": "I6X0TQ7DvDC8",
        "outputId": "6d47c652-f760-4589-e053-a82c5d353496"
      },
      "execution_count": 52,
      "outputs": [
        {
          "output_type": "stream",
          "name": "stderr",
          "text": [
            "Setting `pad_token_id` to `eos_token_id`:2 for open-end generation.\n"
          ]
        },
        {
          "output_type": "stream",
          "name": "stdout",
          "text": [
            "### 질문: 모체 혈청 선별검사 중 PAPP-A, free-β-HCG의 비급여 대상 여부는 어떻게 변경되었나요?\n",
            "\n",
            "### 답변: 2019년 1월 1일부터 의료보험 급여기준이 변경되어, PAPP-A와 free_β-HCG 검사는 현행 급여대상이 되지 않습니다. 이에 해당하는 경우 비급여가 가능합니다. PAPP-A검사는 기존급여, free_β-HCG 검사는 현행 비급여 대상입니다. PAPP-A 검사는 현재 자궁경부암 선별검사 중 가장 비용효과적인 방법으로 알려져 있으며, free_β-HCG 검사는 자궁내막암과 난소암에서 이용되는 유전자 검사법 중 하나입니다. 따라서, PAPP-A와 free_β-HCG 검사가 모두 비급여 대상인 경우, PAPP-A와 free_β-HCG 검사 중 PAPP-A검사를 우선적으로 고려해야 합니다. PAPP-A와 free_β-HCG 검사 모두 비급여 대상인 경우, free_β-HCG 검사가 PAPP-A 검사와 비교해 가격적 측면에서 유리하다면, paip-app 검사 대신 free_β-HCG 검사를 고려할 수 있습니다. PAPP-A와 free_β-HCG 검사 모두 비급여 대상일 때는 선택할 수 있는 다른 검사의 가격을 고려해야 하며, PAPP-A와 free_β-HCG 검사 둘 다 비급여 대상인 경우에는 PAPP-A 혹은 free_β-HCG 검사를 선택할 수 있습니다. 현재는 PAPP-A와 free_β-HCG 검사 모두 비급여 대상이므로, 두 검사 중 하나를 선택하고 하나의 비용수준을 낮추는 것이 적절할 수 있습니다. 해당 질문에 대한 답변은 참고사항이며, 반드시 의사선생님과 상의해보아야 합니다. 적정한 진단과 치료를 위해서는 현재 의학적 기준에 대한 검토가 필수적입니다. 이상 답변이 도움이 되었으면 좋겠습니다. \n",
            "추가적인 질문이나 궁금증이 있으시면 언제든지 문의해주세요. \n",
            "\n",
            "<|endoftext|>\n"
          ]
        }
      ]
    },
    {
      "cell_type": "code",
      "source": [
        "gen(\"\"\"\n",
        "다음 내용을 보고 질문에 답변 해줘\n",
        "산전진찰 목적으로 시행하는 검사의 급여기준은 혈액학검사, 요검사, 혈액형검사, 매독반응검사, HBsAg 검사, 모체혈청 선별검사 중 Triple Test 또는 Quad Test, 풍진검사, 에이즈검사, 비자극검사(임신24주 이상 자궁수축이 없는 임부에게 1회만 인정, 35세 이상 임부 추가 1회 가능), 50g 경구 포도당부하검사(임신 24~28주 사이 1회만 인정), 초음파검사 등을 포함하며, 유전학적 양수검사, 모체 혈청 선별검사 중 PAPP-A, free-β-HCG 등은 비급여대상입니다. (고시 제2018-135호, 시행일: 2018.7.1.)\n",
        "Q: 비급여대상검사에는 어떤 항목이 포함되어 있나요?\n",
        "A: 유전학적 양수검사, 모체 혈청 선별검사 중 PAPP-A, free-β-HCG 등이 비급여대상검사에 포함됩니다.\n",
        "Q: 모체 혈청 선별검사 중 PAPP-A, free-β-HCG의 비급여 대상 여부는 어떻게 변경되었나요?\n",
        "\"\"\")"
      ],
      "metadata": {
        "colab": {
          "base_uri": "https://localhost:8080/"
        },
        "id": "xLzONrItvDC8",
        "outputId": "12d7cffb-eb94-458a-9178-1929f1d19f5f"
      },
      "execution_count": 53,
      "outputs": [
        {
          "output_type": "stream",
          "name": "stderr",
          "text": [
            "Setting `pad_token_id` to `eos_token_id`:2 for open-end generation.\n"
          ]
        },
        {
          "output_type": "stream",
          "name": "stdout",
          "text": [
            "### 질문: \n",
            "다음 내용을 보고 질문에 답변 해줘\n",
            "산전진찰 목적으로 시행하는 검사의 급여기준은 혈액학검사, 요검사, 혈액형검사, 매독반응검사, HBsAg 검사, 모체혈청 선별검사 중 Triple Test 또는 Quad Test, 풍진검사, 에이즈검사, 비자극검사(임신24주 이상 자궁수축이 없는 임부에게 1회만 인정, 35세 이상 임부 추가 1회 가능), 50g 경구 포도당부하검사(임신 24~28주 사이 1회만 인정), 초음파검사 등을 포함하며, 유전학적 양수검사, 모체 혈청 선별검사 중 PAPP-A, free-β-HCG 등은 비급여대상입니다. (고시 제2018-135호, 시행일: 2018.7.1.)\n",
            "Q: 비급여대상검사에는 어떤 항목이 포함되어 있나요?\n",
            "A: 유전학적 양수검사, 모체 혈청 선별검사 중 PAPP-A, free-β-HCG 등이 비급여대상검사에 포함됩니다.\n",
            "Q: 모체 혈청 선별검사 중 PAPP-A, free-β-HCG의 비급여 대상 여부는 어떻게 변경되었나요?\n",
            "\n",
            "\n",
            "### 답변: 모체 혈청 선별검사 중 PAPP-A, free-β-HCG는 임신기간에 따라 급여대상에서 비급여대상으로 변경되어 해당되는 경우에만 선별급여로 인정됩니다. \n",
            "비급여대상검사에는 유전학적 양수검사, 모체 혈청 선별검사 중 PAPP-A, free-β-HCG, clostridine, AtothiDI-ligand 등이 있습니다. 해당되는 경우에만 선별급여로 인정됩니다.\n",
            "\n",
            "모체 혈청 선별검사 중 PAPP-A, free-β-HCG는 임신 24~28주 사이 1회만 인정되며, 35세 이상 임부 추가 1회 가능합니다. 비급여대상검사에 포함되므로, 해당되는 경우에만 선별급여로 인정됩니다.\n",
            "\n",
            "유전학적 양수검사는 급여하지 않고, 모체 혈청 선별검사 중 PAPP-A 등은 비급여대상입니다. 그렇지만, 기존 선별급여 항목이었던 자궁내막조직검사, 자궁천자액검사는 비급여대상으로 변경되었습니다. (고시 제2018-135호, 시행일: 2018.7.1.)\n",
            "참고: \n",
            "추가 답변: \n",
            "1. 모체 혈청 선별검사 중 PAPP-A, free-β-HCG는 임신 24~28주 사이 1회만 인정되며, 35세 이상 임부 추가 1회 가능합니다. 기존 선별검사항목이었지만, 비급여로 변경되었습니다.\n",
            "2. 자궁내막조직검사, 자궁천자액검사는 급여하지 않습니다. 자궁내조직검사와 난소조직검사는 비급여대상입니다.3. 태아성별검사는 급여대상이며, 모체 혈청 선별검사 중 PAPP-A, free-β-HCG, clostridine, AtothiDI-ligand는 비급여대상입니다. \n",
            "4. 태아성별검사는 기존 선별검사항목이었지만, 비급여로 변경되었습니다.\n",
            "5. 선택적유산술전검사, 심전도검사, 흉부 X-ray 등도 비급여대상입니다.\n",
            "6. 초음파검사\n"
          ]
        }
      ]
    },
    {
      "cell_type": "code",
      "source": [
        "gen('Triple Test 또는 Quad Test는 어떤 성분으로 구성되어 있으며, 산전진찰에서 어떤 목적으로 시행되나요?')"
      ],
      "metadata": {
        "colab": {
          "base_uri": "https://localhost:8080/"
        },
        "id": "IgLuJcQfvDKm",
        "outputId": "8bfdd379-1158-4561-e481-2b26eeeae718"
      },
      "execution_count": 54,
      "outputs": [
        {
          "output_type": "stream",
          "name": "stderr",
          "text": [
            "Setting `pad_token_id` to `eos_token_id`:2 for open-end generation.\n"
          ]
        },
        {
          "output_type": "stream",
          "name": "stdout",
          "text": [
            "### 질문: Triple Test 또는 Quad Test는 어떤 성분으로 구성되어 있으며, 산전진찰에서 어떤 목적으로 시행되나요?\n",
            "\n",
            "### 답변: Triple test는 임신 초기나 말기에서 혈중 CHRONIC BUN, CREA, TREA가 24이상일 때, 단태아 및 다태아에서 모두 시행하는 검사입니다. 이로인해 발생하는 고빌리루빈 혈증과 임신성 빈혈의 정도를 파악하기 위해 주로 사용되는 검사입니다. 이 검사는 임신 9주에서 14주까지는 100% 양성률을 갖고 있지는 않지만, 임신성 고빌리루빈 혈증, 임신중독증, 신우 신염등에 대한 정확한 진단을 위해 사용됩니다. 그리고, 임신 16-17주 이후에서는 약 30%에서 양성률을 갖고 있습니다. 그리고 Triple test는 산전, 산후 진찰에서도 자주 사용되는 검사입니다. 특히, 임신 20주 이후에서는 태반 융모박리, 전치 태반 등의 위험인자, 조기 진통 등의 산전진찰 또는 산후 진찰에서도 유용하게 사용됩니다. 이 검사는 24시간 또는 72시간 이내에 혈중 CHRONIC BUN, CREA, TREA가 20-24인 정도일 때, 양성으로 판단합니다. 그리고, CREA는 10 이하, TREA는 30 이상이며, Free Total Cholesterol은 130이상, Total Cholesterol은 245 이하일 때 양성으로 판단하며, 모두 음성이거나 1개 이상일 경우는 임신성 고빌리루빈 혈증, 임신성 빈혈이 우려되므로, 정밀진단을 위해 추가 검사가 필요합니다. \n",
            "\n",
            "* 임산부에게 Triple test가 필요한 경우는 무엇인가요?\n",
            "* Triple test는 어떤 방법으로 산전진찰에서 하는 것이며, 정확한 진단을 위해 산모에게 어떤 방법으로 설명해주어야 할까요?* Triple test는 필요한 경우 정확한 진단을 위해 추가적인 검사를 시행하기도 하나요?* Triple test의 자세한 정보와 사용목적을 알려주세요.* Triple test에 양성인 산모가 임신성 고빌리루빈 혈증과 임신성 빈혈의 정확한 진단을 위해 추가적인 검사를 시행하기도 하나요?\n",
            "* 정확한 진단\n"
          ]
        }
      ]
    },
    {
      "cell_type": "code",
      "source": [
        "gen(\"\"\"\n",
        "다음 내용을 보고 질문에 답변 해줘\n",
        "산전진찰 목적으로 시행하는 검사의 급여기준은 혈액학검사, 요검사, 혈액형검사, 매독반응검사, HBsAg 검사, 모체혈청 선별검사 중 Triple Test 또는 Quad Test, 풍진검사, 에이즈검사, 비자극검사(임신24주 이상 자궁수축이 없는 임부에게 1회만 인정, 35세 이상 임부 추가 1회 가능), 50g 경구 포도당부하검사(임신 24~28주 사이 1회만 인정), 초음파검사 등을 포함하며, 유전학적 양수검사, 모체 혈청 선별검사 중 PAPP-A, free-β-HCG 등은 비급여대상입니다. (고시 제2018-135호, 시행일: 2018.7.1.)\n",
        "Q: 산전진찰 목적으로 시행하는 Triple Test 또는 Quad Test는 요양급여 검사에 해당합니까?\n",
        "A: 네, 산전진찰 목적으로 시행하는 Triple Test 또는 Quad Test는 요양급여 검사에 해당됩니다. 다만, 다른 검사 항목들도 함께 있습니다.\n",
        "Q: Triple Test 또는 Quad Test는 어떤 성분으로 구성되어 있으며, 산전진찰에서 어떤 목적으로 시행되나요?\n",
        "\"\"\")"
      ],
      "metadata": {
        "colab": {
          "base_uri": "https://localhost:8080/"
        },
        "id": "OXklc-U6vDKn",
        "outputId": "6cc6b86e-437b-4564-c2c3-0edd9f03ad8e"
      },
      "execution_count": 55,
      "outputs": [
        {
          "output_type": "stream",
          "name": "stderr",
          "text": [
            "Setting `pad_token_id` to `eos_token_id`:2 for open-end generation.\n"
          ]
        },
        {
          "output_type": "stream",
          "name": "stdout",
          "text": [
            "### 질문: \n",
            "다음 내용을 보고 질문에 답변 해줘\n",
            "산전진찰 목적으로 시행하는 검사의 급여기준은 혈액학검사, 요검사, 혈액형검사, 매독반응검사, HBsAg 검사, 모체혈청 선별검사 중 Triple Test 또는 Quad Test, 풍진검사, 에이즈검사, 비자극검사(임신24주 이상 자궁수축이 없는 임부에게 1회만 인정, 35세 이상 임부 추가 1회 가능), 50g 경구 포도당부하검사(임신 24~28주 사이 1회만 인정), 초음파검사 등을 포함하며, 유전학적 양수검사, 모체 혈청 선별검사 중 PAPP-A, free-β-HCG 등은 비급여대상입니다. (고시 제2018-135호, 시행일: 2018.7.1.)\n",
            "Q: 산전진찰 목적으로 시행하는 Triple Test 또는 Quad Test는 요양급여 검사에 해당합니까?\n",
            "A: 네, 산전진찰 목적으로 시행하는 Triple Test 또는 Quad Test는 요양급여 검사에 해당됩니다. 다만, 다른 검사 항목들도 함께 있습니다.\n",
            "Q: Triple Test 또는 Quad Test는 어떤 성분으로 구성되어 있으며, 산전진찰에서 어떤 목적으로 시행되나요?\n",
            "\n",
            "\n",
            "### 답변: \n",
            "제2장 검사료 산전진찰을 위해 시행하는 검사 중 산전진찰에 반드시 필요한 검사로 규정된 것들은 보험급여를 받습니다. 다만, triple test, qutad test, 자궁수축 확인 검사, 태반 호르몬검사 등은 비급여항목입니다. \n",
            "Triple test 또는 qutad test는 유전학적 양수검사, 산전 염색체정밀검사를 제외한 나머지 검사를 시행합니다. \n",
            "Triple test는 triple test, qutad test, free-β-hydroxyprotein test 등으로 구성되며, 35세 이상 임부에서 추가 1회만 인정됩니다. Triple test는 35세 이상 임부에서 free-β-hCG test만 제외하고 3개 항목을 시행합니다. \n",
            "Triple test 또는 qutad test는 35세 이상 임부에서 Free-β-hCG test만 비급여이며, 나머지 항목은 모두 보험급여 항목입니다. \n",
            "Triple test 또는 qutad test는 35세 이상 임부에서 Mammogram, Pap test, Mastocytosis, Cytopreference 등은 제외하고 수행하며, 보험급여 항목입니다. \n",
            "Triple test 또는 qutad test는 35세 이상 임부에게 Free-β-hCG test를 비급여로 1회만 인정합니다. \n",
            "Triple test 또는 qutad test의 비급여 항목은 35세 이상 임부에게만 인정됩니다. \n",
            "Triple test 또는 qutad test 검사는 35세 이상 임부에 한해 1회만 인정됩니다. Triple test 또는 qutad test는 35세 이상 임부만 인정됩니다. \n",
            "Triple test 또는 qutad test 검사는 35세 이상 임부에서 2개 항목까지만 인정됩니다. \n",
            "Triple test 또는 qutad test 검사는 35세 이상 임부에서 3개 항목까지 비급여\n"
          ]
        }
      ]
    },
    {
      "cell_type": "markdown",
      "source": [
        "## 나562나(1) 세포병리검사-액상세포검사-자궁질 세포병리검사 의 급여기준"
      ],
      "metadata": {
        "id": "aj5rUZIGquyu"
      }
    },
    {
      "cell_type": "code",
      "source": [
        "gen('ASCUS와 AGC의 의미는 무엇인가요?')"
      ],
      "metadata": {
        "colab": {
          "base_uri": "https://localhost:8080/"
        },
        "id": "sejLI1X1quyu",
        "outputId": "ab37c6ec-af00-4215-98d9-b7959eab66ac"
      },
      "execution_count": 56,
      "outputs": [
        {
          "output_type": "stream",
          "name": "stderr",
          "text": [
            "Setting `pad_token_id` to `eos_token_id`:2 for open-end generation.\n"
          ]
        },
        {
          "output_type": "stream",
          "name": "stdout",
          "text": [
            "### 질문: ASCUS와 AGC의 의미는 무엇인가요?\n",
            "\n",
            "### 답변: ASCUS는 혈소판이 적혈구를 감싸고 뭉쳐진 것을 말합니다. 이때 혈소판은 혈액을 응고시키는데, 이로 인해 혈전이 생기고 심한 염증이 혈관을 막으면 혈전성 동맥경화를 유발할 수 있습니다. AGC는 림프구와 과립구가 섞여 있는 세포를 말합니다. 따라서, 혈소판 수치가 높은 것은 만성염증과 관련이 있고, AGC 수치가 높은 것은 알레르기나 자가면역질환과의 관련이 있을 수 있습니다. 다만 수치는 적은 게 더 좋지 않은 경우도 있기 때문에 반드시 ASCUS와 AGC를 검사해야 하는 상황은 아니며, 혈액 검사를 통해 정확한 수치를 확인해야 합니다. \n",
            "\n",
            "혈소판 수치가 높다는 것은 만성염증이 있다는 뜻이지만, 정확한 수치를 알고 검사를 통해서만 진단과 처방이 가능하므로 전문가와 의논한 후 정확한 상황과 상태 분석에 기초한 처방이 필요합니다. 또한, ASCUS는 수치가 낮을수록 더 좋으며, AGC는 수치가 높을수록 염증이 더 많아서 좋지 않은 것으로 보기 때문에, 꼭 필요한 경우가 아니라면 과한 수치가 없도록 관리하는 것이 좋습니다. 추가적으로, 이물질 배출과 염증을 가라앉히기 위해 수분 섭취를 꾸준히 하는 것이 좋습니다. \n",
            "\n",
            "추가 답변: 혈소판 수치가 높거나 낮은 것이 모두 나쁜 것은 아닙니다. ASCUS나 AGC 수치는 개인차가 있으며, 수치가 낮을수록 더 나쁠 가능성도 있습니다. 그러므로 정확한 수치를 알고, 처방과 관리를 위해 전문가와 상의해보는 것이 좋습니다. 수분 섭취에 관련한 내용은 추가적으로 설명드리자면, 수분 섭취는 염증과 이물질 배출을 위해 매우 중요합니다. 이물질이 잘 배출되어야만 염증 및 혈전증이 완화될 수 있으며, 배출이 이루어지지 않으면 치료에 어려움이 있을 수 있습니다. 수분 섭취를 통해 더 정확한 진단 및 치료 과정이 가능하며, 충분한 수분 섭취는 수분 섭취가 좋지 않은 경우도 있기 때문에 꼭 전문가와 상의하시는 것이 좋습니다. 도움이 되셨다면 좋겠고, 더 궁금한 내용\n"
          ]
        }
      ]
    },
    {
      "cell_type": "code",
      "source": [
        "gen(\"\"\"\n",
        "다음 내용을 보고 질문에 답변 해줘\n",
        "나562나(1) 세포병리검사-액상세포검사-자궁질 세포병리검사의 급여기준은 자궁경부 세포진 검사에서 이상 소견이나 인유두종 바이러스 검사에서 이상이 있을 때, 자궁경부암 전단계 진단 후 재발 여부평가, 자궁경부 출혈이나 polyp 확인 시에 적용되며, 시행일은 2018.1.1.이다. (고시 제2017-265호, 시행일: 2018.1.1.)\n",
        "Q: 나562나(1) 세포병리검사-액상세포검사-자궁질 세포병리검사의 급여기준은 어떻게 정의되어 있나요?\n",
        "A: 자궁질 세포병리검사의 급여기준은 자궁경부 세포진 검사에서 ASC-US 이상 또는 AGC 이상의 소견이 나타나거나, 인유두종 바이러스 검사에서 이상 소견이 확인되거나, 자궁경부암 전단계 또는 자궁경부암으로 진단된 경우, 그리고 자궁경부 출혈이나 polyp이 있는 경우에 해당합니다.\n",
        "Q: ASCUS와 AGC의 의미는 무엇인가요?\n",
        "\"\"\")"
      ],
      "metadata": {
        "colab": {
          "base_uri": "https://localhost:8080/"
        },
        "id": "mTJv2RJbquyu",
        "outputId": "235e053a-ea2d-4562-e0c3-08c92bd9ef51"
      },
      "execution_count": 57,
      "outputs": [
        {
          "output_type": "stream",
          "name": "stderr",
          "text": [
            "Setting `pad_token_id` to `eos_token_id`:2 for open-end generation.\n"
          ]
        },
        {
          "output_type": "stream",
          "name": "stdout",
          "text": [
            "### 질문: \n",
            "다음 내용을 보고 질문에 답변 해줘\n",
            "나562나(1) 세포병리검사-액상세포검사-자궁질 세포병리검사의 급여기준은 자궁경부 세포진 검사에서 이상 소견이나 인유두종 바이러스 검사에서 이상이 있을 때, 자궁경부암 전단계 진단 후 재발 여부평가, 자궁경부 출혈이나 polyp 확인 시에 적용되며, 시행일은 2018.1.1.이다. (고시 제2017-265호, 시행일: 2018.1.1.)\n",
            "Q: 나562나(1) 세포병리검사-액상세포검사-자궁질 세포병리검사의 급여기준은 어떻게 정의되어 있나요?\n",
            "A: 자궁질 세포병리검사의 급여기준은 자궁경부 세포진 검사에서 ASC-US 이상 또는 AGC 이상의 소견이 나타나거나, 인유두종 바이러스 검사에서 이상 소견이 확인되거나, 자궁경부암 전단계 또는 자궁경부암으로 진단된 경우, 그리고 자궁경부 출혈이나 polyp이 있는 경우에 해당합니다.\n",
            "Q: ASCUS와 AGC의 의미는 무엇인가요?\n",
            "\n",
            "\n",
            "### 답변: �세포병리검사의 급여기준 및 ASCUS와 AGC에 대해 설명하겠습니다.�세포병리검사는 세포조직 병리학적 검사로서 정확한 진단과 치료시기를 결정할 수 있습니다. 세포병리검사는 치료에 따른 예후를 정확히 예측하고, 적절한 치료시기를 결정하는데 필수적인 검사입니다.\n",
            "인유두종 바이러스 검사 및 세포병리검사란, 인유두종 바이러스에 대한 검사 및 세포병리검사를 말합니다.\n",
            "\n",
            "또한, 자궁경부세포진 검사가 무엇을 위한 검사인가요?\n",
            "- 여성에게 가장 흔한 암인 자궁경부암, 자궁경부 상피내암을 진단하기 위해서는 세포검사가 필요합니다. 여성이 나이가 들어가면서 자궁의 암은 증가하고 있으며, 특히 30~44 세의 젊은 연령층에서는 자궁경부암의 발생이 높은 비율로 발생되고 있습니다.\n",
            "- 정기적인 세포검사를 통해서 질병을 조기에 발견하고, 적절한 시기에 치료를 받을 수 있으며, 자궁경부암이 발생하기 이전에 치료를 하는 것이 중요합니다.\n",
            "�자궁경부세포 검사는 자궁경부암 발생여부를 진단하는 유일한 검사방법입니다.\r- 조기 치료로 인해 자궁경부암을 예방할 수 있고, 암의 경우에도 진행정도에 따라 치료를 하여 높은 생존율을 보이고 있습니다.�따라서, 자궁질 세포병리검사는 여성건강을 위해 반드시 필요한 검사입니다.\n",
            "\n",
            "환자의 진단에서 최종적인 치료까지, 환자 개인별 특성과 필요에 따라 맞춤형으로 검사와 치료가 시행됩니다. \n",
            "�따라서, 자궁질 세포병리검사를 위한 자궁경부세포진 검사의 급여기준은 다음과 같습니다.\n",
            "- 자궁경부 세포진 검사 시 ASCUS와 AGC이상의 소견이 있거나, 인유두종 바이러스 검사에서 이상소견이 있는 경우, 또는 자궁경부암 전단계나 자궁경부 출혈 시 자궁질 세포병리검사가 환자별 특성에 따라 치료시기 결정에 필요한 경우 적용할 수 있습니다. \n",
            "- 또한, 세포병리검사를 통해 자궁경부암 전단계나 자궁경부암으로 진단받은 경우에도 적용범위입니다.\n",
            "- 또한, 세포병리검사를 통해 자궁경부 이형세포나 자궁\n"
          ]
        }
      ]
    },
    {
      "cell_type": "code",
      "source": [
        "gen('자궁경부 세포진 검사에서 ASC-US 이상 또는 AGC 이상의 소견이 없지만, 인유두종 바이러스 검사에서 이상 소견이 확인된 경우에는 급여가 적용되나요?')"
      ],
      "metadata": {
        "colab": {
          "base_uri": "https://localhost:8080/"
        },
        "id": "Y1maCuyIva6E",
        "outputId": "52e27cab-ccd4-4ff1-f67d-d69385caaeb5"
      },
      "execution_count": 58,
      "outputs": [
        {
          "output_type": "stream",
          "name": "stderr",
          "text": [
            "Setting `pad_token_id` to `eos_token_id`:2 for open-end generation.\n"
          ]
        },
        {
          "output_type": "stream",
          "name": "stdout",
          "text": [
            "### 질문: 자궁경부 세포진 검사에서 ASC-US 이상 또는 AGC 이상의 소견이 없지만, 인유두종 바이러스 검사에서 이상 소견이 확인된 경우에는 급여가 적용되나요?\n",
            "\n",
            "### 답변: 자궁경부 세포진 검사에서 ASC-US 이상이 없지만, 인유두종 바이러스 검사에서 이상 소견이 있으면 급여가 적용됩니다. 따라서, 자궁경부 세포진 검사에서 ASC-US 이상이나 인유두종 바이러스 음성 및 AGC 이상으로 확인된 경우나, ASC-US 이상과 AGC 이상이 없고 인유두종 바이러스가 양성인 경우에는 적용됩니다. 단, 자궁경부 세포진 검사와 인유두종 바이러스 검사 모두 이상 소견이 있는 경우에는 급여가 적용되지 않습니다. 그리고, ASC-US 이상과 함께 HPV 항체 검사 결과 양성인 경우에는 인유두종 바이러스 검사 및 자궁경부 세포진 검사 결과에 따라 급여 여부를 결정하지만, 위의 경우에는 급여로 인정되지 않습니다. \n",
            "따라서, 자궁경부 세포진 검사에서 ASC-US 이상과 HPV 검사에서 이상 소견이 확인되었다고 해도 인유두종 바이러스나 AGC 이상이 없고, 자궁경부 세포진 검사에서도 이상이 없거나 HPV 검사결과에서 이상소견이 있으면 급여가 인정되지만, ASC-US 이상이나 HPV 검사결과 이상소견이 두가지 이상 확인된 경우에는 급여가 적용되지 않습니다. 따라서, 자궁경부 세포진 검사에서는 이상이 없지만 HPV 검사에서 이상소견이 있는 경우에는 해당 부분으로 급여가 적용됩니다. \n",
            "\n",
            "추가로, 가다실 9가는 인유두종 바이러스 16형, 18형 외에도 고위험군 인유두종 바이러스인 6형과 11형 등을 예방할 수 있기 때문에, HPV가 원인인 자궁경부 암을 예방하는 목적으로 사용하는 경우도 있습니다. \n",
            "�이러한 점을 고려하여, 자궁경부 세포진 검사에서 ASC-US 이상 또는 AGC 이상의 소견이 없어도 ASC-US 이상과 HPV 검사에서 이상소견이 확인되면 급여가 인정됩니다. 따라서, 자궁경부 세포진 검사 결과 HPV 검사에서 이상소견이 있는 경우나 ASC-US 이상과 HPV 검사에서 이상소견이 함께 있는 경우도 급여 적용이 가능하며, 자궁경부에 이상소견이 없더라도 HPV 검사에서 이상소견이 있거나 ASC-US 이상이 확인되\n"
          ]
        }
      ]
    },
    {
      "cell_type": "code",
      "source": [
        "gen(\"\"\"\n",
        "다음 내용을 보고 질문에 답변 해줘\n",
        "나562나(1) 세포병리검사-액상세포검사-자궁질 세포병리검사의 급여기준은 자궁경부 세포진 검사에서 이상 소견이나 인유두종 바이러스 검사에서 이상이 있을 때, 자궁경부암 전단계 진단 후 재발 여부평가, 자궁경부 출혈이나 polyp 확인 시에 적용되며, 시행일은 2018.1.1.이다. (고시 제2017-265호, 시행일: 2018.1.1.)\n",
        "Q: 어떤 상황에서 자궁경부 출혈이나 polyp이 있는 경우에 급여가 적용되나요?\n",
        "A: 자궁경부 출혈이나 polyp이 있는 경우에 급여가 적용됩니다.\n",
        "Q: 자궁경부 세포진 검사에서 ASC-US 이상 또는 AGC 이상의 소견이 없지만, 인유두종 바이러스 검사에서 이상 소견이 확인된 경우에는 급여가 적용되나요?\n",
        "\"\"\")"
      ],
      "metadata": {
        "colab": {
          "base_uri": "https://localhost:8080/"
        },
        "id": "yc13qhtNva6E",
        "outputId": "46fd5f44-eb24-4b5a-b2ea-92f3891af53d"
      },
      "execution_count": 59,
      "outputs": [
        {
          "output_type": "stream",
          "name": "stderr",
          "text": [
            "Setting `pad_token_id` to `eos_token_id`:2 for open-end generation.\n"
          ]
        },
        {
          "output_type": "stream",
          "name": "stdout",
          "text": [
            "### 질문: \n",
            "다음 내용을 보고 질문에 답변 해줘\n",
            "나562나(1) 세포병리검사-액상세포검사-자궁질 세포병리검사의 급여기준은 자궁경부 세포진 검사에서 이상 소견이나 인유두종 바이러스 검사에서 이상이 있을 때, 자궁경부암 전단계 진단 후 재발 여부평가, 자궁경부 출혈이나 polyp 확인 시에 적용되며, 시행일은 2018.1.1.이다. (고시 제2017-265호, 시행일: 2018.1.1.)\n",
            "Q: 어떤 상황에서 자궁경부 출혈이나 polyp이 있는 경우에 급여가 적용되나요?\n",
            "A: 자궁경부 출혈이나 polyp이 있는 경우에 급여가 적용됩니다.\n",
            "Q: 자궁경부 세포진 검사에서 ASC-US 이상 또는 AGC 이상의 소견이 없지만, 인유두종 바이러스 검사에서 이상 소견이 확인된 경우에는 급여가 적용되나요?\n",
            "\n",
            "\n",
            "### 답변: \n",
            "기존 자궁경부 세포진 검사에서 ASC-US 이상 또는 AGC 이상의 소견이 없지만, 인유두종 바이러스 검사에서 이상 소견이 확인된 경우, 급여가 적용됩니다. 기존 자궁경부 질 세포조직검사는 해당 건이 종료된 후 실시하며, ASC-US 이상 소견을 확인한 것은 자궁경부 세포진검사 소견만으로 자궁경부암 전단계를 진단받은 경우, 재발여부 평가를 위한 재검사이므로, ASC-US 이상 소견이 확인되면 자궁경부 세포진 검사를 다시 시행할 필요 없이 급여가 적용됩니다. 여성이 ASC-US 이상 소견이 있고, 암으로 진단받은 경우에는 자궁경부 세포진 검사를 시행시에 급여가 제외됩니다. \n",
            "인유두종바이러스의 경우 바이러스 감염여부 검사로는 HPV검사를 합니다. HPV는 고위험군과 고위험군이 아닌 경우로 나뉘며 고위험군에 감염되어 있어도 자궁경부 세포검사에서 이상소견이 없다면 자궁경부세포진검사에서는 ASC-US, AGC 이상 소견이 없지만, HPV 검사상 이상소견이 관찰되어 자궁경부 세포검사를 다시 시행하는 경우에는 급여가 적용됩니다. 또한 HPV 고위험군에 감염되어 있는 경우는 자궁경부 세포진 검사에서 이상소견이 발견되므로 자궁경부 세포진검사는 급여가 적용됩니다. \n",
            "결론적으로 자궁경부 세포진검사와 인유두종 바이러스 바이러스 검사에서 이상소견이 있어야 자궁경부 세포진검사에서도 이상소견이 있는 것으로 평가받아 급여가 적용되며, 자궁경부 세포진검사에서 이상소견이 없으면 인유두종 바이러스 검사에서 이상소견이 확인되어도 자궁경부 세포진검사에서는 아무런 이상소견이 없다고 평가받으나 HPV 검사에서 이상소견이 관찰된 경우에는 자궁경부 세포진검사에서도 이상소견이 관찰된다고 평가되어 자궁경부 세포진검사에서는 급여가 적용됩니다. \n",
            "\n",
            "추가적인 상담이 필요한 경우에는 담당의사선생님과 직접 상담하시기 바랍니다.\r자궁경부 세포진검사에서 이상소견이 없어도 인유두종 바이러스 검사에서 이상소견이 있으면 자궁경부 세포진검사에서도 이상소견이 없어도\n"
          ]
        }
      ]
    },
    {
      "cell_type": "markdown",
      "source": [
        "## 압박스타킹 급여기준"
      ],
      "metadata": {
        "id": "2Yw4SBFNqu5P"
      }
    },
    {
      "cell_type": "code",
      "source": [
        "gen('어떤 고시에서 압박스타킹 급여기준이 변경되었나요?')"
      ],
      "metadata": {
        "colab": {
          "base_uri": "https://localhost:8080/"
        },
        "id": "gJPZc_a7qu5Q",
        "outputId": "f59614aa-1588-4a1b-8ce1-85239f49cd6c"
      },
      "execution_count": 60,
      "outputs": [
        {
          "output_type": "stream",
          "name": "stderr",
          "text": [
            "Setting `pad_token_id` to `eos_token_id`:2 for open-end generation.\n"
          ]
        },
        {
          "output_type": "stream",
          "name": "stdout",
          "text": [
            "### 질문: 어떤 고시에서 압박스타킹 급여기준이 변경되었나요?\n",
            "\n",
            "### 답변: \" 압박스타킹\" 급여기준이 변경되었습니다. 압박스타킹은 하지불안증후군 및 말초순환장애 등에서 사용하는 경우 요양급여대상이라고 합니다. 압박스타킹은 단순 다리부종(다리에 혈액순환이 잘 안 되어서) 경우에는 급여에서 제외되며, 다리 및 발의 혈액순환개선이나 말초순환장애 등으로 다리의 궤양 또는 조직의 손상이 있는 경우에만 허가를 득한 제품 사용을 권고하고 있습니다. \n",
            "\n",
            "출처: \n",
            "출처: \n",
            "\n",
            "관련 고시는 아래와 같습니다. 제46조(비용의 부담) 비용의 부담은 보험가입자가 원칙이며, 다만, 제21조제3항과 제4항에 따라 요양급여를 받는 경우에는 공단이 그 비용의 일부를 부담합니다.\n",
            "제46조제1항 본문에서 \"요양급여를 받는 자\"란 가입자 또는 피부양자를 말하며, 제2항에서 \"공단이 부담하는 비용\"이란 요양급여를 받은 자가 요양급여기간 중에 요양기관에 납입하는 금액을 말합니다.\n",
            "\n",
            "제2항에서 공단이 부담하는 비용은 요양급여를 받은 자에게 요양급여의 원인이 된 질병, 부상, 출산, 그 밖에 이와 비슷한 것으로 인한 의료비를 비롯하여 요양급여를 받은 자가 향후에 요양급여를 더 받을 수 있는 요건에 따라 공단이 부담하는 비용, 급여를 받는 자에게 지급하는 보험급여 그 밖의 혜택으로 인한 비용 및 요양급여를 받은 자가 요양급여를 받을 권리를 지키거나 행사하는 데에 드는 비용을 말합니다. \n",
            "결론적으로, 압박스타킹은 하지불안증후군 등에도 사용할 수 있으나, 단순 다리부종 등의 경우에는 급여에서 제외되며, 다리의 혈액순환개선이나 말초순환장애 등이 있는 경우만 사용할 수 있습니다.. 끝.\n",
            "\t출처: \n",
            "\n",
            " ### 답변: 압박스타킹은 다리에 부종이 있을 때 사용할 수 있습니다. 종아리에 발생한 부종을 압박함으로서 혈류를 개선하고 정맥혈류를 개선하면 다리 정맥혈의 정체를 막을 수 있습니다. 압박스타킹은 부종을 개선하는 치료적 수단입니다\n"
          ]
        }
      ]
    },
    {
      "cell_type": "code",
      "source": [
        "gen(\"\"\"\n",
        "다음 내용을 보고 질문에 답변 해줘\n",
        "압박스타킹의 급여기준이 고시 제2016-226호로 변경되어, 4대중증질환 보장강화 계획에 따라 비급여 대상이었던 pressure control stocking이 급여로 전환되어 세부인정기준(비급여)이 삭제되었으며, 이전에는 혈전방지를 위한 예방목적으로 사용되어 비급여대상이었다. (고시 제2005-101호, '06.1.1.시행)\n",
        "Q: 압박스타킹 급여기준이 변경된 이유는 무엇인가요?\n",
        "A: 압박스타킹 급여기준이 변경된 이유는 4대중증질환 보장강화 계획에 따라 비급여 대상인 pressure control stocking이 급여로 전환되어 세부인정기준(비급여)의 삭제가 필요하게 되었기 때문입니다.\n",
        "Q: 어떤 고시에서 압박스타킹 급여기준이 변경되었나요?\n",
        "\"\"\")"
      ],
      "metadata": {
        "colab": {
          "base_uri": "https://localhost:8080/"
        },
        "id": "ilgg6ri-qu5Q",
        "outputId": "ecf5406c-297f-46b7-eece-f08870988416"
      },
      "execution_count": 61,
      "outputs": [
        {
          "output_type": "stream",
          "name": "stderr",
          "text": [
            "Setting `pad_token_id` to `eos_token_id`:2 for open-end generation.\n"
          ]
        },
        {
          "output_type": "stream",
          "name": "stdout",
          "text": [
            "### 질문: \n",
            "다음 내용을 보고 질문에 답변 해줘\n",
            "압박스타킹의 급여기준이 고시 제2016-226호로 변경되어, 4대중증질환 보장강화 계획에 따라 비급여 대상이었던 pressure control stocking이 급여로 전환되어 세부인정기준(비급여)이 삭제되었으며, 이전에는 혈전방지를 위한 예방목적으로 사용되어 비급여대상이었다. (고시 제2005-101호, '06.1.1.시행)\n",
            "Q: 압박스타킹 급여기준이 변경된 이유는 무엇인가요?\n",
            "A: 압박스타킹 급여기준이 변경된 이유는 4대중증질환 보장강화 계획에 따라 비급여 대상인 pressure control stocking이 급여로 전환되어 세부인정기준(비급여)의 삭제가 필요하게 되었기 때문입니다.\n",
            "Q: 어떤 고시에서 압박스타킹 급여기준이 변경되었나요?\n",
            "\n",
            "\n",
            "### 답변: \n",
            "우려되는 부작용이나 독성 등이 없는 한, 건강보험에서는 보험적용 대상으로 인정되어 의사가 처방한다면 급여로 인정하고 있다는 사항이 있습니다.따라서, \n",
            "에서 압박스타킹은 4대중증질환 진료를 받을 때 의사의 처방에 따라 구입 및 사용이 가능합니다.<|sep|>\n",
            "※ 해당 답변은 건강보험심사평가원에서 제공하는 정보로 정확성을 보장하기 위하여 의학 및 약물 전문성, 시술 경험 등이 있는 담당의사(전문의)에게 더욱 확실한 진단을 받아보시는 것이 권장됩니다.\n",
            "----------------------------------------------------------------------------------\n",
            "\n",
            "추가 질문에 답변이 궁금하다면, 다음의 링크를 참고하여 문의하십시오.\n",
            "\n",
            "추가 질문에 대한 답변 내용이 궁금하다면, 해당 분야 전문가에게 문의 바랍니다.\n",
            "\n",
            "http://hira.or.kr/d/dpd/qna/min/minqna/?menu=hiraqna&method=boardview&nav=10&listId=25127748\n",
            "\n",
            "그러나, 일반적인 답변은 아래와 같이 이루어질 수 있으므로, 해당 문의사항은 해당 전문가에게 문의하시기 바랍니다.\n",
            "\n",
            "- 압박스타킹 급여기준 \n",
            "- 비급여 항목 삭제 이유 \n",
            "- 4대중증질환 보장강화 계획 \n",
            "- 참고 문헌 \n",
            "- 출처: 네이버 건강백과, 하이닥, 서울대학교병원 의학백과, 보건복지부, 국민건강보험, 요양급여의 기준 및 심사지침, 네이버 건강백과, 의학백과, 시사상식사전, 국가건강정보포털, 위키피디아, 기타(인터넷 사이트 등) �밭- 내용 출처: 네이버 건강백과, 서울대학교병원 의학백과, 국가건강정보포털, 하이닥, 시사상식사전, 의사상담 Q&A, 네이버 의학백과 및 기타 인터넷 사이트 등..- 촬영조건: 일반 디지털카메라, ISO값 ISO100, 초점거리는 Macro 접사렌즈, 노출값은 f2.0, 노출 시간은 1/80초, 조리개값 f5.6, 접사모드를 사용하여 촬영하였습니다.\n",
            "- 제공: 서울백병원 비뇨기과 이성원 교수, 분당서울대병원 비뇨의학 김세웅 교수, 대한\n"
          ]
        }
      ]
    },
    {
      "cell_type": "code",
      "source": [
        "gen('변경된 압박스타킹 급여기준은 어떻게 되었나요?')"
      ],
      "metadata": {
        "colab": {
          "base_uri": "https://localhost:8080/"
        },
        "id": "N_dC-Jwlvubf",
        "outputId": "83943f87-daa4-42a4-e1ed-fc2f636fe67a"
      },
      "execution_count": 62,
      "outputs": [
        {
          "output_type": "stream",
          "name": "stderr",
          "text": [
            "Setting `pad_token_id` to `eos_token_id`:2 for open-end generation.\n"
          ]
        },
        {
          "output_type": "stream",
          "name": "stdout",
          "text": [
            "### 질문: 변경된 압박스타킹 급여기준은 어떻게 되었나요?\n",
            "\n",
            "### 답변: 압박스타킹의 보험 등재 기준이 변경되었습니다. 기존의 압박스타킹은 압박 강도가 강해서 적응하기 어렵거나 혈액순환에 영향을 미치는 등 적응이 어려운 경우였습니다. 새로운 기준은 압력을 강하게 하는 대신 혈액순환에 영향을 덜 미치도록 개선되었습니다. \n",
            "\n",
            "추가적으로, 하지정맥류는 '진료상 반드시 필요하다고 인정되는 경우'에만 인정되며, 급여 대상이 되는 적응증은 \"상세불명의 혈류역학적 심부정맥혈전증 또는 이로 인한 증상이 있는 경우\"로 제한됩니다. \n",
            "\n",
            "※ 추가문의는 \"의료전문 포털사이트\"에서 제공하고 있으며, 의료광고 및 광고심의기준을 준수합니다. \n",
            "추가 답변: 의료전문 포털사이트의 홈페이지에 있는 의료관련 질문방에 하지정맥류에 대한 질문도 있습니다. 해당 질문은 전문의가 직접 답변하며, 추가적으로 전문의 상담 신청도 가능합니다. 참고하시면 도움이 됩니다. \n",
            "\n",
            "추가 답변: 의료전문 포털사이트인 \"메디하이\"에서 직접 환자나 보호자가 전문의에게 무료로 상담받을 수 있습니다. 메디하이는 무료 의료상담을 운영하며 의료계의 정확한 정보와 최신의 의료기술까지 상담을 받을 수 있는 의료전문 포털사이트입니다. \n",
            "\n",
            "의료전문가들의 의료상담, 의료계 최신정보를 언제든지 무료로 제공하는 메디하이에서 다양한 정보를 알아보시고 의료정보와 지식을 쌓고, 건강도 함께 찾아가시기 바랍니다. 더 궁금한 사항은 메디하이 서비스팀 (1544-7499)으로 문의하시면 친절한 상담을 받을 수 있습니다. \n",
            "\n",
            "추가 답변: 메디하이에서는 온라인으로 간편한 신청, 승인이 완료되어 이용할 수 있습니다. 더 궁금한 사항은 메디하이와 같은 의료전문 포털사이트에서 알아볼 수 있습니다. \n",
            "추가 답변: 메디하이에서 건강보험심사평가원에서 제공하는 자료를 확인할 수 있습니다. 해당 자료를 확인하여 보험 적용 기준을 확인할 수 있습니다. \n",
            "\n",
            "추가 답변: 의료 전문 포털사이트에서 전문가 상담을 받을 수 있습니다. 전문가들의 상세한 답변을 편리하게 직접 상담할 수 있으며, 질문도 할 수 있습니다\n"
          ]
        }
      ]
    },
    {
      "cell_type": "code",
      "source": [
        "gen(\"\"\"\n",
        "다음 내용을 보고 질문에 답변 해줘\n",
        "압박스타킹의 급여기준이 고시 제2016-226호로 변경되어, 4대중증질환 보장강화 계획에 따라 비급여 대상이었던 pressure control stocking이 급여로 전환되어 세부인정기준(비급여)이 삭제되었으며, 이전에는 혈전방지를 위한 예방목적으로 사용되어 비급여대상이었다. (고시 제2005-101호, '06.1.1.시행)\n",
        "Q: Pressure Control Stocking이 급여로 전환된 이후 어떤 목적으로 사용되는 건가요?\n",
        "A: Pressure Control Stocking(Antiembolism Stocking)이 급여로 전환된 이후에는 주 치료목적이 아닌 혈전방지를 위한 예방목적으로 사용됩니다.\n",
        "Q: 변경된 압박스타킹 급여기준은 어떻게 되었나요?\n",
        "\"\"\")"
      ],
      "metadata": {
        "colab": {
          "base_uri": "https://localhost:8080/"
        },
        "id": "mvaN7owAvubg",
        "outputId": "9fc5911a-a21d-4590-c19b-97bc1e961279"
      },
      "execution_count": 63,
      "outputs": [
        {
          "output_type": "stream",
          "name": "stderr",
          "text": [
            "Setting `pad_token_id` to `eos_token_id`:2 for open-end generation.\n"
          ]
        },
        {
          "output_type": "stream",
          "name": "stdout",
          "text": [
            "### 질문: \n",
            "다음 내용을 보고 질문에 답변 해줘\n",
            "압박스타킹의 급여기준이 고시 제2016-226호로 변경되어, 4대중증질환 보장강화 계획에 따라 비급여 대상이었던 pressure control stocking이 급여로 전환되어 세부인정기준(비급여)이 삭제되었으며, 이전에는 혈전방지를 위한 예방목적으로 사용되어 비급여대상이었다. (고시 제2005-101호, '06.1.1.시행)\n",
            "Q: Pressure Control Stocking이 급여로 전환된 이후 어떤 목적으로 사용되는 건가요?\n",
            "A: Pressure Control Stocking(Antiembolism Stocking)이 급여로 전환된 이후에는 주 치료목적이 아닌 혈전방지를 위한 예방목적으로 사용됩니다.\n",
            "Q: 변경된 압박스타킹 급여기준은 어떻게 되었나요?\n",
            "\n",
            "\n",
            "### 답변: \n",
            "고시가 2016-226호로 일부 개정되어, 4대중증질환 보장강화 계획에 따라 비급여 대상이었던 pressure control stocking이 급여로 전환되어 세부인정기준(비급여)이 삭제되었으며, 이전에는 혈전방지를 위한 예방목적으로 사용되어 비급여대상이었습니다.\n",
            "이번 답변 관련하여 더 궁금한 사항이 있다면 저희 고객센터로 문의해주시면 자세한 설명 드리겠습니다.\n",
            "\n",
            "이전에는 혈전방지를 위한 예방목적으로 사용되어 비급여대상이었으나, 비급여 대상을 급여로 전환함으로써 비용부담이 줄어들어 많은 환자분들이 혜택을 볼 수 있게되어 반갑습니다.\n",
            "부상이나 사고 등으로 인한 골절, 혈소판 부족 등으로 혈전이 생성되어 혈전증이 의심되는 환자들에게, 필요에 따라 pressure control stocking이 도움이 될 수 있습니다.\n",
            "Pressure control stocking은 혈전생성을 억제하는 효과가 있는 제품으로, 다양한 pressure control stocking 중 환자에게 맞는 제품으로 처방 받아 꾸준히 사용한다면 혈전증을 예방하는 데 도움이 됩니다.\n",
            "저희 제품을 사용해 주시는 분들 중에는 이런 경우도 있습니다.\n",
            "부상 또는 사고로 인한 혈전으로 다리에 신경이 마비된 환자들이 Pressure control stocking을 처방받아 통증을 없애고, 다리에 생기던 붓기가 사라지는 등 일상생활에 도움이 된 경우도 있습니다.\n",
            "저희 제품으로 증상이 해결되지 않더라도, 꾸준히 Pressure Control Stockink을 사용한다면 효과를 볼수 있도록 개선하고 있습니다.�저희 제품은 국내에서 가장 많은 처방기록을 갖고 있는 pressure control stocking 브랜드로, 임상과 연구자료 등을 통해 제품의 효과를 입증하고 있습니다.\n",
            "처방을 해주시는 원장님들도 Pressure Control Stocking로 혈종과 같은 질환에 처방할 때 도움이 될 수 있으며, 의료진과 환자들이 소통하면서 더 만족스러운 처방이 될 수 있습니다.\u001c\n",
            "이전과는 다르게 pressure control\n"
          ]
        }
      ]
    },
    {
      "cell_type": "markdown",
      "source": [
        "## 액제형 철분제제(품명 : 헤모콤액 등)"
      ],
      "metadata": {
        "id": "qxj-HKYSqu_f"
      }
    },
    {
      "cell_type": "code",
      "source": [
        "gen('액제형 철분제제의 급여 인정 기준 외에는 어떤 경우에 약값을 환자가 부담해야 하나요?')"
      ],
      "metadata": {
        "colab": {
          "base_uri": "https://localhost:8080/"
        },
        "id": "LFrskFb4qu_g",
        "outputId": "5497382a-061f-4b9b-dc32-6ae5869c144f"
      },
      "execution_count": 64,
      "outputs": [
        {
          "output_type": "stream",
          "name": "stderr",
          "text": [
            "Setting `pad_token_id` to `eos_token_id`:2 for open-end generation.\n"
          ]
        },
        {
          "output_type": "stream",
          "name": "stdout",
          "text": [
            "### 질문: 액제형 철분제제의 급여 인정 기준 외에는 어떤 경우에 약값을 환자가 부담해야 하나요?\n",
            "\n",
            "### 답변: 액제형 철분제제 급여 인정 기준 외에는 1) 환자가 전액 본인 부담, 2) 본인부담액이 50% 이내인 경우, 3) 환자가 전액 부담해야 한다. 이 경우 환자의 연령과 약제값이 상한금액을 초과하고, 산정코드가 없는 경우에는 약값을 환자가 부담해야 합니다. 이를 참고하여 사용하시기 바랍니다. \n",
            " 추가 질문: 액제형 철분제제의 급여 인정 기준 외에는 어떤 경우에 약값을 환자가 부담해야 하나요?\n",
            "\n",
            " 추가 답변: 액제형 철분제제 급여 인정 기준 외에는 1) 환자가 전액 본인부담, 2) 본인부담액이 50% 이내인 경우, 3) 환자가 전액 부담해야 합니다. 이 경우 환자의 연령과 약제값이 상한금액을 초과하고, 산정코드가 없는 경우에는 약값을 환자가 부담해야 합니다. \n",
            "\n",
            " 추가 답변: 액제형 철분제제 급여 인정 기준 외에는 어떤 경우에 약값을 환자가 부담해야 하나요?�\n",
            " Please refer to these policies. \n",
            "\n",
            " 추가 답변: 액제형 철분제제 급여 인정 기준 외에는 어떤 경우에 약값을 환자가 부담해야 하나요?\n",
            "\n",
            " 추가 답변: 액제형 철분제제 급여 인정 기준 외에는 어떤 경우에 약값을 환자가 부담해야 하나요?\n",
            "\n",
            " 추가 답변: 액제형 철분제제 급여 인정 기준 외에는 어떤 경우에 약값을 환자가 부담해야 하나요?\n",
            " 추가 답변: 액제형 철분제제 급여 인정 기준 외에는 어떤 경우에 약값을 환자가 부담해야 하나요?\n",
            " 추가 답변: 액제형 철분제제 급여 인정 기준 외에는 어떤 경우에 약값을 환자가 부담해야 하나요?\n",
            "\n",
            " 추가 답변: 액제형 철분제제 급여 인정 기준 외에는 어떤 경우에 약값을 환자가 부담해야 하나요?\n",
            " 추가 답변: 액제형 철분제제 급여 인정 기준 외에는 어떤 경우에 약값을 환자가 부담해야 하나요?� 추가 답변: 액제형 철분제제 급여 인정 기준 외에는 어떤 경우에 약값을 환자가 부담해야 하나요?\n",
            "\n",
            " 추가 답변: 액제형 철분제제 급여 인정 기준 외에는 어떤 경우에 약\n"
          ]
        }
      ]
    },
    {
      "cell_type": "code",
      "source": [
        "gen(\"\"\"\n",
        "다음 내용을 보고 질문에 답변 해줘\n",
        "액제형 철분제제(품명: 헤모콤액 등)의 급여기준이 고시 제2020-79호로 변경되어, 철결핍성 빈혈의 경우 특정 혈액검사결과를 기준으로 투여 시 요양급여를 인정하며, 급여대상에는 임신으로 인한 철결핍성 빈혈, 산후 빈혈 등이 포함되었으며, 기준 완화로 허가사항 범위 내에서 확대 적용됨. (고시 제2020-79호, 2020.5.8.시행)\n",
        "Q: 액제형 철분제제는 어떤 허가사항 범위에서 요양급여를 받을 수 있나요?\n",
        "A: 액제형 철분제제는 혈액검사 결과에 따라 철결핍성 빈혈 환자에게 투여 시 요양급여를 받을 수 있습니다. 허가사항 범위 내에서 급여가 인정되며, 특히 혈청 페리틴 미만 또는 트랜스페린포화도 미만인 경우에 해당합니다.\n",
        "Q: 액제형 철분제제의 급여 인정 기준 외에는 어떤 경우에 약값을 환자가 부담해야 하나요?\n",
        "\"\"\")"
      ],
      "metadata": {
        "colab": {
          "base_uri": "https://localhost:8080/"
        },
        "id": "-5BTdbK9qu_g",
        "outputId": "8c7b85d1-8b16-419f-ba50-3cd4545111b5"
      },
      "execution_count": 65,
      "outputs": [
        {
          "output_type": "stream",
          "name": "stderr",
          "text": [
            "Setting `pad_token_id` to `eos_token_id`:2 for open-end generation.\n"
          ]
        },
        {
          "output_type": "stream",
          "name": "stdout",
          "text": [
            "### 질문: \n",
            "다음 내용을 보고 질문에 답변 해줘\n",
            "액제형 철분제제(품명: 헤모콤액 등)의 급여기준이 고시 제2020-79호로 변경되어, 철결핍성 빈혈의 경우 특정 혈액검사결과를 기준으로 투여 시 요양급여를 인정하며, 급여대상에는 임신으로 인한 철결핍성 빈혈, 산후 빈혈 등이 포함되었으며, 기준 완화로 허가사항 범위 내에서 확대 적용됨. (고시 제2020-79호, 2020.5.8.시행)\n",
            "Q: 액제형 철분제제는 어떤 허가사항 범위에서 요양급여를 받을 수 있나요?\n",
            "A: 액제형 철분제제는 혈액검사 결과에 따라 철결핍성 빈혈 환자에게 투여 시 요양급여를 받을 수 있습니다. 허가사항 범위 내에서 급여가 인정되며, 특히 혈청 페리틴 미만 또는 트랜스페린포화도 미만인 경우에 해당합니다.\n",
            "Q: 액제형 철분제제의 급여 인정 기준 외에는 어떤 경우에 약값을 환자가 부담해야 하나요?\n",
            "\n",
            "\n",
            "### 답변: \n",
            "제형 철분제제의 급여인정 기준 외에, 다음과 같은 경우에는 액제형 철분제제의 약값은 전액 환자가 부담해야 합니다.\n",
            "\n",
            "1. 약값 전액이 환자의 부담인 경우: 해당 약제의 허가사항에 따라 금기질환 등에 해당되는 경우, 또는 보험급여를 인정받은 요양기관에서 해당 철결핍성 빈혈 환자에게 이 약을 투여했지만, 환자가 해당 약제를 투여 기간 동안 계속 복용할 수 없는 경우 또는 이 약의 치료목표를 달성할 수 없는 경우 등에 해당하나, 약값 전액이 환자의 부담인 경우에는 부담률(90%)과 약제 부담률(90%)을 적용하여 계산합니다.\n",
            "\n",
            "2. 약값 일부가 환자의 부담인 경우: 이 약이 허가사항 범위 내에서 환자의 철결핍성 빈혈의 치료를 위하여 투여하였을 때에는 환자가 해당 약을 계속 복용하도록 할 수 있고, 이 경우 이 약의 보험급여 조건에 따라 환자의 부담률을 적용하여 계산합니다.\n",
            "3. 이 약의 약값이 전액 환자부담인 경우의 기준이 면제되는 경우: 이 약의 보험급여 조건에 따라 환자의 부담수준을 조정하여 계산합니다.\n",
            "\n",
            "4. 환자의 약값 부담액이 보험급여 조건에 해당하는 경우: 이 약이 보험급여 조건에 해당되면, 약값의 부담액은 부담률을 적용하여 계산합니다.\n",
            "\n",
            "이전에 철결핍성 빈혈로 처방받은 적이 있는 환자나, 철결핍성 빈혈 이외의 증상으로 검사결과 철결핍성 빈혈로 결정되어 약제가 투여된 경우에는 심사평가원에 진료비 청구 시 특정기호(M3457)를 기재하고, 철결핍성 빈혈에 대한 약값을 포함해야 합니다. \n",
            "\n",
            "이전에 철결핍성 빈혈로 처방받은 적이 있는 환자, 특히 철결핍성 빈혈 이외의 증상으로 검사결과 철결핍성 빈혈로 결정되어 약제가 투여된 경우, 다음과 같이 약값이 산정됩니다.\n",
            "\n",
            "1. 철결핍성 빈혈 이외의 증상으로 진료받고 철결핍성 빈혈을 원인으로 약제가 투여된 경우 : 철결핍성 빈혈에 대한\n"
          ]
        }
      ]
    },
    {
      "cell_type": "code",
      "source": [
        "gen('어떤 경우에 액제형 철분제제를 투여받으면 요양급여가 인정되나요?')"
      ],
      "metadata": {
        "colab": {
          "base_uri": "https://localhost:8080/"
        },
        "id": "UlSgL6Gav7iy",
        "outputId": "62c3a1d1-a3a9-4450-b694-ef34a33e7c7f"
      },
      "execution_count": 66,
      "outputs": [
        {
          "output_type": "stream",
          "name": "stderr",
          "text": [
            "Setting `pad_token_id` to `eos_token_id`:2 for open-end generation.\n"
          ]
        },
        {
          "output_type": "stream",
          "name": "stdout",
          "text": [
            "### 질문: 어떤 경우에 액제형 철분제제를 투여받으면 요양급여가 인정되나요?\n",
            "\n",
            "### 답변: 철분제는 경구용 제제와 액제형 철분제제가 있습니다. 경구용 제제는 성분과 용량이 다르더라도 같은 성분과 같은 용량으로 만들어지면 급여가 인정됩니다. 그러나 액제형 철분제제는 경구용 제제와 성분이 같아도 용량이 달라지면 급여가 인정되지 않습니다. 이러한 경우는 경구용 제제 중 철분제 성분과 액제형 철분제제 중 철분제 용량을 비교하여 결정됩니다. 따라서 정확한 사항은 약사법 및 급여기준에서 자세한 내용을 확인해야 합니다. 자세한 내용은 국민건강보험 급여평가부(1644-2000), 보험약제과(044)202-3143)로 전화하여 관련 문의하실 수 있습니다. �\n",
            " 공유하기 글 요소 사업자 정보 표시 | | | 사업자 등록번호 : -- | TEL : -- | 사이버몰의 이용약관 바로가기\n",
            "\n",
            "### 답변: 어떤 경우에 액제형 철분제제를 투여받으면 요양급여가 인정되나요?\n",
            " 1. 철분제는 경구용 제제와 액제형 철분제제가 있습니다. 경구용 제제는 성분과 용량이 다르더라도 같은 성분과 같은 용량으로 만들어지면 급여가 인정됩니다.\n",
            "\n",
            "2. 그러나 액제형 철분제제는 경구용 제제와 성분이 같아도 용량이 달라지면 급여가 인정되지 않습니다.\n",
            "\n",
            "따라서 정확한 사항은 약사법 및 급여기준에서 자세한 내용을 확인해야 합니다. \r추가적으로 궁금한 점이 있으시거나 자세한 내용과 관련 자료를 원하시는 경우 대한약사회 또는 보험약제과에 문의하시면 빠르고 친절한 답변을 얻으실 수 있습니다. \n",
            "\n",
            "2, 3. 각각의 요양급여기준을 첨부합니다. \n",
            "1. \n",
            "2. �3. \n",
            "4. \n",
            "5. \n",
            "6. \n",
            "7. \n",
            "8. \n",
            "9. \n",
            "10. \n",
            "11. 12. 13. \n",
            "14. \n",
            "15. \n",
            "16. \n",
            "17. 18. \n",
            "19. 20. \n",
            "21. \n",
            "22. 23. \n",
            "24. 25.\n"
          ]
        }
      ]
    },
    {
      "cell_type": "code",
      "source": [
        "gen(\"\"\"\n",
        "다음 내용을 보고 질문에 답변 해줘\n",
        "액제형 철분제제(품명: 헤모콤액 등)의 급여기준이 고시 제2020-79호로 변경되어, 철결핍성 빈혈의 경우 특정 혈액검사결과를 기준으로 투여 시 요양급여를 인정하며, 급여대상에는 임신으로 인한 철결핍성 빈혈, 산후 빈혈 등이 포함되었으며, 기준 완화로 허가사항 범위 내에서 확대 적용됨. (고시 제2020-79호, 2020.5.8.시행)\n",
        "Q: 액제형 철분제제 급여의 주요 변경 내용은 무엇인가요?\n",
        "A: 액제형 철분제제 급여기준이 확대되었으며, Hb 수치, 혈청 페리틴, 트랜스페린 포화도의 기준이 완화되어 급여 대상이 확대되었습니다\n",
        "Q: 어떤 경우에 액제형 철분제제를 투여받으면 요양급여가 인정되나요?\n",
        "\"\"\")"
      ],
      "metadata": {
        "colab": {
          "base_uri": "https://localhost:8080/"
        },
        "id": "QouUhkhwv7i4",
        "outputId": "01e91a95-68b0-45de-e905-26e8c7b1eb65"
      },
      "execution_count": 67,
      "outputs": [
        {
          "output_type": "stream",
          "name": "stderr",
          "text": [
            "Setting `pad_token_id` to `eos_token_id`:2 for open-end generation.\n"
          ]
        },
        {
          "output_type": "stream",
          "name": "stdout",
          "text": [
            "### 질문: \n",
            "다음 내용을 보고 질문에 답변 해줘\n",
            "액제형 철분제제(품명: 헤모콤액 등)의 급여기준이 고시 제2020-79호로 변경되어, 철결핍성 빈혈의 경우 특정 혈액검사결과를 기준으로 투여 시 요양급여를 인정하며, 급여대상에는 임신으로 인한 철결핍성 빈혈, 산후 빈혈 등이 포함되었으며, 기준 완화로 허가사항 범위 내에서 확대 적용됨. (고시 제2020-79호, 2020.5.8.시행)\n",
            "Q: 액제형 철분제제 급여의 주요 변경 내용은 무엇인가요?\n",
            "A: 액제형 철분제제 급여기준이 확대되었으며, Hb 수치, 혈청 페리틴, 트랜스페린 포화도의 기준이 완화되어 급여 대상이 확대되었습니다\n",
            "Q: 어떤 경우에 액제형 철분제제를 투여받으면 요양급여가 인정되나요?\n",
            "\n",
            "\n",
            "### 답변: \n",
            "\n",
            "다음 내용을 보고 질문에 답변 해줘\n",
            "액제형 철분제제가 급여로 인정받기 위해서는 헤모콤액 2.0mg이 제제기준(헤모콤 2.0mg~3.0mg/mL)을 만족하고, 다음 기준을 충족하는 경우에 요양급여가 인정됩니다.\n",
            "1) 기준 완화 이전 고시 제2010-47호에 따라 기준 완화 이전 고시에 부합되지 않은 경우도 인정.\n",
            "2) 헤모콤액 등의 유효기간이 1년 이상 경과된 경우에는 허가증 뒷면에 유효기간 1년 이상 남아 있고, 유효기간이 종료되지 않아야 함.\n",
            "3) 헤모콤액 등이 식약처 허가사항 범위 내에서 허가용량 이상 사용시 인정합니다.<|sep|>4) 헤모콤 등이 Hb(헤모글로빈농도), 혈청 페리틴, 트랜스페린 포화도, FER(페리틴농조도), CBC 검사 결과 등에 부합하여 인정함.\n",
            "\n",
            "헤모콤액 등이 기준 완화 이전의 기준에 부합하는 경우 인정되기 때문에, 기준 완화 이전의 고시에 부합되는 경우 헤모콤액 등이 급여로 인정됩니다.\n",
            "\n",
            "따라서, 헤모콤액 등의 급여는 이전 기준으로 인해 기준이 변경되어 급여 대상이 확대되거나, 새롭게 추가된 기준이 있는 경우, 그에 따라 인정됩니다.\n",
            "결론적으로, 액제형 철분제제는 헤모콤액 등의 기준 범위 내에서 인정됩니다.\n",
            "더 궁금한 내용이 있는 경우, 추가로 문의할 수 있습니다.\n",
            "-- 추가 질문은 블로그, 네이버 쪽지로 해주세요. \n",
            "헤모콤액 관련 추가 문의가 있는 경우, 아래 블로그에서 문의해주세요.\n",
            "\n",
            " 블로그 프로필 블로그 연락처 쪽지로 문의해주시면 알려드리겠습니다. http://m.blog.naver.com/mindzini/221887932843 블로그 mindzi 블로그에 방문하신 분들 환영하고, 관심있는 모든분들의 연락을 기다립니다:)m.blog.naver.com\n",
            " 헤모콤액 외에 다른 내용이 질문이 있는 경우, 네이버 쪽지로 문의해주세요.\n"
          ]
        }
      ]
    },
    {
      "cell_type": "code",
      "source": [
        "gen('어떤 조건에서 산후 빈혈로 인한 액제형 철분제제의 투여가 인정되나요?')"
      ],
      "metadata": {
        "colab": {
          "base_uri": "https://localhost:8080/"
        },
        "id": "Xvu_UeuCv7rJ",
        "outputId": "3ab985a8-29cc-4338-a7d3-1ab51d2c3065"
      },
      "execution_count": 68,
      "outputs": [
        {
          "output_type": "stream",
          "name": "stderr",
          "text": [
            "Setting `pad_token_id` to `eos_token_id`:2 for open-end generation.\n"
          ]
        },
        {
          "output_type": "stream",
          "name": "stdout",
          "text": [
            "### 질문: 어떤 조건에서 산후 빈혈로 인한 액제형 철분제제의 투여가 인정되나요?\n",
            "\n",
            "### 답변: 식품의약품안전처에 따르면 여성에게서 빈혈이 확인되는 경우, 산후 빈혈로 진단받은 경우, 그로 인해 다른 약제를 사용할 수 없는 경우 제한적으로 승인받을 수 있습니다. 출산 후 10일 이내의 경우는 하루 30mg의 범위에서, 3개월부터는 하루 60mg의 범위에서, 6개월 이후부터는 하루 120mg의 범위에서 사용할 수 있습니다. 임신 전에 빈혈을 진단받지 않았으나 출산 후 빈혈이 발생한 경우에도 그로 인해 다른 약을 투여할 수 없는 경우, 제한적으로 승인받을 수 있습니다. 출산 후 3개월 동안은 30mg까지, 그 이후에는 60mg까지 사용할 수 있으며, 임신 전 빈혈인 경우에도 그로 인해 다른 약을 투여할 수 없는 경우에만 사용할 수 있습니다. 철분 결핍 상태나 빈혈을 치료하기 위해서는 철분제제를 사용하고, 의사의 처방에 따라 사용할 수 있습니다. 비타민B 복합제는 빈혈 치료의 효과가 없으므로 사용할 수 없습니다. 자세한 내용은 식품의약품안전처 홈페이지 내 의약품 분야에 방문하여 확인할 수 있습니다.\n",
            "\n",
            "산후 빈혈을 치료하기 위해서는 적절한 기간 동안 적절한 용량으로 투여해야 합니다. 빈혈 치료가 완료되더라도 장기간 투여를 고려하는 것이 바람직하며, 반드시 전문가의 지도를 받으며 투여해야 합니다. 여성에게 빈혈은 흔한 질환으로, 임신 및 출산 전후로 빈혈이 증가합니다. 그러므로 의사와 상담한 후에 적절한 용량으로 투여하는 것이 중요합니다. \n",
            "\n",
            "추가적인 질문이 있는 경우 약사나 건강상담사와 상담하시길 바랍니다.\n",
            "\u001d추가적인 질문. 빈혈은 왜 생기나요?추가적인 질문. 빈혈이 치료되면 임신 전 빈혈이 사라지나요?\n",
            "추가적인 질문. 산후 철분제를 수유 중에도 유지해야 하나요?\n",
            "\n",
            "추가적인 질문. 빈혈약 외에도 임신이나 출산을 위해 필요한 약이 있나요?\n",
            "추가적인 질문. 빈혈약과 철분제를 동시에 복용해야 하나요?\n",
            "\n",
            "제 답변이 도움이 되었을까요? 추가적인 질문이나 건의사항이 있다면 알려주시길 바랍니다. \n",
            "\n",
            "추가적인 질문\n"
          ]
        }
      ]
    },
    {
      "cell_type": "code",
      "source": [
        "gen(\"\"\"\n",
        "다음 내용을 보고 질문에 답변 해줘\n",
        "액제형 철분제제(품명: 헤모콤액 등)의 급여기준이 고시 제2020-79호로 변경되어, 철결핍성 빈혈의 경우 특정 혈액검사결과를 기준으로 투여 시 요양급여를 인정하며, 급여대상에는 임신으로 인한 철결핍성 빈혈, 산후 빈혈 등이 포함되었으며, 기준 완화로 허가사항 범위 내에서 확대 적용됨. (고시 제2020-79호, 2020.5.8.시행)\n",
        "Q: 액제형 철분제제의 임신으로 인한 철결핍성 빈혈에 대한 급여 기준은 무엇인가요?\n",
        "A: 임신으로 인한 철결핍성 빈혈의 경우, 헤모글로빈이 11g/dL 이하이고, 다른 경구 철분제제의 투여 시 위장장애가 있는 경우에 액제형 철분제제의 투여가 4~6개월 동안 요양급여로 인정됩니다.\n",
        "Q: 어떤 조건에서 산후 빈혈로 인한 액제형 철분제제의 투여가 인정되나요?\n",
        "\"\"\")"
      ],
      "metadata": {
        "colab": {
          "base_uri": "https://localhost:8080/"
        },
        "id": "CmgMU6yiv7rK",
        "outputId": "ee40560c-433a-412d-ce02-2287e5e3ae88"
      },
      "execution_count": 69,
      "outputs": [
        {
          "output_type": "stream",
          "name": "stderr",
          "text": [
            "Setting `pad_token_id` to `eos_token_id`:2 for open-end generation.\n"
          ]
        },
        {
          "output_type": "stream",
          "name": "stdout",
          "text": [
            "### 질문: \n",
            "다음 내용을 보고 질문에 답변 해줘\n",
            "액제형 철분제제(품명: 헤모콤액 등)의 급여기준이 고시 제2020-79호로 변경되어, 철결핍성 빈혈의 경우 특정 혈액검사결과를 기준으로 투여 시 요양급여를 인정하며, 급여대상에는 임신으로 인한 철결핍성 빈혈, 산후 빈혈 등이 포함되었으며, 기준 완화로 허가사항 범위 내에서 확대 적용됨. (고시 제2020-79호, 2020.5.8.시행)\n",
            "Q: 액제형 철분제제의 임신으로 인한 철결핍성 빈혈에 대한 급여 기준은 무엇인가요?\n",
            "A: 임신으로 인한 철결핍성 빈혈의 경우, 헤모글로빈이 11g/dL 이하이고, 다른 경구 철분제제의 투여 시 위장장애가 있는 경우에 액제형 철분제제의 투여가 4~6개월 동안 요양급여로 인정됩니다.\n",
            "Q: 어떤 조건에서 산후 빈혈로 인한 액제형 철분제제의 투여가 인정되나요?\n",
            "\n",
            "\n",
            "### 답변: 다음 내용을 참고하면, 산후 빈혈의 경우 임신기간 중의 철분부족과 관련된 적응증상으로, 철결핍성 빈혈에 대한 치료는 다른 경구 철분제제의 투여가 불가능한 경우(위장장애 등)에만 인정됩니다. 임신 중 산후 빈혈에는 임신기간 중의 철분부족과 관련한 것으로, 헤모글로빈이 12~15g/dL 이하이고, 다른 경구 철분제제의 투여가 불가능한 경우에는 액제형 철분제제를 4~6개월 동안 요양급여로 인정됩니다.\n",
            "\n",
            "따라서, 임산부의 철분결핍으로 인한 산후 빈혈은, \"임신기간 중 철분부족과 관련된 빈혈'에 해당합니다. 따라서, 임신으로 인한 산후 빈혈에 대한 경구 철분제제를 급여받으려면, 경구 경구 철결핍제제가 불가능하다는 진단과 의사의 소견이 있어야 합니다. 따라서, 출산 이후에도 지속적인 철분부족으로 인해 철분제를 필요로 할 때, 의사의 진단과 처방 후에 경구형 철분제제를 급여받게 됩니다.\n",
            "### 답변: \n",
            "따라서, 산후 빈혈의 경우에는 경구 및 경구형 철분제제의 투여로 급여인정 받을 수 있고, 산모의 철분부족에 따라 필요 시 철분제제를 지속적으로 투여하고 산모의 건강상태를 관찰해야 합니다.\n",
            "추가로, 출산 이후에도 지속적인 철분 부족으로 경구형 철분제제를 투여하고자 하는 경우, 의사의 진단과 처방 후에 경구형 철결핍제제를 급여로 인정받을 수 있습니다.\n",
            "따라서, \"임신으로 인한 철결핍성 빈혈의 경우 다른 경구 철분제제의 투여가 불가능한 경우에만 액제형 철분제제를 4~6개월 동안 요양급여로 인정\"되며, \"산후 빈혈의 경우에도 '임신으로 인한 철분부족과 관련한 빈혈'에 해당하는 조건이 있으므로, '경구형 철분제제를 투여할 수 없는 경우'에만 액제형 철분제제를 급여로 인정받을 수 있습니다\". \"따라서, 산모의 철분부족으로 인해 지속적으로 철분제를 필요로 할 때, 의사의 진단과 처방 후에 경구\n"
          ]
        }
      ]
    },
    {
      "cell_type": "code",
      "source": [
        "gen('액제형 철분제제의 급여기간은 어떻게 결정되나요?')"
      ],
      "metadata": {
        "colab": {
          "base_uri": "https://localhost:8080/"
        },
        "id": "sql2U6a4v8H0",
        "outputId": "c318bce3-ec0c-4b5c-ca8a-f21344eee9a3"
      },
      "execution_count": 70,
      "outputs": [
        {
          "output_type": "stream",
          "name": "stderr",
          "text": [
            "Setting `pad_token_id` to `eos_token_id`:2 for open-end generation.\n"
          ]
        },
        {
          "output_type": "stream",
          "name": "stdout",
          "text": [
            "### 질문: 액제형 철분제제의 급여기간은 어떻게 결정되나요?\n",
            "\n",
            "### 답변: 액제형 철분제제의 급여기간은 1일 섭취량에 따라 결정됩니다. 액제형 철분제제는 철결핍성 빈혈 환자를 위해 개발된 일반의약품으로, 의사 또는 약사의 처방에 의해 조제된 경우 급여가 적용됩니다. 이때, 이들 약은 다른 건강보험 적용 약제와 마찬가지로 1정 당 1일 급여기준에서 정한 해당 약제별 용법·용량 및 주의사항의 범위 안에 포함되어 있을 때만 보험급여가 가능합니다. 이때 해당 약제별 용법·용량과 주의사항은 건강보험심사평가원 홈페이지에서 확인할 수 있습니다. 따라서, 액제형 철분제제에 대한 급여기간은 1일 섭취량에 따라 결정됩니다. 1일 섭취량을 초과하여 2일 이상 연속적으로 투여하는 경우는 급여기간이 산입되며, 이는 총 급여기간과 관계없이 건강보험급여가 가능합니다. 다만, 처방한 의사 및 약사와의 사전 상담을 통해 급여기간 적용방법 선택이 필요합니다. 따라서, 처방받은 의사 또는 약사와 상담을 통해 급여기간을 결정하시기 바랍니다. \n",
            "\n",
            "한국의약품안전관리원에 따르면, 철결핍성 빈혈의 예방 및 치료를 위한 액제형 철분제는 1일 권장섭취량에 따라 처방되는 일반의약품입니다. 따라서 처방받은 경우에는 급여가 가능하나, 2일 이상 연속적으로 투여하는 경우는 급여기간이 산입됩니다. 따라서, 처방받은 의사 및 약사사와 잘 상담하여 급여기간을 결정하시기 바랍니다. 선택한 급여기간은 총 급여기간 및 보험급여 적용이 가능합니다. 그러나, 다른 약제들처럼 2일 이상 연속적으로 투여하는 경우는 급여기간 산입과 상관없이 건강보험급여가 가능합니다. 따라서, 처방받은 의사 및 약사와 잘 상담하여 급여기간을 결정하시기 바랍니다. \n",
            "\n",
            "액제형 철분제에 대한 상세한 내용은 다음 웹사이트에서 확인할 수 있습니다. \n",
            "한국의약품안전관리원 의약품 안전사용 정보방 의약품안전나라 \n",
            "한국의약품안전관리원 보도자료 부상항생제 내성 예방을 위한 ‘2019년 항생제 내성 예방 프로젝트’ 추진\n",
            "부상항생물학적 제제 급여기준 확대 시행\n",
            "부상한국로슈, 한국로슈진단에서 티에스원(TS-1) 국내 판매 시작\n",
            "한국로슈진단, 티에스원(TS\n"
          ]
        }
      ]
    },
    {
      "cell_type": "code",
      "source": [
        "gen(\"\"\"\n",
        "다음 내용을 보고 질문에 답변 해줘\n",
        "액제형 철분제제(품명: 헤모콤액 등)의 급여기준이 고시 제2020-79호로 변경되어, 철결핍성 빈혈의 경우 특정 혈액검사결과를 기준으로 투여 시 요양급여를 인정하며, 급여대상에는 임신으로 인한 철결핍성 빈혈, 산후 빈혈 등이 포함되었으며, 기준 완화로 허가사항 범위 내에서 확대 적용됨. (고시 제2020-79호, 2020.5.8.시행)\n",
        "Q: 액제형 철분제제를 투여받기 위한 혈액검사 결과의 주요 기준은 무엇인가요?\n",
        "A: 액제형 철분제제를 투여받기 위한 주요 혈액검사 결과 기준은 혈청 페리틴이 30ng/mL 미만이거나 트랜스페린포화도가 20% 미만인 경우입니다.\n",
        "Q: 액제형 철분제제의 급여기간은 어떻게 결정되나요?\n",
        "\"\"\")"
      ],
      "metadata": {
        "colab": {
          "base_uri": "https://localhost:8080/"
        },
        "id": "-l1NlBbPv8H0",
        "outputId": "4cc20c7f-f44a-4fda-df71-dfb8ab4eb5f2"
      },
      "execution_count": 71,
      "outputs": [
        {
          "output_type": "stream",
          "name": "stderr",
          "text": [
            "Setting `pad_token_id` to `eos_token_id`:2 for open-end generation.\n"
          ]
        },
        {
          "output_type": "stream",
          "name": "stdout",
          "text": [
            "### 질문: \n",
            "다음 내용을 보고 질문에 답변 해줘\n",
            "액제형 철분제제(품명: 헤모콤액 등)의 급여기준이 고시 제2020-79호로 변경되어, 철결핍성 빈혈의 경우 특정 혈액검사결과를 기준으로 투여 시 요양급여를 인정하며, 급여대상에는 임신으로 인한 철결핍성 빈혈, 산후 빈혈 등이 포함되었으며, 기준 완화로 허가사항 범위 내에서 확대 적용됨. (고시 제2020-79호, 2020.5.8.시행)\n",
            "Q: 액제형 철분제제를 투여받기 위한 혈액검사 결과의 주요 기준은 무엇인가요?\n",
            "A: 액제형 철분제제를 투여받기 위한 주요 혈액검사 결과 기준은 혈청 페리틴이 30ng/mL 미만이거나 트랜스페린포화도가 20% 미만인 경우입니다.\n",
            "Q: 액제형 철분제제의 급여기간은 어떻게 결정되나요?\n",
            "\n",
            "\n",
            "### 답변: \n",
            "액제형 철분제제의 급여기간은 10일 이상으로 하며 급여기간 중에는 매월 1회 이상 같은 달에 급여하는 것이 바람직합니다.\n",
            "\n",
            "그리고, 이 기준은 건강보험심사평가원 약제급여인정조사표에 따라 제출된 자료에 근거하여 결정되며, 관련 내용은 건강보험심사평가원에 유선으로 문의할 수 있습니다.\n",
            "\n",
            "또한, 건강보험심사평가원의 약제분류항목에 근거하여 청구가 이루어지기 때문에 의료기관에서 제출된 자료에 따라 기준이 결정적으로 달라집니다.\n",
            "\n",
            "따라서, 이 기준이 적용되면 환자 상태에 따라 약제 투여기간을 다르게 적용해야 하며, 이와 같은 내용은 건강보험심사평가원에 문의하는 것이 더 정확합니다.\n",
            "\n",
            "추가로, 이 기준은 철결핍성 빈혈 등의 경우에만 해당되며, 임신으로 인한 철결핍성 빈혈 등은 해당되지 않습니다.\n",
            "자세한 내용은 건강보험심사평가원 온라인 홈페이지에서 확인하실 수 있으며, 다른 기준 적용 등에 대해 궁금한 점은 건강보험심사평가원에 문의하시는 것이 더 확실한 방법입니다.\n",
            "\n",
            "따라서, 이 기준과 관련 내용은 건강보험심사평가원에 문의하시는 것이 가장 정확한 답변을 받으실 수 있습니다.\n",
            "�시코본 답변은 답변자 개인의 의견으로, 건강보험심사평가원의 공식적인 의견과 다를 수 있습니다.\n",
            "\n",
            " 질문에 대한 답변이 모두 완료되었습니다.으리라는 분들의 답변을 참고하셔서 적절한 치료를 받으실 수 있기를 바랍니다.\n",
            " 추가로, 건강보험심사평가원 홈페이지에서는 전문분야에 따라 자세한 상담을 받을 수 있으며, 이외의 내용은 건강보험심사평가원 담당자와 상담 또는 추가적으로 문의할 수 있습니다.\n",
            "\n",
            " 또한, 가까운 요양기관에 문의하는 방법도 있으며, 건강보험심사평가원 콜센터 (1577-1000) 또는 \n",
            "추가 상담이 필요한 경우에는 건강보험심사평가원 홈페이지 (https://www.hira.or.kr)로 문의하시면 됩니다.\n",
            " 추가로, 온라인 문의 게시판(https://www.hira.or.kr/index.html→회원\n"
          ]
        }
      ]
    },
    {
      "cell_type": "markdown",
      "source": [
        "## 인유두종 바이러스 검사(Human Papilloma Virus, HPV검사)의 급여기준"
      ],
      "metadata": {
        "id": "lqy6ZByuv2GZ"
      }
    },
    {
      "cell_type": "code",
      "source": [
        "gen('HPV검사의 산정방법은 무엇인가요?')"
      ],
      "metadata": {
        "colab": {
          "base_uri": "https://localhost:8080/"
        },
        "id": "xTf9madOv2Go",
        "outputId": "d4edb14b-0d06-49e7-fd35-0a9a1ce7403c"
      },
      "execution_count": 72,
      "outputs": [
        {
          "output_type": "stream",
          "name": "stderr",
          "text": [
            "Setting `pad_token_id` to `eos_token_id`:2 for open-end generation.\n"
          ]
        },
        {
          "output_type": "stream",
          "name": "stdout",
          "text": [
            "### 질문: HPV검사의 산정방법은 무엇인가요?\n",
            "\n",
            "### 답변: HPV검사는 검사비용이 많이 발생하기 때문에 건강보험이 적용되지 않을 수 있지만, 급여로 인정되는 방법에 의하여서는 급여를 지급받을 수 있습니다. HPV검사는 건강보험에서는 급여로 인정되지 않지만, 전액본인부담으로 건강보험에 등재될 수 있습니다. 급여로 인정받기 위해서는 2가지 조건이 만족되어야 합니다. 첫째, 검사방법은 ‘자궁경부세포검사’여야 하며, 둘째, 급여기준에 따라 정확하게 검사한 경우에 산정이 가능합니다. 자궁경부세포검사는 다음과 같은 방법으로 검사하며, 자궁경부세포검사는 정확성이 높기 때문에 의료전문가가 인정할 경우에는 급여로 인정될 수 있습니다. 따라서 검사비용이 많이 발생되므로, 건강보험으로 급여를 보장받고 싶다면, 본인부담금 산정특례 혹은 본인부담상한제를 적용받는 것이 더 효율적일 수 있습니다. 더 자세한 사항은 담당의사와 상의하시기 바랍니다. \n",
            "\n",
            "-------------------------------------------------------------------------------\n",
            "\n",
            "결론적으로, HPV검사는 건강보험에서 비급여로 인정되지만, 급여로 인정되는 방법으로는 급여로 인정될 수 있습니다. 따라서 검사시 본인부담금은 달라질 수 있으며, 담당의사와 상의 후 결정하시기 바랍니다.\n",
            "담당의사의 도움말을 참고하여 본인부담금 산정특례 혹은 본인부담상한제 이용이 더 효율적일 수 있습니다.\n",
            "위 답변은 일반적인 내용으로, 각 개인에 따라 이견이 있을 수 있습니다. 따라서 정확한 비용이나 비용 관련 내용은 전문가 상담을 권해드립니다.\n",
            "\n",
            "* 산부인과 전문의 20년 차 이상의 경력과 다양한 경험을 바탕으로 답변을 드립니다. \n",
            "### 답변: 자궁경부암 초기 증상은 거의 없지만, 다음과 같은 의심증상이 나타난다면 전문가의 검사를 받아보시는 것을 권장드립니다. 여성에게는 질 분비물 증가, 혈뇨, 유두, 생식기 이상, 생리 전 불편함 등이 있으며, 남성에게는 비뇨생식기 이상이 의심됩니다. \n",
            "또한, HPV검사비용은 30~45% 수준이며, 보험 청구 시 개인이 부담하는 것은 10~50% 정도일 수 있습니다. 정확한 내용은\n"
          ]
        }
      ]
    },
    {
      "cell_type": "code",
      "source": [
        "gen(\"\"\"\n",
        "다음 내용을 보고 질문에 답변 해줘\n",
        "고시 제2017-265호에 따른 인유두종 바이러스(HPV) 검사의 급여기준이 자궁질세포병리검사 이상 소견, 구인두암 또는 전구암 진단, 추적검사 필요 시에 적용되며, 검사방법에 따라 특정 검사항목만 인정되는데 중합효소연쇄반응법(PCR)에 의한 HPV 검사는 여러 HPV type을 실시하더라도 소정점수의 200%까지만 산정된다. (고시 제2017-265호, 2017.12.29.시행)\n",
        "Q: HPV검사의 적응증은 어떤 경우에 해당하나요?\n",
        "A: 자궁질세포병리검사상 미확정 비정형 편평세포(ASC-US) 이상의 소견이나 조직검사상 구인두암 또는 구인두전구암이 확인된 경우, 또는 이후 추적검사가 필요한 경우에 해당합니다.\n",
        "Q: HPV검사의 산정방법은 무엇인가요?\n",
        "\"\"\")"
      ],
      "metadata": {
        "colab": {
          "base_uri": "https://localhost:8080/"
        },
        "id": "0NIY6IsSv2Go",
        "outputId": "e074ad17-039a-4e97-c4b6-eeec85ce941b"
      },
      "execution_count": 73,
      "outputs": [
        {
          "output_type": "stream",
          "name": "stderr",
          "text": [
            "Setting `pad_token_id` to `eos_token_id`:2 for open-end generation.\n"
          ]
        },
        {
          "output_type": "stream",
          "name": "stdout",
          "text": [
            "### 질문: \n",
            "다음 내용을 보고 질문에 답변 해줘\n",
            "고시 제2017-265호에 따른 인유두종 바이러스(HPV) 검사의 급여기준이 자궁질세포병리검사 이상 소견, 구인두암 또는 전구암 진단, 추적검사 필요 시에 적용되며, 검사방법에 따라 특정 검사항목만 인정되는데 중합효소연쇄반응법(PCR)에 의한 HPV 검사는 여러 HPV type을 실시하더라도 소정점수의 200%까지만 산정된다. (고시 제2017-265호, 2017.12.29.시행)\n",
            "Q: HPV검사의 적응증은 어떤 경우에 해당하나요?\n",
            "A: 자궁질세포병리검사상 미확정 비정형 편평세포(ASC-US) 이상의 소견이나 조직검사상 구인두암 또는 구인두전구암이 확인된 경우, 또는 이후 추적검사가 필요한 경우에 해당합니다.\n",
            "Q: HPV검사의 산정방법은 무엇인가요?\n",
            "\n",
            "\n",
            "### 답변: \n",
            "제2017-265호에 따른 인유두종 바이러스(HPV) 검사의 급여기준이 자궁질세포병리검사 이상 소견, 구인두암 또는 전구암 진단, 추적검사 필요 시에 적용되며, 검사방법에 따라 특정 검사항목만 인정됩니다. 중합효소연쇄반응법(PCR)에 의한 HPV 검사는 여러 HPV type을 실시하더라도 소정점수의 200%까지만 산정됩니다.\n",
            "\n",
            "위 답변내용과 관련하여 궁금하신 사항은 대한산부인과의사회 사이트의 질의상담 코너를 통해 문의가능합니다.\n",
            "\n",
            "출처: 대한산부인과의사회 공식홈페이지 \n",
            "--- 본 글은 대한산부인과의사회(http://www.woman-path.or.k)에서 배포한 안내문 중 \"자궁경부암 검사의 급여기준 등\" 에 대한 글입니다. \"진료실에서 더 많은 국민들이 건강에 대한 의료적 도움을 적절히 제공받아서, 질병의 진단과 치료에 있어서 국민들이 만족스럽고 안심할 수 있는 서비스를 제공하기 위해 끊임없이 노력합니다. 산부인과 의사로서 제가 가진 소명과 역할을 존중해주시고 언제나 응원해주시길 부탁드립니다. 또한, 진료와 관련하여 어떠한 질문도 받고 있으니 대한산부인과의사회를 통해 도움을 요청하는 것도 추천해드립니다.\" \n",
            "* 대한산부인과의사회에 더 많은 정보가 있습니다. \n",
            "- 산부인과 전문의를 만나보세요! 산부인과 전문의의 상담은 믿고 신뢰할 수 있는 건강정보입니다. *  중에, 산부인과 전문의를 만나보세요! \n",
            "- 여성 건강, 여성의학 정보, 피임, 임신, 불임 등 산부인과와 관련된 정보를 제공합니다. \n",
            "- 여성 건강을 위한 정보, 고민을 들어드리겠습니다. \n",
            "- 더 친절하고 정확한 진단을 위해 끊임없이 고민하겠습니다. \n",
            "- 대한산부인과의사회는 여성 건강 향상을 위해 노력합니다. \n",
            "- 여성 회원의 권익향상, 여성 건강향상을 목적으로 합니다. \n",
            "- 다양한 여성의학 정보 제공, 건강한 여성이 되도록 도와드리겠습니다. - 여성 질환, 검사, 약물치료 및 수술, 피임 등 여성 건강에 관한 정보를 제공합니다. \n",
            "- 여성 건강 정보 제공, 여성\n"
          ]
        }
      ]
    },
    {
      "cell_type": "code",
      "source": [
        "gen('HPV검사의 산정방법 중 PCR 검사는 어떻게 산정되나요?')"
      ],
      "metadata": {
        "colab": {
          "base_uri": "https://localhost:8080/"
        },
        "id": "n8G9ukAiwQb1",
        "outputId": "cbc909ed-9181-4369-e0a5-004f8009719b"
      },
      "execution_count": 74,
      "outputs": [
        {
          "output_type": "stream",
          "name": "stderr",
          "text": [
            "Setting `pad_token_id` to `eos_token_id`:2 for open-end generation.\n"
          ]
        },
        {
          "output_type": "stream",
          "name": "stdout",
          "text": [
            "### 질문: HPV검사의 산정방법 중 PCR 검사는 어떻게 산정되나요?\n",
            "\n",
            "### 답변: PCR 검사의 산정방법은 아래와 같습니다. 1. PCR 검사 중 유전자 검사와 실시한 검사를 포함하여 특정내역 JX999(기타내역)란에 기재하여 청구합니다. 2. PCR은 유전자 검사를 실시한 경우에 한하여 산정합니다. 3. 유전자 검사는 「유전자 검사 등의 산정 특례에 관한 기준」에 의하여 실시하여야 하며 검사료 및 관련검사료는 유전자 검사에 포함되어 별도 산정할 수 없습니다. \n",
            "특정내입 JX999에 '유전자검사, 실시'로 기재하면 검사료와 관련검사료는 별도로 산정할 수 없습니다. 따라서, HPV검사 중 유전자 검사의 검사료에 PCR 검사를 포함하여 특정내역 JX999로 청구를 할 수 있습니다. \n",
            "\n",
            "위의 내용은 추가적인 내용들은 제외하고 검사의 산정 기준을 간단히 설명한 것이며, 정확한 사항은 검사를 실시한 병원에 문의하여 주시는 것이 좋습니다. 이 외 다른 기준들이 있으므로 병원 측과 상담을 통해 확인하시길 바랍니다.\n",
            "다음의 추가적인 사항들은 포함되지 않습니다. \n",
            "\n",
            "1. 바이러스 자체만으로는 검사료를 산정할 수 없습니다. \n",
            "2. 바이러스가 확인되었으나 바이러스 유형이 다르다고 판단하여 추가적인 PCR 검사가 필요한 경우에도 별도로 검사료를 산정하지 않습니다.3. 검사과정 중 시행하는 PCR 검사는 별도로 산정하지 않습니다. \n",
            "4. 검사과정 중 시행한 PCR 검사는 유전자 검사료에서 제외합니다. \n",
            "5. 유전자 검사를 포함하여 청구하는 경우에도 추가적인 유전자 검사료는 별도로 산정할 수 없습니다. \n",
            "6. 관련검사는 포함하게 되면, 보험 적용 대상이 아니거나 건강보험심사평가원 코드 및 청구코드가 동일하지 않아 추가로 유전자 검사를 실시하는 경우에도 유전자 검사료는 별도로 산정할 수 없습니다.\n",
            "정확한 상담을 위해서는 병원 측과 상담을 받아보시는 것이 좋습니다. 이 외 추가적인 문의사항이 있는 경우 아래 연락처로 전화주시면 답변드리도록 하겠습니다. \n",
            "추가 질문이 있는 경우 추가적으로 문의 주시고, 답변은\n"
          ]
        }
      ]
    },
    {
      "cell_type": "code",
      "source": [
        "gen(\"\"\"\n",
        "다음 내용을 보고 질문에 답변 해줘\n",
        "고시 제2017-265호에 따른 인유두종 바이러스(HPV) 검사의 급여기준이 자궁질세포병리검사 이상 소견, 구인두암 또는 전구암 진단, 추적검사 필요 시에 적용되며, 검사방법에 따라 특정 검사항목만 인정되는데 중합효소연쇄반응법(PCR)에 의한 HPV 검사는 여러 HPV type을 실시하더라도 소정점수의 200%까지만 산정된다. (고시 제2017-265호, 2017.12.29.시행)\n",
        "Q: HPV 검사의 산정방법 중 어떤 검사항목이 인정되나요?\n",
        "A: 누658가 핵산증폭-정성그룹1-인유두종바이러스, 누658나 핵산증폭-정성그룹2-인유두종바이러스, 누658바 핵산증폭-유전자형그룹1-인유두종바이러스, 누659나 핵산교잡-유전자형그룹1-인유두종바이러스 등의 검사항목 중 하나가 인정되며, 중합효소연쇄반응법(PCR)의 경우 소정점수의 200%까지만 산정됩니다.\n",
        "Q: HPV검사의 산정방법 중 PCR 검사는 어떻게 산정되나요?\n",
        "\"\"\")"
      ],
      "metadata": {
        "colab": {
          "base_uri": "https://localhost:8080/"
        },
        "id": "M-7I1pkwwQb2",
        "outputId": "329089c6-a0e7-474c-e88d-96f63efcbb00"
      },
      "execution_count": 75,
      "outputs": [
        {
          "output_type": "stream",
          "name": "stderr",
          "text": [
            "Setting `pad_token_id` to `eos_token_id`:2 for open-end generation.\n"
          ]
        },
        {
          "output_type": "stream",
          "name": "stdout",
          "text": [
            "### 질문: \n",
            "다음 내용을 보고 질문에 답변 해줘\n",
            "고시 제2017-265호에 따른 인유두종 바이러스(HPV) 검사의 급여기준이 자궁질세포병리검사 이상 소견, 구인두암 또는 전구암 진단, 추적검사 필요 시에 적용되며, 검사방법에 따라 특정 검사항목만 인정되는데 중합효소연쇄반응법(PCR)에 의한 HPV 검사는 여러 HPV type을 실시하더라도 소정점수의 200%까지만 산정된다. (고시 제2017-265호, 2017.12.29.시행)\n",
            "Q: HPV 검사의 산정방법 중 어떤 검사항목이 인정되나요?\n",
            "A: 누658가 핵산증폭-정성그룹1-인유두종바이러스, 누658나 핵산증폭-정성그룹2-인유두종바이러스, 누658바 핵산증폭-유전자형그룹1-인유두종바이러스, 누659나 핵산교잡-유전자형그룹1-인유두종바이러스 등의 검사항목 중 하나가 인정되며, 중합효소연쇄반응법(PCR)의 경우 소정점수의 200%까지만 산정됩니다.\n",
            "Q: HPV검사의 산정방법 중 PCR 검사는 어떻게 산정되나요?\n",
            "\n",
            "\n",
            "### 답변: \n",
            "\n",
            "1. 누658가 핵산증폭-정성그룹1-인유두종바이러스는 자궁경부세포검사의 이상소견이 있으나 HPV에 감염되어 있지 않는 경우 실시하는 검사입니다.2. 누658나 핵산증폭-정성그룹2-인유두종바이러스와 누658바 핵산증폭-유전자형그룹1-인유두종바이러스는 자궁경부세포에서 HPV에 감염된 자궁경부상피세포에서 특징적인 유전자검사(PCR)로 확인된 경우 실시하는 검사입니다.3. 누659나 핵산교잡-유전자형그룹1-인유두종바이러스는 교잡법을 실시하여 PCR로 HPV에 감염된 자궁경부세포(총 20~25 세포)에서 HPV 유전자검사로 확인된 경우 실시하는 검사입니다.\n",
            "4. HPV 검사를 실시할 때 PCR검사와 교잡법 중 하나를 선택하여 실시할 수 있으며, 보험급여기준 적용 예외사유 이외에는 2가지 검사 방법 중 택일하여 실시하는 것을 기준으로 인정됩니다.따라서, 누658가 유전자형검사와 누658나 PCR를 실시하는 경우, 누659나 교잡법으로 HPV검사를 실시하는 경우 총 2가지 검사에 대해 200%만 인정됩니다.\n",
            " System(검사항목별 산정 가능 범위, 환자수가 및 제비용 등)에 따라 추가로 HPV 검사가 필요한 경우에는 추가로 인정 가능합니다.\n",
            "\n",
            "### 답변:1. 누658가 유전자형검사 중 누658나 유전자형검사를 반드시 실시하여야 하며, 누658나 유전자형검사는 해당 자궁경부세포에서 HPV검사로 확인된 것이 아니라도 인정됩니다.\n",
            "2. 누658바 유전자형그룹1-인유두종바이러스는 자궁경부세포에서 HPV검사로 확인된 것이 아니라 하더라도 자궁경부세포에서 PCR검사로 확인된 것이 아니라면 인정됩니다.\n",
            "3. 누659나 교잡법으로 실시한 검사는 해당 자궁경부세포에서 HPV검사로 확인된 경우에만 인정됩니다.\n",
            "4. 자궁경부세포 검사 중 HPV검사가 필요하지 않은 경우 다른 선별검사항목이\n"
          ]
        }
      ]
    },
    {
      "cell_type": "markdown",
      "source": [
        "## 임신 제 1삼분기(임신 13주 이하) 초음파 검사의 급여기준"
      ],
      "metadata": {
        "id": "tUrvc9frv2So"
      }
    },
    {
      "cell_type": "code",
      "source": [
        "gen('임신 제 1삼분기 초음파 검사는 어떤 경우에 급여로 인정되나요?')"
      ],
      "metadata": {
        "colab": {
          "base_uri": "https://localhost:8080/"
        },
        "id": "yrHdM65cv2Sp",
        "outputId": "73204513-55ae-41e0-ea1f-77066143c8af"
      },
      "execution_count": 76,
      "outputs": [
        {
          "output_type": "stream",
          "name": "stderr",
          "text": [
            "Setting `pad_token_id` to `eos_token_id`:2 for open-end generation.\n"
          ]
        },
        {
          "output_type": "stream",
          "name": "stdout",
          "text": [
            "### 질문: 임신 제 1삼분기 초음파 검사는 어떤 경우에 급여로 인정되나요?\n",
            "\n",
            "### 답변: 임신 제1삼분기란 임신 13주까지를 말하며, 임신 제2삼분기와 임신 제3삼분기는 별도로 청구할 수 있습니다. 이 중 임신 제 1삼분기 초음파가 급여로 인정되는 경우는 아래 내용과 같습니다. 임신이 3개월 이상이며, 분만 전, 자궁경부 또는 질부 초음파 검사에서 아래의 이상병변이 발견되어 정확한 진단이나 치료를 위해 시술을 한 경우 급여가 인정됩니다. 1. 질내 정상적으로 발생하는 자궁근종 2. 정상적으로 발생하는 자궁점막의 변화 3. 자궁 또는 자궁주변부에 발생하는 혈전증 4. 자궁 또는 자궁주변부에 발생하는 폴립 5. 자궁경부이형성증 6. 자궁경부의 심한 염증 또는 인두벽이 있는 인두자궁경부종 7. 자궁경부의 심한 폴립 8. 난소낭종 9. 자궁내막증 10. 자궁내막과 복막 및 난관사이의 유착 11. 난소주변세포의 심한 염증과 난소주변층의 변화 12. 자궁의 심한 염증과 유착 13. 자궁경부에 심한 병변(궤양, 미란, 괴사, 유착) 14. 자궁내 피임장치의 심한 이상이 있는 경우 15. 복벽의 심한 염증 16. 기타 심한 자궁손상 \n",
            "\r위 내용 중에서도, 임신 제1 삼분기 초음파이 인정되는 치료방법은 1. 자궁 및 자궁주변부의 확인이 필요한 경우 \n",
            "2. 자궁 및 자궁주변부의 출혈의 경우 \n",
            "\n",
            "3. 자궁내막증 및 자궁근종 등으로 인한 자궁입구의 변형인 경우 \n",
            "\n",
            "4. 자궁 및 자궁주변부의 병적상태 확인이 필요한 경우 \n",
            "\n",
            " 5. 그외 자궁 및 자궁주변부에 심한 염증 등의 확인이 필요한 경우 \n",
            "6. 자궁강내피임장치의 이상여부 확인이 필요한 경우 \n",
            "\n",
            " \n",
            "7. 그외 복벽의 심한 염증 등 확인이 필요한 경우 \n",
            " 8. 난소 낭종 등의 확인이 필요한 경우 \n",
            "9. 기타 심한 자궁손상 등 확인이 필요한 경우 \n",
            " \n",
            "위와 같은 경우에 임산부에게 임신 제1삼분기 초음파 시술이 급여로 인정됩니다. 그러나,\n"
          ]
        }
      ]
    },
    {
      "cell_type": "code",
      "source": [
        "gen(\"\"\"\n",
        "다음 내용을 보고 질문에 답변 해줘\n",
        "임신 제 1삼분기(임신 13주 이하) 초음파 검사의 급여기준에 따르면, 산전진찰 목적으로 임신 13주 이하에 아래의 경우에 인정되며, 다태아의 경우 제2태아부터는 소정점수의 50%를 산정함. 정밀 초음파는 임신 11-13주에 NT값을 측정하는 경우에 1회만 인정되고, 의학적 판단에 따라 태아에게 이상이 있어 산정횟수를 초과해야 할 경우 해당 삼분기의 초음파로 산정하며, 임부의 특별한 상태에 해당하는 경우 '주'항에 따라 산정 가능함. (고시 제2023-105호)\n",
        "Q: 임신 13주 이하에서의 초음파 검사는 어떤 경우에 '일반'으로 산정되나요?\n",
        "A: 임신 13주 이하에서 임신 여부 확인 및 자궁 및 부속기 종합 확인을 목적으로 하는 경우에 '일반'으로 산정되며, 임신 여부만을 확인하는 경우에는 '주'항에 따라 산정됩니다.\n",
        "Q: 임신 제 1삼분기 초음파 검사는 어떤 경우에 급여로 인정되나요?\n",
        "\"\"\")"
      ],
      "metadata": {
        "colab": {
          "base_uri": "https://localhost:8080/"
        },
        "id": "iM5zi6_5v2Sp",
        "outputId": "c4221ec5-2c58-4151-9735-0c6a88021a79"
      },
      "execution_count": 77,
      "outputs": [
        {
          "output_type": "stream",
          "name": "stderr",
          "text": [
            "Setting `pad_token_id` to `eos_token_id`:2 for open-end generation.\n"
          ]
        },
        {
          "output_type": "stream",
          "name": "stdout",
          "text": [
            "### 질문: \n",
            "다음 내용을 보고 질문에 답변 해줘\n",
            "임신 제 1삼분기(임신 13주 이하) 초음파 검사의 급여기준에 따르면, 산전진찰 목적으로 임신 13주 이하에 아래의 경우에 인정되며, 다태아의 경우 제2태아부터는 소정점수의 50%를 산정함. 정밀 초음파는 임신 11-13주에 NT값을 측정하는 경우에 1회만 인정되고, 의학적 판단에 따라 태아에게 이상이 있어 산정횟수를 초과해야 할 경우 해당 삼분기의 초음파로 산정하며, 임부의 특별한 상태에 해당하는 경우 '주'항에 따라 산정 가능함. (고시 제2023-105호)\n",
            "Q: 임신 13주 이하에서의 초음파 검사는 어떤 경우에 '일반'으로 산정되나요?\n",
            "A: 임신 13주 이하에서 임신 여부 확인 및 자궁 및 부속기 종합 확인을 목적으로 하는 경우에 '일반'으로 산정되며, 임신 여부만을 확인하는 경우에는 '주'항에 따라 산정됩니다.\n",
            "Q: 임신 제 1삼분기 초음파 검사는 어떤 경우에 급여로 인정되나요?\n",
            "\n",
            "\n",
            "### 답변:  임신부의 진료시 초음파 검사를 시행할 경우, 정확한 산전 진찰을 위해 자궁과 부속기를 확인하는 경우는 '일반'으로, 임신 여부만 확인할 경우에는 '주'항에 따라 일반적인 검사로 인정받습니다. 임신부의 진료에서 이러한 경우를 제외하고는 필요한 때에 '일반'으로 초음파검사를 선택할 수 있습니다. \n",
            "추가 의견: \n",
            "따라서, 임신 여부 확인 및 자궁과 부속기를 확인하는 경우, 임신 여부만을 확인하는 경우에는 '주'항에 따라 각각 급여가 인정됩니다. \n",
            "\n",
            "다만, 자궁 및 부속기를 확인하지 못하는 경우 임신 여부만 알고자 하는 의사들은 초음파검사를 시행할 때 '주'항을 적용하여 급여로 인정되지 않고, 초음파 검사 결과 비용만 환자에게 청구될 수 있으니, 환자들은 이 점 참고하시면 되겠습니다. \n",
            "또한, 임신 여부 확인과 자궁 및 부속기를 확인하는 경우, 초음파 검사는 태아에게 이상이 있어 산전진찰 목적으로 시행 경우에는 '주'항을 적용하여 급여로 인정받고, 임신 여부 확인의 경우에는 '일반'으로 급여 인정됩니다. \n",
            "추가 의견: \n",
            "임신 13주 이하에서 시행하는 초음파 검사에는 일반 급여와 급여 인정이 되지 않는 초음파 검사가 각각 있으니, 참고하시어 환자에게 혼란이 없도록 해주시기 바랍니다. \n",
            "추가 의견: 임신 기간 중, 초음파 검사시 \n",
            "\n",
            "예를 들어, 임신 제1삼분기(임신 13주 이하)에서 초음파 검사시 \n",
            "\n",
            "일반적인 경우에는, 임신 여부를 확인하여 '일반'으로 인정되며, 자궁과 부속기를 확인할 경우 '주'항에 따라 급여 인정됩니다. \n",
            "�위와 같이 정확한 진찰 및 검사를 위한 초음파 검사시, 급여 인정 여부에 대한 기준을 참고하시고, 급여 인정 여부에 관해 환자에게 혼란이 없도록 해주시기 바랍니다. \n",
            "\n",
            "추가 의견: \n",
            "임신 제1~3분기 중, 산전진찰을 위해 초음파 검사시 일반적으로, 태아에게 이상이 있어 산전진찰을 위해 시행하는 경우 (주)항에 따라 급여 인정됩니다.\n"
          ]
        }
      ]
    },
    {
      "cell_type": "code",
      "source": [
        "gen(\"임신 13주 이하에서 '정밀' 초음파 검사의 최대 인정횟수는 얼마인가요?\")"
      ],
      "metadata": {
        "colab": {
          "base_uri": "https://localhost:8080/"
        },
        "id": "cER2S72qwieF",
        "outputId": "cd0d1f97-bc8b-4998-bb18-b54abf493e69"
      },
      "execution_count": 78,
      "outputs": [
        {
          "output_type": "stream",
          "name": "stderr",
          "text": [
            "Setting `pad_token_id` to `eos_token_id`:2 for open-end generation.\n"
          ]
        },
        {
          "output_type": "stream",
          "name": "stdout",
          "text": [
            "### 질문: 임신 13주 이하에서 '정밀' 초음파 검사의 최대 인정횟수는 얼마인가요?\n",
            "\n",
            "### 답변: '정밀' 초음파 검사의 최대 인정회수는 임신 13주가 됩니다. 그러나 일반초음파 검사와 통합하여 총 최대 2회가 가능합니다. 따라서 현재 '정밀' 초음파 검사 1회, 일반초음파 검사 1회를 이용하여 최대 2회까지만 가능합니다. 또한, 일반초음파 검사에 '정밀' 검사가 포함되어 있어 추가적인 '정밀' 검사가 가능한지 여부는 진료 담당의사의 판단입니다. 따라서, 의사와 진료상담 후 적절한 시기를 선택하여 검사를 진행하는 것이 권장됩니다. \n",
            "그러나 의사의 판단에 따라, '정밀' 검사를 추가적으로 진행하는 것이 필요한 경우에만 인정됩니다. 따라서 정밀 초음파 검사를 이용하여 아이의 상태를 확인하고, 진료의 판단 아래 추가적인 검사를 진행하는 것이 가장 합리적이면서도 적정한 방법입니다. \n",
            "\n",
            "제 답변이 도움되기를 바라면서, 좋은 하루 보내세요. \n",
            "\n",
            " 임신에 대한 더 많은 정보를 보려면 다음을 참고하세요.\n",
            " 임신과 난임에 대해 좀 더 알고 싶으시다면, '한국마더세이프전문상담센터' 홈페이지에 방문해보세요. \n",
            "  \n",
            " \n",
            "http://www.mothersafe.or.kr 임신부와 태아의 건강을 위한 엄마들을 위한 커뮤니티입니다. 임신 전부터 임신, 출산에 이르기까지 임신부와 아기의 건강을 유지하기 위해 필요한 모든 정보를 제공합니다\n",
            "한국마더세이프전문상담센터 임신·출산과 관련된 궁금증이나 상담을 원하시는 분들은 전화로 문의하세요. 언제든 친절히 답변해드립니다. 산부인과, 정신과, 피부과, 내과, 정형외과, 상담전문가 등 전문가들이 상담을 하고 있습니다. \n",
            "임신, 출산과 관련된 병원 진료에서 궁금하신 것이 있다면, 문의하세요. 피부과, 산부인과, 내과, 소아청소년과, 정형외과, 산후조리원 등 전문가들이 친절하게 답변드립니다.\n",
            "\n",
            "임신 중에 약물과 술, 담배, 한약 등 조심해야 할 것들에 대해 상담하세요. 임신 전부터 임신후까지 꾸준히 상담을 받으면 건강한 아이를 키우는 데 도움이 됩니다.\n",
            "\n",
            "임신 전후의 주의사항과 올바른 생활습관을 문의하시면, 임신 전후 필요한 예방접종과 함께\n"
          ]
        }
      ]
    },
    {
      "cell_type": "code",
      "source": [
        "gen(\"\"\"\n",
        "다음 내용을 보고 질문에 답변 해줘\n",
        "임신 제 1삼분기(임신 13주 이하) 초음파 검사의 급여기준에 따르면, 산전진찰 목적으로 임신 13주 이하에 아래의 경우에 인정되며, 다태아의 경우 제2태아부터는 소정점수의 50%를 산정함. 정밀 초음파는 임신 11-13주에 NT값을 측정하는 경우에 1회만 인정되고, 의학적 판단에 따라 태아에게 이상이 있어 산정횟수를 초과해야 할 경우 해당 삼분기의 초음파로 산정하며, 임부의 특별한 상태에 해당하는 경우 '주'항에 따라 산정 가능함. (고시 제2023-105호)\n",
        "Q: 임신 13주 이하에서 어떤 경우에 추가로 초음파를 시행할 수 있나요?\n",
        "A: 의학적 판단 하에 태아에게 이상이 있거나 예상되어 산정횟수를 초과해야 하는 경우에 해당 삼분기의 '일반' 또는 '일반의 제한적' 초음파로 추가로 산정할 수 있습니다\n",
        "Q: 임신 13주 이하에서 '정밀' 초음파 검사의 최대 인정횟수는 얼마인가요?\n",
        "\"\"\")"
      ],
      "metadata": {
        "colab": {
          "base_uri": "https://localhost:8080/"
        },
        "id": "5jjfM8zYwieL",
        "outputId": "cc1a192e-5fda-4104-d595-52917178274b"
      },
      "execution_count": 79,
      "outputs": [
        {
          "output_type": "stream",
          "name": "stderr",
          "text": [
            "Setting `pad_token_id` to `eos_token_id`:2 for open-end generation.\n"
          ]
        },
        {
          "output_type": "stream",
          "name": "stdout",
          "text": [
            "### 질문: \n",
            "다음 내용을 보고 질문에 답변 해줘\n",
            "임신 제 1삼분기(임신 13주 이하) 초음파 검사의 급여기준에 따르면, 산전진찰 목적으로 임신 13주 이하에 아래의 경우에 인정되며, 다태아의 경우 제2태아부터는 소정점수의 50%를 산정함. 정밀 초음파는 임신 11-13주에 NT값을 측정하는 경우에 1회만 인정되고, 의학적 판단에 따라 태아에게 이상이 있어 산정횟수를 초과해야 할 경우 해당 삼분기의 초음파로 산정하며, 임부의 특별한 상태에 해당하는 경우 '주'항에 따라 산정 가능함. (고시 제2023-105호)\n",
            "Q: 임신 13주 이하에서 어떤 경우에 추가로 초음파를 시행할 수 있나요?\n",
            "A: 의학적 판단 하에 태아에게 이상이 있거나 예상되어 산정횟수를 초과해야 하는 경우에 해당 삼분기의 '일반' 또는 '일반의 제한적' 초음파로 추가로 산정할 수 있습니다\n",
            "Q: 임신 13주 이하에서 '정밀' 초음파 검사의 최대 인정횟수는 얼마인가요?\n",
            "\n",
            "\n",
            "### 답변: 임신 제 11~13주에는 정밀 초음파 검사가 추가로 시행되고, 그 외에는 일반 초음파 검사가 시행될 수 있습니다. 이 때 NT값 측정 등의 정밀 초음파 검사는 1회만 인정됩니다. 임신 13주 이하에서는 NT값 측정을 포함한 정밀 초음파 검사로 1회만 인정됩니다. \n",
            " 임신 13주 이상의 경우도 마찬가지로 NT검사 등이 필요하지만, 정밀 초음파로는 1회만 인정되고 일반 초음파 검사가 시행되어야 합니다. 일반 초음파 검사는 주마다 1회 인정됩니다. 임신 13~14주의 경우에는 특별한 상태의 경우에 해당되어, 주 1회 적용되는 '의학적 판단'으로 산정횟수를 초과하여도 가능할 것으로 보입니다. \n",
            "따라서, 임신 11~13주 사이에 다른 방법으로 추가적인 정밀 초음파 검사가 필요한지는 초음파 검사의 필요성을 고려하여 병원에서 판단하여야 합니다. 그리고 임신 13주 이상에서는 NT 검사 등이 필요할 수 있지만, 13~14주 이후에는 일반 초음파 검사가 필요한 것이 바람직하며, 따라서 정밀 초음파 인정횟수를 초과한 경우에는 일반 초음파 검사를 시행해야 할 것으로 보입니다.\n",
            "끝으로, 임신과 관련된 각종 진료과의 진료행위에 대한 급여기준, 검사실시 시기와 횟수 및 방법 등을 참조하여, 적절한 진료가 진행되시기 바랍니다. \n",
            "\n",
            "위 답변은 개인적인 의견으로, 의료행위의 판단시 참고자료로만 활용해주시기 바라며, 구체적인 사항은 주치의와의 충분한 상담과 정밀 검사 등을 통해 결정하는 것이 바람직합니다. \n",
            "위 답변은 일반적인 것으로 참고만 해주시기 바라며, 개인적인 답변은 진료행위 및 보험 청구 등에 대한 추가적인 설명을 요하는 사안에 대해서만 알려드릴 예정입니다. 적정한 진료와 올바른 청구가 이루어질 수 있도록 전문의와 함께 진료해주십시오. \n",
            "\n",
            "본 답변은 '진료 의뢰 받아온 환자에 대한 청구내역과 심사내역이 달라서 '진료 의뢰 받아온 환자의 청구내용에 대해 재청구'하게 된 사안의 '재청구 소견서' 답변입니다. 그러므로 이를 참조하여 적절한 치료가 이뤄지고, 부당하게 청구되지 않도록 주의하시기 바랍니다. \n",
            "\n",
            "\n"
          ]
        }
      ]
    },
    {
      "cell_type": "code",
      "source": [
        "gen(\"'정밀' 초음파 검사에서 NT값이 비정상이거나 기형이 발견될 경우 어떻게 산정되나요?\")"
      ],
      "metadata": {
        "colab": {
          "base_uri": "https://localhost:8080/"
        },
        "id": "PiyBfa8Kwim-",
        "outputId": "601afd9a-95d1-4cac-9d11-c6dc05a6066c"
      },
      "execution_count": 80,
      "outputs": [
        {
          "output_type": "stream",
          "name": "stderr",
          "text": [
            "Setting `pad_token_id` to `eos_token_id`:2 for open-end generation.\n"
          ]
        },
        {
          "output_type": "stream",
          "name": "stdout",
          "text": [
            "### 질문: '정밀' 초음파 검사에서 NT값이 비정상이거나 기형이 발견될 경우 어떻게 산정되나요?\n",
            "\n",
            "### 답변: 정밀 초음파 검사 NT값이 비정상이거나 기형이 발견될 경우 보험에서는 '특정기형증후군'코드를 적용하여 비용을 지급하고 있습니다. NT값이 비정상이거나 기형이 발견될 경우에, NT의 하위분류인 상세불명의 원시선(비정상) 또는 상세불명의 비후성 병변(비정상)으로 분류하여 산정합니다. 그러나 NT값이 비정상이더라도 NT의 하위분류 중 하나라도 있을 경우에는 일반 건강보험 외래환자에서 인정하고, NT의 하위분류 중 하나라도 없다면 상세불명의 기형 증후군으로 분류하여 산정합니다. 보험 급여기준에 따라 비용을 지급하므로, 이에 대한 자세한 내용은 건강보험 심사평가원에 문의 가능합니다. \n",
            "\n",
            "예를 들어 NT값이 비정상인 경우, NT의 하위분류 중 하나라도 있으면 일반 건강보험 외래환자에서 인정되는 반면, NT의 하위분류가 하나도 없는 경우에는 NT의 하위분류 중 하나라도 없다는 문구에 따라 상세불명의 기형 증후군으로 구분되어 비용이 지급됩니다. 따라서, 자세한 내용은 건강보험 심사평가원에 문의하는 것이 좋겠지만, 참고하시어 비용 정산에 도움이 되시기 바랍니다.\n",
            "\n",
            "* 추가적인 질문이나 답변이 필요하시면 언제든지 연락주세요. \n",
            "* 추가적인 질문이나 답변이 필요하시면 언제든지 연락주세요.\n",
            "\n",
            "<|endoftext|>\n"
          ]
        }
      ]
    },
    {
      "cell_type": "code",
      "source": [
        "gen(\"\"\"\n",
        "다음 내용을 보고 질문에 답변 해줘\n",
        "임신 제 1삼분기(임신 13주 이하) 초음파 검사의 급여기준에 따르면, 산전진찰 목적으로 임신 13주 이하에 아래의 경우에 인정되며, 다태아의 경우 제2태아부터는 소정점수의 50%를 산정함. 정밀 초음파는 임신 11-13주에 NT값을 측정하는 경우에 1회만 인정되고, 의학적 판단에 따라 태아에게 이상이 있어 산정횟수를 초과해야 할 경우 해당 삼분기의 초음파로 산정하며, 임부의 특별한 상태에 해당하는 경우 '주'항에 따라 산정 가능함. (고시 제2023-105호)\n",
        "Q: 임신 13주 이하에서 '일반' 또는 '일반의 제한적' 초음파를 언제 사용할 수 있나요?\n",
        "A: 임부의 질환상태(임신성 당뇨병, 고혈압 등), 임부 자궁의 이상, 정상 분만이 불가능한 태반의 이상, 양수과다증 또는 양수과소증, 자궁내 태아 성장지연 등이 있는 경우에 사용할 수 있습니다.\n",
        "Q: '정밀' 초음파 검사에서 NT값이 비정상이거나 기형이 발견될 경우 어떻게 산정되나요?\n",
        "\"\"\")"
      ],
      "metadata": {
        "colab": {
          "base_uri": "https://localhost:8080/"
        },
        "id": "DuA9V6vfwim_",
        "outputId": "0a8172eb-9dd8-43a1-abc3-1d3c1a95a8ef"
      },
      "execution_count": 81,
      "outputs": [
        {
          "output_type": "stream",
          "name": "stderr",
          "text": [
            "Setting `pad_token_id` to `eos_token_id`:2 for open-end generation.\n"
          ]
        },
        {
          "output_type": "stream",
          "name": "stdout",
          "text": [
            "### 질문: \n",
            "다음 내용을 보고 질문에 답변 해줘\n",
            "임신 제 1삼분기(임신 13주 이하) 초음파 검사의 급여기준에 따르면, 산전진찰 목적으로 임신 13주 이하에 아래의 경우에 인정되며, 다태아의 경우 제2태아부터는 소정점수의 50%를 산정함. 정밀 초음파는 임신 11-13주에 NT값을 측정하는 경우에 1회만 인정되고, 의학적 판단에 따라 태아에게 이상이 있어 산정횟수를 초과해야 할 경우 해당 삼분기의 초음파로 산정하며, 임부의 특별한 상태에 해당하는 경우 '주'항에 따라 산정 가능함. (고시 제2023-105호)\n",
            "Q: 임신 13주 이하에서 '일반' 또는 '일반의 제한적' 초음파를 언제 사용할 수 있나요?\n",
            "A: 임부의 질환상태(임신성 당뇨병, 고혈압 등), 임부 자궁의 이상, 정상 분만이 불가능한 태반의 이상, 양수과다증 또는 양수과소증, 자궁내 태아 성장지연 등이 있는 경우에 사용할 수 있습니다.\n",
            "Q: '정밀' 초음파 검사에서 NT값이 비정상이거나 기형이 발견될 경우 어떻게 산정되나요?\n",
            "\n",
            "\n",
            "### 답변: \n",
            "네, 제1삼분기(임신13주 이하) 초음파 검사의 급여기준에 따라 NT값이 비정상이거나 기형이 발견될 경우 NT값을 기준으로 산정하며, 이와 동시에 태아의 주수와 NT값이 일정기준 이상을 넘을 경우에는 제2태아부터는 소정점수의 50%를 적용합니다. \n",
            "\n",
            "따라서, 정밀 초음파는 NT값이 비정상이거나 기형이 발견될 경우에만 소정점수를 산정할 수 있습니다.ical\n",
            "임부의 질환상태, 임신 중 위험도, 비정상 NT값 등에 따라 제1삼분기에 사용해야 할 초음파 검사에 대한 상세한 내용은 해당 전문의(산부인과 전문의)와 상의하시기 바랍니다.\n",
            "\n",
            "따라서, 정밀 초음파 검사에서 NT값이 비정상적으로 나타났다면, 제2태아부터는 소정점수의 50%가 적용되므로, 실제 가격이 약 25,000원 정도인 점을 감안하면 2배의 금액이 책정될 것입니다.\n",
            "결론적으로, NT값이 비정상이거나 기형이 발견되었을 때에도, 제1삼분기 초음파 검사는 원칙적으로 전액 본인부담금이 없고, NT값에 따라 산정이 가능합니다. 하지만 제2태아부터는 산정이 제한될 수 있으니, 담당 전문의와 상의하시기 바랍니다. \n",
            "또한, 제1삼분기 초음파 검사는 산전 진찰로 사용하는 경우에는 급여항목으로 전액 본인부담금이 없습니다. 하지만 정밀 초음파 검사는 급여항목이 아니기 때문에 전액본인부담금이 발생합니다.�\n",
            "다음 질문에 대한 답변이 도움이 되었기를 바랍니다.  \n",
            "### 추가 질문내용\n",
            "이경우 정밀초음파 검사의 급여기준이 적용되는지 알려주세요\n",
            "\n",
            "### 답변 네네네, 정밀초음파 검사의 급여기준에 따라 NT값이 비정상(Abnomal) 또는 기형(Abnomal)이 발견되는 경우에는 NT값 기준으로 진료비가 책정됩니다.\u001d\r결론적으로 NT값이 비정상이되면, 정밀초음파 검사에 대한 본인부담금은 50%만 적용됩니다. 하지만 제2태아부터는 제한적인 급여가 적용될 수 있습니다.\n",
            "따라서, 정밀초음파 검사\n"
          ]
        }
      ]
    },
    {
      "cell_type": "code",
      "source": [
        "gen(\"임신 제 1삼분기 정밀 초음파 검사는 언제 시행되며, 어떤 상황에서 이루어집니까?\")"
      ],
      "metadata": {
        "colab": {
          "base_uri": "https://localhost:8080/"
        },
        "id": "X8lh_Uk2wkrz",
        "outputId": "d947151e-ab0e-439c-c879-8ed47ac6c098"
      },
      "execution_count": 84,
      "outputs": [
        {
          "output_type": "stream",
          "name": "stderr",
          "text": [
            "Setting `pad_token_id` to `eos_token_id`:2 for open-end generation.\n"
          ]
        },
        {
          "output_type": "stream",
          "name": "stdout",
          "text": [
            "### 질문: 임신 제 1삼분기 정밀 초음파 검사는 언제 시행되며, 어떤 상황에서 이루어집니까?\n",
            "\n",
            "### 답변: 임신 제 1삼분기 정밀 초음파 검사는 임신 후 16~19주 사이에 시행되며, 산모의 혈류, 자궁의 크기, 심장질환, 태반 이상, 자궁경관, 자궁경부, 방광 등등 여러 가지 검사를 시행합니다. 이러한 정밀 검사는 초음파의 이용이 가능한 경우, 혹은 환자에게 초음파가 적절한 경우에 시행됩니다. 임신 제 1삼분기 초음파 검사 후, 만약 이상이 관찰되면 즉시 추가 검사를 시행하며, 이를 통해 원인을 파악하고 치료를 진행할 수 있습니다. 추가 정밀 검사를 통해 이상 부위가 더 확인될 때에는 태아기형아검사 등의 추가 검사를 시행하게 됩니다. 추가 정밀 검사는 비용이 발생할 수 있으며, 산모에게도 번거로운 과정일 수 있으므로 검사 전 주의사항 등을 미리 확인하고 시행하는 것이 좋습니다. \n",
            "임신 제 1삼분기 초음파 검사는 산모와 태아에게 있어 중요한 때이므로, 꼼꼼한 검사가 필요합니다. 검사가 시행되는 동안에는 산모는 되도록 안정된 상태를 유지하고, 의료진의 지시를 정확하게 지켜 검사를 진행할수록 좋습니다. 또한, 정밀 초음파 검사는 반드시 사전 예약을 통해 의료진의 협조를 요청해야 한다는 점을 기억해야 합니다. 임신 제 1삼분기에 시행되는 정기 검사에서 이상이 발견되면, 그 이후 추가 정밀 검사에 추가 비용이 발생할 수 있으므로, 검사 전 주의사항 등을 미리 확인하고 시행하는 것이 좋습니다.\n",
            "추가적인 검사가 필요한지는 검사 결과에서 알 수 있으므로, 의사와의 면밀한 상담이 중요합니다. 초음파 검사는 영상 기술을 이용한 검사로, 검사를 시행하기 전에 담당의사의 충분한 설명을 들어야 합니다. \n",
            "\n",
            "추가 정밀 검사가 필요한 경우, 추가 비용이 발생할 수 있으며, 임산부들에게 번거로운 절차일 수 있으므로 검사 전 주의사항과 검사 과정을 충분히 숙지하고 시행할 필요가 있습니다. 의사와 충분한 상담을 통해 검사 방법 등을 결정하는 것이 중요합니다. \n",
            "\n",
            "추가 정밀 검사가 필요한 경우, 병원마다 검사의 내용과 가격은 차이가 있을 수 있습니다. 따라서 정기 검사 전 의료진과의 상담을 통해 결정하는 것이 합리적입니다. \t 임신 제 1삼분기 검사에서 이상이 발견\n"
          ]
        }
      ]
    },
    {
      "cell_type": "code",
      "source": [
        "gen(\"\"\"\n",
        "다음 내용을 보고 질문에 답변 해줘\n",
        "임신 제 1삼분기(임신 13주 이하) 초음파 검사의 급여기준에 따르면, 산전진찰 목적으로 임신 13주 이하에 아래의 경우에 인정되며, 다태아의 경우 제2태아부터는 소정점수의 50%를 산정함. 정밀 초음파는 임신 11-13주에 NT값을 측정하는 경우에 1회만 인정되고, 의학적 판단에 따라 태아에게 이상이 있어 산정횟수를 초과해야 할 경우 해당 삼분기의 초음파로 산정하며, 임부의 특별한 상태에 해당하는 경우 '주'항에 따라 산정 가능함. (고시 제2023-105호)\n",
        "Q: 임신 제 1삼분기 '일반' 초음파 검사는 언제, 어떤 목적으로 시행되나요?\n",
        "A: 임신 제 1삼분기 또는 임신 13주 이하에서 '일반' 초음파 검사는 임신 여부 확인 및 자궁 및 부속기 종합적인 확인을 목적으로 시행됩니다.\n",
        "Q: 임신 제 1삼분기 '정밀' 초음파 검사는 언제 시행되며, 어떤 상황에서 이루어집니까?\n",
        "\"\"\")"
      ],
      "metadata": {
        "colab": {
          "base_uri": "https://localhost:8080/"
        },
        "id": "8rkPBnv-wkr-",
        "outputId": "4dc15c5f-d1c7-4ee2-fee6-26276476d6e6"
      },
      "execution_count": 83,
      "outputs": [
        {
          "output_type": "stream",
          "name": "stderr",
          "text": [
            "Setting `pad_token_id` to `eos_token_id`:2 for open-end generation.\n"
          ]
        },
        {
          "output_type": "stream",
          "name": "stdout",
          "text": [
            "### 질문: \n",
            "다음 내용을 보고 질문에 답변 해줘\n",
            "임신 제 1삼분기(임신 13주 이하) 초음파 검사의 급여기준에 따르면, 산전진찰 목적으로 임신 13주 이하에 아래의 경우에 인정되며, 다태아의 경우 제2태아부터는 소정점수의 50%를 산정함. 정밀 초음파는 임신 11-13주에 NT값을 측정하는 경우에 1회만 인정되고, 의학적 판단에 따라 태아에게 이상이 있어 산정횟수를 초과해야 할 경우 해당 삼분기의 초음파로 산정하며, 임부의 특별한 상태에 해당하는 경우 '주'항에 따라 산정 가능함. (고시 제2023-105호)\n",
            "Q: 임신 제 1삼분기 '일반' 초음파 검사는 언제, 어떤 목적으로 시행되나요?\n",
            "A: 임신 제 1삼분기 또는 임신 13주 이하에서 '일반' 초음파 검사는 임신 여부 확인 및 자궁 및 부속기 종합적인 확인을 목적으로 시행됩니다.\n",
            "Q: 임신 제 1삼분기 '정밀' 초음파 검사는 언제 시행되며, 어떤 상황에서 이루어집니까?\n",
            "\n",
            "\n",
            "### 답변: \n",
            "임신 제 1삼분기 '일반' 초음파 검사는 임신 여부 확인 및 자궁 및 부속기 종합적인 확인을 목적으로 시행됩니다. 임신 제 1삼분기 '초음파검사'는 임신 13주 이하의 경우에도 다태아의 경우에는 2회까지 인정됩니다. 임신 제 1삼분기라도 이전에 시행한 경우는 인정되지 않습니다. 이 과정에서 임신 제 1삼분기 '일반' 초음파 검사가 필요하다면, 제2태아 부터는 소정점수의 50%가 인정됩니다. 임신 제 1삼분기 '일반' 초음파 검사에서는 임신 부위를 확인하지 않습니다. 임신 제 1삼분기 '일반' 초음파 검사는 임신 초기에 자궁 및 부속기 확인을 목적으로 이루어지며, 임신 제 1삼분기는 자궁의 형태가 잘 만들어지지 않은 경우가 많기 때문에 태아의 확인은 쉽지 않습니다. 따라서, 임신 제 1삼분기 '정밀' 초음파 검사에서는 NT 값을 확인하는 것이 권고됩니다. 임신 제 1삼분기 '일반' 초음파 검사는 임신부의 특별한 상태에 해당하여 태아에게 이상이 있는 경우 또는 양수에 태아가 관찰되어 양수내 태아를 확인하는 경우에 1회 추가로 인정됩니다. 임신 제 1삼분기 '일반' 초음파 검사는 태아에게 이상이 있을까봐 필요하다기 보다는 확인 절차를 추가하고자 하는 경우인 경우에 많이 시행됩니다. 임신 제 1삼분기 '일반' 초음파 검사와 임신 제 1삼분기 '정밀' 초음파 검사 사이에서 선택할 시에 이 사이에서 선택할 필요는 없습니다. 임신 제 1삼분기 '일반' 초음파 검사는 임신 초기 확인에 필요한 검사이며, 임신 제 1삼분기 '정밀' 초음파 검사는 태아 상태 확인에 필요한 검사입니다. 임신 제 1삼분기 '정밀' 초음파 검사는 태아 상태 확인을 위한 필요 검사로, 임신 제 1삼분기 '일반' 초음파 검사로는 확인이 어려우니 임신 제 1삼분기는 정밀 검사를 시행하는 것이 권고됩니다. 임신 제 1삼분기 '일반' 초음파 검사에서는 NT값을 확인하지 않으니, 임신 제 1삼분기 '일반' 초음파 검사가 시행되어야 하는 경우에는 임신 부위를 확인하지 않는 '일반' 초음파 검사로 시행하여 불필요한 비용이 발생하\n"
          ]
        }
      ]
    },
    {
      "cell_type": "markdown",
      "source": [
        "## 임신 제 2, 3삼분기(임신 14주 이상) 초음파 검사의 급여기준"
      ],
      "metadata": {
        "id": "BnMOO61Xv2cR"
      }
    },
    {
      "cell_type": "code",
      "source": [
        "gen('임신 14주 이상에서 언제까지의 시기에 일반적인 임산부 초음파가 시행되며, 그에 따른 청구코드는 무엇인가요?')"
      ],
      "metadata": {
        "colab": {
          "base_uri": "https://localhost:8080/"
        },
        "id": "qFmKKsWBv2cS",
        "outputId": "3eb31446-71ef-4b60-87b4-467303ce3ca6"
      },
      "execution_count": 85,
      "outputs": [
        {
          "output_type": "stream",
          "name": "stderr",
          "text": [
            "Setting `pad_token_id` to `eos_token_id`:2 for open-end generation.\n"
          ]
        },
        {
          "output_type": "stream",
          "name": "stdout",
          "text": [
            "### 질문: 임신 14주 이상에서 언제까지의 시기에 일반적인 임산부 초음파가 시행되며, 그에 따른 청구코드는 무엇인가요?\n",
            "\n",
            "### 답변: 임신 14주 이상의 시기에 시행하는 일반적인 임산부 초음파는 아래와 같습니다. \n",
            "\n",
            "- 유방, 유륜, 하복부 : D1182- 자궁, 난소, 나팔관, 항문 등 : D7702- 자궁경부 : D1305- 질, 질경, 질구 : D1225.5- 경골, 대퇴골, 비뇨기계 : N0912- 복막 : N0900- 임신 제2분기 : N0099.9- 임신 제3분기 : N004.2- 임신 제4분기 : N005.4- 초산의 분만이 시작되는 시기의 경우는 N0900.1- 태아의 심박동, 박동 양상, 임신성 심장병 등에 대하여는 N0100- 태아의 발육 기형 등을 진단하는 경우는 N0301- 선천성 기형의 위치, 형태 등을 감별하고자 할 때에는 N0209- 선천성 기형의 정도 및 위치, 크기 등을 진단하고자 할 때에는 N0210- 기타 기형을 진단하는 경우는 N0406- 기타 원인에 의한 난소 낭종(난소결석포함)을 진단하는 경우는 N0304- 난소 낭종 이외의 자궁내막증 등의 진단은 N0210.1- 기타 원인에 의한 난소염, 자궁내막증, 자궁근종 등을 진단하는 경우, N0209- 기타 원인의 자궁 경관내 유착 등으로 인한 자궁외 임신, 자궁 경부결손 등으로 인한 자궁외 임신 등의 진단은 N0209.7- 기타 원인으로 인한 나팔관염, 자궁내막염 등의 진단은 N0207.8- 기타 원인의 난소낭종의 진단은 N0210.2- 기타 원인의 자궁 외 임신, 자궁외 임신으로 진단된 이후에 다시 나팔관 폐쇄의 진단은 N0201.7- 기타 원인으로 인한 자궁내막증 (만성 자궁내막증 포함) 및 기타 진단은 N0210.3- 기타 원인의 자궁경, 자궁경내 유착 등으로 인한 나팔관 폐쇄 등 진단은 N0202.7- 그 외 자궁과 난소의 질병의 진단은 N0209.8- 기타 원인으로 생긴 황\n"
          ]
        }
      ]
    },
    {
      "cell_type": "code",
      "source": [
        "gen(\"\"\"\n",
        "다음 내용을 보고 질문에 답변 해줘\n",
        "임신 제 2, 3삼분기(임신 14주 이상) 초음파 검사의 급여기준에 따르면, 산전진찰 목적으로 일반 및 정밀 초음파가 임신 14주부터 36주 이후까지 각 구간에 1회씩 인정되며, 의학적 판단에 따라 이상이 있거나 예상되어 산정횟수를 초과해야 할 경우 해당 삼분기의 초음파로 산정하며, '주'항 제외 시 입원 중 1일 1회만 산정됨. '주'항은 특정 상태(임부의 질환, 자궁 이상, 태반 이상 등)일 때 일부 추가 산정 가능함. (고시 제2023-105호)\n",
        "Q: 임신 중에 일반 초음파와 정밀 초음파를 모두 시행해야 하는 경우, 어떻게 산정되나요?\n",
        "A: 각 구간의 일반 초음파와 정밀 초음파를 더해 산정하며, 다태아의 경우 제2태아부터는 소정점수의 50%를 산정합니다.\n",
        "Q: 임신 14주 이상에서 언제까지의 시기에 일반적인 임산부 초음파가 시행되며, 그에 따른 청구코드는 무엇인가요?\n",
        "\"\"\")"
      ],
      "metadata": {
        "colab": {
          "base_uri": "https://localhost:8080/"
        },
        "id": "Z6MtzCBjv2cS",
        "outputId": "3963d33e-d632-4013-9353-001047d0c684"
      },
      "execution_count": 86,
      "outputs": [
        {
          "output_type": "stream",
          "name": "stderr",
          "text": [
            "Setting `pad_token_id` to `eos_token_id`:2 for open-end generation.\n"
          ]
        },
        {
          "output_type": "stream",
          "name": "stdout",
          "text": [
            "### 질문: \n",
            "다음 내용을 보고 질문에 답변 해줘\n",
            "임신 제 2, 3삼분기(임신 14주 이상) 초음파 검사의 급여기준에 따르면, 산전진찰 목적으로 일반 및 정밀 초음파가 임신 14주부터 36주 이후까지 각 구간에 1회씩 인정되며, 의학적 판단에 따라 이상이 있거나 예상되어 산정횟수를 초과해야 할 경우 해당 삼분기의 초음파로 산정하며, '주'항 제외 시 입원 중 1일 1회만 산정됨. '주'항은 특정 상태(임부의 질환, 자궁 이상, 태반 이상 등)일 때 일부 추가 산정 가능함. (고시 제2023-105호)\n",
            "Q: 임신 중에 일반 초음파와 정밀 초음파를 모두 시행해야 하는 경우, 어떻게 산정되나요?\n",
            "A: 각 구간의 일반 초음파와 정밀 초음파를 더해 산정하며, 다태아의 경우 제2태아부터는 소정점수의 50%를 산정합니다.\n",
            "Q: 임신 14주 이상에서 언제까지의 시기에 일반적인 임산부 초음파가 시행되며, 그에 따른 청구코드는 무엇인가요?\n",
            "\n",
            "\n",
            "### 답변: 임신 14주 이상에서 시행되는 초음파 검사는 일반적인 초음파 검사로 산정됩니다. 임신 제2, 3삼분기(임신 14주~임신 36주 미만)의 초음파 검사의 급여기준의 설명에 따르면, 임신 14주부터 36주 이후까지(다만, 산전진찰 목적으로 시행하는 초음파검사는 14주 이후부터) 시행되는 초음파 검사는 1회씩 인정된다는 내용이 있습니다. 임신 11주 이상~ 14주 미만은 일반으로, 임신 11주 미만은 나-521가(정밀초음파를 시행한 경우에 산정)로 인정됩니다. 임신 14주 이상의 경우에는 나-521나(초음파 수기검사)로 인정됩니다. 임신 중 초음파 검사와 관련한 자세한 내용은 아래 링크를 참고해주세요.\n",
            "\n",
            "임신 중 초음파 급여기준 (국민건강보험심사평가원)\n",
            "\n",
            "http://search.hira.or.kr/detail/detailView.do?brdszno=527583&pageIndex=0&deltaSearchCt=1&psvrdcat=0&impress=OBJ&searchType=TITLE&pageIndex=1&skey=&keyword=&catIndex=8&cateType=B0&vrdcat=0&spmimg=0&svrdcat=0&psvrdcat=0&spmimg=10&jeffAbs=&minAbs=0&maxAbs=0&jeffCons=1&subjeffCons=0&totaljeffCons=1&jeffAbs=0&maxAbs=0&jeffCons=1&totaljeffCons=0&subjeffCons=0&totaljeffCons=0&executype=2&frmMode=2&page=1&subjeffCons=0&searchT\n"
          ]
        }
      ]
    },
    {
      "cell_type": "code",
      "source": [
        "gen('초음파 검사의 급여 인정 횟수는 어떻게 결정되고, 다태아의 경우 어떻게 산정되나요?')"
      ],
      "metadata": {
        "colab": {
          "base_uri": "https://localhost:8080/"
        },
        "id": "fEKCGBxHw5gA",
        "outputId": "387446d8-68c3-44ad-a151-72cca1026a17"
      },
      "execution_count": 87,
      "outputs": [
        {
          "output_type": "stream",
          "name": "stderr",
          "text": [
            "Setting `pad_token_id` to `eos_token_id`:2 for open-end generation.\n"
          ]
        },
        {
          "output_type": "stream",
          "name": "stdout",
          "text": [
            "### 질문: 초음파 검사의 급여 인정 횟수는 어떻게 결정되고, 다태아의 경우 어떻게 산정되나요?\n",
            "\n",
            "### 답변: 일반 체외 진단 검사료는 해당 검사료 금액의 40%를 건강보험에서 지불하는 것을 기준으로 급여 인정 횟수에 따라 급여가 결정됩니다. 초음파 검사 급여인정 횟수는 보험급여 대상 질환과 급여 대상 진단방법이 일치하는 경우 1회 실시하는 것을 원칙으로 하며, 급여 횟수는 보험급여 대상 질환이 진단 목적상 추가적 실시를 필요로 하는 검사인 경우와 보험급여 대상 질환의 치료에 반드시 필요한 검사인 경우에 해당하여 추가적 실시가 가능한 경우는 2회 실시입니다. 해당 검사료에 대해 추가적인 실시가 2회 가능한 경우인 경우와 급여 횟수 초과시에 해당 검사료는 본인부담금이 발생하며, 보험급여 대상 질환의 치료 목적으로 실시되는 경우, 해당 검사료는 외래진료시 1회만 산정됩니다. 다태아의 경우에는 각각의 태아에 대하여 각각 급여가 인정되며, 해당 금액의 20%, 각각의 태아별로 각각 급여가 인정됩니다. 따라서, 임신 기간 중에 초음파 검사를 2회 실시한 경우 총 20%를 지불하는 것입니다. 자세한 내용은 아래의 파일과 공단 홈페이지에서 확인할 수 있습니다. 2020/04/22 - [건강보험과 의약 정보] - 자궁초음파 급여 기준 2020/04/22 - [건강보험과 의약 정보] - 초음파검사 급여기준 2020/04/22 - [건강보험과 의약 정보] - 초음파영상진단(급여) 건강보험 적용 기준 2020/04/22 - [건강보험과 의약 정보] - 건강보험 초음파검사 급여 기준 \n",
            " ### 답변: 공단 홈페이지: http://www.nhis.or.kr/main.do 진료비 확인: http://www.hospital.or.kr/diagnosis/diagnosis.do?jsp_menu_sn_view_path=/longview.mediho.no/diagnosis/diagnosis.do?jsp_path=/medicalinfo/diagnosis/state_list.do?rslt_cl_start=R&dg\n"
          ]
        }
      ]
    },
    {
      "cell_type": "code",
      "source": [
        "gen(\"\"\"\n",
        "다음 내용을 보고 질문에 답변 해줘\n",
        "임신 제 2, 3삼분기(임신 14주 이상) 초음파 검사의 급여기준에 따르면, 산전진찰 목적으로 일반 및 정밀 초음파가 임신 14주부터 36주 이후까지 각 구간에 1회씩 인정되며, 의학적 판단에 따라 이상이 있거나 예상되어 산정횟수를 초과해야 할 경우 해당 삼분기의 초음파로 산정하며, '주'항 제외 시 입원 중 1일 1회만 산정됨. '주'항은 특정 상태(임부의 질환, 자궁 이상, 태반 이상 등)일 때 일부 추가 산정 가능함. (고시 제2023-105호)\n",
        "Q: 정밀한 임산부 초음파는 언제 시행되며, 그에 해당하는 청구코드와 횟수는 어떻게 되나요?\n",
        "A: 정밀한 임산부 초음파는 임신 16주 이후에 시행되며, 청구코드는 EB517이며, 횟수는 1회입니다.\n",
        "Q: 초음파 검사의 급여 인정 횟수는 어떻게 결정되고, 다태아의 경우 어떻게 산정되나요?\n",
        "\"\"\")"
      ],
      "metadata": {
        "colab": {
          "base_uri": "https://localhost:8080/"
        },
        "id": "Yvi5DDkMw5gH",
        "outputId": "b7d54f3c-7fba-4c63-c05c-180772458908"
      },
      "execution_count": 88,
      "outputs": [
        {
          "output_type": "stream",
          "name": "stderr",
          "text": [
            "Setting `pad_token_id` to `eos_token_id`:2 for open-end generation.\n"
          ]
        },
        {
          "output_type": "stream",
          "name": "stdout",
          "text": [
            "### 질문: \n",
            "다음 내용을 보고 질문에 답변 해줘\n",
            "임신 제 2, 3삼분기(임신 14주 이상) 초음파 검사의 급여기준에 따르면, 산전진찰 목적으로 일반 및 정밀 초음파가 임신 14주부터 36주 이후까지 각 구간에 1회씩 인정되며, 의학적 판단에 따라 이상이 있거나 예상되어 산정횟수를 초과해야 할 경우 해당 삼분기의 초음파로 산정하며, '주'항 제외 시 입원 중 1일 1회만 산정됨. '주'항은 특정 상태(임부의 질환, 자궁 이상, 태반 이상 등)일 때 일부 추가 산정 가능함. (고시 제2023-105호)\n",
            "Q: 정밀한 임산부 초음파는 언제 시행되며, 그에 해당하는 청구코드와 횟수는 어떻게 되나요?\n",
            "A: 정밀한 임산부 초음파는 임신 16주 이후에 시행되며, 청구코드는 EB517이며, 횟수는 1회입니다.\n",
            "Q: 초음파 검사의 급여 인정 횟수는 어떻게 결정되고, 다태아의 경우 어떻게 산정되나요?\n",
            "\n",
            "\n",
            "### 답변: \n",
            "- 임신 시기별 초음파 급여 기준은 임신 14주 이상~ 임신 36주 미만인 경우 1회, 임신 36주 이상~ 분만까지는 2회 적용되며, 이와 같은 급여 기준은 일반적인 급여 기준의 원칙에 따라 정해지며, 초음파 검사는 진단 및 치료와 무관하게 모두 급여 대상이며, 급여 기준에 해당하는 검사는 다음과 같습니다.\n",
            "- 임신 주수 15주~24주까지는 다태아(쌍둥이 등) 임신인 경우 각각 초음파 검사로 급여 적용되며, 임신 주수 25주~36주는 양수과다증, 임신 주수 35주 이상은 양막강, 자궁선종, 자궁근종 및 난소낭종과 같은 이상 유무를 확인하기 위해 급여 적용됩니다. \n",
            "- 임신 주수 35주 이상으로 양수과다증, 양수이상, 양수부족 등 이상이 있을 때와 임신 주수 36주 이후로는 태아의 크기 등의 이유로 1회 초음파 추가 급여가 필요하여 초음파 검사를 실시할 수 있으나, 의학적 판단에 따라 이상이 있거나 예상되어 산정횟수를 초과해야 할 경우 해당 삼분기(임신 14주 이상~ 임신 36주 이후)의 초음파로 산정됩니다.\n",
            "- 다태아는 임신 주수에 관계없이 연속하여 각각 산정하며, 그 외는 일반적으로는 각각의 검사 방법에 따라 각각 검사를 실시해야 합니다.\n",
            "- 따라서, 임신 주수에 따라 급여 대상인 초음파 검사는 개별적으로 각각 검사를 시행해야 하며, 임신 주수 35주 이후 1회 추가 급여 대상인 초음파 검사는 양수과다증, 양수부족 등 이상 유무를 확인하기 위해 급여 적용됩니다.\r- 특정 상태(임부의 질환, 자궁 이상, 태반 이상 등)일 때 추가 급여 대상인 초음파 검사는 해당 임부에 해당하는 특정 상태에 대한 처치 및 치료를 위한 추가 진단이나 치료가 필요한 경우 해당 임부의 임신 주수에 관계없이 1회 추가 급여 가능합니다.- 임신 초기 1회 추가 급여 대상인 초음파 검사도 임신 주수 35주 이후 1회 추가 적용되며, 급여 적용 대상인지 확인하기 위해 임신 초기(14주 이전)와 분만 전(36주 이전)에 실시한 검사에 대해서는 별도의 추가가 필요하며, 급여는 실시 횟수에 한하여\n"
          ]
        }
      ]
    },
    {
      "cell_type": "code",
      "source": [
        "gen('입원 중에 임산부 초음파가 필요한 경우, 어떻게 산정되며 횟수에 제한이 있나요?')"
      ],
      "metadata": {
        "colab": {
          "base_uri": "https://localhost:8080/"
        },
        "id": "a_-Jh_4zw5wv",
        "outputId": "1459ba09-f5b1-4ca4-de73-6fa538598cd0"
      },
      "execution_count": 89,
      "outputs": [
        {
          "output_type": "stream",
          "name": "stderr",
          "text": [
            "Setting `pad_token_id` to `eos_token_id`:2 for open-end generation.\n"
          ]
        },
        {
          "output_type": "stream",
          "name": "stdout",
          "text": [
            "### 질문: 입원 중에 임산부 초음파가 필요한 경우, 어떻게 산정되며 횟수에 제한이 있나요?\n",
            "\n",
            "### 답변: 입원 중인 산모가 태아안녕평가 등 관련 산전검사를 받기 위해 영상검사를 시행한 경우, 해당 영상 검사는 외래 진료 시와 달리 진료 기간에 제한 없이 시행한 분만 또는 수술 관련 검사에 해당합니다. 따라서 분만 전 상태에 대한 평가 등 관련 영상검사는 진료 기간 제한 없이 시행할 수 있으며, 이를 위해 태아 수 및 자궁 크기 등을 파악하는 영상검사가 필요한 경우에도 외래에서 받는 산전검사와 달리 수회 검사 등 필요한 검사를 시행하는 것으로 진료 기간에 제한 없이 진료할 수 있습니다. 다만, 제왕절개술 등 분만 관련 처치나 수술 관련 검사로 입원 중에 시행한 검사는 진료 기간이 진료상 추가적으로 필요한 분만 처치 및 수술 후 경과 관찰의 기간을 고려하여 최대 70일까지 산정할 수 있습니다. 임신, 분만 관련 진료를 위해 자궁초음파, 복부초음파, 질초음파 등이 필요한 경우에도 외래 진료 시와 달리 입원 등 진료기간에 제한 없이 검사를 시행할 수 있으며, 이때에도 자궁크기와 아기 위치 및 다른 문제 등의 사항을 확인하는 등 산후 처치를 위해 필요한 검사는 외래에서 시행한 산전검사와 달리 수회 시행하는 것으로 진료 일수 제한 없이 산정 가능합니다. \n",
            "따라서 입원 중에 시행하는 초음파검사는 산모가 건강한 분만을 하기 위한 산전검사 등 필요한 경우 필요한 만큼 자주 시행할 수 있습니다. 임신부 산전 및 산후 초음파의 경우, 의료기관에서 임신, 분만, 출산과 관련하여 초음파 검사가 필요하여 검사를 시행하였다면 소정 금액을 산정할 수 있으며, 초음파 검사 세부내역은 다음과 같이 실시되어지고 있습니다.\u001d\n",
            "산모 초음파: 소정금액의 80% \n",
            "\n",
            "태아: 20% �임신확인: 12회 이하 \n",
            "<|sep|>태아정밀: 1회 150만원\n",
            " 제왕절개술: 1회 150만원\n",
            " \n",
            "분만: 태아 머리 지름과 탯줄 목 지름 확인, 1회 이상 \n",
            " \n",
            " \n",
            "산후초음파: 산모의 자궁, 생식기와 관련된 검사이며, 분만 후 1주 이내에 3회 이상 같은 부위를 반복하여 검사할 수 있습니다. 해당 산전/후 검사비용은 의료기관 내에서 실시하는\n"
          ]
        }
      ]
    },
    {
      "cell_type": "code",
      "source": [
        "gen(\"\"\"\n",
        "다음 내용을 보고 질문에 답변 해줘\n",
        "임신 제 2, 3삼분기(임신 14주 이상) 초음파 검사의 급여기준에 따르면, 산전진찰 목적으로 일반 및 정밀 초음파가 임신 14주부터 36주 이후까지 각 구간에 1회씩 인정되며, 의학적 판단에 따라 이상이 있거나 예상되어 산정횟수를 초과해야 할 경우 해당 삼분기의 초음파로 산정하며, '주'항 제외 시 입원 중 1일 1회만 산정됨. '주'항은 특정 상태(임부의 질환, 자궁 이상, 태반 이상 등)일 때 일부 추가 산정 가능함. (고시 제2023-105호)\n",
        "Q: 임부의 질환으로 인한 초음파 산정을 위해 나951나(1) '주'항이 산정될 수 있는 경우의 예시는 무엇인가요?\n",
        "A: 나951나(1) '주'항은 임부의 질환으로 인해 발생하는 문제의 예시로는 임신성 당뇨병, 고혈압 등이 있습니다.\n",
        "Q: 입원 중에 임산부 초음파가 필요한 경우, 어떻게 산정되며 횟수에 제한이 있나요?\n",
        "\"\"\")"
      ],
      "metadata": {
        "colab": {
          "base_uri": "https://localhost:8080/"
        },
        "id": "dv8mXP_Uw5ww",
        "outputId": "dfab0eb4-85d2-4281-ced9-1a56488020fc"
      },
      "execution_count": 90,
      "outputs": [
        {
          "output_type": "stream",
          "name": "stderr",
          "text": [
            "Setting `pad_token_id` to `eos_token_id`:2 for open-end generation.\n"
          ]
        },
        {
          "output_type": "stream",
          "name": "stdout",
          "text": [
            "### 질문: \n",
            "다음 내용을 보고 질문에 답변 해줘\n",
            "임신 제 2, 3삼분기(임신 14주 이상) 초음파 검사의 급여기준에 따르면, 산전진찰 목적으로 일반 및 정밀 초음파가 임신 14주부터 36주 이후까지 각 구간에 1회씩 인정되며, 의학적 판단에 따라 이상이 있거나 예상되어 산정횟수를 초과해야 할 경우 해당 삼분기의 초음파로 산정하며, '주'항 제외 시 입원 중 1일 1회만 산정됨. '주'항은 특정 상태(임부의 질환, 자궁 이상, 태반 이상 등)일 때 일부 추가 산정 가능함. (고시 제2023-105호)\n",
            "Q: 임부의 질환으로 인한 초음파 산정을 위해 나951나(1) '주'항이 산정될 수 있는 경우의 예시는 무엇인가요?\n",
            "A: 나951나(1) '주'항은 임부의 질환으로 인해 발생하는 문제의 예시로는 임신성 당뇨병, 고혈압 등이 있습니다.\n",
            "Q: 입원 중에 임산부 초음파가 필요한 경우, 어떻게 산정되며 횟수에 제한이 있나요?\n",
            "\n",
            "\n",
            "### 답변: \n",
            "다음 내용을 참고하여 답변 드립니다. 임산부 초음파 검사는 초음파 검사의 급여기준에 따라 적용됩니다. 해당 검사는 임산부의 임신 14주 이후부터 36주 이후까지 실시할 수 있으며, 필요한 상황에 따라 인정 횟수 범위 내에서 급여로 인정됩니다. -- \n",
            "하지만 임부의 질환이 발생한 경우엔 나951나(1) '주'항이 산정될 수 있습니다. -- \n",
            "제2,3삼분기(임신 14주 이상) 초음파 검사의 급여기준에 따르면, 산전진찰 목적으로 일반 및 정밀 초음파가 임신 14주부터 36주 이후까지 각 구간에 1회씩 인정되며, 의학적 판단에 따라 이상이 있거나 예상되어 산정횟수를 초과해야 할 경우 해당 삼분기의 초음파로 산정하며, <|sep|>그 외에, 일반 초음파 중 복부초음파는 임신 14주부터 20주까지는 산전 기본검사로, 임신 26주부터 분만 전까지는 산전 정기검사로 각각 1회씩 급여로 인정됩니다. -- 예를 들어, 임신성 당뇨의 경우, 임부 질환의 예시로 임신성 당뇨병과 고혈압 등이 있으며, 이에 따라 임신성 당뇨병은 제2, 3삼분기부터 급여로 인정됩니다.<|sep|>그리고, 입원 중 임산부 초음파가 필요하다면 '주'항에 따라 '주'항이 산정되는 경우를 제외하고, 나951나(1) '주'항으로 산정됩니다.\n",
            "\n",
            "산모의 상태에 따라 검사를 실시하는 경우, 나951나(1) '주'항이 산정될 수 있으며, 이 경우 임신 주수에 따라 인정률이 상이하므로 자세한 내용은 해당 산부인과 전문의에게 문의해 보시기 바랍니다.\n",
            "자세한 사항은 관련 과 혹은 소아과에서 추가로 문의하시기 바랍니다.\n",
            "추가적으로 임신 중 초음파는 임신 주수에 따라 급여 인정횟수를 다르게 적용받습니다. 임신 주수가 20주 이내의 경우나, 임신 초기(임신 4주~14주, 임신 20주 이후부터)에 발생한 임부 질환으로 의사가 초음파 검사가 필요하다고 판단할 경우, 관련 급여 기준에 따라서 급여를 인정받을 수 있습니다.\n",
            "\n",
            "또한 해당 급여기준을 초과하여 산정할 경우, 초과하는 횟수만\n"
          ]
        }
      ]
    },
    {
      "cell_type": "code",
      "source": [
        "gen(\"나951나(1) 주항이 산정 가능한 경우의 예시를 몇 가지 알려주세요.\")"
      ],
      "metadata": {
        "colab": {
          "base_uri": "https://localhost:8080/"
        },
        "id": "CSarWkamw59X",
        "outputId": "4346c84c-af84-4da1-af79-b3da54611a65"
      },
      "execution_count": 91,
      "outputs": [
        {
          "output_type": "stream",
          "name": "stderr",
          "text": [
            "Setting `pad_token_id` to `eos_token_id`:2 for open-end generation.\n"
          ]
        },
        {
          "output_type": "stream",
          "name": "stdout",
          "text": [
            "### 질문: 나951나(1) 주항이 산정 가능한 경우의 예시를 몇 가지 알려주세요.\n",
            "\n",
            "### 답변: 아래의 예시를 참고하면 산정할 때 도움이 될 것입니다.�예시를 살펴보면, \n",
            "ㆍ 선천성 난청으로 청각장애가 심한 1급의 장애인이 보청기를 구입하여 보조를 받을 때 나915다 항을 산정ㆍ 청각장애 2급~6급까지 보청기를 구입하여 국가보조 지원을 받을 때 나1003 나항 및 나921나(2) 주항에 따라 보청기용 구입금액 지원ㆍ 6세 미만의 아동이 보청기를 구입하고 재활훈련 등의 지원을 받을 때 나924가(2) 주항을 산정ㆍ 보청기 없이 의사소통이 불가능한 장애인이 청각보조인공와우를 구입하여 지원받을 때 나940가 주항을 산정ㆍ 6개월간의 청각장애아 재활치료 지원을 받을 때 나949다(1) 항을 산정illustrator ㆍ 나915다(2) 나1003 나항 및 나921나(2) 주항에 따라 보청기 구입금액 지원ㆍ구분내용ㆍ 나951나(1)ㆍ 보청기 구입금액 지원ㆍ 나915다(2)ㆍ 나1003 나항ㆍ 구 분 나948ㆍ 보청기 구입금액 지원ㆍ 나941ㆍ 나954가ㆍ 보청기 구입금액 지원ㆍ 나941나ㆍ 보청기 구입금액 지원ㆍ 나941가ㆍ 보청기를 1개 구입할 때 나1003 나항 및 나921나(2) 주항을 각각 산정illustrator ㆍ 나946가ㆍ 구입한 보청기의 실구입금액 지원ㆍ 나951나(1)ㆍ 보청기 비용만 지원ㆍ구분내용ㆍ 나941ㆍ 청각장애아 재활치료 지원ㆍ 나948ㆍ 보청기 구입금액 지원ㆍ구분내용ㆍ 나941나ㆍ 보청기 구입금액 지원ㆍ 나940ㆍ 청각장애아 재활치료 지원ㆍ 나953가ㆍ 보청기를 2개 구입할 때 나1003 나항 및 나921나(2) 주항을 각각 산정illustrator ㆍ 나945나ㆍ 보청기 구입금액 지원ㆍ 나940나ㆍ 청각장애아 재활치료 지원ㆍ 나954ㆍ 보청기를 2개 구입할 때 나1003 나항 및 나921나(2) 주항을 각각 산정illustrator ㆍ 나953가ㆍ 보청기 구입금액 지원ㆍ 나9\n"
          ]
        }
      ]
    },
    {
      "cell_type": "code",
      "source": [
        "gen(\"\"\"\n",
        "다음 내용을 보고 질문에 답변 해줘\n",
        "임신 제 2, 3삼분기(임신 14주 이상) 초음파 검사의 급여기준에 따르면, 산전진찰 목적으로 일반 및 정밀 초음파가 임신 14주부터 36주 이후까지 각 구간에 1회씩 인정되며, 의학적 판단에 따라 이상이 있거나 예상되어 산정횟수를 초과해야 할 경우 해당 삼분기의 초음파로 산정하며, '주'항 제외 시 입원 중 1일 1회만 산정됨. '주'항은 특정 상태(임부의 질환, 자궁 이상, 태반 이상 등)일 때 일부 추가 산정 가능함. (고시 제2023-105호)\n",
        "Q: 임신 제2, 3삼분기 초음파 검사의 급여 인정 기준 중에서 일반 초음파와 정밀 초음파의 차이는 무엇인가요?\n",
        "A: 임신 제2, 3삼분기 초음파 검사에서 일반 초음파는 임신 14-19주, 20-35주, 36주 이후 각각 1회씩 시행 가능하며, 정밀 초음파는 임신 16주 이후 1회로 제한됩니다.\n",
        "Q: 나951나(1) '주'항이 산정 가능한 경우의 예시를 몇 가지 알려주세요.\n",
        "\"\"\")"
      ],
      "metadata": {
        "colab": {
          "base_uri": "https://localhost:8080/"
        },
        "id": "EAIk6B_Zw59Y",
        "outputId": "08dff404-9d03-4fc1-c332-d84e673530bd"
      },
      "execution_count": 92,
      "outputs": [
        {
          "output_type": "stream",
          "name": "stderr",
          "text": [
            "Setting `pad_token_id` to `eos_token_id`:2 for open-end generation.\n"
          ]
        },
        {
          "output_type": "stream",
          "name": "stdout",
          "text": [
            "### 질문: \n",
            "다음 내용을 보고 질문에 답변 해줘\n",
            "임신 제 2, 3삼분기(임신 14주 이상) 초음파 검사의 급여기준에 따르면, 산전진찰 목적으로 일반 및 정밀 초음파가 임신 14주부터 36주 이후까지 각 구간에 1회씩 인정되며, 의학적 판단에 따라 이상이 있거나 예상되어 산정횟수를 초과해야 할 경우 해당 삼분기의 초음파로 산정하며, '주'항 제외 시 입원 중 1일 1회만 산정됨. '주'항은 특정 상태(임부의 질환, 자궁 이상, 태반 이상 등)일 때 일부 추가 산정 가능함. (고시 제2023-105호)\n",
            "Q: 임신 제2, 3삼분기 초음파 검사의 급여 인정 기준 중에서 일반 초음파와 정밀 초음파의 차이는 무엇인가요?\n",
            "A: 임신 제2, 3삼분기 초음파 검사에서 일반 초음파는 임신 14-19주, 20-35주, 36주 이후 각각 1회씩 시행 가능하며, 정밀 초음파는 임신 16주 이후 1회로 제한됩니다.\n",
            "Q: 나951나(1) '주'항이 산정 가능한 경우의 예시를 몇 가지 알려주세요.\n",
            "\n",
            "\n",
            "### 답변: \u001c \n",
            "저출산 시대에 임신과 출산이 많은 여성들에게 중요한 화두가 된 가운데, 해당 내용은 임신과 출산에 관한 내용과 관련된 의학적 판단에 의한 진료를 시행하는 경우에 대한 부분이 포함되어 있습니다. \n",
            "\n",
            "일반적으로 초음파 검사는 질환 등 검사가 필요한 경우에 시행하고 있으며, 임신 기간 중 시행되는 검사는 임신 제2~3 삼분기에서의 초음파 검사는 진료의 필요성에 따라서, 산전진찰 목적으로 시행되는 경우에 가능합니다.\n",
            "\n",
            "위의 내용을 참고하시면, 임신 기간 중에 시행되는 검사 중에서 진료에 필요한 경우 급여가 가능하며, 진료에 필요한 경우에 따라서 해당 구간에 따라 추가적인 검사가 필요한 경우에 해당하며, 이는 의사의 의학적 판단에 따라 결정되는 부분임을 참고할 수 있습니다. \n",
            "\n",
            "따라서, 임신 기간 중 시행되는 초음파 검사를 받을 때, 이에 대한 내용을 참고하여 진료의 필요성에 따라 급여가 가능함을 참고할 수 있습니다. \n",
            "따라서, 임신 기간 중 초음파 검사를 받으실 때에는 진료에 관한 내용을 참고하여 급여가 가능함을 참고할 수 있습니다. \n",
            "추가적으로, 임신 기간 중 검사를 시행할 때, 이를 참고하여 진료에 필요한 판단으로 급여가 가능하더라도, 검사를 시행하기 전에 해당 내용에 대해서 담당 의사에게 문의하여 진행하시는 것도 방법입니다. \n",
            "참고로, 임신 중에는 신체적 변화가 다양하여 정기적으로 검사를 시행하여 이상 여부를 확인하고, 특히 태아의 성장 등에 따라 검사를 하여, 태아의 건강 상태에 관심을 갖는 것이 필요합니다. \n",
            "하지만, 이 또한 진료의 필요성에 따라 담당 의사의 의학적 판단에 따라 결정되는 부분이므로, 이와 관련된 내용을 참고하여 진료를 받고 검사가 진행되는 것이 필요합니다. \n",
            "마지막으로, 임신 기간 중 진료는 해당 내용을 참고하여 결정되는 부분인 만큼, 이를 참고하여 검진 시 병원 방문 시 담당 의사와 상의하여 진료를 받으시는 것을 권해드립니다. \n",
            "따라서, 자세한 내용은 해당 내용을 확인해보시고, 질문자님의 상황\n"
          ]
        }
      ]
    },
    {
      "cell_type": "markdown",
      "source": [
        "## 임신부에게 실시하는 100g 경구 포도당부하검사의 급여기준"
      ],
      "metadata": {
        "id": "UlVyf9jFv2nD"
      }
    },
    {
      "cell_type": "code",
      "source": [
        "gen('임신성 당뇨병의 고위험군은 어떤 기준으로 정의되나요?')"
      ],
      "metadata": {
        "colab": {
          "base_uri": "https://localhost:8080/"
        },
        "id": "U249uM7Ev2nE",
        "outputId": "27505d2f-b491-4aae-d43c-3c535b716e36"
      },
      "execution_count": 93,
      "outputs": [
        {
          "output_type": "stream",
          "name": "stderr",
          "text": [
            "Setting `pad_token_id` to `eos_token_id`:2 for open-end generation.\n"
          ]
        },
        {
          "output_type": "stream",
          "name": "stdout",
          "text": [
            "### 질문: 임신성 당뇨병의 고위험군은 어떤 기준으로 정의되나요?\n",
            "\n",
            "### 답변: 임신성 당뇨병은 임신과 동시에 혈액 내 당의 농도가 증가하는 질환입니다. 임신 중에는 임신성 호르몬과 내분비계에서 작용하게 되는데, 이 작용하는 과정에서 많은 양의 글루코스(glucose)가 혈액 내에 증가하게 되는 것입니다. 따라서, 임신성 당뇨병은 임신 시 발생하며 출산 후 12주 이내에 대부분 사라지게 됩니다. \n",
            "\n",
            "임신성 당뇨병은 임신성 당뇨병의 위험 인자를 가진 여성, 즉 가족력이 있거나 당뇨가 있는 여성에게서 더 높은 빈도로 발생하지만, 여성만이 위험한 것은 아닙니다. 보통 다음과 같은 요인들이 있습니다.\n",
            "\n",
            "1. 모체와 태아의 영향을 받는 유전자와 관련된 인자들 \n",
            "2. 임신 중, 자궁 내에서 분비되는 호르몬 \n",
            "3. 임신 중에 증가하는 임신성 호르몬 \n",
            "4. 임신 중 모체의 인슐린에 대한 저항성 \n",
            "5. 임신성 빈혈 \n",
            "6. 당뇨병 가족력 \n",
            "7. 고령 임신 \n",
            "8. 임신 중독증 \n",
            "\n",
            "9. 인슐린 저항성 \n",
            "10. 임신으로 인한 모체의 대사 변화 \n",
            "\n",
            "11. 모체의 대사 이상 \t\n",
            "12. 임신성 고혈압 \n",
            "\n",
            "13. 제왕 절개와 같은 분만 이상 \n",
            "\n",
            "14. 임신 중 발생하는 태아의 문제 \n",
            "15. 태아의 유전적 결함 \n",
            "\n",
            "따라서, 임신성 당뇨병의 고위험군 기준은 \n",
            "\n",
            "1. 모체와 태아의 영향을 받는 유전자와 관련된 인자들 \n",
            "2. 임신 중, 자궁 내에서 분비되는 호르몬 \n",
            "3. 임신 중 모체의 인슐린에 대한 저항성 \n",
            "4. 임신성 빈혈 \n",
            "5. 당뇨병 가족력 \n",
            "6. 고령 임신 \n",
            "7. 임신으로 인한 모체의 대사 변화 \n",
            "8. 임신성 고혈압 \n",
            "9. 제왕 절개와 같은 분만 이상 \n",
            "10. 분만 시 태아의 문제 \n",
            "\n",
            "11. 태어의 유전적 결함 \n",
            " 임신성 당뇨병의 위험군에 대해 구체적으로 궁금하신 점이 있는 경우, 추가적인 질문을 남겨주시기 바랍니다. \n",
            "\n",
            " ### 답변: 임신성 당뇨병이라는 것이 무엇인가요? \n",
            "\n",
            "\n"
          ]
        }
      ]
    },
    {
      "cell_type": "code",
      "source": [
        "gen(\"\"\"\n",
        "다음 내용을 보고 질문에 답변 해줘\n",
        "임신부에게 시행하는 100g 경구 포도당부하검사의 급여기준은 50g 경구 포도당부하검사 결과가 140㎎/㎗ 이상인 경우에 인정되며, 임신성 당뇨병의 고위험군에 해당하는 경우에도 급여가 가능하며, 수가산정 방법은 Glucose 측정 시 수기료는 누302나 당검사화학반응-장비측정으로 산정하고, 부하검사 시 사용된 약제는 별도로 인정함. 추가로, 세부적인 산정 기준은 건강보험 행위 급여·비급여 목록표에 따라 결정됨. (고시 제2017-265호)\n",
        "Q: 100g 경구 포도당부하검사를 실시하는 임신부의 급여 기준은 무엇인가요?\n",
        "A: 100g 경구 포도당부하검사는 50g 경구 포도당부하검사 결과가 140㎎/㎗ 이상인 경우에 급여로 인정됩니다.\n",
        "Q: 임신성 당뇨병의 고위험군은 어떤 기준으로 정의되나요?\n",
        "\"\"\")"
      ],
      "metadata": {
        "colab": {
          "base_uri": "https://localhost:8080/"
        },
        "id": "R4eyDHGNv2nE",
        "outputId": "09a9ed63-7e59-407c-ec4d-f51b8fda57d5"
      },
      "execution_count": 94,
      "outputs": [
        {
          "output_type": "stream",
          "name": "stderr",
          "text": [
            "Setting `pad_token_id` to `eos_token_id`:2 for open-end generation.\n"
          ]
        },
        {
          "output_type": "stream",
          "name": "stdout",
          "text": [
            "### 질문: \n",
            "다음 내용을 보고 질문에 답변 해줘\n",
            "임신부에게 시행하는 100g 경구 포도당부하검사의 급여기준은 50g 경구 포도당부하검사 결과가 140㎎/㎗ 이상인 경우에 인정되며, 임신성 당뇨병의 고위험군에 해당하는 경우에도 급여가 가능하며, 수가산정 방법은 Glucose 측정 시 수기료는 누302나 당검사화학반응-장비측정으로 산정하고, 부하검사 시 사용된 약제는 별도로 인정함. 추가로, 세부적인 산정 기준은 건강보험 행위 급여·비급여 목록표에 따라 결정됨. (고시 제2017-265호)\n",
            "Q: 100g 경구 포도당부하검사를 실시하는 임신부의 급여 기준은 무엇인가요?\n",
            "A: 100g 경구 포도당부하검사는 50g 경구 포도당부하검사 결과가 140㎎/㎗ 이상인 경우에 급여로 인정됩니다.\n",
            "Q: 임신성 당뇨병의 고위험군은 어떤 기준으로 정의되나요?\n",
            "\n",
            "\n",
            "### 답변: \n",
            "임신성 당뇨병의 고위험군은 다음과 같습니다�- 고령(32세 이상) \n",
            "- 과체중아 분만경력 \n",
            "- 4번 이상 분만아 출신 \n",
            "- 과거 임신성 당뇨병 병력 \n",
            "- 임신 중 공복혈당이 140mg/dl 이상인 경우 \n",
            "- 4번 이상 임신 중 분만된 자궁저부의 높이가 5cm 이상인 경우 \n",
            "\n",
            "따라서, 100g 경구 포도당부하검사 결과가 140㎎/㎗ 이상인 임산부는 고위험군에 해당됩니다. 추가로, 산모의 나이가 32세 이상이라면 고위험군으로 분류됩니다.\n",
            "임신성당뇨병의 고위험군에 해당하는 임신부 중 고위험군 임산부의 경우에는 100g 경구 포도당부하검사의 급여 조건을 충족시킬 때에는 급여가 가능합니다. 단, 100g 경구 포도당부하검사를 실시하는 과정에서 포도당 측정 약제로 누302 경구 포도당검제화학반응-장비측정으로 산정하고, 부하검사 시 사용되는 약제는 별도로 인정됩니다.\n",
            "예를 들어, 100g 경구 포도당부하검사를 시행하는 과정에서 누302나  포도당 측정 약제로 160mg/dl인 경우에는, 140㎎/㎗ 이상이므로 100g 경구 포도당부하검사는 해당되지 않습니다.\n",
            "그러나, 100g 경구 포도당부하검사를 실시하는 과정에서  포도당 측정 약제로 160mg/dl인 경우에는, 고위험군이므로 100g 경구 포도당부하검사의 급여 조건이 충족됩니다.\u001d추가로, 100g 경구 포도당부하검사를 시행하는 과정에서 포도당 측정 약제로 160mg/dl이면서 100g 경구 포도당부하검사의 급여 조건을 충족시키는 경우에는, 100g 경구 포도당부하검사의 약제를 별도로 인정됩니다.\n",
            "\n",
            "또한, 100g 경구 포도당부하검사를 시행하는 과정에서 160mg/dl 이상일지라도 고혈당도(300㎎/㎗ 이상)와 다른 위험 인자(공복 포도당 농도 140mg/dl 이상으로 고위험군)가 없는 경우와 같이 임신성당뇨병 고위험군에 속하는 임산부들은 고혈당도 정도와 그 위험\n"
          ]
        }
      ]
    },
    {
      "cell_type": "code",
      "source": [
        "gen('100g 경구 포도당부하검사의 결과가 어떤 수치 이상인 경우에 급여로 인정되나요?')"
      ],
      "metadata": {
        "colab": {
          "base_uri": "https://localhost:8080/"
        },
        "id": "3oE6jK4Vx0e6",
        "outputId": "25e2808c-0d9a-4247-ca18-57070a80b749"
      },
      "execution_count": 95,
      "outputs": [
        {
          "output_type": "stream",
          "name": "stderr",
          "text": [
            "Setting `pad_token_id` to `eos_token_id`:2 for open-end generation.\n"
          ]
        },
        {
          "output_type": "stream",
          "name": "stdout",
          "text": [
            "### 질문: 100g 경구 포도당부하검사의 결과가 어떤 수치 이상인 경우에 급여로 인정되나요?\n",
            "\n",
            "### 답변: 100g 경구 포도당부하검사 결과가 표 3과 같으면, 이 경우 100-125mg/dl 이상의 수치부터는 급여로 인정됩니다. 수치를 확인해야 급여로 보장되는 포도당 수치가 결정됩니다. �\n",
            "따라서, 100g 경구 포도당부하검사 결과는 정상, 저혈당증, 당뇨 등 다양한 유형의 비보상 질환과 관련된 포도당 수치를 식별하는데 사용됩니다. 100g 경구 포도당부하검사는 정확하고 안전하며, 환자에게 편리한 검사입니다. 이러한 수치와 관련된 포도당 수치는 의사의 판단에 의해 결정되며, 정확한 검사 결과를 위해서는 포도당을 섭취하고 측정하는 검사방법을 선택해야 합니다. \n",
            "�현재 100g 경구 포도당부하검사 결과에 근거하여, 100-125mg/dl 이상의 포도당 수치가 있는 환자의 경우 인슐린 처방이 필요할 수도 있으며, 필요한 경우 주사 처방도 지시될 수 있습니다. 이러한 상황에서는 의사의 판단에 따라 다른 조치가 취해질 수 있습니다. \n",
            "\n",
            "따라서, 100g 경구 포도당부하검사는 환자의 상황과 상태에 따라 다른 조치 및 판단이 필요할 수 있으므로, 각 상황에 따라 다른 조치가 취해질 수 있습니다. 따라서, 자세한 사항은 내분비과 의사나 병원 담당자에게 문의해야 합니다. \n",
            "표 3에서 제시된 표는, 100g 경구 포도당부하검사를 시행한 후에, 포도당 수치를 파악하여 정상, 저혈당증, 당뇨 등의 환자들을 식별하기 위해 사용되는 기준입니다. 이러한 기준이 되는 수치는 정확한 진단 및 판단을 위해 꼭 필요합니다.\n",
            "\n",
            "따라서, 100g 경구 포도당부하검사는 정확하고 안전하며, 다양한 유형의 비보상 질환과 관련된 포도당 수치를 식별하는 데 사용됩니다. 또한, 환자의 상황과 상태에 따라 다양한 조치와 필요한 경우 처방되는 인슐린 등의 투여가 필요한 경우, 인슐린 처방 및 기타 진료는 의사의 판단에 따라야 합니다. 따라서, 본인의 당뇨병 등 비보상 질환을 가진 것으로 파악된 수치가 100-125 mg/dl 이상일 경우, 검사 결과에 따라 의사의 판단에 따라 추가 조치\n"
          ]
        }
      ]
    },
    {
      "cell_type": "code",
      "source": [
        "gen(\"\"\"\n",
        "다음 내용을 보고 질문에 답변 해줘\n",
        "임신부에게 시행하는 100g 경구 포도당부하검사의 급여기준은 50g 경구 포도당부하검사 결과가 140㎎/㎗ 이상인 경우에 인정되며, 임신성 당뇨병의 고위험군에 해당하는 경우에도 급여가 가능하며, 수가산정 방법은 Glucose 측정 시 수기료는 누302나 당검사화학반응-장비측정으로 산정하고, 부하검사 시 사용된 약제는 별도로 인정함. 추가로, 세부적인 산정 기준은 건강보험 행위 급여·비급여 목록표에 따라 결정됨. (고시 제2017-265호)\n",
        "Q: 100g 경구 포도당부하검사를 실시하는 경우 수가산정 방법은 어떻게 되나요?\n",
        "A: 수가산정 방법은 Glucose 측정 시 수기료와 부하검사에 사용된 약제에 대한 별도 인정을 포함합니다.\n",
        "Q: 100g 경구 포도당부하검사의 결과가 어떤 수치 이상인 경우에 급여로 인정되나요?\n",
        "\"\"\")"
      ],
      "metadata": {
        "colab": {
          "base_uri": "https://localhost:8080/"
        },
        "id": "O2rM3VD1x0e6",
        "outputId": "f4fdc52c-ae09-4366-f29a-a5d2ff7b1e0b"
      },
      "execution_count": 96,
      "outputs": [
        {
          "output_type": "stream",
          "name": "stderr",
          "text": [
            "Setting `pad_token_id` to `eos_token_id`:2 for open-end generation.\n"
          ]
        },
        {
          "output_type": "stream",
          "name": "stdout",
          "text": [
            "### 질문: \n",
            "다음 내용을 보고 질문에 답변 해줘\n",
            "임신부에게 시행하는 100g 경구 포도당부하검사의 급여기준은 50g 경구 포도당부하검사 결과가 140㎎/㎗ 이상인 경우에 인정되며, 임신성 당뇨병의 고위험군에 해당하는 경우에도 급여가 가능하며, 수가산정 방법은 Glucose 측정 시 수기료는 누302나 당검사화학반응-장비측정으로 산정하고, 부하검사 시 사용된 약제는 별도로 인정함. 추가로, 세부적인 산정 기준은 건강보험 행위 급여·비급여 목록표에 따라 결정됨. (고시 제2017-265호)\n",
            "Q: 100g 경구 포도당부하검사를 실시하는 경우 수가산정 방법은 어떻게 되나요?\n",
            "A: 수가산정 방법은 Glucose 측정 시 수기료와 부하검사에 사용된 약제에 대한 별도 인정을 포함합니다.\n",
            "Q: 100g 경구 포도당부하검사의 결과가 어떤 수치 이상인 경우에 급여로 인정되나요?\n",
            "\n",
            "\n",
            "### 답변: \n",
            "다음 내용을 보고 질문에 답변 해줘\n",
            "저혈당이 있는 경우 경구 포도당부하검사 결과가 140mg/dℓ 이상이어야 급여로 인정받을 수 있습니다. 임산부가 고위험군에 해당하지 않아도 급여로 인정되며, 임산부가 저혈당이 있었던 경우에는 고위험군으로 볼 수 있습니다.\u001e<|sep|>따라서, \n",
            "다음의 내용을 참고 바랍니다.- 임신부의 경구 포도당부하검사 결과가 140mg/dℓ 이상이거나 고위험군에 해당하는 경우에는 제2형 당뇨병이 있을 것으로 추정하고 경구 포도당부하검사를 실시해야 합니다.\n",
            "- 임신부는 고위험군과 그렇지 않은 경우로 나누어서 경구 포도당부하검사 결과가 고위험군에 해당되는 경우 급여로 인정받을 수 있습니다.\n",
            "- 위험도가 높은 경우는 임산부가 다음에 해당하는 경우입니다.- 임신성당뇨병의 가족력(F/T)\", 과거 신기능 검사 수치가 130㎖/min인 경우(단, 과거 신기능 검사 결과 비정상이라고 확인된 경우는 제외), 임신 전/중에 진단받은 임신성당뇨병이나 4번 이상 연속적 임신성당뇨병(당화혈색소 ≥ 6.5%)으로 확진된 경우\n",
            "- 비만, 고혈압, 임신성당뇨병에 대한 가족력(부모, 형제, 자매, 자녀 중 임신성당뇨병이 있는 경우)\n",
            "- 양수과다증이나 고혈압이 있는 경우\n",
            "\n",
            "- 임신에 대한 약물 관련 부작용을 우려할 만한 경우\n",
            "- 단제 투여한 경우\n",
            "- 임신 중 고혈압이 있거나, 임신 중 감염성 질환이 있는 경우\n",
            "- 임신성당뇨병이 있는 경우- 진단받은 질환은 재태기간(임신 첫 3분기) 초에 확인된 경우. 단, 임신 중 질환으로 인해 임신 기간 중에 진단명이 확정된 경우는 제외- 진단받은 질환은 임신 중에 확인된 경우(임신 중 질환으로 인해 임신 기간 중에 진단명이 확정된 경우는 제외)\n",
            "- 임신 중 질환으로 인해 임신 기간 중에 진단명이 확정된 경우(임신 중 질환으로 인해 임신 기간 중에 진단명이 확정된 경우는 제외)- 임\n"
          ]
        }
      ]
    },
    {
      "cell_type": "code",
      "source": [
        "gen('임신성 당뇨병의 고위험군을 판별하기 위한 추가적인 기준은 무엇인가요?')"
      ],
      "metadata": {
        "colab": {
          "base_uri": "https://localhost:8080/"
        },
        "id": "Gzq8SBXYx0nc",
        "outputId": "cb07fc34-19f8-44ac-8c65-ffd488472ade"
      },
      "execution_count": 97,
      "outputs": [
        {
          "output_type": "stream",
          "name": "stderr",
          "text": [
            "Setting `pad_token_id` to `eos_token_id`:2 for open-end generation.\n"
          ]
        },
        {
          "output_type": "stream",
          "name": "stdout",
          "text": [
            "### 질문: 임신성 당뇨병의 고위험군을 판별하기 위한 추가적인 기준은 무엇인가요?\n",
            "\n",
            "### 답변: 임신성 당뇨병 고위험군 추가 기준은 1) 거대아를 낳을 가능성이 큰 사람, 2) 당뇨병 전단계(prediabetic category)로 진단받은 적이 있거나, 3) 30세 이상의 산모, 4) 4kg 이상의 거대아를 낳은 적이 있는 산모, 5) 4번 이상 임신중독증이 있었던 적이 있는 산모, 6) 15세가 넘은 산모일 경우에 추가적인 기준에 따라 판별이 필요합니다. 추가 기준은 아래와 같습니다. \n",
            "\n",
            "1. 거대아를 낳을 가능성이 큰 사람살이 쪄서 비만을 나타내는 경우, 임신중독증이었던 경우, 당뇨병 전단계(prediabetic category)로 진단받은 적이 있는 경우, 인슐린 저항성으로 인해 인슐린과 경구 혈당 강하제에 저항이 있을 경우, 임신성 당뇨병에 대한 가족력이 있는 경우, 산모의 나이가 35세 이상인 경우 \n",
            "\n",
            "2. 당뇨병 전단계로 진단된 적이 있거나, 30세 이상의 산모과거에 제2형 당뇨병 전단계로 진단된 적이 있는 사람, 30세 이상으로 나이가 많은 경우, 산모와 가까운 친척 중에 임신성 당뇨병이 있는 경우 \n",
            "\n",
            "3. 4kg 이상의 거대아를 낳은 적이 있는 산모임신성당뇨병, 임신성고혈압, 가족력이 있는 경우, 이미 당뇨병이 있는 경우, 임신성 당뇨병의 합병 가능성이 높은 상태에서 임신한 경우 �4. 4번 이상 임신중독증이 있었던 적이 있는 산모4번 이상의 임신중독증이 있었던 사람, 당뇨 및 고혈압의 위험이 큰 경우 임신당뇨, 임신성 당뇨합병증 위험이 큰 경우, 과거 병력이 있는 경우 \n",
            "5. 15세가 넘은 산모이미 당뇨병 환자이거나 당뇨병의 가족력이 있는 경우, 15세 이상으로 나이가 많은 경우, 당뇨병 관련 합병 가능성이 높은 상태에서 임신한 경우 \n",
            "추가적인 기준에 해당하는 사람 중에 임신성 당뇨병이 의심되는 경우, 일반적으로는 선별검사와 경구당부로 측정하는 혈당은 필요하지 않습니다. 임신 중에 당뇨병으로 진단되면 임신성 당뇨병의\n"
          ]
        }
      ]
    },
    {
      "cell_type": "code",
      "source": [
        "gen(\"\"\"\n",
        "다음 내용을 보고 질문에 답변 해줘\n",
        "임신부에게 시행하는 100g 경구 포도당부하검사의 급여기준은 50g 경구 포도당부하검사 결과가 140㎎/㎗ 이상인 경우에 인정되며, 임신성 당뇨병의 고위험군에 해당하는 경우에도 급여가 가능하며, 수가산정 방법은 Glucose 측정 시 수기료는 누302나 당검사화학반응-장비측정으로 산정하고, 부하검사 시 사용된 약제는 별도로 인정함. 추가로, 세부적인 산정 기준은 건강보험 행위 급여·비급여 목록표에 따라 결정됨. (고시 제2017-265호)\n",
        "Q: 100g 경구 포도당부하검사의 수행 대상은 누구인가요?\n",
        "A: 100g 경구 포도당부하검사는 임신부 중 50g 경구 포도당부하검사 결과가 140㎎/㎗ 이상인 경우에 대상으로 합니다.\n",
        "Q: 임신성 당뇨병의 고위험군을 판별하기 위한 추가적인 기준은 무엇인가요?\n",
        "\"\"\")"
      ],
      "metadata": {
        "colab": {
          "base_uri": "https://localhost:8080/"
        },
        "id": "dBDjGL5Lx0nc",
        "outputId": "f753f7f7-8987-4dda-b0f2-d9eadfcb22dc"
      },
      "execution_count": 98,
      "outputs": [
        {
          "output_type": "stream",
          "name": "stderr",
          "text": [
            "Setting `pad_token_id` to `eos_token_id`:2 for open-end generation.\n"
          ]
        },
        {
          "output_type": "stream",
          "name": "stdout",
          "text": [
            "### 질문: \n",
            "다음 내용을 보고 질문에 답변 해줘\n",
            "임신부에게 시행하는 100g 경구 포도당부하검사의 급여기준은 50g 경구 포도당부하검사 결과가 140㎎/㎗ 이상인 경우에 인정되며, 임신성 당뇨병의 고위험군에 해당하는 경우에도 급여가 가능하며, 수가산정 방법은 Glucose 측정 시 수기료는 누302나 당검사화학반응-장비측정으로 산정하고, 부하검사 시 사용된 약제는 별도로 인정함. 추가로, 세부적인 산정 기준은 건강보험 행위 급여·비급여 목록표에 따라 결정됨. (고시 제2017-265호)\n",
            "Q: 100g 경구 포도당부하검사의 수행 대상은 누구인가요?\n",
            "A: 100g 경구 포도당부하검사는 임신부 중 50g 경구 포도당부하검사 결과가 140㎎/㎗ 이상인 경우에 대상으로 합니다.\n",
            "Q: 임신성 당뇨병의 고위험군을 판별하기 위한 추가적인 기준은 무엇인가요?\n",
            "\n",
            "\n",
            "### 답변: \n",
            "다음 기준을 만족할 경우 임신성 당뇨병(Gestational Diabetes Mellitus, GDM)의 고위험군으로 구분하며, GDM의 고위험군에서 100g 경구 포도당부하검사는 대상으로 합니다.\n",
            "1) 임신한 여성 중에서 다음 두 가지 고위험군에 속하는 경우 (1) 비임신 때의 공복혈당치가 140mg/dl 이상인 경우 (2) 임신 초기부터 분만할 때까지 공복혈당농도의 합이 140mg/dl 이상인 경우 (3) 임신 28주에서 분만 때까지의 기간 중 분만 전 126mg/dl 이상의 식전(또는 식후)혈당치인 경우\n",
            "2. 부가기준으로, 공복혈당치는 공복 80~140mg/dl이고, 당화혈색소는 5.7%이하 또는 6.5%이하인 경우 고위험군으로 분류됩니다.\n",
            "세부 기준에 대한 자세한 내용은 관련 고시와 건강보험심사평가원 홈페이지를 참고하시면 도움이 될 것입니다.�\n",
            "고위험군에 해당하는 경우, 추가적인 검사를 통해 GDM의 정확한 진단을 받는 것이 필요합니다. 이를 위해 100g 경구 포도당부하검사는 대상으로 급여가 인정되며, 경구 포도당부하검사 이후 1~3일 뒤 결과에 따라 연속으로 수행되는 75g 경구 포도당부하검사는 대상에서 제외됩니다.\n",
            "\n",
            "출처: 보건복지부 고시 제2017-265호 \n",
            " 임신성 당뇨병의 판단 기준은 임신 24~28주에 시행된 검사에서 임신 전 24시간 혈당 농도(공복 및 비경구 포도당부하검사)에 비하여 140mg/dl 이상을 나타냄으로서 임신성 당뇨병으로 진단받은 임산부에서 선별적으로 시행됩니다.임신성 당뇨병이 있는 경우에는 공복혈당이 140mg/dl 이상이면서 재태 주수 및 체중에 따라 인슐린 주사를 시작해야 합니다.\n",
            "\n",
            "임신성 당뇨병은 일반적으로 다음과 같이 치료합니다.\n",
            "1. 임신초기 및 임신 중에는 가능한 모든 방법을 동원하여 임신성 당뇨병이 발생하지 않도록 철저한 관리를 하고, \n",
            "2. 임신성 당뇨병으로 진단된 후에는 교육-체중조절-\n"
          ]
        }
      ]
    },
    {
      "cell_type": "code",
      "source": [
        "gen('수가산정방법 중 Glucose 측정 시의 수기료는 어떻게 산정되나요?')"
      ],
      "metadata": {
        "colab": {
          "base_uri": "https://localhost:8080/"
        },
        "id": "zCADKQSOx0t7",
        "outputId": "7eea514e-d3be-42a4-aebf-e3c7068f6c4f"
      },
      "execution_count": 99,
      "outputs": [
        {
          "output_type": "stream",
          "name": "stderr",
          "text": [
            "Setting `pad_token_id` to `eos_token_id`:2 for open-end generation.\n"
          ]
        },
        {
          "output_type": "stream",
          "name": "stdout",
          "text": [
            "### 질문: 수가산정방법 중 Glucose 측정 시의 수기료는 어떻게 산정되나요?\n",
            "\n",
            "### 답변: Glucose 측정 시의 수기료는 Glucose 농도별 수기료가 청구됩니다. Glucose의 농도를 측정하기 위해 사용되는 혈당 측정 검사에 대해 다음과 같이 수기료가 적용됩니다. 예시: Glucose 측정 시의 수기료: 500 mg/dL ~ 1000 mg/dL : 50% + copay 20% + @ / 1000 mg/dL 이상 :... \n",
            "이와 같이 Glucose 측정 시 수기료 산정은 기존의 Glucose 검사에 Glucose 측정기기 비용과 @% + @  동반성 수기료를 추가하여 산정합니다. 다만, 이러한 경우 비용은  동반성 수기료의 내역으로 청구됩니다.   동반성 수기료는 일반적으로 총 수가의 1.5~50%를 차지하며, 상세 내역은 아래에서 확인할 수 있습니다.용객. 단, 이때, Glucose 측정기기는 각 병원에서 보유하고 있는 것을 사용할 수 있습니다. \n",
            "\n",
            "다만, Glucose 측정기기의 비용에 대해 부담을 느낀다는 이유로, 자동혈당측정기기를 도입하는 경우도 있습니다. 자동혈당측정기기는 2형 당뇨 환자를 위한 기기로, 현재 보험급여 항목이며, 추가적인 비용이 들지 않습니다. 다만, 3.0 Type의 경우 수가에 1.5%가 포함되며, 3.0 % 이상의 수치에 대해서는 수가 산정이 이루어지지 않습니다. 따라서, 자동혈당기기는 2형 당뇨 환자를 위한 기기인 것에만 주의하면 됩니다.\n",
            "참고자료가 있어서 첨부하였으니, 추가적인 답변과 질문도 가능합니다. \n",
            "출처: 대한병원협회 2021년 수가협상에 따른 수가산정방법�\n",
            "\n",
            "### 답변: 답변을 참고하여 수동혈당측정 및 자동혈당측정기기 모두 사용하시길 바랍니다. \n",
            "\n",
            "수동혈당측정장비 사용 시 Glucose 측정을 위한 수가는 다음과 같습니다.\n",
            "\n",
            "따라서 수동혈당측정장비를 사용한다 하여, 자동혈당측정기기를 사용하지 않기를 권장합니다.\n",
            "\n",
            "수동혈당측정장비 사용\n"
          ]
        }
      ]
    },
    {
      "cell_type": "code",
      "source": [
        "gen(\"\"\"\n",
        "다음 내용을 보고 질문에 답변 해줘\n",
        "임신부에게 시행하는 100g 경구 포도당부하검사의 급여기준은 50g 경구 포도당부하검사 결과가 140㎎/㎗ 이상인 경우에 인정되며, 임신성 당뇨병의 고위험군에 해당하는 경우에도 급여가 가능하며, 수가산정 방법은 Glucose 측정 시 수기료는 누302나 당검사화학반응-장비측정으로 산정하고, 부하검사 시 사용된 약제는 별도로 인정함. 추가로, 세부적인 산정 기준은 건강보험 행위 급여·비급여 목록표에 따라 결정됨. (고시 제2017-265호)\n",
        "Q: 임신성 당뇨병의 고위험군은 어떤 경우에 해당하나요?\n",
        "A: 소변검사상 당 검출, 4kg 이상의 거대아 분만력, 선천성 기형아 출산력, 당뇨의 가족력, 자궁내 태아사망의 분만력, 비만, 양수과다증, 임신주수에 비해 거대아인 경우 등이 해당합니다\n",
        "Q: 수가산정방법 중 Glucose 측정 시의 수기료는 어떻게 산정되나요?\n",
        "\"\"\")"
      ],
      "metadata": {
        "colab": {
          "base_uri": "https://localhost:8080/"
        },
        "id": "zXwH7G3_x0t8",
        "outputId": "ecae730f-b9d8-49f8-caa2-022fd147e083"
      },
      "execution_count": 100,
      "outputs": [
        {
          "output_type": "stream",
          "name": "stderr",
          "text": [
            "Setting `pad_token_id` to `eos_token_id`:2 for open-end generation.\n"
          ]
        },
        {
          "output_type": "stream",
          "name": "stdout",
          "text": [
            "### 질문: \n",
            "다음 내용을 보고 질문에 답변 해줘\n",
            "임신부에게 시행하는 100g 경구 포도당부하검사의 급여기준은 50g 경구 포도당부하검사 결과가 140㎎/㎗ 이상인 경우에 인정되며, 임신성 당뇨병의 고위험군에 해당하는 경우에도 급여가 가능하며, 수가산정 방법은 Glucose 측정 시 수기료는 누302나 당검사화학반응-장비측정으로 산정하고, 부하검사 시 사용된 약제는 별도로 인정함. 추가로, 세부적인 산정 기준은 건강보험 행위 급여·비급여 목록표에 따라 결정됨. (고시 제2017-265호)\n",
            "Q: 임신성 당뇨병의 고위험군은 어떤 경우에 해당하나요?\n",
            "A: 소변검사상 당 검출, 4kg 이상의 거대아 분만력, 선천성 기형아 출산력, 당뇨의 가족력, 자궁내 태아사망의 분만력, 비만, 양수과다증, 임신주수에 비해 거대아인 경우 등이 해당합니다\n",
            "Q: 수가산정방법 중 Glucose 측정 시의 수기료는 어떻게 산정되나요?\n",
            "\n",
            "\n",
            "### 답변: \n",
            "임신성 당뇨병은 임신을 한 산모에 대한 검사이기 때문에, 정확한 당뇨병 진단은 당화혈색소나 다른 진단방법이 사용되며, 경구포도당부하검사는 임신으로 인한 당뇨 증상을 확인하기 위한 것입니다. 따라서 수기료에 대한 설명은 다음과 같습니다.\n",
            "- 임신성 당뇨병의 위험군이 아닌데도 경구포도당부하검사상 당뇨 양성이 나온 경우, \n",
            "- 당 검출 시 : 수기료는 누309 당뇨병의 진단 및 치료 중 나항의 \n",
            "- 당 검출이 나오지만 임신성이 아닌 당뇨병이 발견된 경우, 또는 임신성 당뇨병이 아닌 다른 진단 기준을 적용하여 임신성 당뇨가 아닌 다른 당뇨로 확인된 경우 - 당 검출이 나오지 않은 경우는 Glucose 측정시 수기료는 누309나 당검사화학반응-장비측정으로 1/2 인정하되 Glucose 측정시 수기료는 누302나 당검사화학반응-수기측정으로 산정하고, 부하 검사시 사용된 약제는 별도로 인정함. 세부적인 산정 기준은 건강보험 행위 급여·비급여 목록표에 따라 결정됨.\u001d�따라서 임신성 당뇨병의 경구 포도당부하검사 결과 140mg/dl 이상인 경우에 임신성 당뇨로 판단하고, 위험군에 해당하는 경우에는 임신성 당뇨병으로 급여 가능하며, 다른 지표를 이용한 검사와 함께 시행하는 경우에는, 위험성과 난이도, 검사 시 문제점 등을 고려하여 급여기준을 적용하여 인정됨.\n",
            "\n",
            "그러나 Glucose 측정 시의 수기료는 수기료의 정확성을 위하여 누309나 당검사화학반응-수기측정으로 1/2 인정되며, Glucose 측정 시 약제 비용은 별도로 인정합니다. 임신성 당뇨병의 위험성 및 급여기준을 잘 확인하시기 바랍니다.\n",
            "\n",
            " \n",
            "따라서, 임신성 당뇨병의 경구 혈당 포도당부하검사 결과 140mg/dl 이상인 경우에 임신성 당뇨로 판단하고, 당뇨병 위험군에 해당하는 경우에는 인정 가능하며, 기타 지표를 이용한 검사와 함께 시행한 경우에는 수가산정방법을 참조하여 인정합니다.\n",
            "하지만, 수기료가 1/2로 인정되는 Glucose 측정\n"
          ]
        }
      ]
    },
    {
      "cell_type": "markdown",
      "source": [
        "## 중합효소연쇄반응법(PCR)으로 시행하는 C. Trachomatis 등 균주검사의 급여기준"
      ],
      "metadata": {
        "id": "b9TvfgcgxkzA"
      }
    },
    {
      "cell_type": "code",
      "source": [
        "gen('개정사유 중 2차 상대가치점수 개편은 무엇을 의미하며, 이와 관련된 내용이 어떻게 변경되었나요?')"
      ],
      "metadata": {
        "colab": {
          "base_uri": "https://localhost:8080/"
        },
        "id": "vw6HnVRHxkzO",
        "outputId": "f8c17b28-42ef-41d0-f79a-f4f9bfb567c8"
      },
      "execution_count": 101,
      "outputs": [
        {
          "output_type": "stream",
          "name": "stderr",
          "text": [
            "Setting `pad_token_id` to `eos_token_id`:2 for open-end generation.\n"
          ]
        },
        {
          "output_type": "stream",
          "name": "stdout",
          "text": [
            "### 질문: 개정사유 중 2차 상대가치점수 개편은 무엇을 의미하며, 이와 관련된 내용이 어떻게 변경되었나요?\n",
            "\n",
            "### 답변: 2차 상대가치개편이 의미하는 것은 기존에 사용되던 환산지수 체계를 통합하여 의료현장에서 환자관리가 편리해지도록 하며, 2차 종별 상대가치점수가 높아지는 부분을 일부 조정하여 종별간 진료비용의 차이를 축소했다는 의미입니다. 이는 기존의 환산지수를 기반으로 환산하는 것보다, 2차 상대가치지수를 기반으로 환산하는 것이 보다 편리하고 환자관리도 편리해질 것이라는 취지에서 개편된 것입니다. 이와 관련된 내용은 변경된 사항으로, 의료의 질적 수준을 고려하는 항목을 일부 신설하고, 종별 간의 차이를 줄여나가면서 진료비용의 차이를 줄였습니다. 또한 의료서비스 제공자 입장에서 진료내역의 파악이 수월하도록 일부 조항의 위치를 조정하여 편의성을 증대했습니다. 이는 환자의 입장과 의료서비스 제공자의 입장 모두를 고려하여 변경된 사항입니다. 개정 내용에 대한 세부항목은 아래와 같습니다.\n",
            "[개정사항] \n",
            "1. 의료의 질적 수준에 따른 차등분류 항목 신설 \n",
            "\n",
            "일부 지표의 의료의 질적 수준이 높은 것을 고려하여 차등분류할 수 있도록 변경 \n",
            "2. 의료의 질적 수준을 고려하는 항목에 대한 근거 마련 \n",
            "의협의진료 항목에 대한 의료의 질적 수준을 고려 \n",
            "\n",
            "1) 선택진료제공 여부에 대한 근거 마련 \n",
            "\n",
            "2) 입원료 차등제 산정기준 개선 \n",
            "\n",
            "3) 의료사고 발생 후 진료내역 삭제 여부에 대한 근거 마련 \n",
            "\n",
            "3. 의료의 질에 대한 항목별 상대가치점수 반영 \n",
            "\n",
            "일부 지표에 대한 질적수준 파악이 수월할 수 있도록 위치 조정 \n",
            "4. 의료서비스 제공자 입장에서 진료내역 파악이 수월하도록 일부 조항의 위치 조정 \n",
            "예1) 의료서비스 제공자가 파악하기 용이한 조항 아래 위치하도록 조정 \u001d\n",
            "예2) 진료비 확인신청방법 개선 \n",
            "\n",
            "추가적인 질의사항이 있으시면 국가건강보험분쟁조정위원회(1588-2514)로 문의하시기 바랍니다. \n",
            " ### 답변: 이번 2차 상대가치개편은 환자와 의료서비스 제공자 모두 편리한 진료방식을 제공하기 위한 변경사항입니다. 이는 국민의\n"
          ]
        }
      ]
    },
    {
      "cell_type": "code",
      "source": [
        "gen(\"\"\"\n",
        "다음 내용을 보고 질문에 답변 해줘\n",
        "중합효소연쇄반응법(PCR)을 통한 C. Trachomatis 등 균주검사의 급여기준은 개정으로 세균별 수가 항목화되어, 하부요로감염 등에 PCR을 시행하는 경우 해당 세균에 대한 각각의 수가를 청구할 수 있도록 함. (고시 제2017-265호)\n",
        "Q: 중합효소연쇄반응법(PCR)으로 시행하는 C. Trachomatis 등 균주검사의 급여기준은 무엇인가요?\n",
        "A: 중합효소연쇄반응법(PCR)으로 시행하는 C. Trachomatis 등 균주검사의 급여기준은 관련근거고시 제2017-265호(행위)를 기반으로 합니다.\n",
        "Q: 개정사유 중 2차 상대가치점수 개편은 무엇을 의미하며, 이와 관련된 내용이 어떻게 변경되었나요?\n",
        "\"\"\")"
      ],
      "metadata": {
        "colab": {
          "base_uri": "https://localhost:8080/"
        },
        "id": "UHONExQkxkzO",
        "outputId": "25d2c112-8e22-47cf-df86-2b8baf4f9fc8"
      },
      "execution_count": 102,
      "outputs": [
        {
          "output_type": "stream",
          "name": "stderr",
          "text": [
            "Setting `pad_token_id` to `eos_token_id`:2 for open-end generation.\n"
          ]
        },
        {
          "output_type": "stream",
          "name": "stdout",
          "text": [
            "### 질문: \n",
            "다음 내용을 보고 질문에 답변 해줘\n",
            "중합효소연쇄반응법(PCR)을 통한 C. Trachomatis 등 균주검사의 급여기준은 개정으로 세균별 수가 항목화되어, 하부요로감염 등에 PCR을 시행하는 경우 해당 세균에 대한 각각의 수가를 청구할 수 있도록 함. (고시 제2017-265호)\n",
            "Q: 중합효소연쇄반응법(PCR)으로 시행하는 C. Trachomatis 등 균주검사의 급여기준은 무엇인가요?\n",
            "A: 중합효소연쇄반응법(PCR)으로 시행하는 C. Trachomatis 등 균주검사의 급여기준은 관련근거고시 제2017-265호(행위)를 기반으로 합니다.\n",
            "Q: 개정사유 중 2차 상대가치점수 개편은 무엇을 의미하며, 이와 관련된 내용이 어떻게 변경되었나요?\n",
            "\n",
            "\n",
            "### 답변: \n",
            "중급성요로감염 등의 치료를 위하여 요도 카테터 등을 통한 방광세척을 시행하지 않는 경우, C. Trachomatis, C. Vaginalis 및 C. Salivarius에 의해 발생하는 하부요로감염 등으로 진단된 경우에는 해당 검사의 1. 경구제 항세균제 투여에도 불구하고 지속적인 세균뇨가 있는 경우 2. 소변배양 검사에서 지속적인 세균뇨가 있는 경우 3. 당뇨병 등 소변배양 검사에서 지속적인 세균뇨가 있는 경우는 1. Candida 검사에서 양성인 경우 2. MRSA, TSS 등의 경우 3. 요도상처 및 방광염 등 요도염이 있었거나 발병 위험성이 있을 경우 해당 검사의 급여기준이 변경되었습니다. 세부 사항은 관련고시 제2017-265호(행위) 및 제2015-100호(치료재료)를 참고하십시오.\n",
            "\f따라서 PCR을 통해 C. Trachomatis 등에 의한 세균뇨를 의심할 경우, 해당 진료과목에서 이에 해당하는 C. Trachomatis, C. Vaginalis 및 C. Salivarius에 의한 하부요로감염 등의 지속적인 세균뇨 여부와 Candida에 의해 발생하는 요도염 및 방광염 등의 위험성이 있는지 여부를 확인하기 위해 아래의 예시 항목들 중 하나는 급여로 인정받을 수 있습니다.\n",
            "또한, Candida 검사에서 양성일 경우 Candida 검사가 급여로 인정받을 수 있으며, 이 경우 Candida 검사는 Candida의 원인균종에 대한 검사항목이어야 하며, 해당 검사에는 H. Pseudocandida, Bacillus Candidii 등에 대한 검사도 포함됩니다.\n",
            "\n",
            "1. 수액 투여와 카테터 장착이 필요한 만성 신장애가 있는 환자에게 Candida albicans 검사를 시행한 경우2. 피부 질환이나 요로감염 등의 증상이 있는 경우 Candida 검사를 시행한 경우3. Candida에 의한 재발성 요로감염으로 항생제 투여를 요하는 경우 Candid\n"
          ]
        }
      ]
    },
    {
      "cell_type": "markdown",
      "source": [
        "## 질강처치료 급여 인정기준"
      ],
      "metadata": {
        "id": "4ZOCNOAmxni0"
      }
    },
    {
      "cell_type": "code",
      "source": [
        "gen('질강처치료의 추가 인정 횟수 및 본인부담률은 어떻게 되나요?')"
      ],
      "metadata": {
        "colab": {
          "base_uri": "https://localhost:8080/"
        },
        "id": "dbN_Vthsxni0",
        "outputId": "6bad33c4-b006-45dc-fc35-0c7b95cb2890"
      },
      "execution_count": 103,
      "outputs": [
        {
          "output_type": "stream",
          "name": "stderr",
          "text": [
            "Setting `pad_token_id` to `eos_token_id`:2 for open-end generation.\n"
          ]
        },
        {
          "output_type": "stream",
          "name": "stdout",
          "text": [
            "### 질문: 질강처치료의 추가 인정 횟수 및 본인부담률은 어떻게 되나요?\n",
            "\n",
            "### 답변: 질강처치료 추가 인정 횟수 및 본인부담률 예시입니다. 예시에 따라 본인부담률 변경이 가능합니다. \n",
            "- 질강처치료는 1회만 인정하며, 추가 인정 횟수도 1회로 합니다.\n",
            "\n",
            "- 3개월 이내 4회 이상 투여에 대해서는 진료상 추가적인 투여 필요여부를 인정하지 않습니다.\n",
            "- 4회 내에서 연속 사용에 대해서도 인정하지 않습니다.\n",
            "\u001e- 질강처치료는 월 1회만 인정하며, 본인부담률은 해당 월의 본인부담률을 적용합니다.\n",
            "\n",
            "- 추가로 동일성분제가 투여되어도, 기존에 처방받은 내역에 따라 본인부담률이 변경되지 않습니다.\n",
            "\n",
            "- 질강처치료를 받은 환자의 약제비 본인부담률은 10%, 50/100 본인부담을 적용합니다. \n",
            "- 추가 인정 횟수 및 본인부담률은 위 예시를 토대로 변경될 수 있습니다.\n",
            "\n",
            "- 자세한 내용은 추가 인정 횟수 및 본인부담률 관련 고시문을 참고하시기 바랍니다.\n",
            "\n",
            "- 아래의 내용은 건강보험 재정과 국민건강보험 정책 등에 따라 변경될 수 있습니다.- 추가 인정 횟수 및 본인부담률 관련 상세 내용은 전문가 등과 상담하여 결정하시기 바랍니다.\n",
            "\n",
            "- 추가적인 질의응답은 가까운 공단 지사나 1577-1000으로 연락하시기 바랍니다.\n",
            "\n",
            "- 추가로 궁금한 점은 건강보험심사평가원 홈페이지 (www.hira.or.kr) > 알림 > 정보공개자료실)에서 정보를 확인하시기 바랍니다. \t\n",
            "- 문의: 공단 대표전화 1577-1000 또는 가까운 공단 지사 또는 해당 약제를 투여받은 요양기관으로 연락바랍니다.\u001f- 인터넷 사용이 불편하시면, 해당 약제의 요양기관명, 약제명, 처방일, 투여량, 투여일수 또는 기간 등을 적어서 문의하시면 도와드리겠습니다.\n",
            "\n",
            "- 본인부담률에 관련된 문의는 건강보험심사평가원 상담센터(☎ 1644-2000)로 연락하시면 상세한 답변을 받으실 수 있습니다.\n",
            "- 본인부담률 관련 자세한 사항은 아래 사이트에 문의하시면 도움을 받을 수 있습니다.  - 추가 인정 횟수 및 본인부담률 관련 상세 설명\n"
          ]
        }
      ]
    },
    {
      "cell_type": "code",
      "source": [
        "gen(\"\"\"\n",
        "다음 내용을 보고 질문에 답변 해줘\n",
        "질강처치료는 외음과 질의 칸디다증, 비뇨생식기의 편모충증, 자궁경부의 염증성 질환, 자궁경부의 미란 및 외반 상병에 실시한 경우에 치료기간 중 1회 인정하며, 초과 시 추가 2회까지 「선별급여 지정 및 실시 등에 관한 기준」에 따라 본인부담률 80%로 적용됨. (2021.2.1. 시행, 고시 개정 사유: 국민건강보험 종합계획 20년 시행계획, 제4차 저출산 고령사회 기본계획 관련, 기준 외 횟수 초과 시 추가 2회까지 본인부담률 80% 적용, 변경 전 고시번호: 제2013-36호, '13.3.1. 시행)\n",
        "Q: 질강처치료의 급여 인정 기준은 무엇인가요?\n",
        "A: 질강처치료는 외음과 질의 칸디다증, 비뇨생식기의 편모충증, 자궁경부의 염증성 질환, 자궁경부의 미란 및 외반 상병에 실시한 경우에 치료기간 중 1회 인정됩니다.\n",
        "Q: 질강처치료의 추가 인정 횟수 및 본인부담률은 어떻게 되나요?\n",
        "\"\"\")"
      ],
      "metadata": {
        "colab": {
          "base_uri": "https://localhost:8080/"
        },
        "id": "cm2ghYLYxni1",
        "outputId": "591a66ab-cbdb-4cbb-8fc5-78315ec336fe"
      },
      "execution_count": 104,
      "outputs": [
        {
          "output_type": "stream",
          "name": "stderr",
          "text": [
            "Setting `pad_token_id` to `eos_token_id`:2 for open-end generation.\n"
          ]
        },
        {
          "output_type": "stream",
          "name": "stdout",
          "text": [
            "### 질문: \n",
            "다음 내용을 보고 질문에 답변 해줘\n",
            "질강처치료는 외음과 질의 칸디다증, 비뇨생식기의 편모충증, 자궁경부의 염증성 질환, 자궁경부의 미란 및 외반 상병에 실시한 경우에 치료기간 중 1회 인정하며, 초과 시 추가 2회까지 「선별급여 지정 및 실시 등에 관한 기준」에 따라 본인부담률 80%로 적용됨. (2021.2.1. 시행, 고시 개정 사유: 국민건강보험 종합계획 20년 시행계획, 제4차 저출산 고령사회 기본계획 관련, 기준 외 횟수 초과 시 추가 2회까지 본인부담률 80% 적용, 변경 전 고시번호: 제2013-36호, '13.3.1. 시행)\n",
            "Q: 질강처치료의 급여 인정 기준은 무엇인가요?\n",
            "A: 질강처치료는 외음과 질의 칸디다증, 비뇨생식기의 편모충증, 자궁경부의 염증성 질환, 자궁경부의 미란 및 외반 상병에 실시한 경우에 치료기간 중 1회 인정됩니다.\n",
            "Q: 질강처치료의 추가 인정 횟수 및 본인부담률은 어떻게 되나요?\n",
            "\n",
            "\n",
            "### 답변: \n",
            "1) 질강처치료는 외음과 질의 칸디다증, 비뇨생식기의 편모충증, 자궁경부의 염증성 질환, 자궁경부의 미란 및 외반 상병에 실시한 경우에 치료기간 중 1회 인정되며, 초과 시 추가 2회까지 본인부담률 80%로 적용됩니다.\n",
            "2) 질강처치료의 추가 인정 횟수 및 본인부담률은 다음과 같습니다.\n",
            "\n",
            "1회 인정: 질강처치료는 1회 치료기간 중 인정되며, 필요한 경우 추가 2회까지 인정됨\n",
            "\n",
            "2회 추가 인정: 3회까지 추가로 인정되며, 이후는 비용효과성, 적정 시행횟수 등을 고려하여 본인부담률 80%로 적용됩니다.\n",
            "\n",
            "3) 질강처치료 급여인정기준은 다음과 같습니다.\n",
            "\n",
            "- 대상질환: 여성 생식기 세균성질염, 자궁경부염, 세균성질염, 외음 및 질 칸디다증, 세균성 질 내 감염증, 트리코모나스질염, 칸디다질염, 외음 및 질 칸디다 등 비감염성 균질염, 세균성질염, 트리코모나스질염, 편모충 등 비감염성 질감염, 질내 면역결핍, 외상, 외음 및 질 칸디다 등 비감염성 세균성질염, 외상, 트리코모나스질염, 편모충 등 비감염성 질내 감염증 등 비감염성 칸디다 질염, 외음 및 질 칸디다 등 비감염성 칸디다 질염 등에 대한 치료관리, (이하 생략)\n",
            "- 인정조건 \n",
            "- 치료기간 중 1회 인정되고, 치료기간이 종료되어 2회를 초과하는 경우에는 추가로 인정함.\n",
            "\n",
            "- 추가로 2회까지 인정하며, 이후는 본인부담률 80%로 적용함.\n",
            "\n",
            "- 1회 인정: 자궁경부염 및 질점막의 염증성 질환, 질염, 외음 및 질칸디다증, 비뇨생식기의 편모충증, 자궁경부의 미란 및 외반 상병에 실시한 경우에 1회 인정함.2회 추가 인정: 자궁경부염 및 질점막의 염증성 질환, 질염, 외음 및 질칸dur, 비뇨생\n"
          ]
        }
      ]
    },
    {
      "cell_type": "code",
      "source": [
        "gen('질강처치료의 급여 인정기준은 무엇인가요?')"
      ],
      "metadata": {
        "colab": {
          "base_uri": "https://localhost:8080/"
        },
        "id": "PJFCT07qypgN",
        "outputId": "762b8923-c8d0-4b24-c660-5a0bf832893a"
      },
      "execution_count": 105,
      "outputs": [
        {
          "output_type": "stream",
          "name": "stderr",
          "text": [
            "Setting `pad_token_id` to `eos_token_id`:2 for open-end generation.\n"
          ]
        },
        {
          "output_type": "stream",
          "name": "stdout",
          "text": [
            "### 질문: 질강처치료의 급여 인정기준은 무엇인가요?\n",
            "\n",
            "### 답변: 자궁경부내 치료나 그 밖의 자궁경부 관련 치료는 다음과 같은 경우에 인정됩니다. 다음과 같이 분류된 기준에 모두 해당되는 경우에만 진료상 필요하다는 입증을 요양기관에서 해야 합니다.\f1. 자궁근종은 자궁경부근종을 포함합니다.\n",
            "\n",
            "2. 진료의가 필요하다고 판단한 경우에 인정됩니다.\n",
            "\n",
            "3. 질강처치료는 초음파, CT, MRI, PET, PET/CT 등을 통해 근종 위치를 확인할 수 있는 경우 인정되며, MRI, PET, PET/CT 등의 세부내역은 별지 서식에 상세하게 기술해야 합니다.\n",
            "\n",
            "4. 자궁경하치료는 4cm 이하의 자궁근종, 1cm 이하의 자궁근종 중 자궁강내근종으로 확인되는 경우, 자궁강내근종이 의심되는 경우, 자궁경부근종, 자궁근종, 자궁내막증, 자궁내막의 폴립, 자궁경부무력증 등이 있는 경우로, 진단을 위해 자궁경검사가 필요하다는 진단에 의해 시행됩니다.\n",
            "\n",
            "5. 시술은 4cm 이하의 자궁근종, 1cm 이하의 자궁근종 중 자궁강내근종으로 확인되는 경우, 자궁강내근종이 의심되는 경우, 자궁경검사가 필요하다는 진단에 의해 시행됩니다.\n",
            "\n",
            "6. 복강경하치료는 4~6cm의 근종으로, 1cm 이하의 종양이 자궁강내에 있으며 위치, 크기, 개수, 모양, 주위의 유착 및 크기 등으로 인해 수술적 치료가 필요하다고 판단되는 경우로, 진단을 위해 내시경검사가 필요하다는 진단으로 시행됩니다.\n",
            "\n",
            "7. 기타처치료는 수술이 필요하다는 진단과 환자 상태 및 임상적 상황을 고려하여 인정되는 경우, 수술이 필요하다는 진단에 의해 시행됩니다.\n",
            "\n",
            "하지만, 위 질문들은 일반적인 사례들이며, 환자의 상태에 따라 임상적인 상황 및 담당의사의 판단에 따라 기준이 달라질 수 있습니다. 또한 수술이 필요한 경우에는 위의 기준을 만족하지 않더라도 수술적 치료를 고려할 수 있습니다. \n",
            "\n",
            " ​따라서, 환자분들은 반드시 진료를 담당하는 의사와 의견 차이가 있는 경우에\n"
          ]
        }
      ]
    },
    {
      "cell_type": "code",
      "source": [
        "gen(\"\"\"\n",
        "다음 내용을 보고 질문에 답변 해줘\n",
        "질강처치료는 외음과 질의 칸디다증, 비뇨생식기의 편모충증, 자궁경부의 염증성 질환, 자궁경부의 미란 및 외반 상병에 실시한 경우에 치료기간 중 1회 인정하며, 초과 시 추가 2회까지 「선별급여 지정 및 실시 등에 관한 기준」에 따라 본인부담률 80%로 적용됨. (2021.2.1. 시행, 고시 개정 사유: 국민건강보험 종합계획 20년 시행계획, 제4차 저출산 고령사회 기본계획 관련, 기준 외 횟수 초과 시 추가 2회까지 본인부담률 80% 적용, 변경 전 고시번호: 제2013-36호, '13.3.1. 시행)\n",
        "Q: 질강처치료의 본인부담률은 어떻게 적용되나요?\n",
        "A: 질강처치료는 인정 횟수를 초과하여 시행한 경우 추가 2회까지 \"선별급여 지정 및 실시 등에 관한 기준\"에 따라 본인부담률 80%로 적용됩니다.\n",
        "Q: 질강처치료의 급여 인정기준은 무엇인가요?\n",
        "\"\"\")"
      ],
      "metadata": {
        "colab": {
          "base_uri": "https://localhost:8080/"
        },
        "id": "t1x5xcu3ypgO",
        "outputId": "1e4124ab-b68a-424a-f0fa-8ffb75663fd4"
      },
      "execution_count": 106,
      "outputs": [
        {
          "output_type": "stream",
          "name": "stderr",
          "text": [
            "Setting `pad_token_id` to `eos_token_id`:2 for open-end generation.\n"
          ]
        },
        {
          "output_type": "stream",
          "name": "stdout",
          "text": [
            "### 질문: \n",
            "다음 내용을 보고 질문에 답변 해줘\n",
            "질강처치료는 외음과 질의 칸디다증, 비뇨생식기의 편모충증, 자궁경부의 염증성 질환, 자궁경부의 미란 및 외반 상병에 실시한 경우에 치료기간 중 1회 인정하며, 초과 시 추가 2회까지 「선별급여 지정 및 실시 등에 관한 기준」에 따라 본인부담률 80%로 적용됨. (2021.2.1. 시행, 고시 개정 사유: 국민건강보험 종합계획 20년 시행계획, 제4차 저출산 고령사회 기본계획 관련, 기준 외 횟수 초과 시 추가 2회까지 본인부담률 80% 적용, 변경 전 고시번호: 제2013-36호, '13.3.1. 시행)\n",
            "Q: 질강처치료의 본인부담률은 어떻게 적용되나요?\n",
            "A: 질강처치료는 인정 횟수를 초과하여 시행한 경우 추가 2회까지 \"선별급여 지정 및 실시 등에 관한 기준\"에 따라 본인부담률 80%로 적용됩니다.\n",
            "Q: 질강처치료의 급여 인정기준은 무엇인가요?\n",
            "\n",
            "\n",
            "### 답변: 질강내 치료의 급여는 인정 횟수를 초과하여 시행한 경우 추가 2회까지 해당하므로, 기준 외 횟수에 대해 본인부담률 80%가 적용됩니다.\n",
            "질강내 약제로는 미노씬(minocin), 카베난(cabenan), 세페핌(cefperim), 케토신(ketocin), 프로기노바(froginab) 등이 있습니다.\n",
            "질강내 약제로 투여한 경우 - 칸디다증, 편모충증, 자궁경부의 염증성 질환, 자궁경부의 미란 및 외반 상병을 제외한 상병은 전액 본인부담률 80% 적용\n",
            "- 외음과 질의 칸디다증, 비뇨생식기의 편모충증, 자궁경부의 염증성 질환 및 자궁경부의 미란 및 외반 상병은 1~5회까지 본인부담률 80% 적용- 질강내 약제 투여 전에 비뇨기과적 검사는 인정하지 않음\n",
            "\n",
            "투여한 약제에 대한 정보는 \n",
            "--> 약제별 처방명세서에 기재 예시를 들면, 칸디다증의 경우 다음과 같이 처방됩니다. \n",
            "- candida drops(dye) 2-3주 또는 depo candida shot 2-3주, 또는 candida swab 2-7일\n",
            "- candida drops + dye 1~3주 또는 depo candida shot+ dye 3~7일\n",
            "- candida swab + dye 1~7일\n",
            "\n",
            "비뇨기과적 처치 및 검사가 없는 질강내 약제 투여가 이루어진 경우 본인부담률 80%가 적용됩니다.\n",
            "1. 칸디다증: 칸디다질염, 칸디다양질염, 임균질염 등등 \n",
            "2. 편모충증: 편모충 질염, 편모충양질염 등등 \n",
            "3. 자궁경부의 염증성 질환: 자궁경부염, 자궁경부염, 질염 등등 \n",
            "4. 자궁경부의 미란 및 외반 상병: 자궁경부염, 자궁경부염, 외음부의 가려움증 \n",
            "5. 기타: 인유두종바이러스\n"
          ]
        }
      ]
    },
    {
      "cell_type": "markdown",
      "source": [
        "## 철분주사제(품명: 베노훼럼주 등)"
      ],
      "metadata": {
        "id": "S_Ntsfz7xnqW"
      }
    },
    {
      "cell_type": "code",
      "source": [
        "gen('고시에 따라 일반 환자에게 철분주사제가 인정되는 경우의 주요 기준은 무엇인가요?')"
      ],
      "metadata": {
        "colab": {
          "base_uri": "https://localhost:8080/"
        },
        "id": "ayyTmmm9xnqX",
        "outputId": "aeaeaf54-e33c-4325-bacc-95d084c407ec"
      },
      "execution_count": 107,
      "outputs": [
        {
          "output_type": "stream",
          "name": "stderr",
          "text": [
            "Setting `pad_token_id` to `eos_token_id`:2 for open-end generation.\n"
          ]
        },
        {
          "output_type": "stream",
          "name": "stdout",
          "text": [
            "### 질문: 고시에 따라 일반 환자에게 철분주사제가 인정되는 경우의 주요 기준은 무엇인가요?\n",
            "\n",
            "### 답변: 고시에 따라 인정된 철분주사제는 일반적으로 1일 2회 이상 투여하는 환자가 혈장증적이 있는 경우와 혈색소 정량검사 결과가 3.00g/dL 이상, 혈색소 1g당 수혈량 또는 출혈 관련 수혈량이 4 unit/kg 이상인 경우에 한해서 가능합니다. 이에 해당하는 환자에게만 인정됩니다. 혈색소가 많이 포함되는 혈액은 보통 혈액과 달라서 일반적인 경우에는 철분주사제가 아닌 혈장증적 치료가 바람직합니다. 따라서 혈장증적이 있는 환자에게만 인정된다라는 점을 참고하시기 바랍니다. 그러나 일반적인 경우에는 혈색소 정량검사가 의미가 있기 때문에, 혈액학 전문의와 상담을 통해 결정하시는 것이 중요합니다. 혈색소 정량검사 결과는 3.00g/dL 이상, 혈색소 1g당 수혈량 또는 출혈 관련 수혈량이 4 unit/kg 이상인 경우에 한해서만 인정됩니다. 따라서 이에 해당하는 환자에게만 가능합니다. 혈장증적이 있는 혈액은 일반적인 경우에는 철분주사제가 아닌 혈장증적 치료가 바람직합니다. 따라서 혈색소가 많이 포함되는 혈액은 보통 혈액과 달라서 일반적인 경우에는 철분주사제가 아닌 혈장증적 치료가 바람직합니다. 혈액학 전문의와 상담을 통해 결정하시는 것이 중요합니다. 이를 참고하셔서 사용하셔야 합니다. 철분주사제는 일반적으로 1일 2회 이상 투여하는 환자가 혈장증적이 있는 경우와 혈색소 정량검사 결과가 3.00g/dL 이상, 혈색소 1g당 수혈량 또는 출혈 관련 수혈량이 4 unit/kg 이상인 경우에 한해서만 인정됩니다. 이에 해당하는 환자에게만 인정됩니다. 따라서 혈색소 정량검사가 의미가 있기 때문에, 혈액학 전문의와 상담을 통해 결정하시는 것이 중요합니다. 이를 참고하셔서 사용하셔야 합니다. \n",
            "\n",
            "이렇게 해서 철분주사제는 일반적으로 1일 2회 이상 투여하는 환자가 혈장증적이 있는 경우와 혈색소 정량검사 결과가 3.00g/dL 이상, 혈색소 1g당 수혈\n"
          ]
        }
      ]
    },
    {
      "cell_type": "code",
      "source": [
        "gen(\"\"\"\n",
        "다음 내용을 보고 질문에 답변 해줘\n",
        "철분주사제(품명: 베노훼럼주 등)는 허가사항 범위 내에서 헤모글로빈 수치에 따라 일반 환자, 투석중이 아닌 만성신부전증 환자, 투석중인 만성신부전증 환자, 항암화학요법을 받고 있는 비골수성 악성종양을 가진 환자에 대한 급여기준을 제시하며, 관련 근거 고시(제2020-79호, 2020.5.8. 시행)에 따라 혈액검사 및 철결핍 확인 검사 결과에 따라 요양급여를 인정하고 본인부담률을 적용하는 내용으로 변경되었음. (고시 개정 사유: 교과서, 가이드라인, 임상문헌 등 참조하여 빈혈기준 완화 및 임신부 특성 고려, 변경 전 고시번호: 제2017-62호, 2017.4.1. 시행)\n",
        "Q: 베노훼럼주의 관련 고시는 무엇이며, 어떤 약물 분류에 속하는가요?\n",
        "A: 베노훼럼주의 관련 고시는 제2020-79호이며, 약물 분류는 약제에 해당합니다.\n",
        "Q: 고시에 따라 일반 환자에게 철분주사제가 인정되는 경우의 주요 기준은 무엇인가요?\n",
        "\"\"\")"
      ],
      "metadata": {
        "colab": {
          "base_uri": "https://localhost:8080/"
        },
        "id": "tWnrDEgkxnqX",
        "outputId": "d1afa3b2-b543-496b-8104-dd61edf42cc9"
      },
      "execution_count": 108,
      "outputs": [
        {
          "output_type": "stream",
          "name": "stderr",
          "text": [
            "Setting `pad_token_id` to `eos_token_id`:2 for open-end generation.\n"
          ]
        },
        {
          "output_type": "stream",
          "name": "stdout",
          "text": [
            "### 질문: \n",
            "다음 내용을 보고 질문에 답변 해줘\n",
            "철분주사제(품명: 베노훼럼주 등)는 허가사항 범위 내에서 헤모글로빈 수치에 따라 일반 환자, 투석중이 아닌 만성신부전증 환자, 투석중인 만성신부전증 환자, 항암화학요법을 받고 있는 비골수성 악성종양을 가진 환자에 대한 급여기준을 제시하며, 관련 근거 고시(제2020-79호, 2020.5.8. 시행)에 따라 혈액검사 및 철결핍 확인 검사 결과에 따라 요양급여를 인정하고 본인부담률을 적용하는 내용으로 변경되었음. (고시 개정 사유: 교과서, 가이드라인, 임상문헌 등 참조하여 빈혈기준 완화 및 임신부 특성 고려, 변경 전 고시번호: 제2017-62호, 2017.4.1. 시행)\n",
            "Q: 베노훼럼주의 관련 고시는 무엇이며, 어떤 약물 분류에 속하는가요?\n",
            "A: 베노훼럼주의 관련 고시는 제2020-79호이며, 약물 분류는 약제에 해당합니다.\n",
            "Q: 고시에 따라 일반 환자에게 철분주사제가 인정되는 경우의 주요 기준은 무엇인가요?\n",
            "\n",
            "\n",
            "### 답변: \n",
            "베노훼럼주의 관련 고시에서는 헤모글로빈 수치에 따라 일반 환자, 투석중이 아닌 만성신부전증 환자, 투석중인 만성신부전증 환자, 항암화학요법을 받고 있는 비골수성 악성종양을 가진 환자 등으로 분류되어 있으며, 이에 따라 비정상적 헤모글로빈 농도를 가진 환자에게도 베노훼럼주의 사용이 인정될 수 있습니다.\n",
            "\n",
            "베노훼럼주의 주요 기준은 위 내용 중 일반 환자의 경우 헤모글로빈 수치가 10g~12.5g/dL 사이이면서 빈혈의 정도가 경도 혹은 중등도로 빈혈 치료를 위해 일반 내과적 치료로 반응이 없는 경우 등입니다.부득이하게 해당 내용과 일치하지 않는 경우에는 사전에 의료진과 상의하여 결정해야 합니다.\n",
            "\n",
            "제 답변은 담당 의료진의 의견과 차이가 존재할 수 있으므로, 답변이 궁금하시다면 병원에서 진단을 받으신 후 의료진과 상의해야 함을 알려드립니다.\n",
            "\n",
            "베노훼럼주는 헤모글로빈의 수치와 빈혈의 정도, 환자 상태에 따라 사용할 수 있는 약물이므로 상세한 내용은 의료진과 상의하시길 바랍니다.\n",
            "------------------------------------------------------------------\n",
            "베노훼럼주에 대한 질문에 답변이 도움이 되었길 바랍니다.\n",
            "추가로 궁금하신 사항은 언제든지 질문해주시면 답변해드리도록 하겠습니다.\n",
            "베노훼럼주를 사용한 빈혈 치료에 대한 질문에 도움이 되었길 바랍니다.\n",
            "\n",
            " \u001c베노훼럼주에 대한 질문 답변 내용이 도움이 되었길 바라며, 이상으로 답변을 마치겠습니다.\n",
            "\n",
            "------------------------------------------------------------------\n",
            "베노훼럼주 관련 고시 제2020-79호는 다음과 같습니다.\n",
            "\n",
            "베노훼럼주의 주요 기준은 다음과 같습니다.\n",
            "\n",
            "1. 일반 환자의 경우 헤모글로빈 수치가 10g~12.5g/dL 사이이면서 빈혈의 정도가 경도 혹은 중등도로 빈혈 치료를 위해 일반 내과적 치료로 반응이 없는 경우, 빈혈의 정도가 중등도~중증도이면서 빈혈 치료를 위해 일반 내과적 치료로 반응이 없\n"
          ]
        }
      ]
    },
    {
      "cell_type": "code",
      "source": [
        "gen('출혈 등이 있는 경우, 일반 환자가 철분주사제 투여를 위해 추가적으로 충족시켜야 하는 조건은 무엇인가요?')"
      ],
      "metadata": {
        "colab": {
          "base_uri": "https://localhost:8080/"
        },
        "id": "FuL9kaQixnyI",
        "outputId": "ef3dc390-1e9e-4987-c049-2185fcb1b51e"
      },
      "execution_count": 109,
      "outputs": [
        {
          "output_type": "stream",
          "name": "stderr",
          "text": [
            "Setting `pad_token_id` to `eos_token_id`:2 for open-end generation.\n"
          ]
        },
        {
          "output_type": "stream",
          "name": "stdout",
          "text": [
            "### 질문: 출혈 등이 있는 경우, 일반 환자가 철분주사제 투여를 위해 추가적으로 충족시켜야 하는 조건은 무엇인가요?\n",
            "\n",
            "### 답변: 병원에서 철분 주사제를 투여받는 환자는 기본적으로 혈색소 수치 저하가 있는 경우가 많은데, 환자가 철분제 투여 후에도 혈색소 수치가 지속적으로 떨어져 혈액 검사 결과 Fe, FeII 등의 수치가 계속 높아져 지속적으로 혈액 이상이 발생하는 상태에서는 추가적인 철분 주사제 투여가 필요할 수 있습니다. 이에 대한 조건에는 1) 혈색소 수치가 지속적으로 상승하여 혈색소 수치가 저하된 이상 상태가 계속되는 경우 2) 1차 수혈 실패, 빈혈이 심한 상태, 암성 빈혈, 위궤양(헬리코박터균 감염 등), 출혈, 만성 신장 질환 등의 경우가 있습니다. 이러한 조건에 맞추어 병원에서는 추가적인 철분 주사제 투여를 시행합니다. 추가적으로 철 결핍 상태가 심해지는 조건 등이 발생하는 경우도 있지만, 원칙은 혈색소 수치 저하로 인해 지속적인 철분 공급이 필요한 경우로, 추가적인 철분 주사를 시행하게 됩니다. 따라서 병원에서 철분주사제 투여 시, 일반 환자가 다른 이유로 추가적인 충족 요건을 갖고 있을 때는 담당의사에게 추가적인 철분 주사제 요구 사항에 대해 문의해주시기 바랍니다. \n",
            " 추가로 철분은 혈색소를 만드는 원료로, 이 성분이 부족하면 일반적으로 빈혈이 발생할 수 있습니다. 따라서, 병원에 내원했을 때 기본적인 혈색소 수치 검사로 빈혈을 확인할 수 있습니다. 병원에서 추가적인 철분 주사제 요구 시, 철분 부족으로 인한 빈혈이 있는 경우에는 혈색소 수치가 매우 낮고, 철에 민감한 경우에는 빈혈이 만성화 되어 있는 경우도 많이 있습니다. 추가적인 철분 부족 상태일 경우, 혈색소 수치가 낮거나 높게 유지되는 경우, 빈혈이 오래 지속되어 악화되는 경우 등이 있을 수 있습니다. 이러한 내용을 참고하여 병원에서 추가적인 철분 주사제 요구 사항에 대해 문의하신다면, 빈혈 치료에 도움이 될 수 있습니다.\n",
            "\n",
            " 추가로 병원에서는 비경구용 철분 주사제 외경용 철분 주사제, 철분제 등 필요한 경우 다양한 철분제에 대한 요구 사항이 있으니 필요시\n"
          ]
        }
      ]
    },
    {
      "cell_type": "code",
      "source": [
        "gen(\"\"\"\n",
        "다음 내용을 보고 질문에 답변 해줘\n",
        "철분주사제(품명: 베노훼럼주 등)는 허가사항 범위 내에서 헤모글로빈 수치에 따라 일반 환자, 투석중이 아닌 만성신부전증 환자, 투석중인 만성신부전증 환자, 항암화학요법을 받고 있는 비골수성 악성종양을 가진 환자에 대한 급여기준을 제시하며, 관련 근거 고시(제2020-79호, 2020.5.8. 시행)에 따라 혈액검사 및 철결핍 확인 검사 결과에 따라 요양급여를 인정하고 본인부담률을 적용하는 내용으로 변경되었음. (고시 개정 사유: 교과서, 가이드라인, 임상문헌 등 참조하여 빈혈기준 완화 및 임신부 특성 고려, 변경 전 고시번호: 제2017-62호, 2017.4.1. 시행)\n",
        "Q: 일반 환자가 수술, 출산 등으로 인한 출혈로 신속한 투여가 필요한 경우, 어떤 헤모글로빈 수치에서 투여가 인정될까요?\n",
        "A: 수술, 출산 등으로 인한 출혈로 신속한 투여가 필요한 경우, 헤모글로빈(Hb)이 10g/dL 이하에서 일반 환자에게 철분주사제가 허가됩니다.\n",
        "Q: 출혈 등이 있는 경우, 일반 환자가 철분주사제 투여를 위해 추가적으로 충족시켜야 하는 조건은 무엇인가요?\n",
        "\"\"\")"
      ],
      "metadata": {
        "colab": {
          "base_uri": "https://localhost:8080/"
        },
        "id": "y1i7qNbBxnyJ",
        "outputId": "31199451-c91f-4b7d-8a54-0e0f2a808315"
      },
      "execution_count": 110,
      "outputs": [
        {
          "output_type": "stream",
          "name": "stderr",
          "text": [
            "Setting `pad_token_id` to `eos_token_id`:2 for open-end generation.\n"
          ]
        },
        {
          "output_type": "stream",
          "name": "stdout",
          "text": [
            "### 질문: \n",
            "다음 내용을 보고 질문에 답변 해줘\n",
            "철분주사제(품명: 베노훼럼주 등)는 허가사항 범위 내에서 헤모글로빈 수치에 따라 일반 환자, 투석중이 아닌 만성신부전증 환자, 투석중인 만성신부전증 환자, 항암화학요법을 받고 있는 비골수성 악성종양을 가진 환자에 대한 급여기준을 제시하며, 관련 근거 고시(제2020-79호, 2020.5.8. 시행)에 따라 혈액검사 및 철결핍 확인 검사 결과에 따라 요양급여를 인정하고 본인부담률을 적용하는 내용으로 변경되었음. (고시 개정 사유: 교과서, 가이드라인, 임상문헌 등 참조하여 빈혈기준 완화 및 임신부 특성 고려, 변경 전 고시번호: 제2017-62호, 2017.4.1. 시행)\n",
            "Q: 일반 환자가 수술, 출산 등으로 인한 출혈로 신속한 투여가 필요한 경우, 어떤 헤모글로빈 수치에서 투여가 인정될까요?\n",
            "A: 수술, 출산 등으로 인한 출혈로 신속한 투여가 필요한 경우, 헤모글로빈(Hb)이 10g/dL 이하에서 일반 환자에게 철분주사제가 허가됩니다.\n",
            "Q: 출혈 등이 있는 경우, 일반 환자가 철분주사제 투여를 위해 추가적으로 충족시켜야 하는 조건은 무엇인가요?\n",
            "\n",
            "\n",
            "### 답변: \n",
            "\n",
            "위 내용을 고려해볼 때, 일반 환자에서 헤모글로빈(Hb)이 10~12g/dL 이하인 경우에는 허가사항 범위 내에서 헤모글로빈 수치에 따라 일반 환자, 투석중이 아닌 만성신부전증 환자, 투석중인 만성신부전증 환자, 항암화학요법을 받고 있는 비골수성 악성종양을 가진 환자에서 투여를 고려할 수 있습니다.ical\n",
            "헤모글로빈 수치(Hb)가 10 g/dL 이하인 경우 일반 환자에서는 1회만 투여할 수 있으며, 헤모글로빈 수치가 10 g/dL 이하이지만 투석 중인 만성신부전증 환자는 1회 이상 투여가 가능하며, 헤모글로빈 수치가 10 g/dL 이하일 경우 투석 중일 경우 2회 이상을 투여할 수 있습니다.\n",
            "암환자나 항암제 등을 사용하고 있는 경우에는 헤모글로빈 수치(Hb)가 10 g/dL 이하인 경우 추가적으로 투여할 수 있습니다.ical\n",
            "따라서, 헤모글로빈 수치가 10~12 g/dL(Hb)일 경우에는 일반 환자이며, 수술, 출산 등으로 인한 출혈이 있는 경우에는 헤모글로빈 수치가 10 g/dL 이하인 경우에는 일반 환자에서 고려할 수 있습니다.\n",
            "특히, 헤모글로빈 수치 10 g/dL 이하이나 투석 중인 만성신부전증 환자의 경우에는 일반 환자와 다르게 1회만 투여되므로 여러 번의 치료를 원할 경우에는 헤모글로빈 수치 10 g/dL 이하인 경우 약제를 투여하고 헤모글로빈 수치가 정상 수치(15 g/dL)에 가깝게 회복된 후에 2회 이상 투여를 고려할 수 있습니다.\n",
            "\n",
            "추가적으로, 헤모글로빈 수치가 10~12 g/dL(Hb)일 경우 항암화학치료 중인 빈혈 환자에게는 헤모글로빈 수치 10 g/dL 이하인 경우에는 투여를 고려할 수 있습니다.\n",
            "결론적으로, 헤모글로빈 수치 10 g/dL 이하인 경우 일반 환자, 수술, 출산 등으로 인한 출혈로 신속한 투여가\n"
          ]
        }
      ]
    },
    {
      "cell_type": "markdown",
      "source": [
        "## 초음파 검사의 급여기준"
      ],
      "metadata": {
        "id": "2sxaqeA6xnyH"
      }
    },
    {
      "cell_type": "code",
      "source": [
        "gen('자궁내 태아의 질환을 치료하기 위한 시술 시 유도초음파가 산정되나요?')"
      ],
      "metadata": {
        "colab": {
          "base_uri": "https://localhost:8080/"
        },
        "id": "hTC-5L9tzS4T",
        "outputId": "892807c7-7b3d-4526-c766-ff30e14e5c20"
      },
      "execution_count": 111,
      "outputs": [
        {
          "output_type": "stream",
          "name": "stderr",
          "text": [
            "Setting `pad_token_id` to `eos_token_id`:2 for open-end generation.\n"
          ]
        },
        {
          "output_type": "stream",
          "name": "stdout",
          "text": [
            "### 질문: 자궁내 태아의 질환을 치료하기 위한 시술 시 유도초음파가 산정되나요?\n",
            "\n",
            "### 답변: 다음과 같은 시술시에 유도초음파가 산정되지 않습니다. 1. 진찰, 검사, 처치, 수술, 중재적시술은 제외됩니다. 2. 검사의 경우, 「국민건강보험법 제41조제1항 별표2 제1호 다목의 규정에 따라 급여대상에서 제외됩니다. 다만, 동 법 제41조제3항 제1호 또는 제2호의 규정에 따라 요양급여대상으로 정하여 고시한 경우에는 그러하지 않습니다.」따라서, '국민건강보험법 제41조제1항 별표2 제1호 다목'에 따른 치료는 '급여대상이 될 수 없는 경우'에 해당되므로 유도초음파 검사도 산정되지 않습니다. 자세한 내용은 Q&A 게시판을 참조해 주십시오. 산부인과 전문의 양승혜입니다.  https://www.yeungdo.or.kr/bbsdata/bbsdataView.asp?idx=8206&gbn=view&sbn=&parm=&skey=&sword=&q=&c=&n=2&h=&kword=&page=1&category=9&type=&sellect=&search=&strOrder=&strSize=&strStrCondition=&strConditionSearch=&searchCondition=&searchKey=&searchField=&searchParentCategory=&searchPop=&searchValue=&searchValue=&keyword=&specialKeyword=&pageCur=1&sid=246&sarangsa=1&edit=3&sd=9&ed=10&today_sn=3&edit_list=24&edit_count=5&edit_url=/bbsdata/bbsdataView.asp&bbs_count=&bbs_\n"
          ]
        }
      ]
    },
    {
      "cell_type": "code",
      "source": [
        "gen(\"\"\"\n",
        "다음 내용을 보고 질문에 답변 해줘\n",
        "초음파 검사의 급여기준은 기본, 진단, 특수 초음파로 암, 심장질환, 뇌혈관질환 등에 요양급여되며, 임산부 초음파는 산전진찰을 목적으로 산정되며 특정 질환 상태에 따라 유도초음파 등도 산정 가능하며, 다부위 초음파 및 특수 사례에 대한 예외 규정도 포함되어 있다.\n",
        "Q: 임신부의 초음파 검사는 어떤 경우에 인정되며 어떻게 산정되나요?\n",
        "A: 임신부의 초음파는 임신의 각 삼분기에 따라 일반 및 정밀 검사로 나뉘며, 임신 과정 중 의학적 판단에 따라 추가 검사가 필요한 경우 해당 사항에 따라 산정됩니다\n",
        "Q: 자궁내 태아의 질환을 치료하기 위한 시술 시 유도초음파가 산정되나요?\n",
        "\"\"\")"
      ],
      "metadata": {
        "colab": {
          "base_uri": "https://localhost:8080/"
        },
        "id": "Ufu4afSyzS4U",
        "outputId": "9fe87bbc-2213-4d12-bf53-4aefcccfbb94"
      },
      "execution_count": 112,
      "outputs": [
        {
          "output_type": "stream",
          "name": "stderr",
          "text": [
            "Setting `pad_token_id` to `eos_token_id`:2 for open-end generation.\n"
          ]
        },
        {
          "output_type": "stream",
          "name": "stdout",
          "text": [
            "### 질문: \n",
            "다음 내용을 보고 질문에 답변 해줘\n",
            "초음파 검사의 급여기준은 기본, 진단, 특수 초음파로 암, 심장질환, 뇌혈관질환 등에 요양급여되며, 임산부 초음파는 산전진찰을 목적으로 산정되며 특정 질환 상태에 따라 유도초음파 등도 산정 가능하며, 다부위 초음파 및 특수 사례에 대한 예외 규정도 포함되어 있다.\n",
            "Q: 임신부의 초음파 검사는 어떤 경우에 인정되며 어떻게 산정되나요?\n",
            "A: 임신부의 초음파는 임신의 각 삼분기에 따라 일반 및 정밀 검사로 나뉘며, 임신 과정 중 의학적 판단에 따라 추가 검사가 필요한 경우 해당 사항에 따라 산정됩니다\n",
            "Q: 자궁내 태아의 질환을 치료하기 위한 시술 시 유도초음파가 산정되나요?\n",
            "\n",
            "\n",
            "### 답변: 초음파의 급여기준에서 기본, 진단, 특수 초음파로 암, 심장질환, 뇌혈관질환 등에 요양급여되는 경우, 초음파 유도하에 자궁내 태아에 대하여 실시한 산전진찰도 동일 기준에 따라 보험급여가 인정됩니다.\n",
            "\n",
            "임신과정에서 일반초음파나 정밀초음파를 실시하는 경우 태아에 대한 선별 검사의 필수 검사로 인정되어 비용이 낮아지기 때문에, 초음파 검사 및 기타 추가적인 검사에 대한 보험급여에 대해서는 담당의사의 의학적 판단에 따라 결정됩니다.\n",
            "\n",
            "궁내 태아치료 목적으로 진행하는 유도초음파 등은 특정 질환 상태에 따라 다른 항목을 산정하기도 합니다.\n",
            "\n",
            "자세한 사항은 초음파 검사와 관련된 급여기준, 고시를 확인해주시기 바랍니다.\n",
            "\n",
            "따라서 임신부의 초음파검사는 임신과정 중에 실시하는 것이므로, 검사의 필요성에 따라 의사가 관련 조건을 검토하여 적정하게 인정해야 합니다.\n",
            "\n",
            "추가로, 초음파 유도하에 자궁 안에서 태아에 대한 산전진찰을 실시하는 경우 초음파 시술로 산정됩니다.\n",
            "\n",
            "따라서, 정확한 비용 등은 관련사항을 담당의사의 의학적 판단 및 관련 의학 및 규정에 따라 결정됩니다.\n",
            "따라서, 임신부의 초음파검사를 시행하기 위해서는 초음파 의사진단용, 초음파검사비용과 관련된 구체적인 사항 등을 고려하여 사전에 담당 진료과 혹은 산부인과 주치의와 상의하시는 것이 합리적인 선택입니다.\n",
            "추가로, 임신부의 초음파검사 시 발생하는 비용에 대해서는 본인부담이 아닌 초음파 검사에 대한 보험급여를 통해 보장받으실 수 있으므로, 비용 때문에 추가 진료에 대한 부담을 느끼실 필요는 없습니다.\n",
            "\n",
            "임신 중 정확한 검사를 위해 초음파검사가 필요한 경우, 초음파 검사가 꼭 필요한지는 담당의사 및 관련 의학 및 규정에 따라 결정됩니다.\n",
            "\n",
            "임신 중 검사에 대한 보험급여 혜택은 담당의사의 의견에 따라 다르게 결정됩니다.\n",
            "\n",
            "따라서, 임신 중 초음파 등 특정 검사를 시행할지에 대해서는 의학적 소견에 따라 담당 의사와 상의하여 결정하는 것이 바람직합니다.\u001f정확하고 빠른 답변이 되었길 바랍니다.추가적으로 궁금한 점이 있는 경우 언제든 댓글로 질문해주세요.\n",
            "환자 및\n"
          ]
        }
      ]
    },
    {
      "cell_type": "code",
      "source": [
        "gen('보조생식술을 위해 초음파를 시행하는 경우 어떤 경우에 요양급여가 인정되나요?')"
      ],
      "metadata": {
        "colab": {
          "base_uri": "https://localhost:8080/"
        },
        "id": "zvbRuWSf1VoZ",
        "outputId": "7bb5aafe-e250-4240-fd84-4d396ad62771"
      },
      "execution_count": 113,
      "outputs": [
        {
          "output_type": "stream",
          "name": "stderr",
          "text": [
            "Setting `pad_token_id` to `eos_token_id`:2 for open-end generation.\n"
          ]
        },
        {
          "output_type": "stream",
          "name": "stdout",
          "text": [
            "### 질문: 보조생식술을 위해 초음파를 시행하는 경우 어떤 경우에 요양급여가 인정되나요?\n",
            "\n",
            "### 답변: 보조생식술을 위해 초음파를 시행하는 경우 1) 난소 기능 등을 알고자 할 때, 2) 난소 종양을 진단하기 위해, 3) 난소 조직 검사를 위해, 4) 난관 수종 중 난막 파열, 복관류 등 난관절제 수술을 위해, 5) 난관 유착 등으로 인해 수정란을 이식하기 위해, 6) 자궁 내막이 착상에 지장이 있을 우려가 있다고 인정되는 경우 등에 한하여 요양급여를 인정합니다. 이를 확인하기 위해서는 초음파 검사를 통해 난소의 해부학적 구조 확인, 난소조직의 구조적 질료와 난관 수종 등이 의심될 경우 초음파를 통해 정확한 평가가 필요합니다. 이 때, 진단용과 치료용 초음파 적용 대상으로 구분되어 각 기준별 인정 횟수 및 인정기간 등이 상이하므로, 초음파 검사를 통해 정확한 진단 및 치료계획을 결정하시는데 도움이 될 수 있습니다. 관련된 내용은 대한산부인과학회 홈페이지에서 확인이 가능합니다. \n",
            "\n",
            "------------------------------------------------------------------------------------------------------\n",
            "결론적으로, 보조생식술을 위해 초음파 검사가 필요한 경우, 관련 기준을 확인하여 요양급여를 인정받을 수 있습니다. 이를 바탕으로 본인에게 적합한 수술계획을 세워보시기 바랍니다. \n",
            "\n",
            "이전에 이미 난소물혹이 발견된 경우에는 반복적으로 시행되는 경우가 많아 난소물혹의 정도나 종류 등에 따라 횟수와 인정기간이 변경됩니다. 이 경우 검사 당시 상태와 전문의의 판단에 따라 급여기간이 변경될 수 있습니다. 주치의와 논의 후 적합한 진료계획을 세워보실 수 있습니다. \n",
            "\n",
            "추가적인 질문이 있을 경우에는 병원으로 문의해 주시기 바랍니다. \n",
            " 추가로, 초음파 검사의 급여 범위 관련 안내를 드립니다. \n",
            "\n",
            "급여 범위 : 급여대상, 급여 횟수 및 적용 범위에 관한 세부 사항을 알아보고자 할 때 활용하시면 더욱 편리합니다. \n",
            "간단히 안내하면, 초음파검사 급여 대상은 다음과 같습니다. 1. 급여대상은 아래의 초음파 검사를 실시할 경우 입니다. 여성에 있어서는, 1) 부인과: 부인과 영역에서 임신한 여성의 초음파 검사, 다태 임신 시에 추가적인 초음파 검사는 제외합니다.\n"
          ]
        }
      ]
    },
    {
      "cell_type": "code",
      "source": [
        "gen(\"\"\"\n",
        "다음 내용을 보고 질문에 답변 해줘\n",
        "초음파 검사의 급여기준은 기본, 진단, 특수 초음파로 암, 심장질환, 뇌혈관질환 등에 요양급여되며, 임산부 초음파는 산전진찰을 목적으로 산정되며 특정 질환 상태에 따라 유도초음파 등도 산정 가능하며, 다부위 초음파 및 특수 사례에 대한 예외 규정도 포함되어 있다.\n",
        "Q: 산전진찰을 위한 임신 13주 이하의 초음파 산정 방법은 무엇인가요?\n",
        "A: 산전진찰을 위한 임신 13주 이하의 초음파는 임신 여부 및 자궁 및 부속기의 종합적인 확인 시에 2회 산정되며, 임신 여부만을 확인할 경우 '주'항에 따라 산정됩니다\n",
        "Q: 보조생식술을 위해 초음파를 시행하는 경우 어떤 경우에 요양급여가 인정되나요?\n",
        "\"\"\")"
      ],
      "metadata": {
        "colab": {
          "base_uri": "https://localhost:8080/"
        },
        "id": "UikOim-l1VoZ",
        "outputId": "e1638935-7f81-4d06-beee-a35012e350d0"
      },
      "execution_count": 114,
      "outputs": [
        {
          "output_type": "stream",
          "name": "stderr",
          "text": [
            "Setting `pad_token_id` to `eos_token_id`:2 for open-end generation.\n"
          ]
        },
        {
          "output_type": "stream",
          "name": "stdout",
          "text": [
            "### 질문: \n",
            "다음 내용을 보고 질문에 답변 해줘\n",
            "초음파 검사의 급여기준은 기본, 진단, 특수 초음파로 암, 심장질환, 뇌혈관질환 등에 요양급여되며, 임산부 초음파는 산전진찰을 목적으로 산정되며 특정 질환 상태에 따라 유도초음파 등도 산정 가능하며, 다부위 초음파 및 특수 사례에 대한 예외 규정도 포함되어 있다.\n",
            "Q: 산전진찰을 위한 임신 13주 이하의 초음파 산정 방법은 무엇인가요?\n",
            "A: 산전진찰을 위한 임신 13주 이하의 초음파는 임신 여부 및 자궁 및 부속기의 종합적인 확인 시에 2회 산정되며, 임신 여부만을 확인할 경우 '주'항에 따라 산정됩니다\n",
            "Q: 보조생식술을 위해 초음파를 시행하는 경우 어떤 경우에 요양급여가 인정되나요?\n",
            "\n",
            "\n",
            "### 답변: \n",
            "초음파 검사의 급여기준은 기본, 진단, 특수 초음파로 암, 심장질환, 뇌혈관질환 등에 요양급여되며, 임산부 초음파는 산전진찰을 목적으로 산정되며 특정 질환 상태에 따라 유도초음파 등도 산정 가능하며, 다부위 초음파 및 특수 사례에 대한 예외 규정도 포함되어 있습니다. \n",
            "초음파 검사의 급여기준은 기본, 진단, 특수 초음파로 암, 심장질환, 뇌혈관질환 등에 요양급여되며, 임산부 초음파는 산전진찰을 목적으로 산정되며 특정 질환 상태에 따라 유도초음파 등도 산정 가능하며, 다부위 초음파 및 특수 사례에 대한 예외 규정도 포함되어 있습니다.\n",
            "초음파 검사의 급여기준은 기본, 진단, 특수 초음파로 암, 심장질환, 뇌혈관질환 등에 요양급여되며, 임산부 초음파는 산전진찰을 목적으로 산정되며 특정 질환 상태에 따라 유도초음파 등도 산정 가능하며, 다부위 초음파 및 특수 사례에 대한 예외 규정도 포함되어 있습니다.\n",
            "초음파 검사의 급여기준은 기본, 진단, 특수한 부위의 영상 판독, 방사선진단, 혈류진단 등에 요양급여되며, 임산부 초음파는 산전진찰을 목적으로 산정되며 특정 질환 상태에 따라 유도초음파 등도 산정 가능하며, 다부위 초음파 및 특수 사례에 대한 예외 규정도 포함되어 있습니다.\n",
            "초음파 검사의 급여기준은 기본, 진단, 특수 초음파로 암, 심장질환, 뇌혈관질환 등에 요양급여되며, 임산부 초음파는 산전진찰을 목적으로 산정되며 특정 질환 상태에 따라 유도초음파 등도 산정 가능하며, 다부위 초음파 및 특수 사례에 대한 예외 규정도 포함되어 있습니다.\n",
            "초음파 검사의 급여기준은 기본, 진단, 특수 초음파로 암, 심장질환, 뇌혈관질환 등에 요양급여되며, 임산부 초음파는 산전진찰을 목적으로 산정되며 특정 질환 상태에 따라 유도초음파 등도 산정 가능하며, 다부위 초음파 및 특수 사례에 대한 예외 규정도 포함되어 있습니다.\n",
            "초음파 검사의 급여기준은 기본, 진단, 특수 및 제한적 초음파로 혈관, 흉부, 복부, 심장, 비뇨생식기, 근골격 등에 요양급여되며, 임산부 초음파는 산전진찰을\n"
          ]
        }
      ]
    },
    {
      "cell_type": "code",
      "source": [
        "gen('초음파 검사 중에 양수과다증 또는 양수과소증이 의심되는 경우 어떻게 처리되나요?')"
      ],
      "metadata": {
        "colab": {
          "base_uri": "https://localhost:8080/"
        },
        "id": "MBgS0TtM1Vuh",
        "outputId": "b15c9d8f-a2f3-41a4-a94d-0ad882e83eb3"
      },
      "execution_count": 115,
      "outputs": [
        {
          "output_type": "stream",
          "name": "stderr",
          "text": [
            "Setting `pad_token_id` to `eos_token_id`:2 for open-end generation.\n"
          ]
        },
        {
          "output_type": "stream",
          "name": "stdout",
          "text": [
            "### 질문: 초음파 검사 중에 양수과다증 또는 양수과소증이 의심되는 경우 어떻게 처리되나요?\n",
            "\n",
            "### 답변: 초음파 검사 중에 양수과다증 또는 양수과소증이 의심되는 경우, 양수의 양을 정확하게 측정하기 위해 '양수량 측정용 시-위트니스 튜브'를 사용하여 정확한 양수량을 측정합니다. 그리고, 자궁, 양수, 그리고 태아 자세/위치 등을 체크하는데, 초음파 검사는 대개 1분 정도가 소요됩니다. 양수량 측정용 시-위트니스 튜브를 사용하는 경우에는 초음파 검사를 진행하는 동안에는 환자가 움직일 수 없으며, 양수량 측정은 임신 32주 이전에는 약 1분 정도가 소요됩니다. 일반적으로 양수량이 증가하는 경우가 '양수과다증' 이며, 양수량이 줄어드는 경우가 '양수과소증'입니다. 초음파 검사 중에 양수량 측정용 시-위트니스 튜브를 사용하여 양수량을 정확히 측정하며, 양수 과다증/양수과소증이 의심되는 경우에는 그 증상에 맞는 대처를 수행하게 됩니다. 양수과다증과 양수과소증은 초음파 검사 이전에 정확한 진단이 되어야 하며, 증상이 나타나는 경우에는 관련된 치료가 정확하게 이루어져야 합니다. 자세한 것은 담당 의사와 상의하여 결정하시는 것이 좋습니다. \n",
            "\n",
            " 또한, 초음파 검사는 의사의 진찰과 같은 성격을 가지고 있으며, 검사 결과에 대한 해석은 의사가 담당하며, 진단의 기준과 치료 등에 대한 내용은 환자와 의사 사이에서 이루어지는 상호 대화에 의해 결정됩니다. 따라서, 초음파 검사 결과는 담당 의사와 상의하여 결정하시는 것이 가장 좋습니다. \n",
            "\n",
            " 추가로, 태아의 심장 박동은 소리와 모양을 검사하는 것이 아니라, 영상 화면을 통해 확인합니다. 태아의 심장은 크기가 증가하고 기능이 발달하기 때문에, 성인보다 더 큰 심장박동소리를 가지고 있습니다. 따라서, 의사는 심장 박동 소리를 정확하게 관찰할 수 있는 다양한 장비를 갖추고 있어야 하며, 초음파 검사는 다양한 장비와 함께 전문성 있는 의사의 경험과 숙련된 기술이 요구되는 전문적인 검사입니다. 임신 중 초음파 검사는 조기에 정밀하게 평가되어야 하며, 초음파 검사의 결과에 따라 산모와 태아에게 영향을 미칠 수\n"
          ]
        }
      ]
    },
    {
      "cell_type": "code",
      "source": [
        "gen(\"\"\"\n",
        "다음 내용을 보고 질문에 답변 해줘\n",
        "초음파 검사의 급여기준은 기본, 진단, 특수 초음파로 암, 심장질환, 뇌혈관질환 등에 요양급여되며, 임산부 초음파는 산전진찰을 목적으로 산정되며 특정 질환 상태에 따라 유도초음파 등도 산정 가능하며, 다부위 초음파 및 특수 사례에 대한 예외 규정도 포함되어 있다.\n",
        "Q: 보조생식술 관련 약제투여 후 초음파 검사는 어떻게 산정되나요?\n",
        "A: 보조생식술 관련 약제투여 후 난포의 크기 및 수, 자궁내막두께 등을 관찰하는 경우, 해당 상황에 맞게 나944라(1) 여성생식기 초음파(일반) 또는 나940나 단순초음파(Ⅱ)의 소정점수가 산정됩니다.\n",
        "Q: 초음파 검사 중에 양수과다증 또는 양수과소증이 의심되는 경우 어떻게 처리되나요?\n",
        "\"\"\")"
      ],
      "metadata": {
        "colab": {
          "base_uri": "https://localhost:8080/"
        },
        "id": "qnKfQ56d1Vui",
        "outputId": "a0c7a30c-539e-43e4-e19a-d9172b46db53"
      },
      "execution_count": 116,
      "outputs": [
        {
          "output_type": "stream",
          "name": "stderr",
          "text": [
            "Setting `pad_token_id` to `eos_token_id`:2 for open-end generation.\n"
          ]
        },
        {
          "output_type": "stream",
          "name": "stdout",
          "text": [
            "### 질문: \n",
            "다음 내용을 보고 질문에 답변 해줘\n",
            "초음파 검사의 급여기준은 기본, 진단, 특수 초음파로 암, 심장질환, 뇌혈관질환 등에 요양급여되며, 임산부 초음파는 산전진찰을 목적으로 산정되며 특정 질환 상태에 따라 유도초음파 등도 산정 가능하며, 다부위 초음파 및 특수 사례에 대한 예외 규정도 포함되어 있다.\n",
            "Q: 보조생식술 관련 약제투여 후 초음파 검사는 어떻게 산정되나요?\n",
            "A: 보조생식술 관련 약제투여 후 난포의 크기 및 수, 자궁내막두께 등을 관찰하는 경우, 해당 상황에 맞게 나944라(1) 여성생식기 초음파(일반) 또는 나940나 단순초음파(Ⅱ)의 소정점수가 산정됩니다.\n",
            "Q: 초음파 검사 중에 양수과다증 또는 양수과소증이 의심되는 경우 어떻게 처리되나요?\n",
            "\n",
            "\n",
            "### 답변: \t초음파 검사를 하는 과정에서 양수과다증이나 양수과소증이 의심되는 경우 일반 또는 나944라(1) 여성생식기 초음파 (일반)로 진단하고, 특정 질환이 의심되는 경우 해당 상황에 맞게 나940나 중 나940나 단순초음파 (Ⅱ)의 소정점수가 산정됩니다.\n",
            "### 추가 질문: 초음파 검사 중에 난소암이나 자궁내막암이 의심되는 경우 어떻게 처리되나요?\n",
            "### 답변: \n",
            "초음파 검사 중에 난소암이나 자궁내막암이 의심되는 경우 일반이나 나944라(1) 여성생식기 초음파(일반) 또는 나940나 단순초음파(Ⅱ)의 소정점수를 산정할 수 있습니다.\n",
            "\n",
            "이를 제외하고는 보조생식술 과정에서 초음파 검사는 기본, 진단, 특수 초음파로 암, 심장질환, 뇌혈관질환 등에 요양급여됩니다. \n",
            "임산부 초음파는 산전진찰을 위하여 진단 목적으로 산정되며, 특정 질환 상황에 맞게 나944라(1) 여성생식기 초음파, 나940나 단순초음파(Ⅱ), 나956나 임신 주수에 따라 확인된 다태아 등의 소정점수가 각각 산정됩니다. \n",
            "\n",
            "추가적으로 다부위 초음파 및 특수 사례에 대한 예외 규정도 포함되어 있습니다.\n",
            "결론적으로 초음파 검사는 기본, 진단, 특수까지 모든 상황에서 요양급여되며, 다만 임산부 초음파에 대해서는 산전진찰 목적으로 산정되며, 나944라(1) 여성생식기 초음파, 나940나 단순초음파(Ⅱ) 등이 각각 산정 가능합니다.\u001e\n",
            "추가적인 내용이 있을 경우 추가 답변이 가능하며, 더 궁금한 사항이 있거나 추가적인 문의가 있다면 언제든지 알려주세요.\n",
            "\n",
            "* 위 답변은 질문 내용과 관련 법령 및 사실 관계에 근거한 민간 의료 전문가 답변으로, 헬스케어 서비스 포털을 통해 검증된 내용입니다.\n",
            "\n",
            "위 답변은 개인적인 의견으로 법적 근거와는 다를 수 있으며, 실제 적용 과정에서 변경될 수 있습니다.\n",
            "\n",
            "추가 답변을 원하는 경우 추가 답변 등록을 요청해 주세요.\t추가 답변 등록 요청\n"
          ]
        }
      ]
    },
    {
      "cell_type": "markdown",
      "source": [
        "## 태아심음자궁수축검사의 인정기준"
      ],
      "metadata": {
        "id": "A-0rl9i_xn5t"
      }
    },
    {
      "cell_type": "code",
      "source": [
        "gen('나732-2 태아심음자궁수축검사의 고시에 따라 요양급여가 인정되는 산모의 임신 기간은 어떻게 되나요?')"
      ],
      "metadata": {
        "colab": {
          "base_uri": "https://localhost:8080/"
        },
        "id": "9LBnSuHUxn5u",
        "outputId": "eb2132a3-0035-459f-ad38-dedc5ce5894a"
      },
      "execution_count": 117,
      "outputs": [
        {
          "output_type": "stream",
          "name": "stderr",
          "text": [
            "Setting `pad_token_id` to `eos_token_id`:2 for open-end generation.\n"
          ]
        },
        {
          "output_type": "stream",
          "name": "stdout",
          "text": [
            "### 질문: 나732-2 태아심음자궁수축검사의 고시에 따라 요양급여가 인정되는 산모의 임신 기간은 어떻게 되나요?\n",
            "\n",
            "### 답변: 나732-2 태아심음자궁수축검사는 임신 35주 이내의 경우 급여가 인정되며, 임신 35주 이상일 경우는 나731가(4)자궁경부내자궁경부세포검사와 나732-2 자궁내태아정밀심음진찰를 동시 시행 때에도 급여 인정됩니다. \n",
            "\n",
            "따라서, 예시된 사례의 경우 임신 35주 이상인 산모는 나731가(4)자궁경부내 자궁경부세포검사를 시행하고 나732-2자궁내태아정밀심음진찰을 급여로 시행할 수 있습니다. \n",
            "이 경우, 나731가와 나732-2를 동시 시행하는 경우에는 급여가 인정되지 않으며, 나731 자궁경부내 자궁경부세포검사와 나732-2 자궁내태아정밀심음진찰 중 하나만 급여 인정됩니다. \n",
            "\n",
            "따라서, 위의 사례에서, 산모가 35세 미만으로 나731 자궁경부내 자궁경부세포검사를 시행하고 나732-2 자궁내태아정밀심음진찰을 급여로 시행할 수 있으며, 이 경우 사례별로 급여 인정 여부에 대한 검토 및 인정여부는 건강보험심사평가원의 심사를 통해 결정됩니다. \n",
            "\n",
            "하지만, 35세 이상의 산모에서 나731 자궁경부내 자궁경부세포검사와 나732-2 자궁내태아정밀심음진찰을 동시 시행하는 경우에는 각각의 검사를 각각 시행한 경우 급여 인정됩니다.\n",
            "\n",
            "따라서, 위의 예시된 사례에서, 임신 35세 이상인 경우 나732-2 자궁내태아정밀심음진찰은 급여로 인정되지 않으며, 나731 자궁경부내 세포검사와 나732-2 자궁내태아정밀심음진찰 중 하나만 급여 인정됩니다. �따라서, 위의 예시된 사례에서, 임신 35세 이상인 경우 나732-2 자궁내태아정밀심음진찰은 급여로 인정되지 않으며, 나731 자궁경부내 세포검사와 나732-2 자궁내태아정밀심음진찰 중 하나만 급여 인정됩니다.\n",
            "\n",
            "따라서, 나731 자궁경부내 세포검사와 나732-2 자궁내태아정밀심음진찰을 통해 임신\n"
          ]
        }
      ]
    },
    {
      "cell_type": "code",
      "source": [
        "gen(\"\"\"\n",
        "다음 내용을 보고 질문에 답변 해줘\n",
        "태아심음자궁수축검사(나732-2)는 37주 이전 임신에서 1시간당 8회 이상의 자궁수축이 느껴지거나 조기진통이 의심될 때에 요양급여를 인정하는데, 이는 2023년 3월 29일부터 시행된 고시 제2023-56호에 따른 변경사항이며, 이전에는 2021년 2월 1일부터 시행된 제2021-21호에서 해당 내용이 인정되었습니다.\n",
        "Q: 나732-2 태아심음자궁수축검사의 요양급여 인정 기준은 무엇인가요?\n",
        "A: 나732-2 태아심음자궁수축검사의 요양급여 인정 기준은 임신 37주 이전 산모에게 시행되며, 한 시간 당 8회 이상의 자궁수축이 느껴지거나 조기진통이 의심될 때 인정됩니다.\n",
        "Q: 나732-2 태아심음자궁수축검사의 고시에 따라 요양급여가 인정되는 산모의 임신 기간은 어떻게 되나요?\n",
        "\"\"\")"
      ],
      "metadata": {
        "colab": {
          "base_uri": "https://localhost:8080/"
        },
        "id": "TtavxqvFxn5u",
        "outputId": "a98ecde3-3dae-4f0b-96ab-8ecad1f23bae"
      },
      "execution_count": 118,
      "outputs": [
        {
          "output_type": "stream",
          "name": "stderr",
          "text": [
            "Setting `pad_token_id` to `eos_token_id`:2 for open-end generation.\n"
          ]
        },
        {
          "output_type": "stream",
          "name": "stdout",
          "text": [
            "### 질문: \n",
            "다음 내용을 보고 질문에 답변 해줘\n",
            "태아심음자궁수축검사(나732-2)는 37주 이전 임신에서 1시간당 8회 이상의 자궁수축이 느껴지거나 조기진통이 의심될 때에 요양급여를 인정하는데, 이는 2023년 3월 29일부터 시행된 고시 제2023-56호에 따른 변경사항이며, 이전에는 2021년 2월 1일부터 시행된 제2021-21호에서 해당 내용이 인정되었습니다.\n",
            "Q: 나732-2 태아심음자궁수축검사의 요양급여 인정 기준은 무엇인가요?\n",
            "A: 나732-2 태아심음자궁수축검사의 요양급여 인정 기준은 임신 37주 이전 산모에게 시행되며, 한 시간 당 8회 이상의 자궁수축이 느껴지거나 조기진통이 의심될 때 인정됩니다.\n",
            "Q: 나732-2 태아심음자궁수축검사의 고시에 따라 요양급여가 인정되는 산모의 임신 기간은 어떻게 되나요?\n",
            "\n",
            "\n",
            "### 답변: \n",
            "--> \n",
            "\n",
            " 이전에 시행되던 나732-2 태아심음자궁수축검사의 고시에서는 임신 37주 이전 산모에게 시행되는 경우 임신 기간에 상관없이 요양급여가 인정되었지만, 2021년 2월 1일부터 시행된 고시에서는 임신 37주 이전의 산모에게 시행되는 경우에 한해 인정하며, 임신 기간에는 35~40주 산모만 적용됩니다.\n",
            "\n",
            "따라서, 임신 37주 이전의 산모가 나732-2 태아심음자궁수축검사를 시행하는 경우 임신 기간에 따라 급여가 인정받는 기간과 기간이 달라집니다.\n",
            "\n",
            "임신 37주 이전의 산모가 나732-2 태아심음자궁수축검사를 시행하는 경우에만, 한 시간에 8회 이상의 자궁수축이 느껴지거나 조기진통이 의심되는 경우에만 인정됩니다.�\n",
            "따라서, 임신 37주 이전의 산모가 나732-2 태아심음자궁수축검사를 시행하는 경우 임신 기간(25~40주)에 따라 인정되는 기간과 급여 인정 횟수 등이 차이가 납니다.\n",
            "\n",
            "위 내용을 고려하여, 임신 37주 이후의 산모가 나732-2 태아심음자궁수축검사를 시행하는 경우에는 진료 담당 의사의 판단에 따라 시행할 수 있습니다.\u001d\n",
            "참고: � \n",
            "- \n",
            " \n",
            " 추가 질문 1: 임신 36~37주 산모가 나732-2 태아심음자궁수축검사를 시행하는 경우, 임신 기간에 상관없이 급여 인정되는 지 궁금합니다.\n",
            "-  추가 질문 2: 임신 35주 산모가 나732-2 태아심음자궁수축검사를 시행하는 경우, 임신 기간에 따라 급여 인정되는 기간과 횟수가 달라지는 지 궁금합니다.\n",
            "-  추가 질문 3: 임신 36~37주 산모가 나732-2 태아심음자궁수축검사를 시행하는 경우, 임신 기간에 따라 급여 인정되는 기간과 횟수가 달라지는 지 궁금합니다.\n",
            "-  추가 질문 4: 임신 35주 산모가 나732-2 태아심음자궁수축검사를 시행하는 경우, 임신 기간에 따라 급여 인정되는 기간과 횟수가 달라지는\n"
          ]
        }
      ]
    },
    {
      "cell_type": "code",
      "source": [
        "gen('태아심음자궁수축검사에서 자궁수축이 어떤 기준으로 판단되어 요양급여가 인정되나요')"
      ],
      "metadata": {
        "colab": {
          "base_uri": "https://localhost:8080/"
        },
        "id": "q8QEi5Un1kSe",
        "outputId": "a28f3d20-d595-4f6f-c5e9-2f719e6fd2b1"
      },
      "execution_count": 119,
      "outputs": [
        {
          "output_type": "stream",
          "name": "stderr",
          "text": [
            "Setting `pad_token_id` to `eos_token_id`:2 for open-end generation.\n"
          ]
        },
        {
          "output_type": "stream",
          "name": "stdout",
          "text": [
            "### 질문: 태아심음자궁수축검사에서 자궁수축이 어떤 기준으로 판단되어 요양급여가 인정되나요\n",
            "\n",
            "### 답변: 태아심음자궁수축검사는 통상적으로 임신 10주차에서 20주까지 실시되는 검사이며, 임신 초기가 아니라 임신 20주 이후에 실시되는 이유는, 임신 20주 이전에는 심장 박동수만 측정할 뿐, 자궁 수축을 확인할 수 없기 때문입니다. 정상 심박수는 매 1시간 마다, 1~100회 박동하므로 이보다 적은 수치가 나온다면, 자궁수축은 아니지만 비정상적이거나, 산전진찰 동안 임신성 고혈압과 같은 위험요소 등이 있는지 확인해야 할 필요가 있습니다. 이러한 추가적 확인 결과, 자궁 수축은 실제로 존재하는지 않는지에 대한 판단이 내려지게 됩니다. 즉, 임상적으로 자궁수축의 판단 기준은 아래 항목을 모두 만족한 경우에 자궁수축으로 판단할 수 있습니다. 1. 임신 2주 이후에 매 1시간마다, 100회 보다 적은 심장 박동수가 연속 2시간 이상 나타난 경우 \n",
            "2. 임신 9주차 이전에 분만할 때 나타나는 자궁수축 (예: 질출혈, 산전진찰 동안 자궁 수축, 심한 출혈 등) \n",
            "3. 자궁경부에 압박 없이 나타나는 자궁수축 \n",
            "4. 태아가 너무 빨리 자라고 있거나, 너무 느리게 자라고 있는 경우 \n",
            "5. 난소 출혈, 양수과다증, 양수과소증, 무질 분비물, 골반 염산통과, 산후 출혈, 자궁내막박리 등과 같은 임신 이상 또는 자궁 경부의 열상(裂傷)과 같은 자궁 손상 등의 산전진찰 동안 자궁 수축구간 동안의 자궁수축의 판단은 아래 항목을 추가로 고려합니다. \n",
            "1. 태아가 너무 빠르게 성장하는 경우 \n",
            "2. 태아 머리 크기가 2주 후 10cm 보다 작은 경우 \n",
            "3. 태아의 머리 둘레가 8cm 보다 작은 경우 4. 태아가 작거나 자궁내압 증가, 태반과 태아위치나 질식 등으로 인해 태아 머리 모양이 원형이 아닌 경우 \n",
            "5. 임신 12주 이전에 양막 파수, 양수 과다증, 양수과소증 등 양수과다증에서 정상적으로 나타나는 변화를 포함한 양수과소증 같은 자궁수축의 판단은 아래 항목을 추가로 고려합니다.\n"
          ]
        }
      ]
    },
    {
      "cell_type": "code",
      "source": [
        "gen(\"\"\"\n",
        "다음 내용을 보고 질문에 답변 해줘\n",
        "태아심음자궁수축검사(나732-2)는 37주 이전 임신에서 1시간당 8회 이상의 자궁수축이 느껴지거나 조기진통이 의심될 때에 요양급여를 인정하는데, 이는 2023년 3월 29일부터 시행된 고시 제2023-56호에 따른 변경사항이며, 이전에는 2021년 2월 1일부터 시행된 제2021-21호에서 해당 내용이 인정되었습니다.\n",
        "Q: 태아심음자궁수축검사를 받을 수 있는 산모의 임신 기간은 어떻게 정의되어 있나요?\n",
        "A: 태아심음자궁수축검사를 받을 수 있는 산모의 임신 기간은 37주 이전입니다.\n",
        "Q: 태아심음자궁수축검사에서 자궁수축이 어떤 기준으로 판단되어 요양급여가 인정되나요\n",
        "\"\"\")"
      ],
      "metadata": {
        "colab": {
          "base_uri": "https://localhost:8080/"
        },
        "id": "EHtP7uYi1kSl",
        "outputId": "cca87120-038b-421d-91a6-aa839558c8b9"
      },
      "execution_count": 120,
      "outputs": [
        {
          "output_type": "stream",
          "name": "stderr",
          "text": [
            "Setting `pad_token_id` to `eos_token_id`:2 for open-end generation.\n"
          ]
        },
        {
          "output_type": "stream",
          "name": "stdout",
          "text": [
            "### 질문: \n",
            "다음 내용을 보고 질문에 답변 해줘\n",
            "태아심음자궁수축검사(나732-2)는 37주 이전 임신에서 1시간당 8회 이상의 자궁수축이 느껴지거나 조기진통이 의심될 때에 요양급여를 인정하는데, 이는 2023년 3월 29일부터 시행된 고시 제2023-56호에 따른 변경사항이며, 이전에는 2021년 2월 1일부터 시행된 제2021-21호에서 해당 내용이 인정되었습니다.\n",
            "Q: 태아심음자궁수축검사를 받을 수 있는 산모의 임신 기간은 어떻게 정의되어 있나요?\n",
            "A: 태아심음자궁수축검사를 받을 수 있는 산모의 임신 기간은 37주 이전입니다.\n",
            "Q: 태아심음자궁수축검사에서 자궁수축이 어떤 기준으로 판단되어 요양급여가 인정되나요\n",
            "\n",
            "\n",
            "### 답변: \n",
            "태아심음자궁수축검사의 결과가 산모의 자궁수축 빈도와 양상을 파악하기 위한 진단 목적으로 사용될 수 있다는 것이 이 고시의 주된 내용입니다. 따라서, 태아심음검사에서 나타나는 자궁수축 양상으로 판단되어 산전 진단을 목적으로 이용하는 경우, 태아심음자궁수축검사를 급여로 인정받을 수 있습니다.\n",
            "\n",
            "이전 고시 2021-21호에서는 “1시간당 8회 이상의 자궁수축이 검출되어야 자궁수축검사로 인정한다”로 정의되어 있었는데, 이번 고시에서는 “요양급여 기준은 이전 고시와 동일하나, 세부내용은 변경됨”으로 고시가 수정되었습니다.\n",
            "�또한, 이전 고시에서 자궁수축빈도와 자궁수축양상을 명확하게 분류할 필요가 있다고 언급되어 있었는데, 이번 고시에서는 “임신 37주 이전에 1시간당 8회 이상의 자궁수축과 자궁확장”으로 정의되어있지 않습니까?\n",
            "이는 세부기준과 검사의 이용목적을 고려한 적절한 진단 목적임을 고려한 것입니다.\n",
            "따라서, 태아심음자궁수축검사에서의 임신 기간을 산전 진단을 목적으로 사용하는 경우, 태아심음검사 중 “자궁수축빈도와 자궁수축양상을 정확하게 구분할 필요”가 있으므로, 자궁수축빈도 수치 이상, 자궁수축양상 수치 이하인 경우로 판정되어야 “자궁수축검사의 급여인정 기준”에 부합됩니다.\n",
            "\n",
            "따라서, 태아심음자궁수축검사를 받을 수 있는 산모의 임신 기간은 이전 고시 2020년 2월 1일부터 2021년 2월 29일 사이에 임신하였다면, 2021년 3월 1일부터 2023년 2월 29일 사이까지입니다.\n",
            "\n",
            "### 답변: \n",
            "따라서, 태아심음검사를 받을 수 있는 산모는, 임신 기간  이전 고시 2020년 2월 1일부터 2021년 2월 29일 사이에 임신하였다면, 2021년 3월 1일부터 2023년 2월 29일까지입니다.\n",
            "\n",
            "이전 고시와 별첨 1 (일부 발췌)에 따라, 태아심음자궁수축검사에서 자궁수축의\n"
          ]
        }
      ]
    },
    {
      "cell_type": "markdown",
      "source": [
        "## 헤모글로빈 A1c 당화혈색소 검사의 급여기준"
      ],
      "metadata": {
        "id": "rfDrvUWUxoBA"
      }
    },
    {
      "cell_type": "code",
      "source": [
        "gen('누306 헤모글로빈A1c 검사의 급여 인정 조건은 어떤 경우에 해당되나요?')"
      ],
      "metadata": {
        "colab": {
          "base_uri": "https://localhost:8080/"
        },
        "id": "nvGVkgeexoBA",
        "outputId": "3b233da2-f2eb-4e30-ec4b-d37461ff6c8c"
      },
      "execution_count": 121,
      "outputs": [
        {
          "output_type": "stream",
          "name": "stderr",
          "text": [
            "Setting `pad_token_id` to `eos_token_id`:2 for open-end generation.\n"
          ]
        },
        {
          "output_type": "stream",
          "name": "stdout",
          "text": [
            "### 질문: 누306 헤모글로빈A1c 검사의 급여 인정 조건은 어떤 경우에 해당되나요?\n",
            "\n",
            "### 답변: 헤모글로빈A1c검사는 정기적으로 추적 관리를 할 경우에 급여를 인정해드리고 있으며, 그 기준은 다음과 같습니다. 1) 대상: 제2형 당뇨병 등의 진단을 목적으로 실시한 경우, 헤모글로빈A1c검사가 필요한 모든 경우 2) 급여기준: 12개월마다 검사를 실시하는 경우 급여를 인정함. 세부사항은 급여기준을 참조합니다. (1) 헤모글로빈A1c검사에는 헤모글로빈A1c 외에 효소결합단백E 검사가 포함되어 있습니다. 다만, 효소결합단백E 검사는 효소결합단백E 검사만으로 충분히 확인할 수 있는 경우(헤모글로빈 A1c>130%)에는 급여하지 않습니다. 예를 들어서 혈장에 대한 효소결합단백E의 양이 증가하였고, 헤모글로빈A1c 검사에서 헤모글로빈A1c가 증가한 경우라면 헤모글로빈A1c검사를 추가적으로 실시함으로서 헤모글로빈A1c를 보다 정확하게 측정할 수 있습니다. 효소결합단백E의 증가가 효소결합단백E에 대한 헤모글로빈A1c의 증가보다 더 유의한 검사결과에 기여하는 경우라면 헤모글로빈A1c검사를 추가 실시할 수 있습니다. 여기서 헤모글로빈A1c검사의 경우 헤모글로빈A1c만 검사하는 것이 중요한 것이 아니라 효소결합단백E, 당화혈색소, 혈청총단백 및/혹은 간기능지표 등의 다른 검사들과 함께 비교하여 추가적인 헤모글로빈A1c가 필요한지 결정해야 합니다. 따라서 헤모글로빈A1c는 정기적으로 추적관찰이 필요한 경우에 사용되며, 이 경우에 따라 헤모글로빈A1c검사의 급여 인정이 이루어져야 합니다. \n",
            "\t참고로, 검사 전 공복혈당이 140mg/dl 이상인 경우에는 헤모글로빈 A1c를 측정하지 않도록 하고 있습니다. \n",
            "\n",
            "  \n",
            "그러나, 건강보험심사평가원에서는 헤모글로빈 A1c검사의\n"
          ]
        }
      ]
    },
    {
      "cell_type": "code",
      "source": [
        "gen(\"\"\"\n",
        "다음 내용을 보고 질문에 답변 해줘\n",
        "1.5-Anhydro-D-Glucitol 및 프락토자민 검사는 헤모글로빈A1c로 혈당조절 파악이 어려운 경우에, 헤모글로빈A1c 검사는 당뇨병 진단 및 추적에 1년에 6회 이내로 인정되며, 이는 2020년 12월 8일 고시 제2020-279호로 변경되었으며, 이전에는 2020년 1월 1일 고시 제2019-315호에서 해당 내용이 인정되었다.\n",
        "Q: 누303 1.5-Anhydro-D-Glucitol 및 누304 프락토자민의 급여 인정 조건은 무엇인가요?\n",
        "A: 헤모글로빈A1c 검사로 혈당조절 상태를 정확히 확인하기 어려운 경우(용혈성빈혈, 혈색소병증 등)에 시행 시 인정됩니다.\n",
        "Q: 누306 헤모글로빈A1c 검사의 급여 인정 조건은 어떤 경우에 해당되나요?\n",
        "\"\"\")"
      ],
      "metadata": {
        "colab": {
          "base_uri": "https://localhost:8080/"
        },
        "id": "cscmt_49xoBA",
        "outputId": "f85f7acc-303d-45fc-9065-963ee795e933"
      },
      "execution_count": 122,
      "outputs": [
        {
          "output_type": "stream",
          "name": "stderr",
          "text": [
            "Setting `pad_token_id` to `eos_token_id`:2 for open-end generation.\n"
          ]
        },
        {
          "output_type": "stream",
          "name": "stdout",
          "text": [
            "### 질문: \n",
            "다음 내용을 보고 질문에 답변 해줘\n",
            "1.5-Anhydro-D-Glucitol 및 프락토자민 검사는 헤모글로빈A1c로 혈당조절 파악이 어려운 경우에, 헤모글로빈A1c 검사는 당뇨병 진단 및 추적에 1년에 6회 이내로 인정되며, 이는 2020년 12월 8일 고시 제2020-279호로 변경되었으며, 이전에는 2020년 1월 1일 고시 제2019-315호에서 해당 내용이 인정되었다.\n",
            "Q: 누303 1.5-Anhydro-D-Glucitol 및 누304 프락토자민의 급여 인정 조건은 무엇인가요?\n",
            "A: 헤모글로빈A1c 검사로 혈당조절 상태를 정확히 확인하기 어려운 경우(용혈성빈혈, 혈색소병증 등)에 시행 시 인정됩니다.\n",
            "Q: 누306 헤모글로빈A1c 검사의 급여 인정 조건은 어떤 경우에 해당되나요?\n",
            "\n",
            "\n",
            "### 답변: \n",
            "해당 내용은 2020년 12월 8일 고시 제2020-279호로 아래와 같이 변경되었습니다.\n",
            "이전 고시 제2019-315호(2019.11.30)에서 누303 1.5-Anhydro-D-Glucitol 및 누304 프락토자민 검사에 대한 급여 인정 내용, 인정 횟수, 대상에 대해 추가적으로 아래와 같이 변경되었습니다.\n",
            "1.5-Anhydro-D-Glucitol 검사는 헤모글로빈A1c 검사로 혈당조절 상태를 정확히 확인하기 어려운 경우에, 용혈성빈혈, 혈색소병증 등과 같이 헤모글로빈A1c 검사로는 헤모글로빈 양 자체를 확인하기 어려운 경우로 다음과 같은 경우에 인정됩니다.�\n",
            "1.5-Anhydro-D-Glucitol 검사의 급여 인정 기준은 다음과 같습니다. \n",
            "\n",
            "01.5 丸-Anhydro-D-Glucitol의 급여 인정 기준은 다음과 같습니다. \t기존 헤모글로빈A1c 검사 결과가 3.6 이상으로 2.5mg/dL 이상이지만 공복혈당이 75~120mg/dL인 환자에게 적용됩니다. \n",
            "헤모글로빈A1c 검사 결과가 3.6미만, 2.1 미만으로 헤모글로빈A1c 검사는 헤모글로빈을 100% 양을 측정하지 못하지만 헤모글로빈A1c 검사로는 용혈성빈혈, 혈색소병증 등과 같이 헤모글로빈 양 자체를 확인하기 어려운 경우로 다음과 같은 경우에 인정합니다.\n",
            "\n",
            "02.1% 이상의 헤모글로빈A1c로 헤모글로빈A1c 검사로는 헤모글로빈 양 자체를 확인하기 어려운 경우로 다음과 같은 경우에 인정합니다. \n",
            "\n",
            "추가로, 출혈, 골수병성 빈혈, 비장종대, 폐경화, 신부전, 부갑상선 기능저하증 및 당뇨 등의 질환, 급성감염 등으로 인한 혈색소증, 면역기능이 저하된 경우\n"
          ]
        }
      ]
    },
    {
      "cell_type": "code",
      "source": [
        "gen('어떤 상황에서 누303 또는 누304 검사가 헤모글로빈A1c 검사 대체로 인정되나요?')"
      ],
      "metadata": {
        "colab": {
          "base_uri": "https://localhost:8080/"
        },
        "id": "eQYl5InExoHz",
        "outputId": "c07af599-4c8c-47f8-cf41-a3e9cde9c31b"
      },
      "execution_count": 123,
      "outputs": [
        {
          "output_type": "stream",
          "name": "stderr",
          "text": [
            "Setting `pad_token_id` to `eos_token_id`:2 for open-end generation.\n"
          ]
        },
        {
          "output_type": "stream",
          "name": "stdout",
          "text": [
            "### 질문: 어떤 상황에서 누303 또는 누304 검사가 헤모글로빈A1c 검사 대체로 인정되나요?\n",
            "\n",
            "### 답변: 누303 또는 누304 검사는 주로 다음과 같은 경우 주로 인정될 수 있습니다. \n",
            "\n",
            "- 헤모글로빈A1c 검사를 할 수 없는 경우 \n",
            "- 헤모글로빈A1c 검사를 하지 않아도 되는 경우 \n",
            "- 헤모글로빈 A1c 검사에서 임상적 의의가 없는 경우 \n",
            "\n",
            "하지만, 이러한 경우에도 환자의 상태나 진료소견 등 자세한 내용과 함께 주치의가 인정하면, 누303 또는 누304 검사를 헤모글로빈A1c 검사 대체로 인정할 수 있습니다. 따라서, 이러한 경우에는 주치의가 환자의 상태를 고려하여 결정해야 합니다. \n",
            "\n",
            "따라서, 주치의는 환자의 병력, 기저질환, 혈액검사 결과, 환자 상태에 대해 여러 자료를 종합하여 헤모글로빈A1c 검사 대체 검사법을 추천할 수 있습니다. 추가적으로 해당 검사를 시행해야 할 경우에는 혈액검사료 이외의 다른 항목의 비용도 청구할 수 있습니다. \n",
            "따라서, 주치의의 판단에 따르면, 헤모글로빈A1c 검사를 대체할 때는 각 환자들의 상태에 따라 대체할 수 있는 검사법이 달라질 수 있습니다. 자세한 내용은 심사평가원 의료수가 업무처리에 관한 규정(보건복지부 고시 제2019-225호) 제8조를 참고하시기 바랍니다. \n",
            "추가로 헤모글로빈A1c 검사 대체 검사법으로서의 누303, 누304 검사 방법과 각 검사의 차이에 대해서는 '채혈검사료 인정 기준'을 참고하시기 바랍니다. \n",
            "저희 메디페이스에서는 다양한 기준과 조건에 따른 적합한 검사 및 치료를 위해 항상 최선을 다하겠습니다. \n",
            "\n",
            "​ \n",
            "에필로그: 코로나19로 인해 의료 현장에서는 여러 방법과 노력이 중요시되고 있습니다. 따라서, 상황별 정확한 진료를 위해 의료기관과 의료진 및 기타 관계자들의 지식과 노력이 많이 필요한 상황입니다. \n",
            "<|tel|>추가 : 메디페이스에서는 헤모글로빈A1c 검사 대체 검사 및 치료에 대한 내용을 제공하고 있으며, 구체적인 가격에는 변동이 있을 수 있습니다. 해당 내용에 대해서는 메디페이스에서\n"
          ]
        }
      ]
    },
    {
      "cell_type": "code",
      "source": [
        "gen(\"\"\"\n",
        "다음 내용을 보고 질문에 답변 해줘\n",
        "1.5-Anhydro-D-Glucitol 및 프락토자민 검사는 헤모글로빈A1c로 혈당조절 파악이 어려운 경우에, 헤모글로빈A1c 검사는 당뇨병 진단 및 추적에 1년에 6회 이내로 인정되며, 이는 2020년 12월 8일 고시 제2020-279호로 변경되었으며, 이전에는 2020년 1월 1일 고시 제2019-315호에서 해당 내용이 인정되었다.\n",
        "Q: 누303 1.5-Anhydro-D-Glucitol 및 누304 프락토자민의 검사 대상은 무엇인가요?\n",
        "A: 헤모글로빈A1c 검사로 혈당조절 상태를 정확히 알기 어려운 경우(용혈성빈혈, 혈색소병증 등) 해당 검사가 실시됩니다.\n",
        "Q: 어떤 상황에서 누303 또는 누304 검사가 헤모글로빈A1c 검사 대체로 인정되나요?\n",
        "\"\"\")"
      ],
      "metadata": {
        "colab": {
          "base_uri": "https://localhost:8080/"
        },
        "id": "OcwgQfDQxoHz",
        "outputId": "f6839be3-1d38-4cc4-a9fb-d79945b166a8"
      },
      "execution_count": 124,
      "outputs": [
        {
          "output_type": "stream",
          "name": "stderr",
          "text": [
            "Setting `pad_token_id` to `eos_token_id`:2 for open-end generation.\n"
          ]
        },
        {
          "output_type": "stream",
          "name": "stdout",
          "text": [
            "### 질문: \n",
            "다음 내용을 보고 질문에 답변 해줘\n",
            "1.5-Anhydro-D-Glucitol 및 프락토자민 검사는 헤모글로빈A1c로 혈당조절 파악이 어려운 경우에, 헤모글로빈A1c 검사는 당뇨병 진단 및 추적에 1년에 6회 이내로 인정되며, 이는 2020년 12월 8일 고시 제2020-279호로 변경되었으며, 이전에는 2020년 1월 1일 고시 제2019-315호에서 해당 내용이 인정되었다.\n",
            "Q: 누303 1.5-Anhydro-D-Glucitol 및 누304 프락토자민의 검사 대상은 무엇인가요?\n",
            "A: 헤모글로빈A1c 검사로 혈당조절 상태를 정확히 알기 어려운 경우(용혈성빈혈, 혈색소병증 등) 해당 검사가 실시됩니다.\n",
            "Q: 어떤 상황에서 누303 또는 누304 검사가 헤모글로빈A1c 검사 대체로 인정되나요?\n",
            "\n",
            "\n",
            "### 답변: \n",
            "1.5-Anhydro-D-Glucitol 및 프락토자민 검사는 헤모글로빈A1c로 혈당조절 파악이 어려운 경우에, 헤모글로빈A1c 검사는 당뇨병 진단 및 추적에 1년에 6회 이내로 인정되며, 이는 2020년 12월 8일 고시 제2020-279호로 변경되었으며, 이전에는 2020년 1월 1일 고시 제2019-315호에서 해당 내용이 인정되었습니다.2. 프락토자민은 헤모글로빈A1c 수치가 7% 이상 시, 헤모글로빈A1c 수치가 1% 이상 시, 당뇨약 용량이 조절되는 정도가 안될 때 헤모글로빈A1c 검사 대체 목적으로 사용됩니다.\f3. 누303 또는 누304 검사는 헤모글로빈A1c 수치로 당뇨병을 진단하는데 있어서 어려움이 있는 경우 실시됩니다.\n",
            "4. 누303 또는 누304 검사는 헤모글로빈A1c 수치가 7% 이상 시, 헤모글로빈A1c 수치가 1% 이상 시, 당뇨약 용량이 조절되는 정도가 안될 때 대체 목적으로 사용되며, 헤모글로빈A1c 수치가 높은 경우에 사용될 수 있습니다.\n",
            "5. 헤모글로빈A1c 수치가 7% 이상 시, 헤모글로빈A1c 수치가 1% 이상 시, 당뇨약 대체 목적으로 사용되더라도, 헤모글로빈A1c 수치가 7% 이상 시, 헤모글로빈A1c 수치가 1% 이상 시, 당뇨약 용량이 조절되지 않는 경우에는 헤모글로빈A1c 수치가 7% 이상 시, 헤모글로빈A1c 수치가 1% 이상 시, 당뇨약 대체 목적으로 사용됩니다.\n",
            "6. 당뇨약 용량이 조절되지 않는 경우에, 최대 검사 횟수는 6회입니다.\n",
            "7. 누303 또는 누304 검사는 헤모글로빈A1c 수치가 높은 경우에는 사용하지 않으며, 헤모글로빈A1c 수치가 7% 이상 시, 헤모글로빈A1\n"
          ]
        }
      ]
    },
    {
      "cell_type": "code",
      "source": [
        "gen('누304는 무엇인가요?')"
      ],
      "metadata": {
        "colab": {
          "base_uri": "https://localhost:8080/"
        },
        "id": "e80wQX3o10SX",
        "outputId": "ee940c08-654f-46cc-de6a-0426237fdcef"
      },
      "execution_count": 125,
      "outputs": [
        {
          "output_type": "stream",
          "name": "stderr",
          "text": [
            "Setting `pad_token_id` to `eos_token_id`:2 for open-end generation.\n"
          ]
        },
        {
          "output_type": "stream",
          "name": "stdout",
          "text": [
            "### 질문: 누304는 무엇인가요?\n",
            "\n",
            "### 답변: 누304는 녹내장 수술에서 사용하는 백내장 수정체 제거용 장비입니다. 녹내장 수술 과정을 살펴보면, 먼저 백내장 수정체 제거용 장비인 UBM(울트라 비젼 메듀사)를 사용해 각막 주변의 작은 절개창을 열고 누304로 백내장을 제거합니다. 그리고 바로 수정체를 제거하며, 절개한 각막 주변을 다시 봉합합니다. 봉합이 끝나면 안구에 스테로이드 점안액을 넣고, 수술 진행과 함께 안정을 찾은 후 퇴원하게 됩니다. \n",
            "\n",
            "결론적으로 누304와 UBM은 백내장이나 녹내장 수술을 위하여 사용되는 장비로, UVA 광파장을 이용한 비부식성 레이저 시술입니다. UBM은 특히 백내장 수술시 기존에 사용되던 백내장 수정체 파쇄기보다 정교하고 다양한 백내장 수술이 가능하게 해줍니다. 또한 절개창을 통해 수정체를 빼내는 장비에 비해 시술 시간을 단축시키며, 절개창 주변의 조직을 손상시키지 않고 안전하다는 장점이 있습니다. 그러나 치료 효과는 수술 후의 관찰을 통해 확인되어야 하며, UBM도 마찬가지입니다. \n",
            "\n",
            "그러나 녹내장 수술 과정에서는 수정체의 제거와 수술 후 각막의 봉합이 함께 이루어져야 하기 때문에, 수정체를 제거하고 각막 주변을 다시 봉합해야합니다. 따라서 UBM과 수정체 제거용 장비 두 장비를 모두 사용하므로, 수술 후에 각막의 봉합을 위해 별도의 장비가 필요합니다. 또한 수정체 제거 후 나타나는 건조증의 경우에도 별도의 장비가 필요하기도 합니다. 그러나 UBM의 경우 정교하면서도 광범위한 지역에서 백내장 수정체 파쇄와 제거 기능이 향상되어 있어 녹내장 수술에서도 유용하게 활용되고 있습니다.   \n",
            "추가적인 질문은 \n",
            " 블로그나 이 블로그에서 해보시기 바랍니다. �\n",
            "누304는 UBM과는 달리 국내에서 백내장 수술에 가장 많이 사용되는 장비입니다. 과거에는 이 장비가 고가품이었으나, 국내에서도 저렴한 보급형 제품들이 개발되고 있습니다. 또한 수술 후 결과는 환자마다 약간씩 다르게 나타나지만, 일반적으로 좋은 결과를 얻고 있습니다. 어떤 경우이든 수술후\n"
          ]
        }
      ]
    },
    {
      "cell_type": "code",
      "source": [
        "gen(\"\"\"\n",
        "다음 내용을 보고 질문에 답변 해줘\n",
        "1.5-Anhydro-D-Glucitol 및 프락토자민 검사는 헤모글로빈A1c로 혈당조절 파악이 어려운 경우에, 헤모글로빈A1c 검사는 당뇨병 진단 및 추적에 1년에 6회 이내로 인정되며, 이는 2020년 12월 8일 고시 제2020-279호로 변경되었으며, 이전에는 2020년 1월 1일 고시 제2019-315호에서 해당 내용이 인정되었다.\n",
        "Q: 누303은 무엇인가요?\n",
        "A: 누303은 1.5-Anhydro-D-Glucitol 검사를 나타냅니다. 이는 혈당조절 상태를 파악하기 어려운 경우에 사용되는 검사 중 하나입니다.\n",
        "Q: 누304는 무엇인가요?\n",
        "\"\"\")"
      ],
      "metadata": {
        "colab": {
          "base_uri": "https://localhost:8080/"
        },
        "id": "kDqaP8Gs10SX",
        "outputId": "76bd293b-edb3-4ff0-b533-d8c8c7738770"
      },
      "execution_count": 126,
      "outputs": [
        {
          "output_type": "stream",
          "name": "stderr",
          "text": [
            "Setting `pad_token_id` to `eos_token_id`:2 for open-end generation.\n"
          ]
        },
        {
          "output_type": "stream",
          "name": "stdout",
          "text": [
            "### 질문: \n",
            "다음 내용을 보고 질문에 답변 해줘\n",
            "1.5-Anhydro-D-Glucitol 및 프락토자민 검사는 헤모글로빈A1c로 혈당조절 파악이 어려운 경우에, 헤모글로빈A1c 검사는 당뇨병 진단 및 추적에 1년에 6회 이내로 인정되며, 이는 2020년 12월 8일 고시 제2020-279호로 변경되었으며, 이전에는 2020년 1월 1일 고시 제2019-315호에서 해당 내용이 인정되었다.\n",
            "Q: 누303은 무엇인가요?\n",
            "A: 누303은 1.5-Anhydro-D-Glucitol 검사를 나타냅니다. 이는 혈당조절 상태를 파악하기 어려운 경우에 사용되는 검사 중 하나입니다.\n",
            "Q: 누304는 무엇인가요?\n",
            "\n",
            "\n",
            "### 답변: \n",
            "1.5-Anhydro-D-Glucitol 검사는 당뇨병 관리를 위한 혈당 조절 정도를 파악하게 위해 사용되는 검사입니다. 반면에, 누304는 1년에 7회까지 당뇨병 환자의 혈장, 전해질, 소변에서 총 글루코오스, 콜레스테롤, 단백질, A1C, PTC-Glu, SGOT, SGPT, TG 등을 측정하는 것으로 정의됩니다.\n",
            "A1C, PTC-Glu, SGOT, SGPT 1차 진료 의사 등이 환자의 혈장, 전해질 및 소변 등에 대한 검사를 통해 합병증 발생 등에 대하여 판단할 수 있습니다. 따라서, 혈액 검사로 당뇨병이 의심되는지, 혹은 합병증이 발생하는 시기인지 파악할 수 있을 것입니다.2차 진료 및 전문적 판단이 필요한 경우, A1C, PTC-Glu, SGOT, SGPT 글루코오스, 콜레스테롤, 단백질, A1C, PTC-Glu, SGOT, SGPT \n",
            "인슐린 주사를 1, 7, 14일째, 또는 경구당부하검사에서 측정한 혈당과 1.5-Anhydro-D-Glucitol 수치가 300mg/dL이상인 경우, 2차 진료에 대한 필요성이 고려될 수 있습니다.\n",
            "따라서, 의료진의 판단에 따라 1차 진료에 의한 건강검진에서도 A1C, PTC-Glu, SGOT, SGPT \n",
            "인지 혹은 당뇨병 관련 검사를 진행하는 것도 가능합니다.A1C, PTC-Glu, SGOT, SGPT �혈장, 전해질 및 소변 등에 대한 검사 등을 통한 당뇨병 환자의 혈장 및 전해질, 소변에서의 수치를 확인하고 합병증이 발생하는 시기인지 확인하는 과정이 필요합니다.\n",
            "A1C, PTC-Glu, SGOT, SGPT \n",
            "전문의나 2차 진료에서의 검사 필요성에 따라 해당 검사를 진행할 수 있습니다.\n",
            "A1C, PTC-Glu, SGOT, SGPT �\n"
          ]
        }
      ]
    },
    {
      "cell_type": "code",
      "source": [
        "gen('누306 헤모글로빈A1c 검사의 급여 인정 기준은 어떻게 정해지고 있나요?')"
      ],
      "metadata": {
        "colab": {
          "base_uri": "https://localhost:8080/"
        },
        "id": "QtlsYWBK10rH",
        "outputId": "720e2892-4727-4983-a344-748f40849201"
      },
      "execution_count": 127,
      "outputs": [
        {
          "output_type": "stream",
          "name": "stderr",
          "text": [
            "Setting `pad_token_id` to `eos_token_id`:2 for open-end generation.\n"
          ]
        },
        {
          "output_type": "stream",
          "name": "stdout",
          "text": [
            "### 질문: 누306 헤모글로빈A1c 검사의 급여 인정 기준은 어떻게 정해지고 있나요?\n",
            "\n",
            "### 답변: 헤모글로빈A1c 검사의 급여 인정 기준은 다음과 같습니다. 1. 헤모글로빈A1c검사는 아래의 인정기준을 충족하고 있는 경우 요양급여하며, 그 검사결과가 해당 질병의 진단을 위해 실시한 경우에는 해당 검사료를 별도 인정함.- 아 래 - 1) 혈액 1리터당 400밀리리터를 첨가한 헤모글로빈(헤마토크릿) 25g/l 이상인 경우 2) 효소결합면역흡수계측법을 이용하여 측정하는 경우 2) 효소결합면역흡수계측법을 이용하여 측정하는 경우 2) 효소결합면역흡수계측법에 의한 헤모글로빈A1c검사 결과가 과거 헤모글로빈A1c 검사결과의 정상 상한치의 140퍼센타일 이하인 경우 3) 효소결합면역흡수계측법에 의한 헤모글로빈A1c검사 결과가 과거 헤모글로빈A1c 검사결과의 정상 상한치의 138퍼센타일 이하인 경우 3) 효소결합면역흡수계측법에 의한 헤모글로빈A1c 검사결과가 0.9퍼센타일 이상인 경우 3) 효소결합면역흡수계측법에 의한 헤모글로빈A1c 검사결과가 0.1퍼센타일 미만이거나, 또는 8시간 금식한후 시행한 경우 4) 과거 헤모글로빈A1c검사결과의 정상 상한치의 140퍼센타일 이하이거나, 또는 효소결합면역흡수계측법을 8시간 금식 후에 시행한 경우 4) 과거 헤모글로빈A1c 검사결과의 정상 상한치의 138퍼센타일 이하이거나, 또는 효소결합면역흡수계측법을 8시간 금식 후에 시행한 경우 2. 혈액검체는 반드시 과거 7일이내에 채혈 혈액으로 한다. 2. 혈액검체는 과거 7일이내에 채혈혈액으로 한다. 3. 외래 진료 환자의 경우 해당 검사결과가 3회이상 동일한 항원을 지속적으로 보유한 경우는, 검사결과를 누적 관리하여 판정하며, 동일한 항원에 대한 항원 농도가 계속하여 높거나 낮아지는 경우에도 이를 누적관리하여야 한다.\n"
          ]
        }
      ]
    },
    {
      "cell_type": "code",
      "source": [
        "gen(\"\"\"\n",
        "다음 내용을 보고 질문에 답변 해줘\n",
        "1.5-Anhydro-D-Glucitol 및 프락토자민 검사는 헤모글로빈A1c로 혈당조절 파악이 어려운 경우에, 헤모글로빈A1c 검사는 당뇨병 진단 및 추적에 1년에 6회 이내로 인정되며, 이는 2020년 12월 8일 고시 제2020-279호로 변경되었으며, 이전에는 2020년 1월 1일 고시 제2019-315호에서 해당 내용이 인정되었다.\n",
        "Q: 누306은 무엇인가요?\n",
        "A: 누306은 헤모글로빈A1c 검사를 나타냅니다. 이 검사는 당뇨병의 진단 및 추적관찰에 사용되며 연간 6회 이내로 인정됩니다.\n",
        "Q: 누306 헤모글로빈A1c 검사의 급여 인정 기준은 어떻게 정해지고 있나요?\n",
        "\"\"\")"
      ],
      "metadata": {
        "colab": {
          "base_uri": "https://localhost:8080/"
        },
        "id": "pic-ajCR10rI",
        "outputId": "d8f2fd63-3991-48a1-ffcf-4cfd89fa4c3b"
      },
      "execution_count": 128,
      "outputs": [
        {
          "output_type": "stream",
          "name": "stderr",
          "text": [
            "Setting `pad_token_id` to `eos_token_id`:2 for open-end generation.\n"
          ]
        },
        {
          "output_type": "stream",
          "name": "stdout",
          "text": [
            "### 질문: \n",
            "다음 내용을 보고 질문에 답변 해줘\n",
            "1.5-Anhydro-D-Glucitol 및 프락토자민 검사는 헤모글로빈A1c로 혈당조절 파악이 어려운 경우에, 헤모글로빈A1c 검사는 당뇨병 진단 및 추적에 1년에 6회 이내로 인정되며, 이는 2020년 12월 8일 고시 제2020-279호로 변경되었으며, 이전에는 2020년 1월 1일 고시 제2019-315호에서 해당 내용이 인정되었다.\n",
            "Q: 누306은 무엇인가요?\n",
            "A: 누306은 헤모글로빈A1c 검사를 나타냅니다. 이 검사는 당뇨병의 진단 및 추적관찰에 사용되며 연간 6회 이내로 인정됩니다.\n",
            "Q: 누306 헤모글로빈A1c 검사의 급여 인정 기준은 어떻게 정해지고 있나요?\n",
            "\n",
            "\n",
            "### 답변: \n",
            "누306 헤모글로빈A1c 검사는 당뇨병 확진이 아닌 당뇨의 진단 및 추적관찰에 사용됩니다. 이는 고시 제2020-279호로 변경되었으며, 이전에는 2020년 1월 1일 고시 제2019-315호로 변경되었습니다. \n",
            "위의 내용에 따라, 본 기준대로 누306 헤모글로빈A1c 검사의 급여 인정 기준은 다음과 같이 지정되어 있음을 확인했습니다. \n",
            "1. 당뇨병 진단을 위한 검사는 실시하지 않지만, 환자상태(신기능, 간기능, 콜레스테롤치 등)를 고려하여 당뇨병의 가능성이 높은 경우에는 실시 가능하다.\n",
            "2. 헤모글로빈A1c에 변화가 있는 환자에서 당뇨병 진단이 어려운 경우에는 헤모글로빈A1c 검사는 당뇨병 진단 및 추적관찰에 1년에 6회 이내로 인정됩니다.3. 헤모글로빈A1c검사의 급여인정 횟수 제한은 다음과 같습니다. \n",
            "1) 헤모글로빈A1c의 수치 변화의 기준은 다음 표와 같은 빈도로 변화된 정도까지 인정합니다. 2) 헤모글로빈A1c 검사의 최소 수치는 10.9%입니다. 3) 헤모글로빈A1c 수치가 10.9% 미만일 때는 헤모글로빈A1c 검사를 전액 본인부담으로 실시하게 되며, 헤모글로빈A1c 수치가 10.9% 이상의 빈도로 변화된 경우 인정횟수 범위 내에서 본인부담은 없는 것으로 인정됩니다.\n",
            "4) 헤모글로빈A1c 수치가 5% 미만일 때는 헤모글로빈A1c검사의 급여 인정횟수 제한은 없는 것으로 보며, 헤모글로빈A1c 수치가 5% 이상의 빈도로 변화된 경우에는 헤모글로빈A1c검사의 급여인정 횟수 제한은 없는 것으로 보되, 헤모글로빈A1c 수치가 12% 미만일 때 한해 헤모글로빈A1c검사는 본인부담 없이 100% 진료의의 판단에 따라 인정됩니다.\n",
            "5) 헤모글로빈A1c 수치가 12\n"
          ]
        }
      ]
    }
  ]
}