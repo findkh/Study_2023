{
  "nbformat": 4,
  "nbformat_minor": 0,
  "metadata": {
    "colab": {
      "provenance": [],
      "mount_file_id": "1RuJdDxfMRgSO7tZDa7eNPIvNbkDBv3_Y",
      "authorship_tag": "ABX9TyMAIxmEZf4aD8lq0aE8K2Am"
    },
    "kernelspec": {
      "name": "python3",
      "display_name": "Python 3"
    },
    "language_info": {
      "name": "python"
    },
    "accelerator": "GPU",
    "gpuClass": "standard"
  },
  "cells": [
    {
      "cell_type": "markdown",
      "source": [],
      "metadata": {
        "id": "KR5UU12kgyfF"
      }
    },
    {
      "cell_type": "code",
      "execution_count": 30,
      "metadata": {
        "id": "KIEXz8UvgZ_E"
      },
      "outputs": [],
      "source": [
        "import math\n",
        "import matplotlib.pyplot as plt\n",
        "import keras\n",
        "import pandas as pd\n",
        "import numpy as np\n",
        "from keras.models import Sequential\n",
        "from keras.layers import Dense\n",
        "from keras.layers import LSTM\n",
        "from keras.layers import Dropout\n",
        "from keras.layers import *\n",
        "from sklearn.preprocessing import MinMaxScaler\n",
        "from sklearn.metrics import mean_squared_error\n",
        "from sklearn.metrics import mean_absolute_error\n",
        "from sklearn.model_selection import train_test_split\n",
        "from keras.callbacks import EarlyStopping"
      ]
    },
    {
      "cell_type": "code",
      "source": [
        "df = pd.read_csv(\"/content/drive/MyDrive/TSLA.csv\", encoding='cp949')\n",
        "\n",
        "print('Number of rows and columns:', df.shape)\n",
        "# df.head(5)\n",
        "df.tail()"
      ],
      "metadata": {
        "colab": {
          "base_uri": "https://localhost:8080/",
          "height": 225
        },
        "id": "zaPgbM7_hhkr",
        "outputId": "67dd9ac2-1662-4e5a-88df-26a5f0b6b74b"
      },
      "execution_count": 19,
      "outputs": [
        {
          "output_type": "stream",
          "name": "stdout",
          "text": [
            "Number of rows and columns: (252, 7)\n"
          ]
        },
        {
          "output_type": "execute_result",
          "data": {
            "text/plain": [
              "           Date        Open        High         Low       Close   Adj Close  \\\n",
              "247  2023-02-01  173.889999  183.809998  169.929993  181.410004  181.410004   \n",
              "248  2023-02-02  187.330002  196.750000  182.610001  188.270004  188.270004   \n",
              "249  2023-02-03  183.949997  199.000000  183.690002  189.979996  189.979996   \n",
              "250  2023-02-06  193.009995  198.169998  189.919998  194.759995  194.759995   \n",
              "251  2023-02-07  196.429993  197.500000  189.550003  196.809998  196.809998   \n",
              "\n",
              "        Volume  \n",
              "247  213806300  \n",
              "248  217448300  \n",
              "249  231684200  \n",
              "250  186188100  \n",
              "251  185601700  "
            ],
            "text/html": [
              "\n",
              "  <div id=\"df-00840cdc-3b6d-470b-acf9-ca052d633c60\">\n",
              "    <div class=\"colab-df-container\">\n",
              "      <div>\n",
              "<style scoped>\n",
              "    .dataframe tbody tr th:only-of-type {\n",
              "        vertical-align: middle;\n",
              "    }\n",
              "\n",
              "    .dataframe tbody tr th {\n",
              "        vertical-align: top;\n",
              "    }\n",
              "\n",
              "    .dataframe thead th {\n",
              "        text-align: right;\n",
              "    }\n",
              "</style>\n",
              "<table border=\"1\" class=\"dataframe\">\n",
              "  <thead>\n",
              "    <tr style=\"text-align: right;\">\n",
              "      <th></th>\n",
              "      <th>Date</th>\n",
              "      <th>Open</th>\n",
              "      <th>High</th>\n",
              "      <th>Low</th>\n",
              "      <th>Close</th>\n",
              "      <th>Adj Close</th>\n",
              "      <th>Volume</th>\n",
              "    </tr>\n",
              "  </thead>\n",
              "  <tbody>\n",
              "    <tr>\n",
              "      <th>247</th>\n",
              "      <td>2023-02-01</td>\n",
              "      <td>173.889999</td>\n",
              "      <td>183.809998</td>\n",
              "      <td>169.929993</td>\n",
              "      <td>181.410004</td>\n",
              "      <td>181.410004</td>\n",
              "      <td>213806300</td>\n",
              "    </tr>\n",
              "    <tr>\n",
              "      <th>248</th>\n",
              "      <td>2023-02-02</td>\n",
              "      <td>187.330002</td>\n",
              "      <td>196.750000</td>\n",
              "      <td>182.610001</td>\n",
              "      <td>188.270004</td>\n",
              "      <td>188.270004</td>\n",
              "      <td>217448300</td>\n",
              "    </tr>\n",
              "    <tr>\n",
              "      <th>249</th>\n",
              "      <td>2023-02-03</td>\n",
              "      <td>183.949997</td>\n",
              "      <td>199.000000</td>\n",
              "      <td>183.690002</td>\n",
              "      <td>189.979996</td>\n",
              "      <td>189.979996</td>\n",
              "      <td>231684200</td>\n",
              "    </tr>\n",
              "    <tr>\n",
              "      <th>250</th>\n",
              "      <td>2023-02-06</td>\n",
              "      <td>193.009995</td>\n",
              "      <td>198.169998</td>\n",
              "      <td>189.919998</td>\n",
              "      <td>194.759995</td>\n",
              "      <td>194.759995</td>\n",
              "      <td>186188100</td>\n",
              "    </tr>\n",
              "    <tr>\n",
              "      <th>251</th>\n",
              "      <td>2023-02-07</td>\n",
              "      <td>196.429993</td>\n",
              "      <td>197.500000</td>\n",
              "      <td>189.550003</td>\n",
              "      <td>196.809998</td>\n",
              "      <td>196.809998</td>\n",
              "      <td>185601700</td>\n",
              "    </tr>\n",
              "  </tbody>\n",
              "</table>\n",
              "</div>\n",
              "      <button class=\"colab-df-convert\" onclick=\"convertToInteractive('df-00840cdc-3b6d-470b-acf9-ca052d633c60')\"\n",
              "              title=\"Convert this dataframe to an interactive table.\"\n",
              "              style=\"display:none;\">\n",
              "        \n",
              "  <svg xmlns=\"http://www.w3.org/2000/svg\" height=\"24px\"viewBox=\"0 0 24 24\"\n",
              "       width=\"24px\">\n",
              "    <path d=\"M0 0h24v24H0V0z\" fill=\"none\"/>\n",
              "    <path d=\"M18.56 5.44l.94 2.06.94-2.06 2.06-.94-2.06-.94-.94-2.06-.94 2.06-2.06.94zm-11 1L8.5 8.5l.94-2.06 2.06-.94-2.06-.94L8.5 2.5l-.94 2.06-2.06.94zm10 10l.94 2.06.94-2.06 2.06-.94-2.06-.94-.94-2.06-.94 2.06-2.06.94z\"/><path d=\"M17.41 7.96l-1.37-1.37c-.4-.4-.92-.59-1.43-.59-.52 0-1.04.2-1.43.59L10.3 9.45l-7.72 7.72c-.78.78-.78 2.05 0 2.83L4 21.41c.39.39.9.59 1.41.59.51 0 1.02-.2 1.41-.59l7.78-7.78 2.81-2.81c.8-.78.8-2.07 0-2.86zM5.41 20L4 18.59l7.72-7.72 1.47 1.35L5.41 20z\"/>\n",
              "  </svg>\n",
              "      </button>\n",
              "      \n",
              "  <style>\n",
              "    .colab-df-container {\n",
              "      display:flex;\n",
              "      flex-wrap:wrap;\n",
              "      gap: 12px;\n",
              "    }\n",
              "\n",
              "    .colab-df-convert {\n",
              "      background-color: #E8F0FE;\n",
              "      border: none;\n",
              "      border-radius: 50%;\n",
              "      cursor: pointer;\n",
              "      display: none;\n",
              "      fill: #1967D2;\n",
              "      height: 32px;\n",
              "      padding: 0 0 0 0;\n",
              "      width: 32px;\n",
              "    }\n",
              "\n",
              "    .colab-df-convert:hover {\n",
              "      background-color: #E2EBFA;\n",
              "      box-shadow: 0px 1px 2px rgba(60, 64, 67, 0.3), 0px 1px 3px 1px rgba(60, 64, 67, 0.15);\n",
              "      fill: #174EA6;\n",
              "    }\n",
              "\n",
              "    [theme=dark] .colab-df-convert {\n",
              "      background-color: #3B4455;\n",
              "      fill: #D2E3FC;\n",
              "    }\n",
              "\n",
              "    [theme=dark] .colab-df-convert:hover {\n",
              "      background-color: #434B5C;\n",
              "      box-shadow: 0px 1px 3px 1px rgba(0, 0, 0, 0.15);\n",
              "      filter: drop-shadow(0px 1px 2px rgba(0, 0, 0, 0.3));\n",
              "      fill: #FFFFFF;\n",
              "    }\n",
              "  </style>\n",
              "\n",
              "      <script>\n",
              "        const buttonEl =\n",
              "          document.querySelector('#df-00840cdc-3b6d-470b-acf9-ca052d633c60 button.colab-df-convert');\n",
              "        buttonEl.style.display =\n",
              "          google.colab.kernel.accessAllowed ? 'block' : 'none';\n",
              "\n",
              "        async function convertToInteractive(key) {\n",
              "          const element = document.querySelector('#df-00840cdc-3b6d-470b-acf9-ca052d633c60');\n",
              "          const dataTable =\n",
              "            await google.colab.kernel.invokeFunction('convertToInteractive',\n",
              "                                                     [key], {});\n",
              "          if (!dataTable) return;\n",
              "\n",
              "          const docLinkHtml = 'Like what you see? Visit the ' +\n",
              "            '<a target=\"_blank\" href=https://colab.research.google.com/notebooks/data_table.ipynb>data table notebook</a>'\n",
              "            + ' to learn more about interactive tables.';\n",
              "          element.innerHTML = '';\n",
              "          dataTable['output_type'] = 'display_data';\n",
              "          await google.colab.output.renderOutput(dataTable, element);\n",
              "          const docLink = document.createElement('div');\n",
              "          docLink.innerHTML = docLinkHtml;\n",
              "          element.appendChild(docLink);\n",
              "        }\n",
              "      </script>\n",
              "    </div>\n",
              "  </div>\n",
              "  "
            ]
          },
          "metadata": {},
          "execution_count": 19
        }
      ]
    },
    {
      "cell_type": "code",
      "source": [
        "high_prices = df['High'].values\n",
        "low_prices = df['Low'].values\n",
        "mid_prices = (high_prices + low_prices) / 2"
      ],
      "metadata": {
        "id": "SZKnnmOviQEz"
      },
      "execution_count": 22,
      "outputs": []
    },
    {
      "cell_type": "code",
      "source": [
        "# 최근 50일 간의 데이터 확인\n",
        "seq_len = 50 # window size\n",
        "sequence_length = seq_len + 1 \n",
        "\n",
        "result = []\n",
        "for index in range(len(mid_prices) - sequence_length):\n",
        "    result.append(mid_prices[index: index + sequence_length])"
      ],
      "metadata": {
        "id": "ck9l1jxflOM8"
      },
      "execution_count": 23,
      "outputs": []
    },
    {
      "cell_type": "code",
      "source": [
        "normalized_data = []\n",
        "for window in result:\n",
        "    normalized_window = [((float(p) / float(window[0]))-1) for p in window]\n",
        "    normalized_data.append(normalized_window)\n",
        "\n",
        "result = np.array(normalized_data)\n",
        "\n",
        "# split train and test data\n",
        "row = int(round(result.shape[0]*0.9)) \n",
        "train = result[:row, :]\n",
        "np.random.shuffle(train) # training set shuffle\n",
        "\n",
        "x_train = train[:, :-1] \n",
        "x_train = np.reshape(x_train, (x_train.shape[0], x_train.shape[1], 1))\n",
        "y_train = train[:, -1]\n",
        "\n",
        "x_test = result[row:, :-1] # 앞에 50개\n",
        "x_test = np.reshape(x_test, (x_test.shape[0], x_test.shape[1], 1))\n",
        "y_test = result[row:, -1] # 뒤에 1개\n",
        "\n",
        "x_train.shape, x_test.shape"
      ],
      "metadata": {
        "colab": {
          "base_uri": "https://localhost:8080/"
        },
        "id": "WJ0UY1bXlQ92",
        "outputId": "e6520863-23d2-40a4-bb93-886c04aa93b4"
      },
      "execution_count": 24,
      "outputs": [
        {
          "output_type": "execute_result",
          "data": {
            "text/plain": [
              "((181, 50, 1), (20, 50, 1))"
            ]
          },
          "metadata": {},
          "execution_count": 24
        }
      ]
    },
    {
      "cell_type": "code",
      "source": [
        "model = Sequential()\n",
        "model.add(LSTM(50, return_sequences=True, input_shape=(50,1)))\n",
        "model.add(LSTM(64, return_sequences=False))\n",
        "model.add(Dense(1, activation='linear')) # 다음날 하루의 데이터를 예측함\n",
        "model.compile(loss='mse', optimizer='rmsprop') # Loss function\n",
        "model.fit(x_train, y_train,\n",
        "         validation_data=(x_test, y_test),\n",
        "         batch_size=10, # 10개씩 묶어서 학습시킨다.\n",
        "         epochs=20) # 20번동안 반복"
      ],
      "metadata": {
        "colab": {
          "base_uri": "https://localhost:8080/"
        },
        "id": "w6_39Us_lT6c",
        "outputId": "d23331ff-3fcc-4f10-f209-568f9fe01eb7"
      },
      "execution_count": 34,
      "outputs": [
        {
          "output_type": "stream",
          "name": "stdout",
          "text": [
            "Epoch 1/20\n",
            "19/19 [==============================] - 6s 118ms/step - loss: 0.0242 - val_loss: 0.0302\n",
            "Epoch 2/20\n",
            "19/19 [==============================] - 2s 95ms/step - loss: 0.0085 - val_loss: 0.0447\n",
            "Epoch 3/20\n",
            "19/19 [==============================] - 2s 93ms/step - loss: 0.0063 - val_loss: 0.0081\n",
            "Epoch 4/20\n",
            "19/19 [==============================] - 2s 94ms/step - loss: 0.0054 - val_loss: 0.0146\n",
            "Epoch 5/20\n",
            "19/19 [==============================] - 3s 147ms/step - loss: 0.0054 - val_loss: 0.0059\n",
            "Epoch 6/20\n",
            "19/19 [==============================] - 2s 91ms/step - loss: 0.0041 - val_loss: 0.0177\n",
            "Epoch 7/20\n",
            "19/19 [==============================] - 2s 92ms/step - loss: 0.0042 - val_loss: 0.0125\n",
            "Epoch 8/20\n",
            "19/19 [==============================] - 1s 51ms/step - loss: 0.0036 - val_loss: 0.0028\n",
            "Epoch 9/20\n",
            "19/19 [==============================] - 1s 51ms/step - loss: 0.0032 - val_loss: 0.0149\n",
            "Epoch 10/20\n",
            "19/19 [==============================] - 1s 51ms/step - loss: 0.0036 - val_loss: 0.0186\n",
            "Epoch 11/20\n",
            "19/19 [==============================] - 1s 52ms/step - loss: 0.0029 - val_loss: 0.0172\n",
            "Epoch 12/20\n",
            "19/19 [==============================] - 1s 52ms/step - loss: 0.0031 - val_loss: 0.0032\n",
            "Epoch 13/20\n",
            "19/19 [==============================] - 1s 52ms/step - loss: 0.0027 - val_loss: 0.0125\n",
            "Epoch 14/20\n",
            "19/19 [==============================] - 1s 75ms/step - loss: 0.0025 - val_loss: 0.0042\n",
            "Epoch 15/20\n",
            "19/19 [==============================] - 2s 81ms/step - loss: 0.0029 - val_loss: 0.0182\n",
            "Epoch 16/20\n",
            "19/19 [==============================] - 2s 82ms/step - loss: 0.0025 - val_loss: 0.0127\n",
            "Epoch 17/20\n",
            "19/19 [==============================] - 1s 60ms/step - loss: 0.0023 - val_loss: 0.0061\n",
            "Epoch 18/20\n",
            "19/19 [==============================] - 1s 53ms/step - loss: 0.0027 - val_loss: 0.0035\n",
            "Epoch 19/20\n",
            "19/19 [==============================] - 1s 51ms/step - loss: 0.0020 - val_loss: 0.0082\n",
            "Epoch 20/20\n",
            "19/19 [==============================] - 1s 51ms/step - loss: 0.0022 - val_loss: 0.0067\n"
          ]
        },
        {
          "output_type": "execute_result",
          "data": {
            "text/plain": [
              "<keras.callbacks.History at 0x7f45f9eb1cd0>"
            ]
          },
          "metadata": {},
          "execution_count": 34
        }
      ]
    },
    {
      "cell_type": "code",
      "source": [
        "pred = model.predict(x_test) # 테스트 데이터 예측\n",
        "\n",
        "fig = plt.figure(facecolor='white')\n",
        "ax = fig.add_subplot(111)\n",
        "ax.plot(y_test, label='True')\n",
        "ax.plot(pred, label='Prediction')\n",
        "ax.legend()\n",
        "plt.show()\n"
      ],
      "metadata": {
        "colab": {
          "base_uri": "https://localhost:8080/",
          "height": 283
        },
        "id": "DbYKFEzcldkI",
        "outputId": "31aa214d-aedf-48bb-89d2-a97a4264df04"
      },
      "execution_count": 35,
      "outputs": [
        {
          "output_type": "stream",
          "name": "stdout",
          "text": [
            "1/1 [==============================] - 2s 2s/step\n"
          ]
        },
        {
          "output_type": "display_data",
          "data": {
            "text/plain": [
              "<Figure size 432x288 with 1 Axes>"
            ],
            "image/png": "[encoded data removed]"
          },
          "metadata": {}
        }
      ]
    }
  ]
}