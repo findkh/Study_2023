{
  "nbformat": 4,
  "nbformat_minor": 0,
  "metadata": {
    "colab": {
      "provenance": [],
      "authorship_tag": "ABX9TyNBEKqlaL/yOsPWzEzXuLIT",
      "include_colab_link": true
    },
    "kernelspec": {
      "name": "python3",
      "display_name": "Python 3"
    },
    "language_info": {
      "name": "python"
    },
    "gpuClass": "standard"
  },
  "cells": [
    {
      "cell_type": "markdown",
      "metadata": {
        "id": "view-in-github",
        "colab_type": "text"
      },
      "source": [
        "<a href=\"https://colab.research.google.com/github/findkh/Colab_test/blob/main/korean_spellcheck.ipynb\" target=\"_parent\"><img src=\"https://colab.research.google.com/assets/colab-badge.svg\" alt=\"Open In Colab\"/></a>"
      ]
    },
    {
      "cell_type": "markdown",
      "source": [
        "py-hanspell  \n",
        "symspellpy  \n",
        "부산대\n"
      ],
      "metadata": {
        "id": "BFwbL3CuEqPZ"
      }
    },
    {
      "cell_type": "code",
      "execution_count": 1,
      "metadata": {
        "colab": {
          "base_uri": "https://localhost:8080/"
        },
        "id": "3gtRLpH5tcwH",
        "outputId": "48a7c6e3-fbb7-4579-a32f-f0b51ae186c6"
      },
      "outputs": [
        {
          "output_type": "stream",
          "name": "stdout",
          "text": [
            "Looking in indexes: https://pypi.org/simple, https://us-python.pkg.dev/colab-wheels/public/simple/\n",
            "Collecting git+https://github.com/ssut/py-hanspell.git\n",
            "  Cloning https://github.com/ssut/py-hanspell.git to /tmp/pip-req-build-8ybbbpm7\n",
            "  Running command git clone --filter=blob:none --quiet https://github.com/ssut/py-hanspell.git /tmp/pip-req-build-8ybbbpm7\n",
            "  Resolved https://github.com/ssut/py-hanspell.git to commit 8e993cf46f97f9d665c15633a0fc78ac1b727713\n",
            "  Preparing metadata (setup.py) ... \u001b[?25l\u001b[?25hdone\n",
            "Requirement already satisfied: requests in /usr/local/lib/python3.8/dist-packages (from py-hanspell==1.1) (2.25.1)\n",
            "Requirement already satisfied: urllib3<1.27,>=1.21.1 in /usr/local/lib/python3.8/dist-packages (from requests->py-hanspell==1.1) (1.24.3)\n",
            "Requirement already satisfied: chardet<5,>=3.0.2 in /usr/local/lib/python3.8/dist-packages (from requests->py-hanspell==1.1) (4.0.0)\n",
            "Requirement already satisfied: certifi>=2017.4.17 in /usr/local/lib/python3.8/dist-packages (from requests->py-hanspell==1.1) (2022.12.7)\n",
            "Requirement already satisfied: idna<3,>=2.5 in /usr/local/lib/python3.8/dist-packages (from requests->py-hanspell==1.1) (2.10)\n"
          ]
        }
      ],
      "source": [
        "!pip install git+https://github.com/ssut/py-hanspell.git"
      ]
    },
    {
      "cell_type": "code",
      "source": [
        "!pip install symspellpy jamo hangul_utils"
      ],
      "metadata": {
        "colab": {
          "base_uri": "https://localhost:8080/"
        },
        "id": "syWI23XZuBDz",
        "outputId": "62e55e4e-135a-41c4-a61f-a34341bede37"
      },
      "execution_count": 2,
      "outputs": [
        {
          "output_type": "stream",
          "name": "stdout",
          "text": [
            "Looking in indexes: https://pypi.org/simple, https://us-python.pkg.dev/colab-wheels/public/simple/\n",
            "Requirement already satisfied: symspellpy in /usr/local/lib/python3.8/dist-packages (6.7.0)\n",
            "Requirement already satisfied: jamo in /usr/local/lib/python3.8/dist-packages (0.4.1)\n",
            "Requirement already satisfied: hangul_utils in /usr/local/lib/python3.8/dist-packages (0.2)\n",
            "Requirement already satisfied: numpy>=1.13.1 in /usr/local/lib/python3.8/dist-packages (from symspellpy) (1.21.6)\n"
          ]
        }
      ]
    },
    {
      "cell_type": "code",
      "source": [
        "!pip install symspellpy-ko"
      ],
      "metadata": {
        "colab": {
          "base_uri": "https://localhost:8080/"
        },
        "id": "qRW0ho-FHBIp",
        "outputId": "d089fb41-2c89-4a5e-d88a-045ca01f9b4c"
      },
      "execution_count": 3,
      "outputs": [
        {
          "output_type": "stream",
          "name": "stdout",
          "text": [
            "Looking in indexes: https://pypi.org/simple, https://us-python.pkg.dev/colab-wheels/public/simple/\n",
            "Requirement already satisfied: symspellpy-ko in /usr/local/lib/python3.8/dist-packages (0.1.4)\n",
            "Requirement already satisfied: symspellpy==6.7.0 in /usr/local/lib/python3.8/dist-packages (from symspellpy-ko) (6.7.0)\n",
            "Requirement already satisfied: numpy>=1.13.1 in /usr/local/lib/python3.8/dist-packages (from symspellpy==6.7.0->symspellpy-ko) (1.21.6)\n"
          ]
        }
      ]
    },
    {
      "cell_type": "code",
      "source": [
        "import requests\n",
        "import json\n",
        "\n",
        "from hanspell import spell_checker\n",
        "import pkg_resources\n",
        "\n",
        "#from symspellpy import SymSpell, Verbosity\n",
        "from symspellpy_ko import KoSymSpell, Verbosity"
      ],
      "metadata": {
        "id": "DUytMnjWFvV5"
      },
      "execution_count": 11,
      "outputs": []
    },
    {
      "cell_type": "code",
      "source": [
        "\n",
        "text = '3세 남아가 변비가너무심해요 병원가도되나요 도와주세요'\n",
        "print('========= 원문 ======== : ', text)\n",
        "text = text.replace('\\n', '\\r\\n')\n",
        "# 2. 맞춤법 검사 요청 (requests)\n",
        "response = requests.post('http://164.125.7.61/speller/results', data={'text1': text})\n",
        "# 3. 응답에서 필요한 내용 추출 (html 파싱)\n",
        "data = response.text.split('data = [', 1)[-1].rsplit('];', 1)[0]\n",
        "# 4. 파이썬 딕셔너리 형식으로 변환\n",
        "data = json.loads(data)\n",
        "# 5. 교정 내용 출력\n",
        "# print(data['errInfo'])\n",
        "str = ''\n",
        "for i in data['errInfo']:\n",
        "    str += i['candWord'] + ' '\n",
        "\n",
        "print('부산대   띄어쓰기 결과  : ', str)\n",
        "\n",
        "# hanspell 맞춤법 검사 및 띄어쓰기 교정\n",
        "spelled_sent = spell_checker.check(text)\n",
        "checked_sent = spelled_sent.checked\n",
        "print(\"hanspell 띄어쓰기 결과  : \", checked_sent)\n",
        "\n",
        "# symspellpy 맞춤법 검사 및 띄어쓰기 교정\n",
        "sym_spell = KoSymSpell()\n",
        "sym_spell.load_korean_dictionary(decompose_korean=True, load_bigrams=True)\n",
        "for suggestion in sym_spell.lookup_compound(text, max_edit_distance=2):\n",
        "  print(\"symspellpy 띄어쓰기 결과: \", suggestion.term)\n"
      ],
      "metadata": {
        "colab": {
          "base_uri": "https://localhost:8080/"
        },
        "id": "g0yFpfXvuNjp",
        "outputId": "b42264fe-46b8-406b-abf1-19902c21fd37"
      },
      "execution_count": 16,
      "outputs": [
        {
          "output_type": "stream",
          "name": "stdout",
          "text": [
            "========= 원문 ======== :  3세 남아가 변비가너무심해요 병원가도되나요 도와주세요\n",
            "부산대   띄어쓰기 결과  :  변비가 너무 심해요 병원 가도 되나요 도와주세요. \n",
            "hanspell 띄어쓰기 결과  :  3세 남아가 변비가 너무 심해요 병원 가도 되나요 도와주세요\n",
            "symspellpy 띄어쓰기 결과:  세 남자가 변비가너무심해요 병원에 되나요 도와주세요\n"
          ]
        }
      ]
    },
    {
      "cell_type": "code",
      "source": [
        "text = '모유수유중에파마해도돼나요'\n",
        "print('========= 원문 ======== : ', text)\n",
        "text = text.replace('\\n', '\\r\\n')\n",
        "# 2. 맞춤법 검사 요청 (requests)\n",
        "response = requests.post('http://164.125.7.61/speller/results', data={'text1': text})\n",
        "# 3. 응답에서 필요한 내용 추출 (html 파싱)\n",
        "data = response.text.split('data = [', 1)[-1].rsplit('];', 1)[0]\n",
        "# 4. 파이썬 딕셔너리 형식으로 변환\n",
        "data = json.loads(data)\n",
        "# 5. 교정 내용 출력\n",
        "# print(data['errInfo'])\n",
        "str = ''\n",
        "for i in data['errInfo']:\n",
        "    str += i['candWord'] + ' '\n",
        "\n",
        "print('부산대   띄어쓰기 결과  : ', str)\n",
        "\n",
        "# hanspell 맞춤법 검사 및 띄어쓰기 교정\n",
        "spelled_sent = spell_checker.check(text)\n",
        "checked_sent = spelled_sent.checked\n",
        "print(\"hanspell 띄어쓰기 결과  : \", checked_sent)\n",
        "\n",
        "# symspellpy 맞춤법 검사 및 띄어쓰기 교정\n",
        "sym_spell = KoSymSpell()\n",
        "sym_spell.load_korean_dictionary(decompose_korean=True, load_bigrams=True)\n",
        "for suggestion in sym_spell.lookup_compound(text, max_edit_distance=2):\n",
        "  print(\"symspellpy 띄어쓰기 결과: \", suggestion.term)\n"
      ],
      "metadata": {
        "colab": {
          "base_uri": "https://localhost:8080/"
        },
        "outputId": "2abbc6e6-b9f6-4181-a4e6-652066227402",
        "id": "jGgWerXUJCXN"
      },
      "execution_count": 15,
      "outputs": [
        {
          "output_type": "stream",
          "name": "stdout",
          "text": [
            "=========원문======== :  모유수유중에파마해도돼나요\n",
            "부산대   띄어쓰기 결과:  모유 수유 중에 파마해도 되나요? \n",
            "hanspell 띄어쓰기 결과:  모유 수유 중에 파마해도 되나요\n",
            "symspellpy 띄어쓰기 결과:  모유수유중에파마해도돼나요\n"
          ]
        }
      ]
    },
    {
      "cell_type": "code",
      "source": [
        "text = '아기의똥횃수는알려주세요'\n",
        "print('========= 원문 ======== : ', text)\n",
        "text = text.replace('\\n', '\\r\\n')\n",
        "# 2. 맞춤법 검사 요청 (requests)\n",
        "response = requests.post('http://164.125.7.61/speller/results', data={'text1': text})\n",
        "# 3. 응답에서 필요한 내용 추출 (html 파싱)\n",
        "data = response.text.split('data = [', 1)[-1].rsplit('];', 1)[0]\n",
        "# 4. 파이썬 딕셔너리 형식으로 변환\n",
        "data = json.loads(data)\n",
        "# 5. 교정 내용 출력\n",
        "# print(data['errInfo'])\n",
        "str = ''\n",
        "for i in data['errInfo']:\n",
        "    str += i['candWord'] + ' '\n",
        "\n",
        "print('부산대   띄어쓰기 결과  : ', str)\n",
        "\n",
        "# hanspell 맞춤법 검사 및 띄어쓰기 교정\n",
        "spelled_sent = spell_checker.check(text)\n",
        "checked_sent = spelled_sent.checked\n",
        "print(\"hanspell 띄어쓰기 결과  : \", checked_sent)\n",
        "\n",
        "# symspellpy 맞춤법 검사 및 띄어쓰기 교정\n",
        "sym_spell = KoSymSpell()\n",
        "sym_spell.load_korean_dictionary(decompose_korean=True, load_bigrams=True)\n",
        "for suggestion in sym_spell.lookup_compound(text, max_edit_distance=2):\n",
        "  print(\"symspellpy 띄어쓰기 결과: \", suggestion.term)\n"
      ],
      "metadata": {
        "colab": {
          "base_uri": "https://localhost:8080/"
        },
        "outputId": "6d874657-cf10-473e-8438-07e90fe86a49",
        "id": "mkKSk0jRKCZY"
      },
      "execution_count": 17,
      "outputs": [
        {
          "output_type": "stream",
          "name": "stdout",
          "text": [
            "========= 원문 ======== :  아기의똥횃수는알려주세요\n",
            "부산대   띄어쓰기 결과  :  아기의 똥 횟수는 알려주세요 \n",
            "hanspell 띄어쓰기 결과  :  아기의똥횃수는알려주세요\n",
            "symspellpy 띄어쓰기 결과:  아기의똥횃수는알려주세요\n"
          ]
        }
      ]
    },
    {
      "cell_type": "code",
      "source": [
        "text = '애가코피를마구흘리면서보체고울어요 병원언제가요'\n",
        "print('========= 원문 ======== : ', text)\n",
        "text = text.replace('\\n', '\\r\\n')\n",
        "# 2. 맞춤법 검사 요청 (requests)\n",
        "response = requests.post('http://164.125.7.61/speller/results', data={'text1': text})\n",
        "# 3. 응답에서 필요한 내용 추출 (html 파싱)\n",
        "data = response.text.split('data = [', 1)[-1].rsplit('];', 1)[0]\n",
        "# 4. 파이썬 딕셔너리 형식으로 변환\n",
        "data = json.loads(data)\n",
        "# 5. 교정 내용 출력\n",
        "# print(data['errInfo'])\n",
        "str = ''\n",
        "for i in data['errInfo']:\n",
        "    str += i['candWord'] + ' '\n",
        "\n",
        "print('부산대   띄어쓰기 결과  : ', str)\n",
        "\n",
        "# hanspell 맞춤법 검사 및 띄어쓰기 교정\n",
        "spelled_sent = spell_checker.check(text)\n",
        "checked_sent = spelled_sent.checked\n",
        "print(\"hanspell 띄어쓰기 결과  : \", checked_sent)\n",
        "\n",
        "# symspellpy 맞춤법 검사 및 띄어쓰기 교정\n",
        "sym_spell = KoSymSpell()\n",
        "sym_spell.load_korean_dictionary(decompose_korean=True, load_bigrams=True)\n",
        "for suggestion in sym_spell.lookup_compound(text, max_edit_distance=2):\n",
        "  print(\"symspellpy 띄어쓰기 결과: \", suggestion.term)\n"
      ],
      "metadata": {
        "colab": {
          "base_uri": "https://localhost:8080/"
        },
        "outputId": "768efb55-534b-41c7-d3a0-b34d52e93375",
        "id": "1BglovdpKySE"
      },
      "execution_count": 21,
      "outputs": [
        {
          "output_type": "stream",
          "name": "stdout",
          "text": [
            "========= 원문 ======== :  애가코피를마구흘리면서보체고울어요 병원언제가요\n",
            "부산대   띄어쓰기 결과  :  애가 코피를 마구 흘리면서 보채고 울어요 병원 언제가요 \n",
            "hanspell 띄어쓰기 결과  :  애가 코피를 마구 흘리면서 보채고 울어요 병원 언제 가요\n",
            "symspellpy 띄어쓰기 결과:  애가코피를마구흘리면서보체고울어요 병원 언제요\n"
          ]
        }
      ]
    },
    {
      "cell_type": "code",
      "source": [
        "text = '애가수족구에걸린것같아여 열이염청높아요자꾸울어여'\n",
        "print('========= 원문 ======== : ', text)\n",
        "text = text.replace('\\n', '\\r\\n')\n",
        "# 2. 맞춤법 검사 요청 (requests)\n",
        "response = requests.post('http://164.125.7.61/speller/results', data={'text1': text})\n",
        "# 3. 응답에서 필요한 내용 추출 (html 파싱)\n",
        "data = response.text.split('data = [', 1)[-1].rsplit('];', 1)[0]\n",
        "# 4. 파이썬 딕셔너리 형식으로 변환\n",
        "data = json.loads(data)\n",
        "# 5. 교정 내용 출력\n",
        "# print(data['errInfo'])\n",
        "str = ''\n",
        "for i in data['errInfo']:\n",
        "    str += i['candWord'] + ' '\n",
        "\n",
        "print('부산대   띄어쓰기 결과  : ', str)\n",
        "\n",
        "# hanspell 맞춤법 검사 및 띄어쓰기 교정\n",
        "spelled_sent = spell_checker.check(text)\n",
        "checked_sent = spelled_sent.checked\n",
        "print(\"hanspell 띄어쓰기 결과  : \", checked_sent)\n",
        "\n",
        "# symspellpy 맞춤법 검사 및 띄어쓰기 교정\n",
        "sym_spell = KoSymSpell()\n",
        "sym_spell.load_korean_dictionary(decompose_korean=True, load_bigrams=True)\n",
        "for suggestion in sym_spell.lookup_compound(text, max_edit_distance=2):\n",
        "  print(\"symspellpy 띄어쓰기 결과: \", suggestion.term)\n"
      ],
      "metadata": {
        "colab": {
          "base_uri": "https://localhost:8080/"
        },
        "outputId": "9d7c70a7-55a9-42f3-a71d-3b09b8676757",
        "id": "SthxiS8uLUyH"
      },
      "execution_count": 24,
      "outputs": [
        {
          "output_type": "stream",
          "name": "stdout",
          "text": [
            "========= 원문 ======== :  애가수족구에걸린것같아여 열이염청높아요자꾸울어여\n",
            "부산대   띄어쓰기 결과  :  애가 수족 구에 걸린 것 같아서|애가 수족구병에 걸린 것 같아져 열이면 청 높아요 자꾸 울어서|열이어요 청 높아요 자꾸 울어서|열이면 청 높아요 자꾸 울어야|열이면 청 높아요 자꾸 울어요|열이어요 청 높아요 자꾸 울어야|열이어요 청 높아요 자꾸 울어요 \n",
            "hanspell 띄어쓰기 결과  :  애가 수족구에 걸린 것 같아요 열이 염청 높아요 자꾸 울어요\n",
            "symspellpy 띄어쓰기 결과:  애가수족구에걸린것같아여 열이염청높아요자꾸울어여\n"
          ]
        }
      ]
    },
    {
      "cell_type": "code",
      "source": [
        "text = '우연히 찍은 엑스레이상에서 심장.간이 크다는 소견으로 진료 봤었는데 .. 심장 잡음이 약하게 들인다는데.. 그럼 보통 어떤 질병이 의심 되는걸까여.?'\n",
        "print('========= 원문 ======== : ', text)\n",
        "text = text.replace('\\n', '\\r\\n')\n",
        "# 2. 맞춤법 검사 요청 (requests)\n",
        "response = requests.post('http://164.125.7.61/speller/results', data={'text1': text})\n",
        "# 3. 응답에서 필요한 내용 추출 (html 파싱)\n",
        "data = response.text.split('data = [', 1)[-1].rsplit('];', 1)[0]\n",
        "# 4. 파이썬 딕셔너리 형식으로 변환\n",
        "data = json.loads(data)\n",
        "# 5. 교정 내용 출력\n",
        "# print(data['errInfo'])\n",
        "str = ''\n",
        "for i in data['errInfo']:\n",
        "    str += i['candWord'] + ' '\n",
        "\n",
        "print('부산대   띄어쓰기 결과  : ', str)\n",
        "\n",
        "# hanspell 맞춤법 검사 및 띄어쓰기 교정\n",
        "spelled_sent = spell_checker.check(text)\n",
        "checked_sent = spelled_sent.checked\n",
        "print(\"hanspell 띄어쓰기 결과  : \", checked_sent)\n",
        "\n",
        "# symspellpy 맞춤법 검사 및 띄어쓰기 교정\n",
        "sym_spell = KoSymSpell()\n",
        "sym_spell.load_korean_dictionary(decompose_korean=True, load_bigrams=True)\n",
        "for suggestion in sym_spell.lookup_compound(text, max_edit_distance=2):\n",
        "  print(\"symspellpy 띄어쓰기 결과: \", suggestion.term)\n"
      ],
      "metadata": {
        "colab": {
          "base_uri": "https://localhost:8080/"
        },
        "outputId": "a950bc76-51e9-47b3-f73c-6550e6e3f7b6",
        "id": "gQ5XSuWPL-pm"
      },
      "execution_count": 25,
      "outputs": [
        {
          "output_type": "stream",
          "name": "stdout",
          "text": [
            "========= 원문 ======== :  우연히 찍은 엑스레이상에서 심장.간이 크다는 소견으로 진료 봤었는데 .. 심장 잡음이 약하게 들인다는데.. 그럼 보통 어떤 질병이 의심 되는걸까여.?\n",
            "부산대   띄어쓰기 결과  :  심장·간이 봤었는데…. 심장|봤었는데. 심장 잡음이 약하게 들린다는데 그럼, 보통|그러면 보통|그런 보통 의심되는 걸까요 \n",
            "hanspell 띄어쓰기 결과  :  우연히 찍은 엑스레이상에서 심장. 간이 크다는 소견으로 진료 봤었는데 .. 심장 잡음이 약하게 들인다는데.. 그럼 보통 어떤 질병이 의심되는 걸까요.?\n",
            "symspellpy 띄어쓰기 결과:  우연히 찍은 엑스 지상에서 심장 간이 크다는 손으로 진료 봤었는데 심장 잡음이 약하게 드 있다는데 그럼 보통 어떤 질병이 의심 된 걸까요\n"
          ]
        }
      ]
    },
    {
      "cell_type": "code",
      "source": [
        "text = '신생아 오늘 BCG 예방접종 맞고 왔는데 원래 밥도 잘먹는데 맞고와서 부터 6시간동안 잠을 계속자요 밥도 세시반에 조금 먹고 지금 20분정도 조금 먹고 또자요 괜찮은건가요'\n",
        "print('========= 원문 ======== : ', text)\n",
        "text = text.replace('\\n', '\\r\\n')\n",
        "# 2. 맞춤법 검사 요청 (requests)\n",
        "response = requests.post('http://164.125.7.61/speller/results', data={'text1': text})\n",
        "# 3. 응답에서 필요한 내용 추출 (html 파싱)\n",
        "data = response.text.split('data = [', 1)[-1].rsplit('];', 1)[0]\n",
        "# 4. 파이썬 딕셔너리 형식으로 변환\n",
        "data = json.loads(data)\n",
        "# 5. 교정 내용 출력\n",
        "# print(data['errInfo'])\n",
        "str = ''\n",
        "for i in data['errInfo']:\n",
        "    str += i['candWord'] + ' '\n",
        "\n",
        "print('부산대   띄어쓰기 결과  : ', str)\n",
        "\n",
        "# hanspell 맞춤법 검사 및 띄어쓰기 교정\n",
        "spelled_sent = spell_checker.check(text)\n",
        "checked_sent = spelled_sent.checked\n",
        "print(\"hanspell 띄어쓰기 결과  : \", checked_sent)\n",
        "\n",
        "# symspellpy 맞춤법 검사 및 띄어쓰기 교정\n",
        "sym_spell = KoSymSpell()\n",
        "sym_spell.load_korean_dictionary(decompose_korean=True, load_bigrams=True)\n",
        "for suggestion in sym_spell.lookup_compound(text, max_edit_distance=2):\n",
        "  print(\"symspellpy 띄어쓰기 결과: \", suggestion.term)\n"
      ],
      "metadata": {
        "colab": {
          "base_uri": "https://localhost:8080/"
        },
        "outputId": "a081c34c-28dd-45db-d21b-1730216b8bb9",
        "id": "4JHfo4wQMYxR"
      },
      "execution_count": 26,
      "outputs": [
        {
          "output_type": "stream",
          "name": "stdout",
          "text": [
            "========= 원문 ======== :  신생아 오늘 BCG 예방접종 맞고 왔는데 원래 밥도 잘먹는데 맞고와서 부터 6시간동안 잠을 계속자요 밥도 세시반에 조금 먹고 지금 20분정도 조금 먹고 또자요 괜찮은건가요\n",
            "부산대   띄어쓰기 결과  :  예방접종하고 잘 먹는데 맞고 와서 부처|부어|버터|부토|부 터 6시간 동안 계속 자요 세 시 반에 20분 정도 또 자요 괜찮은 건가요 \n",
            "hanspell 띄어쓰기 결과  :  신생아 오늘 BCG 예방접종 맞고 왔는데 원래 밥도 잘 먹는데 맞고 와서부터 6시간 동안 잠을 계속 저요 밥도 세시 반에 조금 먹고 지금 20분 정도 조금 먹고 또 자요 괜찮은 건가요\n",
            "symspellpy 띄어쓰기 결과:  신생아 오늘 b가 예방 전쟁 맞고 왔는데 원래 밥도 저 먹는데 마 도와서 부터 시간동안 잠을 계속해요 밥도 제시간에 조금 먹고 지금 그 운전도 조금 먹고 자요 괜찮아 된건가요\n"
          ]
        }
      ]
    },
    {
      "cell_type": "code",
      "source": [
        "text = '생후 21일된 남자 아가를 키우고있는 부모입니다. 아가가 태어나고 아이스크린 검사를 받고 정상판정을받았는데요. 그럼 유전적질환에서는 걱정안해도되는건가요?'\n",
        "print('========= 원문 ======== : ', text)\n",
        "text = text.replace('\\n', '\\r\\n')\n",
        "# 2. 맞춤법 검사 요청 (requests)\n",
        "response = requests.post('http://164.125.7.61/speller/results', data={'text1': text})\n",
        "# 3. 응답에서 필요한 내용 추출 (html 파싱)\n",
        "data = response.text.split('data = [', 1)[-1].rsplit('];', 1)[0]\n",
        "# 4. 파이썬 딕셔너리 형식으로 변환\n",
        "data = json.loads(data)\n",
        "# 5. 교정 내용 출력\n",
        "# print(data['errInfo'])\n",
        "str = ''\n",
        "for i in data['errInfo']:\n",
        "    str += i['candWord'] + ' '\n",
        "\n",
        "print('부산대   띄어쓰기 결과  : ', str)\n",
        "\n",
        "# hanspell 맞춤법 검사 및 띄어쓰기 교정\n",
        "spelled_sent = spell_checker.check(text)\n",
        "checked_sent = spelled_sent.checked\n",
        "print(\"hanspell 띄어쓰기 결과  : \", checked_sent)\n",
        "\n",
        "# symspellpy 맞춤법 검사 및 띄어쓰기 교정\n",
        "sym_spell = KoSymSpell()\n",
        "sym_spell.load_korean_dictionary(decompose_korean=True, load_bigrams=True)\n",
        "for suggestion in sym_spell.lookup_compound(text, max_edit_distance=2):\n",
        "  print(\"symspellpy 띄어쓰기 결과: \", suggestion.term)\n"
      ],
      "metadata": {
        "colab": {
          "base_uri": "https://localhost:8080/"
        },
        "outputId": "dbb9eb51-dc47-4b51-be67-1aaacf060c19",
        "id": "g5kystBlNB_t"
      },
      "execution_count": 27,
      "outputs": [
        {
          "output_type": "stream",
          "name": "stdout",
          "text": [
            "========= 원문 ======== :  생후 21일된 남자 아가를 키우고있는 부모입니다. 아가가 태어나고 아이스크린 검사를 받고 정상판정을받았는데요. 그럼 유전적질환에서는 걱정안해도되는건가요?\n",
            "부산대   띄어쓰기 결과  :  21일 된|21 일된 키우고 있는|키우는|키운 아이스크림 정상 판정을 받았는데요 그럼, 유전적 질환에서는|그러면 유전적 질환에서는|그런 유전적 질환에서는 걱정 안 해도 되는 건가요 \n",
            "hanspell 띄어쓰기 결과  :  생후 21일 된 남자 아가를 키우고 있는 부모입니다. 아가가 태어나고 아이스크린 검사를 받고 정상 판정을 받았는데요. 그럼 유전적 질환에서는 걱정 안 해도 되는 건가요?\n",
            "symspellpy 띄어쓰기 결과:  생후 · 일단 남자 아기를 키 여기있는 보입니다 아빠가 태어나고 아이스크림 검사를 받고 정상판정을받았는데요 그럼 유전적질환에서는 걱정안해도되는건가요\n"
          ]
        }
      ]
    }
  ]
}