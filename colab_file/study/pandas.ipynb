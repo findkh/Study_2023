{
  "nbformat": 4,
  "nbformat_minor": 0,
  "metadata": {
    "colab": {
      "provenance": [],
      "authorship_tag": "ABX9TyOKrV3oSyEewHry/8OSp5AK"
    },
    "kernelspec": {
      "name": "python3",
      "display_name": "Python 3"
    },
    "language_info": {
      "name": "python"
    },
    "accelerator": "GPU",
    "gpuClass": "standard"
  },
  "cells": [
    {
      "cell_type": "code",
      "execution_count": 1,
      "metadata": {
        "colab": {
          "base_uri": "https://localhost:8080/"
        },
        "id": "7DqK1BxY08nL",
        "outputId": "87b0faed-43fc-4bd7-cc4f-d6062f83973d"
      },
      "outputs": [
        {
          "output_type": "stream",
          "name": "stdout",
          "text": [
            "Looking in indexes: https://pypi.org/simple, https://us-python.pkg.dev/colab-wheels/public/simple/\n",
            "Requirement already satisfied: pandas in /usr/local/lib/python3.8/dist-packages (1.3.5)\n",
            "Requirement already satisfied: pytz>=2017.3 in /usr/local/lib/python3.8/dist-packages (from pandas) (2022.7)\n",
            "Requirement already satisfied: numpy>=1.17.3 in /usr/local/lib/python3.8/dist-packages (from pandas) (1.21.6)\n",
            "Requirement already satisfied: python-dateutil>=2.7.3 in /usr/local/lib/python3.8/dist-packages (from pandas) (2.8.2)\n",
            "Requirement already satisfied: six>=1.5 in /usr/local/lib/python3.8/dist-packages (from python-dateutil>=2.7.3->pandas) (1.15.0)\n"
          ]
        }
      ],
      "source": [
        "!pip install pandas"
      ]
    },
    {
      "cell_type": "code",
      "source": [
        "import pandas as pd"
      ],
      "metadata": {
        "id": "siG8mg2H3iRN"
      },
      "execution_count": 2,
      "outputs": []
    },
    {
      "cell_type": "markdown",
      "source": [
        "### 시리즈\n",
        "-> 1차원 배열의 값에 각 값에 대응하는 인덱스를 부여할 수 있는 구조"
      ],
      "metadata": {
        "id": "tx3Pux353ncW"
      }
    },
    {
      "cell_type": "code",
      "source": [
        "sr = pd.Series([100000, 50000, 10000], index=['a', 'b', 'c'])\n",
        "print('시리즈 출력: ')\n",
        "print(sr)\n",
        "print('시리즈 값: {}'.format(sr.values))\n",
        "print('시리즈 인덱스: {}'.format(sr.index))"
      ],
      "metadata": {
        "colab": {
          "base_uri": "https://localhost:8080/"
        },
        "id": "WOPy4zSm32a_",
        "outputId": "8832860d-a876-421a-a6fa-6013059e811c"
      },
      "execution_count": 5,
      "outputs": [
        {
          "output_type": "stream",
          "name": "stdout",
          "text": [
            "시리즈 출력: \n",
            "a    100000\n",
            "b     50000\n",
            "c     10000\n",
            "dtype: int64\n",
            "시리즈 값: [100000  50000  10000]\n",
            "시리즈 인덱스: Index(['a', 'b', 'c'], dtype='object')\n"
          ]
        }
      ]
    },
    {
      "cell_type": "markdown",
      "source": [
        "### 데이터프레임\n",
        "-> 2차원 리스트를 매개변수로 전달한다.  \n",
        "2차원이므로 행방향 인덱스와 열방향 인덱스가 존재한다.  \n",
        "열, 인덱스, 값으로 구성된다.  "
      ],
      "metadata": {
        "id": "QrWWmbfw4bBn"
      }
    },
    {
      "cell_type": "code",
      "source": [
        "values = [[1,2,3],[4,5,6],[7,8,9]]\n",
        "index = ['one', 'two', 'three']\n",
        "columns = ['A', 'B', 'C']\n",
        "\n",
        "df = pd.DataFrame(values, index, columns)\n",
        "\n",
        "print('데이터프레임 출력')\n",
        "print(df)\n",
        "\n",
        "print('데이터프레임 인덱스 {}'.format(df.index))\n",
        "print('데이터프레임 컬럼 {}'.format(df.columns))\n",
        "print('데이터프레임 값')\n",
        "print(df.values)"
      ],
      "metadata": {
        "colab": {
          "base_uri": "https://localhost:8080/"
        },
        "id": "Rdfwnn-h4mWk",
        "outputId": "6ceb7e73-9af3-4bd6-b25f-13f80853f350"
      },
      "execution_count": 7,
      "outputs": [
        {
          "output_type": "stream",
          "name": "stdout",
          "text": [
            "데이터프레임 출력\n",
            "       A  B  C\n",
            "one    1  2  3\n",
            "two    4  5  6\n",
            "three  7  8  9\n",
            "데이터프레임 인덱스 Index(['one', 'two', 'three'], dtype='object')\n",
            "데이터프레임 컬럼 Index(['A', 'B', 'C'], dtype='object')\n",
            "데이터프레임 값\n",
            "[[1 2 3]\n",
            " [4 5 6]\n",
            " [7 8 9]]\n"
          ]
        }
      ]
    },
    {
      "cell_type": "markdown",
      "source": [
        "### 데이터프레임의 생성\n",
        "-> 데이터프레임은 List, Series, dict, Numpy의 ndarrys, 또다른 데이터프레임으로부터 생성할 수 있다."
      ],
      "metadata": {
        "id": "ER-E_Qss5RU4"
      }
    },
    {
      "cell_type": "code",
      "source": [
        "# 리스트로 생성\n",
        "data = [\n",
        "    ['1000', 'A', 123],\n",
        "    ['1001', 'B', 456],\n",
        "    ['1002', 'C', 789],\n",
        "    ['1003', 'D', 111],\n",
        "    ['1004', 'E', 222],\n",
        "    ['1005', 'F', 333]\n",
        "]\n",
        "\n",
        "df = pd.DataFrame(data)\n",
        "print(df)\n",
        "\n",
        "print()\n",
        "print()\n",
        "\n",
        "# 생성된 데이터프레임에 열을 지정\n",
        "df = pd.DataFrame(data, columns=['col1', 'col2', 'col3'])\n",
        "print(df)"
      ],
      "metadata": {
        "colab": {
          "base_uri": "https://localhost:8080/"
        },
        "id": "DKITP8Gv5bpT",
        "outputId": "d2c2268a-d154-452d-fe2d-ae062a14028c"
      },
      "execution_count": 12,
      "outputs": [
        {
          "output_type": "stream",
          "name": "stdout",
          "text": [
            "      0  1    2\n",
            "0  1000  A  123\n",
            "1  1001  B  456\n",
            "2  1002  C  789\n",
            "3  1003  D  111\n",
            "4  1004  E  222\n",
            "5  1005  F  333\n",
            "\n",
            "\n",
            "   col1 col2  col3\n",
            "0  1000    A   123\n",
            "1  1001    B   456\n",
            "2  1002    C   789\n",
            "3  1003    D   111\n",
            "4  1004    E   222\n",
            "5  1005    F   333\n"
          ]
        }
      ]
    },
    {
      "cell_type": "code",
      "source": [
        "# 딕셔너리로 생성\n",
        "data = {\n",
        "    'col1' : ['1000', '1001', '1002', '1003', '1004', '1005'],\n",
        "    'col2' : ['A', 'B', 'C', 'D', 'E', 'F'],\n",
        "    'col3' : [123, 456, 789, 111, 222, 333]\n",
        "}\n",
        "\n",
        "df = pd.DataFrame(data)\n",
        "print(df)"
      ],
      "metadata": {
        "colab": {
          "base_uri": "https://localhost:8080/"
        },
        "id": "_jf-9aty6Kry",
        "outputId": "45cf834c-603a-46a9-cda9-c4195d512094"
      },
      "execution_count": 13,
      "outputs": [
        {
          "output_type": "stream",
          "name": "stdout",
          "text": [
            "   col1 col2  col3\n",
            "0  1000    A   123\n",
            "1  1001    B   456\n",
            "2  1002    C   789\n",
            "3  1003    D   111\n",
            "4  1004    E   222\n",
            "5  1005    F   333\n"
          ]
        }
      ]
    },
    {
      "cell_type": "markdown",
      "source": [
        "### 데이터프레임 조회\n",
        "df.head(n) : 앞부분 n개만 보기  \n",
        "df.tail(n) : 뒷부분을 n개만 보기  \n",
        "df['열이름'] : 해당되는 열 확인  "
      ],
      "metadata": {
        "id": "s1JHQpGI6wmx"
      }
    },
    {
      "cell_type": "code",
      "source": [
        "print(df.head(3))\n",
        "print()\n",
        "print()\n",
        "\n",
        "print(df.tail(3))\n",
        "print()\n",
        "print()\n",
        "\n",
        "print(df['col2'])"
      ],
      "metadata": {
        "colab": {
          "base_uri": "https://localhost:8080/"
        },
        "id": "Qy-ZP5Z76v6x",
        "outputId": "dc6b66ca-74e5-4288-dd19-5ca882fdebf1"
      },
      "execution_count": 15,
      "outputs": [
        {
          "output_type": "stream",
          "name": "stdout",
          "text": [
            "   col1 col2  col3\n",
            "0  1000    A   123\n",
            "1  1001    B   456\n",
            "2  1002    C   789\n",
            "\n",
            "\n",
            "   col1 col2  col3\n",
            "3  1003    D   111\n",
            "4  1004    E   222\n",
            "5  1005    F   333\n",
            "\n",
            "\n",
            "0    A\n",
            "1    B\n",
            "2    C\n",
            "3    D\n",
            "4    E\n",
            "5    F\n",
            "Name: col2, dtype: object\n"
          ]
        }
      ]
    }
  ]
}